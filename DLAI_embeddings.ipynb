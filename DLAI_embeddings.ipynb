{
 "cells": [
  {
   "cell_type": "code",
   "execution_count": 9,
   "metadata": {},
   "outputs": [],
   "source": [
    "from transformers import AutoModel, AutoTokenizer\n",
    "from sklearn.metrics.pairwise import cosine_similarity\n",
    "from sklearn.decomposition import PCA\n",
    "import torch\n",
    "from torch import Tensor\n",
    "from rich import print\n",
    "import torch\n",
    "from time import perf_counter\n",
    "from typing import List, Tuple, Union, Callable\n",
    "import numpy as np\n",
    "from icecream import ic\n",
    "\n",
    "from transformers import BertModel, BertTokenizer\n",
    "from sentence_transformers import SentenceTransformer\n",
    "import openai\n",
    "import os\n",
    "\n",
    "\n",
    "# now plot the embeddings\n",
    "import matplotlib.pyplot as plt\n",
    "import mplcursors\n",
    "\n",
    "%matplotlib ipympl\n",
    "\n",
    "from utils import plot_2D\n",
    "from dotenv import load_dotenv\n",
    "load_dotenv()\n",
    "\n",
    "from tenacity import retry, stop_after_attempt, wait_random_exponential"
   ]
  },
  {
   "cell_type": "code",
   "execution_count": 11,
   "metadata": {},
   "outputs": [],
   "source": [
    "openai.api_key = os.getenv('OPENAI_API_KEY')\n",
    "# OPENAI_API_KEY = os.getenv('OPENAI_API_KEY')\n"
   ]
  },
  {
   "cell_type": "code",
   "execution_count": 2,
   "metadata": {},
   "outputs": [],
   "source": [
    "# define model\n",
    "model_name = \"bert-base-uncased\"\n",
    "\n",
    "# define the tokenizer and the model\n",
    "tokenizer = BertTokenizer.from_pretrained(model_name)\n",
    "bert_model = BertModel.from_pretrained(model_name)"
   ]
  },
  {
   "cell_type": "code",
   "execution_count": 3,
   "metadata": {},
   "outputs": [],
   "source": [
    "# test data for the exploration\n",
    "in_1 = \"Missing flamingo discovered at swimming pool\"\n",
    "\n",
    "in_2 = \"Sea otter spotted on surfboard by beach\"\n",
    "\n",
    "in_3 = \"Baby panda enjoys boat ride\"\n",
    "\n",
    "in_4 = \"Breakfast themed food truck beloved by all!\"\n",
    "\n",
    "in_5 = \"New curry restaurant aims to please!\"\n",
    "\n",
    "in_6 = \"Python developers are wonderful people\"\n",
    "\n",
    "in_7 = \"TypeScript, C++ or Java? All are great!\"\n",
    "input_text_lst_news = [in_1, in_2, in_3, in_4, in_5, in_6, in_7]"
   ]
  },
  {
   "attachments": {},
   "cell_type": "markdown",
   "metadata": {},
   "source": [
    "## Sentence Embedding with Bert"
   ]
  },
  {
   "cell_type": "code",
   "execution_count": 4,
   "metadata": {},
   "outputs": [],
   "source": [
    "def bert_sentence_embed(input_sentence: str, model: BertModel = bert_model, word_ave: bool = True) -> Tensor:\n",
    "    \"\"\"A function to generate sentence embedding using Bert\n",
    "\n",
    "    Args:\n",
    "        input_sentence (str): The sentence to embed\n",
    "\n",
    "    Returns:\n",
    "        Tensor: Tensor output for the sentence embedding\n",
    "    \"\"\"\n",
    "\n",
    "    temp_list = []\n",
    "    for text in input_sentence:\n",
    "        input_ids = tokenizer.encode(text, add_special_tokens=True, return_tensors='pt')\n",
    "        # input_ids = tokenizer.encode(input_text_lst_news[0], return_tensors='pt')\n",
    "        with torch.no_grad():\n",
    "            outputs = model(input_ids)\n",
    "\n",
    "            if word_ave:\n",
    "                sentence_embedding = outputs.last_hidden_state.mean(dim=1)\n",
    "            else:\n",
    "                sentence_embedding = outputs.last_hidden_state\n",
    "                sentence_embedding = sentence_embedding[0, 0, :].reshape(1, -1)\n",
    "            temp_list.append(sentence_embedding)\n",
    "    concatenated_sent_tensor = torch.cat(temp_list)\n",
    "    # # Convert the concatenated tensor to a numpy array\n",
    "    sent_numpy_array = concatenated_sent_tensor.numpy()\n",
    "\n",
    "    # # Reshape the numpy array into a 1 by 768 array\n",
    "    sent_numpy_array = sent_numpy_array.reshape(len(temp_list), temp_list[0].shape[1])\n",
    "    return sent_numpy_array"
   ]
  },
  {
   "cell_type": "code",
   "execution_count": 5,
   "metadata": {},
   "outputs": [],
   "source": [
    "def create_sentence_embedding(input_text: List[str],model:Union[Callable, object], \n",
    "bert: bool = True, word_ave: bool = True) -> np.array:\n",
    "    \"\"\"A function to create sentence embedding from a list of text using \n",
    "        Bert or other open source model\n",
    "    Args:\n",
    "        input_text (List): List of sentence to create embedding for\n",
    "\n",
    "    Returns:\n",
    "        np.array: np.array for all of the the sentence embedding\n",
    "    \"\"\"\n",
    "    embed_list = []\n",
    "    # model_name = 'bert-base-uncased'\n",
    "    if bert:\n",
    "        sent_numpy_array = bert_sentence_embed(input_text_lst_news, model, word_ave)\n",
    "        \n",
    "    else:\n",
    "        for text in input_text_lst_news:\n",
    "            sen_emb = model.encode(text)\n",
    "            embed_list.append(sen_emb)\n",
    "        concatenated_sent_tensor = np.concatenate(embed_list)\n",
    "\n",
    "        # Reshape the numpy array into a 1 by 768 array\n",
    "        sent_numpy_array = concatenated_sent_tensor.reshape(len(embed_list), len(embed_list[0]))\n",
    "\n",
    "    # Perform PCA for 2D visualization\n",
    "    # convert the 768-dimensional array to 2-dimentional array for plotting purpose\n",
    "    PCA_model = PCA(n_components=2)\n",
    "    PCA_model.fit(sent_numpy_array)\n",
    "    sent_low_dim_array = PCA_model.transform(sent_numpy_array)\n",
    "\n",
    "    return sent_numpy_array, sent_low_dim_array"
   ]
  },
  {
   "cell_type": "code",
   "execution_count": null,
   "metadata": {},
   "outputs": [],
   "source": [
    "model = SentenceTransformer(\"all-mpnet-base-v2\")\n",
    "# model = SentenceTransformer('all-MiniLM-L6-v2')\n",
    "_, low_dim= create_sentence_embedding(input_text_lst_news, model, bert = False)\n",
    "plot_2D(low_dim[:,0], low_dim[:,1], input_text_lst_news)"
   ]
  },
  {
   "cell_type": "code",
   "execution_count": null,
   "metadata": {},
   "outputs": [],
   "source": [
    "model = SentenceTransformer(\"all-mpnet-base-v2\")\n",
    "# model = SentenceTransformer('all-MiniLM-L6-v2')\n",
    "_, low_dim= create_sentence_embedding(input_text_lst_news, model, bert = False)\n",
    "plot_2D(low_dim[:,0], low_dim[:,1], input_text_lst_news)"
   ]
  },
  {
   "attachments": {},
   "cell_type": "markdown",
   "metadata": {},
   "source": [
    "## Openai Sentence embedding"
   ]
  },
  {
   "cell_type": "code",
   "execution_count": 46,
   "metadata": {},
   "outputs": [],
   "source": [
    "@retry(wait=wait_random_exponential(min=1, max=20), stop=stop_after_attempt(6))\n",
    "def get_embedding(text: str, model=\"text-similarity-davinci-001\", **kwargs) -> List[float]:\n",
    "\n",
    "    # replace newlines, which can negatively affect performance.\n",
    "    text = text.replace(\"\\n\", \" \")\n",
    "\n",
    "    response = openai.embeddings.create(input=[text], model=model, **kwargs)\n",
    "\n",
    "    return response.data[0].embedding\n",
    "\n",
    "\n",
    "@retry(wait=wait_random_exponential(min=1, max=20), stop=stop_after_attempt(6))\n",
    "def get_embeddings(\n",
    "    list_of_text: List[str], model=\"text-similarity-babbage-001\", **kwargs\n",
    ") -> List[List[float]]:\n",
    "    assert len(list_of_text) <= 2048, \"The batch size should not be larger than 2048.\"\n",
    "\n",
    "    # replace newlines, which can negatively affect performance.\n",
    "    list_of_text = [text.replace(\"\\n\", \" \") for text in list_of_text]\n",
    "\n",
    "    data = openai.embeddings.create(input=list_of_text, model=model, **kwargs).data\n",
    "    embed_list = [d.embedding for d in data]\n",
    "    embed_array = np.array(embed_list)\n",
    "\n",
    "    # Convert to 2-dimensional vector to be able to visualize the embeddings\n",
    "    PCA_model = PCA(n_components=2)\n",
    "    PCA_model.fit(embed_array)\n",
    "    sent_low_dim_array = PCA_model.transform(embed_array)\n",
    "    return embed_array, sent_low_dim_array\n"
   ]
  },
  {
   "cell_type": "code",
   "execution_count": 6,
   "metadata": {},
   "outputs": [],
   "source": [
    "# embedding model parameters\n",
    "embedding_model = \"text-embedding-ada-002\"\n",
    "embedding_encoding = \"cl100k_base\"  # this the encoding for text-embedding-ada-002\n",
    "max_tokens = 8000  # the maximum for text-embedding-ada-002 is 8191\n"
   ]
  },
  {
   "cell_type": "code",
   "execution_count": 47,
   "metadata": {},
   "outputs": [],
   "source": [
    "# openai.api_key = os.getenv(\"OPENAI_API_KEY\")\n",
    "_, low_dim_response = get_embeddings(input_text_lst_news)"
   ]
  },
  {
   "cell_type": "code",
   "execution_count": 48,
   "metadata": {},
   "outputs": [
    {
     "data": {
      "application/vnd.jupyter.widget-view+json": {
       "model_id": "9912c4a641dd4ea29e93b707db9bb67c",
       "version_major": 2,
       "version_minor": 0
      },
      "image/png": "[encoded data removed]",
      "text/html": [
       "\n",
       "            <div style=\"display: inline-block;\">\n",
       "                <div class=\"jupyter-widgets widget-label\" style=\"text-align: center;\">\n",
       "                    Figure\n",
       "                </div>\n",
       "                <img src='data:image/png;base64,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' width=640.0/>\n",
       "            </div>\n",
       "        "
      ],
      "text/plain": [
       "Canvas(toolbar=Toolbar(toolitems=[('Home', 'Reset original view', 'home', 'home'), ('Back', 'Back to previous …"
      ]
     },
     "metadata": {},
     "output_type": "display_data"
    }
   ],
   "source": [
    "plot_2D(low_dim_response[:,0], low_dim_response[:,1], input_text_lst_news)"
   ]
  }
 ],
 "metadata": {
  "kernelspec": {
   "display_name": "Python 3",
   "language": "python",
   "name": "python3"
  },
  "language_info": {
   "codemirror_mode": {
    "name": "ipython",
    "version": 3
   },
   "file_extension": ".py",
   "mimetype": "text/x-python",
   "name": "python",
   "nbconvert_exporter": "python",
   "pygments_lexer": "ipython3",
   "version": "3.10.10"
  },
  "orig_nbformat": 4
 },
 "nbformat": 4,
 "nbformat_minor": 2
}
