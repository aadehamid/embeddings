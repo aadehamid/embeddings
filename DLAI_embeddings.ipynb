{
 "cells": [
  {
   "cell_type": "code",
   "execution_count": 13,
   "metadata": {},
   "outputs": [],
   "source": [
    "from transformers import AutoModel, AutoTokenizer\n",
    "from sklearn.metrics.pairwise import cosine_similarity\n",
    "from sklearn.decomposition import PCA\n",
    "import torch\n",
    "from torch import Tensor\n",
    "from rich import print\n",
    "import torch\n",
    "from time import perf_counter\n",
    "from typing import List, Tuple\n",
    "import numpy as np\n",
    "\n",
    "from transformers import BertModel, BertTokenizer\n",
    "\n",
    "\n",
    "# now plot the embeddings\n",
    "import matplotlib.pyplot as plt\n",
    "import mplcursors\n",
    "\n",
    "%matplotlib ipympl\n",
    "\n",
    "from utils import plot_2D"
   ]
  },
  {
   "cell_type": "code",
   "execution_count": 4,
   "metadata": {},
   "outputs": [
    {
     "data": {
      "application/vnd.jupyter.widget-view+json": {
       "model_id": "d933fbe9e2e34cf0959ccffbb0b88000",
       "version_major": 2,
       "version_minor": 0
      },
      "text/plain": [
       "tokenizer_config.json:   0%|          | 0.00/28.0 [00:00<?, ?B/s]"
      ]
     },
     "metadata": {},
     "output_type": "display_data"
    },
    {
     "data": {
      "application/vnd.jupyter.widget-view+json": {
       "model_id": "0c1de1fba81f415ab4112a25c1d619f9",
       "version_major": 2,
       "version_minor": 0
      },
      "text/plain": [
       "vocab.txt:   0%|          | 0.00/232k [00:00<?, ?B/s]"
      ]
     },
     "metadata": {},
     "output_type": "display_data"
    },
    {
     "data": {
      "application/vnd.jupyter.widget-view+json": {
       "model_id": "8587a2012abc4d0787b837966adabc73",
       "version_major": 2,
       "version_minor": 0
      },
      "text/plain": [
       "tokenizer.json:   0%|          | 0.00/466k [00:00<?, ?B/s]"
      ]
     },
     "metadata": {},
     "output_type": "display_data"
    },
    {
     "data": {
      "application/vnd.jupyter.widget-view+json": {
       "model_id": "48b9a05fab104b6683b5783d71dbf695",
       "version_major": 2,
       "version_minor": 0
      },
      "text/plain": [
       "config.json:   0%|          | 0.00/570 [00:00<?, ?B/s]"
      ]
     },
     "metadata": {},
     "output_type": "display_data"
    },
    {
     "data": {
      "application/vnd.jupyter.widget-view+json": {
       "model_id": "49bff4b0f43d4687a710c59cca351035",
       "version_major": 2,
       "version_minor": 0
      },
      "text/plain": [
       "model.safetensors:   0%|          | 0.00/440M [00:00<?, ?B/s]"
      ]
     },
     "metadata": {},
     "output_type": "display_data"
    }
   ],
   "source": [
    "# define model\n",
    "model_name = \"bert-base-uncased\"\n",
    "\n",
    "# define the tokenizer and the model\n",
    "tokenizer = BertTokenizer.from_pretrained(model_name)\n",
    "model = BertModel.from_pretrained(model_name)"
   ]
  },
  {
   "cell_type": "code",
   "execution_count": 3,
   "metadata": {},
   "outputs": [],
   "source": [
    "# test data for the exploration\n",
    "in_1 = \"Missing flamingo discovered at swimming pool\"\n",
    "\n",
    "in_2 = \"Sea otter spotted on surfboard by beach\"\n",
    "\n",
    "in_3 = \"Baby panda enjoys boat ride\"\n",
    "\n",
    "in_4 = \"Breakfast themed food truck beloved by all!\"\n",
    "\n",
    "in_5 = \"New curry restaurant aims to please!\"\n",
    "\n",
    "in_6 = \"Python developers are wonderful people\"\n",
    "\n",
    "in_7 = \"TypeScript, C++ or Java? All are great!\"\n",
    "input_text_lst_news = [in_1, in_2, in_3, in_4, in_5, in_6, in_7]"
   ]
  },
  {
   "attachments": {},
   "cell_type": "markdown",
   "metadata": {},
   "source": [
    "## Sentence Embedding with Bert"
   ]
  },
  {
   "cell_type": "code",
   "execution_count": 7,
   "metadata": {},
   "outputs": [],
   "source": [
    "def bert_sentence_embed(input_sentence: str) -> Tensor:\n",
    "    \"\"\"A function to generate sentence embedding using Bert\n",
    "\n",
    "    Args:\n",
    "        input_sentence (str): The sentence to embed\n",
    "\n",
    "    Returns:\n",
    "        Tensor: Tensor output for the sentence embedding\n",
    "    \"\"\"\n",
    "\n",
    "    input_ids = tokenizer.encode(input_sentence, add_special_tokens=True, return_tensors='pt')\n",
    "    with torch.no_grad():\n",
    "        outputs = model(input_ids)\n",
    "        sentence_embedding = outputs.last_hidden_state.mean(dim=1)\n",
    "    return sentence_embedding"
   ]
  },
  {
   "cell_type": "code",
   "execution_count": 9,
   "metadata": {},
   "outputs": [
    {
     "data": {
      "text/html": [
       "<pre style=\"white-space:pre;overflow-x:auto;line-height:normal;font-family:Menlo,'DejaVu Sans Mono',consolas,'Courier New',monospace\"><span style=\"font-weight: bold\">[</span><span style=\"color: #008080; text-decoration-color: #008080; font-weight: bold\">-0.02826825</span> <span style=\"color: #008080; text-decoration-color: #008080; font-weight: bold\">-0.433928</span>   <span style=\"color: #008080; text-decoration-color: #008080; font-weight: bold\">-0.06237846</span>  <span style=\"color: #008080; text-decoration-color: #008080; font-weight: bold\">0.11480708</span>  <span style=\"color: #008080; text-decoration-color: #008080; font-weight: bold\">0.47438848</span> <span style=\"color: #008080; text-decoration-color: #008080; font-weight: bold\">-0.07815573</span>\n",
       "  <span style=\"color: #008080; text-decoration-color: #008080; font-weight: bold\">0.45150292</span>  <span style=\"color: #008080; text-decoration-color: #008080; font-weight: bold\">0.45011812</span> <span style=\"color: #008080; text-decoration-color: #008080; font-weight: bold\">-0.34748185</span>  <span style=\"color: #008080; text-decoration-color: #008080; font-weight: bold\">0.02657982</span><span style=\"font-weight: bold\">]</span>\n",
       "</pre>\n"
      ],
      "text/plain": [
       "\u001b[1m[\u001b[0m\u001b[1;36m-0.02826825\u001b[0m \u001b[1;36m-0.433928\u001b[0m   \u001b[1;36m-0.06237846\u001b[0m  \u001b[1;36m0.11480708\u001b[0m  \u001b[1;36m0.47438848\u001b[0m \u001b[1;36m-0.07815573\u001b[0m\n",
       "  \u001b[1;36m0.45150292\u001b[0m  \u001b[1;36m0.45011812\u001b[0m \u001b[1;36m-0.34748185\u001b[0m  \u001b[1;36m0.02657982\u001b[0m\u001b[1m]\u001b[0m\n"
      ]
     },
     "metadata": {},
     "output_type": "display_data"
    }
   ],
   "source": [
    "embed_list = []\n",
    "# model_name = 'bert-base-uncased'\n",
    "\n",
    "for text in input_text_lst_news:\n",
    "        sen_emb = bert_sentence_embed(text)\n",
    "        embed_list.append(sen_emb)\n",
    "concatenated_sent_tensor = torch.cat(embed_list)\n",
    "# Convert the concatenated tensor to a numpy array\n",
    "sent_numpy_array = concatenated_sent_tensor.numpy()\n",
    "\n",
    "# Reshape the numpy array into a 1 by 768 array\n",
    "sent_numpy_array = sent_numpy_array.reshape(len(embed_list), embed_list[0].shape[1])\n",
    "\n",
    "print(sent_numpy_array[0, :10])"
   ]
  },
  {
   "cell_type": "code",
   "execution_count": 10,
   "metadata": {},
   "outputs": [],
   "source": [
    "# Perform PCA for 2D visualization\n",
    "# convert the 768-dimensional array to 2-dimentional array for plotting purpose\n",
    "PCA_model = PCA(n_components=2)\n",
    "PCA_model.fit(sent_numpy_array)\n",
    "sent_low_dim_array = PCA_model.transform(sent_numpy_array)"
   ]
  },
  {
   "cell_type": "code",
   "execution_count": 14,
   "metadata": {},
   "outputs": [
    {
     "data": {
      "application/vnd.jupyter.widget-view+json": {
       "model_id": "fb27d84e6dbd4a29b4539329034c3396",
       "version_major": 2,
       "version_minor": 0
      },
      "image/png": "[encoded data removed]",
      "text/html": [
       "\n",
       "            <div style=\"display: inline-block;\">\n",
       "                <div class=\"jupyter-widgets widget-label\" style=\"text-align: center;\">\n",
       "                    Figure\n",
       "                </div>\n",
       "                <img src='data:image/png;base64,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' width=640.0/>\n",
       "            </div>\n",
       "        "
      ],
      "text/plain": [
       "Canvas(toolbar=Toolbar(toolitems=[('Home', 'Reset original view', 'home', 'home'), ('Back', 'Back to previous …"
      ]
     },
     "metadata": {},
     "output_type": "display_data"
    }
   ],
   "source": [
    "plot_2D(sent_low_dim_array[:,0], sent_low_dim_array[:,1], input_text_lst_news)"
   ]
  }
 ],
 "metadata": {
  "kernelspec": {
   "display_name": "Python 3",
   "language": "python",
   "name": "python3"
  },
  "language_info": {
   "codemirror_mode": {
    "name": "ipython",
    "version": 3
   },
   "file_extension": ".py",
   "mimetype": "text/x-python",
   "name": "python",
   "nbconvert_exporter": "python",
   "pygments_lexer": "ipython3",
   "version": "3.10.10"
  },
  "orig_nbformat": 4
 },
 "nbformat": 4,
 "nbformat_minor": 2
}
