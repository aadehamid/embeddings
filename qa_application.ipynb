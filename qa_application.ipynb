{
 "cells": [
  {
   "cell_type": "code",
   "execution_count": 24,
   "metadata": {},
   "outputs": [],
   "source": [
    "import pandas as pd\n",
    "from rich import print, pretty\n",
    "from rich.console import Console\n",
    "from icecream import ic\n",
    "import pandas as pd\n",
    "import numpy as np\n",
    "from pathlib import Path\n",
    "import pickle\n",
    "from sklearn.metrics.pairwise import cosine_similarity\n",
    "from sklearn.metrics import pairwise_distances_argmin as distances_argmin\n",
    "from embed_sources import create_sentence_embedding\n",
    "from sentence_transformers import SentenceTransformer\n",
    "\n",
    "console = Console()\n",
    "pretty.install()"
   ]
  },
  {
   "cell_type": "code",
   "execution_count": 4,
   "metadata": {},
   "outputs": [
    {
     "data": {
      "text/html": [
       "<div>\n",
       "<style scoped>\n",
       "    .dataframe tbody tr th:only-of-type {\n",
       "        vertical-align: middle;\n",
       "    }\n",
       "\n",
       "    .dataframe tbody tr th {\n",
       "        vertical-align: top;\n",
       "    }\n",
       "\n",
       "    .dataframe thead th {\n",
       "        text-align: right;\n",
       "    }\n",
       "</style>\n",
       "<table border=\"1\" class=\"dataframe\">\n",
       "  <thead>\n",
       "    <tr style=\"text-align: right;\">\n",
       "      <th></th>\n",
       "      <th>input_text</th>\n",
       "      <th>output_text</th>\n",
       "      <th>category</th>\n",
       "    </tr>\n",
       "  </thead>\n",
       "  <tbody>\n",
       "    <tr>\n",
       "      <th>0</th>\n",
       "      <td>python's inspect.getfile returns \"&lt;string&gt;\"&lt;p&gt;...</td>\n",
       "      <td>&lt;p&gt;&lt;code&gt;&amp;lt;string&amp;gt;&lt;/code&gt; means that the ...</td>\n",
       "      <td>python</td>\n",
       "    </tr>\n",
       "    <tr>\n",
       "      <th>1</th>\n",
       "      <td>Passing parameter to function while multithrea...</td>\n",
       "      <td>&lt;p&gt;Try this and note the difference:&lt;/p&gt;\\n&lt;pre...</td>\n",
       "      <td>python</td>\n",
       "    </tr>\n",
       "    <tr>\n",
       "      <th>2</th>\n",
       "      <td>How do we test a specific method written in a ...</td>\n",
       "      <td>&lt;p&gt;Duplicate of &lt;a href=\"https://stackoverflow...</td>\n",
       "      <td>python</td>\n",
       "    </tr>\n",
       "    <tr>\n",
       "      <th>3</th>\n",
       "      <td>how can i remove the black bg color of an imag...</td>\n",
       "      <td>&lt;p&gt;The alpha channel &amp;quot;disappears&amp;quot; be...</td>\n",
       "      <td>python</td>\n",
       "    </tr>\n",
       "    <tr>\n",
       "      <th>4</th>\n",
       "      <td>How to extract each sheet within an Excel file...</td>\n",
       "      <td>&lt;p&gt;You need to specify the &lt;code&gt;index&lt;/code&gt; ...</td>\n",
       "      <td>python</td>\n",
       "    </tr>\n",
       "  </tbody>\n",
       "</table>\n",
       "</div>"
      ]
     },
     "execution_count": 4,
     "metadata": {},
     "output_type": "execute_result"
    }
   ],
   "source": [
    "filepath = Path.cwd().joinpath(\"embeddings\", \"so_database_app.csv\")\n",
    "so_df = pd.read_csv(filepath)\n",
    "so_df.head()"
   ]
  },
  {
   "cell_type": "code",
   "execution_count": 9,
   "metadata": {},
   "outputs": [
    {
     "data": {
      "text/html": [
       "<pre style=\"white-space:pre;overflow-x:auto;line-height:normal;font-family:Menlo,'DejaVu Sans Mono',consolas,'Courier New',monospace\"><span style=\"color: #808000; text-decoration-color: #808000; font-weight: bold\">Shape of the data is </span><span style=\"color: #008000; text-decoration-color: #008000; font-weight: bold; text-decoration: underline\">(</span><span style=\"color: #008000; text-decoration-color: #008000; font-weight: bold; text-decoration: underline\">2000</span><span style=\"color: #008000; text-decoration-color: #008000; font-weight: bold; text-decoration: underline\">, </span><span style=\"color: #008000; text-decoration-color: #008000; font-weight: bold; text-decoration: underline\">3</span><span style=\"color: #008000; text-decoration-color: #008000; font-weight: bold; text-decoration: underline\">)</span>\n",
       "</pre>\n"
      ],
      "text/plain": [
       "\u001b[1;33mShape of the data is \u001b[0m\u001b[1;4;32m(\u001b[0m\u001b[1;4;32m2000\u001b[0m\u001b[1;4;32m, \u001b[0m\u001b[1;4;32m3\u001b[0m\u001b[1;4;32m)\u001b[0m\n"
      ]
     },
     "metadata": {},
     "output_type": "display_data"
    }
   ],
   "source": [
    "console.print(f\"Shape of the data is [bold green underline]{so_df.shape}\", style=\"bold yellow\")"
   ]
  },
  {
   "cell_type": "code",
   "execution_count": 16,
   "metadata": {},
   "outputs": [
    {
     "data": {
      "text/html": [
       "<pre style=\"white-space:pre;overflow-x:auto;line-height:normal;font-family:Menlo,'DejaVu Sans Mono',consolas,'Courier New',monospace\"><span style=\"font-weight: bold\">(</span><span style=\"color: #008080; text-decoration-color: #008080; font-weight: bold\">2000</span>, <span style=\"color: #008080; text-decoration-color: #008080; font-weight: bold\">768</span><span style=\"font-weight: bold\">)</span>\n",
       "</pre>\n"
      ],
      "text/plain": [
       "\u001b[1m(\u001b[0m\u001b[1;36m2000\u001b[0m, \u001b[1;36m768\u001b[0m\u001b[1m)\u001b[0m\n"
      ]
     },
     "metadata": {},
     "output_type": "display_data"
    }
   ],
   "source": [
    "filepath = Path.cwd().joinpath(\"embeddings\", \"question_embeddings_app.pkl\")\n",
    "with open(filepath, \"rb\") as file:\n",
    "    questions_embeddings = pickle.load(file)\n",
    "print(questions_embeddings.shape)\n",
    "\n",
    "# added the embedding to the dataframe\n",
    "# This is acting like our vector DB\n",
    "so_df[\"embeddings\"] = questions_embeddings.tolist() "
   ]
  },
  {
   "cell_type": "code",
   "execution_count": 33,
   "metadata": {},
   "outputs": [
    {
     "data": {
      "text/html": [
       "<pre style=\"white-space:pre;overflow-x:auto;line-height:normal;font-family:Menlo,'DejaVu Sans Mono',consolas,'Courier New',monospace\">PCA of an array of one sample does not make sense.\n",
       "So returning the full array.\n",
       "</pre>\n"
      ],
      "text/plain": [
       "PCA of an array of one sample does not make sense.\n",
       "So returning the full array.\n"
      ]
     },
     "metadata": {},
     "output_type": "display_data"
    },
    {
     "data": {
      "text/html": [
       "<pre style=\"white-space:pre;overflow-x:auto;line-height:normal;font-family:Menlo,'DejaVu Sans Mono',consolas,'Courier New',monospace\"><span style=\"font-weight: bold\">(</span><span style=\"color: #008080; text-decoration-color: #008080; font-weight: bold\">1</span>, <span style=\"color: #008080; text-decoration-color: #008080; font-weight: bold\">768</span><span style=\"font-weight: bold\">)</span>\n",
       "</pre>\n"
      ],
      "text/plain": [
       "\u001b[1m(\u001b[0m\u001b[1;36m1\u001b[0m, \u001b[1;36m768\u001b[0m\u001b[1m)\u001b[0m\n"
      ]
     },
     "metadata": {},
     "output_type": "display_data"
    },
    {
     "data": {
      "text/html": [
       "<pre style=\"white-space:pre;overflow-x:auto;line-height:normal;font-family:Menlo,'DejaVu Sans Mono',consolas,'Courier New',monospace\"><span style=\"font-weight: bold\">(</span><span style=\"color: #008080; text-decoration-color: #008080; font-weight: bold\">1</span>, <span style=\"color: #008080; text-decoration-color: #008080; font-weight: bold\">2000</span><span style=\"font-weight: bold\">)</span>\n",
       "</pre>\n"
      ],
      "text/plain": [
       "\u001b[1m(\u001b[0m\u001b[1;36m1\u001b[0m, \u001b[1;36m2000\u001b[0m\u001b[1m)\u001b[0m\n"
      ]
     },
     "metadata": {},
     "output_type": "display_data"
    },
    {
     "data": {
      "text/html": [
       "<pre style=\"white-space:pre;overflow-x:auto;line-height:normal;font-family:Menlo,'DejaVu Sans Mono',consolas,'Courier New',monospace\"><span style=\"color: #008080; text-decoration-color: #008080; font-weight: bold\">1073</span>\n",
       "</pre>\n"
      ],
      "text/plain": [
       "\u001b[1;36m1073\u001b[0m\n"
      ]
     },
     "metadata": {},
     "output_type": "display_data"
    },
    {
     "data": {
      "text/html": [
       "<pre style=\"white-space:pre;overflow-x:auto;line-height:normal;font-family:Menlo,'DejaVu Sans Mono',consolas,'Courier New',monospace\"><span style=\"color: #008000; text-decoration-color: #008000\">\"matching very long and complex version numbers with regular expressions in python&lt;p&gt;I have lots of lines like this.&lt;/p&gt;\\n&lt;pre&gt;&lt;code&gt;some text some more text v3.1.0-beta.4 more &amp;amp; more text\\nsome text some v2 build.3 some more text more &amp;amp; more text\\nsome text some v21.1.23456.551436a4 alpha.4 some more text v16.1.2 more &amp;amp; more text\\n&lt;/code&gt;&lt;/pre&gt;\\n&lt;p&gt;version numbers are:&lt;/p&gt;\\n&lt;pre&gt;&lt;code&gt;v3.1.0-beta.4\\nv2 build 3\\nv21.1.23456.551436a4 alpha.4 and v16.1.2\\n&lt;/code&gt;&lt;/pre&gt;\\n&lt;p&gt;The problem is I can have have words beta or build or neither in my version numbers. variable length of version numbers.&lt;/p&gt;\\n&lt;p&gt;Here's what I have now and this can only match numbers.&lt;/p&gt;\\n&lt;pre&gt;&lt;code&gt;\\\\d+(?:\\\\.\\\\d+)+\\n&lt;/code&gt;&lt;/pre&gt;\\n&lt;p&gt;How do I search for the existence of one or more version numbers in a give line like shown in above lines like above?&lt;/p&gt;\"</span>\n",
       "</pre>\n"
      ],
      "text/plain": [
       "\u001b[32m\"matching very long and complex version numbers with regular expressions in python\u001b[0m\u001b[32m<\u001b[0m\u001b[32mp\u001b[0m\u001b[32m>\u001b[0m\u001b[32mI have lots of lines like this.\u001b[0m\u001b[32m<\u001b[0m\u001b[32m/p\u001b[0m\u001b[32m>\u001b[0m\u001b[32m\\n\u001b[0m\u001b[32m<\u001b[0m\u001b[32mpre\u001b[0m\u001b[32m>\u001b[0m\u001b[32m<\u001b[0m\u001b[32mcode\u001b[0m\u001b[32m>\u001b[0m\u001b[32msome text some more text v3.1.0-beta.4 more &amp; more text\\nsome text some v2 build.3 some more text more &amp; more text\\nsome text some v21.1.23456.551436a4 alpha.4 some more text v16.1.2 more &amp; more text\\n\u001b[0m\u001b[32m<\u001b[0m\u001b[32m/code\u001b[0m\u001b[32m>\u001b[0m\u001b[32m<\u001b[0m\u001b[32m/pre\u001b[0m\u001b[32m>\u001b[0m\u001b[32m\\n\u001b[0m\u001b[32m<\u001b[0m\u001b[32mp\u001b[0m\u001b[32m>\u001b[0m\u001b[32mversion numbers are:\u001b[0m\u001b[32m<\u001b[0m\u001b[32m/p\u001b[0m\u001b[32m>\u001b[0m\u001b[32m\\n\u001b[0m\u001b[32m<\u001b[0m\u001b[32mpre\u001b[0m\u001b[32m>\u001b[0m\u001b[32m<\u001b[0m\u001b[32mcode\u001b[0m\u001b[32m>\u001b[0m\u001b[32mv3.1.0-beta.4\\nv2 build 3\\nv21.1.23456.551436a4 alpha.4 and v16.1.2\\n\u001b[0m\u001b[32m<\u001b[0m\u001b[32m/code\u001b[0m\u001b[32m>\u001b[0m\u001b[32m<\u001b[0m\u001b[32m/pre\u001b[0m\u001b[32m>\u001b[0m\u001b[32m\\n\u001b[0m\u001b[32m<\u001b[0m\u001b[32mp\u001b[0m\u001b[32m>\u001b[0m\u001b[32mThe problem is I can have have words beta or build or neither in my version numbers. variable length of version numbers.\u001b[0m\u001b[32m<\u001b[0m\u001b[32m/p\u001b[0m\u001b[32m>\u001b[0m\u001b[32m\\n\u001b[0m\u001b[32m<\u001b[0m\u001b[32mp\u001b[0m\u001b[32m>\u001b[0m\u001b[32mHere's what I have now and this can only match numbers.\u001b[0m\u001b[32m<\u001b[0m\u001b[32m/p\u001b[0m\u001b[32m>\u001b[0m\u001b[32m\\n\u001b[0m\u001b[32m<\u001b[0m\u001b[32mpre\u001b[0m\u001b[32m>\u001b[0m\u001b[32m<\u001b[0m\u001b[32mcode\u001b[0m\u001b[32m>\u001b[0m\u001b[32m\\\\d+\u001b[0m\u001b[32m(\u001b[0m\u001b[32m?:\\\\.\\\\d+\u001b[0m\u001b[32m)\u001b[0m\u001b[32m+\\n\u001b[0m\u001b[32m<\u001b[0m\u001b[32m/code\u001b[0m\u001b[32m>\u001b[0m\u001b[32m<\u001b[0m\u001b[32m/pre\u001b[0m\u001b[32m>\u001b[0m\u001b[32m\\n\u001b[0m\u001b[32m<\u001b[0m\u001b[32mp\u001b[0m\u001b[32m>\u001b[0m\u001b[32mHow do I search for the existence of one or more version numbers in a give line like shown in above lines like above?\u001b[0m\u001b[32m<\u001b[0m\u001b[32m/p\u001b[0m\u001b[32m>\u001b[0m\u001b[32m\"\u001b[0m\n"
      ]
     },
     "metadata": {},
     "output_type": "display_data"
    }
   ],
   "source": [
    "# Now lets ask the LLM a question\n",
    "query = ['How to concat dataframes pandas']\n",
    "\n",
    "model = SentenceTransformer(\"all-mpnet-base-v2\")\n",
    "\n",
    "# get the embedding of the query\n",
    "query_embedding, _ = create_sentence_embedding(query, model, bert = False)\n",
    "print(query_embedding.shape)\n",
    "cos_similarity = cosine_similarity(query_embedding.tolist(),\n",
    "                            list(so_df.embeddings.values))\n",
    "\n",
    "print(cos_similarity.shape)\n",
    "\n",
    "# find the embedding with the highest similarity value\n",
    "index_doc_cosine = np.argmax(cos_similarity)\n",
    "print(index_doc_cosine)\n",
    "\n",
    "# get the distances\n",
    "index_doc_distances = distances_argmin(\n",
    "                    query_embedding.tolist(),\n",
    "                    list(so_df.embeddings.values))[0]\n"
   ]
  },
  {
   "cell_type": "code",
   "execution_count": 35,
   "metadata": {},
   "outputs": [
    {
     "data": {
      "text/html": [
       "<pre style=\"white-space:pre;overflow-x:auto;line-height:normal;font-family:Menlo,'DejaVu Sans Mono',consolas,'Courier New',monospace\">matching very long and complex version numbers with regular expressions in python<span style=\"font-weight: bold\">&lt;</span><span style=\"color: #ff00ff; text-decoration-color: #ff00ff; font-weight: bold\">p</span><span style=\"font-weight: bold\">&gt;</span>I have lots of lines like \n",
       "this.<span style=\"font-weight: bold\">&lt;</span><span style=\"color: #800080; text-decoration-color: #800080\">/</span><span style=\"color: #ff00ff; text-decoration-color: #ff00ff\">p</span><span style=\"font-weight: bold\">&gt;</span>\n",
       "<span style=\"font-weight: bold\">&lt;</span><span style=\"color: #ff00ff; text-decoration-color: #ff00ff; font-weight: bold\">pre</span><span style=\"font-weight: bold\">&gt;&lt;</span><span style=\"color: #ff00ff; text-decoration-color: #ff00ff; font-weight: bold\">code</span><span style=\"font-weight: bold\">&gt;</span>some text some more text v3.<span style=\"color: #008080; text-decoration-color: #008080; font-weight: bold\">1.0</span>-beta.<span style=\"color: #008080; text-decoration-color: #008080; font-weight: bold\">4</span> more &amp;amp; more text\n",
       "some text some v2 build.<span style=\"color: #008080; text-decoration-color: #008080; font-weight: bold\">3</span> some more text more &amp;amp; more text\n",
       "some text some v21.<span style=\"color: #008080; text-decoration-color: #008080; font-weight: bold\">1.23456</span>.551436a4 alpha.<span style=\"color: #008080; text-decoration-color: #008080; font-weight: bold\">4</span> some more text v16.<span style=\"color: #008080; text-decoration-color: #008080; font-weight: bold\">1.2</span> more &amp;amp; more text\n",
       "<span style=\"font-weight: bold\">&lt;</span><span style=\"color: #800080; text-decoration-color: #800080\">/</span><span style=\"color: #ff00ff; text-decoration-color: #ff00ff\">code</span><span style=\"font-weight: bold\">&gt;&lt;</span><span style=\"color: #800080; text-decoration-color: #800080\">/</span><span style=\"color: #ff00ff; text-decoration-color: #ff00ff\">pre</span><span style=\"font-weight: bold\">&gt;</span>\n",
       "<span style=\"font-weight: bold\">&lt;</span><span style=\"color: #ff00ff; text-decoration-color: #ff00ff; font-weight: bold\">p</span><span style=\"font-weight: bold\">&gt;</span>version numbers are:<span style=\"font-weight: bold\">&lt;</span><span style=\"color: #800080; text-decoration-color: #800080\">/</span><span style=\"color: #ff00ff; text-decoration-color: #ff00ff\">p</span><span style=\"font-weight: bold\">&gt;</span>\n",
       "<span style=\"font-weight: bold\">&lt;</span><span style=\"color: #ff00ff; text-decoration-color: #ff00ff; font-weight: bold\">pre</span><span style=\"font-weight: bold\">&gt;&lt;</span><span style=\"color: #ff00ff; text-decoration-color: #ff00ff; font-weight: bold\">code</span><span style=\"font-weight: bold\">&gt;</span>v3.<span style=\"color: #008080; text-decoration-color: #008080; font-weight: bold\">1.0</span>-beta.<span style=\"color: #008080; text-decoration-color: #008080; font-weight: bold\">4</span>\n",
       "v2 build <span style=\"color: #008080; text-decoration-color: #008080; font-weight: bold\">3</span>\n",
       "v21.<span style=\"color: #008080; text-decoration-color: #008080; font-weight: bold\">1.23456</span>.551436a4 alpha.<span style=\"color: #008080; text-decoration-color: #008080; font-weight: bold\">4</span> and v16.<span style=\"color: #008080; text-decoration-color: #008080; font-weight: bold\">1.2</span>\n",
       "<span style=\"font-weight: bold\">&lt;</span><span style=\"color: #800080; text-decoration-color: #800080\">/</span><span style=\"color: #ff00ff; text-decoration-color: #ff00ff\">code</span><span style=\"font-weight: bold\">&gt;&lt;</span><span style=\"color: #800080; text-decoration-color: #800080\">/</span><span style=\"color: #ff00ff; text-decoration-color: #ff00ff\">pre</span><span style=\"font-weight: bold\">&gt;</span>\n",
       "<span style=\"font-weight: bold\">&lt;</span><span style=\"color: #ff00ff; text-decoration-color: #ff00ff; font-weight: bold\">p</span><span style=\"font-weight: bold\">&gt;</span>The problem is I can have have words beta or build or neither in my version numbers. variable length of version \n",
       "numbers.<span style=\"font-weight: bold\">&lt;</span><span style=\"color: #800080; text-decoration-color: #800080\">/</span><span style=\"color: #ff00ff; text-decoration-color: #ff00ff\">p</span><span style=\"font-weight: bold\">&gt;</span>\n",
       "<span style=\"font-weight: bold\">&lt;</span><span style=\"color: #ff00ff; text-decoration-color: #ff00ff; font-weight: bold\">p</span><span style=\"font-weight: bold\">&gt;</span>Here's what I have now and this can only match numbers.<span style=\"font-weight: bold\">&lt;</span><span style=\"color: #800080; text-decoration-color: #800080\">/</span><span style=\"color: #ff00ff; text-decoration-color: #ff00ff\">p</span><span style=\"font-weight: bold\">&gt;</span>\n",
       "<span style=\"font-weight: bold\">&lt;</span><span style=\"color: #ff00ff; text-decoration-color: #ff00ff; font-weight: bold\">pre</span><span style=\"font-weight: bold\">&gt;&lt;</span><span style=\"color: #ff00ff; text-decoration-color: #ff00ff; font-weight: bold\">code</span><span style=\"font-weight: bold\">&gt;</span>\\d+<span style=\"font-weight: bold\">(</span>?:\\.\\d+<span style=\"font-weight: bold\">)</span>+\n",
       "<span style=\"font-weight: bold\">&lt;</span><span style=\"color: #800080; text-decoration-color: #800080\">/</span><span style=\"color: #ff00ff; text-decoration-color: #ff00ff\">code</span><span style=\"font-weight: bold\">&gt;&lt;</span><span style=\"color: #800080; text-decoration-color: #800080\">/</span><span style=\"color: #ff00ff; text-decoration-color: #ff00ff\">pre</span><span style=\"font-weight: bold\">&gt;</span>\n",
       "<span style=\"font-weight: bold\">&lt;</span><span style=\"color: #ff00ff; text-decoration-color: #ff00ff; font-weight: bold\">p</span><span style=\"font-weight: bold\">&gt;</span>How do I search for the existence of one or more version numbers in a give line like shown in above lines like \n",
       "above?<span style=\"font-weight: bold\">&lt;</span><span style=\"color: #800080; text-decoration-color: #800080\">/</span><span style=\"color: #ff00ff; text-decoration-color: #ff00ff\">p</span><span style=\"font-weight: bold\">&gt;</span>\n",
       "</pre>\n"
      ],
      "text/plain": [
       "matching very long and complex version numbers with regular expressions in python\u001b[1m<\u001b[0m\u001b[1;95mp\u001b[0m\u001b[1m>\u001b[0mI have lots of lines like \n",
       "this.\u001b[1m<\u001b[0m\u001b[35m/\u001b[0m\u001b[95mp\u001b[0m\u001b[1m>\u001b[0m\n",
       "\u001b[1m<\u001b[0m\u001b[1;95mpre\u001b[0m\u001b[1m>\u001b[0m\u001b[1m<\u001b[0m\u001b[1;95mcode\u001b[0m\u001b[1m>\u001b[0msome text some more text v3.\u001b[1;36m1.0\u001b[0m-beta.\u001b[1;36m4\u001b[0m more &amp; more text\n",
       "some text some v2 build.\u001b[1;36m3\u001b[0m some more text more &amp; more text\n",
       "some text some v21.\u001b[1;36m1.23456\u001b[0m.551436a4 alpha.\u001b[1;36m4\u001b[0m some more text v16.\u001b[1;36m1.2\u001b[0m more &amp; more text\n",
       "\u001b[1m<\u001b[0m\u001b[35m/\u001b[0m\u001b[95mcode\u001b[0m\u001b[1m>\u001b[0m\u001b[1m<\u001b[0m\u001b[35m/\u001b[0m\u001b[95mpre\u001b[0m\u001b[1m>\u001b[0m\n",
       "\u001b[1m<\u001b[0m\u001b[1;95mp\u001b[0m\u001b[1m>\u001b[0mversion numbers are:\u001b[1m<\u001b[0m\u001b[35m/\u001b[0m\u001b[95mp\u001b[0m\u001b[1m>\u001b[0m\n",
       "\u001b[1m<\u001b[0m\u001b[1;95mpre\u001b[0m\u001b[1m>\u001b[0m\u001b[1m<\u001b[0m\u001b[1;95mcode\u001b[0m\u001b[1m>\u001b[0mv3.\u001b[1;36m1.0\u001b[0m-beta.\u001b[1;36m4\u001b[0m\n",
       "v2 build \u001b[1;36m3\u001b[0m\n",
       "v21.\u001b[1;36m1.23456\u001b[0m.551436a4 alpha.\u001b[1;36m4\u001b[0m and v16.\u001b[1;36m1.2\u001b[0m\n",
       "\u001b[1m<\u001b[0m\u001b[35m/\u001b[0m\u001b[95mcode\u001b[0m\u001b[1m>\u001b[0m\u001b[1m<\u001b[0m\u001b[35m/\u001b[0m\u001b[95mpre\u001b[0m\u001b[1m>\u001b[0m\n",
       "\u001b[1m<\u001b[0m\u001b[1;95mp\u001b[0m\u001b[1m>\u001b[0mThe problem is I can have have words beta or build or neither in my version numbers. variable length of version \n",
       "numbers.\u001b[1m<\u001b[0m\u001b[35m/\u001b[0m\u001b[95mp\u001b[0m\u001b[1m>\u001b[0m\n",
       "\u001b[1m<\u001b[0m\u001b[1;95mp\u001b[0m\u001b[1m>\u001b[0mHere's what I have now and this can only match numbers.\u001b[1m<\u001b[0m\u001b[35m/\u001b[0m\u001b[95mp\u001b[0m\u001b[1m>\u001b[0m\n",
       "\u001b[1m<\u001b[0m\u001b[1;95mpre\u001b[0m\u001b[1m>\u001b[0m\u001b[1m<\u001b[0m\u001b[1;95mcode\u001b[0m\u001b[1m>\u001b[0m\\d+\u001b[1m(\u001b[0m?:\\.\\d+\u001b[1m)\u001b[0m+\n",
       "\u001b[1m<\u001b[0m\u001b[35m/\u001b[0m\u001b[95mcode\u001b[0m\u001b[1m>\u001b[0m\u001b[1m<\u001b[0m\u001b[35m/\u001b[0m\u001b[95mpre\u001b[0m\u001b[1m>\u001b[0m\n",
       "\u001b[1m<\u001b[0m\u001b[1;95mp\u001b[0m\u001b[1m>\u001b[0mHow do I search for the existence of one or more version numbers in a give line like shown in above lines like \n",
       "above?\u001b[1m<\u001b[0m\u001b[35m/\u001b[0m\u001b[95mp\u001b[0m\u001b[1m>\u001b[0m\n"
      ]
     },
     "metadata": {},
     "output_type": "display_data"
    }
   ],
   "source": [
    "# get the input text from the database using the above index\n",
    "print(so_df.input_text[index_doc_cosine])"
   ]
  },
  {
   "cell_type": "code",
   "execution_count": 37,
   "metadata": {},
   "outputs": [
    {
     "data": {
      "text/html": [
       "<pre style=\"white-space:pre;overflow-x:auto;line-height:normal;font-family:Menlo,'DejaVu Sans Mono',consolas,'Courier New',monospace\"><span style=\"font-weight: bold\">&lt;</span><span style=\"color: #ff00ff; text-decoration-color: #ff00ff; font-weight: bold\">p</span><span style=\"font-weight: bold\">&gt;</span>You may try this regex:<span style=\"font-weight: bold\">&lt;</span><span style=\"color: #800080; text-decoration-color: #800080\">/</span><span style=\"color: #ff00ff; text-decoration-color: #ff00ff\">p</span><span style=\"font-weight: bold\">&gt;</span>\n",
       "<span style=\"font-weight: bold\">&lt;</span><span style=\"color: #ff00ff; text-decoration-color: #ff00ff; font-weight: bold\">pre</span><span style=\"font-weight: bold\">&gt;&lt;</span><span style=\"color: #ff00ff; text-decoration-color: #ff00ff; font-weight: bold\">code</span><span style=\"font-weight: bold\">&gt;</span>\\bv<span style=\"font-weight: bold\">[</span>\\d+<span style=\"font-weight: bold\">]</span>+<span style=\"font-weight: bold\">[</span>\\w.<span style=\"font-weight: bold\">]</span>*<span style=\"font-weight: bold\">(</span>?:<span style=\"font-weight: bold\">[</span>-\\s<span style=\"font-weight: bold\">]</span>+<span style=\"font-weight: bold\">(</span>?:alpha|beta|build<span style=\"font-weight: bold\">)[</span>\\w.<span style=\"font-weight: bold\">]</span>*<span style=\"font-weight: bold\">)</span>?\n",
       "<span style=\"font-weight: bold\">&lt;</span><span style=\"color: #800080; text-decoration-color: #800080\">/</span><span style=\"color: #ff00ff; text-decoration-color: #ff00ff\">code</span><span style=\"font-weight: bold\">&gt;&lt;</span><span style=\"color: #800080; text-decoration-color: #800080\">/</span><span style=\"color: #ff00ff; text-decoration-color: #ff00ff\">pre</span><span style=\"font-weight: bold\">&gt;</span>\n",
       "<span style=\"font-weight: bold\">&lt;</span><span style=\"color: #ff00ff; text-decoration-color: #ff00ff; font-weight: bold\">p</span><span style=\"font-weight: bold\">&gt;&lt;</span><span style=\"color: #ff00ff; text-decoration-color: #ff00ff; font-weight: bold\">a</span><span style=\"color: #000000; text-decoration-color: #000000\"> </span><span style=\"color: #808000; text-decoration-color: #808000\">href</span><span style=\"color: #000000; text-decoration-color: #000000\">=</span><span style=\"color: #008000; text-decoration-color: #008000\">\"https://regex101.com/r/sualem/3/\"</span><span style=\"color: #000000; text-decoration-color: #000000\"> </span><span style=\"color: #808000; text-decoration-color: #808000\">rel</span><span style=\"color: #000000; text-decoration-color: #000000\">=</span><span style=\"color: #008000; text-decoration-color: #008000\">\"nofollow noreferrer\"</span><span style=\"font-weight: bold\">&gt;</span>RegEx Demo<span style=\"font-weight: bold\">&lt;</span><span style=\"color: #800080; text-decoration-color: #800080\">/</span><span style=\"color: #ff00ff; text-decoration-color: #ff00ff\">a</span><span style=\"font-weight: bold\">&gt;&lt;</span><span style=\"color: #800080; text-decoration-color: #800080\">/</span><span style=\"color: #ff00ff; text-decoration-color: #ff00ff\">p</span><span style=\"font-weight: bold\">&gt;</span>\n",
       "<span style=\"font-weight: bold\">&lt;</span><span style=\"color: #ff00ff; text-decoration-color: #ff00ff; font-weight: bold\">p</span><span style=\"font-weight: bold\">&gt;&lt;</span><span style=\"color: #ff00ff; text-decoration-color: #ff00ff; font-weight: bold\">strong</span><span style=\"font-weight: bold\">&gt;</span>Pattern Details:<span style=\"font-weight: bold\">&lt;</span><span style=\"color: #800080; text-decoration-color: #800080\">/</span><span style=\"color: #ff00ff; text-decoration-color: #ff00ff\">strong</span><span style=\"font-weight: bold\">&gt;&lt;</span><span style=\"color: #800080; text-decoration-color: #800080\">/</span><span style=\"color: #ff00ff; text-decoration-color: #ff00ff\">p</span><span style=\"font-weight: bold\">&gt;</span>\n",
       "<span style=\"font-weight: bold\">&lt;</span><span style=\"color: #ff00ff; text-decoration-color: #ff00ff; font-weight: bold\">ul</span><span style=\"font-weight: bold\">&gt;</span>\n",
       "<span style=\"font-weight: bold\">&lt;</span><span style=\"color: #ff00ff; text-decoration-color: #ff00ff; font-weight: bold\">li</span><span style=\"font-weight: bold\">&gt;&lt;</span><span style=\"color: #ff00ff; text-decoration-color: #ff00ff; font-weight: bold\">code</span><span style=\"font-weight: bold\">&gt;</span>\\bv<span style=\"font-weight: bold\">&lt;</span><span style=\"color: #800080; text-decoration-color: #800080\">/</span><span style=\"color: #ff00ff; text-decoration-color: #ff00ff\">code</span><span style=\"font-weight: bold\">&gt;</span>: Match <span style=\"font-weight: bold\">&lt;</span><span style=\"color: #ff00ff; text-decoration-color: #ff00ff; font-weight: bold\">code</span><span style=\"font-weight: bold\">&gt;</span>v<span style=\"font-weight: bold\">&lt;</span><span style=\"color: #800080; text-decoration-color: #800080\">/</span><span style=\"color: #ff00ff; text-decoration-color: #ff00ff\">code</span><span style=\"font-weight: bold\">&gt;</span> after a word boundary<span style=\"font-weight: bold\">&lt;</span><span style=\"color: #800080; text-decoration-color: #800080\">/</span><span style=\"color: #ff00ff; text-decoration-color: #ff00ff\">li</span><span style=\"font-weight: bold\">&gt;</span>\n",
       "<span style=\"font-weight: bold\">&lt;</span><span style=\"color: #ff00ff; text-decoration-color: #ff00ff; font-weight: bold\">li</span><span style=\"font-weight: bold\">&gt;&lt;</span><span style=\"color: #ff00ff; text-decoration-color: #ff00ff; font-weight: bold\">code</span><span style=\"font-weight: bold\">&gt;[</span>\\d+<span style=\"font-weight: bold\">]</span>+<span style=\"font-weight: bold\">&lt;</span><span style=\"color: #800080; text-decoration-color: #800080\">/</span><span style=\"color: #ff00ff; text-decoration-color: #ff00ff\">code</span><span style=\"font-weight: bold\">&gt;</span>: Match <span style=\"color: #008080; text-decoration-color: #008080; font-weight: bold\">1</span>+ digit or dot characters<span style=\"font-weight: bold\">&lt;</span><span style=\"color: #800080; text-decoration-color: #800080\">/</span><span style=\"color: #ff00ff; text-decoration-color: #ff00ff\">li</span><span style=\"font-weight: bold\">&gt;</span>\n",
       "<span style=\"font-weight: bold\">&lt;</span><span style=\"color: #ff00ff; text-decoration-color: #ff00ff; font-weight: bold\">li</span><span style=\"font-weight: bold\">&gt;&lt;</span><span style=\"color: #ff00ff; text-decoration-color: #ff00ff; font-weight: bold\">code</span><span style=\"font-weight: bold\">&gt;[</span>\\w.<span style=\"font-weight: bold\">]</span>*<span style=\"font-weight: bold\">&lt;</span><span style=\"color: #800080; text-decoration-color: #800080\">/</span><span style=\"color: #ff00ff; text-decoration-color: #ff00ff\">code</span><span style=\"font-weight: bold\">&gt;</span>: Match <span style=\"color: #008080; text-decoration-color: #008080; font-weight: bold\">0</span> or more word or dot characters<span style=\"font-weight: bold\">&lt;</span><span style=\"color: #800080; text-decoration-color: #800080\">/</span><span style=\"color: #ff00ff; text-decoration-color: #ff00ff\">li</span><span style=\"font-weight: bold\">&gt;</span>\n",
       "<span style=\"font-weight: bold\">&lt;</span><span style=\"color: #ff00ff; text-decoration-color: #ff00ff; font-weight: bold\">li</span><span style=\"font-weight: bold\">&gt;&lt;</span><span style=\"color: #ff00ff; text-decoration-color: #ff00ff; font-weight: bold\">code</span><span style=\"font-weight: bold\">&gt;(</span>?:<span style=\"font-weight: bold\">[</span>-\\s<span style=\"font-weight: bold\">]</span>+<span style=\"font-weight: bold\">(</span>?:alpha|beta|build<span style=\"font-weight: bold\">)[</span>\\w.<span style=\"font-weight: bold\">]</span>*<span style=\"font-weight: bold\">)</span>?<span style=\"font-weight: bold\">&lt;</span><span style=\"color: #800080; text-decoration-color: #800080\">/</span><span style=\"color: #ff00ff; text-decoration-color: #ff00ff\">code</span><span style=\"font-weight: bold\">&gt;</span>: starting with whitespace or hyphen, optionally match \n",
       "<span style=\"font-weight: bold\">&lt;</span><span style=\"color: #ff00ff; text-decoration-color: #ff00ff; font-weight: bold\">code</span><span style=\"font-weight: bold\">&gt;</span>alpha|beta|build<span style=\"font-weight: bold\">&lt;</span><span style=\"color: #800080; text-decoration-color: #800080\">/</span><span style=\"color: #ff00ff; text-decoration-color: #ff00ff\">code</span><span style=\"font-weight: bold\">&gt;</span> part followed by <span style=\"color: #008080; text-decoration-color: #008080; font-weight: bold\">0</span> or more word or dot characters<span style=\"font-weight: bold\">&lt;</span><span style=\"color: #800080; text-decoration-color: #800080\">/</span><span style=\"color: #ff00ff; text-decoration-color: #ff00ff\">li</span><span style=\"font-weight: bold\">&gt;</span>\n",
       "<span style=\"font-weight: bold\">&lt;</span><span style=\"color: #800080; text-decoration-color: #800080\">/</span><span style=\"color: #ff00ff; text-decoration-color: #ff00ff\">ul</span><span style=\"font-weight: bold\">&gt;</span>\n",
       "</pre>\n"
      ],
      "text/plain": [
       "\u001b[1m<\u001b[0m\u001b[1;95mp\u001b[0m\u001b[1m>\u001b[0mYou may try this regex:\u001b[1m<\u001b[0m\u001b[35m/\u001b[0m\u001b[95mp\u001b[0m\u001b[1m>\u001b[0m\n",
       "\u001b[1m<\u001b[0m\u001b[1;95mpre\u001b[0m\u001b[1m>\u001b[0m\u001b[1m<\u001b[0m\u001b[1;95mcode\u001b[0m\u001b[1m>\u001b[0m\\bv\u001b[1m[\u001b[0m\\d+\u001b[1m]\u001b[0m+\u001b[1m[\u001b[0m\\w.\u001b[1m]\u001b[0m*\u001b[1m(\u001b[0m?:\u001b[1m[\u001b[0m-\\s\u001b[1m]\u001b[0m+\u001b[1m(\u001b[0m?:alpha|beta|build\u001b[1m)\u001b[0m\u001b[1m[\u001b[0m\\w.\u001b[1m]\u001b[0m*\u001b[1m)\u001b[0m?\n",
       "\u001b[1m<\u001b[0m\u001b[35m/\u001b[0m\u001b[95mcode\u001b[0m\u001b[1m>\u001b[0m\u001b[1m<\u001b[0m\u001b[35m/\u001b[0m\u001b[95mpre\u001b[0m\u001b[1m>\u001b[0m\n",
       "\u001b[1m<\u001b[0m\u001b[1;95mp\u001b[0m\u001b[1m>\u001b[0m\u001b[1m<\u001b[0m\u001b[1;95ma\u001b[0m\u001b[39m \u001b[0m\u001b[33mhref\u001b[0m\u001b[39m=\u001b[0m\u001b[32m\"https\u001b[0m\u001b[32m://regex101.com/r/sualem/3/\"\u001b[0m\u001b[39m \u001b[0m\u001b[33mrel\u001b[0m\u001b[39m=\u001b[0m\u001b[32m\"nofollow\u001b[0m\u001b[32m noreferrer\"\u001b[0m\u001b[1m>\u001b[0mRegEx Demo\u001b[1m<\u001b[0m\u001b[35m/\u001b[0m\u001b[95ma\u001b[0m\u001b[1m>\u001b[0m\u001b[1m<\u001b[0m\u001b[35m/\u001b[0m\u001b[95mp\u001b[0m\u001b[1m>\u001b[0m\n",
       "\u001b[1m<\u001b[0m\u001b[1;95mp\u001b[0m\u001b[1m>\u001b[0m\u001b[1m<\u001b[0m\u001b[1;95mstrong\u001b[0m\u001b[1m>\u001b[0mPattern Details:\u001b[1m<\u001b[0m\u001b[35m/\u001b[0m\u001b[95mstrong\u001b[0m\u001b[1m>\u001b[0m\u001b[1m<\u001b[0m\u001b[35m/\u001b[0m\u001b[95mp\u001b[0m\u001b[1m>\u001b[0m\n",
       "\u001b[1m<\u001b[0m\u001b[1;95mul\u001b[0m\u001b[1m>\u001b[0m\n",
       "\u001b[1m<\u001b[0m\u001b[1;95mli\u001b[0m\u001b[1m>\u001b[0m\u001b[1m<\u001b[0m\u001b[1;95mcode\u001b[0m\u001b[1m>\u001b[0m\\bv\u001b[1m<\u001b[0m\u001b[35m/\u001b[0m\u001b[95mcode\u001b[0m\u001b[1m>\u001b[0m: Match \u001b[1m<\u001b[0m\u001b[1;95mcode\u001b[0m\u001b[1m>\u001b[0mv\u001b[1m<\u001b[0m\u001b[35m/\u001b[0m\u001b[95mcode\u001b[0m\u001b[1m>\u001b[0m after a word boundary\u001b[1m<\u001b[0m\u001b[35m/\u001b[0m\u001b[95mli\u001b[0m\u001b[1m>\u001b[0m\n",
       "\u001b[1m<\u001b[0m\u001b[1;95mli\u001b[0m\u001b[1m>\u001b[0m\u001b[1m<\u001b[0m\u001b[1;95mcode\u001b[0m\u001b[1m>\u001b[0m\u001b[1m[\u001b[0m\\d+\u001b[1m]\u001b[0m+\u001b[1m<\u001b[0m\u001b[35m/\u001b[0m\u001b[95mcode\u001b[0m\u001b[1m>\u001b[0m: Match \u001b[1;36m1\u001b[0m+ digit or dot characters\u001b[1m<\u001b[0m\u001b[35m/\u001b[0m\u001b[95mli\u001b[0m\u001b[1m>\u001b[0m\n",
       "\u001b[1m<\u001b[0m\u001b[1;95mli\u001b[0m\u001b[1m>\u001b[0m\u001b[1m<\u001b[0m\u001b[1;95mcode\u001b[0m\u001b[1m>\u001b[0m\u001b[1m[\u001b[0m\\w.\u001b[1m]\u001b[0m*\u001b[1m<\u001b[0m\u001b[35m/\u001b[0m\u001b[95mcode\u001b[0m\u001b[1m>\u001b[0m: Match \u001b[1;36m0\u001b[0m or more word or dot characters\u001b[1m<\u001b[0m\u001b[35m/\u001b[0m\u001b[95mli\u001b[0m\u001b[1m>\u001b[0m\n",
       "\u001b[1m<\u001b[0m\u001b[1;95mli\u001b[0m\u001b[1m>\u001b[0m\u001b[1m<\u001b[0m\u001b[1;95mcode\u001b[0m\u001b[1m>\u001b[0m\u001b[1m(\u001b[0m?:\u001b[1m[\u001b[0m-\\s\u001b[1m]\u001b[0m+\u001b[1m(\u001b[0m?:alpha|beta|build\u001b[1m)\u001b[0m\u001b[1m[\u001b[0m\\w.\u001b[1m]\u001b[0m*\u001b[1m)\u001b[0m?\u001b[1m<\u001b[0m\u001b[35m/\u001b[0m\u001b[95mcode\u001b[0m\u001b[1m>\u001b[0m: starting with whitespace or hyphen, optionally match \n",
       "\u001b[1m<\u001b[0m\u001b[1;95mcode\u001b[0m\u001b[1m>\u001b[0malpha|beta|build\u001b[1m<\u001b[0m\u001b[35m/\u001b[0m\u001b[95mcode\u001b[0m\u001b[1m>\u001b[0m part followed by \u001b[1;36m0\u001b[0m or more word or dot characters\u001b[1m<\u001b[0m\u001b[35m/\u001b[0m\u001b[95mli\u001b[0m\u001b[1m>\u001b[0m\n",
       "\u001b[1m<\u001b[0m\u001b[35m/\u001b[0m\u001b[95mul\u001b[0m\u001b[1m>\u001b[0m\n"
      ]
     },
     "metadata": {},
     "output_type": "display_data"
    }
   ],
   "source": [
    "print(so_df.output_text[index_doc_cosine])"
   ]
  },
  {
   "cell_type": "code",
   "execution_count": 39,
   "metadata": {},
   "outputs": [
    {
     "data": {
      "text/html": [
       "<pre style=\"white-space:pre;overflow-x:auto;line-height:normal;font-family:Menlo,'DejaVu Sans Mono',consolas,'Courier New',monospace\"><span style=\"color: #008080; text-decoration-color: #008080; font-weight: bold\">1073</span>\n",
       "</pre>\n"
      ],
      "text/plain": [
       "\u001b[1;36m1073\u001b[0m\n"
      ]
     },
     "metadata": {},
     "output_type": "display_data"
    }
   ],
   "source": [
    "print(index_doc_distances)"
   ]
  }
 ],
 "metadata": {
  "kernelspec": {
   "display_name": "Python 3",
   "language": "python",
   "name": "python3"
  },
  "language_info": {
   "codemirror_mode": {
    "name": "ipython",
    "version": 3
   },
   "file_extension": ".py",
   "mimetype": "text/x-python",
   "name": "python",
   "nbconvert_exporter": "python",
   "pygments_lexer": "ipython3",
   "version": "3.10.10"
  },
  "orig_nbformat": 4
 },
 "nbformat": 4,
 "nbformat_minor": 2
}
