{
 "cells": [
  {
   "cell_type": "code",
   "execution_count": null,
   "metadata": {},
   "outputs": [],
   "source": []
  },
  {
   "cell_type": "markdown",
   "metadata": {},
   "source": [
    "# Sparse Dense and Hybrid Search"
   ]
  },
  {
   "cell_type": "markdown",
   "metadata": {},
   "source": [
    "## Keyword/Sparse Search"
   ]
  },
  {
   "cell_type": "code",
   "execution_count": 1,
   "metadata": {},
   "outputs": [],
   "source": [
    "from rich import print\n",
    "from rich import pretty\n",
    "pretty.install()\n",
    "import os\n",
    "from dotenv import load_dotenv\n",
    "load_dotenv()\n",
    "\n",
    "import weaviate\n"
   ]
  },
  {
   "cell_type": "code",
   "execution_count": 7,
   "metadata": {},
   "outputs": [],
   "source": [
    "client = weaviate.Client(\n",
    "    auth_client_secret = weaviate.AuthApiKey(api_key = os.getenv(\"WEAVIATE_API_KEY\")),\n",
    "\n",
    "    # 10 million records from 10 different languages. One million records for each language.\n",
    "    # Each row is a paragraph from wikipedia\n",
    "    url = \"https://cohere-demo.weaviate.network/\",\n",
    "    additional_headers={\n",
    "        \"X-Cohere-Api-Key\": os.getenv(\"COHERE_API_KEY\"),\n",
    "\n",
    "    }\n",
    ")\n"
   ]
  },
  {
   "cell_type": "code",
   "execution_count": 8,
   "metadata": {},
   "outputs": [
    {
     "data": {
      "text/html": [
       "<pre style=\"white-space:pre;overflow-x:auto;line-height:normal;font-family:Menlo,'DejaVu Sans Mono',consolas,'Courier New',monospace\"><span style=\"color: #00ff00; text-decoration-color: #00ff00; font-style: italic\">True</span>\n",
       "</pre>\n"
      ],
      "text/plain": [
       "\u001b[3;92mTrue\u001b[0m\n"
      ]
     },
     "metadata": {},
     "output_type": "display_data"
    }
   ],
   "source": [
    "client.is_ready()\n"
   ]
  },
  {
   "cell_type": "code",
   "execution_count": 9,
   "metadata": {},
   "outputs": [],
   "source": [
    "def keyword_search(query,\n",
    "    properties = [\"title\",\"url\",\"text\"],\n",
    "    results_lang = \"en\",\n",
    "    num_results = 3):\n",
    "    where_filter = {\n",
    "        \"path\": [\"lang\"],\n",
    "        \"operator\": \"Equal\",\n",
    "        \"valueString\": results_lang}\n",
    "\n",
    "\n",
    "    response = (client.query\n",
    "                .get(\"Articles\", properties)\n",
    "                .with_bm25(query = query)\n",
    "                .with_where(where_filter)\n",
    "                .with_limit(num_results)\n",
    "                .do())\n",
    "    result = response[\"data\"][\"Get\"][\"Articles\"]\n",
    "    return result\n"
   ]
  },
  {
   "cell_type": "code",
   "execution_count": 11,
   "metadata": {},
   "outputs": [],
   "source": [
    "def print_result(result):\n",
    "    \"\"\" Print results with colorful formatting \"\"\"\n",
    "    for i,item in enumerate(result):\n",
    "        print(f'item {i}')\n",
    "        for key in item.keys():\n",
    "            print(f\"{key}:{item.get(key)}\")\n",
    "            print()\n",
    "        print()\n"
   ]
  },
  {
   "cell_type": "code",
   "execution_count": 12,
   "metadata": {},
   "outputs": [
    {
     "data": {
      "text/html": [
       "<pre style=\"white-space:pre;overflow-x:auto;line-height:normal;font-family:Menlo,'DejaVu Sans Mono',consolas,'Courier New',monospace\">item <span style=\"color: #008080; text-decoration-color: #008080; font-weight: bold\">0</span>\n",
       "</pre>\n"
      ],
      "text/plain": [
       "item \u001b[1;36m0\u001b[0m\n"
      ]
     },
     "metadata": {},
     "output_type": "display_data"
    },
    {
     "data": {
      "text/html": [
       "<pre style=\"white-space:pre;overflow-x:auto;line-height:normal;font-family:Menlo,'DejaVu Sans Mono',consolas,'Courier New',monospace\">text:The most active Gamergate supporters or <span style=\"color: #008000; text-decoration-color: #008000\">\"Gamergaters\"</span> said that Gamergate was a movement for ethics in games \n",
       "journalism, for protecting the <span style=\"color: #008000; text-decoration-color: #008000\">\"gamer\"</span> identity, and for opposing <span style=\"color: #008000; text-decoration-color: #008000\">\"political correctness\"</span> in video games and that \n",
       "any harassment of women was done by others not affiliated with Gamergate. They argued that the close relationships \n",
       "between journalists and developers demonstrated a conspiracy among reviewers to focus on progressive social issues.\n",
       "Some supporters pointed to what they considered disproportionate praise for games such as <span style=\"color: #008000; text-decoration-color: #008000\">\"Depression Quest\"</span> and \n",
       "<span style=\"color: #008000; text-decoration-color: #008000\">\"Gone Home\"</span>, which feature unconventional gameplay and stories with social implications, while they viewed \n",
       "traditional AAA games as downplayed. <span style=\"color: #ff0000; text-decoration-color: #ff0000; font-style: italic\">False</span> claims of the <span style=\"color: #008000; text-decoration-color: #008000\">\"ethics in game journalism\"</span> had started as early as <span style=\"color: #008080; text-decoration-color: #008080; font-weight: bold\">2012</span>, \n",
       "when Geoff Keighley was accused of such unethical behavior when he was presenting information about <span style=\"color: #008000; text-decoration-color: #008000\">\"Halo 4\"</span> among \n",
       "advertisements for Mountain Dew and Doritos, an event called <span style=\"color: #008000; text-decoration-color: #008000\">\"Doritosgate\"</span> in the gamer culture.\n",
       "</pre>\n"
      ],
      "text/plain": [
       "text:The most active Gamergate supporters or \u001b[32m\"Gamergaters\"\u001b[0m said that Gamergate was a movement for ethics in games \n",
       "journalism, for protecting the \u001b[32m\"gamer\"\u001b[0m identity, and for opposing \u001b[32m\"political correctness\"\u001b[0m in video games and that \n",
       "any harassment of women was done by others not affiliated with Gamergate. They argued that the close relationships \n",
       "between journalists and developers demonstrated a conspiracy among reviewers to focus on progressive social issues.\n",
       "Some supporters pointed to what they considered disproportionate praise for games such as \u001b[32m\"Depression Quest\"\u001b[0m and \n",
       "\u001b[32m\"Gone Home\"\u001b[0m, which feature unconventional gameplay and stories with social implications, while they viewed \n",
       "traditional AAA games as downplayed. \u001b[3;91mFalse\u001b[0m claims of the \u001b[32m\"ethics in game journalism\"\u001b[0m had started as early as \u001b[1;36m2012\u001b[0m, \n",
       "when Geoff Keighley was accused of such unethical behavior when he was presenting information about \u001b[32m\"Halo 4\"\u001b[0m among \n",
       "advertisements for Mountain Dew and Doritos, an event called \u001b[32m\"Doritosgate\"\u001b[0m in the gamer culture.\n"
      ]
     },
     "metadata": {},
     "output_type": "display_data"
    },
    {
     "data": {
      "text/html": [
       "<pre style=\"white-space:pre;overflow-x:auto;line-height:normal;font-family:Menlo,'DejaVu Sans Mono',consolas,'Courier New',monospace\">\n",
       "</pre>\n"
      ],
      "text/plain": [
       "\n"
      ]
     },
     "metadata": {},
     "output_type": "display_data"
    },
    {
     "data": {
      "text/html": [
       "<pre style=\"white-space:pre;overflow-x:auto;line-height:normal;font-family:Menlo,'DejaVu Sans Mono',consolas,'Courier New',monospace\">title:Gamergate <span style=\"font-weight: bold\">(</span>harassment campaign<span style=\"font-weight: bold\">)</span>\n",
       "</pre>\n"
      ],
      "text/plain": [
       "title:Gamergate \u001b[1m(\u001b[0mharassment campaign\u001b[1m)\u001b[0m\n"
      ]
     },
     "metadata": {},
     "output_type": "display_data"
    },
    {
     "data": {
      "text/html": [
       "<pre style=\"white-space:pre;overflow-x:auto;line-height:normal;font-family:Menlo,'DejaVu Sans Mono',consolas,'Courier New',monospace\">\n",
       "</pre>\n"
      ],
      "text/plain": [
       "\n"
      ]
     },
     "metadata": {},
     "output_type": "display_data"
    },
    {
     "data": {
      "text/html": [
       "<pre style=\"white-space:pre;overflow-x:auto;line-height:normal;font-family:Menlo,'DejaVu Sans Mono',consolas,'Courier New',monospace\">url:<span style=\"color: #0000ff; text-decoration-color: #0000ff; text-decoration: underline\">https://en.wikipedia.org/wiki?curid=43758363</span>\n",
       "</pre>\n"
      ],
      "text/plain": [
       "url:\u001b[4;94mhttps://en.wikipedia.org/wiki?\u001b[0m\u001b[4;94mcurid\u001b[0m\u001b[4;94m=\u001b[0m\u001b[4;94m43758363\u001b[0m\n"
      ]
     },
     "metadata": {},
     "output_type": "display_data"
    },
    {
     "data": {
      "text/html": [
       "<pre style=\"white-space:pre;overflow-x:auto;line-height:normal;font-family:Menlo,'DejaVu Sans Mono',consolas,'Courier New',monospace\">\n",
       "</pre>\n"
      ],
      "text/plain": [
       "\n"
      ]
     },
     "metadata": {},
     "output_type": "display_data"
    },
    {
     "data": {
      "text/html": [
       "<pre style=\"white-space:pre;overflow-x:auto;line-height:normal;font-family:Menlo,'DejaVu Sans Mono',consolas,'Courier New',monospace\">\n",
       "</pre>\n"
      ],
      "text/plain": [
       "\n"
      ]
     },
     "metadata": {},
     "output_type": "display_data"
    },
    {
     "data": {
      "text/html": [
       "<pre style=\"white-space:pre;overflow-x:auto;line-height:normal;font-family:Menlo,'DejaVu Sans Mono',consolas,'Courier New',monospace\">item <span style=\"color: #008080; text-decoration-color: #008080; font-weight: bold\">1</span>\n",
       "</pre>\n"
      ],
      "text/plain": [
       "item \u001b[1;36m1\u001b[0m\n"
      ]
     },
     "metadata": {},
     "output_type": "display_data"
    },
    {
     "data": {
      "text/html": [
       "<pre style=\"white-space:pre;overflow-x:auto;line-height:normal;font-family:Menlo,'DejaVu Sans Mono',consolas,'Courier New',monospace\">text:<span style=\"color: #008000; text-decoration-color: #008000\">\"Rolling Stone\"</span> stated Jackson's Super Bowl performance <span style=\"color: #008000; text-decoration-color: #008000\">\"is far and away the most famous moment in the history</span>\n",
       "<span style=\"color: #008000; text-decoration-color: #008000\">of the Super Bowl halftime show\"</span>. <span style=\"color: #008000; text-decoration-color: #008000\">\"PopCrush\"</span> called the performance <span style=\"color: #008000; text-decoration-color: #008000\">\"one of the most shocking moments in pop </span>\n",
       "<span style=\"color: #008000; text-decoration-color: #008000\">culture\"</span> as well as a <span style=\"color: #008000; text-decoration-color: #008000\">\"totally unexpected and unforgettable moment\"</span>. <span style=\"color: #008000; text-decoration-color: #008000\">\"Gawker\"</span> ranked the performance among the most\n",
       "recent of the <span style=\"color: #008000; text-decoration-color: #008000\">\"10 Shows that Advanced Sex on Television\"</span>, commenting the set <span style=\"color: #008000; text-decoration-color: #008000\">\"had all the elements of a huge story\"</span>\n",
       "and <span style=\"color: #008000; text-decoration-color: #008000\">\"within seconds the world searched furtively for pictures\"</span>, concluding <span style=\"color: #008000; text-decoration-color: #008000\">\"it remains so ubiquitous, it's </span>\n",
       "<span style=\"color: #008000; text-decoration-color: #008000\">impossible to look at a starburst nipple shield without thinking \"</span>Janet Jackson\"<span style=\"color: #008000; text-decoration-color: #008000\">\". \"</span>E! Online\" ranked it among the \n",
       "top ten most shocking celebrity moments of the prior two decades. A study of television's most impactful moments of\n",
       "the last <span style=\"color: #008080; text-decoration-color: #008080; font-weight: bold\">50</span> years conducted by Sony Electronics and the Nielsen Television Research Company ranked Jackson's Super \n",
       "Bowl performance at #<span style=\"color: #008080; text-decoration-color: #008080; font-weight: bold\">26</span>. The incident was the only Super Bowl event on the list and the highest music and \n",
       "entertainment event aside from the death of Whitney Houston. TV Guide Network ranked it at #<span style=\"color: #008080; text-decoration-color: #008080; font-weight: bold\">2</span> in a <span style=\"color: #008080; text-decoration-color: #008080; font-weight: bold\">2010</span> special \n",
       "listing the <span style=\"color: #008000; text-decoration-color: #008000\">\"25 Biggest TV Blunders\"</span>. <span style=\"color: #008000; text-decoration-color: #008000\">\"Complex\"</span> stated <span style=\"color: #008000; text-decoration-color: #008000\">\"It's the Citizen Kane of televised nip-slips—so unexpected,</span>\n",
       "<span style=\"color: #008000; text-decoration-color: #008000\">and on such a large stage, that nothing else will ever come close. If Beyoncé were to whip out both breasts and put</span>\n",
       "<span style=\"color: #008000; text-decoration-color: #008000\">on a puppet show with them when she performs this year in New Orleans, it would rate as just the second most </span>\n",
       "<span style=\"color: #008000; text-decoration-color: #008000\">shocking Super Boob display. Janet's strangely ornamented right nipple is a living legend, and so is Justin </span>\n",
       "<span style=\"color: #008000; text-decoration-color: #008000\">Timberlake's terrified reaction.\"</span> Music channel Fuse listed it as the most controversial Super Bowl halftime show, \n",
       "saying the <span style=\"color: #008000; text-decoration-color: #008000\">\"revealing performance remains (and will forever remain) the craziest thing to ever happen at a halftime</span>\n",
       "<span style=\"color: #008000; text-decoration-color: #008000\">show. Almost immediately after the incident, the FCC received a flood of complaints from parents who just wanted </span>\n",
       "<span style=\"color: #008000; text-decoration-color: #008000\">their children to enjoy a nice, wholesome three hours of grown men inflicting damaging and long-lasting pain on </span>\n",
       "<span style=\"color: #008000; text-decoration-color: #008000\">each other for sport. Halftime shows would never be the same.\"</span> Patrick Gipson of <span style=\"color: #008000; text-decoration-color: #008000\">\"Bleacher Report\"</span> ranked it as #<span style=\"color: #008080; text-decoration-color: #008080; font-weight: bold\">1</span> \n",
       "in its list of the most <span style=\"color: #008000; text-decoration-color: #008000\">\"Jaw Dropping Moments of the Last Decade\"</span>, stating Janet <span style=\"color: #008000; text-decoration-color: #008000\">\"changed the landscape of live </span>\n",
       "<span style=\"color: #008000; text-decoration-color: #008000\">television forever\"</span>. Gipson explained <span style=\"color: #008000; text-decoration-color: #008000\">\"It prompted a million mothers to cover their eyes, fathers and sons to jump </span>\n",
       "<span style=\"color: #008000; text-decoration-color: #008000\">out of their seats in shock and numerous sanctions by the Federal Communications Commission, including a US$550,000</span>\n",
       "<span style=\"color: #008000; text-decoration-color: #008000\">fine against CBS. Talk about a halftime show that will be hard to top.\"</span> The incident was also declared <span style=\"color: #008000; text-decoration-color: #008000\">\"the most </span>\n",
       "<span style=\"color: #008000; text-decoration-color: #008000\">memorable Super Bowl halftime show in history\"</span>, as well as <span style=\"color: #008000; text-decoration-color: #008000\">\"the most controversial\"</span>, adding <span style=\"color: #008000; text-decoration-color: #008000\">\"you can't talk about </span>\n",
       "<span style=\"color: #008000; text-decoration-color: #008000\">this halftime show, or any subsequent halftime show from here to eternity, without mentioning the wardrobe </span>\n",
       "<span style=\"color: #008000; text-decoration-color: #008000\">malfunction\"</span>.\n",
       "</pre>\n"
      ],
      "text/plain": [
       "text:\u001b[32m\"Rolling Stone\"\u001b[0m stated Jackson's Super Bowl performance \u001b[32m\"is far and away the most famous moment in the history\u001b[0m\n",
       "\u001b[32mof the Super Bowl halftime show\"\u001b[0m. \u001b[32m\"PopCrush\"\u001b[0m called the performance \u001b[32m\"one of the most shocking moments in pop \u001b[0m\n",
       "\u001b[32mculture\"\u001b[0m as well as a \u001b[32m\"totally unexpected and unforgettable moment\"\u001b[0m. \u001b[32m\"Gawker\"\u001b[0m ranked the performance among the most\n",
       "recent of the \u001b[32m\"10 Shows that Advanced Sex on Television\"\u001b[0m, commenting the set \u001b[32m\"had all the elements of a huge story\"\u001b[0m\n",
       "and \u001b[32m\"within seconds the world searched furtively for pictures\"\u001b[0m, concluding \u001b[32m\"it remains so ubiquitous, it's \u001b[0m\n",
       "\u001b[32mimpossible to look at a starburst nipple shield without thinking \"\u001b[0mJanet Jackson\"\u001b[32m\". \"\u001b[0mE! Online\" ranked it among the \n",
       "top ten most shocking celebrity moments of the prior two decades. A study of television's most impactful moments of\n",
       "the last \u001b[1;36m50\u001b[0m years conducted by Sony Electronics and the Nielsen Television Research Company ranked Jackson's Super \n",
       "Bowl performance at #\u001b[1;36m26\u001b[0m. The incident was the only Super Bowl event on the list and the highest music and \n",
       "entertainment event aside from the death of Whitney Houston. TV Guide Network ranked it at #\u001b[1;36m2\u001b[0m in a \u001b[1;36m2010\u001b[0m special \n",
       "listing the \u001b[32m\"25 Biggest TV Blunders\"\u001b[0m. \u001b[32m\"Complex\"\u001b[0m stated \u001b[32m\"It's the Citizen Kane of televised nip-slips—so unexpected,\u001b[0m\n",
       "\u001b[32mand on such a large stage, that nothing else will ever come close. If Beyoncé were to whip out both breasts and put\u001b[0m\n",
       "\u001b[32mon a puppet show with them when she performs this year in New Orleans, it would rate as just the second most \u001b[0m\n",
       "\u001b[32mshocking Super Boob display. Janet's strangely ornamented right nipple is a living legend, and so is Justin \u001b[0m\n",
       "\u001b[32mTimberlake's terrified reaction.\"\u001b[0m Music channel Fuse listed it as the most controversial Super Bowl halftime show, \n",
       "saying the \u001b[32m\"revealing performance remains \u001b[0m\u001b[32m(\u001b[0m\u001b[32mand will forever remain\u001b[0m\u001b[32m)\u001b[0m\u001b[32m the craziest thing to ever happen at a halftime\u001b[0m\n",
       "\u001b[32mshow. Almost immediately after the incident, the FCC received a flood of complaints from parents who just wanted \u001b[0m\n",
       "\u001b[32mtheir children to enjoy a nice, wholesome three hours of grown men inflicting damaging and long-lasting pain on \u001b[0m\n",
       "\u001b[32meach other for sport. Halftime shows would never be the same.\"\u001b[0m Patrick Gipson of \u001b[32m\"Bleacher Report\"\u001b[0m ranked it as #\u001b[1;36m1\u001b[0m \n",
       "in its list of the most \u001b[32m\"Jaw Dropping Moments of the Last Decade\"\u001b[0m, stating Janet \u001b[32m\"changed the landscape of live \u001b[0m\n",
       "\u001b[32mtelevision forever\"\u001b[0m. Gipson explained \u001b[32m\"It prompted a million mothers to cover their eyes, fathers and sons to jump \u001b[0m\n",
       "\u001b[32mout of their seats in shock and numerous sanctions by the Federal Communications Commission, including a US$550,000\u001b[0m\n",
       "\u001b[32mfine against CBS. Talk about a halftime show that will be hard to top.\"\u001b[0m The incident was also declared \u001b[32m\"the most \u001b[0m\n",
       "\u001b[32mmemorable Super Bowl halftime show in history\"\u001b[0m, as well as \u001b[32m\"the most controversial\"\u001b[0m, adding \u001b[32m\"you can't talk about \u001b[0m\n",
       "\u001b[32mthis halftime show, or any subsequent halftime show from here to eternity, without mentioning the wardrobe \u001b[0m\n",
       "\u001b[32mmalfunction\"\u001b[0m.\n"
      ]
     },
     "metadata": {},
     "output_type": "display_data"
    },
    {
     "data": {
      "text/html": [
       "<pre style=\"white-space:pre;overflow-x:auto;line-height:normal;font-family:Menlo,'DejaVu Sans Mono',consolas,'Courier New',monospace\">\n",
       "</pre>\n"
      ],
      "text/plain": [
       "\n"
      ]
     },
     "metadata": {},
     "output_type": "display_data"
    },
    {
     "data": {
      "text/html": [
       "<pre style=\"white-space:pre;overflow-x:auto;line-height:normal;font-family:Menlo,'DejaVu Sans Mono',consolas,'Courier New',monospace\">title:Super Bowl XXXVIII halftime show controversy\n",
       "</pre>\n"
      ],
      "text/plain": [
       "title:Super Bowl XXXVIII halftime show controversy\n"
      ]
     },
     "metadata": {},
     "output_type": "display_data"
    },
    {
     "data": {
      "text/html": [
       "<pre style=\"white-space:pre;overflow-x:auto;line-height:normal;font-family:Menlo,'DejaVu Sans Mono',consolas,'Courier New',monospace\">\n",
       "</pre>\n"
      ],
      "text/plain": [
       "\n"
      ]
     },
     "metadata": {},
     "output_type": "display_data"
    },
    {
     "data": {
      "text/html": [
       "<pre style=\"white-space:pre;overflow-x:auto;line-height:normal;font-family:Menlo,'DejaVu Sans Mono',consolas,'Courier New',monospace\">url:<span style=\"color: #0000ff; text-decoration-color: #0000ff; text-decoration: underline\">https://en.wikipedia.org/wiki?curid=498971</span>\n",
       "</pre>\n"
      ],
      "text/plain": [
       "url:\u001b[4;94mhttps://en.wikipedia.org/wiki?\u001b[0m\u001b[4;94mcurid\u001b[0m\u001b[4;94m=\u001b[0m\u001b[4;94m498971\u001b[0m\n"
      ]
     },
     "metadata": {},
     "output_type": "display_data"
    },
    {
     "data": {
      "text/html": [
       "<pre style=\"white-space:pre;overflow-x:auto;line-height:normal;font-family:Menlo,'DejaVu Sans Mono',consolas,'Courier New',monospace\">\n",
       "</pre>\n"
      ],
      "text/plain": [
       "\n"
      ]
     },
     "metadata": {},
     "output_type": "display_data"
    },
    {
     "data": {
      "text/html": [
       "<pre style=\"white-space:pre;overflow-x:auto;line-height:normal;font-family:Menlo,'DejaVu Sans Mono',consolas,'Courier New',monospace\">\n",
       "</pre>\n"
      ],
      "text/plain": [
       "\n"
      ]
     },
     "metadata": {},
     "output_type": "display_data"
    },
    {
     "data": {
      "text/html": [
       "<pre style=\"white-space:pre;overflow-x:auto;line-height:normal;font-family:Menlo,'DejaVu Sans Mono',consolas,'Courier New',monospace\">item <span style=\"color: #008080; text-decoration-color: #008080; font-weight: bold\">2</span>\n",
       "</pre>\n"
      ],
      "text/plain": [
       "item \u001b[1;36m2\u001b[0m\n"
      ]
     },
     "metadata": {},
     "output_type": "display_data"
    },
    {
     "data": {
      "text/html": [
       "<pre style=\"white-space:pre;overflow-x:auto;line-height:normal;font-family:Menlo,'DejaVu Sans Mono',consolas,'Courier New',monospace\">text:West Germany <span style=\"font-weight: bold\">(</span>established in May <span style=\"color: #008080; text-decoration-color: #008080; font-weight: bold\">1949</span><span style=\"font-weight: bold\">)</span> was not eligible for the <span style=\"color: #008080; text-decoration-color: #008080; font-weight: bold\">1950</span> World Cup <span style=\"font-weight: bold\">(</span>the first after the war<span style=\"font-weight: bold\">)</span>, and \n",
       "so all preparations were made with a view toward the <span style=\"color: #008080; text-decoration-color: #008080; font-weight: bold\">1954</span> matches in Bern, Switzerland. By that time Adidas's \n",
       "football boots were considerably lighter than the ones made before the war, based on English designs. At the World \n",
       "Cup Adi had a secret weapon, which he revealed when West Germany made the finals against the overwhelmingly favored\n",
       "Hungarian team, which was undefeated since May <span style=\"color: #008080; text-decoration-color: #008080; font-weight: bold\">1950</span> and had defeated West Germany <span style=\"color: #008080; text-decoration-color: #008080; font-weight: bold\">8</span>–<span style=\"color: #008080; text-decoration-color: #008080; font-weight: bold\">3</span> in group play. Despite this \n",
       "defeat, West Germany made the knock-out rounds by twice defeating Turkey handily. The team defeated Yugoslavia and \n",
       "Austria to reach the final <span style=\"font-weight: bold\">(</span>a remarkable achievement<span style=\"font-weight: bold\">)</span>, where the hope of many German fans was simply that the team \n",
       "<span style=\"color: #008000; text-decoration-color: #008000\">\"avoid another humiliating defeat\"</span> at the hands of the Hungarians. The day of the final began with light rain, \n",
       "which brightened the prospects of the West German team who called it <span style=\"color: #008000; text-decoration-color: #008000\">\"\"</span>Fritz Walter-Wetter\"<span style=\"color: #008000; text-decoration-color: #008000\">\" because the team's </span>\n",
       "<span style=\"color: #008000; text-decoration-color: #008000\">best player excelled in muddy conditions. Dassler informed Herberger before the match of his latest </span>\n",
       "<span style=\"color: #008000; text-decoration-color: #008000\">innovation—\"</span>screw in studs.<span style=\"color: #008000; text-decoration-color: #008000\">\" Unlike the traditional boot which had fixed leather spike studs, Dassler's shoe </span>\n",
       "<span style=\"color: #008000; text-decoration-color: #008000\">allowed spikes of various lengths to be affixed depending on the state of the pitch. As the playing field at </span>\n",
       "<span style=\"color: #008000; text-decoration-color: #008000\">Wankdorf Stadium drastically deteriorated, Herberger famously announced, \"</span>Adi, screw them on.<span style=\"color: #008000; text-decoration-color: #008000\">\" The longer spikes </span>\n",
       "<span style=\"color: #008000; text-decoration-color: #008000\">improved the footing of West German players compared to the Hungarians whose mud-caked boots were also much </span>\n",
       "<span style=\"color: #008000; text-decoration-color: #008000\">heavier. The West Germans staged a come from behind upset, winning 3-2, in what became known as the \"</span>Miracle in \n",
       "Bern.<span style=\"color: #008000; text-decoration-color: #008000\">\" Herberger publicly praised Dassler as a key contributor to the win, and Adidas's fame rose both in West </span>\n",
       "<span style=\"color: #008000; text-decoration-color: #008000\">Germany, where the win was considered a key post-war event in restoring German self-esteem and abroad, where in the</span>\n",
       "<span style=\"color: #008000; text-decoration-color: #008000\">first televised World Cup final viewers were introduced to \"</span>the ultimate breakthrough.\"\n",
       "</pre>\n"
      ],
      "text/plain": [
       "text:West Germany \u001b[1m(\u001b[0mestablished in May \u001b[1;36m1949\u001b[0m\u001b[1m)\u001b[0m was not eligible for the \u001b[1;36m1950\u001b[0m World Cup \u001b[1m(\u001b[0mthe first after the war\u001b[1m)\u001b[0m, and \n",
       "so all preparations were made with a view toward the \u001b[1;36m1954\u001b[0m matches in Bern, Switzerland. By that time Adidas's \n",
       "football boots were considerably lighter than the ones made before the war, based on English designs. At the World \n",
       "Cup Adi had a secret weapon, which he revealed when West Germany made the finals against the overwhelmingly favored\n",
       "Hungarian team, which was undefeated since May \u001b[1;36m1950\u001b[0m and had defeated West Germany \u001b[1;36m8\u001b[0m–\u001b[1;36m3\u001b[0m in group play. Despite this \n",
       "defeat, West Germany made the knock-out rounds by twice defeating Turkey handily. The team defeated Yugoslavia and \n",
       "Austria to reach the final \u001b[1m(\u001b[0ma remarkable achievement\u001b[1m)\u001b[0m, where the hope of many German fans was simply that the team \n",
       "\u001b[32m\"avoid another humiliating defeat\"\u001b[0m at the hands of the Hungarians. The day of the final began with light rain, \n",
       "which brightened the prospects of the West German team who called it \u001b[32m\"\"\u001b[0mFritz Walter-Wetter\"\u001b[32m\" because the team's \u001b[0m\n",
       "\u001b[32mbest player excelled in muddy conditions. Dassler informed Herberger before the match of his latest \u001b[0m\n",
       "\u001b[32minnovation—\"\u001b[0mscrew in studs.\u001b[32m\" Unlike the traditional boot which had fixed leather spike studs, Dassler's shoe \u001b[0m\n",
       "\u001b[32mallowed spikes of various lengths to be affixed depending on the state of the pitch. As the playing field at \u001b[0m\n",
       "\u001b[32mWankdorf Stadium drastically deteriorated, Herberger famously announced, \"\u001b[0mAdi, screw them on.\u001b[32m\" The longer spikes \u001b[0m\n",
       "\u001b[32mimproved the footing of West German players compared to the Hungarians whose mud-caked boots were also much \u001b[0m\n",
       "\u001b[32mheavier. The West Germans staged a come from behind upset, winning 3-2, in what became known as the \"\u001b[0mMiracle in \n",
       "Bern.\u001b[32m\" Herberger publicly praised Dassler as a key contributor to the win, and Adidas's fame rose both in West \u001b[0m\n",
       "\u001b[32mGermany, where the win was considered a key post-war event in restoring German self-esteem and abroad, where in the\u001b[0m\n",
       "\u001b[32mfirst televised World Cup final viewers were introduced to \"\u001b[0mthe ultimate breakthrough.\"\n"
      ]
     },
     "metadata": {},
     "output_type": "display_data"
    },
    {
     "data": {
      "text/html": [
       "<pre style=\"white-space:pre;overflow-x:auto;line-height:normal;font-family:Menlo,'DejaVu Sans Mono',consolas,'Courier New',monospace\">\n",
       "</pre>\n"
      ],
      "text/plain": [
       "\n"
      ]
     },
     "metadata": {},
     "output_type": "display_data"
    },
    {
     "data": {
      "text/html": [
       "<pre style=\"white-space:pre;overflow-x:auto;line-height:normal;font-family:Menlo,'DejaVu Sans Mono',consolas,'Courier New',monospace\">titl<span style=\"color: #00ff00; text-decoration-color: #00ff00; font-weight: bold\">e:Ad</span>olf Dassler\n",
       "</pre>\n"
      ],
      "text/plain": [
       "titl\u001b[1;92me:Ad\u001b[0molf Dassler\n"
      ]
     },
     "metadata": {},
     "output_type": "display_data"
    },
    {
     "data": {
      "text/html": [
       "<pre style=\"white-space:pre;overflow-x:auto;line-height:normal;font-family:Menlo,'DejaVu Sans Mono',consolas,'Courier New',monospace\">\n",
       "</pre>\n"
      ],
      "text/plain": [
       "\n"
      ]
     },
     "metadata": {},
     "output_type": "display_data"
    },
    {
     "data": {
      "text/html": [
       "<pre style=\"white-space:pre;overflow-x:auto;line-height:normal;font-family:Menlo,'DejaVu Sans Mono',consolas,'Courier New',monospace\">url:<span style=\"color: #0000ff; text-decoration-color: #0000ff; text-decoration: underline\">https://en.wikipedia.org/wiki?curid=2373164</span>\n",
       "</pre>\n"
      ],
      "text/plain": [
       "url:\u001b[4;94mhttps://en.wikipedia.org/wiki?\u001b[0m\u001b[4;94mcurid\u001b[0m\u001b[4;94m=\u001b[0m\u001b[4;94m2373164\u001b[0m\n"
      ]
     },
     "metadata": {},
     "output_type": "display_data"
    },
    {
     "data": {
      "text/html": [
       "<pre style=\"white-space:pre;overflow-x:auto;line-height:normal;font-family:Menlo,'DejaVu Sans Mono',consolas,'Courier New',monospace\">\n",
       "</pre>\n"
      ],
      "text/plain": [
       "\n"
      ]
     },
     "metadata": {},
     "output_type": "display_data"
    },
    {
     "data": {
      "text/html": [
       "<pre style=\"white-space:pre;overflow-x:auto;line-height:normal;font-family:Menlo,'DejaVu Sans Mono',consolas,'Courier New',monospace\">\n",
       "</pre>\n"
      ],
      "text/plain": [
       "\n"
      ]
     },
     "metadata": {},
     "output_type": "display_data"
    }
   ],
   "source": [
    "query = \"What is the most viewed televised event?\"\n",
    "keyword_search_results = keyword_search(query)\n",
    "print_result(keyword_search_results)\n"
   ]
  },
  {
   "cell_type": "markdown",
   "metadata": {},
   "source": [
    "Other languages to try: en, de, fr, es, it, ja, ar, zh, ko, hi"
   ]
  },
  {
   "cell_type": "code",
   "execution_count": 13,
   "metadata": {},
   "outputs": [
    {
     "data": {
      "text/html": [
       "<pre style=\"white-space:pre;overflow-x:auto;line-height:normal;font-family:Menlo,'DejaVu Sans Mono',consolas,'Courier New',monospace\">item <span style=\"color: #008080; text-decoration-color: #008080; font-weight: bold\">0</span>\n",
       "</pre>\n"
      ],
      "text/plain": [
       "item \u001b[1;36m0\u001b[0m\n"
      ]
     },
     "metadata": {},
     "output_type": "display_data"
    },
    {
     "data": {
      "text/html": [
       "<pre style=\"white-space:pre;overflow-x:auto;line-height:normal;font-family:Menlo,'DejaVu Sans Mono',consolas,'Courier New',monospace\">text:Das nächste Album <span style=\"color: #008000; text-decoration-color: #008000\">\"Extinction Level Event: The Final World Front\"</span>, dessen Titel vom Film <span style=\"color: #008000; text-decoration-color: #008000\">\"Deep Impact\"</span> \n",
       "inspiriert war, enthielt die Single <span style=\"color: #008000; text-decoration-color: #008000\">\"Gimme Some More\"</span>, die im Januar <span style=\"color: #008080; text-decoration-color: #008080; font-weight: bold\">1999</span> Platz <span style=\"color: #008080; text-decoration-color: #008080; font-weight: bold\">5</span> der britischen Charts belegte. \n",
       "Mit Janet Jackson sang er außerdem den Erfolgshit <span style=\"color: #008000; text-decoration-color: #008000\">\"What’s It Gonna Be?!\"</span>\n",
       "</pre>\n"
      ],
      "text/plain": [
       "text:Das nächste Album \u001b[32m\"Extinction Level Event: The Final World Front\"\u001b[0m, dessen Titel vom Film \u001b[32m\"Deep Impact\"\u001b[0m \n",
       "inspiriert war, enthielt die Single \u001b[32m\"Gimme Some More\"\u001b[0m, die im Januar \u001b[1;36m1999\u001b[0m Platz \u001b[1;36m5\u001b[0m der britischen Charts belegte. \n",
       "Mit Janet Jackson sang er außerdem den Erfolgshit \u001b[32m\"What’s It Gonna Be?!\"\u001b[0m\n"
      ]
     },
     "metadata": {},
     "output_type": "display_data"
    },
    {
     "data": {
      "text/html": [
       "<pre style=\"white-space:pre;overflow-x:auto;line-height:normal;font-family:Menlo,'DejaVu Sans Mono',consolas,'Courier New',monospace\">\n",
       "</pre>\n"
      ],
      "text/plain": [
       "\n"
      ]
     },
     "metadata": {},
     "output_type": "display_data"
    },
    {
     "data": {
      "text/html": [
       "<pre style=\"white-space:pre;overflow-x:auto;line-height:normal;font-family:Menlo,'DejaVu Sans Mono',consolas,'Courier New',monospace\">titl<span style=\"color: #00ff00; text-decoration-color: #00ff00; font-weight: bold\">e:B</span>usta Rhymes\n",
       "</pre>\n"
      ],
      "text/plain": [
       "titl\u001b[1;92me:B\u001b[0musta Rhymes\n"
      ]
     },
     "metadata": {},
     "output_type": "display_data"
    },
    {
     "data": {
      "text/html": [
       "<pre style=\"white-space:pre;overflow-x:auto;line-height:normal;font-family:Menlo,'DejaVu Sans Mono',consolas,'Courier New',monospace\">\n",
       "</pre>\n"
      ],
      "text/plain": [
       "\n"
      ]
     },
     "metadata": {},
     "output_type": "display_data"
    },
    {
     "data": {
      "text/html": [
       "<pre style=\"white-space:pre;overflow-x:auto;line-height:normal;font-family:Menlo,'DejaVu Sans Mono',consolas,'Courier New',monospace\">url:<span style=\"color: #0000ff; text-decoration-color: #0000ff; text-decoration: underline\">https://de.wikipedia.org/wiki?curid=238582</span>\n",
       "</pre>\n"
      ],
      "text/plain": [
       "url:\u001b[4;94mhttps://de.wikipedia.org/wiki?\u001b[0m\u001b[4;94mcurid\u001b[0m\u001b[4;94m=\u001b[0m\u001b[4;94m238582\u001b[0m\n"
      ]
     },
     "metadata": {},
     "output_type": "display_data"
    },
    {
     "data": {
      "text/html": [
       "<pre style=\"white-space:pre;overflow-x:auto;line-height:normal;font-family:Menlo,'DejaVu Sans Mono',consolas,'Courier New',monospace\">\n",
       "</pre>\n"
      ],
      "text/plain": [
       "\n"
      ]
     },
     "metadata": {},
     "output_type": "display_data"
    },
    {
     "data": {
      "text/html": [
       "<pre style=\"white-space:pre;overflow-x:auto;line-height:normal;font-family:Menlo,'DejaVu Sans Mono',consolas,'Courier New',monospace\">\n",
       "</pre>\n"
      ],
      "text/plain": [
       "\n"
      ]
     },
     "metadata": {},
     "output_type": "display_data"
    },
    {
     "data": {
      "text/html": [
       "<pre style=\"white-space:pre;overflow-x:auto;line-height:normal;font-family:Menlo,'DejaVu Sans Mono',consolas,'Courier New',monospace\">item <span style=\"color: #008080; text-decoration-color: #008080; font-weight: bold\">1</span>\n",
       "</pre>\n"
      ],
      "text/plain": [
       "item \u001b[1;36m1\u001b[0m\n"
      ]
     },
     "metadata": {},
     "output_type": "display_data"
    },
    {
     "data": {
      "text/html": [
       "<pre style=\"white-space:pre;overflow-x:auto;line-height:normal;font-family:Menlo,'DejaVu Sans Mono',consolas,'Courier New',monospace\">text:Der Begriff Strukturalismus ist vom Wort Struktur abgeleitet und wurde vereinzelt seit Mitte des <span style=\"color: #008080; text-decoration-color: #008080; font-weight: bold\">19</span>. \n",
       "Jahrhunderts verwendet. In der Psychologie wurde er <span style=\"color: #008080; text-decoration-color: #008080; font-weight: bold\">1907</span> von James Rowland Angell in einem Aufsatz über Edward \n",
       "Bradford Titchener eingeführt. In der Sprach- und Literaturwissenschaft wurde er seit den 1920er vom Prager \n",
       "linguistischen Kreis verwendet. Dort knüpfte Roman Jakobson an die Schule des Russischen Formalismus an und \n",
       "verwendete den Begriff „Strukturalismus“ erstmals <span style=\"color: #008080; text-decoration-color: #008080; font-weight: bold\">1929</span> in einem in der Prager Zeitschrift <span style=\"color: #008000; text-decoration-color: #008000\">\"Čin\"</span> auf Tschechisch \n",
       "unter dem Titel <span style=\"color: #008000; text-decoration-color: #008000\">\"Romantischer Panslawismus – neue Slawistik\"</span> <span style=\"font-weight: bold\">(</span><span style=\"color: #008000; text-decoration-color: #008000\">\"Romantické všeslovanství — nová slávistika\"</span><span style=\"font-weight: bold\">)</span> \n",
       "veröffentlichten Aufsatz:Were we to comprise the leading idea of present-day science in its most various \n",
       "manifestations, we could hardly find a more appropriate designation than structuralism. Any set of phenomena \n",
       "examined by contemporary science is treated not as a mechanical agglomeration but as a structural whole, and the \n",
       "basic task is to reveal the inner, whether static or developmental, laws of this system. What appears to be the \n",
       "focus of scientific preoccupations is no longer the outer stimulus, but the internal premises of the development; \n",
       "now the mechanical conception of processes yields to the question of their functions.\n",
       "</pre>\n"
      ],
      "text/plain": [
       "text:Der Begriff Strukturalismus ist vom Wort Struktur abgeleitet und wurde vereinzelt seit Mitte des \u001b[1;36m19\u001b[0m. \n",
       "Jahrhunderts verwendet. In der Psychologie wurde er \u001b[1;36m1907\u001b[0m von James Rowland Angell in einem Aufsatz über Edward \n",
       "Bradford Titchener eingeführt. In der Sprach- und Literaturwissenschaft wurde er seit den 1920er vom Prager \n",
       "linguistischen Kreis verwendet. Dort knüpfte Roman Jakobson an die Schule des Russischen Formalismus an und \n",
       "verwendete den Begriff „Strukturalismus“ erstmals \u001b[1;36m1929\u001b[0m in einem in der Prager Zeitschrift \u001b[32m\"Čin\"\u001b[0m auf Tschechisch \n",
       "unter dem Titel \u001b[32m\"Romantischer Panslawismus – neue Slawistik\"\u001b[0m \u001b[1m(\u001b[0m\u001b[32m\"Romantické všeslovanství — nová slávistika\"\u001b[0m\u001b[1m)\u001b[0m \n",
       "veröffentlichten Aufsatz:Were we to comprise the leading idea of present-day science in its most various \n",
       "manifestations, we could hardly find a more appropriate designation than structuralism. Any set of phenomena \n",
       "examined by contemporary science is treated not as a mechanical agglomeration but as a structural whole, and the \n",
       "basic task is to reveal the inner, whether static or developmental, laws of this system. What appears to be the \n",
       "focus of scientific preoccupations is no longer the outer stimulus, but the internal premises of the development; \n",
       "now the mechanical conception of processes yields to the question of their functions.\n"
      ]
     },
     "metadata": {},
     "output_type": "display_data"
    },
    {
     "data": {
      "text/html": [
       "<pre style=\"white-space:pre;overflow-x:auto;line-height:normal;font-family:Menlo,'DejaVu Sans Mono',consolas,'Courier New',monospace\">\n",
       "</pre>\n"
      ],
      "text/plain": [
       "\n"
      ]
     },
     "metadata": {},
     "output_type": "display_data"
    },
    {
     "data": {
      "text/html": [
       "<pre style=\"white-space:pre;overflow-x:auto;line-height:normal;font-family:Menlo,'DejaVu Sans Mono',consolas,'Courier New',monospace\">title:Strukturalismus\n",
       "</pre>\n"
      ],
      "text/plain": [
       "title:Strukturalismus\n"
      ]
     },
     "metadata": {},
     "output_type": "display_data"
    },
    {
     "data": {
      "text/html": [
       "<pre style=\"white-space:pre;overflow-x:auto;line-height:normal;font-family:Menlo,'DejaVu Sans Mono',consolas,'Courier New',monospace\">\n",
       "</pre>\n"
      ],
      "text/plain": [
       "\n"
      ]
     },
     "metadata": {},
     "output_type": "display_data"
    },
    {
     "data": {
      "text/html": [
       "<pre style=\"white-space:pre;overflow-x:auto;line-height:normal;font-family:Menlo,'DejaVu Sans Mono',consolas,'Courier New',monospace\">url:<span style=\"color: #0000ff; text-decoration-color: #0000ff; text-decoration: underline\">https://de.wikipedia.org/wiki?curid=88840</span>\n",
       "</pre>\n"
      ],
      "text/plain": [
       "url:\u001b[4;94mhttps://de.wikipedia.org/wiki?\u001b[0m\u001b[4;94mcurid\u001b[0m\u001b[4;94m=\u001b[0m\u001b[4;94m88840\u001b[0m\n"
      ]
     },
     "metadata": {},
     "output_type": "display_data"
    },
    {
     "data": {
      "text/html": [
       "<pre style=\"white-space:pre;overflow-x:auto;line-height:normal;font-family:Menlo,'DejaVu Sans Mono',consolas,'Courier New',monospace\">\n",
       "</pre>\n"
      ],
      "text/plain": [
       "\n"
      ]
     },
     "metadata": {},
     "output_type": "display_data"
    },
    {
     "data": {
      "text/html": [
       "<pre style=\"white-space:pre;overflow-x:auto;line-height:normal;font-family:Menlo,'DejaVu Sans Mono',consolas,'Courier New',monospace\">\n",
       "</pre>\n"
      ],
      "text/plain": [
       "\n"
      ]
     },
     "metadata": {},
     "output_type": "display_data"
    },
    {
     "data": {
      "text/html": [
       "<pre style=\"white-space:pre;overflow-x:auto;line-height:normal;font-family:Menlo,'DejaVu Sans Mono',consolas,'Courier New',monospace\">item <span style=\"color: #008080; text-decoration-color: #008080; font-weight: bold\">2</span>\n",
       "</pre>\n"
      ],
      "text/plain": [
       "item \u001b[1;36m2\u001b[0m\n"
      ]
     },
     "metadata": {},
     "output_type": "display_data"
    },
    {
     "data": {
      "text/html": [
       "<pre style=\"white-space:pre;overflow-x:auto;line-height:normal;font-family:Menlo,'DejaVu Sans Mono',consolas,'Courier New',monospace\">text:Summer of Soul <span style=\"font-weight: bold\">(</span>…Or, When the Revolution Could Not Be Televised<span style=\"font-weight: bold\">)</span> – David Dinerstein, Robert Fyvolent, Joseph \n",
       "Patel und Ahmir „Questlove“ Thompson\n",
       "</pre>\n"
      ],
      "text/plain": [
       "text:Summer of Soul \u001b[1m(\u001b[0m…Or, When the Revolution Could Not Be Televised\u001b[1m)\u001b[0m – David Dinerstein, Robert Fyvolent, Joseph \n",
       "Patel und Ahmir „Questlove“ Thompson\n"
      ]
     },
     "metadata": {},
     "output_type": "display_data"
    },
    {
     "data": {
      "text/html": [
       "<pre style=\"white-space:pre;overflow-x:auto;line-height:normal;font-family:Menlo,'DejaVu Sans Mono',consolas,'Courier New',monospace\">\n",
       "</pre>\n"
      ],
      "text/plain": [
       "\n"
      ]
     },
     "metadata": {},
     "output_type": "display_data"
    },
    {
     "data": {
      "text/html": [
       "<pre style=\"white-space:pre;overflow-x:auto;line-height:normal;font-family:Menlo,'DejaVu Sans Mono',consolas,'Courier New',monospace\">title:Oscarverleihung <span style=\"color: #008080; text-decoration-color: #008080; font-weight: bold\">2022</span>\n",
       "</pre>\n"
      ],
      "text/plain": [
       "title:Oscarverleihung \u001b[1;36m2022\u001b[0m\n"
      ]
     },
     "metadata": {},
     "output_type": "display_data"
    },
    {
     "data": {
      "text/html": [
       "<pre style=\"white-space:pre;overflow-x:auto;line-height:normal;font-family:Menlo,'DejaVu Sans Mono',consolas,'Courier New',monospace\">\n",
       "</pre>\n"
      ],
      "text/plain": [
       "\n"
      ]
     },
     "metadata": {},
     "output_type": "display_data"
    },
    {
     "data": {
      "text/html": [
       "<pre style=\"white-space:pre;overflow-x:auto;line-height:normal;font-family:Menlo,'DejaVu Sans Mono',consolas,'Courier New',monospace\">url:<span style=\"color: #0000ff; text-decoration-color: #0000ff; text-decoration: underline\">https://de.wikipedia.org/wiki?curid=11922735</span>\n",
       "</pre>\n"
      ],
      "text/plain": [
       "url:\u001b[4;94mhttps://de.wikipedia.org/wiki?\u001b[0m\u001b[4;94mcurid\u001b[0m\u001b[4;94m=\u001b[0m\u001b[4;94m11922735\u001b[0m\n"
      ]
     },
     "metadata": {},
     "output_type": "display_data"
    },
    {
     "data": {
      "text/html": [
       "<pre style=\"white-space:pre;overflow-x:auto;line-height:normal;font-family:Menlo,'DejaVu Sans Mono',consolas,'Courier New',monospace\">\n",
       "</pre>\n"
      ],
      "text/plain": [
       "\n"
      ]
     },
     "metadata": {},
     "output_type": "display_data"
    },
    {
     "data": {
      "text/html": [
       "<pre style=\"white-space:pre;overflow-x:auto;line-height:normal;font-family:Menlo,'DejaVu Sans Mono',consolas,'Courier New',monospace\">\n",
       "</pre>\n"
      ],
      "text/plain": [
       "\n"
      ]
     },
     "metadata": {},
     "output_type": "display_data"
    }
   ],
   "source": [
    "query = \"What is the most viewed televised event?\"\n",
    "keyword_search_results = keyword_search(query, results_lang='de')\n",
    "print_result(keyword_search_results)\n"
   ]
  },
  {
   "cell_type": "code",
   "execution_count": null,
   "metadata": {},
   "outputs": [],
   "source": []
  }
 ],
 "metadata": {
  "kernelspec": {
   "display_name": "Python 3",
   "language": "python",
   "name": "python3"
  },
  "language_info": {
   "codemirror_mode": {
    "name": "ipython",
    "version": 3
   },
   "file_extension": ".py",
   "mimetype": "text/x-python",
   "name": "python",
   "nbconvert_exporter": "python",
   "pygments_lexer": "ipython3",
   "version": "3.10.10"
  }
 },
 "nbformat": 4,
 "nbformat_minor": 2
}
