{
 "cells": [
  {
   "cell_type": "raw",
   "metadata": {},
   "source": [
    "---\n",
    "title: Prompt Engineering Best Practices\n",
    "date: January, 2024\n",
    "format:\n",
    "    html:\n",
    "        code-fold: true\n",
    "---"
   ]
  },
  {
   "cell_type": "code",
   "execution_count": 1,
   "metadata": {},
   "outputs": [],
   "source": [
    "from openai import OpenAI\n",
    "from dotenv import load_dotenv\n",
    "load_dotenv()\n",
    "from rich import print as pprint\n",
    "from icecream import ic\n",
    "import os\n",
    "from typing import List, Dict\n",
    "from openai import OpenAI\n",
    "openai_api_key = os.getenv(\"OPENAI_API_KEY\")\n"
   ]
  },
  {
   "cell_type": "markdown",
   "metadata": {},
   "source": [
    "## Introduction"
   ]
  },
  {
   "cell_type": "markdown",
   "metadata": {},
   "source": [
    "## What is prompt and prompt engineering?"
   ]
  },
  {
   "cell_type": "markdown",
   "metadata": {},
   "source": [
    "## Prompt Guidelines"
   ]
  },
  {
   "cell_type": "code",
   "execution_count": 3,
   "metadata": {},
   "outputs": [],
   "source": [
    "def get_completion(prompt: str, model: str = \"gpt-3.5-turbo\") -> str:\n",
    "    \"\"\"\n",
    "    Function to get a completion from OpenAI's GPT-3 model.\n",
    "\n",
    "    Args:\n",
    "        prompt (str): The prompt to send to the model.\n",
    "        model (str, optional): The model to use. Defaults to \"gpt-3.5-turbo\".\n",
    "\n",
    "    Returns:\n",
    "        str: The model's response to the prompt.\n",
    "    \"\"\"\n",
    "    # Initialize the OpenAI client\n",
    "    client = OpenAI()\n",
    "\n",
    "    # Prepare the messages to send to the model\n",
    "    messages = [\n",
    "        {\n",
    "            \"role\": \"user\",\n",
    "            \"content\": prompt,\n",
    "        }\n",
    "    ]\n",
    "\n",
    "    # Send the messages to the model and get the response\n",
    "    response = client.chat.completions.create(\n",
    "        model=model,\n",
    "        messages=messages,\n",
    "        temperature=0  # Setting temperature to 0 makes the output deterministic\n",
    "    )\n",
    "\n",
    "    # Return the content of the first choice in the response\n",
    "    return response.choices[0].message.content\n"
   ]
  },
  {
   "cell_type": "markdown",
   "metadata": {},
   "source": [
    "### Principle 1: Write Clear and Specific Instructions\n"
   ]
  },
  {
   "cell_type": "markdown",
   "metadata": {},
   "source": [
    "#### Tactic 0: Structure your prompt with CO-STAR framework "
   ]
  },
  {
   "attachments": {},
   "cell_type": "markdown",
   "metadata": {},
   "source": [
    "#### Tactic 1: Use Section Delimiter to structure your prompt"
   ]
  },
  {
   "cell_type": "code",
   "execution_count": 6,
   "metadata": {},
   "outputs": [
    {
     "data": {
      "text/html": [
       "<pre style=\"white-space:pre;overflow-x:auto;line-height:normal;font-family:Menlo,'DejaVu Sans Mono',consolas,'Courier New',monospace\">To guide a model towards the desired output and minimize irrelevant or incorrect responses, it is important to \n",
       "provide clear and specific instructions, even if it means writing longer prompts that offer more clarity and \n",
       "context.\n",
       "</pre>\n"
      ],
      "text/plain": [
       "To guide a model towards the desired output and minimize irrelevant or incorrect responses, it is important to \n",
       "provide clear and specific instructions, even if it means writing longer prompts that offer more clarity and \n",
       "context.\n"
      ]
     },
     "metadata": {},
     "output_type": "display_data"
    }
   ],
   "source": [
    "text = f\"\"\"\n",
    "You should express what you want a model to do by \\\n",
    "providing instructions that are as clear and \\\n",
    "specific as you can possibly make them. \\\n",
    "This will guide the model towards the desired output, \\\n",
    "and reduce the chances of receiving irrelevant \\\n",
    "or incorrect responses. Don't confuse writing a \\\n",
    "clear prompt with writing a short prompt. \\\n",
    "In many cases, longer prompts provide more clarity \\\n",
    "and context for the model, which can lead to \\\n",
    "more detailed and relevant outputs.\n",
    "\"\"\"\n",
    "prompt = f\"\"\"\n",
    "Summarize the text delimited by triple backticks \\\n",
    "into a single sentence.\n",
    "```{text}```\n",
    "\"\"\"\n",
    "response= get_completion(prompt)\n",
    "pprint(response)\n"
   ]
  },
  {
   "cell_type": "markdown",
   "metadata": {},
   "source": [
    "Let us structure the same prompt using the CO-STAR framework.\n"
   ]
  },
  {
   "cell_type": "code",
   "execution_count": 9,
   "metadata": {},
   "outputs": [
    {
     "data": {
      "text/html": [
       "<pre style=\"white-space:pre;overflow-x:auto;line-height:normal;font-family:Menlo,'DejaVu Sans Mono',consolas,'Courier New',monospace\">When constructing a prompt for a large language model, it is crucial to be concise and clear in your instructions. \n",
       "Clearly express what you want the model to do, providing specific guidance to guide it towards the desired output. \n",
       "Avoid confusing a clear prompt with a short prompt; in many cases, longer prompts can provide more clarity and \n",
       "context, resulting in more detailed and relevant responses. Remember, the goal is to reduce the chances of \n",
       "receiving irrelevant or incorrect outputs.\n",
       "</pre>\n"
      ],
      "text/plain": [
       "When constructing a prompt for a large language model, it is crucial to be concise and clear in your instructions. \n",
       "Clearly express what you want the model to do, providing specific guidance to guide it towards the desired output. \n",
       "Avoid confusing a clear prompt with a short prompt; in many cases, longer prompts can provide more clarity and \n",
       "context, resulting in more detailed and relevant responses. Remember, the goal is to reduce the chances of \n",
       "receiving irrelevant or incorrect outputs.\n"
      ]
     },
     "metadata": {},
     "output_type": "display_data"
    }
   ],
   "source": [
    "prompt_costar = f\"\"\"\n",
    "\n",
    "#CONTEXT#\n",
    "I advise application developers on how to construct a well-structured prompt to get the most relevant response from a large language model.\n",
    "\n",
    "#OBJECTIVE#\n",
    "Summarize the text delimited by XML tags <text> </text> into a single sentence.\n",
    "\n",
    "<text>\n",
    "{text}\n",
    "</text>\n",
    "\n",
    "#STYLE#\n",
    "Write in the style of an expert large language developer.\n",
    "\n",
    "#TONE#\n",
    "Professional and technical\n",
    "\n",
    "#AUDIENCE#\n",
    "The audience is a large language model application developer.\n",
    "Tailor your response to what will be helpful to them to write a clear and specific prompt\n",
    "\n",
    "#RESPONSE#\n",
    "Be concise and clear\n",
    "\"\"\"\n",
    "\n",
    "response= get_completion(prompt_costar)\n",
    "pprint(response)"
   ]
  },
  {
   "attachments": {},
   "cell_type": "markdown",
   "metadata": {},
   "source": [
    "#### Tactic 2 : Ask for a structure output, for example, HTML , JSON, etc"
   ]
  },
  {
   "cell_type": "code",
   "execution_count": 10,
   "metadata": {},
   "outputs": [
    {
     "data": {
      "text/html": [
       "<pre style=\"white-space:pre;overflow-x:auto;line-height:normal;font-family:Menlo,'DejaVu Sans Mono',consolas,'Courier New',monospace\"><span style=\"font-weight: bold\">{</span>\n",
       "  <span style=\"color: #008000; text-decoration-color: #008000\">\"books\"</span>: <span style=\"font-weight: bold\">[</span>\n",
       "    <span style=\"font-weight: bold\">{</span>\n",
       "      <span style=\"color: #008000; text-decoration-color: #008000\">\"book_id\"</span>: <span style=\"color: #008080; text-decoration-color: #008080; font-weight: bold\">1</span>,\n",
       "      <span style=\"color: #008000; text-decoration-color: #008000\">\"title\"</span>: <span style=\"color: #008000; text-decoration-color: #008000\">\"The Enigma of Elysium\"</span>,\n",
       "      <span style=\"color: #008000; text-decoration-color: #008000\">\"author\"</span>: <span style=\"color: #008000; text-decoration-color: #008000\">\"Aria Nightshade\"</span>,\n",
       "      <span style=\"color: #008000; text-decoration-color: #008000\">\"genre\"</span>: <span style=\"color: #008000; text-decoration-color: #008000\">\"Fantasy\"</span>\n",
       "    <span style=\"font-weight: bold\">}</span>,\n",
       "    <span style=\"font-weight: bold\">{</span>\n",
       "      <span style=\"color: #008000; text-decoration-color: #008000\">\"book_id\"</span>: <span style=\"color: #008080; text-decoration-color: #008080; font-weight: bold\">2</span>,\n",
       "      <span style=\"color: #008000; text-decoration-color: #008000\">\"title\"</span>: <span style=\"color: #008000; text-decoration-color: #008000\">\"Shadows of Serendipity\"</span>,\n",
       "      <span style=\"color: #008000; text-decoration-color: #008000\">\"author\"</span>: <span style=\"color: #008000; text-decoration-color: #008000\">\"Elijah Blackwood\"</span>,\n",
       "      <span style=\"color: #008000; text-decoration-color: #008000\">\"genre\"</span>: <span style=\"color: #008000; text-decoration-color: #008000\">\"Mystery\"</span>\n",
       "    <span style=\"font-weight: bold\">}</span>,\n",
       "    <span style=\"font-weight: bold\">{</span>\n",
       "      <span style=\"color: #008000; text-decoration-color: #008000\">\"book_id\"</span>: <span style=\"color: #008080; text-decoration-color: #008080; font-weight: bold\">3</span>,\n",
       "      <span style=\"color: #008000; text-decoration-color: #008000\">\"title\"</span>: <span style=\"color: #008000; text-decoration-color: #008000\">\"Whispers in the Wind\"</span>,\n",
       "      <span style=\"color: #008000; text-decoration-color: #008000\">\"author\"</span>: <span style=\"color: #008000; text-decoration-color: #008000\">\"Luna Silvermoon\"</span>,\n",
       "      <span style=\"color: #008000; text-decoration-color: #008000\">\"genre\"</span>: <span style=\"color: #008000; text-decoration-color: #008000\">\"Romance\"</span>\n",
       "    <span style=\"font-weight: bold\">}</span>\n",
       "  <span style=\"font-weight: bold\">]</span>\n",
       "<span style=\"font-weight: bold\">}</span>\n",
       "</pre>\n"
      ],
      "text/plain": [
       "\u001b[1m{\u001b[0m\n",
       "  \u001b[32m\"books\"\u001b[0m: \u001b[1m[\u001b[0m\n",
       "    \u001b[1m{\u001b[0m\n",
       "      \u001b[32m\"book_id\"\u001b[0m: \u001b[1;36m1\u001b[0m,\n",
       "      \u001b[32m\"title\"\u001b[0m: \u001b[32m\"The Enigma of Elysium\"\u001b[0m,\n",
       "      \u001b[32m\"author\"\u001b[0m: \u001b[32m\"Aria Nightshade\"\u001b[0m,\n",
       "      \u001b[32m\"genre\"\u001b[0m: \u001b[32m\"Fantasy\"\u001b[0m\n",
       "    \u001b[1m}\u001b[0m,\n",
       "    \u001b[1m{\u001b[0m\n",
       "      \u001b[32m\"book_id\"\u001b[0m: \u001b[1;36m2\u001b[0m,\n",
       "      \u001b[32m\"title\"\u001b[0m: \u001b[32m\"Shadows of Serendipity\"\u001b[0m,\n",
       "      \u001b[32m\"author\"\u001b[0m: \u001b[32m\"Elijah Blackwood\"\u001b[0m,\n",
       "      \u001b[32m\"genre\"\u001b[0m: \u001b[32m\"Mystery\"\u001b[0m\n",
       "    \u001b[1m}\u001b[0m,\n",
       "    \u001b[1m{\u001b[0m\n",
       "      \u001b[32m\"book_id\"\u001b[0m: \u001b[1;36m3\u001b[0m,\n",
       "      \u001b[32m\"title\"\u001b[0m: \u001b[32m\"Whispers in the Wind\"\u001b[0m,\n",
       "      \u001b[32m\"author\"\u001b[0m: \u001b[32m\"Luna Silvermoon\"\u001b[0m,\n",
       "      \u001b[32m\"genre\"\u001b[0m: \u001b[32m\"Romance\"\u001b[0m\n",
       "    \u001b[1m}\u001b[0m\n",
       "  \u001b[1m]\u001b[0m\n",
       "\u001b[1m}\u001b[0m\n"
      ]
     },
     "metadata": {},
     "output_type": "display_data"
    }
   ],
   "source": [
    "prompt = f\"\"\"\n",
    "Generate a list of three made-up book titles along \\\n",
    "with their authors and genres.\n",
    "Provide them in JSON format with the following keys:\n",
    "book_id, title, author, genre.\n",
    "\"\"\"\n",
    "response = get_completion(prompt)\n",
    "pprint(response)\n"
   ]
  },
  {
   "cell_type": "markdown",
   "metadata": {},
   "source": [
    "Let us structure the same prompt using the CO-STAR framework.\n"
   ]
  },
  {
   "cell_type": "code",
   "execution_count": 14,
   "metadata": {},
   "outputs": [
    {
     "data": {
      "text/html": [
       "<pre style=\"white-space:pre;overflow-x:auto;line-height:normal;font-family:Menlo,'DejaVu Sans Mono',consolas,'Courier New',monospace\"><span style=\"font-weight: bold\">{</span>\n",
       "  <span style=\"color: #008000; text-decoration-color: #008000\">\"books\"</span>: <span style=\"font-weight: bold\">[</span>\n",
       "    <span style=\"font-weight: bold\">{</span>\n",
       "      <span style=\"color: #008000; text-decoration-color: #008000\">\"book_id\"</span>: <span style=\"color: #008000; text-decoration-color: #008000\">\"1\"</span>,\n",
       "      <span style=\"color: #008000; text-decoration-color: #008000\">\"title\"</span>: <span style=\"color: #008000; text-decoration-color: #008000\">\"The Secret Garden\"</span>,\n",
       "      <span style=\"color: #008000; text-decoration-color: #008000\">\"author\"</span>: <span style=\"color: #008000; text-decoration-color: #008000\">\"Frances Hodgson Burnett\"</span>,\n",
       "      <span style=\"color: #008000; text-decoration-color: #008000\">\"genre\"</span>: <span style=\"color: #008000; text-decoration-color: #008000\">\"Children's Literature\"</span>\n",
       "    <span style=\"font-weight: bold\">}</span>,\n",
       "    <span style=\"font-weight: bold\">{</span>\n",
       "      <span style=\"color: #008000; text-decoration-color: #008000\">\"book_id\"</span>: <span style=\"color: #008000; text-decoration-color: #008000\">\"2\"</span>,\n",
       "      <span style=\"color: #008000; text-decoration-color: #008000\">\"title\"</span>: <span style=\"color: #008000; text-decoration-color: #008000\">\"The Great Gatsby\"</span>,\n",
       "      <span style=\"color: #008000; text-decoration-color: #008000\">\"author\"</span>: <span style=\"color: #008000; text-decoration-color: #008000\">\"F. Scott Fitzgerald\"</span>,\n",
       "      <span style=\"color: #008000; text-decoration-color: #008000\">\"genre\"</span>: <span style=\"color: #008000; text-decoration-color: #008000\">\"Classic Literature\"</span>\n",
       "    <span style=\"font-weight: bold\">}</span>,\n",
       "    <span style=\"font-weight: bold\">{</span>\n",
       "      <span style=\"color: #008000; text-decoration-color: #008000\">\"book_id\"</span>: <span style=\"color: #008000; text-decoration-color: #008000\">\"3\"</span>,\n",
       "      <span style=\"color: #008000; text-decoration-color: #008000\">\"title\"</span>: <span style=\"color: #008000; text-decoration-color: #008000\">\"The Da Vinci Code\"</span>,\n",
       "      <span style=\"color: #008000; text-decoration-color: #008000\">\"author\"</span>: <span style=\"color: #008000; text-decoration-color: #008000\">\"Dan Brown\"</span>,\n",
       "      <span style=\"color: #008000; text-decoration-color: #008000\">\"genre\"</span>: <span style=\"color: #008000; text-decoration-color: #008000\">\"Thriller\"</span>\n",
       "    <span style=\"font-weight: bold\">}</span>\n",
       "  <span style=\"font-weight: bold\">]</span>\n",
       "<span style=\"font-weight: bold\">}</span>\n",
       "</pre>\n"
      ],
      "text/plain": [
       "\u001b[1m{\u001b[0m\n",
       "  \u001b[32m\"books\"\u001b[0m: \u001b[1m[\u001b[0m\n",
       "    \u001b[1m{\u001b[0m\n",
       "      \u001b[32m\"book_id\"\u001b[0m: \u001b[32m\"1\"\u001b[0m,\n",
       "      \u001b[32m\"title\"\u001b[0m: \u001b[32m\"The Secret Garden\"\u001b[0m,\n",
       "      \u001b[32m\"author\"\u001b[0m: \u001b[32m\"Frances Hodgson Burnett\"\u001b[0m,\n",
       "      \u001b[32m\"genre\"\u001b[0m: \u001b[32m\"Children's Literature\"\u001b[0m\n",
       "    \u001b[1m}\u001b[0m,\n",
       "    \u001b[1m{\u001b[0m\n",
       "      \u001b[32m\"book_id\"\u001b[0m: \u001b[32m\"2\"\u001b[0m,\n",
       "      \u001b[32m\"title\"\u001b[0m: \u001b[32m\"The Great Gatsby\"\u001b[0m,\n",
       "      \u001b[32m\"author\"\u001b[0m: \u001b[32m\"F. Scott Fitzgerald\"\u001b[0m,\n",
       "      \u001b[32m\"genre\"\u001b[0m: \u001b[32m\"Classic Literature\"\u001b[0m\n",
       "    \u001b[1m}\u001b[0m,\n",
       "    \u001b[1m{\u001b[0m\n",
       "      \u001b[32m\"book_id\"\u001b[0m: \u001b[32m\"3\"\u001b[0m,\n",
       "      \u001b[32m\"title\"\u001b[0m: \u001b[32m\"The Da Vinci Code\"\u001b[0m,\n",
       "      \u001b[32m\"author\"\u001b[0m: \u001b[32m\"Dan Brown\"\u001b[0m,\n",
       "      \u001b[32m\"genre\"\u001b[0m: \u001b[32m\"Thriller\"\u001b[0m\n",
       "    \u001b[1m}\u001b[0m\n",
       "  \u001b[1m]\u001b[0m\n",
       "\u001b[1m}\u001b[0m\n"
      ]
     },
     "metadata": {},
     "output_type": "display_data"
    }
   ],
   "source": [
    "prompt_costar = f\"\"\"\n",
    "\n",
    "#CONTEXT#\n",
    "You are a librarian, working with large language model application developer to make it easy to query the library's catalogue.\n",
    "\n",
    "#OBJECTIVE#\n",
    "Generate a list of three made-up book titles along \\\n",
    "with their authors and genres.\n",
    "Provide them in JSON format with the following keys:\n",
    "book_id, title, author, genre.\n",
    "\n",
    "\n",
    "#STYLE#\n",
    "Write in the style of an application developer expert.\n",
    "\n",
    "#TONE#\n",
    "Professional and technical\n",
    "\n",
    "#AUDIENCE#\n",
    "The audience is a large language model application developer.\n",
    "Tailor your response to the easiest way possible for extrenal application to integrate with the library's system.\n",
    "\n",
    "#RESPONSE#\n",
    "Be concise and clear\n",
    "\"\"\"\n",
    "\n",
    "response= get_completion(prompt_costar)\n",
    "pprint(response)"
   ]
  },
  {
   "cell_type": "markdown",
   "metadata": {},
   "source": [
    "The fact that the two outputs gave the same result is an indication that when you force the LLM to provide output in a specific format, it will try to generate the output in that format. This is a very useful tactic to use when you want to generate a specific output format."
   ]
  },
  {
   "attachments": {},
   "cell_type": "markdown",
   "metadata": {},
   "source": [
    "#### Tactic 3: Check that Assumptions are Satisfied"
   ]
  },
  {
   "cell_type": "code",
   "execution_count": 13,
   "metadata": {},
   "outputs": [
    {
     "name": "stdout",
     "output_type": "stream",
     "text": [
      "Completion for Text 1:\n",
      "Step 1 - Get some water boiling.\n",
      "Step 2 - Grab a cup and put a tea bag in it.\n",
      "Step 3 - Pour the hot water over the tea bag.\n",
      "Step 4 - Let the tea steep for a few minutes.\n",
      "Step 5 - Take out the tea bag.\n",
      "Step 6 - Add sugar or milk to taste.\n",
      "Step 7 - Enjoy your cup of tea.\n"
     ]
    }
   ],
   "source": [
    "text_1 = f\"\"\"\n",
    "Making a cup of tea is easy! First, you need to get some \\\n",
    "water boiling. While that's happening, \\\n",
    "grab a cup and put a tea bag in it. Once the water is \\\n",
    "hot enough, just pour it over the tea bag. \\\n",
    "Let it sit for a bit so the tea can steep. After a \\\n",
    "few minutes, take out the tea bag. If you \\\n",
    "like, you can add some sugar or milk to taste. \\\n",
    "And that's it! You've got yourself a delicious \\\n",
    "cup of tea to enjoy.\n",
    "\"\"\"\n",
    "\n",
    "prompt = f\"\"\"\n",
    "You will be provided with text delimited by triple quotes.\n",
    "If it contains a sequence of instructions, \\\n",
    "re-write those instructions in the following format:\n",
    "\n",
    "Step 1 - ...\n",
    "Step 2 - …\n",
    "…\n",
    "Step N - …\n",
    "\n",
    "If the text does not contain a sequence of instructions, \\\n",
    "then simply write \\'No steps provided.\\'\n",
    "\n",
    "\\\"\\\"\\\"{text_1}\\\"\\\"\\\"\n",
    "\"\"\"\n",
    "response = get_completion(prompt)\n",
    "print(\"Completion for Text 1:\")\n",
    "print(response)\n"
   ]
  },
  {
   "cell_type": "code",
   "execution_count": 17,
   "metadata": {},
   "outputs": [
    {
     "data": {
      "text/html": [
       "<pre style=\"white-space:pre;overflow-x:auto;line-height:normal;font-family:Menlo,'DejaVu Sans Mono',consolas,'Courier New',monospace\">Step <span style=\"color: #008080; text-decoration-color: #008080; font-weight: bold\">1</span> - Get some water boiling. <span style=\"font-weight: bold\">(</span>Time: varies<span style=\"font-weight: bold\">)</span>\n",
       "Step <span style=\"color: #008080; text-decoration-color: #008080; font-weight: bold\">2</span> - Grab a cup and put a tea bag in it.\n",
       "Step <span style=\"color: #008080; text-decoration-color: #008080; font-weight: bold\">3</span> - Once the water is hot enough, pour it over the tea bag.\n",
       "Step <span style=\"color: #008080; text-decoration-color: #008080; font-weight: bold\">4</span> - Let it sit for a few minutes so the tea can steep.\n",
       "Step <span style=\"color: #008080; text-decoration-color: #008080; font-weight: bold\">5</span> - After a few minutes, take out the tea bag.\n",
       "Step <span style=\"color: #008080; text-decoration-color: #008080; font-weight: bold\">6</span> - If desired, add some sugar or milk to taste.\n",
       "Step <span style=\"color: #008080; text-decoration-color: #008080; font-weight: bold\">7</span> - Enjoy your delicious cup of tea!\n",
       "</pre>\n"
      ],
      "text/plain": [
       "Step \u001b[1;36m1\u001b[0m - Get some water boiling. \u001b[1m(\u001b[0mTime: varies\u001b[1m)\u001b[0m\n",
       "Step \u001b[1;36m2\u001b[0m - Grab a cup and put a tea bag in it.\n",
       "Step \u001b[1;36m3\u001b[0m - Once the water is hot enough, pour it over the tea bag.\n",
       "Step \u001b[1;36m4\u001b[0m - Let it sit for a few minutes so the tea can steep.\n",
       "Step \u001b[1;36m5\u001b[0m - After a few minutes, take out the tea bag.\n",
       "Step \u001b[1;36m6\u001b[0m - If desired, add some sugar or milk to taste.\n",
       "Step \u001b[1;36m7\u001b[0m - Enjoy your delicious cup of tea!\n"
      ]
     },
     "metadata": {},
     "output_type": "display_data"
    }
   ],
   "source": [
    "prompt_costar = f\"\"\"\n",
    "\n",
    "#CONTEXT#\n",
    "You are a renowned chef who likes to make recipe available to the public.\n",
    "\n",
    "#OBJECTIVE#\n",
    "You will be provided with text delimited by triple hash tags.\n",
    "If it contains a sequence of instructions,\n",
    "re-write those instructions in the following format:\n",
    "\n",
    "Step 1 - ...\n",
    "Step 2 - …\n",
    "…\n",
    "Step N - …\n",
    "\n",
    "If the text does not contain a sequence of instructions,\n",
    "then simply write 'No steps provided.'\n",
    "\n",
    "### {text_1} ###\n",
    "\n",
    "\n",
    "#STYLE#\n",
    "Write in the style of a chef.\n",
    "\n",
    "#TONE#\n",
    "Professional\n",
    "\n",
    "#AUDIENCE#\n",
    "The audience is people looking for easy to follow recipe.\n",
    "\n",
    "\n",
    "#RESPONSE#\n",
    "Make sure to include the actual time, if available, in minutes for each step. Be concise and clear\n",
    "\"\"\"\n",
    "\n",
    "response= get_completion(prompt_costar)\n",
    "pprint(response)"
   ]
  },
  {
   "cell_type": "code",
   "execution_count": 18,
   "metadata": {},
   "outputs": [
    {
     "data": {
      "text/html": [
       "<pre style=\"white-space:pre;overflow-x:auto;line-height:normal;font-family:Menlo,'DejaVu Sans Mono',consolas,'Courier New',monospace\">No steps provided.\n",
       "</pre>\n"
      ],
      "text/plain": [
       "No steps provided.\n"
      ]
     },
     "metadata": {},
     "output_type": "display_data"
    }
   ],
   "source": [
    "text_2 = f\"\"\"\n",
    "The sun is shining brightly today, and the birds are \\\n",
    "singing. It's a beautiful day to go for a \\\n",
    "walk in the park. The flowers are blooming, and the \\\n",
    "trees are swaying gently in the breeze. People \\\n",
    "are out and about, enjoying the lovely weather. \\\n",
    "Some are having picnics, while others are playing \\\n",
    "games or simply relaxing on the grass. It's a \\\n",
    "perfect day to spend time outdoors and appreciate the \\\n",
    "beauty of nature.\n",
    "\"\"\"\n",
    "prompt_costar = f\"\"\"\n",
    "\n",
    "#CONTEXT#\n",
    "You are a renowned chef who likes to make recipe available to the public.\n",
    "\n",
    "#OBJECTIVE#\n",
    "You will be provided with text delimited by triple hash tags.\n",
    "If it contains a sequence of instructions,\n",
    "re-write those instructions in the following format:\n",
    "\n",
    "Step 1 - ...\n",
    "Step 2 - …\n",
    "…\n",
    "Step N - …\n",
    "\n",
    "If the text does not contain a sequence of instructions,\n",
    "then simply write 'No steps provided.'\n",
    "\n",
    "### {text_2} ###\n",
    "\n",
    "\n",
    "#STYLE#\n",
    "Write in the style of a chef.\n",
    "\n",
    "#TONE#\n",
    "Professional\n",
    "\n",
    "#AUDIENCE#\n",
    "The audience is people looking for easy to follow recipe.\n",
    "\n",
    "\n",
    "#RESPONSE#\n",
    "Make sure to include the actual time, if available, in minutes for each step. Be concise and clear\n",
    "\"\"\"\n",
    "\n",
    "response= get_completion(prompt_costar)\n",
    "pprint(response)"
   ]
  },
  {
   "cell_type": "markdown",
   "metadata": {},
   "source": [
    "#### Tactic 4: Few-shot Prompting"
   ]
  },
  {
   "cell_type": "code",
   "execution_count": 19,
   "metadata": {},
   "outputs": [
    {
     "data": {
      "text/html": [
       "<pre style=\"white-space:pre;overflow-x:auto;line-height:normal;font-family:Menlo,'DejaVu Sans Mono',consolas,'Courier New',monospace\"><span style=\"font-weight: bold\">&lt;</span><span style=\"color: #ff00ff; text-decoration-color: #ff00ff; font-weight: bold\">grandparent</span><span style=\"font-weight: bold\">&gt;</span>: Resilience is like a mighty oak tree that withstands the strongest storms, bending but never \n",
       "breaking. It is the ability to rise again after every fall, to find strength in adversity, and to keep moving \n",
       "forward despite the challenges that come our way.\n",
       "</pre>\n"
      ],
      "text/plain": [
       "\u001b[1m<\u001b[0m\u001b[1;95mgrandparent\u001b[0m\u001b[1m>\u001b[0m: Resilience is like a mighty oak tree that withstands the strongest storms, bending but never \n",
       "breaking. It is the ability to rise again after every fall, to find strength in adversity, and to keep moving \n",
       "forward despite the challenges that come our way.\n"
      ]
     },
     "metadata": {},
     "output_type": "display_data"
    }
   ],
   "source": [
    "prompt = f\"\"\"\n",
    "Your task is to answer in a consistent style.\n",
    "\n",
    "<child>: Teach me about patience.\n",
    "\n",
    "<grandparent>: The river that carves the deepest \\\n",
    "valley flows from a modest spring; the \\\n",
    "grandest symphony originates from a single note; \\\n",
    "the most intricate tapestry begins with a solitary thread.\n",
    "\n",
    "<child>: Teach me about resilience.\n",
    "\"\"\"\n",
    "response = get_completion(prompt)\n",
    "pprint(response)\n"
   ]
  },
  {
   "attachments": {},
   "cell_type": "markdown",
   "metadata": {},
   "source": [
    "### Principle 2: Give the model time to think"
   ]
  },
  {
   "attachments": {},
   "cell_type": "markdown",
   "metadata": {},
   "source": [
    "#### Tactic 1: Specify the steps and output format required to complete a task"
   ]
  },
  {
   "cell_type": "code",
   "execution_count": 21,
   "metadata": {},
   "outputs": [
    {
     "data": {
      "text/html": [
       "<pre style=\"white-space:pre;overflow-x:auto;line-height:normal;font-family:Menlo,'DejaVu Sans Mono',consolas,'Courier New',monospace\">Completion for prompt <span style=\"color: #008080; text-decoration-color: #008080; font-weight: bold\">1</span>:\n",
       "</pre>\n"
      ],
      "text/plain": [
       "Completion for prompt \u001b[1;36m1\u001b[0m:\n"
      ]
     },
     "metadata": {},
     "output_type": "display_data"
    },
    {
     "data": {
      "text/html": [
       "<pre style=\"white-space:pre;overflow-x:auto;line-height:normal;font-family:Menlo,'DejaVu Sans Mono',consolas,'Courier New',monospace\"><span style=\"color: #008080; text-decoration-color: #008080; font-weight: bold\">1</span> - The text is about siblings Jack and Jill who go on a quest to fetch water from a hilltop well, but they have a \n",
       "mishap and tumble down the hill, yet they remain undeterred and continue exploring.\n",
       "<span style=\"color: #008080; text-decoration-color: #008080; font-weight: bold\">2</span> - Le texte parle des frères et sœurs Jack et Jill qui partent en quête d'eau d'un puits au sommet d'une colline, \n",
       "mais ils ont un accident et dévalent la colline, pourtant ils restent déterminés et continuent à explorer.\n",
       "<span style=\"color: #008080; text-decoration-color: #008080; font-weight: bold\">3</span> - Jack, Jill\n",
       "<span style=\"color: #008080; text-decoration-color: #008080; font-weight: bold\">4</span> - <span style=\"font-weight: bold\">{</span>\n",
       "    <span style=\"color: #008000; text-decoration-color: #008000\">\"french_summary\"</span>: <span style=\"color: #008000; text-decoration-color: #008000\">\"Le texte parle des frères et sœurs Jack et Jill qui partent en quête d'eau d'un puits au </span>\n",
       "<span style=\"color: #008000; text-decoration-color: #008000\">sommet d'une colline, mais ils ont un accident et dévalent la colline, pourtant ils restent déterminés et </span>\n",
       "<span style=\"color: #008000; text-decoration-color: #008000\">continuent à explorer.\"</span>,\n",
       "    <span style=\"color: #008000; text-decoration-color: #008000\">\"num_names\"</span>: <span style=\"color: #008080; text-decoration-color: #008080; font-weight: bold\">2</span>\n",
       "<span style=\"font-weight: bold\">}</span>\n",
       "</pre>\n"
      ],
      "text/plain": [
       "\u001b[1;36m1\u001b[0m - The text is about siblings Jack and Jill who go on a quest to fetch water from a hilltop well, but they have a \n",
       "mishap and tumble down the hill, yet they remain undeterred and continue exploring.\n",
       "\u001b[1;36m2\u001b[0m - Le texte parle des frères et sœurs Jack et Jill qui partent en quête d'eau d'un puits au sommet d'une colline, \n",
       "mais ils ont un accident et dévalent la colline, pourtant ils restent déterminés et continuent à explorer.\n",
       "\u001b[1;36m3\u001b[0m - Jack, Jill\n",
       "\u001b[1;36m4\u001b[0m - \u001b[1m{\u001b[0m\n",
       "    \u001b[32m\"french_summary\"\u001b[0m: \u001b[32m\"Le texte parle des frères et sœurs Jack et Jill qui partent en quête d'eau d'un puits au \u001b[0m\n",
       "\u001b[32msommet d'une colline, mais ils ont un accident et dévalent la colline, pourtant ils restent déterminés et \u001b[0m\n",
       "\u001b[32mcontinuent à explorer.\"\u001b[0m,\n",
       "    \u001b[32m\"num_names\"\u001b[0m: \u001b[1;36m2\u001b[0m\n",
       "\u001b[1m}\u001b[0m\n"
      ]
     },
     "metadata": {},
     "output_type": "display_data"
    }
   ],
   "source": [
    "text = f\"\"\"\n",
    "In a charming village, siblings Jack and Jill set out on\n",
    "a quest to fetch water from a hilltop\n",
    "well. As they climbed, singing joyfully, misfortune\n",
    "struck—Jack tripped on a stone and tumbled\n",
    "down the hill, with Jill following suit.\n",
    "Though slightly battered, the pair returned home to\n",
    "comforting embraces. Despite the mishap,\n",
    "their adventurous spirits remained undimmed, and they\n",
    "continued exploring with delight.\n",
    "\"\"\"\n",
    "# example 1\n",
    "prompt_1 = f\"\"\"\n",
    "Perform the following actions:\n",
    "1 - Summarize the following text delimited by triple\n",
    "backticks with 1 sentence.\n",
    "2 - Translate the summary into French.\n",
    "3 - List each name in the French summary.\n",
    "4 - Output a json object that contains the following\n",
    "keys: french_summary, num_names.\n",
    "\n",
    "Separate your answers with line breaks.\n",
    "\n",
    "Text:\n",
    "```{text}```\n",
    "\"\"\"\n",
    "response = get_completion(prompt_1)\n",
    "pprint(\"Completion for prompt 1:\")\n",
    "pprint(response)\n"
   ]
  },
  {
   "cell_type": "code",
   "execution_count": 25,
   "metadata": {},
   "outputs": [
    {
     "data": {
      "text/html": [
       "<pre style=\"white-space:pre;overflow-x:auto;line-height:normal;font-family:Menlo,'DejaVu Sans Mono',consolas,'Courier New',monospace\"><span style=\"color: #008080; text-decoration-color: #008080; font-weight: bold\">1</span> - The text tells the story of two siblings, Jack and Jill, who go on a quest to fetch water from a hilltop well \n",
       "but encounter misfortune along the way. Despite their mishap, they return home and continue their adventures with \n",
       "undimmed spirits.\n",
       "\n",
       "<span style=\"color: #008080; text-decoration-color: #008080; font-weight: bold\">2</span> - Le texte raconte l'histoire de deux frères et sœurs, Jack et Jill, qui partent en quête d'eau d'un puits situé \n",
       "au sommet d'une colline mais rencontrent des malheurs en chemin. Malgré leur mésaventure, ils rentrent chez eux et \n",
       "continuent leurs aventures avec un esprit toujours aussi vif.\n",
       "\n",
       "<span style=\"color: #008080; text-decoration-color: #008080; font-weight: bold\">3</span> - Jack, Jill\n",
       "\n",
       "<span style=\"color: #008080; text-decoration-color: #008080; font-weight: bold\">4</span> - <span style=\"font-weight: bold\">{</span>\n",
       "    <span style=\"color: #008000; text-decoration-color: #008000\">\"french_summary\"</span>: <span style=\"color: #008000; text-decoration-color: #008000\">\"Le texte raconte l'histoire de deux frères et sœurs, Jack et Jill, qui partent en quête </span>\n",
       "<span style=\"color: #008000; text-decoration-color: #008000\">d'eau d'un puits situé au sommet d'une colline mais rencontrent des malheurs en chemin. Malgré leur mésaventure, </span>\n",
       "<span style=\"color: #008000; text-decoration-color: #008000\">ils rentrent chez eux et continuent leurs aventures avec un esprit toujours aussi vif.\"</span>,\n",
       "    <span style=\"color: #008000; text-decoration-color: #008000\">\"num_names\"</span>: <span style=\"color: #008080; text-decoration-color: #008080; font-weight: bold\">2</span>\n",
       "<span style=\"font-weight: bold\">}</span>\n",
       "</pre>\n"
      ],
      "text/plain": [
       "\u001b[1;36m1\u001b[0m - The text tells the story of two siblings, Jack and Jill, who go on a quest to fetch water from a hilltop well \n",
       "but encounter misfortune along the way. Despite their mishap, they return home and continue their adventures with \n",
       "undimmed spirits.\n",
       "\n",
       "\u001b[1;36m2\u001b[0m - Le texte raconte l'histoire de deux frères et sœurs, Jack et Jill, qui partent en quête d'eau d'un puits situé \n",
       "au sommet d'une colline mais rencontrent des malheurs en chemin. Malgré leur mésaventure, ils rentrent chez eux et \n",
       "continuent leurs aventures avec un esprit toujours aussi vif.\n",
       "\n",
       "\u001b[1;36m3\u001b[0m - Jack, Jill\n",
       "\n",
       "\u001b[1;36m4\u001b[0m - \u001b[1m{\u001b[0m\n",
       "    \u001b[32m\"french_summary\"\u001b[0m: \u001b[32m\"Le texte raconte l'histoire de deux frères et sœurs, Jack et Jill, qui partent en quête \u001b[0m\n",
       "\u001b[32md'eau d'un puits situé au sommet d'une colline mais rencontrent des malheurs en chemin. Malgré leur mésaventure, \u001b[0m\n",
       "\u001b[32mils rentrent chez eux et continuent leurs aventures avec un esprit toujours aussi vif.\"\u001b[0m,\n",
       "    \u001b[32m\"num_names\"\u001b[0m: \u001b[1;36m2\u001b[0m\n",
       "\u001b[1m}\u001b[0m\n"
      ]
     },
     "metadata": {},
     "output_type": "display_data"
    }
   ],
   "source": [
    "prompt_costar = f\"\"\"\n",
    "\n",
    "#CONTEXT#\n",
    "You are a well renowned writer and a native French and English speaker.\n",
    "\n",
    "#OBJECTIVE#\n",
    "Perform the following actions listed in the # Response# section.\n",
    "The text we want to perform thee actions on is delimited by triple\n",
    "backticks below.\n",
    "\n",
    "```{text}```\n",
    "\n",
    "\n",
    "#STYLE#\n",
    "Write in the style of a linguistic.\n",
    "\n",
    "#TONE#\n",
    "Professional\n",
    "\n",
    "#AUDIENCE#\n",
    "You have a general audience\n",
    "\n",
    "\n",
    "#RESPONSE#\n",
    "1 - Summarize the following text delimited by triple\n",
    "backticks with 1 sentence.\n",
    "2 - Translate the summary into French.\n",
    "3 - List each name in the French summary.\n",
    "4 - Output a json object that contains the following\n",
    "keys: french_summary, num_names.\n",
    "\n",
    "Separate your answers with line breaks.\n",
    "\n",
    "\n",
    "\"\"\"\n",
    "\n",
    "response= get_completion(prompt_costar)\n",
    "pprint(response)"
   ]
  },
  {
   "attachments": {},
   "cell_type": "markdown",
   "metadata": {},
   "source": [
    "#### Ask for output in a specified format"
   ]
  },
  {
   "cell_type": "code",
   "execution_count": 26,
   "metadata": {},
   "outputs": [
    {
     "data": {
      "text/html": [
       "<pre style=\"white-space:pre;overflow-x:auto;line-height:normal;font-family:Menlo,'DejaVu Sans Mono',consolas,'Courier New',monospace\">Text: In a charming village, siblings Jack and Jill set out on a quest to fetch water from a hilltop well. As they \n",
       "climbed, singing joyfully, misfortune struck—Jack tripped on a stone and tumbled down the hill, with Jill following\n",
       "suit. Though slightly battered, the pair returned home to comforting embraces. Despite the mishap, their \n",
       "adventurous spirits remained undimmed, and they continued exploring with delight.\n",
       "\n",
       "Summary: Jack and Jill, siblings from a charming village, went on a quest to fetch water from a hilltop well but \n",
       "encountered misfortune when Jack tripped and tumbled down the hill, followed by Jill. Despite the mishap, they \n",
       "returned home and continued their adventurous exploration.\n",
       "\n",
       "Translation: Jack et Jill, frère et sœur d'un charmant village, se lancèrent dans une quête pour aller chercher de \n",
       "l'eau d'un puits au sommet d'une colline, mais ils connurent un malheur lorsque Jack trébucha et dévala la colline,\n",
       "suivi par Jill. Malgré cet incident, ils rentrèrent chez eux et continuèrent leur exploration aventureuse.\n",
       "\n",
       "Names: Jack, Jill\n",
       "\n",
       "Output JSON: \n",
       "<span style=\"font-weight: bold\">{</span>\n",
       "  <span style=\"color: #008000; text-decoration-color: #008000\">\"french_summary\"</span>: <span style=\"color: #008000; text-decoration-color: #008000\">\"Jack et Jill, frère et sœur d'un charmant village, se lancèrent dans une quête pour aller </span>\n",
       "<span style=\"color: #008000; text-decoration-color: #008000\">chercher de l'eau d'un puits au sommet d'une colline, mais ils connurent un malheur lorsque Jack trébucha et dévala</span>\n",
       "<span style=\"color: #008000; text-decoration-color: #008000\">la colline, suivi par Jill. Malgré cet incident, ils rentrèrent chez eux et continuèrent leur exploration </span>\n",
       "<span style=\"color: #008000; text-decoration-color: #008000\">aventureuse.\"</span>,\n",
       "  <span style=\"color: #008000; text-decoration-color: #008000\">\"num_names\"</span>: <span style=\"color: #008080; text-decoration-color: #008080; font-weight: bold\">2</span>\n",
       "<span style=\"font-weight: bold\">}</span>\n",
       "</pre>\n"
      ],
      "text/plain": [
       "Text: In a charming village, siblings Jack and Jill set out on a quest to fetch water from a hilltop well. As they \n",
       "climbed, singing joyfully, misfortune struck—Jack tripped on a stone and tumbled down the hill, with Jill following\n",
       "suit. Though slightly battered, the pair returned home to comforting embraces. Despite the mishap, their \n",
       "adventurous spirits remained undimmed, and they continued exploring with delight.\n",
       "\n",
       "Summary: Jack and Jill, siblings from a charming village, went on a quest to fetch water from a hilltop well but \n",
       "encountered misfortune when Jack tripped and tumbled down the hill, followed by Jill. Despite the mishap, they \n",
       "returned home and continued their adventurous exploration.\n",
       "\n",
       "Translation: Jack et Jill, frère et sœur d'un charmant village, se lancèrent dans une quête pour aller chercher de \n",
       "l'eau d'un puits au sommet d'une colline, mais ils connurent un malheur lorsque Jack trébucha et dévala la colline,\n",
       "suivi par Jill. Malgré cet incident, ils rentrèrent chez eux et continuèrent leur exploration aventureuse.\n",
       "\n",
       "Names: Jack, Jill\n",
       "\n",
       "Output JSON: \n",
       "\u001b[1m{\u001b[0m\n",
       "  \u001b[32m\"french_summary\"\u001b[0m: \u001b[32m\"Jack et Jill, frère et sœur d'un charmant village, se lancèrent dans une quête pour aller \u001b[0m\n",
       "\u001b[32mchercher de l'eau d'un puits au sommet d'une colline, mais ils connurent un malheur lorsque Jack trébucha et dévala\u001b[0m\n",
       "\u001b[32mla colline, suivi par Jill. Malgré cet incident, ils rentrèrent chez eux et continuèrent leur exploration \u001b[0m\n",
       "\u001b[32maventureuse.\"\u001b[0m,\n",
       "  \u001b[32m\"num_names\"\u001b[0m: \u001b[1;36m2\u001b[0m\n",
       "\u001b[1m}\u001b[0m\n"
      ]
     },
     "metadata": {},
     "output_type": "display_data"
    }
   ],
   "source": [
    "prompt_costar = f\"\"\"\n",
    "\n",
    "#CONTEXT#\n",
    "You are a well renowned writer and a native French and English speaker.\n",
    "\n",
    "#OBJECTIVE#\n",
    "Perform the following actions listed in the # Response# section.\n",
    "The text we want to perform thee actions on is delimited by triple\n",
    "backticks below.\n",
    "\n",
    "```{text}```\n",
    "\n",
    "\n",
    "#STYLE#\n",
    "Write in the style of a linguistic.\n",
    "\n",
    "#TONE#\n",
    "Professional\n",
    "\n",
    "#AUDIENCE#\n",
    "You have a general audience\n",
    "\n",
    "\n",
    "#RESPONSE#\n",
    "1 - Summarize the following text delimited by triple\n",
    "backticks with 1 sentence.\n",
    "2 - Translate the summary into French.\n",
    "3 - List each name in the French summary.\n",
    "4 - Output a json object that contains the following\n",
    "keys: french_summary, num_names.\n",
    "\n",
    "Separate your answers with line breaks.\n",
    "Use the following format:\n",
    "Text: <text to summarize>\n",
    "Summary: <summary>\n",
    "Translation: <summary translation>\n",
    "Names: <list of names in summary>\n",
    "Output JSON: <json with summary and num_names>\n",
    "\n",
    "\"\"\"\n",
    "\n",
    "response= get_completion(prompt_costar)\n",
    "pprint(response)"
   ]
  },
  {
   "attachments": {},
   "cell_type": "markdown",
   "metadata": {},
   "source": [
    "#### Tactic 2: Instruct the model to work out its own solution before rushing to conclusion"
   ]
  },
  {
   "cell_type": "code",
   "execution_count": 27,
   "metadata": {},
   "outputs": [
    {
     "data": {
      "text/html": [
       "<pre style=\"white-space:pre;overflow-x:auto;line-height:normal;font-family:Menlo,'DejaVu Sans Mono',consolas,'Courier New',monospace\">The student's solution is correct. They correctly identified the costs for land, solar panels, and maintenance, and\n",
       "calculated the total cost as a function of the number of square feet.\n",
       "</pre>\n"
      ],
      "text/plain": [
       "The student's solution is correct. They correctly identified the costs for land, solar panels, and maintenance, and\n",
       "calculated the total cost as a function of the number of square feet.\n"
      ]
     },
     "metadata": {},
     "output_type": "display_data"
    }
   ],
   "source": [
    "prompt = f\"\"\"\n",
    "Determine if the student's solution is correct or not.\n",
    "\n",
    "Question:\n",
    "I'm building a solar power installation and I need \\\n",
    " help working out the financials.\n",
    "- Land costs $100 / square foot\n",
    "- I can buy solar panels for $250 / square foot\n",
    "- I negotiated a contract for maintenance that will cost \\\n",
    "me a flat $100k per year, and an additional $10 / square \\\n",
    "foot\n",
    "What is the total cost for the first year of operations\n",
    "as a function of the number of square feet.\n",
    "\n",
    "Student's Solution:\n",
    "Let x be the size of the installation in square feet.\n",
    "Costs:\n",
    "1. Land cost: 100x\n",
    "2. Solar panel cost: 250x\n",
    "3. Maintenance cost: 100,000 + 100x\n",
    "Total cost: 100x + 250x + 100,000 + 100x = 450x + 100,000\n",
    "\"\"\"\n",
    "response = get_completion(prompt)\n",
    "pprint(response)\n"
   ]
  },
  {
   "attachments": {},
   "cell_type": "markdown",
   "metadata": {},
   "source": [
    "#### Note that the student's solution is actually not correct.\n",
    "#### We can fix this by instructing the model to work out its own solution first."
   ]
  },
  {
   "cell_type": "code",
   "execution_count": 28,
   "metadata": {},
   "outputs": [
    {
     "data": {
      "text/html": [
       "<pre style=\"white-space:pre;overflow-x:auto;line-height:normal;font-family:Menlo,'DejaVu Sans Mono',consolas,'Courier New',monospace\">Question:\n",
       "```\n",
       "I'm building a solar power installation and I need help working out the financials.\n",
       "- Land costs $<span style=\"color: #008080; text-decoration-color: #008080; font-weight: bold\">100</span> <span style=\"color: #800080; text-decoration-color: #800080\">/</span> square foot\n",
       "- I can buy solar panels for $<span style=\"color: #008080; text-decoration-color: #008080; font-weight: bold\">250</span> <span style=\"color: #800080; text-decoration-color: #800080\">/</span> square foot\n",
       "- I negotiated a contract for maintenance that will cost me a flat $100k per year, and an additional $<span style=\"color: #008080; text-decoration-color: #008080; font-weight: bold\">10</span> <span style=\"color: #800080; text-decoration-color: #800080\">/</span> square \n",
       "foot\n",
       "What is the total cost for the first year of operations as a function of the number of square feet?\n",
       "```\n",
       "Student's solution:\n",
       "```\n",
       "Let x be the size of the installation in square feet.\n",
       "Costs:\n",
       "<span style=\"color: #008080; text-decoration-color: #008080; font-weight: bold\">1</span>. Land cost: 10<span style=\"color: #008080; text-decoration-color: #008080; font-weight: bold\">0x</span>\n",
       "<span style=\"color: #008080; text-decoration-color: #008080; font-weight: bold\">2</span>. Solar panel cost: 25<span style=\"color: #008080; text-decoration-color: #008080; font-weight: bold\">0x</span>\n",
       "<span style=\"color: #008080; text-decoration-color: #008080; font-weight: bold\">3</span>. Maintenance cost: <span style=\"color: #008080; text-decoration-color: #008080; font-weight: bold\">100</span>,<span style=\"color: #008080; text-decoration-color: #008080; font-weight: bold\">000</span> + 10<span style=\"color: #008080; text-decoration-color: #008080; font-weight: bold\">0x</span>\n",
       "Total cost: 10<span style=\"color: #008080; text-decoration-color: #008080; font-weight: bold\">0x</span> + 25<span style=\"color: #008080; text-decoration-color: #008080; font-weight: bold\">0x</span> + <span style=\"color: #008080; text-decoration-color: #008080; font-weight: bold\">100</span>,<span style=\"color: #008080; text-decoration-color: #008080; font-weight: bold\">000</span> + 10<span style=\"color: #008080; text-decoration-color: #008080; font-weight: bold\">0x</span> = 45<span style=\"color: #008080; text-decoration-color: #008080; font-weight: bold\">0x</span> + <span style=\"color: #008080; text-decoration-color: #008080; font-weight: bold\">100</span>,<span style=\"color: #008080; text-decoration-color: #008080; font-weight: bold\">000</span>\n",
       "```\n",
       "Actual solution:\n",
       "To calculate the total cost for the first year of operations, we need to consider the land cost, solar panel cost, \n",
       "and maintenance cost.\n",
       "\n",
       "<span style=\"color: #008080; text-decoration-color: #008080; font-weight: bold\">1</span>. Land cost: $<span style=\"color: #008080; text-decoration-color: #008080; font-weight: bold\">100</span> per square foot\n",
       "   - This can be calculated as 10<span style=\"color: #008080; text-decoration-color: #008080; font-weight: bold\">0x</span>, where x is the size of the installation in square feet.\n",
       "\n",
       "<span style=\"color: #008080; text-decoration-color: #008080; font-weight: bold\">2</span>. Solar panel cost: $<span style=\"color: #008080; text-decoration-color: #008080; font-weight: bold\">250</span> per square foot\n",
       "   - This can be calculated as 25<span style=\"color: #008080; text-decoration-color: #008080; font-weight: bold\">0x</span>, where x is the size of the installation in square feet.\n",
       "\n",
       "<span style=\"color: #008080; text-decoration-color: #008080; font-weight: bold\">3</span>. Maintenance cost: $<span style=\"color: #008080; text-decoration-color: #008080; font-weight: bold\">100</span>,<span style=\"color: #008080; text-decoration-color: #008080; font-weight: bold\">000</span> flat fee per year, plus $<span style=\"color: #008080; text-decoration-color: #008080; font-weight: bold\">10</span> per square foot\n",
       "   - This can be calculated as <span style=\"color: #008080; text-decoration-color: #008080; font-weight: bold\">100</span>,<span style=\"color: #008080; text-decoration-color: #008080; font-weight: bold\">000</span> + 1<span style=\"color: #008080; text-decoration-color: #008080; font-weight: bold\">0x</span>, where x is the size of the installation in square feet.\n",
       "\n",
       "Total cost: 10<span style=\"color: #008080; text-decoration-color: #008080; font-weight: bold\">0x</span> + 25<span style=\"color: #008080; text-decoration-color: #008080; font-weight: bold\">0x</span> + <span style=\"color: #008080; text-decoration-color: #008080; font-weight: bold\">100</span>,<span style=\"color: #008080; text-decoration-color: #008080; font-weight: bold\">000</span> + 1<span style=\"color: #008080; text-decoration-color: #008080; font-weight: bold\">0x</span> = 36<span style=\"color: #008080; text-decoration-color: #008080; font-weight: bold\">0x</span> + <span style=\"color: #008080; text-decoration-color: #008080; font-weight: bold\">100</span>,<span style=\"color: #008080; text-decoration-color: #008080; font-weight: bold\">000</span>\n",
       "\n",
       "Is the student's solution the same as the actual solution just calculated:\n",
       "No\n",
       "\n",
       "Student grade:\n",
       "Incorrect\n",
       "</pre>\n"
      ],
      "text/plain": [
       "Question:\n",
       "```\n",
       "I'm building a solar power installation and I need help working out the financials.\n",
       "- Land costs $\u001b[1;36m100\u001b[0m \u001b[35m/\u001b[0m square foot\n",
       "- I can buy solar panels for $\u001b[1;36m250\u001b[0m \u001b[35m/\u001b[0m square foot\n",
       "- I negotiated a contract for maintenance that will cost me a flat $100k per year, and an additional $\u001b[1;36m10\u001b[0m \u001b[35m/\u001b[0m square \n",
       "foot\n",
       "What is the total cost for the first year of operations as a function of the number of square feet?\n",
       "```\n",
       "Student's solution:\n",
       "```\n",
       "Let x be the size of the installation in square feet.\n",
       "Costs:\n",
       "\u001b[1;36m1\u001b[0m. Land cost: 10\u001b[1;36m0x\u001b[0m\n",
       "\u001b[1;36m2\u001b[0m. Solar panel cost: 25\u001b[1;36m0x\u001b[0m\n",
       "\u001b[1;36m3\u001b[0m. Maintenance cost: \u001b[1;36m100\u001b[0m,\u001b[1;36m000\u001b[0m + 10\u001b[1;36m0x\u001b[0m\n",
       "Total cost: 10\u001b[1;36m0x\u001b[0m + 25\u001b[1;36m0x\u001b[0m + \u001b[1;36m100\u001b[0m,\u001b[1;36m000\u001b[0m + 10\u001b[1;36m0x\u001b[0m = 45\u001b[1;36m0x\u001b[0m + \u001b[1;36m100\u001b[0m,\u001b[1;36m000\u001b[0m\n",
       "```\n",
       "Actual solution:\n",
       "To calculate the total cost for the first year of operations, we need to consider the land cost, solar panel cost, \n",
       "and maintenance cost.\n",
       "\n",
       "\u001b[1;36m1\u001b[0m. Land cost: $\u001b[1;36m100\u001b[0m per square foot\n",
       "   - This can be calculated as 10\u001b[1;36m0x\u001b[0m, where x is the size of the installation in square feet.\n",
       "\n",
       "\u001b[1;36m2\u001b[0m. Solar panel cost: $\u001b[1;36m250\u001b[0m per square foot\n",
       "   - This can be calculated as 25\u001b[1;36m0x\u001b[0m, where x is the size of the installation in square feet.\n",
       "\n",
       "\u001b[1;36m3\u001b[0m. Maintenance cost: $\u001b[1;36m100\u001b[0m,\u001b[1;36m000\u001b[0m flat fee per year, plus $\u001b[1;36m10\u001b[0m per square foot\n",
       "   - This can be calculated as \u001b[1;36m100\u001b[0m,\u001b[1;36m000\u001b[0m + 1\u001b[1;36m0x\u001b[0m, where x is the size of the installation in square feet.\n",
       "\n",
       "Total cost: 10\u001b[1;36m0x\u001b[0m + 25\u001b[1;36m0x\u001b[0m + \u001b[1;36m100\u001b[0m,\u001b[1;36m000\u001b[0m + 1\u001b[1;36m0x\u001b[0m = 36\u001b[1;36m0x\u001b[0m + \u001b[1;36m100\u001b[0m,\u001b[1;36m000\u001b[0m\n",
       "\n",
       "Is the student's solution the same as the actual solution just calculated:\n",
       "No\n",
       "\n",
       "Student grade:\n",
       "Incorrect\n"
      ]
     },
     "metadata": {},
     "output_type": "display_data"
    }
   ],
   "source": [
    "prompt_costar = f\"\"\"\n",
    "\n",
    "#CONTEXT#\n",
    "You are a University Professor charged with grading end of semester exmination.\n",
    "\n",
    "#OBJECTIVE#\n",
    "Your task is to determine if the student's solution\n",
    "is correct or not.\n",
    "To solve the problem do the following:\n",
    "- First, work out your own solution to the problem including the final total.\n",
    "- Then compare your solution to the student's solution\n",
    "and evaluate if the student's solution is correct or not.\n",
    "Don't decide if the student's solution is correct until\n",
    "you have done the problem yourself.\n",
    "\n",
    "<Question>\n",
    "I'm building a solar power installation and I need help \\\n",
    "working out the financials.\n",
    "- Land costs $100 / square foot\n",
    "- I can buy solar panels for $250 / square foot\n",
    "- I negotiated a contract for maintenance that will cost \\\n",
    "me a flat $100k per year, and an additional $10 / square \\\n",
    "foot\n",
    "What is the total cost for the first year of operations \\\n",
    "as a function of the number of square feet.\n",
    "</Question>\n",
    "\n",
    "<Student's solution>\n",
    "Let x be the size of the installation in square feet.\n",
    "Costs:\n",
    "1. Land cost: 100x\n",
    "2. Solar panel cost: 250x\n",
    "3. Maintenance cost: 100,000 + 100x\n",
    "Total cost: 100x + 250x + 100,000 + 100x = 450x + 100,000\n",
    "</Student's solution>\n",
    "\n",
    "<Actual solution> </Actual solution>\n",
    "\n",
    "#STYLE#\n",
    "Write in the style of a teacher.\n",
    "\n",
    "#TONE#\n",
    "Professional\n",
    "\n",
    "#AUDIENCE#\n",
    "College students\n",
    "\n",
    "\n",
    "#RESPONSE#\n",
    "Use the following format:\n",
    "Question:\n",
    "```\n",
    "question here\n",
    "```\n",
    "Student's solution:\n",
    "```\n",
    "student's solution here\n",
    "```\n",
    "Actual solution:\n",
    "```\n",
    "steps to work out the solution and your solution here\n",
    "```\n",
    "Is the student's solution the same as actual solution \\\n",
    "just calculated:\n",
    "```\n",
    "yes or no\n",
    "```\n",
    "Student grade:\n",
    "```\n",
    "correct or incorrect\n",
    "```\n",
    "\n",
    "\"\"\"\n",
    "\n",
    "response= get_completion(prompt_costar)\n",
    "pprint(response)"
   ]
  },
  {
   "attachments": {},
   "cell_type": "markdown",
   "metadata": {},
   "source": [
    "## Model Limitations: Hallucinations\n",
    "- Boie is a real company, the product name is not real."
   ]
  },
  {
   "cell_type": "code",
   "execution_count": 19,
   "metadata": {},
   "outputs": [
    {
     "name": "stdout",
     "output_type": "stream",
     "text": [
      "The AeroGlide UltraSlim Smart Toothbrush by Boie is a technologically advanced toothbrush designed to provide a superior brushing experience. Boie is a company known for its innovative oral care products, and the AeroGlide UltraSlim Smart Toothbrush is no exception.\n",
      "\n",
      "One of the standout features of this toothbrush is its ultra-slim design. The brush head is only 2mm thick, making it much thinner than traditional toothbrushes. This slim profile allows for better access to hard-to-reach areas of the mouth, ensuring a thorough and effective clean.\n",
      "\n",
      "The AeroGlide UltraSlim Smart Toothbrush also incorporates smart technology. It connects to a mobile app via Bluetooth, allowing users to track their brushing habits and receive personalized recommendations for improving their oral hygiene routine. The app provides real-time feedback on brushing technique, ensuring that users are brushing for the recommended two minutes and covering all areas of their mouth.\n",
      "\n",
      "The toothbrush itself is made from a durable and hygienic material called thermoplastic elastomer. This material is non-porous, meaning it doesn't harbor bacteria or mold, making it more hygienic than traditional toothbrush bristles. The bristles are also ultra-soft, providing a gentle yet effective clean without causing any damage to the gums or enamel.\n",
      "\n",
      "In addition to its technological features, the AeroGlide UltraSlim Smart Toothbrush is also environmentally friendly. The brush head is replaceable, reducing waste compared to traditional toothbrushes where the entire brush needs to be discarded. The toothbrush is also designed to last for up to six months, ensuring durability and longevity.\n",
      "\n",
      "Overall, the AeroGlide UltraSlim Smart Toothbrush by Boie offers a combination of advanced technology, slim design, and eco-friendly features. It aims to provide users with a superior brushing experience, helping them maintain optimal oral health.\n"
     ]
    }
   ],
   "source": [
    "prompt = f\"\"\"\n",
    "Tell me about AeroGlide UltraSlim Smart Toothbrush by Boie\n",
    "\"\"\"\n",
    "response = get_completion(prompt)\n",
    "print(response)\n"
   ]
  },
  {
   "cell_type": "code",
   "execution_count": 21,
   "metadata": {},
   "outputs": [
    {
     "name": "stdout",
     "output_type": "stream",
     "text": [
      "I'm sorry, but as an AI language model, I don't have access to real-time information or the ability to browse the internet. Therefore, I cannot provide details about specific developments or solutions by Deloitte consulting in the US. It's always best to refer to official sources, such as Deloitte's website or news articles, for the most accurate and up-to-date information on their initiatives.\n"
     ]
    }
   ],
   "source": [
    "prompt = f\"\"\"\n",
    "Tell me about the the new plastic solution developed by Deloitte consulting in the US.\n",
    "\"\"\"\n",
    "response = get_completion(prompt)\n",
    "print(response)\n"
   ]
  }
 ],
 "metadata": {
  "kernelspec": {
   "display_name": "Python 3",
   "language": "python",
   "name": "python3"
  },
  "language_info": {
   "codemirror_mode": {
    "name": "ipython",
    "version": 3
   },
   "file_extension": ".py",
   "mimetype": "text/x-python",
   "name": "python",
   "nbconvert_exporter": "python",
   "pygments_lexer": "ipython3",
   "version": "3.10.10"
  }
 },
 "nbformat": 4,
 "nbformat_minor": 2
}
