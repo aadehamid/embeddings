{
 "cells": [
  {
   "cell_type": "code",
   "execution_count": 1,
   "metadata": {},
   "outputs": [],
   "source": [
    "import pandas as pd\n",
    "from rich import print, pretty\n",
    "from rich.console import Console\n",
    "from icecream import ic\n",
    "import pandas as pd\n",
    "import numpy as np\n",
    "from pathlib import Path\n",
    "import pickle\n",
    "import os\n",
    "from sklearn.metrics.pairwise import cosine_similarity\n",
    "from sklearn.metrics import pairwise_distances_argmin as distances_argmin\n",
    "from embed_sources import create_sentence_embedding\n",
    "from sentence_transformers import SentenceTransformer\n",
    "import google.ai.generativelanguage as glm \n",
    "import google.generativeai as genai\n",
    "import openai\n",
    "from dotenv import load_dotenv\n",
    "load_dotenv()\n",
    "\n",
    "from IPython.display import Markdown\n",
    "\n",
    "console = Console()\n",
    "pretty.install()"
   ]
  },
  {
   "cell_type": "code",
   "execution_count": 2,
   "metadata": {},
   "outputs": [],
   "source": [
    "openai.api_key = os.getenv('OPENAI_API_KEY')\n",
    "API_KEY = os.getenv(\"GEMINI_API_KEY\")\n",
    "genai.configure(api_key=API_KEY)\n",
    "# OPENAI_API_KEY = os.getenv('OPENAI_API_KEY')\n"
   ]
  },
  {
   "cell_type": "code",
   "execution_count": 3,
   "metadata": {},
   "outputs": [
    {
     "data": {
      "text/html": [
       "<div>\n",
       "<style scoped>\n",
       "    .dataframe tbody tr th:only-of-type {\n",
       "        vertical-align: middle;\n",
       "    }\n",
       "\n",
       "    .dataframe tbody tr th {\n",
       "        vertical-align: top;\n",
       "    }\n",
       "\n",
       "    .dataframe thead th {\n",
       "        text-align: right;\n",
       "    }\n",
       "</style>\n",
       "<table border=\"1\" class=\"dataframe\">\n",
       "  <thead>\n",
       "    <tr style=\"text-align: right;\">\n",
       "      <th></th>\n",
       "      <th>input_text</th>\n",
       "      <th>output_text</th>\n",
       "      <th>category</th>\n",
       "    </tr>\n",
       "  </thead>\n",
       "  <tbody>\n",
       "    <tr>\n",
       "      <th>0</th>\n",
       "      <td>python's inspect.getfile returns \"&lt;string&gt;\"&lt;p&gt;...</td>\n",
       "      <td>&lt;p&gt;&lt;code&gt;&amp;lt;string&amp;gt;&lt;/code&gt; means that the ...</td>\n",
       "      <td>python</td>\n",
       "    </tr>\n",
       "    <tr>\n",
       "      <th>1</th>\n",
       "      <td>Passing parameter to function while multithrea...</td>\n",
       "      <td>&lt;p&gt;Try this and note the difference:&lt;/p&gt;\\n&lt;pre...</td>\n",
       "      <td>python</td>\n",
       "    </tr>\n",
       "    <tr>\n",
       "      <th>2</th>\n",
       "      <td>How do we test a specific method written in a ...</td>\n",
       "      <td>&lt;p&gt;Duplicate of &lt;a href=\"https://stackoverflow...</td>\n",
       "      <td>python</td>\n",
       "    </tr>\n",
       "    <tr>\n",
       "      <th>3</th>\n",
       "      <td>how can i remove the black bg color of an imag...</td>\n",
       "      <td>&lt;p&gt;The alpha channel &amp;quot;disappears&amp;quot; be...</td>\n",
       "      <td>python</td>\n",
       "    </tr>\n",
       "    <tr>\n",
       "      <th>4</th>\n",
       "      <td>How to extract each sheet within an Excel file...</td>\n",
       "      <td>&lt;p&gt;You need to specify the &lt;code&gt;index&lt;/code&gt; ...</td>\n",
       "      <td>python</td>\n",
       "    </tr>\n",
       "  </tbody>\n",
       "</table>\n",
       "</div>"
      ]
     },
     "execution_count": 3,
     "metadata": {},
     "output_type": "execute_result"
    }
   ],
   "source": [
    "filepath = Path.cwd().joinpath(\"embeddings\", \"so_database_app.csv\")\n",
    "so_df = pd.read_csv(filepath)\n",
    "so_df.head()"
   ]
  },
  {
   "cell_type": "code",
   "execution_count": null,
   "metadata": {},
   "outputs": [
    {
     "data": {
      "text/html": [
       "<pre style=\"white-space:pre;overflow-x:auto;line-height:normal;font-family:Menlo,'DejaVu Sans Mono',consolas,'Courier New',monospace\"><span style=\"color: #808000; text-decoration-color: #808000; font-weight: bold\">Shape of the data is </span><span style=\"color: #008000; text-decoration-color: #008000; font-weight: bold; text-decoration: underline\">(</span><span style=\"color: #008000; text-decoration-color: #008000; font-weight: bold; text-decoration: underline\">2000</span><span style=\"color: #008000; text-decoration-color: #008000; font-weight: bold; text-decoration: underline\">, </span><span style=\"color: #008000; text-decoration-color: #008000; font-weight: bold; text-decoration: underline\">3</span><span style=\"color: #008000; text-decoration-color: #008000; font-weight: bold; text-decoration: underline\">)</span>\n",
       "</pre>\n"
      ],
      "text/plain": [
       "\u001b[1;33mShape of the data is \u001b[0m\u001b[1;4;32m(\u001b[0m\u001b[1;4;32m2000\u001b[0m\u001b[1;4;32m, \u001b[0m\u001b[1;4;32m3\u001b[0m\u001b[1;4;32m)\u001b[0m\n"
      ]
     },
     "metadata": {},
     "output_type": "display_data"
    }
   ],
   "source": [
    "console.print(f\"Shape of the data is [bold green underline]{so_df.shape}\", style=\"bold yellow\")"
   ]
  },
  {
   "cell_type": "code",
   "execution_count": 4,
   "metadata": {},
   "outputs": [
    {
     "data": {
      "text/html": [
       "<pre style=\"white-space:pre;overflow-x:auto;line-height:normal;font-family:Menlo,'DejaVu Sans Mono',consolas,'Courier New',monospace\"><span style=\"font-weight: bold\">(</span><span style=\"color: #008080; text-decoration-color: #008080; font-weight: bold\">2000</span>, <span style=\"color: #008080; text-decoration-color: #008080; font-weight: bold\">768</span><span style=\"font-weight: bold\">)</span>\n",
       "</pre>\n"
      ],
      "text/plain": [
       "\u001b[1m(\u001b[0m\u001b[1;36m2000\u001b[0m, \u001b[1;36m768\u001b[0m\u001b[1m)\u001b[0m\n"
      ]
     },
     "metadata": {},
     "output_type": "display_data"
    }
   ],
   "source": [
    "filepath = Path.cwd().joinpath(\"embeddings\", \"hmd_so_embeddings2000.pkl\")\n",
    "with open(filepath, \"rb\") as file:\n",
    "    questions_embeddings = pickle.load(file)\n",
    "print(questions_embeddings.shape)\n",
    "\n",
    "# added the embedding to the dataframe\n",
    "# This is acting like our vector DB\n",
    "so_df[\"embeddings\"] = questions_embeddings.tolist() "
   ]
  },
  {
   "cell_type": "code",
   "execution_count": 6,
   "metadata": {},
   "outputs": [
    {
     "data": {
      "text/html": [
       "<pre style=\"white-space:pre;overflow-x:auto;line-height:normal;font-family:Menlo,'DejaVu Sans Mono',consolas,'Courier New',monospace\">PCA of an array of one sample does not make sense.\n",
       "So returning the full array.\n",
       "</pre>\n"
      ],
      "text/plain": [
       "PCA of an array of one sample does not make sense.\n",
       "So returning the full array.\n"
      ]
     },
     "metadata": {},
     "output_type": "display_data"
    },
    {
     "data": {
      "text/html": [
       "<pre style=\"white-space:pre;overflow-x:auto;line-height:normal;font-family:Menlo,'DejaVu Sans Mono',consolas,'Courier New',monospace\"><span style=\"font-weight: bold\">(</span><span style=\"color: #008080; text-decoration-color: #008080; font-weight: bold\">1</span>, <span style=\"color: #008080; text-decoration-color: #008080; font-weight: bold\">768</span><span style=\"font-weight: bold\">)</span>\n",
       "</pre>\n"
      ],
      "text/plain": [
       "\u001b[1m(\u001b[0m\u001b[1;36m1\u001b[0m, \u001b[1;36m768\u001b[0m\u001b[1m)\u001b[0m\n"
      ]
     },
     "metadata": {},
     "output_type": "display_data"
    },
    {
     "data": {
      "text/html": [
       "<pre style=\"white-space:pre;overflow-x:auto;line-height:normal;font-family:Menlo,'DejaVu Sans Mono',consolas,'Courier New',monospace\"><span style=\"font-weight: bold\">(</span><span style=\"color: #008080; text-decoration-color: #008080; font-weight: bold\">1</span>, <span style=\"color: #008080; text-decoration-color: #008080; font-weight: bold\">2000</span><span style=\"font-weight: bold\">)</span>\n",
       "</pre>\n"
      ],
      "text/plain": [
       "\u001b[1m(\u001b[0m\u001b[1;36m1\u001b[0m, \u001b[1;36m2000\u001b[0m\u001b[1m)\u001b[0m\n"
      ]
     },
     "metadata": {},
     "output_type": "display_data"
    },
    {
     "data": {
      "text/html": [
       "<pre style=\"white-space:pre;overflow-x:auto;line-height:normal;font-family:Menlo,'DejaVu Sans Mono',consolas,'Courier New',monospace\"><span style=\"color: #008080; text-decoration-color: #008080; font-weight: bold\">35</span>\n",
       "</pre>\n"
      ],
      "text/plain": [
       "\u001b[1;36m35\u001b[0m\n"
      ]
     },
     "metadata": {},
     "output_type": "display_data"
    },
    {
     "data": {
      "text/html": [
       "<pre style=\"white-space:pre;overflow-x:auto;line-height:normal;font-family:Menlo,'DejaVu Sans Mono',consolas,'Courier New',monospace\"><span style=\"color: #008080; text-decoration-color: #008080; font-weight: bold\">35</span>\n",
       "</pre>\n"
      ],
      "text/plain": [
       "\u001b[1;36m35\u001b[0m\n"
      ]
     },
     "metadata": {},
     "output_type": "display_data"
    }
   ],
   "source": [
    "# Now lets ask the LLM a question\n",
    "query = ['How to concat dataframes pandas']\n",
    "# query = ['''Creating new column from filtering others<p>I need to assign to a new column the value 1 or 0 depending on what \n",
    "# other columns have.\n",
    "# I have around 30 columns with binary values (1 or 0), but also other variables with numeric, continuous, values \n",
    "# (e.g. 200). I would like to avoid the write a logical condition with many OR, so I was wondering if there is an \n",
    "# easy and fast way to do it.''']\n",
    "\n",
    "model = SentenceTransformer(\"all-mpnet-base-v2\")\n",
    "\n",
    "# get the embedding of the query\n",
    "query_embedding, _ = create_sentence_embedding(query, model, bert = False)\n",
    "print(query_embedding.shape)\n",
    "cos_similarity = cosine_similarity(query_embedding.tolist(),\n",
    "                            list(so_df.embeddings.values))\n",
    "\n",
    "print(cos_similarity.shape)\n",
    "\n",
    "# find the embedding with the highest similarity value\n",
    "index_doc_cosine = np.argmax(cos_similarity)\n",
    "print(index_doc_cosine)\n",
    "\n",
    "# get the distances\n",
    "index_doc_distances = distances_argmin(\n",
    "                    query_embedding.tolist(),\n",
    "                    list(so_df.embeddings.values))[0]\n",
    "print(index_doc_distances)"
   ]
  },
  {
   "cell_type": "code",
   "execution_count": 8,
   "metadata": {},
   "outputs": [
    {
     "data": {
      "text/markdown": [
       "Concatenate 2 dataframes and repeat values from small one with pandas<p>I have these two dataframes:</p>\n",
       "<div class=\"s-table-container\">\n",
       "<table class=\"s-table\">\n",
       "<thead>\n",
       "<tr>\n",
       "<th>Field1</th>\n",
       "<th>Field2</th>\n",
       "</tr>\n",
       "</thead>\n",
       "<tbody>\n",
       "<tr>\n",
       "<td>0.5</td>\n",
       "<td>0.7</td>\n",
       "</tr>\n",
       "<tr>\n",
       "<td>2</td>\n",
       "<td>1</td>\n",
       "</tr>\n",
       "<tr>\n",
       "<td>3</td>\n",
       "<td>0.1</td>\n",
       "</tr>\n",
       "<tr>\n",
       "<td>4</td>\n",
       "<td>0.4</td>\n",
       "</tr>\n",
       "</tbody>\n",
       "</table>\n",
       "</div>\n",
       "<p>and</p>\n",
       "<div class=\"s-table-container\">\n",
       "<table class=\"s-table\">\n",
       "<thead>\n",
       "<tr>\n",
       "<th>Date</th>\n",
       "<th>Time</th>\n",
       "</tr>\n",
       "</thead>\n",
       "<tbody>\n",
       "<tr>\n",
       "<td>2022-08-01</td>\n",
       "<td>1</td>\n",
       "</tr>\n",
       "<tr>\n",
       "<td>2022-08-01</td>\n",
       "<td>2</td>\n",
       "</tr>\n",
       "</tbody>\n",
       "</table>\n",
       "</div>\n",
       "<p>and a I need to obtain the following:</p>\n",
       "<div class=\"s-table-container\">\n",
       "<table class=\"s-table\">\n",
       "<thead>\n",
       "<tr>\n",
       "<th>Field1</th>\n",
       "<th>Field2</th>\n",
       "<th>Date</th>\n",
       "<th>Time</th>\n",
       "</tr>\n",
       "</thead>\n",
       "<tbody>\n",
       "<tr>\n",
       "<td>0.5</td>\n",
       "<td>0.7</td>\n",
       "<td>2022-08-01</td>\n",
       "<td>1</td>\n",
       "</tr>\n",
       "<tr>\n",
       "<td>2</td>\n",
       "<td>1</td>\n",
       "<td>2022-08-01</td>\n",
       "<td>2</td>\n",
       "</tr>\n",
       "<tr>\n",
       "<td>3</td>\n",
       "<td>0.1</td>\n",
       "<td>2022-08-01</td>\n",
       "<td>1</td>\n",
       "</tr>\n",
       "<tr>\n",
       "<td>4</td>\n",
       "<td>0.4</td>\n",
       "<td>2022-08-01</td>\n",
       "<td>2</td>\n",
       "</tr>\n",
       "</tbody>\n",
       "</table>\n",
       "</div>\n",
       "<p>Thanks in advance</p>"
      ]
     },
     "execution_count": 8,
     "metadata": {},
     "output_type": "execute_result"
    }
   ],
   "source": [
    "# get the input text from the database using the above index\n",
    "Markdown(so_df.input_text[index_doc_cosine])"
   ]
  },
  {
   "cell_type": "code",
   "execution_count": 9,
   "metadata": {},
   "outputs": [
    {
     "data": {
      "text/markdown": [
       "<p>You can elongate your second dataframe to match dimentions, and then concatenate it with first dataframe.</p>\n",
       "<pre class=\"lang-py prettyprint-override\"><code>import pandas as pd\n",
       "\n",
       "df1 = pd.DataFrame({'Field1': [0.5, 2, 3, 4], 'Field2': [0.7, 1, 0.1, 0.4]})\n",
       "print(df1)\n",
       "#    Field1  Field2\n",
       "# 0     0.5     0.7\n",
       "# 1     2.0     1.0\n",
       "# 2     3.0     0.1\n",
       "# 3     4.0     0.4\n",
       "\n",
       "df2 = pd.DataFrame({'Date': ['2022-08-01', '2022-08-01'], 'Time': [1, 2]})\n",
       "print(df2)\n",
       "#          Date  Time\n",
       "# 0  2022-08-01     1\n",
       "# 1  2022-08-01     2\n",
       "\n",
       "n = int(df1.size / df2.size)\n",
       "df3 = pd.concat([df2] * n, axis=0).reset_index(drop=True)\n",
       "print(df3)\n",
       "#          Date  Time\n",
       "# 0  2022-08-01     1\n",
       "# 1  2022-08-01     2\n",
       "# 2  2022-08-01     1\n",
       "# 3  2022-08-01     2\n",
       "\n",
       "df4 = pd.concat([df1, df3], axis=1)\n",
       "print(df4)\n",
       "#    Field1  Field2        Date  Time\n",
       "# 0     0.5     0.7  2022-08-01     1\n",
       "# 1     2.0     1.0  2022-08-01     2\n",
       "# 2     3.0     0.1  2022-08-01     1\n",
       "# 3     4.0     0.4  2022-08-01     2\n",
       "</code></pre>\n",
       "<p>or shorter:</p>\n",
       "<pre class=\"lang-py prettyprint-override\"><code>df4 = pd.concat([\n",
       "    df1,\n",
       "    pd.concat(\n",
       "        [df2] * int(df1.size / df2.size),\n",
       "        axis=0\n",
       "    ).reset_index(drop=True)\n",
       "], axis=1)\n",
       "</code></pre>"
      ]
     },
     "execution_count": 9,
     "metadata": {},
     "output_type": "execute_result"
    }
   ],
   "source": [
    "Markdown(so_df.output_text[index_doc_cosine])"
   ]
  },
  {
   "cell_type": "code",
   "execution_count": 10,
   "metadata": {},
   "outputs": [
    {
     "data": {
      "text/html": [
       "<pre style=\"white-space:pre;overflow-x:auto;line-height:normal;font-family:Menlo,'DejaVu Sans Mono',consolas,'Courier New',monospace\">models/gemini-pro\n",
       "</pre>\n"
      ],
      "text/plain": [
       "models/gemini-pro\n"
      ]
     },
     "metadata": {},
     "output_type": "display_data"
    },
    {
     "data": {
      "text/html": [
       "<pre style=\"white-space:pre;overflow-x:auto;line-height:normal;font-family:Menlo,'DejaVu Sans Mono',consolas,'Courier New',monospace\">models/gemini-pro-vision\n",
       "</pre>\n"
      ],
      "text/plain": [
       "models/gemini-pro-vision\n"
      ]
     },
     "metadata": {},
     "output_type": "display_data"
    }
   ],
   "source": [
    "for m in genai.list_models():\n",
    "    if 'generateContent' in m.supported_generation_methods:\n",
    "        print(m.name)"
   ]
  },
  {
   "cell_type": "code",
   "execution_count": 11,
   "metadata": {},
   "outputs": [
    {
     "data": {
      "text/markdown": [
       "Here is the context: \n",
       "        Question: Concatenate 2 dataframes and repeat values from small one with pandas<p>I have these two dataframes:</p>\n",
       "<div class=\"s-table-container\">\n",
       "<table class=\"s-table\">\n",
       "<thead>\n",
       "<tr>\n",
       "<th>Field1</th>\n",
       "<th>Field2</th>\n",
       "</tr>\n",
       "</thead>\n",
       "<tbody>\n",
       "<tr>\n",
       "<td>0.5</td>\n",
       "<td>0.7</td>\n",
       "</tr>\n",
       "<tr>\n",
       "<td>2</td>\n",
       "<td>1</td>\n",
       "</tr>\n",
       "<tr>\n",
       "<td>3</td>\n",
       "<td>0.1</td>\n",
       "</tr>\n",
       "<tr>\n",
       "<td>4</td>\n",
       "<td>0.4</td>\n",
       "</tr>\n",
       "</tbody>\n",
       "</table>\n",
       "</div>\n",
       "<p>and</p>\n",
       "<div class=\"s-table-container\">\n",
       "<table class=\"s-table\">\n",
       "<thead>\n",
       "<tr>\n",
       "<th>Date</th>\n",
       "<th>Time</th>\n",
       "</tr>\n",
       "</thead>\n",
       "<tbody>\n",
       "<tr>\n",
       "<td>2022-08-01</td>\n",
       "<td>1</td>\n",
       "</tr>\n",
       "<tr>\n",
       "<td>2022-08-01</td>\n",
       "<td>2</td>\n",
       "</tr>\n",
       "</tbody>\n",
       "</table>\n",
       "</div>\n",
       "<p>and a I need to obtain the following:</p>\n",
       "<div class=\"s-table-container\">\n",
       "<table class=\"s-table\">\n",
       "<thead>\n",
       "<tr>\n",
       "<th>Field1</th>\n",
       "<th>Field2</th>\n",
       "<th>Date</th>\n",
       "<th>Time</th>\n",
       "</tr>\n",
       "</thead>\n",
       "<tbody>\n",
       "<tr>\n",
       "<td>0.5</td>\n",
       "<td>0.7</td>\n",
       "<td>2022-08-01</td>\n",
       "<td>1</td>\n",
       "</tr>\n",
       "<tr>\n",
       "<td>2</td>\n",
       "<td>1</td>\n",
       "<td>2022-08-01</td>\n",
       "<td>2</td>\n",
       "</tr>\n",
       "<tr>\n",
       "<td>3</td>\n",
       "<td>0.1</td>\n",
       "<td>2022-08-01</td>\n",
       "<td>1</td>\n",
       "</tr>\n",
       "<tr>\n",
       "<td>4</td>\n",
       "<td>0.4</td>\n",
       "<td>2022-08-01</td>\n",
       "<td>2</td>\n",
       "</tr>\n",
       "</tbody>\n",
       "</table>\n",
       "</div>\n",
       "<p>Thanks in advance</p>\n",
       "\n",
       "        Answer: <p>You can elongate your second dataframe to match dimentions, and then concatenate it with first dataframe.</p>\n",
       "<pre class=\"lang-py prettyprint-override\"><code>import pandas as pd\n",
       "\n",
       "df1 = pd.DataFrame({'Field1': [0.5, 2, 3, 4], 'Field2': [0.7, 1, 0.1, 0.4]})\n",
       "print(df1)\n",
       "#    Field1  Field2\n",
       "# 0     0.5     0.7\n",
       "# 1     2.0     1.0\n",
       "# 2     3.0     0.1\n",
       "# 3     4.0     0.4\n",
       "\n",
       "df2 = pd.DataFrame({'Date': ['2022-08-01', '2022-08-01'], 'Time': [1, 2]})\n",
       "print(df2)\n",
       "#          Date  Time\n",
       "# 0  2022-08-01     1\n",
       "# 1  2022-08-01     2\n",
       "\n",
       "n = int(df1.size / df2.size)\n",
       "df3 = pd.concat([df2] * n, axis=0).reset_index(drop=True)\n",
       "print(df3)\n",
       "#          Date  Time\n",
       "# 0  2022-08-01     1\n",
       "# 1  2022-08-01     2\n",
       "# 2  2022-08-01     1\n",
       "# 3  2022-08-01     2\n",
       "\n",
       "df4 = pd.concat([df1, df3], axis=1)\n",
       "print(df4)\n",
       "#    Field1  Field2        Date  Time\n",
       "# 0     0.5     0.7  2022-08-01     1\n",
       "# 1     2.0     1.0  2022-08-01     2\n",
       "# 2     3.0     0.1  2022-08-01     1\n",
       "# 3     4.0     0.4  2022-08-01     2\n",
       "</code></pre>\n",
       "<p>or shorter:</p>\n",
       "<pre class=\"lang-py prettyprint-override\"><code>df4 = pd.concat([\n",
       "    df1,\n",
       "    pd.concat(\n",
       "        [df2] * int(df1.size / df2.size),\n",
       "        axis=0\n",
       "    ).reset_index(drop=True)\n",
       "], axis=1)\n",
       "</code></pre>\n",
       "\n",
       "             Using the relevant information from the context,\n",
       "             provide an answer to the query: ['How to concat dataframes pandas'].\"\n",
       "             If the context doesn't provide              any relevant information, answer with \n",
       "             [I couldn't find a good match in the              document database for your query]\n",
       "             "
      ]
     },
     "execution_count": 11,
     "metadata": {},
     "output_type": "execute_result"
    }
   ],
   "source": [
    "context = f\"\"\"\n",
    "        Question: {so_df.input_text[index_doc_cosine]}\\n\n",
    "        Answer: {so_df.output_text[index_doc_cosine]}\n",
    "\"\"\"\n",
    "prompt = f\"\"\"Here is the context: {context}\n",
    "             Using the relevant information from the context,\n",
    "             provide an answer to the query: {query}.\"\n",
    "             If the context doesn't provide \\\n",
    "             any relevant information, answer with \n",
    "             [I couldn't find a good match in the \\\n",
    "             document database for your query]\n",
    "             \"\"\"\n",
    "Markdown(prompt)"
   ]
  },
  {
   "cell_type": "code",
   "execution_count": 12,
   "metadata": {},
   "outputs": [
    {
     "data": {
      "text/html": [
       "<pre style=\"white-space:pre;overflow-x:auto;line-height:normal;font-family:Menlo,'DejaVu Sans Mono',consolas,'Courier New',monospace\"><span style=\"font-weight: bold\">&lt;</span><span style=\"color: #ff00ff; text-decoration-color: #ff00ff; font-weight: bold\">google.generativeai.types.generation_types.GenerateContentResponse</span><span style=\"color: #000000; text-decoration-color: #000000\"> object at </span><span style=\"color: #008080; text-decoration-color: #008080; font-weight: bold\">0x7f7a31e86c20</span><span style=\"font-weight: bold\">&gt;</span>\n",
       "</pre>\n"
      ],
      "text/plain": [
       "\u001b[1m<\u001b[0m\u001b[1;95mgoogle.generativeai.types.generation_types.GenerateContentResponse\u001b[0m\u001b[39m object at \u001b[0m\u001b[1;36m0x7f7a31e86c20\u001b[0m\u001b[1m>\u001b[0m\n"
      ]
     },
     "metadata": {},
     "output_type": "display_data"
    }
   ],
   "source": [
    "model = genai.GenerativeModel('models/gemini-pro')\n",
    "answer = model.generate_content(prompt)\n",
    "print(answer)"
   ]
  },
  {
   "cell_type": "code",
   "execution_count": 13,
   "metadata": {},
   "outputs": [
    {
     "data": {
      "text/markdown": [
       "To concatenate dataframes in pandas, you can use the `concat()` function. This function takes a list of dataframes as input, and concatenates them along a specified axis. For example, to concatenate two dataframes `df1` and `df2` vertically, you would use the following code:\n",
       "\n",
       "```\n",
       "df3 = pd.concat([df1, df2])\n",
       "```\n",
       "\n",
       "This would create a new dataframe `df3` that contains all of the rows from `df1` and `df2`. You can also specify the axis to concatenate along using the `axis` argument. For example, to concatenate `df1` and `df2` horizontally, you would use the following code:\n",
       "\n",
       "```\n",
       "df3 = pd.concat([df1, df2], axis=1)\n",
       "```\n",
       "\n",
       "This would create a new dataframe `df3` that contains all of the columns from `df1` and `df2`."
      ]
     },
     "execution_count": 13,
     "metadata": {},
     "output_type": "execute_result"
    }
   ],
   "source": [
    "Markdown(answer.text)"
   ]
  },
  {
   "attachments": {},
   "cell_type": "markdown",
   "metadata": {},
   "source": [
    "## Scale with approximate nearest neighbor search\n",
    "\n",
    "When dealing with a large dataset, computing the similarity between the query and each original embedded document in the database might be too expensive. Instead of doing that, you can use approximate nearest neighbor algorithms that find the most similar documents in a more efficient way.\n",
    "\n",
    "These algorithms usually work by creating an index for your data, and using that index to find the most similar documents for your queries. In this notebook, we will use ScaNN to demonstrate the benefits of efficient vector similarity search. First, you have to create an index for your embedded dataset."
   ]
  },
  {
   "cell_type": "code",
   "execution_count": 5,
   "metadata": {},
   "outputs": [],
   "source": [
    "# cerate index of the embedding database using scann\n",
    "# index = create_index(\n",
    "#     embedded_dataset = questions_embeddings,\n",
    "#     num_leaves = 25,\n",
    "#     num_leaves_to_search = 10,\n",
    "#     training_sample_size = 2000\n",
    "# )\n",
    " "
   ]
  }
 ],
 "metadata": {
  "kernelspec": {
   "display_name": "Python 3",
   "language": "python",
   "name": "python3"
  },
  "language_info": {
   "codemirror_mode": {
    "name": "ipython",
    "version": 3
   },
   "file_extension": ".py",
   "mimetype": "text/x-python",
   "name": "python",
   "nbconvert_exporter": "python",
   "pygments_lexer": "ipython3",
   "version": "3.10.10"
  },
  "orig_nbformat": 4
 },
 "nbformat": 4,
 "nbformat_minor": 2
}
