{
 "cells": [
  {
   "cell_type": "code",
   "execution_count": 10,
   "metadata": {},
   "outputs": [],
   "source": [
    "from annoy import AnnoyIndex\n",
    "import numpy as np\n",
    "import pandas as pd\n",
    "import re\n",
    "import os\n",
    "from dotenv import load_dotenv\n",
    "load_dotenv()\n",
    "import cohere\n",
    "co = cohere.Client(os.getenv(\"COHERE_API_KEY\"))\n",
    "\n",
    "from rich import print\n",
    "from rich import pretty\n",
    "pretty.install()\n",
    "\n",
    "\n",
    "import weaviate\n",
    "import pandas as pd\n",
    "import numpy as np\n",
    "from icecream import ic\n",
    "from utils import dense_retrieval, print_result, keyword_search\n",
    "from rich import print\n"
   ]
  },
  {
   "cell_type": "code",
   "execution_count": 3,
   "metadata": {},
   "outputs": [],
   "source": [
    "# auth_config = weaviate.auth.AuthApiKey(\n",
    "#     api_key=os.environ['WEAVIATE_API_KEY'])\n",
    "# client = weaviate.Client(\n",
    "#     url=os.environ['WEAVIATE_API_URL'],\n",
    "#     auth_client_secret=auth_config,\n",
    "#     additional_headers={\n",
    "#         \"X-Cohere-Api-Key\": os.environ['COHERE_API_KEY'],\n",
    "#     }\n",
    "# )\n",
    "\n",
    "client = weaviate.Client(\n",
    "    auth_client_secret = weaviate.AuthApiKey(api_key = os.getenv(\"WEAVIATE_API_KEY\")),\n",
    "\n",
    "    # 10 million records from 10 different languages. One million records for each language.\n",
    "    # Each row is a paragraph from wikipedia\n",
    "    url = \"https://cohere-demo.weaviate.network/\",\n",
    "    additional_headers={\n",
    "        \"X-Cohere-Api-Key\": os.getenv(\"COHERE_API_KEY\"),\n",
    "\n",
    "    }\n",
    ")\n"
   ]
  },
  {
   "cell_type": "code",
   "execution_count": 2,
   "metadata": {},
   "outputs": [],
   "source": [
    "text = \"\"\"\n",
    "Interstellar is a 2014 epic science fiction film co-written, directed, and produced by Christopher Nolan.\n",
    "It stars Matthew McConaughey, Anne Hathaway, Jessica Chastain, Bill Irwin, Ellen Burstyn, Matt Damon, and Michael Caine.\n",
    "Set in a dystopian future where humanity is struggling to survive, the film follows a group of astronauts who travel through a wormhole near Saturn in search of a new home for mankind.\n",
    "\n",
    "Brothers Christopher and Jonathan Nolan wrote the screenplay, which had its origins in a script Jonathan developed in 2007.\n",
    "Caltech theoretical physicist and 2017 Nobel laureate in Physics[4] Kip Thorne was an executive producer, acted as a scientific consultant, and wrote a tie-in book, The Science of Interstellar.\n",
    "Cinematographer Hoyte van Hoytema shot it on 35 mm movie film in the Panavision anamorphic format and IMAX 70 mm.\n",
    "Principal photography began in late 2013 and took place in Alberta, Iceland, and Los Angeles.\n",
    "Interstellar uses extensive practical and miniature effects and the company Double Negative created additional digital effects.\n",
    "\n",
    "Interstellar premiered on October 26, 2014, in Los Angeles.\n",
    "In the United States, it was first released on film stock, expanding to venues using digital projectors.\n",
    "The film had a worldwide gross over $677 million (and $773 million with subsequent re-releases), making it the tenth-highest grossing film of 2014.\n",
    "It received acclaim for its performances, direction, screenplay, musical score, visual effects, ambition, themes, and emotional weight.\n",
    "It has also received praise from many astronomers for its scientific accuracy and portrayal of theoretical astrophysics. Since its premiere, Interstellar gained a cult following,[5] and now is regarded by many sci-fi experts as one of the best science-fiction films of all time.\n",
    "Interstellar was nominated for five awards at the 87th Academy Awards, winning Best Visual Effects, and received numerous other accolades\"\"\"\n"
   ]
  },
  {
   "cell_type": "markdown",
   "metadata": {},
   "source": [
    "# Chunking"
   ]
  },
  {
   "cell_type": "code",
   "execution_count": 3,
   "metadata": {},
   "outputs": [
    {
     "data": {
      "text/plain": [
       "array(['Interstellar is a 2014 epic science fiction film co-written, directed, and produced by Christopher Nolan',\n",
       "       'It stars Matthew McConaughey, Anne Hathaway, Jessica Chastain, Bill Irwin, Ellen Burstyn, Matt Damon, and Michael Caine',\n",
       "       'Set in a dystopian future where humanity is struggling to survive, the film follows a group of astronauts who travel through a wormhole near Saturn in search of a new home for mankind',\n",
       "       'Brothers Christopher and Jonathan Nolan wrote the screenplay, which had its origins in a script Jonathan developed in 2007',\n",
       "       'Caltech theoretical physicist and 2017 Nobel laureate in Physics[4] Kip Thorne was an executive producer, acted as a scientific consultant, and wrote a tie-in book, The Science of Interstellar',\n",
       "       'Cinematographer Hoyte van Hoytema shot it on 35 mm movie film in the Panavision anamorphic format and IMAX 70 mm',\n",
       "       'Principal photography began in late 2013 and took place in Alberta, Iceland, and Los Angeles',\n",
       "       'Interstellar uses extensive practical and miniature effects and the company Double Negative created additional digital effects',\n",
       "       'Interstellar premiered on October 26, 2014, in Los Angeles',\n",
       "       'In the United States, it was first released on film stock, expanding to venues using digital projectors',\n",
       "       'The film had a worldwide gross over $677 million (and $773 million with subsequent re-releases), making it the tenth-highest grossing film of 2014',\n",
       "       'It received acclaim for its performances, direction, screenplay, musical score, visual effects, ambition, themes, and emotional weight',\n",
       "       'It has also received praise from many astronomers for its scientific accuracy and portrayal of theoretical astrophysics',\n",
       "       'Since its premiere, Interstellar gained a cult following,[5] and now is regarded by many sci-fi experts as one of the best science-fiction films of all time',\n",
       "       'Interstellar was nominated for five awards at the 87th Academy Awards, winning Best Visual Effects, and received numerous other accolades'],\n",
       "      dtype='<U192')"
      ]
     },
     "execution_count": 3,
     "metadata": {},
     "output_type": "execute_result"
    }
   ],
   "source": [
    "# # Split into a list of sentences\n",
    "# texts = text.split('.')\n",
    "\n",
    "# # Clean up to remove empty spaces and new lines\n",
    "# texts = np.array([t.strip(' \\n') for t in texts])\n",
    "# texts\n"
   ]
  },
  {
   "cell_type": "code",
   "execution_count": 7,
   "metadata": {},
   "outputs": [
    {
     "name": "stdout",
     "output_type": "stream",
     "text": [
      "['Interstellar is a 2014 epic science fiction film co-written, directed, and produced by Christopher Nolan.\\nIt stars Matthew McConaughey, Anne Hathaway, Jessica Chastain, Bill Irwin, Ellen Burstyn, Matt Damon, and Michael Caine.\\nSet in a dystopian future where humanity is struggling to survive, the film follows a group of astronauts who travel through a wormhole near Saturn in search of a new home for mankind.'\n",
      " 'Brothers Christopher and Jonathan Nolan wrote the screenplay, which had its origins in a script Jonathan developed in 2007.\\nCaltech theoretical physicist and 2017 Nobel laureate in Physics[4] Kip Thorne was an executive producer, acted as a scientific consultant, and wrote a tie-in book, The Science of Interstellar.\\nCinematographer Hoyte van Hoytema shot it on 35 mm movie film in the Panavision anamorphic format and IMAX 70 mm.\\nPrincipal photography began in late 2013 and took place in Alberta, Iceland, and Los Angeles.\\nInterstellar uses extensive practical and miniature effects and the company Double Negative created additional digital effects.'\n",
      " 'Interstellar premiered on October 26, 2014, in Los Angeles.\\nIn the United States, it was first released on film stock, expanding to venues using digital projectors.\\nThe film had a worldwide gross over $677 million (and $773 million with subsequent re-releases), making it the tenth-highest grossing film of 2014.\\nIt received acclaim for its performances, direction, screenplay, musical score, visual effects, ambition, themes, and emotional weight.\\nIt has also received praise from many astronomers for its scientific accuracy and portrayal of theoretical astrophysics. Since its premiere, Interstellar gained a cult following,[5] and now is regarded by many sci-fi experts as one of the best science-fiction films of all time.\\nInterstellar was nominated for five awards at the 87th Academy Awards, winning Best Visual Effects, and received numerous other accolades']\n"
     ]
    }
   ],
   "source": [
    "# Split into a list of paragraphs\n",
    "texts = text.split('\\n\\n')\n",
    "\n",
    "# Clean up to remove empty spaces and new lines\n",
    "texts = np.array([t.strip(' \\n') for t in texts])\n",
    "print(texts)\n"
   ]
  },
  {
   "cell_type": "code",
   "execution_count": 8,
   "metadata": {},
   "outputs": [
    {
     "name": "stdout",
     "output_type": "stream",
     "text": [
      "['Interstellar (film) Interstellar is a 2014 epic science fiction film co-written, directed, and produced by Christopher Nolan.\\nIt stars Matthew McConaughey, Anne Hathaway, Jessica Chastain, Bill Irwin, Ellen Burstyn, Matt Damon, and Michael Caine.\\nSet in a dystopian future where humanity is struggling to survive, the film follows a group of astronauts who travel through a wormhole near Saturn in search of a new home for mankind.'\n",
      " 'Interstellar (film) Brothers Christopher and Jonathan Nolan wrote the screenplay, which had its origins in a script Jonathan developed in 2007.\\nCaltech theoretical physicist and 2017 Nobel laureate in Physics[4] Kip Thorne was an executive producer, acted as a scientific consultant, and wrote a tie-in book, The Science of Interstellar.\\nCinematographer Hoyte van Hoytema shot it on 35 mm movie film in the Panavision anamorphic format and IMAX 70 mm.\\nPrincipal photography began in late 2013 and took place in Alberta, Iceland, and Los Angeles.\\nInterstellar uses extensive practical and miniature effects and the company Double Negative created additional digital effects.'\n",
      " 'Interstellar (film) Interstellar premiered on October 26, 2014, in Los Angeles.\\nIn the United States, it was first released on film stock, expanding to venues using digital projectors.\\nThe film had a worldwide gross over $677 million (and $773 million with subsequent re-releases), making it the tenth-highest grossing film of 2014.\\nIt received acclaim for its performances, direction, screenplay, musical score, visual effects, ambition, themes, and emotional weight.\\nIt has also received praise from many astronomers for its scientific accuracy and portrayal of theoretical astrophysics. Since its premiere, Interstellar gained a cult following,[5] and now is regarded by many sci-fi experts as one of the best science-fiction films of all time.\\nInterstellar was nominated for five awards at the 87th Academy Awards, winning Best Visual Effects, and received numerous other accolades']\n"
     ]
    }
   ],
   "source": [
    "title = 'Interstellar (film)'\n",
    "\n",
    "texts = np.array([f\"{title} {t}\" for t in texts])\n",
    "print(texts)\n"
   ]
  },
  {
   "cell_type": "markdown",
   "metadata": {},
   "source": [
    "# Now lets Embed the paragraph"
   ]
  },
  {
   "cell_type": "code",
   "execution_count": 11,
   "metadata": {},
   "outputs": [
    {
     "name": "stderr",
     "output_type": "stream",
     "text": [
      "default model on embed will be deprecated in the future, please specify a model in the request.\n"
     ]
    },
    {
     "data": {
      "text/plain": [
       "(3, 4096)"
      ]
     },
     "execution_count": 11,
     "metadata": {},
     "output_type": "execute_result"
    }
   ],
   "source": [
    "response = co.embed(texts = texts.tolist()).embeddings\n",
    "embeds = np.array(response)\n",
    "embeds.shape\n"
   ]
  },
  {
   "cell_type": "markdown",
   "metadata": {},
   "source": [
    "# Create search index with annoy"
   ]
  },
  {
   "cell_type": "code",
   "execution_count": 13,
   "metadata": {},
   "outputs": [
    {
     "data": {
      "text/plain": [
       "True"
      ]
     },
     "execution_count": 13,
     "metadata": {},
     "output_type": "execute_result"
    }
   ],
   "source": [
    "search_index = AnnoyIndex(embeds.shape[1], 'angular')\n",
    "# Add all the vectors to the search index\n",
    "for i in range(len(embeds)):\n",
    "    search_index.add_item(i, embeds[i])\n",
    "\n",
    "search_index.build(10) # 10 trees\n",
    "search_index.save('test.ann')\n"
   ]
  },
  {
   "cell_type": "code",
   "execution_count": 14,
   "metadata": {},
   "outputs": [],
   "source": [
    "pd.set_option('display.max_colwidth', None)\n",
    "\n",
    "def search(query):\n",
    "\n",
    "  # Get the query's embedding\n",
    "  query_embed = co.embed(texts=[query]).embeddings\n",
    "\n",
    "  # Retrieve the nearest neighbors\n",
    "  similar_item_ids = search_index.get_nns_by_vector(query_embed[0],\n",
    "                                                    3,\n",
    "                                                  include_distances=True)\n",
    "  # Format the results\n",
    "  results = pd.DataFrame(data={'texts': texts[similar_item_ids[0]],\n",
    "                              'distance': similar_item_ids[1]})\n",
    "\n",
    "  print(texts[similar_item_ids[0]])\n",
    "\n",
    "  return results\n"
   ]
  },
  {
   "cell_type": "code",
   "execution_count": 15,
   "metadata": {},
   "outputs": [
    {
     "name": "stderr",
     "output_type": "stream",
     "text": [
      "default model on embed will be deprecated in the future, please specify a model in the request.\n"
     ]
    },
    {
     "name": "stdout",
     "output_type": "stream",
     "text": [
      "['Interstellar (film) Interstellar premiered on October 26, 2014, in Los Angeles.\\nIn the United States, it was first released on film stock, expanding to venues using digital projectors.\\nThe film had a worldwide gross over $677 million (and $773 million with subsequent re-releases), making it the tenth-highest grossing film of 2014.\\nIt received acclaim for its performances, direction, screenplay, musical score, visual effects, ambition, themes, and emotional weight.\\nIt has also received praise from many astronomers for its scientific accuracy and portrayal of theoretical astrophysics. Since its premiere, Interstellar gained a cult following,[5] and now is regarded by many sci-fi experts as one of the best science-fiction films of all time.\\nInterstellar was nominated for five awards at the 87th Academy Awards, winning Best Visual Effects, and received numerous other accolades'\n",
      " 'Interstellar (film) Brothers Christopher and Jonathan Nolan wrote the screenplay, which had its origins in a script Jonathan developed in 2007.\\nCaltech theoretical physicist and 2017 Nobel laureate in Physics[4] Kip Thorne was an executive producer, acted as a scientific consultant, and wrote a tie-in book, The Science of Interstellar.\\nCinematographer Hoyte van Hoytema shot it on 35 mm movie film in the Panavision anamorphic format and IMAX 70 mm.\\nPrincipal photography began in late 2013 and took place in Alberta, Iceland, and Los Angeles.\\nInterstellar uses extensive practical and miniature effects and the company Double Negative created additional digital effects.'\n",
      " 'Interstellar (film) Interstellar is a 2014 epic science fiction film co-written, directed, and produced by Christopher Nolan.\\nIt stars Matthew McConaughey, Anne Hathaway, Jessica Chastain, Bill Irwin, Ellen Burstyn, Matt Damon, and Michael Caine.\\nSet in a dystopian future where humanity is struggling to survive, the film follows a group of astronauts who travel through a wormhole near Saturn in search of a new home for mankind.']\n"
     ]
    },
    {
     "data": {
      "text/html": [
       "<div>\n",
       "<style scoped>\n",
       "    .dataframe tbody tr th:only-of-type {\n",
       "        vertical-align: middle;\n",
       "    }\n",
       "\n",
       "    .dataframe tbody tr th {\n",
       "        vertical-align: top;\n",
       "    }\n",
       "\n",
       "    .dataframe thead th {\n",
       "        text-align: right;\n",
       "    }\n",
       "</style>\n",
       "<table border=\"1\" class=\"dataframe\">\n",
       "  <thead>\n",
       "    <tr style=\"text-align: right;\">\n",
       "      <th></th>\n",
       "      <th>texts</th>\n",
       "      <th>distance</th>\n",
       "    </tr>\n",
       "  </thead>\n",
       "  <tbody>\n",
       "    <tr>\n",
       "      <th>0</th>\n",
       "      <td>Interstellar (film) Interstellar premiered on October 26, 2014, in Los Angeles.\\nIn the United States, it was first released on film stock, expanding to venues using digital projectors.\\nThe film had a worldwide gross over $677 million (and $773 million with subsequent re-releases), making it the tenth-highest grossing film of 2014.\\nIt received acclaim for its performances, direction, screenplay, musical score, visual effects, ambition, themes, and emotional weight.\\nIt has also received praise from many astronomers for its scientific accuracy and portrayal of theoretical astrophysics. Since its premiere, Interstellar gained a cult following,[5] and now is regarded by many sci-fi experts as one of the best science-fiction films of all time.\\nInterstellar was nominated for five awards at the 87th Academy Awards, winning Best Visual Effects, and received numerous other accolades</td>\n",
       "      <td>1.092562</td>\n",
       "    </tr>\n",
       "    <tr>\n",
       "      <th>1</th>\n",
       "      <td>Interstellar (film) Brothers Christopher and Jonathan Nolan wrote the screenplay, which had its origins in a script Jonathan developed in 2007.\\nCaltech theoretical physicist and 2017 Nobel laureate in Physics[4] Kip Thorne was an executive producer, acted as a scientific consultant, and wrote a tie-in book, The Science of Interstellar.\\nCinematographer Hoyte van Hoytema shot it on 35 mm movie film in the Panavision anamorphic format and IMAX 70 mm.\\nPrincipal photography began in late 2013 and took place in Alberta, Iceland, and Los Angeles.\\nInterstellar uses extensive practical and miniature effects and the company Double Negative created additional digital effects.</td>\n",
       "      <td>1.150132</td>\n",
       "    </tr>\n",
       "    <tr>\n",
       "      <th>2</th>\n",
       "      <td>Interstellar (film) Interstellar is a 2014 epic science fiction film co-written, directed, and produced by Christopher Nolan.\\nIt stars Matthew McConaughey, Anne Hathaway, Jessica Chastain, Bill Irwin, Ellen Burstyn, Matt Damon, and Michael Caine.\\nSet in a dystopian future where humanity is struggling to survive, the film follows a group of astronauts who travel through a wormhole near Saturn in search of a new home for mankind.</td>\n",
       "      <td>1.203064</td>\n",
       "    </tr>\n",
       "  </tbody>\n",
       "</table>\n",
       "</div>"
      ],
      "text/plain": [
       "                                                                                                                                                                                                                                                                                                                                                                                                                                                                                                                                                                                                                                                                                                                                                                                                                                                                                                                        texts  \\\n",
       "0  Interstellar (film) Interstellar premiered on October 26, 2014, in Los Angeles.\\nIn the United States, it was first released on film stock, expanding to venues using digital projectors.\\nThe film had a worldwide gross over $677 million (and $773 million with subsequent re-releases), making it the tenth-highest grossing film of 2014.\\nIt received acclaim for its performances, direction, screenplay, musical score, visual effects, ambition, themes, and emotional weight.\\nIt has also received praise from many astronomers for its scientific accuracy and portrayal of theoretical astrophysics. Since its premiere, Interstellar gained a cult following,[5] and now is regarded by many sci-fi experts as one of the best science-fiction films of all time.\\nInterstellar was nominated for five awards at the 87th Academy Awards, winning Best Visual Effects, and received numerous other accolades   \n",
       "1                                                                                                                                                                                                                       Interstellar (film) Brothers Christopher and Jonathan Nolan wrote the screenplay, which had its origins in a script Jonathan developed in 2007.\\nCaltech theoretical physicist and 2017 Nobel laureate in Physics[4] Kip Thorne was an executive producer, acted as a scientific consultant, and wrote a tie-in book, The Science of Interstellar.\\nCinematographer Hoyte van Hoytema shot it on 35 mm movie film in the Panavision anamorphic format and IMAX 70 mm.\\nPrincipal photography began in late 2013 and took place in Alberta, Iceland, and Los Angeles.\\nInterstellar uses extensive practical and miniature effects and the company Double Negative created additional digital effects.   \n",
       "2                                                                                                                                                                                                                                                                                                                                                                                                                                                                           Interstellar (film) Interstellar is a 2014 epic science fiction film co-written, directed, and produced by Christopher Nolan.\\nIt stars Matthew McConaughey, Anne Hathaway, Jessica Chastain, Bill Irwin, Ellen Burstyn, Matt Damon, and Michael Caine.\\nSet in a dystopian future where humanity is struggling to survive, the film follows a group of astronauts who travel through a wormhole near Saturn in search of a new home for mankind.   \n",
       "\n",
       "   distance  \n",
       "0  1.092562  \n",
       "1  1.150132  \n",
       "2  1.203064  "
      ]
     },
     "execution_count": 15,
     "metadata": {},
     "output_type": "execute_result"
    }
   ],
   "source": [
    "query = \"How much did the film make?\"\n",
    "search(query)\n"
   ]
  },
  {
   "cell_type": "markdown",
   "metadata": {},
   "source": [
    "# Reranking"
   ]
  },
  {
   "cell_type": "code",
   "execution_count": 4,
   "metadata": {},
   "outputs": [],
   "source": [
    "query = \"What is the capital of Canada?\"\n",
    "dense_retrieval_results = dense_retrieval(query, client)\n"
   ]
  },
  {
   "cell_type": "code",
   "execution_count": 9,
   "metadata": {},
   "outputs": [
    {
     "name": "stdout",
     "output_type": "stream",
     "text": [
      "item 0\n",
      "_additional:{'distance': -150.8031}\n",
      "\n",
      "lang:en\n",
      "\n",
      "text:The governor general of the province had designated Kingston as the capital in 1841. However, the major population centres of Toronto and Montreal, as well as the former capital of Lower Canada, Quebec City, all had legislators dissatisfied with Kingston. Anglophone merchants in Quebec were the main group supportive of the Kingston arrangement. In 1842, a vote rejected Kingston as the capital, and study of potential candidates included the then-named Bytown, but that option proved less popular than Toronto or Montreal. In 1843, a report of the Executive Council recommended Montreal as the capital as a more fortifiable location and commercial centre, however, the Governor General refused to execute a move without a parliamentary vote. In 1844, the Queen's acceptance of a parliamentary vote moved the capital to Montreal.\n",
      "\n",
      "title:Ottawa\n",
      "\n",
      "url:https://en.wikipedia.org/wiki?curid=22219\n",
      "\n",
      "views:2000\n",
      "\n",
      "\n",
      "item 1\n",
      "_additional:{'distance': -150.28354}\n",
      "\n",
      "lang:en\n",
      "\n",
      "text:For brief periods, Toronto was twice the capital of the united Province of Canada: first from 1849 to 1852, following unrest in Montreal, and later 1856–1858. After this date, Quebec was designated as the capital until 1866 (one year before Canadian Confederation). Since then, the capital of Canada has remained Ottawa, Ontario.\n",
      "\n",
      "title:Toronto\n",
      "\n",
      "url:https://en.wikipedia.org/wiki?curid=64646\n",
      "\n",
      "views:3000\n",
      "\n",
      "\n",
      "item 2\n",
      "_additional:{'distance': -150.02524}\n",
      "\n",
      "lang:en\n",
      "\n",
      "text:Selection of Ottawa as the capital of Canada predates the Confederation of Canada. The selection was contentious and not straightforward, with the parliament of the United Province of Canada holding more than 200 votes over several decades to attempt to settle on a legislative solution to the location of the capital.\n",
      "\n",
      "title:Ottawa\n",
      "\n",
      "url:https://en.wikipedia.org/wiki?curid=22219\n",
      "\n",
      "views:2000\n",
      "\n",
      "\n",
      "item 3\n",
      "_additional:{'distance': -149.92365}\n",
      "\n",
      "lang:en\n",
      "\n",
      "text:Until the late 18th century Québec was the most populous city in present-day Canada. As of the census of 1790, Montreal surpassed it with 18,000 inhabitants, but Quebec (pop. 14,000) remained the administrative capital of New France. It was then made the capital of Lower Canada by the Constitutional Act of 1791. From 1841 to 1867, the capital of the Province of Canada rotated between Kingston, Montreal, Toronto, Ottawa and Quebec City (from 1852 to 1856 and from 1859 to 1866).\n",
      "\n",
      "title:Quebec City\n",
      "\n",
      "url:https://en.wikipedia.org/wiki?curid=100727\n",
      "\n",
      "views:2000\n",
      "\n",
      "\n",
      "item 4\n",
      "_additional:{'distance': -149.71033}\n",
      "\n",
      "lang:en\n",
      "\n",
      "text:The Quebec Conference on Canadian Confederation was held in the city in 1864. In 1867, Queen Victoria chose Ottawa as the definite capital of the Dominion of Canada, while Quebec City was confirmed as the capital of the newly created province of Quebec.\n",
      "\n",
      "title:Quebec City\n",
      "\n",
      "url:https://en.wikipedia.org/wiki?curid=100727\n",
      "\n",
      "views:2000\n",
      "\n",
      "\n"
     ]
    }
   ],
   "source": [
    "print_result(dense_retrieval_results)\n"
   ]
  },
  {
   "cell_type": "markdown",
   "metadata": {},
   "source": [
    "## Improving Keyword Search with Rerank"
   ]
  },
  {
   "cell_type": "code",
   "execution_count": null,
   "metadata": {},
   "outputs": [],
   "source": [
    "query_1 = \"What is the capital of Canada?\"\n",
    "results = keyword_search(query_1,\n",
    "                         client,\n",
    "                         properties=[\"text\", \"title\", \"url\", \"views\", \"lang\", \"_additional {distance}\"],\n",
    "                         num_results=500\n",
    "                        )\n",
    "\n",
    "for i, result in enumerate(results):\n",
    "    print(f\"i:{i}\")\n",
    "    print(result.get('title'))\n",
    "    # print(result.get('text'))\n"
   ]
  },
  {
   "cell_type": "code",
   "execution_count": 13,
   "metadata": {},
   "outputs": [],
   "source": [
    "def rerank_responses(query, responses, num_responses=10):\n",
    "    reranked_responses = co.rerank(\n",
    "        model = 'rerank-english-v2.0',\n",
    "        query = query,\n",
    "        documents = responses,\n",
    "        top_n = num_responses,\n",
    "        )\n",
    "    return reranked_responses\n"
   ]
  },
  {
   "cell_type": "code",
   "execution_count": 14,
   "metadata": {},
   "outputs": [
    {
     "data": {
      "text/html": [
       "<pre style=\"white-space:pre;overflow-x:auto;line-height:normal;font-family:Menlo,'DejaVu Sans Mono',consolas,'Courier New',monospace\">i:<span style=\"color: #008080; text-decoration-color: #008080; font-weight: bold\">0</span>\n",
       "</pre>\n"
      ],
      "text/plain": [
       "i:\u001b[1;36m0\u001b[0m\n"
      ]
     },
     "metadata": {},
     "output_type": "display_data"
    },
    {
     "data": {
      "text/html": [
       "<pre style=\"white-space:pre;overflow-x:auto;line-height:normal;font-family:Menlo,'DejaVu Sans Mono',consolas,'Courier New',monospace\">RerankResult<span style=\"font-weight: bold\">&lt;</span><span style=\"color: #ff00ff; text-decoration-color: #ff00ff; font-weight: bold\">document</span><span style=\"color: #000000; text-decoration-color: #000000; font-weight: bold\">[</span><span style=\"color: #008000; text-decoration-color: #008000\">'text'</span><span style=\"color: #000000; text-decoration-color: #000000; font-weight: bold\">]</span><span style=\"color: #000000; text-decoration-color: #000000\">: Selection of Ottawa as the capital of Canada predates the Confederation of Canada. </span>\n",
       "<span style=\"color: #000000; text-decoration-color: #000000\">The selection was contentious and not straightforward, with the parliament of the United Province of Canada holding</span>\n",
       "<span style=\"color: #000000; text-decoration-color: #000000\">more than </span><span style=\"color: #008080; text-decoration-color: #008080; font-weight: bold\">200</span><span style=\"color: #000000; text-decoration-color: #000000\"> votes over several decades to attempt to settle on a legislative solution to the location of the </span>\n",
       "<span style=\"color: #000000; text-decoration-color: #000000\">capital., index: </span><span style=\"color: #008080; text-decoration-color: #008080; font-weight: bold\">407</span><span style=\"color: #000000; text-decoration-color: #000000\">, relevance_score: </span><span style=\"color: #008080; text-decoration-color: #008080; font-weight: bold\">0.9875684</span><span style=\"font-weight: bold\">&gt;</span>\n",
       "</pre>\n"
      ],
      "text/plain": [
       "RerankResult\u001b[1m<\u001b[0m\u001b[1;95mdocument\u001b[0m\u001b[1;39m[\u001b[0m\u001b[32m'text'\u001b[0m\u001b[1;39m]\u001b[0m\u001b[39m: Selection of Ottawa as the capital of Canada predates the Confederation of Canada. \u001b[0m\n",
       "\u001b[39mThe selection was contentious and not straightforward, with the parliament of the United Province of Canada holding\u001b[0m\n",
       "\u001b[39mmore than \u001b[0m\u001b[1;36m200\u001b[0m\u001b[39m votes over several decades to attempt to settle on a legislative solution to the location of the \u001b[0m\n",
       "\u001b[39mcapital., index: \u001b[0m\u001b[1;36m407\u001b[0m\u001b[39m, relevance_score: \u001b[0m\u001b[1;36m0.9875684\u001b[0m\u001b[1m>\u001b[0m\n"
      ]
     },
     "metadata": {},
     "output_type": "display_data"
    },
    {
     "data": {
      "text/html": [
       "<pre style=\"white-space:pre;overflow-x:auto;line-height:normal;font-family:Menlo,'DejaVu Sans Mono',consolas,'Courier New',monospace\">\n",
       "</pre>\n"
      ],
      "text/plain": [
       "\n"
      ]
     },
     "metadata": {},
     "output_type": "display_data"
    },
    {
     "data": {
      "text/html": [
       "<pre style=\"white-space:pre;overflow-x:auto;line-height:normal;font-family:Menlo,'DejaVu Sans Mono',consolas,'Courier New',monospace\">i:<span style=\"color: #008080; text-decoration-color: #008080; font-weight: bold\">1</span>\n",
       "</pre>\n"
      ],
      "text/plain": [
       "i:\u001b[1;36m1\u001b[0m\n"
      ]
     },
     "metadata": {},
     "output_type": "display_data"
    },
    {
     "data": {
      "text/html": [
       "<pre style=\"white-space:pre;overflow-x:auto;line-height:normal;font-family:Menlo,'DejaVu Sans Mono',consolas,'Courier New',monospace\">RerankResult<span style=\"font-weight: bold\">&lt;</span><span style=\"color: #ff00ff; text-decoration-color: #ff00ff; font-weight: bold\">document</span><span style=\"color: #000000; text-decoration-color: #000000; font-weight: bold\">[</span><span style=\"color: #008000; text-decoration-color: #008000\">'text'</span><span style=\"color: #000000; text-decoration-color: #000000; font-weight: bold\">]</span><span style=\"color: #000000; text-decoration-color: #000000\">: Montreal was the capital of the Province of Canada from </span><span style=\"color: #008080; text-decoration-color: #008080; font-weight: bold\">1844</span><span style=\"color: #000000; text-decoration-color: #000000\"> to </span><span style=\"color: #008080; text-decoration-color: #008080; font-weight: bold\">1849</span><span style=\"color: #000000; text-decoration-color: #000000\">, but lost its </span>\n",
       "<span style=\"color: #000000; text-decoration-color: #000000\">status when a Tory mob burnt down the Parliament building to protest the passage of the Rebellion Losses Bill. </span>\n",
       "<span style=\"color: #000000; text-decoration-color: #000000\">Thereafter, the capital rotated between Quebec City and Toronto until in </span><span style=\"color: #008080; text-decoration-color: #008080; font-weight: bold\">1857</span><span style=\"color: #000000; text-decoration-color: #000000\">, Queen Victoria herself established </span>\n",
       "<span style=\"color: #000000; text-decoration-color: #000000\">Ottawa as the capital due to strategic reasons. The reasons were twofold. First, because it was located more in the</span>\n",
       "<span style=\"color: #000000; text-decoration-color: #000000\">interior of the Province of Canada, it was less susceptible to attack from the United States. Second, and perhaps </span>\n",
       "<span style=\"color: #000000; text-decoration-color: #000000\">more importantly, because it lay on the border between French and English Canada, Ottawa was seen as a compromise </span>\n",
       "<span style=\"color: #000000; text-decoration-color: #000000\">between Montreal, Toronto, Kingston and Quebec City, which were all vying to become the young nation's official </span>\n",
       "<span style=\"color: #000000; text-decoration-color: #000000\">capital. Ottawa retained the status as capital of Canada when the Province of Canada joined with Nova Scotia and </span>\n",
       "<span style=\"color: #000000; text-decoration-color: #000000\">New Brunswick to form the Dominion of Canada in </span><span style=\"color: #008080; text-decoration-color: #008080; font-weight: bold\">1867</span><span style=\"color: #000000; text-decoration-color: #000000\">., index: </span><span style=\"color: #008080; text-decoration-color: #008080; font-weight: bold\">100</span><span style=\"color: #000000; text-decoration-color: #000000\">, relevance_score: </span><span style=\"color: #008080; text-decoration-color: #008080; font-weight: bold\">0.9795897</span><span style=\"font-weight: bold\">&gt;</span>\n",
       "</pre>\n"
      ],
      "text/plain": [
       "RerankResult\u001b[1m<\u001b[0m\u001b[1;95mdocument\u001b[0m\u001b[1;39m[\u001b[0m\u001b[32m'text'\u001b[0m\u001b[1;39m]\u001b[0m\u001b[39m: Montreal was the capital of the Province of Canada from \u001b[0m\u001b[1;36m1844\u001b[0m\u001b[39m to \u001b[0m\u001b[1;36m1849\u001b[0m\u001b[39m, but lost its \u001b[0m\n",
       "\u001b[39mstatus when a Tory mob burnt down the Parliament building to protest the passage of the Rebellion Losses Bill. \u001b[0m\n",
       "\u001b[39mThereafter, the capital rotated between Quebec City and Toronto until in \u001b[0m\u001b[1;36m1857\u001b[0m\u001b[39m, Queen Victoria herself established \u001b[0m\n",
       "\u001b[39mOttawa as the capital due to strategic reasons. The reasons were twofold. First, because it was located more in the\u001b[0m\n",
       "\u001b[39minterior of the Province of Canada, it was less susceptible to attack from the United States. Second, and perhaps \u001b[0m\n",
       "\u001b[39mmore importantly, because it lay on the border between French and English Canada, Ottawa was seen as a compromise \u001b[0m\n",
       "\u001b[39mbetween Montreal, Toronto, Kingston and Quebec City, which were all vying to become the young nation's official \u001b[0m\n",
       "\u001b[39mcapital. Ottawa retained the status as capital of Canada when the Province of Canada joined with Nova Scotia and \u001b[0m\n",
       "\u001b[39mNew Brunswick to form the Dominion of Canada in \u001b[0m\u001b[1;36m1867\u001b[0m\u001b[39m., index: \u001b[0m\u001b[1;36m100\u001b[0m\u001b[39m, relevance_score: \u001b[0m\u001b[1;36m0.9795897\u001b[0m\u001b[1m>\u001b[0m\n"
      ]
     },
     "metadata": {},
     "output_type": "display_data"
    },
    {
     "data": {
      "text/html": [
       "<pre style=\"white-space:pre;overflow-x:auto;line-height:normal;font-family:Menlo,'DejaVu Sans Mono',consolas,'Courier New',monospace\">\n",
       "</pre>\n"
      ],
      "text/plain": [
       "\n"
      ]
     },
     "metadata": {},
     "output_type": "display_data"
    },
    {
     "data": {
      "text/html": [
       "<pre style=\"white-space:pre;overflow-x:auto;line-height:normal;font-family:Menlo,'DejaVu Sans Mono',consolas,'Courier New',monospace\">i:<span style=\"color: #008080; text-decoration-color: #008080; font-weight: bold\">2</span>\n",
       "</pre>\n"
      ],
      "text/plain": [
       "i:\u001b[1;36m2\u001b[0m\n"
      ]
     },
     "metadata": {},
     "output_type": "display_data"
    },
    {
     "data": {
      "text/html": [
       "<pre style=\"white-space:pre;overflow-x:auto;line-height:normal;font-family:Menlo,'DejaVu Sans Mono',consolas,'Courier New',monospace\">RerankResult<span style=\"font-weight: bold\">&lt;</span><span style=\"color: #ff00ff; text-decoration-color: #ff00ff; font-weight: bold\">document</span><span style=\"color: #000000; text-decoration-color: #000000; font-weight: bold\">[</span><span style=\"color: #008000; text-decoration-color: #008000\">'text'</span><span style=\"color: #000000; text-decoration-color: #000000; font-weight: bold\">]</span><span style=\"color: #000000; text-decoration-color: #000000\">: Ottawa is the political centre of Canada and headquarters to the federal government.</span>\n",
       "<span style=\"color: #000000; text-decoration-color: #000000\">The city houses numerous foreign embassies, key buildings, organizations, and institutions of Canada's government, </span>\n",
       "<span style=\"color: #000000; text-decoration-color: #000000\">including the Parliament of Canada, the Supreme Court, the residence of Canada's viceroy, and Office of the Prime </span>\n",
       "<span style=\"color: #000000; text-decoration-color: #000000\">Minister., index: </span><span style=\"color: #008080; text-decoration-color: #008080; font-weight: bold\">202</span><span style=\"color: #000000; text-decoration-color: #000000\">, relevance_score: </span><span style=\"color: #008080; text-decoration-color: #008080; font-weight: bold\">0.9753901</span><span style=\"font-weight: bold\">&gt;</span>\n",
       "</pre>\n"
      ],
      "text/plain": [
       "RerankResult\u001b[1m<\u001b[0m\u001b[1;95mdocument\u001b[0m\u001b[1;39m[\u001b[0m\u001b[32m'text'\u001b[0m\u001b[1;39m]\u001b[0m\u001b[39m: Ottawa is the political centre of Canada and headquarters to the federal government.\u001b[0m\n",
       "\u001b[39mThe city houses numerous foreign embassies, key buildings, organizations, and institutions of Canada's government, \u001b[0m\n",
       "\u001b[39mincluding the Parliament of Canada, the Supreme Court, the residence of Canada's viceroy, and Office of the Prime \u001b[0m\n",
       "\u001b[39mMinister., index: \u001b[0m\u001b[1;36m202\u001b[0m\u001b[39m, relevance_score: \u001b[0m\u001b[1;36m0.9753901\u001b[0m\u001b[1m>\u001b[0m\n"
      ]
     },
     "metadata": {},
     "output_type": "display_data"
    },
    {
     "data": {
      "text/html": [
       "<pre style=\"white-space:pre;overflow-x:auto;line-height:normal;font-family:Menlo,'DejaVu Sans Mono',consolas,'Courier New',monospace\">\n",
       "</pre>\n"
      ],
      "text/plain": [
       "\n"
      ]
     },
     "metadata": {},
     "output_type": "display_data"
    },
    {
     "data": {
      "text/html": [
       "<pre style=\"white-space:pre;overflow-x:auto;line-height:normal;font-family:Menlo,'DejaVu Sans Mono',consolas,'Courier New',monospace\">i:<span style=\"color: #008080; text-decoration-color: #008080; font-weight: bold\">3</span>\n",
       "</pre>\n"
      ],
      "text/plain": [
       "i:\u001b[1;36m3\u001b[0m\n"
      ]
     },
     "metadata": {},
     "output_type": "display_data"
    },
    {
     "data": {
      "text/html": [
       "<pre style=\"white-space:pre;overflow-x:auto;line-height:normal;font-family:Menlo,'DejaVu Sans Mono',consolas,'Courier New',monospace\">RerankResult<span style=\"font-weight: bold\">&lt;</span><span style=\"color: #ff00ff; text-decoration-color: #ff00ff; font-weight: bold\">document</span><span style=\"color: #000000; text-decoration-color: #000000; font-weight: bold\">[</span><span style=\"color: #008000; text-decoration-color: #008000\">'text'</span><span style=\"color: #000000; text-decoration-color: #000000; font-weight: bold\">]</span><span style=\"color: #000000; text-decoration-color: #000000\">: Until the late 18th century Québec was the most populous city in present-day Canada.</span>\n",
       "<span style=\"color: #000000; text-decoration-color: #000000\">As of the census of </span><span style=\"color: #008080; text-decoration-color: #008080; font-weight: bold\">1790</span><span style=\"color: #000000; text-decoration-color: #000000\">, Montreal surpassed it with </span><span style=\"color: #008080; text-decoration-color: #008080; font-weight: bold\">18</span><span style=\"color: #000000; text-decoration-color: #000000\">,</span><span style=\"color: #008080; text-decoration-color: #008080; font-weight: bold\">000</span><span style=\"color: #000000; text-decoration-color: #000000\"> inhabitants, but Quebec </span><span style=\"color: #000000; text-decoration-color: #000000; font-weight: bold\">(</span><span style=\"color: #000000; text-decoration-color: #000000\">pop. </span><span style=\"color: #008080; text-decoration-color: #008080; font-weight: bold\">14</span><span style=\"color: #000000; text-decoration-color: #000000\">,</span><span style=\"color: #008080; text-decoration-color: #008080; font-weight: bold\">000</span><span style=\"color: #000000; text-decoration-color: #000000; font-weight: bold\">)</span><span style=\"color: #000000; text-decoration-color: #000000\"> remained the </span>\n",
       "<span style=\"color: #000000; text-decoration-color: #000000\">administrative capital of New France. It was then made the capital of Lower Canada by the Constitutional Act of </span>\n",
       "<span style=\"color: #008080; text-decoration-color: #008080; font-weight: bold\">1791</span><span style=\"color: #000000; text-decoration-color: #000000\">. From </span><span style=\"color: #008080; text-decoration-color: #008080; font-weight: bold\">1841</span><span style=\"color: #000000; text-decoration-color: #000000\"> to </span><span style=\"color: #008080; text-decoration-color: #008080; font-weight: bold\">1867</span><span style=\"color: #000000; text-decoration-color: #000000\">, the capital of the Province of Canada rotated between Kingston, Montreal, Toronto, Ottawa </span>\n",
       "<span style=\"color: #000000; text-decoration-color: #000000\">and Quebec City </span><span style=\"color: #000000; text-decoration-color: #000000; font-weight: bold\">(</span><span style=\"color: #000000; text-decoration-color: #000000\">from </span><span style=\"color: #008080; text-decoration-color: #008080; font-weight: bold\">1852</span><span style=\"color: #000000; text-decoration-color: #000000\"> to </span><span style=\"color: #008080; text-decoration-color: #008080; font-weight: bold\">1856</span><span style=\"color: #000000; text-decoration-color: #000000\"> and from </span><span style=\"color: #008080; text-decoration-color: #008080; font-weight: bold\">1859</span><span style=\"color: #000000; text-decoration-color: #000000\"> to </span><span style=\"color: #008080; text-decoration-color: #008080; font-weight: bold\">1866</span><span style=\"color: #000000; text-decoration-color: #000000; font-weight: bold\">)</span><span style=\"color: #000000; text-decoration-color: #000000\">., index: </span><span style=\"color: #008080; text-decoration-color: #008080; font-weight: bold\">496</span><span style=\"color: #000000; text-decoration-color: #000000\">, relevance_score: </span><span style=\"color: #008080; text-decoration-color: #008080; font-weight: bold\">0.9711838</span><span style=\"font-weight: bold\">&gt;</span>\n",
       "</pre>\n"
      ],
      "text/plain": [
       "RerankResult\u001b[1m<\u001b[0m\u001b[1;95mdocument\u001b[0m\u001b[1;39m[\u001b[0m\u001b[32m'text'\u001b[0m\u001b[1;39m]\u001b[0m\u001b[39m: Until the late 18th century Québec was the most populous city in present-day Canada.\u001b[0m\n",
       "\u001b[39mAs of the census of \u001b[0m\u001b[1;36m1790\u001b[0m\u001b[39m, Montreal surpassed it with \u001b[0m\u001b[1;36m18\u001b[0m\u001b[39m,\u001b[0m\u001b[1;36m000\u001b[0m\u001b[39m inhabitants, but Quebec \u001b[0m\u001b[1;39m(\u001b[0m\u001b[39mpop. \u001b[0m\u001b[1;36m14\u001b[0m\u001b[39m,\u001b[0m\u001b[1;36m000\u001b[0m\u001b[1;39m)\u001b[0m\u001b[39m remained the \u001b[0m\n",
       "\u001b[39madministrative capital of New France. It was then made the capital of Lower Canada by the Constitutional Act of \u001b[0m\n",
       "\u001b[1;36m1791\u001b[0m\u001b[39m. From \u001b[0m\u001b[1;36m1841\u001b[0m\u001b[39m to \u001b[0m\u001b[1;36m1867\u001b[0m\u001b[39m, the capital of the Province of Canada rotated between Kingston, Montreal, Toronto, Ottawa \u001b[0m\n",
       "\u001b[39mand Quebec City \u001b[0m\u001b[1;39m(\u001b[0m\u001b[39mfrom \u001b[0m\u001b[1;36m1852\u001b[0m\u001b[39m to \u001b[0m\u001b[1;36m1856\u001b[0m\u001b[39m and from \u001b[0m\u001b[1;36m1859\u001b[0m\u001b[39m to \u001b[0m\u001b[1;36m1866\u001b[0m\u001b[1;39m)\u001b[0m\u001b[39m., index: \u001b[0m\u001b[1;36m496\u001b[0m\u001b[39m, relevance_score: \u001b[0m\u001b[1;36m0.9711838\u001b[0m\u001b[1m>\u001b[0m\n"
      ]
     },
     "metadata": {},
     "output_type": "display_data"
    },
    {
     "data": {
      "text/html": [
       "<pre style=\"white-space:pre;overflow-x:auto;line-height:normal;font-family:Menlo,'DejaVu Sans Mono',consolas,'Courier New',monospace\">\n",
       "</pre>\n"
      ],
      "text/plain": [
       "\n"
      ]
     },
     "metadata": {},
     "output_type": "display_data"
    },
    {
     "data": {
      "text/html": [
       "<pre style=\"white-space:pre;overflow-x:auto;line-height:normal;font-family:Menlo,'DejaVu Sans Mono',consolas,'Courier New',monospace\">i:<span style=\"color: #008080; text-decoration-color: #008080; font-weight: bold\">4</span>\n",
       "</pre>\n"
      ],
      "text/plain": [
       "i:\u001b[1;36m4\u001b[0m\n"
      ]
     },
     "metadata": {},
     "output_type": "display_data"
    },
    {
     "data": {
      "text/html": [
       "<pre style=\"white-space:pre;overflow-x:auto;line-height:normal;font-family:Menlo,'DejaVu Sans Mono',consolas,'Courier New',monospace\">RerankResult<span style=\"font-weight: bold\">&lt;</span><span style=\"color: #ff00ff; text-decoration-color: #ff00ff; font-weight: bold\">document</span><span style=\"color: #000000; text-decoration-color: #000000; font-weight: bold\">[</span><span style=\"color: #008000; text-decoration-color: #008000\">'text'</span><span style=\"color: #000000; text-decoration-color: #000000; font-weight: bold\">]</span><span style=\"color: #000000; text-decoration-color: #000000\">: Ottawa was chosen as the capital for two primary reasons. First, Ottawa's isolated </span>\n",
       "<span style=\"color: #000000; text-decoration-color: #000000\">location, surrounded by dense forest far from the Canada–US border and situated on a cliff face, would make it more</span>\n",
       "<span style=\"color: #000000; text-decoration-color: #000000\">defensible from attack. Second, Ottawa was approximately midway between Toronto and Kingston </span><span style=\"color: #000000; text-decoration-color: #000000; font-weight: bold\">(</span><span style=\"color: #000000; text-decoration-color: #000000\">in Canada West</span><span style=\"color: #000000; text-decoration-color: #000000; font-weight: bold\">)</span><span style=\"color: #000000; text-decoration-color: #000000\"> and </span>\n",
       "<span style=\"color: #000000; text-decoration-color: #000000\">Montreal and Quebec City </span><span style=\"color: #000000; text-decoration-color: #000000; font-weight: bold\">(</span><span style=\"color: #000000; text-decoration-color: #000000\">in Canada East</span><span style=\"color: #000000; text-decoration-color: #000000; font-weight: bold\">)</span><span style=\"color: #000000; text-decoration-color: #000000\"> making the selection an important political compromise., index: </span><span style=\"color: #008080; text-decoration-color: #008080; font-weight: bold\">479</span><span style=\"color: #000000; text-decoration-color: #000000\">, </span>\n",
       "<span style=\"color: #000000; text-decoration-color: #000000\">relevance_score: </span><span style=\"color: #008080; text-decoration-color: #008080; font-weight: bold\">0.96653706</span><span style=\"font-weight: bold\">&gt;</span>\n",
       "</pre>\n"
      ],
      "text/plain": [
       "RerankResult\u001b[1m<\u001b[0m\u001b[1;95mdocument\u001b[0m\u001b[1;39m[\u001b[0m\u001b[32m'text'\u001b[0m\u001b[1;39m]\u001b[0m\u001b[39m: Ottawa was chosen as the capital for two primary reasons. First, Ottawa's isolated \u001b[0m\n",
       "\u001b[39mlocation, surrounded by dense forest far from the Canada–US border and situated on a cliff face, would make it more\u001b[0m\n",
       "\u001b[39mdefensible from attack. Second, Ottawa was approximately midway between Toronto and Kingston \u001b[0m\u001b[1;39m(\u001b[0m\u001b[39min Canada West\u001b[0m\u001b[1;39m)\u001b[0m\u001b[39m and \u001b[0m\n",
       "\u001b[39mMontreal and Quebec City \u001b[0m\u001b[1;39m(\u001b[0m\u001b[39min Canada East\u001b[0m\u001b[1;39m)\u001b[0m\u001b[39m making the selection an important political compromise., index: \u001b[0m\u001b[1;36m479\u001b[0m\u001b[39m, \u001b[0m\n",
       "\u001b[39mrelevance_score: \u001b[0m\u001b[1;36m0.96653706\u001b[0m\u001b[1m>\u001b[0m\n"
      ]
     },
     "metadata": {},
     "output_type": "display_data"
    },
    {
     "data": {
      "text/html": [
       "<pre style=\"white-space:pre;overflow-x:auto;line-height:normal;font-family:Menlo,'DejaVu Sans Mono',consolas,'Courier New',monospace\">\n",
       "</pre>\n"
      ],
      "text/plain": [
       "\n"
      ]
     },
     "metadata": {},
     "output_type": "display_data"
    },
    {
     "data": {
      "text/html": [
       "<pre style=\"white-space:pre;overflow-x:auto;line-height:normal;font-family:Menlo,'DejaVu Sans Mono',consolas,'Courier New',monospace\">i:<span style=\"color: #008080; text-decoration-color: #008080; font-weight: bold\">5</span>\n",
       "</pre>\n"
      ],
      "text/plain": [
       "i:\u001b[1;36m5\u001b[0m\n"
      ]
     },
     "metadata": {},
     "output_type": "display_data"
    },
    {
     "data": {
      "text/html": [
       "<pre style=\"white-space:pre;overflow-x:auto;line-height:normal;font-family:Menlo,'DejaVu Sans Mono',consolas,'Courier New',monospace\">RerankResult<span style=\"font-weight: bold\">&lt;</span><span style=\"color: #ff00ff; text-decoration-color: #ff00ff; font-weight: bold\">document</span><span style=\"color: #000000; text-decoration-color: #000000; font-weight: bold\">[</span><span style=\"color: #008000; text-decoration-color: #008000\">'text'</span><span style=\"color: #000000; text-decoration-color: #000000; font-weight: bold\">]</span><span style=\"color: #000000; text-decoration-color: #000000\">: Canada is a country in North America. Its ten provinces and three territories extend</span>\n",
       "<span style=\"color: #000000; text-decoration-color: #000000\">from the Atlantic Ocean to the Pacific Ocean and northward into the Arctic Ocean, covering over , making it the </span>\n",
       "<span style=\"color: #000000; text-decoration-color: #000000\">world's second-largest country by total area. Its southern and western border with the United States, stretching , </span>\n",
       "<span style=\"color: #000000; text-decoration-color: #000000\">is the world's longest binational land border. Canada's capital is Ottawa, and its three largest metropolitan areas</span>\n",
       "<span style=\"color: #000000; text-decoration-color: #000000\">are Toronto, Montreal, and Vancouver., index: </span><span style=\"color: #008080; text-decoration-color: #008080; font-weight: bold\">481</span><span style=\"color: #000000; text-decoration-color: #000000\">, relevance_score: </span><span style=\"color: #008080; text-decoration-color: #008080; font-weight: bold\">0.9421884</span><span style=\"font-weight: bold\">&gt;</span>\n",
       "</pre>\n"
      ],
      "text/plain": [
       "RerankResult\u001b[1m<\u001b[0m\u001b[1;95mdocument\u001b[0m\u001b[1;39m[\u001b[0m\u001b[32m'text'\u001b[0m\u001b[1;39m]\u001b[0m\u001b[39m: Canada is a country in North America. Its ten provinces and three territories extend\u001b[0m\n",
       "\u001b[39mfrom the Atlantic Ocean to the Pacific Ocean and northward into the Arctic Ocean, covering over , making it the \u001b[0m\n",
       "\u001b[39mworld's second-largest country by total area. Its southern and western border with the United States, stretching , \u001b[0m\n",
       "\u001b[39mis the world's longest binational land border. Canada's capital is Ottawa, and its three largest metropolitan areas\u001b[0m\n",
       "\u001b[39mare Toronto, Montreal, and Vancouver., index: \u001b[0m\u001b[1;36m481\u001b[0m\u001b[39m, relevance_score: \u001b[0m\u001b[1;36m0.9421884\u001b[0m\u001b[1m>\u001b[0m\n"
      ]
     },
     "metadata": {},
     "output_type": "display_data"
    },
    {
     "data": {
      "text/html": [
       "<pre style=\"white-space:pre;overflow-x:auto;line-height:normal;font-family:Menlo,'DejaVu Sans Mono',consolas,'Courier New',monospace\">\n",
       "</pre>\n"
      ],
      "text/plain": [
       "\n"
      ]
     },
     "metadata": {},
     "output_type": "display_data"
    },
    {
     "data": {
      "text/html": [
       "<pre style=\"white-space:pre;overflow-x:auto;line-height:normal;font-family:Menlo,'DejaVu Sans Mono',consolas,'Courier New',monospace\">i:<span style=\"color: #008080; text-decoration-color: #008080; font-weight: bold\">6</span>\n",
       "</pre>\n"
      ],
      "text/plain": [
       "i:\u001b[1;36m6\u001b[0m\n"
      ]
     },
     "metadata": {},
     "output_type": "display_data"
    },
    {
     "data": {
      "text/html": [
       "<pre style=\"white-space:pre;overflow-x:auto;line-height:normal;font-family:Menlo,'DejaVu Sans Mono',consolas,'Courier New',monospace\">RerankResult<span style=\"font-weight: bold\">&lt;</span><span style=\"color: #ff00ff; text-decoration-color: #ff00ff; font-weight: bold\">document</span><span style=\"color: #000000; text-decoration-color: #000000; font-weight: bold\">[</span><span style=\"color: #008000; text-decoration-color: #008000\">'text'</span><span style=\"color: #000000; text-decoration-color: #000000; font-weight: bold\">]</span><span style=\"color: #000000; text-decoration-color: #000000\">: Although both rebellions were put down in short order, the British government sent </span>\n",
       "<span style=\"color: #000000; text-decoration-color: #000000\">Lord Durham to investigate the causes. He recommended self-government be granted and Lower and Upper Canada be </span>\n",
       "<span style=\"color: #000000; text-decoration-color: #000000\">re-joined in an attempt to assimilate the French Canadians. Accordingly, the two colonies were merged into the </span>\n",
       "<span style=\"color: #000000; text-decoration-color: #000000\">Province of Canada by the </span><span style=\"color: #008000; text-decoration-color: #008000\">\"Act of Union 1840\"</span><span style=\"color: #000000; text-decoration-color: #000000\">, with the capital at Kingston, and Upper Canada becoming known as </span>\n",
       "<span style=\"color: #000000; text-decoration-color: #000000\">Canada West. Parliamentary self-government was granted in </span><span style=\"color: #008080; text-decoration-color: #008080; font-weight: bold\">1848</span><span style=\"color: #000000; text-decoration-color: #000000\">. There were heavy waves of immigration in the 1840s,</span>\n",
       "<span style=\"color: #000000; text-decoration-color: #000000\">and the population of Canada West more than doubled by </span><span style=\"color: #008080; text-decoration-color: #008080; font-weight: bold\">1851</span><span style=\"color: #000000; text-decoration-color: #000000\"> over the previous decade. As a result, for the first </span>\n",
       "<span style=\"color: #000000; text-decoration-color: #000000\">time, the English-speaking population of Canada West surpassed the French-speaking population of Canada East, </span>\n",
       "<span style=\"color: #000000; text-decoration-color: #000000\">tilting the representative balance of power., index: </span><span style=\"color: #008080; text-decoration-color: #008080; font-weight: bold\">68</span><span style=\"color: #000000; text-decoration-color: #000000\">, relevance_score: </span><span style=\"color: #008080; text-decoration-color: #008080; font-weight: bold\">0.86567897</span><span style=\"font-weight: bold\">&gt;</span>\n",
       "</pre>\n"
      ],
      "text/plain": [
       "RerankResult\u001b[1m<\u001b[0m\u001b[1;95mdocument\u001b[0m\u001b[1;39m[\u001b[0m\u001b[32m'text'\u001b[0m\u001b[1;39m]\u001b[0m\u001b[39m: Although both rebellions were put down in short order, the British government sent \u001b[0m\n",
       "\u001b[39mLord Durham to investigate the causes. He recommended self-government be granted and Lower and Upper Canada be \u001b[0m\n",
       "\u001b[39mre-joined in an attempt to assimilate the French Canadians. Accordingly, the two colonies were merged into the \u001b[0m\n",
       "\u001b[39mProvince of Canada by the \u001b[0m\u001b[32m\"Act of Union 1840\"\u001b[0m\u001b[39m, with the capital at Kingston, and Upper Canada becoming known as \u001b[0m\n",
       "\u001b[39mCanada West. Parliamentary self-government was granted in \u001b[0m\u001b[1;36m1848\u001b[0m\u001b[39m. There were heavy waves of immigration in the 1840s,\u001b[0m\n",
       "\u001b[39mand the population of Canada West more than doubled by \u001b[0m\u001b[1;36m1851\u001b[0m\u001b[39m over the previous decade. As a result, for the first \u001b[0m\n",
       "\u001b[39mtime, the English-speaking population of Canada West surpassed the French-speaking population of Canada East, \u001b[0m\n",
       "\u001b[39mtilting the representative balance of power., index: \u001b[0m\u001b[1;36m68\u001b[0m\u001b[39m, relevance_score: \u001b[0m\u001b[1;36m0.86567897\u001b[0m\u001b[1m>\u001b[0m\n"
      ]
     },
     "metadata": {},
     "output_type": "display_data"
    },
    {
     "data": {
      "text/html": [
       "<pre style=\"white-space:pre;overflow-x:auto;line-height:normal;font-family:Menlo,'DejaVu Sans Mono',consolas,'Courier New',monospace\">\n",
       "</pre>\n"
      ],
      "text/plain": [
       "\n"
      ]
     },
     "metadata": {},
     "output_type": "display_data"
    },
    {
     "data": {
      "text/html": [
       "<pre style=\"white-space:pre;overflow-x:auto;line-height:normal;font-family:Menlo,'DejaVu Sans Mono',consolas,'Courier New',monospace\">i:<span style=\"color: #008080; text-decoration-color: #008080; font-weight: bold\">7</span>\n",
       "</pre>\n"
      ],
      "text/plain": [
       "i:\u001b[1;36m7\u001b[0m\n"
      ]
     },
     "metadata": {},
     "output_type": "display_data"
    },
    {
     "data": {
      "text/html": [
       "<pre style=\"white-space:pre;overflow-x:auto;line-height:normal;font-family:Menlo,'DejaVu Sans Mono',consolas,'Courier New',monospace\">RerankResult<span style=\"font-weight: bold\">&lt;</span><span style=\"color: #ff00ff; text-decoration-color: #ff00ff; font-weight: bold\">document</span><span style=\"color: #000000; text-decoration-color: #000000; font-weight: bold\">[</span><span style=\"color: #008000; text-decoration-color: #008000\">'text'</span><span style=\"color: #000000; text-decoration-color: #000000; font-weight: bold\">]</span><span style=\"color: #000000; text-decoration-color: #000000\">: Ottawa is headquarters to numerous major medical organizations and institutions such</span>\n",
       "<span style=\"color: #000000; text-decoration-color: #000000\">as Canadian Red Cross, Canadian Blood Services, Health Canada, Canadian Medical Association, Royal College of </span>\n",
       "<span style=\"color: #000000; text-decoration-color: #000000\">Physicians and Surgeons of Canada, Canadian Nurses Association, and the Medical Council of Canada., index: </span><span style=\"color: #008080; text-decoration-color: #008080; font-weight: bold\">394</span><span style=\"color: #000000; text-decoration-color: #000000\">, </span>\n",
       "<span style=\"color: #000000; text-decoration-color: #000000\">relevance_score: </span><span style=\"color: #008080; text-decoration-color: #008080; font-weight: bold\">0.86153823</span><span style=\"font-weight: bold\">&gt;</span>\n",
       "</pre>\n"
      ],
      "text/plain": [
       "RerankResult\u001b[1m<\u001b[0m\u001b[1;95mdocument\u001b[0m\u001b[1;39m[\u001b[0m\u001b[32m'text'\u001b[0m\u001b[1;39m]\u001b[0m\u001b[39m: Ottawa is headquarters to numerous major medical organizations and institutions such\u001b[0m\n",
       "\u001b[39mas Canadian Red Cross, Canadian Blood Services, Health Canada, Canadian Medical Association, Royal College of \u001b[0m\n",
       "\u001b[39mPhysicians and Surgeons of Canada, Canadian Nurses Association, and the Medical Council of Canada., index: \u001b[0m\u001b[1;36m394\u001b[0m\u001b[39m, \u001b[0m\n",
       "\u001b[39mrelevance_score: \u001b[0m\u001b[1;36m0.86153823\u001b[0m\u001b[1m>\u001b[0m\n"
      ]
     },
     "metadata": {},
     "output_type": "display_data"
    },
    {
     "data": {
      "text/html": [
       "<pre style=\"white-space:pre;overflow-x:auto;line-height:normal;font-family:Menlo,'DejaVu Sans Mono',consolas,'Courier New',monospace\">\n",
       "</pre>\n"
      ],
      "text/plain": [
       "\n"
      ]
     },
     "metadata": {},
     "output_type": "display_data"
    },
    {
     "data": {
      "text/html": [
       "<pre style=\"white-space:pre;overflow-x:auto;line-height:normal;font-family:Menlo,'DejaVu Sans Mono',consolas,'Courier New',monospace\">i:<span style=\"color: #008080; text-decoration-color: #008080; font-weight: bold\">8</span>\n",
       "</pre>\n"
      ],
      "text/plain": [
       "i:\u001b[1;36m8\u001b[0m\n"
      ]
     },
     "metadata": {},
     "output_type": "display_data"
    },
    {
     "data": {
      "text/html": [
       "<pre style=\"white-space:pre;overflow-x:auto;line-height:normal;font-family:Menlo,'DejaVu Sans Mono',consolas,'Courier New',monospace\">RerankResult<span style=\"font-weight: bold\">&lt;</span><span style=\"color: #ff00ff; text-decoration-color: #ff00ff; font-weight: bold\">document</span><span style=\"color: #000000; text-decoration-color: #000000; font-weight: bold\">[</span><span style=\"color: #008000; text-decoration-color: #008000\">'text'</span><span style=\"color: #000000; text-decoration-color: #000000; font-weight: bold\">]</span><span style=\"color: #000000; text-decoration-color: #000000\">: Ontario </span><span style=\"color: #000000; text-decoration-color: #000000; font-weight: bold\">(</span><span style=\"color: #000000; text-decoration-color: #000000\"> ; </span><span style=\"color: #000000; text-decoration-color: #000000; font-weight: bold\">)</span><span style=\"color: #000000; text-decoration-color: #000000\"> is one of the thirteen provinces and territories of Canada. Located in</span>\n",
       "<span style=\"color: #000000; text-decoration-color: #000000\">Central Canada, it is Canada's most populous province, with </span><span style=\"color: #008080; text-decoration-color: #008080; font-weight: bold\">38.3</span><span style=\"color: #000000; text-decoration-color: #000000\"> percent of the country's population, and is the </span>\n",
       "<span style=\"color: #000000; text-decoration-color: #000000\">second-largest province by total area </span><span style=\"color: #000000; text-decoration-color: #000000; font-weight: bold\">(</span><span style=\"color: #000000; text-decoration-color: #000000\">after Quebec</span><span style=\"color: #000000; text-decoration-color: #000000; font-weight: bold\">)</span><span style=\"color: #000000; text-decoration-color: #000000\">. Ontario is Canada's fourth-largest jurisdiction in total area</span>\n",
       "<span style=\"color: #000000; text-decoration-color: #000000\">when the territories of the Northwest Territories and Nunavut are included. It is home to the nation's capital </span>\n",
       "<span style=\"color: #000000; text-decoration-color: #000000\">city, Ottawa, and the nation's most populous city, Toronto, which is Ontario's provincial capital., index: </span><span style=\"color: #008080; text-decoration-color: #008080; font-weight: bold\">228</span><span style=\"color: #000000; text-decoration-color: #000000\">, </span>\n",
       "<span style=\"color: #000000; text-decoration-color: #000000\">relevance_score: </span><span style=\"color: #008080; text-decoration-color: #008080; font-weight: bold\">0.4989891</span><span style=\"font-weight: bold\">&gt;</span>\n",
       "</pre>\n"
      ],
      "text/plain": [
       "RerankResult\u001b[1m<\u001b[0m\u001b[1;95mdocument\u001b[0m\u001b[1;39m[\u001b[0m\u001b[32m'text'\u001b[0m\u001b[1;39m]\u001b[0m\u001b[39m: Ontario \u001b[0m\u001b[1;39m(\u001b[0m\u001b[39m ; \u001b[0m\u001b[1;39m)\u001b[0m\u001b[39m is one of the thirteen provinces and territories of Canada. Located in\u001b[0m\n",
       "\u001b[39mCentral Canada, it is Canada's most populous province, with \u001b[0m\u001b[1;36m38.3\u001b[0m\u001b[39m percent of the country's population, and is the \u001b[0m\n",
       "\u001b[39msecond-largest province by total area \u001b[0m\u001b[1;39m(\u001b[0m\u001b[39mafter Quebec\u001b[0m\u001b[1;39m)\u001b[0m\u001b[39m. Ontario is Canada's fourth-largest jurisdiction in total area\u001b[0m\n",
       "\u001b[39mwhen the territories of the Northwest Territories and Nunavut are included. It is home to the nation's capital \u001b[0m\n",
       "\u001b[39mcity, Ottawa, and the nation's most populous city, Toronto, which is Ontario's provincial capital., index: \u001b[0m\u001b[1;36m228\u001b[0m\u001b[39m, \u001b[0m\n",
       "\u001b[39mrelevance_score: \u001b[0m\u001b[1;36m0.4989891\u001b[0m\u001b[1m>\u001b[0m\n"
      ]
     },
     "metadata": {},
     "output_type": "display_data"
    },
    {
     "data": {
      "text/html": [
       "<pre style=\"white-space:pre;overflow-x:auto;line-height:normal;font-family:Menlo,'DejaVu Sans Mono',consolas,'Courier New',monospace\">\n",
       "</pre>\n"
      ],
      "text/plain": [
       "\n"
      ]
     },
     "metadata": {},
     "output_type": "display_data"
    },
    {
     "data": {
      "text/html": [
       "<pre style=\"white-space:pre;overflow-x:auto;line-height:normal;font-family:Menlo,'DejaVu Sans Mono',consolas,'Courier New',monospace\">i:<span style=\"color: #008080; text-decoration-color: #008080; font-weight: bold\">9</span>\n",
       "</pre>\n"
      ],
      "text/plain": [
       "i:\u001b[1;36m9\u001b[0m\n"
      ]
     },
     "metadata": {},
     "output_type": "display_data"
    },
    {
     "data": {
      "text/html": [
       "<pre style=\"white-space:pre;overflow-x:auto;line-height:normal;font-family:Menlo,'DejaVu Sans Mono',consolas,'Courier New',monospace\">RerankResult<span style=\"font-weight: bold\">&lt;</span><span style=\"color: #ff00ff; text-decoration-color: #ff00ff; font-weight: bold\">document</span><span style=\"color: #000000; text-decoration-color: #000000; font-weight: bold\">[</span><span style=\"color: #008000; text-decoration-color: #008000\">'text'</span><span style=\"color: #000000; text-decoration-color: #000000; font-weight: bold\">]</span><span style=\"color: #000000; text-decoration-color: #000000\">: With sixty percent of Canada's steel produced in Hamilton by Stelco and Dofasco, the</span>\n",
       "<span style=\"color: #000000; text-decoration-color: #000000\">city has become known as the Steel Capital of Canada. After nearly declaring bankruptcy, Stelco returned to </span>\n",
       "<span style=\"color: #000000; text-decoration-color: #000000\">profitability in </span><span style=\"color: #008080; text-decoration-color: #008080; font-weight: bold\">2004</span><span style=\"color: #000000; text-decoration-color: #000000\">. On August </span><span style=\"color: #008080; text-decoration-color: #008080; font-weight: bold\">26</span><span style=\"color: #000000; text-decoration-color: #000000\">, </span><span style=\"color: #008080; text-decoration-color: #008080; font-weight: bold\">2007</span><span style=\"color: #000000; text-decoration-color: #000000\"> United States Steel Corporation acquired Stelco for C$</span><span style=\"color: #008080; text-decoration-color: #008080; font-weight: bold\">38.50</span><span style=\"color: #000000; text-decoration-color: #000000\"> in cash per </span>\n",
       "<span style=\"color: #000000; text-decoration-color: #000000\">share, owning more than </span><span style=\"color: #008080; text-decoration-color: #008080; font-weight: bold\">76</span><span style=\"color: #000000; text-decoration-color: #000000\"> percent of Stelco's outstanding shares. On September </span><span style=\"color: #008080; text-decoration-color: #008080; font-weight: bold\">17</span><span style=\"color: #000000; text-decoration-color: #000000\">, </span><span style=\"color: #008080; text-decoration-color: #008080; font-weight: bold\">2014</span><span style=\"color: #000000; text-decoration-color: #000000\">, US Steel Canada announced</span>\n",
       "<span style=\"color: #000000; text-decoration-color: #000000\">it was applying for bankruptcy protection and it would close its Hamilton operations., index: </span><span style=\"color: #008080; text-decoration-color: #008080; font-weight: bold\">5</span><span style=\"color: #000000; text-decoration-color: #000000\">, relevance_score: </span>\n",
       "<span style=\"color: #008080; text-decoration-color: #008080; font-weight: bold\">0.49455282</span><span style=\"font-weight: bold\">&gt;</span>\n",
       "</pre>\n"
      ],
      "text/plain": [
       "RerankResult\u001b[1m<\u001b[0m\u001b[1;95mdocument\u001b[0m\u001b[1;39m[\u001b[0m\u001b[32m'text'\u001b[0m\u001b[1;39m]\u001b[0m\u001b[39m: With sixty percent of Canada's steel produced in Hamilton by Stelco and Dofasco, the\u001b[0m\n",
       "\u001b[39mcity has become known as the Steel Capital of Canada. After nearly declaring bankruptcy, Stelco returned to \u001b[0m\n",
       "\u001b[39mprofitability in \u001b[0m\u001b[1;36m2004\u001b[0m\u001b[39m. On August \u001b[0m\u001b[1;36m26\u001b[0m\u001b[39m, \u001b[0m\u001b[1;36m2007\u001b[0m\u001b[39m United States Steel Corporation acquired Stelco for C$\u001b[0m\u001b[1;36m38.50\u001b[0m\u001b[39m in cash per \u001b[0m\n",
       "\u001b[39mshare, owning more than \u001b[0m\u001b[1;36m76\u001b[0m\u001b[39m percent of Stelco's outstanding shares. On September \u001b[0m\u001b[1;36m17\u001b[0m\u001b[39m, \u001b[0m\u001b[1;36m2014\u001b[0m\u001b[39m, US Steel Canada announced\u001b[0m\n",
       "\u001b[39mit was applying for bankruptcy protection and it would close its Hamilton operations., index: \u001b[0m\u001b[1;36m5\u001b[0m\u001b[39m, relevance_score: \u001b[0m\n",
       "\u001b[1;36m0.49455282\u001b[0m\u001b[1m>\u001b[0m\n"
      ]
     },
     "metadata": {},
     "output_type": "display_data"
    },
    {
     "data": {
      "text/html": [
       "<pre style=\"white-space:pre;overflow-x:auto;line-height:normal;font-family:Menlo,'DejaVu Sans Mono',consolas,'Courier New',monospace\">\n",
       "</pre>\n"
      ],
      "text/plain": [
       "\n"
      ]
     },
     "metadata": {},
     "output_type": "display_data"
    }
   ],
   "source": [
    "texts = [result.get('text') for result in results]\n",
    "reranked_text = rerank_responses(query_1, texts)\n",
    "\n",
    "for i, rerank_result in enumerate(reranked_text):\n",
    "    print(f\"i:{i}\")\n",
    "    print(f\"{rerank_result}\")\n",
    "    print()\n"
   ]
  },
  {
   "cell_type": "markdown",
   "metadata": {},
   "source": [
    "## Improving Dense Search with Rerank"
   ]
  },
  {
   "cell_type": "code",
   "execution_count": 15,
   "metadata": {},
   "outputs": [
    {
     "data": {
      "text/html": [
       "<pre style=\"white-space:pre;overflow-x:auto;line-height:normal;font-family:Menlo,'DejaVu Sans Mono',consolas,'Courier New',monospace\">i:<span style=\"color: #008080; text-decoration-color: #008080; font-weight: bold\">0</span>\n",
       "</pre>\n"
      ],
      "text/plain": [
       "i:\u001b[1;36m0\u001b[0m\n"
      ]
     },
     "metadata": {},
     "output_type": "display_data"
    },
    {
     "data": {
      "text/html": [
       "<pre style=\"white-space:pre;overflow-x:auto;line-height:normal;font-family:Menlo,'DejaVu Sans Mono',consolas,'Courier New',monospace\">Robert Wadlow\n",
       "</pre>\n"
      ],
      "text/plain": [
       "Robert Wadlow\n"
      ]
     },
     "metadata": {},
     "output_type": "display_data"
    },
    {
     "data": {
      "text/html": [
       "<pre style=\"white-space:pre;overflow-x:auto;line-height:normal;font-family:Menlo,'DejaVu Sans Mono',consolas,'Courier New',monospace\">Robert Pershing Wadlow <span style=\"font-weight: bold\">(</span>February <span style=\"color: #008080; text-decoration-color: #008080; font-weight: bold\">22</span>, <span style=\"color: #008080; text-decoration-color: #008080; font-weight: bold\">1918</span> July <span style=\"color: #008080; text-decoration-color: #008080; font-weight: bold\">15</span>, <span style=\"color: #008080; text-decoration-color: #008080; font-weight: bold\">1940</span><span style=\"font-weight: bold\">)</span>, also known as the Alton Giant and the Giant of Illinois, \n",
       "was a man who was the tallest person in recorded history for whom there is irrefutable evidence. He was born and \n",
       "raised in Alton, Illinois, a small city near St. Louis, Missouri.\n",
       "</pre>\n"
      ],
      "text/plain": [
       "Robert Pershing Wadlow \u001b[1m(\u001b[0mFebruary \u001b[1;36m22\u001b[0m, \u001b[1;36m1918\u001b[0m July \u001b[1;36m15\u001b[0m, \u001b[1;36m1940\u001b[0m\u001b[1m)\u001b[0m, also known as the Alton Giant and the Giant of Illinois, \n",
       "was a man who was the tallest person in recorded history for whom there is irrefutable evidence. He was born and \n",
       "raised in Alton, Illinois, a small city near St. Louis, Missouri.\n"
      ]
     },
     "metadata": {},
     "output_type": "display_data"
    },
    {
     "data": {
      "text/html": [
       "<pre style=\"white-space:pre;overflow-x:auto;line-height:normal;font-family:Menlo,'DejaVu Sans Mono',consolas,'Courier New',monospace\">\n",
       "</pre>\n"
      ],
      "text/plain": [
       "\n"
      ]
     },
     "metadata": {},
     "output_type": "display_data"
    },
    {
     "data": {
      "text/html": [
       "<pre style=\"white-space:pre;overflow-x:auto;line-height:normal;font-family:Menlo,'DejaVu Sans Mono',consolas,'Courier New',monospace\">i:<span style=\"color: #008080; text-decoration-color: #008080; font-weight: bold\">1</span>\n",
       "</pre>\n"
      ],
      "text/plain": [
       "i:\u001b[1;36m1\u001b[0m\n"
      ]
     },
     "metadata": {},
     "output_type": "display_data"
    },
    {
     "data": {
      "text/html": [
       "<pre style=\"white-space:pre;overflow-x:auto;line-height:normal;font-family:Menlo,'DejaVu Sans Mono',consolas,'Courier New',monospace\">Manute Bol\n",
       "</pre>\n"
      ],
      "text/plain": [
       "Manute Bol\n"
      ]
     },
     "metadata": {},
     "output_type": "display_data"
    },
    {
     "data": {
      "text/html": [
       "<pre style=\"white-space:pre;overflow-x:auto;line-height:normal;font-family:Menlo,'DejaVu Sans Mono',consolas,'Courier New',monospace\">Bol came from a family of extraordinarily tall men and women. He said: <span style=\"color: #008000; text-decoration-color: #008000\">\"My mother was , my father , and my sister </span>\n",
       "<span style=\"color: #008000; text-decoration-color: #008000\">is . And my great-grandfather was even taller—.\"</span> His ethnic group, the Dinka, and the Nilotic people of which they \n",
       "are a part, are among the tallest populations in the world. Bol's hometown, Turalei, is the origin of other \n",
       "exceptionally tall people, including basketball player Ring Ayuel. <span style=\"color: #008000; text-decoration-color: #008000\">\"I was born in a village, where you cannot </span>\n",
       "<span style=\"color: #008000; text-decoration-color: #008000\">measure yourself,\"</span> Bol reflected. <span style=\"color: #008000; text-decoration-color: #008000\">\"I learned I was 7 foot 7 in 1979, when I was grown. I was about 18 or 19.\"</span>\n",
       "</pre>\n"
      ],
      "text/plain": [
       "Bol came from a family of extraordinarily tall men and women. He said: \u001b[32m\"My mother was , my father , and my sister \u001b[0m\n",
       "\u001b[32mis . And my great-grandfather was even taller—.\"\u001b[0m His ethnic group, the Dinka, and the Nilotic people of which they \n",
       "are a part, are among the tallest populations in the world. Bol's hometown, Turalei, is the origin of other \n",
       "exceptionally tall people, including basketball player Ring Ayuel. \u001b[32m\"I was born in a village, where you cannot \u001b[0m\n",
       "\u001b[32mmeasure yourself,\"\u001b[0m Bol reflected. \u001b[32m\"I learned I was 7 foot 7 in 1979, when I was grown. I was about 18 or 19.\"\u001b[0m\n"
      ]
     },
     "metadata": {},
     "output_type": "display_data"
    },
    {
     "data": {
      "text/html": [
       "<pre style=\"white-space:pre;overflow-x:auto;line-height:normal;font-family:Menlo,'DejaVu Sans Mono',consolas,'Courier New',monospace\">\n",
       "</pre>\n"
      ],
      "text/plain": [
       "\n"
      ]
     },
     "metadata": {},
     "output_type": "display_data"
    },
    {
     "data": {
      "text/html": [
       "<pre style=\"white-space:pre;overflow-x:auto;line-height:normal;font-family:Menlo,'DejaVu Sans Mono',consolas,'Courier New',monospace\">i:<span style=\"color: #008080; text-decoration-color: #008080; font-weight: bold\">2</span>\n",
       "</pre>\n"
      ],
      "text/plain": [
       "i:\u001b[1;36m2\u001b[0m\n"
      ]
     },
     "metadata": {},
     "output_type": "display_data"
    },
    {
     "data": {
      "text/html": [
       "<pre style=\"white-space:pre;overflow-x:auto;line-height:normal;font-family:Menlo,'DejaVu Sans Mono',consolas,'Courier New',monospace\">Sultan Kösen\n",
       "</pre>\n"
      ],
      "text/plain": [
       "Sultan Kösen\n"
      ]
     },
     "metadata": {},
     "output_type": "display_data"
    },
    {
     "data": {
      "text/html": [
       "<pre style=\"white-space:pre;overflow-x:auto;line-height:normal;font-family:Menlo,'DejaVu Sans Mono',consolas,'Courier New',monospace\">Sultan Kösen <span style=\"font-weight: bold\">(</span>born <span style=\"color: #008080; text-decoration-color: #008080; font-weight: bold\">10</span> December <span style=\"color: #008080; text-decoration-color: #008080; font-weight: bold\">1982</span><span style=\"font-weight: bold\">)</span> is a Turkish farmer who holds the Guinness World Record for tallest living \n",
       "male at . Of Kurdish ethnicity, he is the seventh tallest man in history.\n",
       "</pre>\n"
      ],
      "text/plain": [
       "Sultan Kösen \u001b[1m(\u001b[0mborn \u001b[1;36m10\u001b[0m December \u001b[1;36m1982\u001b[0m\u001b[1m)\u001b[0m is a Turkish farmer who holds the Guinness World Record for tallest living \n",
       "male at . Of Kurdish ethnicity, he is the seventh tallest man in history.\n"
      ]
     },
     "metadata": {},
     "output_type": "display_data"
    },
    {
     "data": {
      "text/html": [
       "<pre style=\"white-space:pre;overflow-x:auto;line-height:normal;font-family:Menlo,'DejaVu Sans Mono',consolas,'Courier New',monospace\">\n",
       "</pre>\n"
      ],
      "text/plain": [
       "\n"
      ]
     },
     "metadata": {},
     "output_type": "display_data"
    },
    {
     "data": {
      "text/html": [
       "<pre style=\"white-space:pre;overflow-x:auto;line-height:normal;font-family:Menlo,'DejaVu Sans Mono',consolas,'Courier New',monospace\">i:<span style=\"color: #008080; text-decoration-color: #008080; font-weight: bold\">3</span>\n",
       "</pre>\n"
      ],
      "text/plain": [
       "i:\u001b[1;36m3\u001b[0m\n"
      ]
     },
     "metadata": {},
     "output_type": "display_data"
    },
    {
     "data": {
      "text/html": [
       "<pre style=\"white-space:pre;overflow-x:auto;line-height:normal;font-family:Menlo,'DejaVu Sans Mono',consolas,'Courier New',monospace\">Sultan Kösen\n",
       "</pre>\n"
      ],
      "text/plain": [
       "Sultan Kösen\n"
      ]
     },
     "metadata": {},
     "output_type": "display_data"
    },
    {
     "data": {
      "text/html": [
       "<pre style=\"white-space:pre;overflow-x:auto;line-height:normal;font-family:Menlo,'DejaVu Sans Mono',consolas,'Courier New',monospace\">Kösen turned <span style=\"color: #008080; text-decoration-color: #008080; font-weight: bold\">40</span> years old on <span style=\"color: #008080; text-decoration-color: #008080; font-weight: bold\">10</span> December <span style=\"color: #008080; text-decoration-color: #008080; font-weight: bold\">2022</span>. He celebrated his birthday a few days early by visiting the Ripley's\n",
       "Believe It or Not! museum in Orlando, Florida, USA and posing next to a life-sized statue of Robert Wadlow, the \n",
       "tallest man ever at <span style=\"color: #008080; text-decoration-color: #008080; font-weight: bold\">272</span> cm <span style=\"font-weight: bold\">(</span><span style=\"color: #008080; text-decoration-color: #008080; font-weight: bold\">8</span> ft <span style=\"color: #008080; text-decoration-color: #008080; font-weight: bold\">11.1</span> in<span style=\"font-weight: bold\">)</span>.\n",
       "</pre>\n"
      ],
      "text/plain": [
       "Kösen turned \u001b[1;36m40\u001b[0m years old on \u001b[1;36m10\u001b[0m December \u001b[1;36m2022\u001b[0m. He celebrated his birthday a few days early by visiting the Ripley's\n",
       "Believe It or Not! museum in Orlando, Florida, USA and posing next to a life-sized statue of Robert Wadlow, the \n",
       "tallest man ever at \u001b[1;36m272\u001b[0m cm \u001b[1m(\u001b[0m\u001b[1;36m8\u001b[0m ft \u001b[1;36m11.1\u001b[0m in\u001b[1m)\u001b[0m.\n"
      ]
     },
     "metadata": {},
     "output_type": "display_data"
    },
    {
     "data": {
      "text/html": [
       "<pre style=\"white-space:pre;overflow-x:auto;line-height:normal;font-family:Menlo,'DejaVu Sans Mono',consolas,'Courier New',monospace\">\n",
       "</pre>\n"
      ],
      "text/plain": [
       "\n"
      ]
     },
     "metadata": {},
     "output_type": "display_data"
    },
    {
     "data": {
      "text/html": [
       "<pre style=\"white-space:pre;overflow-x:auto;line-height:normal;font-family:Menlo,'DejaVu Sans Mono',consolas,'Courier New',monospace\">i:<span style=\"color: #008080; text-decoration-color: #008080; font-weight: bold\">4</span>\n",
       "</pre>\n"
      ],
      "text/plain": [
       "i:\u001b[1;36m4\u001b[0m\n"
      ]
     },
     "metadata": {},
     "output_type": "display_data"
    },
    {
     "data": {
      "text/html": [
       "<pre style=\"white-space:pre;overflow-x:auto;line-height:normal;font-family:Menlo,'DejaVu Sans Mono',consolas,'Courier New',monospace\">Netherlands\n",
       "</pre>\n"
      ],
      "text/plain": [
       "Netherlands\n"
      ]
     },
     "metadata": {},
     "output_type": "display_data"
    },
    {
     "data": {
      "text/html": [
       "<pre style=\"white-space:pre;overflow-x:auto;line-height:normal;font-family:Menlo,'DejaVu Sans Mono',consolas,'Courier New',monospace\">The Dutch are the tallest people in the world, by nationality, with an average height of for adult males and for \n",
       "adult females in <span style=\"color: #008080; text-decoration-color: #008080; font-weight: bold\">2009</span>. The average height of young males in the Netherlands increased from <span style=\"color: #008080; text-decoration-color: #008080; font-weight: bold\">5</span> feet, <span style=\"color: #008080; text-decoration-color: #008080; font-weight: bold\">4</span> inches to \n",
       "approximately <span style=\"color: #008080; text-decoration-color: #008080; font-weight: bold\">6</span> feet between the 1850s until the early 2000s. People in the south are on average about shorter than\n",
       "those in the north.\n",
       "</pre>\n"
      ],
      "text/plain": [
       "The Dutch are the tallest people in the world, by nationality, with an average height of for adult males and for \n",
       "adult females in \u001b[1;36m2009\u001b[0m. The average height of young males in the Netherlands increased from \u001b[1;36m5\u001b[0m feet, \u001b[1;36m4\u001b[0m inches to \n",
       "approximately \u001b[1;36m6\u001b[0m feet between the 1850s until the early 2000s. People in the south are on average about shorter than\n",
       "those in the north.\n"
      ]
     },
     "metadata": {},
     "output_type": "display_data"
    },
    {
     "data": {
      "text/html": [
       "<pre style=\"white-space:pre;overflow-x:auto;line-height:normal;font-family:Menlo,'DejaVu Sans Mono',consolas,'Courier New',monospace\">\n",
       "</pre>\n"
      ],
      "text/plain": [
       "\n"
      ]
     },
     "metadata": {},
     "output_type": "display_data"
    }
   ],
   "source": [
    "query_2 = \"Who is the tallest person in history?\"\n",
    "results = dense_retrieval(query_2,client)\n",
    "\n",
    "for i, result in enumerate(results):\n",
    "    print(f\"i:{i}\")\n",
    "    print(result.get('title'))\n",
    "    print(result.get('text'))\n",
    "    print()\n"
   ]
  },
  {
   "cell_type": "code",
   "execution_count": 16,
   "metadata": {},
   "outputs": [
    {
     "data": {
      "text/html": [
       "<pre style=\"white-space:pre;overflow-x:auto;line-height:normal;font-family:Menlo,'DejaVu Sans Mono',consolas,'Courier New',monospace\">i:<span style=\"color: #008080; text-decoration-color: #008080; font-weight: bold\">0</span>\n",
       "</pre>\n"
      ],
      "text/plain": [
       "i:\u001b[1;36m0\u001b[0m\n"
      ]
     },
     "metadata": {},
     "output_type": "display_data"
    },
    {
     "data": {
      "text/html": [
       "<pre style=\"white-space:pre;overflow-x:auto;line-height:normal;font-family:Menlo,'DejaVu Sans Mono',consolas,'Courier New',monospace\">RerankResult<span style=\"font-weight: bold\">&lt;</span><span style=\"color: #ff00ff; text-decoration-color: #ff00ff; font-weight: bold\">document</span><span style=\"color: #000000; text-decoration-color: #000000; font-weight: bold\">[</span><span style=\"color: #008000; text-decoration-color: #008000\">'text'</span><span style=\"color: #000000; text-decoration-color: #000000; font-weight: bold\">]</span><span style=\"color: #000000; text-decoration-color: #000000\">: Robert Pershing Wadlow </span><span style=\"color: #000000; text-decoration-color: #000000; font-weight: bold\">(</span><span style=\"color: #000000; text-decoration-color: #000000\">February </span><span style=\"color: #008080; text-decoration-color: #008080; font-weight: bold\">22</span><span style=\"color: #000000; text-decoration-color: #000000\">, </span><span style=\"color: #008080; text-decoration-color: #008080; font-weight: bold\">1918</span><span style=\"color: #000000; text-decoration-color: #000000\"> July </span><span style=\"color: #008080; text-decoration-color: #008080; font-weight: bold\">15</span><span style=\"color: #000000; text-decoration-color: #000000\">, </span><span style=\"color: #008080; text-decoration-color: #008080; font-weight: bold\">1940</span><span style=\"color: #000000; text-decoration-color: #000000; font-weight: bold\">)</span><span style=\"color: #000000; text-decoration-color: #000000\">, also known as the Alton </span>\n",
       "<span style=\"color: #000000; text-decoration-color: #000000\">Giant and the Giant of Illinois, was a man who was the tallest person in recorded history for whom there is </span>\n",
       "<span style=\"color: #000000; text-decoration-color: #000000\">irrefutable evidence. He was born and raised in Alton, Illinois, a small city near St. Louis, Missouri., index: </span><span style=\"color: #008080; text-decoration-color: #008080; font-weight: bold\">0</span><span style=\"color: #000000; text-decoration-color: #000000\">, </span>\n",
       "<span style=\"color: #000000; text-decoration-color: #000000\">relevance_score: </span><span style=\"color: #008080; text-decoration-color: #008080; font-weight: bold\">0.9734939</span><span style=\"font-weight: bold\">&gt;</span>\n",
       "</pre>\n"
      ],
      "text/plain": [
       "RerankResult\u001b[1m<\u001b[0m\u001b[1;95mdocument\u001b[0m\u001b[1;39m[\u001b[0m\u001b[32m'text'\u001b[0m\u001b[1;39m]\u001b[0m\u001b[39m: Robert Pershing Wadlow \u001b[0m\u001b[1;39m(\u001b[0m\u001b[39mFebruary \u001b[0m\u001b[1;36m22\u001b[0m\u001b[39m, \u001b[0m\u001b[1;36m1918\u001b[0m\u001b[39m July \u001b[0m\u001b[1;36m15\u001b[0m\u001b[39m, \u001b[0m\u001b[1;36m1940\u001b[0m\u001b[1;39m)\u001b[0m\u001b[39m, also known as the Alton \u001b[0m\n",
       "\u001b[39mGiant and the Giant of Illinois, was a man who was the tallest person in recorded history for whom there is \u001b[0m\n",
       "\u001b[39mirrefutable evidence. He was born and raised in Alton, Illinois, a small city near St. Louis, Missouri., index: \u001b[0m\u001b[1;36m0\u001b[0m\u001b[39m, \u001b[0m\n",
       "\u001b[39mrelevance_score: \u001b[0m\u001b[1;36m0.9734939\u001b[0m\u001b[1m>\u001b[0m\n"
      ]
     },
     "metadata": {},
     "output_type": "display_data"
    },
    {
     "data": {
      "text/html": [
       "<pre style=\"white-space:pre;overflow-x:auto;line-height:normal;font-family:Menlo,'DejaVu Sans Mono',consolas,'Courier New',monospace\">\n",
       "</pre>\n"
      ],
      "text/plain": [
       "\n"
      ]
     },
     "metadata": {},
     "output_type": "display_data"
    },
    {
     "data": {
      "text/html": [
       "<pre style=\"white-space:pre;overflow-x:auto;line-height:normal;font-family:Menlo,'DejaVu Sans Mono',consolas,'Courier New',monospace\">i:<span style=\"color: #008080; text-decoration-color: #008080; font-weight: bold\">1</span>\n",
       "</pre>\n"
      ],
      "text/plain": [
       "i:\u001b[1;36m1\u001b[0m\n"
      ]
     },
     "metadata": {},
     "output_type": "display_data"
    },
    {
     "data": {
      "text/html": [
       "<pre style=\"white-space:pre;overflow-x:auto;line-height:normal;font-family:Menlo,'DejaVu Sans Mono',consolas,'Courier New',monospace\">RerankResult<span style=\"font-weight: bold\">&lt;</span><span style=\"color: #ff00ff; text-decoration-color: #ff00ff; font-weight: bold\">document</span><span style=\"color: #000000; text-decoration-color: #000000; font-weight: bold\">[</span><span style=\"color: #008000; text-decoration-color: #008000\">'text'</span><span style=\"color: #000000; text-decoration-color: #000000; font-weight: bold\">]</span><span style=\"color: #000000; text-decoration-color: #000000\">: Sultan Kösen </span><span style=\"color: #000000; text-decoration-color: #000000; font-weight: bold\">(</span><span style=\"color: #000000; text-decoration-color: #000000\">born </span><span style=\"color: #008080; text-decoration-color: #008080; font-weight: bold\">10</span><span style=\"color: #000000; text-decoration-color: #000000\"> December </span><span style=\"color: #008080; text-decoration-color: #008080; font-weight: bold\">1982</span><span style=\"color: #000000; text-decoration-color: #000000; font-weight: bold\">)</span><span style=\"color: #000000; text-decoration-color: #000000\"> is a Turkish farmer who holds the Guinness </span>\n",
       "<span style=\"color: #000000; text-decoration-color: #000000\">World Record for tallest living male at . Of Kurdish ethnicity, he is the seventh tallest man in history., index: </span>\n",
       "<span style=\"color: #008080; text-decoration-color: #008080; font-weight: bold\">2</span><span style=\"color: #000000; text-decoration-color: #000000\">, relevance_score: </span><span style=\"color: #008080; text-decoration-color: #008080; font-weight: bold\">0.8664718</span><span style=\"font-weight: bold\">&gt;</span>\n",
       "</pre>\n"
      ],
      "text/plain": [
       "RerankResult\u001b[1m<\u001b[0m\u001b[1;95mdocument\u001b[0m\u001b[1;39m[\u001b[0m\u001b[32m'text'\u001b[0m\u001b[1;39m]\u001b[0m\u001b[39m: Sultan Kösen \u001b[0m\u001b[1;39m(\u001b[0m\u001b[39mborn \u001b[0m\u001b[1;36m10\u001b[0m\u001b[39m December \u001b[0m\u001b[1;36m1982\u001b[0m\u001b[1;39m)\u001b[0m\u001b[39m is a Turkish farmer who holds the Guinness \u001b[0m\n",
       "\u001b[39mWorld Record for tallest living male at . Of Kurdish ethnicity, he is the seventh tallest man in history., index: \u001b[0m\n",
       "\u001b[1;36m2\u001b[0m\u001b[39m, relevance_score: \u001b[0m\u001b[1;36m0.8664718\u001b[0m\u001b[1m>\u001b[0m\n"
      ]
     },
     "metadata": {},
     "output_type": "display_data"
    },
    {
     "data": {
      "text/html": [
       "<pre style=\"white-space:pre;overflow-x:auto;line-height:normal;font-family:Menlo,'DejaVu Sans Mono',consolas,'Courier New',monospace\">\n",
       "</pre>\n"
      ],
      "text/plain": [
       "\n"
      ]
     },
     "metadata": {},
     "output_type": "display_data"
    },
    {
     "data": {
      "text/html": [
       "<pre style=\"white-space:pre;overflow-x:auto;line-height:normal;font-family:Menlo,'DejaVu Sans Mono',consolas,'Courier New',monospace\">i:<span style=\"color: #008080; text-decoration-color: #008080; font-weight: bold\">2</span>\n",
       "</pre>\n"
      ],
      "text/plain": [
       "i:\u001b[1;36m2\u001b[0m\n"
      ]
     },
     "metadata": {},
     "output_type": "display_data"
    },
    {
     "data": {
      "text/html": [
       "<pre style=\"white-space:pre;overflow-x:auto;line-height:normal;font-family:Menlo,'DejaVu Sans Mono',consolas,'Courier New',monospace\">RerankResult<span style=\"font-weight: bold\">&lt;</span><span style=\"color: #ff00ff; text-decoration-color: #ff00ff; font-weight: bold\">document</span><span style=\"color: #000000; text-decoration-color: #000000; font-weight: bold\">[</span><span style=\"color: #008000; text-decoration-color: #008000\">'text'</span><span style=\"color: #000000; text-decoration-color: #000000; font-weight: bold\">]</span><span style=\"color: #000000; text-decoration-color: #000000\">: The Dutch are the tallest people in the world, by nationality, with an average </span>\n",
       "<span style=\"color: #000000; text-decoration-color: #000000\">height of for adult males and for adult females in </span><span style=\"color: #008080; text-decoration-color: #008080; font-weight: bold\">2009</span><span style=\"color: #000000; text-decoration-color: #000000\">. The average height of young males in the Netherlands </span>\n",
       "<span style=\"color: #000000; text-decoration-color: #000000\">increased from </span><span style=\"color: #008080; text-decoration-color: #008080; font-weight: bold\">5</span><span style=\"color: #000000; text-decoration-color: #000000\"> feet, </span><span style=\"color: #008080; text-decoration-color: #008080; font-weight: bold\">4</span><span style=\"color: #000000; text-decoration-color: #000000\"> inches to approximately </span><span style=\"color: #008080; text-decoration-color: #008080; font-weight: bold\">6</span><span style=\"color: #000000; text-decoration-color: #000000\"> feet between the 1850s until the early 2000s. People in the </span>\n",
       "<span style=\"color: #000000; text-decoration-color: #000000\">south are on average about shorter than those in the north., index: </span><span style=\"color: #008080; text-decoration-color: #008080; font-weight: bold\">4</span><span style=\"color: #000000; text-decoration-color: #000000\">, relevance_score: </span><span style=\"color: #008080; text-decoration-color: #008080; font-weight: bold\">0.80162543</span><span style=\"font-weight: bold\">&gt;</span>\n",
       "</pre>\n"
      ],
      "text/plain": [
       "RerankResult\u001b[1m<\u001b[0m\u001b[1;95mdocument\u001b[0m\u001b[1;39m[\u001b[0m\u001b[32m'text'\u001b[0m\u001b[1;39m]\u001b[0m\u001b[39m: The Dutch are the tallest people in the world, by nationality, with an average \u001b[0m\n",
       "\u001b[39mheight of for adult males and for adult females in \u001b[0m\u001b[1;36m2009\u001b[0m\u001b[39m. The average height of young males in the Netherlands \u001b[0m\n",
       "\u001b[39mincreased from \u001b[0m\u001b[1;36m5\u001b[0m\u001b[39m feet, \u001b[0m\u001b[1;36m4\u001b[0m\u001b[39m inches to approximately \u001b[0m\u001b[1;36m6\u001b[0m\u001b[39m feet between the 1850s until the early 2000s. People in the \u001b[0m\n",
       "\u001b[39msouth are on average about shorter than those in the north., index: \u001b[0m\u001b[1;36m4\u001b[0m\u001b[39m, relevance_score: \u001b[0m\u001b[1;36m0.80162543\u001b[0m\u001b[1m>\u001b[0m\n"
      ]
     },
     "metadata": {},
     "output_type": "display_data"
    },
    {
     "data": {
      "text/html": [
       "<pre style=\"white-space:pre;overflow-x:auto;line-height:normal;font-family:Menlo,'DejaVu Sans Mono',consolas,'Courier New',monospace\">\n",
       "</pre>\n"
      ],
      "text/plain": [
       "\n"
      ]
     },
     "metadata": {},
     "output_type": "display_data"
    },
    {
     "data": {
      "text/html": [
       "<pre style=\"white-space:pre;overflow-x:auto;line-height:normal;font-family:Menlo,'DejaVu Sans Mono',consolas,'Courier New',monospace\">i:<span style=\"color: #008080; text-decoration-color: #008080; font-weight: bold\">3</span>\n",
       "</pre>\n"
      ],
      "text/plain": [
       "i:\u001b[1;36m3\u001b[0m\n"
      ]
     },
     "metadata": {},
     "output_type": "display_data"
    },
    {
     "data": {
      "text/html": [
       "<pre style=\"white-space:pre;overflow-x:auto;line-height:normal;font-family:Menlo,'DejaVu Sans Mono',consolas,'Courier New',monospace\">RerankResult<span style=\"font-weight: bold\">&lt;</span><span style=\"color: #ff00ff; text-decoration-color: #ff00ff; font-weight: bold\">document</span><span style=\"color: #000000; text-decoration-color: #000000; font-weight: bold\">[</span><span style=\"color: #008000; text-decoration-color: #008000\">'text'</span><span style=\"color: #000000; text-decoration-color: #000000; font-weight: bold\">]</span><span style=\"color: #000000; text-decoration-color: #000000\">: Kösen turned </span><span style=\"color: #008080; text-decoration-color: #008080; font-weight: bold\">40</span><span style=\"color: #000000; text-decoration-color: #000000\"> years old on </span><span style=\"color: #008080; text-decoration-color: #008080; font-weight: bold\">10</span><span style=\"color: #000000; text-decoration-color: #000000\"> December </span><span style=\"color: #008080; text-decoration-color: #008080; font-weight: bold\">2022</span><span style=\"color: #000000; text-decoration-color: #000000\">. He celebrated his birthday a few days</span>\n",
       "<span style=\"color: #000000; text-decoration-color: #000000\">early by visiting the Ripley's Believe It or Not! museum in Orlando, Florida, USA and posing next to a life-sized </span>\n",
       "<span style=\"color: #000000; text-decoration-color: #000000\">statue of Robert Wadlow, the tallest man ever at </span><span style=\"color: #008080; text-decoration-color: #008080; font-weight: bold\">272</span><span style=\"color: #000000; text-decoration-color: #000000\"> cm </span><span style=\"color: #000000; text-decoration-color: #000000; font-weight: bold\">(</span><span style=\"color: #008080; text-decoration-color: #008080; font-weight: bold\">8</span><span style=\"color: #000000; text-decoration-color: #000000\"> ft </span><span style=\"color: #008080; text-decoration-color: #008080; font-weight: bold\">11.1</span><span style=\"color: #000000; text-decoration-color: #000000\"> in</span><span style=\"color: #000000; text-decoration-color: #000000; font-weight: bold\">)</span><span style=\"color: #000000; text-decoration-color: #000000\">., index: </span><span style=\"color: #008080; text-decoration-color: #008080; font-weight: bold\">3</span><span style=\"color: #000000; text-decoration-color: #000000\">, relevance_score: </span><span style=\"color: #008080; text-decoration-color: #008080; font-weight: bold\">0.6874202</span><span style=\"font-weight: bold\">&gt;</span>\n",
       "</pre>\n"
      ],
      "text/plain": [
       "RerankResult\u001b[1m<\u001b[0m\u001b[1;95mdocument\u001b[0m\u001b[1;39m[\u001b[0m\u001b[32m'text'\u001b[0m\u001b[1;39m]\u001b[0m\u001b[39m: Kösen turned \u001b[0m\u001b[1;36m40\u001b[0m\u001b[39m years old on \u001b[0m\u001b[1;36m10\u001b[0m\u001b[39m December \u001b[0m\u001b[1;36m2022\u001b[0m\u001b[39m. He celebrated his birthday a few days\u001b[0m\n",
       "\u001b[39mearly by visiting the Ripley's Believe It or Not! museum in Orlando, Florida, USA and posing next to a life-sized \u001b[0m\n",
       "\u001b[39mstatue of Robert Wadlow, the tallest man ever at \u001b[0m\u001b[1;36m272\u001b[0m\u001b[39m cm \u001b[0m\u001b[1;39m(\u001b[0m\u001b[1;36m8\u001b[0m\u001b[39m ft \u001b[0m\u001b[1;36m11.1\u001b[0m\u001b[39m in\u001b[0m\u001b[1;39m)\u001b[0m\u001b[39m., index: \u001b[0m\u001b[1;36m3\u001b[0m\u001b[39m, relevance_score: \u001b[0m\u001b[1;36m0.6874202\u001b[0m\u001b[1m>\u001b[0m\n"
      ]
     },
     "metadata": {},
     "output_type": "display_data"
    },
    {
     "data": {
      "text/html": [
       "<pre style=\"white-space:pre;overflow-x:auto;line-height:normal;font-family:Menlo,'DejaVu Sans Mono',consolas,'Courier New',monospace\">\n",
       "</pre>\n"
      ],
      "text/plain": [
       "\n"
      ]
     },
     "metadata": {},
     "output_type": "display_data"
    },
    {
     "data": {
      "text/html": [
       "<pre style=\"white-space:pre;overflow-x:auto;line-height:normal;font-family:Menlo,'DejaVu Sans Mono',consolas,'Courier New',monospace\">i:<span style=\"color: #008080; text-decoration-color: #008080; font-weight: bold\">4</span>\n",
       "</pre>\n"
      ],
      "text/plain": [
       "i:\u001b[1;36m4\u001b[0m\n"
      ]
     },
     "metadata": {},
     "output_type": "display_data"
    },
    {
     "data": {
      "text/html": [
       "<pre style=\"white-space:pre;overflow-x:auto;line-height:normal;font-family:Menlo,'DejaVu Sans Mono',consolas,'Courier New',monospace\">RerankResult<span style=\"font-weight: bold\">&lt;</span><span style=\"color: #ff00ff; text-decoration-color: #ff00ff; font-weight: bold\">document</span><span style=\"color: #000000; text-decoration-color: #000000; font-weight: bold\">[</span><span style=\"color: #008000; text-decoration-color: #008000\">'text'</span><span style=\"color: #000000; text-decoration-color: #000000; font-weight: bold\">]</span><span style=\"color: #000000; text-decoration-color: #000000\">: Bol came from a family of extraordinarily tall men and women. He said: </span><span style=\"color: #008000; text-decoration-color: #008000\">\"My mother </span>\n",
       "<span style=\"color: #008000; text-decoration-color: #008000\">was , my father , and my sister is . And my great-grandfather was even taller—.\"</span><span style=\"color: #000000; text-decoration-color: #000000\"> His ethnic group, the Dinka, and </span>\n",
       "<span style=\"color: #000000; text-decoration-color: #000000\">the Nilotic people of which they are a part, are among the tallest populations in the world. Bol's hometown, </span>\n",
       "<span style=\"color: #000000; text-decoration-color: #000000\">Turalei, is the origin of other exceptionally tall people, including basketball player Ring Ayuel. </span><span style=\"color: #008000; text-decoration-color: #008000\">\"I was born in a</span>\n",
       "<span style=\"color: #008000; text-decoration-color: #008000\">village, where you cannot measure yourself,\"</span><span style=\"color: #000000; text-decoration-color: #000000\"> Bol reflected. </span><span style=\"color: #008000; text-decoration-color: #008000\">\"I learned I was 7 foot 7 in 1979, when I was grown. I </span>\n",
       "<span style=\"color: #008000; text-decoration-color: #008000\">was about 18 or 19.\"</span><span style=\"color: #000000; text-decoration-color: #000000\">, index: </span><span style=\"color: #008080; text-decoration-color: #008080; font-weight: bold\">1</span><span style=\"color: #000000; text-decoration-color: #000000\">, relevance_score: </span><span style=\"color: #008080; text-decoration-color: #008080; font-weight: bold\">0.6396235</span><span style=\"font-weight: bold\">&gt;</span>\n",
       "</pre>\n"
      ],
      "text/plain": [
       "RerankResult\u001b[1m<\u001b[0m\u001b[1;95mdocument\u001b[0m\u001b[1;39m[\u001b[0m\u001b[32m'text'\u001b[0m\u001b[1;39m]\u001b[0m\u001b[39m: Bol came from a family of extraordinarily tall men and women. He said: \u001b[0m\u001b[32m\"My mother \u001b[0m\n",
       "\u001b[32mwas , my father , and my sister is . And my great-grandfather was even taller—.\"\u001b[0m\u001b[39m His ethnic group, the Dinka, and \u001b[0m\n",
       "\u001b[39mthe Nilotic people of which they are a part, are among the tallest populations in the world. Bol's hometown, \u001b[0m\n",
       "\u001b[39mTuralei, is the origin of other exceptionally tall people, including basketball player Ring Ayuel. \u001b[0m\u001b[32m\"I was born in a\u001b[0m\n",
       "\u001b[32mvillage, where you cannot measure yourself,\"\u001b[0m\u001b[39m Bol reflected. \u001b[0m\u001b[32m\"I learned I was 7 foot 7 in 1979, when I was grown. I \u001b[0m\n",
       "\u001b[32mwas about 18 or 19.\"\u001b[0m\u001b[39m, index: \u001b[0m\u001b[1;36m1\u001b[0m\u001b[39m, relevance_score: \u001b[0m\u001b[1;36m0.6396235\u001b[0m\u001b[1m>\u001b[0m\n"
      ]
     },
     "metadata": {},
     "output_type": "display_data"
    },
    {
     "data": {
      "text/html": [
       "<pre style=\"white-space:pre;overflow-x:auto;line-height:normal;font-family:Menlo,'DejaVu Sans Mono',consolas,'Courier New',monospace\">\n",
       "</pre>\n"
      ],
      "text/plain": [
       "\n"
      ]
     },
     "metadata": {},
     "output_type": "display_data"
    }
   ],
   "source": [
    "texts = [result.get('text') for result in results]\n",
    "reranked_text = rerank_responses(query_2, texts)\n",
    "for i, rerank_result in enumerate(reranked_text):\n",
    "    print(f\"i:{i}\")\n",
    "    print(f\"{rerank_result}\")\n",
    "    print()\n"
   ]
  },
  {
   "cell_type": "markdown",
   "metadata": {},
   "source": [
    "# Generating Answers"
   ]
  },
  {
   "cell_type": "code",
   "execution_count": 17,
   "metadata": {},
   "outputs": [],
   "source": [
    "question = \"Are side projects important when you are starting to learn about AI?\"\n",
    "\n",
    "# sample text form Andrew NG newsletter\n",
    "text = \"\"\"\n",
    "The rapid rise of AI has led to a rapid rise in AI jobs, and many people are building exciting careers in this field. A career is a decades-long journey, and the path is not always straightforward. Over many years, I’ve been privileged to see thousands of students as well as engineers in companies large and small navigate careers in AI. In this and the next few letters, I’d like to share a few thoughts that might be useful in charting your own course.\n",
    "\n",
    "Three key steps of career growth are learning (to gain technical and other skills), working on projects (to deepen skills, build a portfolio, and create impact) and searching for a job. These steps stack on top of each other:\n",
    "\n",
    "Initially, you focus on gaining foundational technical skills.\n",
    "After having gained foundational skills, you lean into project work. During this period, you’ll probably keep learning.\n",
    "Later, you might occasionally carry out a job search. Throughout this process, you’ll probably continue to learn and work on meaningful projects.\n",
    "These phases apply in a wide range of professions, but AI involves unique elements. For example:\n",
    "\n",
    "AI is nascent, and many technologies are still evolving. While the foundations of machine learning and deep learning are maturing — and coursework is an efficient way to master them — beyond these foundations, keeping up-to-date with changing technology is more important in AI than fields that are more mature.\n",
    "Project work often means working with stakeholders who lack expertise in AI. This can make it challenging to find a suitable project, estimate the project’s timeline and return on investment, and set expectations. In addition, the highly iterative nature of AI projects leads to special challenges in project management: How can you come up with a plan for building a system when you don’t know in advance how long it will take to achieve the target accuracy? Even after the system has hit the target, further iteration may be necessary to address post-deployment drift.\n",
    "While searching for a job in AI can be similar to searching for a job in other sectors, there are some differences. Many companies are still trying to figure out which AI skills they need and how to hire people who have them. Things you’ve worked on may be significantly different than anything your interviewer has seen, and you’re more likely to have to educate potential employers about some elements of your work.\n",
    "Throughout these steps, a supportive community is a big help. Having a group of friends and allies who can help you — and whom you strive to help — makes the path easier. This is true whether you’re taking your first steps or you’ve been on the journey for years.\n",
    "\n",
    "I’m excited to work with all of you to grow the global AI community, and that includes helping everyone in our community develop their careers. I’ll dive more deeply into these topics in the next few weeks.\n",
    "\n",
    "Last week, I wrote about key steps for building a career in AI: learning technical skills, doing project work, and searching for a job, all of which is supported by being part of a community. In this letter, I’d like to dive more deeply into the first step.\n",
    "\n",
    "More papers have been published on AI than any person can read in a lifetime. So, in your efforts to learn, it’s critical to prioritize topic selection. I believe the most important topics for a technical career in machine learning are:\n",
    "\n",
    "Foundational machine learning skills. For example, it’s important to understand models such as linear regression, logistic regression, neural networks, decision trees, clustering, and anomaly detection. Beyond specific models, it’s even more important to understand the core concepts behind how and why machine learning works, such as bias/variance, cost functions, regularization, optimization algorithms, and error analysis.\n",
    "Deep learning. This has become such a large fraction of machine learning that it’s hard to excel in the field without some understanding of it! It’s valuable to know the basics of neural networks, practical skills for making them work (such as hyperparameter tuning), convolutional networks, sequence models, and transformers.\n",
    "Math relevant to machine learning. Key areas include linear algebra (vectors, matrices, and various manipulations of them) as well as probability and statistics (including discrete and continuous probability, standard probability distributions, basic rules such as independence and Bayes rule, and hypothesis testing). In addition, exploratory data analysis (EDA) — using visualizations and other methods to systematically explore a dataset — is an underrated skill. I’ve found EDA particularly useful in data-centric AI development, where analyzing errors and gaining insights can really help drive progress! Finally, a basic intuitive understanding of calculus will also help. In a previous letter, I described how the math needed to do machine learning well has been changing. For instance, although some tasks require calculus, improved automatic differentiation software makes it possible to invent and implement new neural network architectures without doing any calculus. This was almost impossible a decade ago.\n",
    "Software development. While you can get a job and make huge contributions with only machine learning modeling skills, your job opportunities will increase if you can also write good software to implement complex AI systems. These skills include programming fundamentals, data structures (especially those that relate to machine learning, such as data frames), algorithms (including those related to databases and data manipulation), software design, familiarity with Python, and familiarity with key libraries such as TensorFlow or PyTorch, and scikit-learn.\n",
    "This is a lot to learn! Even after you master everything in this list, I hope you’ll keep learning and continue to deepen your technical knowledge. I’ve known many machine learning engineers who benefitted from deeper skills in an application area such as natural language processing or computer vision, or in a technology area such as probabilistic graphical models or building scalable software systems.\n",
    "\n",
    "How do you gain these skills? There’s a lot of good content on the internet, and in theory reading dozens of web pages could work. But when the goal is deep understanding, reading disjointed web pages is inefficient because they tend to repeat each other, use inconsistent terminology (which slows you down), vary in quality, and leave gaps. That’s why a good course — in which a body of material has been organized into a coherent and logical form — is often the most time-efficient way to master a meaningful body of knowledge. When you’ve absorbed the knowledge available in courses, you can switch over to research papers and other resources.\n",
    "\n",
    "Finally, keep in mind that no one can cram everything they need to know over a weekend or even a month. Everyone I know who’s great at machine learning is a lifelong learner. In fact, given how quickly our field is changing, there’s little choice but to keep learning if you want to keep up. How can you maintain a steady pace of learning for years? I’ve written about the value of habits. If you cultivate the habit of learning a little bit every week, you can make significant progress with what feels like less effort.\n",
    "\n",
    "In the last two letters, I wrote about developing a career in AI and shared tips for gaining technical skills. This time, I’d like to discuss an important step in building a career: project work.\n",
    "\n",
    "It goes without saying that we should only work on projects that are responsible and ethical, and that benefit people. But those limits leave a large variety to choose from. I wrote previously about how to identify and scope AI projects. This and next week’s letter have a different emphasis: picking and executing projects with an eye toward career development.\n",
    "\n",
    "A fruitful career will include many projects, hopefully growing in scope, complexity, and impact over time. Thus, it is fine to start small. Use early projects to learn and gradually step up to bigger projects as your skills grow.\n",
    "\n",
    "When you’re starting out, don’t expect others to hand great ideas or resources to you on a platter. Many people start by working on small projects in their spare time. With initial successes — even small ones — under your belt, your growing skills increase your ability to come up with better ideas, and it becomes easier to persuade others to help you step up to bigger projects.\n",
    "\n",
    "What if you don’t have any project ideas? Here are a few ways to generate them:\n",
    "\n",
    "Join existing projects. If you find someone else with an idea, ask to join their project.\n",
    "Keep reading and talking to people. I come up with new ideas whenever I spend a lot of time reading, taking courses, or talking with domain experts. I’m confident that you will, too.\n",
    "Focus on an application area. Many researchers are trying to advance basic AI technology — say, by inventing the next generation of transformers or further scaling up language models — so, while this is an exciting direction, it is hard. But the variety of applications to which machine learning has not yet been applied is vast! I’m fortunate to have been able to apply neural networks to everything from autonomous helicopter flight to online advertising, partly because I jumped in when relatively few people were working on those applications. If your company or school cares about a particular application, explore the possibilities for machine learning. That can give you a first look at a potentially creative application — one where you can do unique work — that no one else has done yet.\n",
    "Develop a side hustle. Even if you have a full-time job, a fun project that may or may not develop into something bigger can stir the creative juices and strengthen bonds with collaborators. When I was a full-time professor, working on online education wasn’t part of my “job” (which was doing research and teaching classes). It was a fun hobby that I often worked on out of passion for education. My early experiences recording videos at home helped me later in working on online education in a more substantive way. Silicon Valley abounds with stories of startups that started as side projects. So long as it doesn’t create a conflict with your employer, these projects can be a stepping stone to something significant.\n",
    "Given a few project ideas, which one should you jump into? Here’s a quick checklist of factors to consider:\n",
    "\n",
    "Will the project help you grow technically? Ideally, it should be challenging enough to stretch your skills but not so hard that you have little chance of success. This will put you on a path toward mastering ever-greater technical complexity.\n",
    "Do you have good teammates to work with? If not, are there people you can discuss things with? We learn a lot from the people around us, and good collaborators will have a huge impact on your growth.\n",
    "Can it be a stepping stone? If the project is successful, will its technical complexity and/or business impact make it a meaningful stepping stone to larger projects? (If the project is bigger than those you’ve worked on before, there’s a good chance it could be such a stepping stone.)\n",
    "Finally, avoid analysis paralysis. It doesn’t make sense to spend a month deciding whether to work on a project that would take a week to complete. You'll work on multiple projects over the course of your career, so you’ll have ample opportunity to refine your thinking on what’s worthwhile. Given the huge number of possible AI projects, rather than the conventional “ready, aim, fire” approach, you can accelerate your progress with “ready, fire, aim.”\n",
    "\n",
    "\"\"\"\n"
   ]
  },
  {
   "cell_type": "code",
   "execution_count": 18,
   "metadata": {},
   "outputs": [],
   "source": [
    "import warnings\n",
    "warnings.filterwarnings('ignore')\n"
   ]
  },
  {
   "cell_type": "markdown",
   "metadata": {},
   "source": [
    "## Chunking"
   ]
  },
  {
   "cell_type": "code",
   "execution_count": 19,
   "metadata": {},
   "outputs": [],
   "source": [
    "# chunking\n",
    "# Split into a list of paragraphs\n",
    "texts = text.split('\\n\\n')\n",
    "\n",
    "# Clean up to remove empty spaces and new lines\n",
    "texts = np.array([t.strip(' \\n') for t in texts if t])\n"
   ]
  },
  {
   "cell_type": "code",
   "execution_count": 20,
   "metadata": {},
   "outputs": [
    {
     "data": {
      "text/html": [
       "<pre style=\"white-space:pre;overflow-x:auto;line-height:normal;font-family:Menlo,'DejaVu Sans Mono',consolas,'Courier New',monospace\"><span style=\"font-weight: bold\">[</span><span style=\"color: #008000; text-decoration-color: #008000\">'The rapid rise of AI has led to a rapid rise in AI jobs, and many people are building exciting careers in this </span>\n",
       "<span style=\"color: #008000; text-decoration-color: #008000\">field. A career is a decades-long journey, and the path is not always straightforward. Over many years, I’ve been </span>\n",
       "<span style=\"color: #008000; text-decoration-color: #008000\">privileged to see thousands of students as well as engineers in companies large and small navigate careers in AI. </span>\n",
       "<span style=\"color: #008000; text-decoration-color: #008000\">In this and the next few letters, I’d like to share a few thoughts that might be useful in charting your own </span>\n",
       "<span style=\"color: #008000; text-decoration-color: #008000\">course.'</span>\n",
       " <span style=\"color: #008000; text-decoration-color: #008000\">'Three key steps of career growth are learning (to gain technical and other skills), working on projects (to </span>\n",
       "<span style=\"color: #008000; text-decoration-color: #008000\">deepen skills, build a portfolio, and create impact) and searching for a job. These steps stack on top of each </span>\n",
       "<span style=\"color: #008000; text-decoration-color: #008000\">other:'</span><span style=\"font-weight: bold\">]</span>\n",
       "</pre>\n"
      ],
      "text/plain": [
       "\u001b[1m[\u001b[0m\u001b[32m'The rapid rise of AI has led to a rapid rise in AI jobs, and many people are building exciting careers in this \u001b[0m\n",
       "\u001b[32mfield. A career is a decades-long journey, and the path is not always straightforward. Over many years, I’ve been \u001b[0m\n",
       "\u001b[32mprivileged to see thousands of students as well as engineers in companies large and small navigate careers in AI. \u001b[0m\n",
       "\u001b[32mIn this and the next few letters, I’d like to share a few thoughts that might be useful in charting your own \u001b[0m\n",
       "\u001b[32mcourse.'\u001b[0m\n",
       " \u001b[32m'Three key steps of career growth are learning \u001b[0m\u001b[32m(\u001b[0m\u001b[32mto gain technical and other skills\u001b[0m\u001b[32m)\u001b[0m\u001b[32m, working on projects \u001b[0m\u001b[32m(\u001b[0m\u001b[32mto \u001b[0m\n",
       "\u001b[32mdeepen skills, build a portfolio, and create impact\u001b[0m\u001b[32m)\u001b[0m\u001b[32m and searching for a job. These steps stack on top of each \u001b[0m\n",
       "\u001b[32mother:'\u001b[0m\u001b[1m]\u001b[0m\n"
      ]
     },
     "metadata": {},
     "output_type": "display_data"
    }
   ],
   "source": [
    "print(texts[0:2])\n"
   ]
  },
  {
   "cell_type": "markdown",
   "metadata": {},
   "source": [
    "## embeddings"
   ]
  },
  {
   "cell_type": "code",
   "execution_count": 23,
   "metadata": {},
   "outputs": [
    {
     "name": "stderr",
     "output_type": "stream",
     "text": [
      "default model on embed will be deprecated in the future, please specify a model in the request.\n"
     ]
    }
   ],
   "source": [
    "# Get the embeddings\n",
    "response = co.embed(\n",
    "    texts=texts.tolist(),\n",
    ").embeddings\n",
    "\n",
    "# Check the dimensions of the embeddings\n",
    "embeds = np.array(response)\n"
   ]
  },
  {
   "cell_type": "code",
   "execution_count": 24,
   "metadata": {},
   "outputs": [
    {
     "data": {
      "text/html": [
       "<pre style=\"white-space:pre;overflow-x:auto;line-height:normal;font-family:Menlo,'DejaVu Sans Mono',consolas,'Courier New',monospace\"><span style=\"color: #00ff00; text-decoration-color: #00ff00; font-style: italic\">True</span>\n",
       "</pre>\n"
      ],
      "text/plain": [
       "\u001b[3;92mTrue\u001b[0m\n"
      ]
     },
     "metadata": {},
     "output_type": "display_data"
    }
   ],
   "source": [
    "# create a search index after getting the embeddings\n",
    "search_index = AnnoyIndex(embeds.shape[1], 'angular')\n",
    "# Add all the vectors to the search index\n",
    "for i in range(len(embeds)):\n",
    "    search_index.add_item(i, embeds[i])\n",
    "search_index.build(10) # 10 trees\n",
    "search_index.save('test_andrewNG.ann')\n"
   ]
  },
  {
   "cell_type": "code",
   "execution_count": 25,
   "metadata": {},
   "outputs": [],
   "source": [
    "# search articles\n",
    "\n",
    "def search_andrews_article(query):\n",
    "    # Get the query's embedding\n",
    "    query_embed = co.embed(texts=[query]).embeddings\n",
    "\n",
    "    # Retrieve the nearest neighbors\n",
    "    similar_item_ids = search_index.get_nns_by_vector(query_embed[0],\n",
    "                                                    10,\n",
    "                                                  include_distances=True)\n",
    "\n",
    "    search_results = texts[similar_item_ids[0]]\n",
    "\n",
    "    return search_results\n"
   ]
  },
  {
   "cell_type": "code",
   "execution_count": 26,
   "metadata": {},
   "outputs": [
    {
     "name": "stderr",
     "output_type": "stream",
     "text": [
      "default model on embed will be deprecated in the future, please specify a model in the request.\n"
     ]
    },
    {
     "data": {
      "text/html": [
       "<pre style=\"white-space:pre;overflow-x:auto;line-height:normal;font-family:Menlo,'DejaVu Sans Mono',consolas,'Courier New',monospace\">Join existing projects. If you find someone else with an idea, ask to join their project.\n",
       "Keep reading and talking to people. I come up with new ideas whenever I spend a lot of time reading, taking \n",
       "courses, or talking with domain experts. I’m confident that you will, too.\n",
       "Focus on an application area. Many researchers are trying to advance basic AI technology — say, by inventing the \n",
       "next generation of transformers or further scaling up language models — so, while this is an exciting direction, it\n",
       "is hard. But the variety of applications to which machine learning has not yet been applied is vast! I’m fortunate \n",
       "to have been able to apply neural networks to everything from autonomous helicopter flight to online advertising, \n",
       "partly because I jumped in when relatively few people were working on those applications. If your company or school\n",
       "cares about a particular application, explore the possibilities for machine learning. That can give you a first \n",
       "look at a potentially creative application — one where you can do unique work — that no one else has done yet.\n",
       "Develop a side hustle. Even if you have a full-time job, a fun project that may or may not develop into something \n",
       "bigger can stir the creative juices and strengthen bonds with collaborators. When I was a full-time professor, \n",
       "working on online education wasn’t part of my “job” <span style=\"font-weight: bold\">(</span>which was doing research and teaching classes<span style=\"font-weight: bold\">)</span>. It was a fun \n",
       "hobby that I often worked on out of passion for education. My early experiences recording videos at home helped me \n",
       "later in working on online education in a more substantive way. Silicon Valley abounds with stories of startups \n",
       "that started as side projects. So long as it doesn’t create a conflict with your employer, these projects can be a \n",
       "stepping stone to something significant.\n",
       "Given a few project ideas, which one should you jump into? Here’s a quick checklist of factors to consider:\n",
       "</pre>\n"
      ],
      "text/plain": [
       "Join existing projects. If you find someone else with an idea, ask to join their project.\n",
       "Keep reading and talking to people. I come up with new ideas whenever I spend a lot of time reading, taking \n",
       "courses, or talking with domain experts. I’m confident that you will, too.\n",
       "Focus on an application area. Many researchers are trying to advance basic AI technology — say, by inventing the \n",
       "next generation of transformers or further scaling up language models — so, while this is an exciting direction, it\n",
       "is hard. But the variety of applications to which machine learning has not yet been applied is vast! I’m fortunate \n",
       "to have been able to apply neural networks to everything from autonomous helicopter flight to online advertising, \n",
       "partly because I jumped in when relatively few people were working on those applications. If your company or school\n",
       "cares about a particular application, explore the possibilities for machine learning. That can give you a first \n",
       "look at a potentially creative application — one where you can do unique work — that no one else has done yet.\n",
       "Develop a side hustle. Even if you have a full-time job, a fun project that may or may not develop into something \n",
       "bigger can stir the creative juices and strengthen bonds with collaborators. When I was a full-time professor, \n",
       "working on online education wasn’t part of my “job” \u001b[1m(\u001b[0mwhich was doing research and teaching classes\u001b[1m)\u001b[0m. It was a fun \n",
       "hobby that I often worked on out of passion for education. My early experiences recording videos at home helped me \n",
       "later in working on online education in a more substantive way. Silicon Valley abounds with stories of startups \n",
       "that started as side projects. So long as it doesn’t create a conflict with your employer, these projects can be a \n",
       "stepping stone to something significant.\n",
       "Given a few project ideas, which one should you jump into? Here’s a quick checklist of factors to consider:\n"
      ]
     },
     "metadata": {},
     "output_type": "display_data"
    }
   ],
   "source": [
    "results = search_andrews_article(\n",
    "    \"Are side projects a good idea when trying to build a career in AI?\"\n",
    ")\n",
    "\n",
    "print(results[0])\n"
   ]
  },
  {
   "cell_type": "code",
   "execution_count": 27,
   "metadata": {},
   "outputs": [],
   "source": [
    "# Generating Answers\n",
    "\n",
    "def ask_andrews_article(question, num_generations=1):\n",
    "\n",
    "    # Search the text archive\n",
    "    results = search_andrews_article(question)\n",
    "\n",
    "    # Get the top result\n",
    "    context = results[0]\n",
    "\n",
    "    # Prepare the prompt\n",
    "    prompt = f\"\"\"\n",
    "    Excerpt from the article titled \"How to Build a Career in AI\"\n",
    "    by Andrew Ng:\n",
    "    {context}\n",
    "    Question: {question}\n",
    "\n",
    "    Extract the answer of the question from the text provided.\n",
    "    If the text doesn't contain the answer,\n",
    "    reply that the answer is not available.\"\"\"\n",
    "\n",
    "    prediction = co.generate(\n",
    "        prompt=prompt,\n",
    "        max_tokens=70,\n",
    "        model=\"command-nightly\",\n",
    "        temperature=0.5,\n",
    "        num_generations=num_generations\n",
    "    )\n",
    "\n",
    "    return prediction.generations\n"
   ]
  },
  {
   "cell_type": "code",
   "execution_count": 28,
   "metadata": {},
   "outputs": [
    {
     "name": "stderr",
     "output_type": "stream",
     "text": [
      "default model on embed will be deprecated in the future, please specify a model in the request.\n"
     ]
    },
    {
     "data": {
      "text/html": [
       "<pre style=\"white-space:pre;overflow-x:auto;line-height:normal;font-family:Menlo,'DejaVu Sans Mono',consolas,'Courier New',monospace\"> Yes, side projects are a good idea when trying to build a career in AI as it allows you to strengthen bonds with \n",
       "collaborators and stir up creativity. Having a side hustle will also allow you to apply AI to a variety of \n",
       "different applications and explore new possibilities with machine learning. \n",
       "</pre>\n"
      ],
      "text/plain": [
       " Yes, side projects are a good idea when trying to build a career in AI as it allows you to strengthen bonds with \n",
       "collaborators and stir up creativity. Having a side hustle will also allow you to apply AI to a variety of \n",
       "different applications and explore new possibilities with machine learning. \n"
      ]
     },
     "metadata": {},
     "output_type": "display_data"
    }
   ],
   "source": [
    "results = ask_andrews_article(\n",
    "    \"Are side projects a good idea when trying to build a career in AI?\",\n",
    "\n",
    ")\n",
    "\n",
    "print(results[0])\n"
   ]
  },
  {
   "cell_type": "code",
   "execution_count": 29,
   "metadata": {},
   "outputs": [
    {
     "name": "stderr",
     "output_type": "stream",
     "text": [
      "default model on embed will be deprecated in the future, please specify a model in the request.\n"
     ]
    },
    {
     "data": {
      "text/html": [
       "<pre style=\"white-space:pre;overflow-x:auto;line-height:normal;font-family:Menlo,'DejaVu Sans Mono',consolas,'Courier New',monospace\"> Yes, side projects are a good idea when trying to build a career in AI as it allows you to strengthen your skills \n",
       "and knowledge in the field, work on an exciting idea, and establish meaningful connections with other professionals\n",
       "in the industry. It also provides the potential for future growth and opportunity, and Chancing upon new ideas and \n",
       "applications that may not have\n",
       "</pre>\n"
      ],
      "text/plain": [
       " Yes, side projects are a good idea when trying to build a career in AI as it allows you to strengthen your skills \n",
       "and knowledge in the field, work on an exciting idea, and establish meaningful connections with other professionals\n",
       "in the industry. It also provides the potential for future growth and opportunity, and Chancing upon new ideas and \n",
       "applications that may not have\n"
      ]
     },
     "metadata": {},
     "output_type": "display_data"
    },
    {
     "data": {
      "text/html": [
       "<pre style=\"white-space:pre;overflow-x:auto;line-height:normal;font-family:Menlo,'DejaVu Sans Mono',consolas,'Courier New',monospace\">--\n",
       "</pre>\n"
      ],
      "text/plain": [
       "--\n"
      ]
     },
     "metadata": {},
     "output_type": "display_data"
    },
    {
     "data": {
      "text/html": [
       "<pre style=\"white-space:pre;overflow-x:auto;line-height:normal;font-family:Menlo,'DejaVu Sans Mono',consolas,'Courier New',monospace\"> Yes, side projects are a good idea when trying to build a career in AI as it allows you to strengthen your skills \n",
       "and knowledge in the field, and can even lead to new opportunities and collaborations.\n",
       "</pre>\n"
      ],
      "text/plain": [
       " Yes, side projects are a good idea when trying to build a career in AI as it allows you to strengthen your skills \n",
       "and knowledge in the field, and can even lead to new opportunities and collaborations.\n"
      ]
     },
     "metadata": {},
     "output_type": "display_data"
    },
    {
     "data": {
      "text/html": [
       "<pre style=\"white-space:pre;overflow-x:auto;line-height:normal;font-family:Menlo,'DejaVu Sans Mono',consolas,'Courier New',monospace\">--\n",
       "</pre>\n"
      ],
      "text/plain": [
       "--\n"
      ]
     },
     "metadata": {},
     "output_type": "display_data"
    },
    {
     "data": {
      "text/html": [
       "<pre style=\"white-space:pre;overflow-x:auto;line-height:normal;font-family:Menlo,'DejaVu Sans Mono',consolas,'Courier New',monospace\"> Yes, side projects are a good idea when trying to build a career in AI as it allows you to strengthen bonds with \n",
       "collaborators and stir up creativity. Having a side hustle project, specifically in AI, can provide you with a \n",
       "competitive advantage in building a career in AI as it allows you to practice and apply the skills you have learned\n",
       "in a hands-\n",
       "</pre>\n"
      ],
      "text/plain": [
       " Yes, side projects are a good idea when trying to build a career in AI as it allows you to strengthen bonds with \n",
       "collaborators and stir up creativity. Having a side hustle project, specifically in AI, can provide you with a \n",
       "competitive advantage in building a career in AI as it allows you to practice and apply the skills you have learned\n",
       "in a hands-\n"
      ]
     },
     "metadata": {},
     "output_type": "display_data"
    },
    {
     "data": {
      "text/html": [
       "<pre style=\"white-space:pre;overflow-x:auto;line-height:normal;font-family:Menlo,'DejaVu Sans Mono',consolas,'Courier New',monospace\">--\n",
       "</pre>\n"
      ],
      "text/plain": [
       "--\n"
      ]
     },
     "metadata": {},
     "output_type": "display_data"
    }
   ],
   "source": [
    "results = ask_andrews_article(\n",
    "    \"Are side projects a good idea when trying to build a career in AI?\",\n",
    "    num_generations=3\n",
    ")\n",
    "\n",
    "for gen in results:\n",
    "    print(gen)\n",
    "    print('--')\n"
   ]
  },
  {
   "cell_type": "code",
   "execution_count": 30,
   "metadata": {},
   "outputs": [
    {
     "name": "stderr",
     "output_type": "stream",
     "text": [
      "default model on embed will be deprecated in the future, please specify a model in the request.\n"
     ]
    },
    {
     "data": {
      "text/html": [
       "<pre style=\"white-space:pre;overflow-x:auto;line-height:normal;font-family:Menlo,'DejaVu Sans Mono',consolas,'Courier New',monospace\"> The answer to the question <span style=\"color: #008000; text-decoration-color: #008000\">\"What is the most viewed televised event?\"</span> is not available in the provided text. \n",
       "</pre>\n"
      ],
      "text/plain": [
       " The answer to the question \u001b[32m\"What is the most viewed televised event?\"\u001b[0m is not available in the provided text. \n"
      ]
     },
     "metadata": {},
     "output_type": "display_data"
    },
    {
     "data": {
      "text/html": [
       "<pre style=\"white-space:pre;overflow-x:auto;line-height:normal;font-family:Menlo,'DejaVu Sans Mono',consolas,'Courier New',monospace\">--\n",
       "</pre>\n"
      ],
      "text/plain": [
       "--\n"
      ]
     },
     "metadata": {},
     "output_type": "display_data"
    },
    {
     "data": {
      "text/html": [
       "<pre style=\"white-space:pre;overflow-x:auto;line-height:normal;font-family:Menlo,'DejaVu Sans Mono',consolas,'Courier New',monospace\"> The answer to the question <span style=\"color: #008000; text-decoration-color: #008000\">\"What is the most viewed televised event?\"</span> is not available in the provided text. \n",
       "</pre>\n"
      ],
      "text/plain": [
       " The answer to the question \u001b[32m\"What is the most viewed televised event?\"\u001b[0m is not available in the provided text. \n"
      ]
     },
     "metadata": {},
     "output_type": "display_data"
    },
    {
     "data": {
      "text/html": [
       "<pre style=\"white-space:pre;overflow-x:auto;line-height:normal;font-family:Menlo,'DejaVu Sans Mono',consolas,'Courier New',monospace\">--\n",
       "</pre>\n"
      ],
      "text/plain": [
       "--\n"
      ]
     },
     "metadata": {},
     "output_type": "display_data"
    },
    {
     "data": {
      "text/html": [
       "<pre style=\"white-space:pre;overflow-x:auto;line-height:normal;font-family:Menlo,'DejaVu Sans Mono',consolas,'Courier New',monospace\"> The question posed in the provided text is <span style=\"color: #008000; text-decoration-color: #008000\">\"What is the most viewed televised event?\"</span>  Unfortunately, the text \n",
       "does not provide an answer to this question and therefore I cannot provide an answer to this question. \n",
       "</pre>\n"
      ],
      "text/plain": [
       " The question posed in the provided text is \u001b[32m\"What is the most viewed televised event?\"\u001b[0m  Unfortunately, the text \n",
       "does not provide an answer to this question and therefore I cannot provide an answer to this question. \n"
      ]
     },
     "metadata": {},
     "output_type": "display_data"
    },
    {
     "data": {
      "text/html": [
       "<pre style=\"white-space:pre;overflow-x:auto;line-height:normal;font-family:Menlo,'DejaVu Sans Mono',consolas,'Courier New',monospace\">--\n",
       "</pre>\n"
      ],
      "text/plain": [
       "--\n"
      ]
     },
     "metadata": {},
     "output_type": "display_data"
    },
    {
     "data": {
      "text/html": [
       "<pre style=\"white-space:pre;overflow-x:auto;line-height:normal;font-family:Menlo,'DejaVu Sans Mono',consolas,'Courier New',monospace\"> The answer to the question <span style=\"color: #008000; text-decoration-color: #008000\">\"What is the most viewed televised event?\"</span> is not available in the provided text. \n",
       "</pre>\n"
      ],
      "text/plain": [
       " The answer to the question \u001b[32m\"What is the most viewed televised event?\"\u001b[0m is not available in the provided text. \n"
      ]
     },
     "metadata": {},
     "output_type": "display_data"
    },
    {
     "data": {
      "text/html": [
       "<pre style=\"white-space:pre;overflow-x:auto;line-height:normal;font-family:Menlo,'DejaVu Sans Mono',consolas,'Courier New',monospace\">--\n",
       "</pre>\n"
      ],
      "text/plain": [
       "--\n"
      ]
     },
     "metadata": {},
     "output_type": "display_data"
    },
    {
     "data": {
      "text/html": [
       "<pre style=\"white-space:pre;overflow-x:auto;line-height:normal;font-family:Menlo,'DejaVu Sans Mono',consolas,'Courier New',monospace\"> The question you asked is not included in the excerpt from Andrew Ng's article that you provided; hence, I do not \n",
       "have an answer for you. \n",
       "\n",
       "I can provide answers to any other questions you may have regarding the excerpt, or any other safe and appropriate \n",
       "queries you propose. \n",
       "</pre>\n"
      ],
      "text/plain": [
       " The question you asked is not included in the excerpt from Andrew Ng's article that you provided; hence, I do not \n",
       "have an answer for you. \n",
       "\n",
       "I can provide answers to any other questions you may have regarding the excerpt, or any other safe and appropriate \n",
       "queries you propose. \n"
      ]
     },
     "metadata": {},
     "output_type": "display_data"
    },
    {
     "data": {
      "text/html": [
       "<pre style=\"white-space:pre;overflow-x:auto;line-height:normal;font-family:Menlo,'DejaVu Sans Mono',consolas,'Courier New',monospace\">--\n",
       "</pre>\n"
      ],
      "text/plain": [
       "--\n"
      ]
     },
     "metadata": {},
     "output_type": "display_data"
    }
   ],
   "source": [
    "results = ask_andrews_article(\n",
    "    \"What is the most viewed televised event?\",\n",
    "    num_generations=5\n",
    ")\n",
    "\n",
    "for gen in results:\n",
    "    print(gen)\n",
    "    print('--')\n"
   ]
  }
 ],
 "metadata": {
  "kernelspec": {
   "display_name": "Python 3",
   "language": "python",
   "name": "python3"
  },
  "language_info": {
   "codemirror_mode": {
    "name": "ipython",
    "version": 3
   },
   "file_extension": ".py",
   "mimetype": "text/x-python",
   "name": "python",
   "nbconvert_exporter": "python",
   "pygments_lexer": "ipython3",
   "version": "3.10.10"
  }
 },
 "nbformat": 4,
 "nbformat_minor": 2
}
