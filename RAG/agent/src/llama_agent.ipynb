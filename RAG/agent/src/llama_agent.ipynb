{
 "cells": [
  {
   "cell_type": "code",
   "execution_count": 1,
   "id": "initial_id",
   "metadata": {
    "collapsed": true,
    "ExecuteTime": {
     "end_time": "2024-02-19T04:20:20.777909Z",
     "start_time": "2024-02-19T04:20:17.416699Z"
    }
   },
   "outputs": [],
   "source": [
    "from dotenv import find_dotenv, load_dotenv\n",
    "load_dotenv(find_dotenv())\n",
    "import os\n",
    "import openai\n",
    "openai.api_key = os.getenv(\"OPENA_AI_KEY\")\n",
    "from pathlib import Path\n",
    "import pandas as pd\n",
    "\n",
    "from llama_index.core.query_engine import PandasQueryEngine\n",
    "from prompt import new_prompt, instruction_str, context\n",
    "\n",
    "from RAG.agent.src.prompt import context\n",
    "from llama_index.core.agent import ReActAgent\n",
    "from llama_index.llms.openai import OpenAI\n",
    "from llama_index.core.tools import QueryEngineTool, ToolMetadata\n",
    "from note_engine import note_engine\n",
    "from RAG.agent.src.load_index import canada_engine"
   ]
  },
  {
   "cell_type": "markdown",
   "source": [],
   "metadata": {
    "collapsed": false
   },
   "id": "a93ed3bd58530696"
  },
  {
   "cell_type": "code",
   "outputs": [
    {
     "data": {
      "text/plain": "   Rank         Country  Population2023 YearlyChange  NetChange  \\\n0    36     Afghanistan        42239854       2.70 %    1111083   \n1   138         Albania         2832439      -0.35 %      -9882   \n2    34         Algeria        45606480       1.57 %     703255   \n3   212  American Samoa           43914      -0.81 %       -359   \n4   202         Andorra           80088       0.33 %        264   \n\n   Density(P/Km²)  Land Area(Km²)  Migrants(net)  Fert.Rate  MedianAge  \\\n0              65          652860         -65846        4.4       17.0   \n1             103           27400          -8000        1.4       38.0   \n2              19         2381740          -9999        2.8       28.0   \n3             220             200           -790        2.2       29.0   \n4             170             470            200        1.1       43.0   \n\n  UrbanPop% WorldShare  \n0      26 %     0.53 %  \n1      67 %     0.04 %  \n2      75 %     0.57 %  \n3      N.A.     0.00 %  \n4      85 %     0.00 %  ",
      "text/html": "<div>\n<style scoped>\n    .dataframe tbody tr th:only-of-type {\n        vertical-align: middle;\n    }\n\n    .dataframe tbody tr th {\n        vertical-align: top;\n    }\n\n    .dataframe thead th {\n        text-align: right;\n    }\n</style>\n<table border=\"1\" class=\"dataframe\">\n  <thead>\n    <tr style=\"text-align: right;\">\n      <th></th>\n      <th>Rank</th>\n      <th>Country</th>\n      <th>Population2023</th>\n      <th>YearlyChange</th>\n      <th>NetChange</th>\n      <th>Density(P/Km²)</th>\n      <th>Land Area(Km²)</th>\n      <th>Migrants(net)</th>\n      <th>Fert.Rate</th>\n      <th>MedianAge</th>\n      <th>UrbanPop%</th>\n      <th>WorldShare</th>\n    </tr>\n  </thead>\n  <tbody>\n    <tr>\n      <th>0</th>\n      <td>36</td>\n      <td>Afghanistan</td>\n      <td>42239854</td>\n      <td>2.70 %</td>\n      <td>1111083</td>\n      <td>65</td>\n      <td>652860</td>\n      <td>-65846</td>\n      <td>4.4</td>\n      <td>17.0</td>\n      <td>26 %</td>\n      <td>0.53 %</td>\n    </tr>\n    <tr>\n      <th>1</th>\n      <td>138</td>\n      <td>Albania</td>\n      <td>2832439</td>\n      <td>-0.35 %</td>\n      <td>-9882</td>\n      <td>103</td>\n      <td>27400</td>\n      <td>-8000</td>\n      <td>1.4</td>\n      <td>38.0</td>\n      <td>67 %</td>\n      <td>0.04 %</td>\n    </tr>\n    <tr>\n      <th>2</th>\n      <td>34</td>\n      <td>Algeria</td>\n      <td>45606480</td>\n      <td>1.57 %</td>\n      <td>703255</td>\n      <td>19</td>\n      <td>2381740</td>\n      <td>-9999</td>\n      <td>2.8</td>\n      <td>28.0</td>\n      <td>75 %</td>\n      <td>0.57 %</td>\n    </tr>\n    <tr>\n      <th>3</th>\n      <td>212</td>\n      <td>American Samoa</td>\n      <td>43914</td>\n      <td>-0.81 %</td>\n      <td>-359</td>\n      <td>220</td>\n      <td>200</td>\n      <td>-790</td>\n      <td>2.2</td>\n      <td>29.0</td>\n      <td>N.A.</td>\n      <td>0.00 %</td>\n    </tr>\n    <tr>\n      <th>4</th>\n      <td>202</td>\n      <td>Andorra</td>\n      <td>80088</td>\n      <td>0.33 %</td>\n      <td>264</td>\n      <td>170</td>\n      <td>470</td>\n      <td>200</td>\n      <td>1.1</td>\n      <td>43.0</td>\n      <td>85 %</td>\n      <td>0.00 %</td>\n    </tr>\n  </tbody>\n</table>\n</div>"
     },
     "execution_count": 2,
     "metadata": {},
     "output_type": "execute_result"
    }
   ],
   "source": [
    "filepath = Path.joinpath(Path.cwd().parent, 'agent_data', 'WorldPopulation2023.csv')\n",
    "population = pd.read_csv(filepath)\n",
    "population.head()"
   ],
   "metadata": {
    "collapsed": false,
    "ExecuteTime": {
     "end_time": "2024-02-19T04:20:33.876647Z",
     "start_time": "2024-02-19T04:20:33.864395Z"
    }
   },
   "id": "865e6a653ea62d8b",
   "execution_count": 2
  },
  {
   "cell_type": "code",
   "outputs": [
    {
     "name": "stdout",
     "output_type": "stream",
     "text": [
      "> Pandas Instructions:\n",
      "```\n",
      "df[df['Country'] == 'Canada']['Population2023'].values[0]\n",
      "```\n",
      "> Pandas Output: 38781291\n"
     ]
    },
    {
     "data": {
      "text/plain": "Response(response='38781291', source_nodes=[], metadata={'pandas_instruction_str': \"df[df['Country'] == 'Canada']['Population2023'].values[0]\", 'raw_pandas_output': '38781291'})"
     },
     "execution_count": 3,
     "metadata": {},
     "output_type": "execute_result"
    }
   ],
   "source": [
    "population_query_engine = PandasQueryEngine(population, verbose=True)\n",
    "population_query_engine.update_prompts({\"pandas_prompt\": new_prompt})\n",
    "query_string = \"What is the population of the Canada in 2023?\"\n",
    "population_query_engine.query(query_string)"
   ],
   "metadata": {
    "collapsed": false,
    "ExecuteTime": {
     "end_time": "2024-02-19T04:20:40.731837Z",
     "start_time": "2024-02-19T04:20:39.843999Z"
    }
   },
   "id": "9aa05b7df7637d91",
   "execution_count": 3
  },
  {
   "cell_type": "code",
   "outputs": [],
   "source": [
    "tools = [\n",
    "    note_engine,\n",
    "    QueryEngineTool(\n",
    "        query_engine=population_query_engine,\n",
    "        metadata=ToolMetadata(\n",
    "            name=\"population_data\",\n",
    "            description=\"this gives information at the world population and demographics\",\n",
    "        ),\n",
    "    ),\n",
    "    QueryEngineTool(\n",
    "        query_engine=canada_engine,\n",
    "        metadata=ToolMetadata(\n",
    "            name=\"canada_data\",\n",
    "            description=\"this gives detailed information about canada the country\",\n",
    "        ),\n",
    "    ),\n",
    "]\n",
    "\n",
    "llm = OpenAI(model=\"gpt-3.5-turbo-0613\")\n",
    "agent = ReActAgent.from_tools(tools, llm=llm, verbose=True, context=context)"
   ],
   "metadata": {
    "collapsed": false,
    "ExecuteTime": {
     "end_time": "2024-02-19T04:21:24.726101Z",
     "start_time": "2024-02-19T04:21:24.724034Z"
    }
   },
   "id": "e6d66ddfc1ec66b4",
   "execution_count": 4
  },
  {
   "cell_type": "code",
   "outputs": [
    {
     "name": "stdout",
     "output_type": "stream",
     "text": [
      "\u001B[1;3;38;5;200mThought: I can use the \"canada_data\" tool to get the information about the capital of Canada.\n",
      "Action: canada_data\n",
      "Action Input: {'input': 'capital'}\n",
      "\u001B[0m\u001B[1;3;34mObservation: Ottawa\n",
      "\u001B[0m\u001B[1;3;38;5;200mThought: I can answer without using any more tools.\n",
      "Answer: The capital of Canada is Ottawa.\n",
      "\u001B[0mThe capital of Canada is Ottawa.\n",
      "\u001B[1;3;38;5;200mThought: I can use the \"canada_data\" tool to find the number of languages spoken in Canada.\n",
      "Action: canada_data\n",
      "Action Input: {'input': 'languages'}\n",
      "\u001B[0m\u001B[1;3;34mObservation: Approximately 98% of Canadians can speak either or both English and French. English is spoken by 57% of Canadians, French by 21%, and 16% can speak both languages. Additionally, a variety of non-official languages are spoken by Canadians, with Mandarin, Punjabi, Cantonese, Spanish, Arabic, Tagalog, Italian, German, and Tamil being some of the most common non-official first languages listed in the 2021 census.\n",
      "\u001B[0m\u001B[1;3;38;5;200mThought: I have obtained the information about the languages spoken in Canada.\n",
      "Answer: In Canada, English and French are the official languages. However, there are also many non-official languages spoken, with Mandarin, Punjabi, Cantonese, Spanish, Arabic, Tagalog, Italian, German, and Tamil being some of the most common non-official languages spoken by Canadians.\n",
      "\u001B[0mIn Canada, English and French are the official languages. However, there are also many non-official languages spoken, with Mandarin, Punjabi, Cantonese, Spanish, Arabic, Tagalog, Italian, German, and Tamil being some of the most common non-official languages spoken by Canadians.\n"
     ]
    }
   ],
   "source": [
    "while (prompt := input(\"Enter a prompt (q to quit): \")) != \"q\":\n",
    "    result = agent.query(prompt)\n",
    "    print(result)"
   ],
   "metadata": {
    "collapsed": false,
    "ExecuteTime": {
     "end_time": "2024-02-19T04:22:10.297755Z",
     "start_time": "2024-02-19T04:21:28.766092Z"
    }
   },
   "id": "fed3b927c5598bb7",
   "execution_count": 5
  },
  {
   "cell_type": "code",
   "outputs": [
    {
     "data": {
      "text/plain": "Response(response=\"It is estimated that Canada's population surpassed 40,000,000 in 2023.\", source_nodes=[NodeWithScore(node=TextNode(id_='1e3969b9-cf72-4315-85cd-59e0bd9f078b', embedding=None, metadata={'page_label': '15', 'file_name': '/Users/hamidadesokan/Dropbox/2_Skill_Development/DLML/genai_applications/embeddings/RAG/agent/agent_data/Canada.pdf'}, excluded_embed_metadata_keys=[], excluded_llm_metadata_keys=[], relationships={<NodeRelationship.SOURCE: '1'>: RelatedNodeInfo(node_id='4daca020-6492-4b39-88c8-355006225013', node_type=<ObjectType.DOCUMENT: '4'>, metadata={'page_label': '15', 'file_name': '/Users/hamidadesokan/Dropbox/2_Skill_Development/DLML/genai_applications/embeddings/RAG/agent/agent_data/Canada.pdf'}, hash='aa26ea19234884268796584283178c0f114f40ca24d3c03f16ca3686d9551216'), <NodeRelationship.PREVIOUS: '2'>: RelatedNodeInfo(node_id='2f1f499f-f943-4d38-8c67-9120dfa68ac4', node_type=<ObjectType.TEXT: '1'>, metadata={'page_label': '14', 'file_name': '/Users/hamidadesokan/Dropbox/2_Skill_Development/DLML/genai_applications/embeddings/RAG/agent/agent_data/Canada.pdf'}, hash='833bd2dd5be8e22ca32bc8d4759c54695e271c38cac445ea9113ebc74165b4f4'), <NodeRelationship.NEXT: '3'>: RelatedNodeInfo(node_id='90b7ee78-2235-4170-b3b0-50b0e69296c4', node_type=<ObjectType.TEXT: '1'>, metadata={}, hash='9f9fc8170220c7d41c1558bd74d2129152bba46504a87ed1d8b7e1117cd3845f')}, text='V ·T ·Epioneer in space robotics, having constructed the Canadarm, Canadarm2, Canadarm3 and Dextre robotic manipulators for the ISS\\nand NASA\\'s Space Shuttle.[321] Since the 1960s, Canada\\'s aerospace industry has designed and built num erous marques of satellite,\\nincluding Radarsat-1 and 2, ISIS, and MOST.[322] Canada has also produced one of the world\\'s most successful and widely used\\nsounding rockets, the Black Brant.[323]\\nDemographics\\nMain articles: Demographics of Canada and List of cities in Canada\\nCanada population density map (2014)[324]\\nThe 2021 Canadian census enumerated a total population of 36,991,981, an increase of around 5.2 percent over the 2016\\n\\x00gure.[325] It is estimated that Canada\\'s population surpassed 40,000,000 in 2023.[326] The main drivers of population growth are\\nimmigration and, to a lesser extent, natural growth.[327] Canada has one of the highest per-capita immigration rates in the\\nworld,[328] driven mainly by economic policy and also family reuni\\x00cation.[329][330] A record 405,000 immigrants were admitted to\\nCanada in 2021.[331] Canada leads the world in refugee resettlement; it resettled more than 28,000 in 2018.[332] New immigrants\\nsettle mostly in major urban areas in the country, such as Toronto, Montreal, and Vancouver.[333]\\nCanada\\'s population density, at 4.2 inhabitants per square kilometre (11/sqmi), is among the lowest in the world.[325] Canada\\nspans latitudinally from the 83rd parallel north to the 41st parallel north and approximately 95percent of the population is found\\nsouth of the 55th parallel north.[334] About 80 percent of the population lives within 150 kilometres (93mi) of the border with the\\ncontiguous United States.[335] Canada is highly urbanized, with over 80 percent of the population living urban centres.[336] The\\nmost densely populated part of the countr y, accounting for nearly 50 percent, is the Quebec City–Windsor Corridor in Southern\\nQuebec and Southern Ontario along the Great Lakes and the St. Lawrence River.[337][334]\\nThe majority of Canadians (81.1percent) live in family households, 12.1percent report living alone, and those living with other\\nrelatives or unrelated persons reported at 6.8percent.[338] Fifty-onepercent of households are couples with or without children,\\n8.7percent are single-parent households, 2.9percent are multigenerational households, and 29.3percent are single-person\\nhouseholds.[338]\\nLargest metropolitan areas in Canada\\n2021 Canadian census[339]\\nRank Name Province Pop.Rank Name Province Pop.\\n1Toronto Ontario 6,202,22511London Ontario 543,551\\n2Montreal Quebec 4,291,73212Halifax Nova Scotia 465,703\\n3Vancouver British Columbia2,642,82513St. Catharines–NiagaraOntario 433,604\\n4Ottawa– Gatineau Ontario–Quebec1,488,30714Windsor Ontario 422,630\\n5Calgary Alberta 1,481,80615Oshawa Ontario 415,311\\n6Edmonton Alberta 1,418,11816Victoria British Columbia397,237\\n7Quebec City Quebec 839,31117Saskatoon Saskatchewan 317,480\\n8Winnipeg Manitoba 834,67818Regina Saskatchewan 249,217\\n9Hamilton Ontario 785,18419Sherbrooke Quebec 227,398\\n10Kitchener–Cambridge–WaterlooOntario 575,84720Kelowna British Columbia222,162\\nEthnicity\\nMain article: Ethnic origins of people in Canada\\nAccording to the 2021 Canadian census, over 450 \"ethnic or cultural origins\" were self-reported by Canadians.[340] The major\\npanethnic groups chosen were: European (52.5percent), North American (22.9percent), Asian (19.3percent), North American', start_char_idx=0, end_char_idx=3429, text_template='{metadata_str}\\n\\n{content}', metadata_template='{key}: {value}', metadata_seperator='\\n'), score=0.41257727809543904)], metadata={'1e3969b9-cf72-4315-85cd-59e0bd9f078b': {'page_label': '15', 'file_name': '/Users/hamidadesokan/Dropbox/2_Skill_Development/DLML/genai_applications/embeddings/RAG/agent/agent_data/Canada.pdf'}})"
     },
     "execution_count": 8,
     "metadata": {},
     "output_type": "execute_result"
    }
   ],
   "source": [
    "canada_engine.query( \"What is the population of Canada in 2023?\")"
   ],
   "metadata": {
    "collapsed": false,
    "ExecuteTime": {
     "end_time": "2024-02-19T04:12:23.973568Z",
     "start_time": "2024-02-19T04:12:23.057530Z"
    }
   },
   "id": "78b389fea23572c2",
   "execution_count": 8
  },
  {
   "cell_type": "code",
   "outputs": [],
   "source": [
    "# from llama_index.embeddings.openai import OpenAIEmbedding\n",
    "# from llama_index.readers.file import PDFReader\n",
    "# from llama_index.core import StorageContext, VectorStoreIndex, load_index_from_storage\n",
    "# import chromadb\n",
    "# from llama_index.vector_stores.chroma import ChromaVectorStore\n",
    "# import os\n",
    "# from pathlib import Path\n",
    "# \n",
    "# \n",
    "# def get_index(data, index_name, embed_model, chromapath):\n",
    "#     index = None\n",
    "#     db = chromadb.PersistentClient(path=chromapath)\n",
    "#     chroma_collection = db.get_or_create_collection(index_name)\n",
    "#     vector_store = ChromaVectorStore(chroma_collection=chroma_collection)\n",
    "#     if not os.path.exists(chromapath):\n",
    "#         print(\"building index\", index_name)\n",
    "#         storage_context = StorageContext.from_defaults(vector_store=vector_store)\n",
    "#         index = VectorStoreIndex.from_documents(data, storage_context=storage_context, embed_model=embed_model,\n",
    "#                                                 show_progress=True)\n",
    "#     else:\n",
    "#         index = VectorStoreIndex.from_vector_store(vector_store,\n",
    "#                                                    embed_model=embed_model, )\n",
    "# \n",
    "#     return index"
   ],
   "metadata": {
    "collapsed": false,
    "ExecuteTime": {
     "end_time": "2024-02-19T04:15:45.855717Z",
     "start_time": "2024-02-19T04:15:45.854050Z"
    }
   },
   "id": "60bacbb4b434c1c2",
   "execution_count": 10
  },
  {
   "cell_type": "code",
   "outputs": [],
   "source": [
    "\n",
    "# embedding_model_name = \"text-embedding-3-large\"\n",
    "# embed_model = OpenAIEmbedding(model=embedding_model_name)\n",
    "# \n",
    "# canada_filepath = Path.joinpath(Path.cwd().parent, 'agent_data', 'Canada.pdf')\n",
    "# chromapath = str(\n",
    "#     Path.joinpath(Path.cwd().parent, 'agent_data', 'agent_chroma_db'))\n",
    "# canada_pdf = PDFReader().load_data(file=canada_filepath)\n",
    "# canada_index = get_index(canada_pdf, \"canada\", embed_model,\n",
    "#                          chromapath)\n",
    "# canada_engine = canada_index.as_query_engine()"
   ],
   "metadata": {
    "collapsed": false,
    "ExecuteTime": {
     "end_time": "2024-02-19T04:17:24.329943Z",
     "start_time": "2024-02-19T04:17:22.657015Z"
    }
   },
   "id": "be24399211775ece",
   "execution_count": 12
  },
  {
   "cell_type": "code",
   "outputs": [
    {
     "name": "stdout",
     "output_type": "stream",
     "text": [
      "Ottawa\n"
     ]
    }
   ],
   "source": [
    "print(canada_engine.query(\"What is the captital of Canada\"))"
   ],
   "metadata": {
    "collapsed": false,
    "ExecuteTime": {
     "end_time": "2024-02-19T04:18:20.175550Z",
     "start_time": "2024-02-19T04:18:19.655194Z"
    }
   },
   "id": "972dcde69721117a",
   "execution_count": 14
  }
 ],
 "metadata": {
  "kernelspec": {
   "display_name": "Python 3",
   "language": "python",
   "name": "python3"
  },
  "language_info": {
   "codemirror_mode": {
    "name": "ipython",
    "version": 2
   },
   "file_extension": ".py",
   "mimetype": "text/x-python",
   "name": "python",
   "nbconvert_exporter": "python",
   "pygments_lexer": "ipython2",
   "version": "2.7.6"
  }
 },
 "nbformat": 4,
 "nbformat_minor": 5
}
