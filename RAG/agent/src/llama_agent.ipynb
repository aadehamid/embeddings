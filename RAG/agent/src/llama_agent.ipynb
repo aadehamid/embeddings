{
 "cells": [
  {
   "cell_type": "code",
   "execution_count": 2,
   "id": "initial_id",
   "metadata": {
    "collapsed": true,
    "ExecuteTime": {
     "end_time": "2024-02-22T05:01:00.474684Z",
     "start_time": "2024-02-22T05:01:00.458642Z"
    }
   },
   "outputs": [
    {
     "ename": "ModuleNotFoundError",
     "evalue": "No module named 'llama_parse'",
     "output_type": "error",
     "traceback": [
      "\u001B[0;31m---------------------------------------------------------------------------\u001B[0m",
      "\u001B[0;31mModuleNotFoundError\u001B[0m                       Traceback (most recent call last)",
      "Cell \u001B[0;32mIn[2], line 13\u001B[0m\n\u001B[1;32m     10\u001B[0m \u001B[38;5;28;01mfrom\u001B[39;00m \u001B[38;5;21;01mprompt\u001B[39;00m \u001B[38;5;28;01mimport\u001B[39;00m new_prompt, instruction_str, context\n\u001B[1;32m     12\u001B[0m \u001B[38;5;28;01mfrom\u001B[39;00m \u001B[38;5;21;01mRAG\u001B[39;00m\u001B[38;5;21;01m.\u001B[39;00m\u001B[38;5;21;01magent\u001B[39;00m\u001B[38;5;21;01m.\u001B[39;00m\u001B[38;5;21;01msrc\u001B[39;00m\u001B[38;5;21;01m.\u001B[39;00m\u001B[38;5;21;01mprompt\u001B[39;00m \u001B[38;5;28;01mimport\u001B[39;00m context\n\u001B[0;32m---> 13\u001B[0m \u001B[38;5;28;01mfrom\u001B[39;00m \u001B[38;5;21;01mllama_parse\u001B[39;00m \u001B[38;5;28;01mimport\u001B[39;00m LlamaParse\n\u001B[1;32m     14\u001B[0m \u001B[38;5;28;01mfrom\u001B[39;00m \u001B[38;5;21;01mllama_index\u001B[39;00m\u001B[38;5;21;01m.\u001B[39;00m\u001B[38;5;21;01mcore\u001B[39;00m\u001B[38;5;21;01m.\u001B[39;00m\u001B[38;5;21;01magent\u001B[39;00m \u001B[38;5;28;01mimport\u001B[39;00m ReActAgent\n\u001B[1;32m     15\u001B[0m \u001B[38;5;28;01mfrom\u001B[39;00m \u001B[38;5;21;01mllama_index\u001B[39;00m\u001B[38;5;21;01m.\u001B[39;00m\u001B[38;5;21;01mllms\u001B[39;00m\u001B[38;5;21;01m.\u001B[39;00m\u001B[38;5;21;01mopenai\u001B[39;00m \u001B[38;5;28;01mimport\u001B[39;00m OpenAI\n",
      "\u001B[0;31mModuleNotFoundError\u001B[0m: No module named 'llama_parse'"
     ]
    }
   ],
   "source": [
    "from dotenv import find_dotenv, load_dotenv\n",
    "load_dotenv(find_dotenv())\n",
    "import os\n",
    "import openai\n",
    "openai.api_key = os.getenv(\"OPENA_AI_KEY\")\n",
    "from pathlib import Path\n",
    "import pandas as pd\n",
    "\n",
    "from llama_index.core.query_engine import PandasQueryEngine\n",
    "from prompt import new_prompt, instruction_str, context\n",
    "\n",
    "from RAG.agent.src.prompt import context\n",
    "# from llama_parse import LlamaParse\n",
    "from llama_index.core.agent import ReActAgent\n",
    "from llama_index.llms.openai import OpenAI\n",
    "from llama_index.core.tools import QueryEngineTool, ToolMetadata\n",
    "from note_engine import note_engine\n",
    "from RAG.agent.src.load_index import canada_engine\n",
    "from load_index import load_data_to_sql_db"
   ]
  },
  {
   "cell_type": "code",
   "outputs": [],
   "source": [
    "import os\n",
    "# os.getcwd()\n",
    "# # get the parent directory\n",
    "# os.path.dirname(os.getcwd())\n",
    "# # join the parent directory with the agent_data directory\n",
    "# os.path.join(os.path.dirname(os.getcwd()), 'agent_data', 'Canada.pdf')\n"
   ],
   "metadata": {
    "collapsed": false,
    "ExecuteTime": {
     "end_time": "2024-02-22T02:45:21.125187Z",
     "start_time": "2024-02-22T02:45:21.121086Z"
    }
   },
   "id": "153b889fd94dbba3",
   "execution_count": 2
  },
  {
   "cell_type": "code",
   "outputs": [],
   "source": [],
   "metadata": {
    "collapsed": false
   },
   "id": "42c9b43c27508e29"
  },
  {
   "cell_type": "code",
   "outputs": [],
   "source": [],
   "metadata": {
    "collapsed": false,
    "ExecuteTime": {
     "end_time": "2024-02-22T04:12:35.888601Z",
     "start_time": "2024-02-22T04:12:35.886319Z"
    }
   },
   "id": "975234a01a5a4fc5",
   "execution_count": 9
  },
  {
   "cell_type": "code",
   "outputs": [],
   "source": [
    "filepath = Path(os.path.join(os.path.dirname(os.getcwd()), 'agent_data', \n",
    "                 'WorldPopulation2023.csv'))\n",
    "dbpath = str(Path(os.path.join(os.path.dirname(os.getcwd()), 'agent_data', \n",
    "                 'WorldPopulation2023.db')))\n",
    "conn, engine, data, _ = load_data_to_sql_db(filepath, dbpath, \"population\", )"
   ],
   "metadata": {
    "collapsed": false,
    "ExecuteTime": {
     "end_time": "2024-02-22T04:33:13.775765Z",
     "start_time": "2024-02-22T04:33:13.764663Z"
    }
   },
   "id": "865e6a653ea62d8b",
   "execution_count": 2
  },
  {
   "cell_type": "code",
   "outputs": [
    {
     "ename": "NameError",
     "evalue": "name 'Path' is not defined",
     "output_type": "error",
     "traceback": [
      "\u001B[0;31m---------------------------------------------------------------------------\u001B[0m",
      "\u001B[0;31mNameError\u001B[0m                                 Traceback (most recent call last)",
      "Cell \u001B[0;32mIn[1], line 4\u001B[0m\n\u001B[1;32m      1\u001B[0m \u001B[38;5;28;01mfrom\u001B[39;00m \u001B[38;5;21;01mllama_index\u001B[39;00m\u001B[38;5;21;01m.\u001B[39;00m\u001B[38;5;21;01mcore\u001B[39;00m \u001B[38;5;28;01mimport\u001B[39;00m SimpleDirectoryReader\n\u001B[1;32m      2\u001B[0m \u001B[38;5;28;01mfrom\u001B[39;00m \u001B[38;5;21;01mllama_index\u001B[39;00m\u001B[38;5;21;01m.\u001B[39;00m\u001B[38;5;21;01mreaders\u001B[39;00m\u001B[38;5;21;01m.\u001B[39;00m\u001B[38;5;21;01mfile\u001B[39;00m\u001B[38;5;21;01m.\u001B[39;00m\u001B[38;5;21;01mtabular\u001B[39;00m \u001B[38;5;28;01mimport\u001B[39;00m CSVReader\n\u001B[0;32m----> 4\u001B[0m population_filepath \u001B[38;5;241m=\u001B[39m \u001B[43mPath\u001B[49m(os\u001B[38;5;241m.\u001B[39mpath\u001B[38;5;241m.\u001B[39mjoin(os\u001B[38;5;241m.\u001B[39mpath\u001B[38;5;241m.\u001B[39mdirname(os\u001B[38;5;241m.\u001B[39mgetcwd()),\n\u001B[1;32m      5\u001B[0m                                     \u001B[38;5;124m'\u001B[39m\u001B[38;5;124magent_data\u001B[39m\u001B[38;5;124m'\u001B[39m, \u001B[38;5;124m'\u001B[39m\u001B[38;5;124mcsv\u001B[39m\u001B[38;5;124m'\u001B[39m))\n\u001B[1;32m      6\u001B[0m population_docs \u001B[38;5;241m=\u001B[39m SimpleDirectoryReader(population_filepath)\u001B[38;5;241m.\u001B[39mload_data()\n\u001B[1;32m      8\u001B[0m canada_filepath \u001B[38;5;241m=\u001B[39m Path(os\u001B[38;5;241m.\u001B[39mpath\u001B[38;5;241m.\u001B[39mjoin(os\u001B[38;5;241m.\u001B[39mpath\u001B[38;5;241m.\u001B[39mdirname(os\u001B[38;5;241m.\u001B[39mgetcwd()),\n\u001B[1;32m      9\u001B[0m                                     \u001B[38;5;124m'\u001B[39m\u001B[38;5;124magent_data\u001B[39m\u001B[38;5;124m'\u001B[39m, \u001B[38;5;124m'\u001B[39m\u001B[38;5;124mCanada.pdf\u001B[39m\u001B[38;5;124m'\u001B[39m))\n",
      "\u001B[0;31mNameError\u001B[0m: name 'Path' is not defined"
     ]
    }
   ],
   "source": [
    "from llama_index.core import SimpleDirectoryReader\n",
    "from llama_index.readers.file.tabular import CSVReader\n",
    "\n",
    "population_filepath = Path(os.path.join(os.path.dirname(os.getcwd()),\n",
    "                                    'agent_data', 'csv'))\n",
    "population_docs = SimpleDirectoryReader(population_filepath).load_data()\n"
   ],
   "metadata": {
    "collapsed": false,
    "ExecuteTime": {
     "end_time": "2024-02-22T04:49:30.728053Z",
     "start_time": "2024-02-22T04:49:29.691894Z"
    }
   },
   "id": "363badf089182e89",
   "execution_count": 1
  },
  {
   "cell_type": "code",
   "outputs": [],
   "source": [
    "# population_query_engine = PandasQueryEngine(population, verbose=True)\n",
    "# population_query_engine.update_prompts({\"pandas_prompt\": new_prompt})\n",
    "# query_string = \"What is the population of the Canada in 2023?\"\n",
    "# population_query_engine.query(query_string)"
   ],
   "metadata": {
    "collapsed": false,
    "ExecuteTime": {
     "end_time": "2024-02-22T04:12:24.253455Z",
     "start_time": "2024-02-22T04:12:24.251022Z"
    }
   },
   "id": "9aa05b7df7637d91",
   "execution_count": 6
  },
  {
   "cell_type": "code",
   "outputs": [],
   "source": [
    "from llama_index.core import Settings\n",
    "from llama_index.embeddings.openai import OpenAIEmbedding\n",
    "\n",
    "model_name = \"gpt-3.5-turbo\"\n",
    "embedding_model_name = \"text-embedding-3-small\"\n",
    "llm = OpenAI(temperature=0.1, model=model_name)\n",
    "embed_model = OpenAIEmbedding(model=embedding_model_name)\n",
    "Settings.llm = llm\n",
    "Settings.embed_model = embed_model\n",
    "table_name = \"population\""
   ],
   "metadata": {
    "collapsed": false,
    "ExecuteTime": {
     "end_time": "2024-02-22T04:33:20.666538Z",
     "start_time": "2024-02-22T04:33:20.662636Z"
    }
   },
   "id": "95b34fe6d5beeac6",
   "execution_count": 3
  },
  {
   "cell_type": "code",
   "outputs": [],
   "source": [
    "from llama_index.core.indices.struct_store import NLSQLTableQueryEngine\n",
    "from load_index import text_to_query_engine\n",
    "\n",
    "_, sql_database = text_to_query_engine(model_name, embedding_model_name, table_name, engine)\n",
    "\n",
    "# Set up text2SQL prompt\n",
    "sql_query_engine = NLSQLTableQueryEngine(\n",
    "    sql_database=sql_database,\n",
    "    tables=[table_name],)\n"
   ],
   "metadata": {
    "collapsed": false,
    "ExecuteTime": {
     "end_time": "2024-02-22T04:33:25.100071Z",
     "start_time": "2024-02-22T04:33:24.724024Z"
    }
   },
   "id": "6839a7453b7fd341",
   "execution_count": 4
  },
  {
   "cell_type": "code",
   "outputs": [],
   "source": [
    "tools = [\n",
    "    note_engine,\n",
    "    QueryEngineTool(\n",
    "        # query_engine=population_query_engine,\n",
    "        query_engine=sql_query_engine,\n",
    "        metadata=ToolMetadata(\n",
    "            name=\"sql_on_population_data\",\n",
    "            description=\"this gives information at the world population and demographics\",\n",
    "        ),\n",
    "    ),\n",
    "    QueryEngineTool(\n",
    "        query_engine=canada_engine,\n",
    "        metadata=ToolMetadata(\n",
    "            name=\"canada_data\",\n",
    "            description=\"this gives detailed information about canada the country\",\n",
    "        ),\n",
    "    ),\n",
    "]\n",
    "\n",
    "llm = OpenAI(model=\"gpt-3.5-turbo-0613\")\n",
    "agent = ReActAgent.from_tools(tools, llm=llm, verbose=True, context=context)"
   ],
   "metadata": {
    "collapsed": false,
    "ExecuteTime": {
     "end_time": "2024-02-22T04:33:27.356268Z",
     "start_time": "2024-02-22T04:33:27.354901Z"
    }
   },
   "id": "e6d66ddfc1ec66b4",
   "execution_count": 5
  },
  {
   "cell_type": "code",
   "outputs": [
    {
     "name": "stdout",
     "output_type": "stream",
     "text": [
      "\u001B[1;3;38;5;200mThought: I need to use a tool to help me answer the question.\n",
      "Action: sql_on_population_data\n",
      "Action Input: {'input': \"SELECT population FROM countries WHERE name='Nigeria' AND year=2023\"}\n",
      "\u001B[0m\u001B[1;3;34mObservation: The population of Nigeria in 2023 is projected to be 223,804,632.\n",
      "\u001B[0m\u001B[1;3;38;5;200mThought: I can answer without using any more tools.\n",
      "Answer: The population of Nigeria in 2023 is projected to be 223,804,632.\n",
      "\u001B[0mThe population of Nigeria in 2023 is projected to be 223,804,632.\n",
      "\u001B[1;3;38;5;200mThought: I need to use a tool to help me answer the question.\n",
      "Action: sql_on_population_data\n",
      "Action Input: {'input': \"SELECT population FROM countries WHERE country_name='Canada' AND year=2023\"}\n",
      "\u001B[0m\u001B[1;3;34mObservation: The population of Canada in 2023 is approximately 38,781,291.\n",
      "\u001B[0m\u001B[1;3;38;5;200mThought: I can answer without using any more tools.\n",
      "Answer: The population of Canada in 2023 is approximately 38,781,291.\n",
      "\u001B[0mThe population of Canada in 2023 is approximately 38,781,291.\n"
     ]
    }
   ],
   "source": [
    "while (prompt := input(\"Enter a prompt (q to quit): \")) != \"q\":\n",
    "    result = agent.query(prompt)\n",
    "    print(result)"
   ],
   "metadata": {
    "collapsed": false,
    "ExecuteTime": {
     "end_time": "2024-02-22T04:34:12.282023Z",
     "start_time": "2024-02-22T04:33:29.496865Z"
    }
   },
   "id": "fed3b927c5598bb7",
   "execution_count": 6
  },
  {
   "cell_type": "code",
   "outputs": [
    {
     "data": {
      "text/plain": "Response(response='Ottawa', source_nodes=[NodeWithScore(node=TextNode(id_='34f864c2-884c-460c-b3e0-22de75b220b3', embedding=None, metadata={'page_label': '1', 'file_name': '/Users/hamidadesokan/Dropbox/2_Skill_Development/DLML/genai_applications/embeddings/RAG/agent/agent_data/Canada.pdf'}, excluded_embed_metadata_keys=[], excluded_llm_metadata_keys=[], relationships={<NodeRelationship.SOURCE: '1'>: RelatedNodeInfo(node_id='c90580c2-8400-43d1-947c-f576a62210ad', node_type=<ObjectType.DOCUMENT: '4'>, metadata={'page_label': '1', 'file_name': '/Users/hamidadesokan/Dropbox/2_Skill_Development/DLML/genai_applications/embeddings/RAG/agent/agent_data/Canada.pdf'}, hash='d34863186039bad427fea0e6c6413d9eac1111c84fe0da31e30977a6119ceacc'), <NodeRelationship.NEXT: '3'>: RelatedNodeInfo(node_id='c85279e0-e779-407b-87fa-889877ea71f6', node_type=<ObjectType.TEXT: '1'>, metadata={}, hash='8f754dc255dbadd016499180497f3e293794df838a1440077df0bbab4014d413')}, text='Canada\\nCountry in North America / From Wikipedia, the free encyclopedia \\nLET\\'S KEEP IT SHORT BY SIMPLY ANSWERING THESE KEY QUESTIONS:\\nCan you list the top facts and stats about Canada?\\nSummarize this article for a 10 year old\\nSHOW ALL QUESTIONS\\nCanada is a country in North America. Its ten provinces and three territories extend from the Atlantic Ocean to the Paci\\x00c Ocean\\nand northward into the Arctic Ocean, making it the world\\'s second-largest country by total area, with the world\\'s longest coastline.\\nIts border with the United States is the world\\'s longest international land border. The countr y is characterized by a wide range of\\nboth meteorologic and geological regions. It is a sparsely inhabited country of 40million people, the vast majority residing south\\nof the 55th parallel in urban areas. Canada\\'s capital is Ottawa and its three largest metropolitan areas are Toronto, Montreal, and\\nVancouver.\\nQuick facts: Canada, Capital, Largest city, O\\x00cial\\xa0... ▼\\nIndigenous peoples have continuously inhabited what is now Canada for thousands of years. Beginning in the 16th centur y,\\nBritish and French expeditions explored and later settled along the Atlantic coast. As a consequence of various armed con\\x00icts,\\nFrance ceded nearly all of its colonies in North America in 1763. In 1867, with the union of three British North American colonies\\nthrough Confederation, Canada was formed as a federaldominion of four provinces. This began an accretion of provinces and\\nterritories and a process of increasing autonomy from the United Kingdom, highlighted by the Statute of Westminster, 1931, and\\nculminating in the Canada Act 1982, which severed the vestiges of legal dependence on the Parliament of the United Kingdom.\\nCanada is a parliamentary democracy and a constitutional monarchy in the Westminster tradition. The country\\'s head of\\ngovernment is the prime minister, who holds o\\x00ce by virtue of their ability to command the con\\x00dence of the elected House of\\nCommons and is \"called upon\" by the governor general, representing the monarch of Canada, the head of state. The country is a\\nCommonwealth realm and is o\\x00cially bilingual (English and French) in the federal jurisdiction. It is very highly ranked in\\ninternational measurements of government transparency, quality of life, economic competitiveness, innovation, education and\\ngender equality. It is one of the world\\'s most ethnically diverse and multicultural nations, the product of large-scale immigration.\\nCanada\\'s long and complex relationship with the United States has had a signi\\x00cant impact on its history, economy, and culture.', start_char_idx=0, end_char_idx=2601, text_template='{metadata_str}\\n\\n{content}', metadata_template='{key}: {value}', metadata_seperator='\\n'), score=0.32010868175990753)], metadata={'34f864c2-884c-460c-b3e0-22de75b220b3': {'page_label': '1', 'file_name': '/Users/hamidadesokan/Dropbox/2_Skill_Development/DLML/genai_applications/embeddings/RAG/agent/agent_data/Canada.pdf'}})"
     },
     "execution_count": 8,
     "metadata": {},
     "output_type": "execute_result"
    }
   ],
   "source": [
    "canada_engine.query( \"What is the capital of Canada?\")"
   ],
   "metadata": {
    "collapsed": false,
    "ExecuteTime": {
     "end_time": "2024-02-22T02:49:57.529482Z",
     "start_time": "2024-02-22T02:49:56.627697Z"
    }
   },
   "id": "78b389fea23572c2",
   "execution_count": 8
  },
  {
   "cell_type": "code",
   "outputs": [],
   "source": [
    "# from llama_index.embeddings.openai import OpenAIEmbedding\n",
    "# from llama_index.readers.file import PDFReader\n",
    "# from llama_index.core import StorageContext, VectorStoreIndex, load_index_from_storage\n",
    "# import chromadb\n",
    "# from llama_index.vector_stores.chroma import ChromaVectorStore\n",
    "# import os\n",
    "# from pathlib import Path\n",
    "# \n",
    "# \n",
    "# def get_index(data, index_name, embed_model, chromapath):\n",
    "#     index = None\n",
    "#     db = chromadb.PersistentClient(path=chromapath)\n",
    "#     chroma_collection = db.get_or_create_collection(index_name)\n",
    "#     vector_store = ChromaVectorStore(chroma_collection=chroma_collection)\n",
    "#     if not os.path.exists(chromapath):\n",
    "#         print(\"building index\", index_name)\n",
    "#         storage_context = StorageContext.from_defaults(vector_store=vector_store)\n",
    "#         index = VectorStoreIndex.from_documents(data, storage_context=storage_context, embed_model=embed_model,\n",
    "#                                                 show_progress=True)\n",
    "#     else:\n",
    "#         index = VectorStoreIndex.from_vector_store(vector_store,\n",
    "#                                                    embed_model=embed_model, )\n",
    "# \n",
    "#     return index"
   ],
   "metadata": {
    "collapsed": false,
    "ExecuteTime": {
     "end_time": "2024-02-19T04:15:45.855717Z",
     "start_time": "2024-02-19T04:15:45.854050Z"
    }
   },
   "id": "60bacbb4b434c1c2",
   "execution_count": 10
  },
  {
   "cell_type": "code",
   "outputs": [],
   "source": [
    "\n",
    "# embedding_model_name = \"text-embedding-3-large\"\n",
    "# embed_model = OpenAIEmbedding(model=embedding_model_name)\n",
    "# \n",
    "# canada_filepath = Path.joinpath(Path.cwd().parent, 'agent_data', 'Canada.pdf')\n",
    "# chromapath = str(\n",
    "#     Path.joinpath(Path.cwd().parent, 'agent_data', 'agent_chroma_db'))\n",
    "# canada_pdf = PDFReader().load_data(file=canada_filepath)\n",
    "# canada_index = get_index(canada_pdf, \"canada\", embed_model,\n",
    "#                          chromapath)\n",
    "# canada_engine = canada_index.as_query_engine()"
   ],
   "metadata": {
    "collapsed": false,
    "ExecuteTime": {
     "end_time": "2024-02-19T04:17:24.329943Z",
     "start_time": "2024-02-19T04:17:22.657015Z"
    }
   },
   "id": "be24399211775ece",
   "execution_count": 12
  },
  {
   "cell_type": "code",
   "outputs": [
    {
     "name": "stdout",
     "output_type": "stream",
     "text": [
      "Ottawa\n"
     ]
    }
   ],
   "source": [
    "print(canada_engine.query(\"What is the captital of Canada\"))"
   ],
   "metadata": {
    "collapsed": false,
    "ExecuteTime": {
     "end_time": "2024-02-19T04:18:20.175550Z",
     "start_time": "2024-02-19T04:18:19.655194Z"
    }
   },
   "id": "972dcde69721117a",
   "execution_count": 14
  }
 ],
 "metadata": {
  "kernelspec": {
   "display_name": "Python 3",
   "language": "python",
   "name": "python3"
  },
  "language_info": {
   "codemirror_mode": {
    "name": "ipython",
    "version": 2
   },
   "file_extension": ".py",
   "mimetype": "text/x-python",
   "name": "python",
   "nbconvert_exporter": "python",
   "pygments_lexer": "ipython2",
   "version": "2.7.6"
  }
 },
 "nbformat": 4,
 "nbformat_minor": 5
}
