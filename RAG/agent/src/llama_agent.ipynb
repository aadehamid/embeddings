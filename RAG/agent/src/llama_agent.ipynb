{
 "cells": [
  {
   "cell_type": "code",
   "execution_count": 6,
   "id": "initial_id",
   "metadata": {
    "collapsed": true,
    "ExecuteTime": {
     "end_time": "2024-02-22T03:11:05.408401Z",
     "start_time": "2024-02-22T03:11:05.403914Z"
    }
   },
   "outputs": [],
   "source": [
    "from dotenv import find_dotenv, load_dotenv\n",
    "load_dotenv(find_dotenv())\n",
    "import os\n",
    "import openai\n",
    "openai.api_key = os.getenv(\"OPENA_AI_KEY\")\n",
    "from pathlib import Path\n",
    "import pandas as pd\n",
    "\n",
    "from llama_index.core.query_engine import PandasQueryEngine\n",
    "from prompt import new_prompt, instruction_str, context\n",
    "\n",
    "from RAG.agent.src.prompt import context\n",
    "from llama_index.core.agent import ReActAgent\n",
    "from llama_index.llms.openai import OpenAI\n",
    "from llama_index.core.tools import QueryEngineTool, ToolMetadata\n",
    "from note_engine import note_engine\n",
    "from RAG.agent.src.load_index import canada_engine"
   ]
  },
  {
   "cell_type": "code",
   "outputs": [],
   "source": [
    "import os\n",
    "# os.getcwd()\n",
    "# # get the parent directory\n",
    "# os.path.dirname(os.getcwd())\n",
    "# # join the parent directory with the agent_data directory\n",
    "# os.path.join(os.path.dirname(os.getcwd()), 'agent_data', 'Canada.pdf')\n"
   ],
   "metadata": {
    "collapsed": false,
    "ExecuteTime": {
     "end_time": "2024-02-22T02:45:21.125187Z",
     "start_time": "2024-02-22T02:45:21.121086Z"
    }
   },
   "id": "153b889fd94dbba3",
   "execution_count": 2
  },
  {
   "cell_type": "code",
   "outputs": [
    {
     "data": {
      "text/plain": "   Rank         Country  Population2023 YearlyChange  NetChange  \\\n0    36     Afghanistan        42239854       2.70 %    1111083   \n1   138         Albania         2832439      -0.35 %      -9882   \n2    34         Algeria        45606480       1.57 %     703255   \n3   212  American Samoa           43914      -0.81 %       -359   \n4   202         Andorra           80088       0.33 %        264   \n\n   Density(P/Km²)  Land Area(Km²)  Migrants(net)  Fert.Rate  MedianAge  \\\n0              65          652860         -65846        4.4       17.0   \n1             103           27400          -8000        1.4       38.0   \n2              19         2381740          -9999        2.8       28.0   \n3             220             200           -790        2.2       29.0   \n4             170             470            200        1.1       43.0   \n\n  UrbanPop% WorldShare  \n0      26 %     0.53 %  \n1      67 %     0.04 %  \n2      75 %     0.57 %  \n3      N.A.     0.00 %  \n4      85 %     0.00 %  ",
      "text/html": "<div>\n<style scoped>\n    .dataframe tbody tr th:only-of-type {\n        vertical-align: middle;\n    }\n\n    .dataframe tbody tr th {\n        vertical-align: top;\n    }\n\n    .dataframe thead th {\n        text-align: right;\n    }\n</style>\n<table border=\"1\" class=\"dataframe\">\n  <thead>\n    <tr style=\"text-align: right;\">\n      <th></th>\n      <th>Rank</th>\n      <th>Country</th>\n      <th>Population2023</th>\n      <th>YearlyChange</th>\n      <th>NetChange</th>\n      <th>Density(P/Km²)</th>\n      <th>Land Area(Km²)</th>\n      <th>Migrants(net)</th>\n      <th>Fert.Rate</th>\n      <th>MedianAge</th>\n      <th>UrbanPop%</th>\n      <th>WorldShare</th>\n    </tr>\n  </thead>\n  <tbody>\n    <tr>\n      <th>0</th>\n      <td>36</td>\n      <td>Afghanistan</td>\n      <td>42239854</td>\n      <td>2.70 %</td>\n      <td>1111083</td>\n      <td>65</td>\n      <td>652860</td>\n      <td>-65846</td>\n      <td>4.4</td>\n      <td>17.0</td>\n      <td>26 %</td>\n      <td>0.53 %</td>\n    </tr>\n    <tr>\n      <th>1</th>\n      <td>138</td>\n      <td>Albania</td>\n      <td>2832439</td>\n      <td>-0.35 %</td>\n      <td>-9882</td>\n      <td>103</td>\n      <td>27400</td>\n      <td>-8000</td>\n      <td>1.4</td>\n      <td>38.0</td>\n      <td>67 %</td>\n      <td>0.04 %</td>\n    </tr>\n    <tr>\n      <th>2</th>\n      <td>34</td>\n      <td>Algeria</td>\n      <td>45606480</td>\n      <td>1.57 %</td>\n      <td>703255</td>\n      <td>19</td>\n      <td>2381740</td>\n      <td>-9999</td>\n      <td>2.8</td>\n      <td>28.0</td>\n      <td>75 %</td>\n      <td>0.57 %</td>\n    </tr>\n    <tr>\n      <th>3</th>\n      <td>212</td>\n      <td>American Samoa</td>\n      <td>43914</td>\n      <td>-0.81 %</td>\n      <td>-359</td>\n      <td>220</td>\n      <td>200</td>\n      <td>-790</td>\n      <td>2.2</td>\n      <td>29.0</td>\n      <td>N.A.</td>\n      <td>0.00 %</td>\n    </tr>\n    <tr>\n      <th>4</th>\n      <td>202</td>\n      <td>Andorra</td>\n      <td>80088</td>\n      <td>0.33 %</td>\n      <td>264</td>\n      <td>170</td>\n      <td>470</td>\n      <td>200</td>\n      <td>1.1</td>\n      <td>43.0</td>\n      <td>85 %</td>\n      <td>0.00 %</td>\n    </tr>\n  </tbody>\n</table>\n</div>"
     },
     "execution_count": 7,
     "metadata": {},
     "output_type": "execute_result"
    }
   ],
   "source": [
    "filepath = Path.joinpath(Path.cwd().parent, 'agent_data', 'WorldPopulation2023.csv')\n",
    "population = pd.read_csv(filepath)\n",
    "population.head()"
   ],
   "metadata": {
    "collapsed": false,
    "ExecuteTime": {
     "end_time": "2024-02-22T03:11:10.145761Z",
     "start_time": "2024-02-22T03:11:10.137533Z"
    }
   },
   "id": "865e6a653ea62d8b",
   "execution_count": 7
  },
  {
   "cell_type": "code",
   "outputs": [
    {
     "name": "stdout",
     "output_type": "stream",
     "text": [
      "> Pandas Instructions:\n",
      "```\n",
      "df[df['Country'] == 'Canada']['Population2023'].values[0]\n",
      "```\n",
      "> Pandas Output: 38781291\n"
     ]
    },
    {
     "data": {
      "text/plain": "Response(response='38781291', source_nodes=[], metadata={'pandas_instruction_str': \"df[df['Country'] == 'Canada']['Population2023'].values[0]\", 'raw_pandas_output': '38781291'})"
     },
     "execution_count": 8,
     "metadata": {},
     "output_type": "execute_result"
    }
   ],
   "source": [
    "population_query_engine = PandasQueryEngine(population, verbose=True)\n",
    "population_query_engine.update_prompts({\"pandas_prompt\": new_prompt})\n",
    "query_string = \"What is the population of the Canada in 2023?\"\n",
    "population_query_engine.query(query_string)"
   ],
   "metadata": {
    "collapsed": false,
    "ExecuteTime": {
     "end_time": "2024-02-22T03:11:15.041158Z",
     "start_time": "2024-02-22T03:11:14.355176Z"
    }
   },
   "id": "9aa05b7df7637d91",
   "execution_count": 8
  },
  {
   "cell_type": "code",
   "outputs": [],
   "source": [
    "tools = [\n",
    "    note_engine,\n",
    "    QueryEngineTool(\n",
    "        query_engine=population_query_engine,\n",
    "        metadata=ToolMetadata(\n",
    "            name=\"population_data\",\n",
    "            description=\"this gives information at the world population and demographics\",\n",
    "        ),\n",
    "    ),\n",
    "    QueryEngineTool(\n",
    "        query_engine=canada_engine,\n",
    "        metadata=ToolMetadata(\n",
    "            name=\"canada_data\",\n",
    "            description=\"this gives detailed information about canada the country\",\n",
    "        ),\n",
    "    ),\n",
    "]\n",
    "\n",
    "llm = OpenAI(model=\"gpt-3.5-turbo-0613\")\n",
    "agent = ReActAgent.from_tools(tools, llm=llm, verbose=True, context=context)"
   ],
   "metadata": {
    "collapsed": false,
    "ExecuteTime": {
     "end_time": "2024-02-22T03:11:17.601487Z",
     "start_time": "2024-02-22T03:11:17.600112Z"
    }
   },
   "id": "e6d66ddfc1ec66b4",
   "execution_count": 9
  },
  {
   "cell_type": "code",
   "outputs": [
    {
     "name": "stdout",
     "output_type": "stream",
     "text": [
      "\u001B[1;3;38;5;200mThought: I can use the \"canada_data\" tool to find the capital of Canada.\n",
      "Action: canada_data\n",
      "Action Input: {'input': 'capital'}\n",
      "\u001B[0m\u001B[1;3;34mObservation: Ottawa\n",
      "\u001B[0m\u001B[1;3;38;5;200mThought: I have the answer to the question.\n",
      "Answer: The capital of Canada is Ottawa.\n",
      "\u001B[0mThe capital of Canada is Ottawa.\n"
     ]
    }
   ],
   "source": [
    "while (prompt := input(\"Enter a prompt (q to quit): \")) != \"q\":\n",
    "    result = agent.query(prompt)\n",
    "    print(result)"
   ],
   "metadata": {
    "collapsed": false,
    "ExecuteTime": {
     "end_time": "2024-02-22T03:11:33.081723Z",
     "start_time": "2024-02-22T03:11:19.330553Z"
    }
   },
   "id": "fed3b927c5598bb7",
   "execution_count": 10
  },
  {
   "cell_type": "code",
   "outputs": [
    {
     "data": {
      "text/plain": "Response(response='Ottawa', source_nodes=[NodeWithScore(node=TextNode(id_='34f864c2-884c-460c-b3e0-22de75b220b3', embedding=None, metadata={'page_label': '1', 'file_name': '/Users/hamidadesokan/Dropbox/2_Skill_Development/DLML/genai_applications/embeddings/RAG/agent/agent_data/Canada.pdf'}, excluded_embed_metadata_keys=[], excluded_llm_metadata_keys=[], relationships={<NodeRelationship.SOURCE: '1'>: RelatedNodeInfo(node_id='c90580c2-8400-43d1-947c-f576a62210ad', node_type=<ObjectType.DOCUMENT: '4'>, metadata={'page_label': '1', 'file_name': '/Users/hamidadesokan/Dropbox/2_Skill_Development/DLML/genai_applications/embeddings/RAG/agent/agent_data/Canada.pdf'}, hash='d34863186039bad427fea0e6c6413d9eac1111c84fe0da31e30977a6119ceacc'), <NodeRelationship.NEXT: '3'>: RelatedNodeInfo(node_id='c85279e0-e779-407b-87fa-889877ea71f6', node_type=<ObjectType.TEXT: '1'>, metadata={}, hash='8f754dc255dbadd016499180497f3e293794df838a1440077df0bbab4014d413')}, text='Canada\\nCountry in North America / From Wikipedia, the free encyclopedia \\nLET\\'S KEEP IT SHORT BY SIMPLY ANSWERING THESE KEY QUESTIONS:\\nCan you list the top facts and stats about Canada?\\nSummarize this article for a 10 year old\\nSHOW ALL QUESTIONS\\nCanada is a country in North America. Its ten provinces and three territories extend from the Atlantic Ocean to the Paci\\x00c Ocean\\nand northward into the Arctic Ocean, making it the world\\'s second-largest country by total area, with the world\\'s longest coastline.\\nIts border with the United States is the world\\'s longest international land border. The countr y is characterized by a wide range of\\nboth meteorologic and geological regions. It is a sparsely inhabited country of 40million people, the vast majority residing south\\nof the 55th parallel in urban areas. Canada\\'s capital is Ottawa and its three largest metropolitan areas are Toronto, Montreal, and\\nVancouver.\\nQuick facts: Canada, Capital, Largest city, O\\x00cial\\xa0... ▼\\nIndigenous peoples have continuously inhabited what is now Canada for thousands of years. Beginning in the 16th centur y,\\nBritish and French expeditions explored and later settled along the Atlantic coast. As a consequence of various armed con\\x00icts,\\nFrance ceded nearly all of its colonies in North America in 1763. In 1867, with the union of three British North American colonies\\nthrough Confederation, Canada was formed as a federaldominion of four provinces. This began an accretion of provinces and\\nterritories and a process of increasing autonomy from the United Kingdom, highlighted by the Statute of Westminster, 1931, and\\nculminating in the Canada Act 1982, which severed the vestiges of legal dependence on the Parliament of the United Kingdom.\\nCanada is a parliamentary democracy and a constitutional monarchy in the Westminster tradition. The country\\'s head of\\ngovernment is the prime minister, who holds o\\x00ce by virtue of their ability to command the con\\x00dence of the elected House of\\nCommons and is \"called upon\" by the governor general, representing the monarch of Canada, the head of state. The country is a\\nCommonwealth realm and is o\\x00cially bilingual (English and French) in the federal jurisdiction. It is very highly ranked in\\ninternational measurements of government transparency, quality of life, economic competitiveness, innovation, education and\\ngender equality. It is one of the world\\'s most ethnically diverse and multicultural nations, the product of large-scale immigration.\\nCanada\\'s long and complex relationship with the United States has had a signi\\x00cant impact on its history, economy, and culture.', start_char_idx=0, end_char_idx=2601, text_template='{metadata_str}\\n\\n{content}', metadata_template='{key}: {value}', metadata_seperator='\\n'), score=0.32010868175990753)], metadata={'34f864c2-884c-460c-b3e0-22de75b220b3': {'page_label': '1', 'file_name': '/Users/hamidadesokan/Dropbox/2_Skill_Development/DLML/genai_applications/embeddings/RAG/agent/agent_data/Canada.pdf'}})"
     },
     "execution_count": 8,
     "metadata": {},
     "output_type": "execute_result"
    }
   ],
   "source": [
    "canada_engine.query( \"What is the capital of Canada?\")"
   ],
   "metadata": {
    "collapsed": false,
    "ExecuteTime": {
     "end_time": "2024-02-22T02:49:57.529482Z",
     "start_time": "2024-02-22T02:49:56.627697Z"
    }
   },
   "id": "78b389fea23572c2",
   "execution_count": 8
  },
  {
   "cell_type": "code",
   "outputs": [],
   "source": [
    "# from llama_index.embeddings.openai import OpenAIEmbedding\n",
    "# from llama_index.readers.file import PDFReader\n",
    "# from llama_index.core import StorageContext, VectorStoreIndex, load_index_from_storage\n",
    "# import chromadb\n",
    "# from llama_index.vector_stores.chroma import ChromaVectorStore\n",
    "# import os\n",
    "# from pathlib import Path\n",
    "# \n",
    "# \n",
    "# def get_index(data, index_name, embed_model, chromapath):\n",
    "#     index = None\n",
    "#     db = chromadb.PersistentClient(path=chromapath)\n",
    "#     chroma_collection = db.get_or_create_collection(index_name)\n",
    "#     vector_store = ChromaVectorStore(chroma_collection=chroma_collection)\n",
    "#     if not os.path.exists(chromapath):\n",
    "#         print(\"building index\", index_name)\n",
    "#         storage_context = StorageContext.from_defaults(vector_store=vector_store)\n",
    "#         index = VectorStoreIndex.from_documents(data, storage_context=storage_context, embed_model=embed_model,\n",
    "#                                                 show_progress=True)\n",
    "#     else:\n",
    "#         index = VectorStoreIndex.from_vector_store(vector_store,\n",
    "#                                                    embed_model=embed_model, )\n",
    "# \n",
    "#     return index"
   ],
   "metadata": {
    "collapsed": false,
    "ExecuteTime": {
     "end_time": "2024-02-19T04:15:45.855717Z",
     "start_time": "2024-02-19T04:15:45.854050Z"
    }
   },
   "id": "60bacbb4b434c1c2",
   "execution_count": 10
  },
  {
   "cell_type": "code",
   "outputs": [],
   "source": [
    "\n",
    "# embedding_model_name = \"text-embedding-3-large\"\n",
    "# embed_model = OpenAIEmbedding(model=embedding_model_name)\n",
    "# \n",
    "# canada_filepath = Path.joinpath(Path.cwd().parent, 'agent_data', 'Canada.pdf')\n",
    "# chromapath = str(\n",
    "#     Path.joinpath(Path.cwd().parent, 'agent_data', 'agent_chroma_db'))\n",
    "# canada_pdf = PDFReader().load_data(file=canada_filepath)\n",
    "# canada_index = get_index(canada_pdf, \"canada\", embed_model,\n",
    "#                          chromapath)\n",
    "# canada_engine = canada_index.as_query_engine()"
   ],
   "metadata": {
    "collapsed": false,
    "ExecuteTime": {
     "end_time": "2024-02-19T04:17:24.329943Z",
     "start_time": "2024-02-19T04:17:22.657015Z"
    }
   },
   "id": "be24399211775ece",
   "execution_count": 12
  },
  {
   "cell_type": "code",
   "outputs": [
    {
     "name": "stdout",
     "output_type": "stream",
     "text": [
      "Ottawa\n"
     ]
    }
   ],
   "source": [
    "print(canada_engine.query(\"What is the captital of Canada\"))"
   ],
   "metadata": {
    "collapsed": false,
    "ExecuteTime": {
     "end_time": "2024-02-19T04:18:20.175550Z",
     "start_time": "2024-02-19T04:18:19.655194Z"
    }
   },
   "id": "972dcde69721117a",
   "execution_count": 14
  }
 ],
 "metadata": {
  "kernelspec": {
   "display_name": "Python 3",
   "language": "python",
   "name": "python3"
  },
  "language_info": {
   "codemirror_mode": {
    "name": "ipython",
    "version": 2
   },
   "file_extension": ".py",
   "mimetype": "text/x-python",
   "name": "python",
   "nbconvert_exporter": "python",
   "pygments_lexer": "ipython2",
   "version": "2.7.6"
  }
 },
 "nbformat": 4,
 "nbformat_minor": 5
}
