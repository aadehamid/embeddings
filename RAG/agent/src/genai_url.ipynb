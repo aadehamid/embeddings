{
 "cells": [
  {
   "cell_type": "code",
   "execution_count": 94,
   "id": "initial_id",
   "metadata": {
    "collapsed": true,
    "ExecuteTime": {
     "end_time": "2024-02-23T06:02:24.660208Z",
     "start_time": "2024-02-23T06:02:24.656529Z"
    }
   },
   "outputs": [],
   "source": [
    "import pandas as pd\n",
    "from pathlib import Path\n",
    "import os\n",
    "from llama_index.readers.web import UnstructuredURLLoader\n",
    "from urllib.parse import urlparse\n",
    "import re\n",
    "import pickle\n",
    "import requests"
   ]
  },
  {
   "cell_type": "code",
   "outputs": [],
   "source": [
    "def is_valid_url(url):\n",
    "    try:\n",
    "        result = urlparse(url)\n",
    "        return all([result.scheme, result.netloc])\n",
    "    except ValueError:\n",
    "        return False\n",
    "\n",
    "\n",
    "def is_sharepoint_url(url):\n",
    "    return 'sharepoint.com' in url\n",
    "\n",
    "\n",
    "\n",
    "def is_pdf(url):\n",
    "    try:\n",
    "        response = requests.head(url, allow_redirects=True)\n",
    "        if response.headers['content-type'] == 'application/pdf':\n",
    "            return True\n",
    "        else:\n",
    "            return False\n",
    "    except requests.exceptions.RequestException as e:\n",
    "        print(f\"Error: {e}\")\n",
    "        return False"
   ],
   "metadata": {
    "collapsed": false,
    "ExecuteTime": {
     "end_time": "2024-02-23T05:06:35.375534Z",
     "start_time": "2024-02-23T05:06:35.370614Z"
    }
   },
   "id": "4726a091e27413f",
   "execution_count": 29
  },
  {
   "cell_type": "markdown",
   "source": [
    "# Load the dataset"
   ],
   "metadata": {
    "collapsed": false
   },
   "id": "21d4b01f161f0ea2"
  },
  {
   "cell_type": "code",
   "outputs": [],
   "source": [
    "filepath = os.path.join(os.path.dirname(os.getcwd()), 'agent_data', \n",
    "             'Generative_AI_Client_Questions_and_Lighthouse_Contents.xlsx')\n",
    "data = pd.read_excel(filepath, sheet_name='Content Links (Future Of X)', skiprows= 3)\n",
    "data.columns = data.columns.map(lambda x: re.sub(r'\\W+', '_', x))\n",
    "data = data[[\"Title\", \"Link\"]]\n",
    "data_dict = data.set_index('Link')['Title'].to_dict()\n",
    "\n",
    "# load the questions\n",
    "Qs = pd.read_excel(filepath, sheet_name='Master Data Source')\n",
    "Qs = Qs.dropna(subset=['Question'])\n",
    "Qs = Qs.Question.unique()\n",
    "Qs_dict = {q: False for q in Qs}\n",
    "article_links = data.dropna(subset=['Link'])\n",
    "article_links = article_links.Link.to_list()"
   ],
   "metadata": {
    "collapsed": false,
    "ExecuteTime": {
     "end_time": "2024-02-23T05:10:13.705051Z",
     "start_time": "2024-02-23T05:10:13.601241Z"
    }
   },
   "id": "ff4476035a0e1f76",
   "execution_count": 36
  },
  {
   "cell_type": "markdown",
   "source": [
    " # Remove invalid urls and sharepoint urls"
   ],
   "metadata": {
    "collapsed": false
   },
   "id": "812fe0a7507e3c01"
  },
  {
   "cell_type": "code",
   "outputs": [],
   "source": [
    "valid_non_pdf_links = [url for url in article_links if is_valid_url(url) and not (is_sharepoint_url(url) or is_pdf(url))]\n",
    "pdf_urls = [url for url in article_links if  is_pdf(url)]\n",
    "\n",
    "non_pdf_url_path = os.path.join(os.path.dirname(os.getcwd()), 'agent_data', \n",
    "             'valid_non_pdf_urls.pkl')\n",
    "pdf_url_path = os.path.join(os.path.dirname(os.getcwd()), 'agent_data', \n",
    "             'pdf_urls.pkl')\n",
    "\n",
    "# Save the urls to disk\n",
    "with open(non_pdf_url_path, 'wb') as f:\n",
    "    pickle.dump(valid_non_pdf_links, f)\n",
    "with open(pdf_url_path, 'wb') as f:\n",
    "    pickle.dump(pdf_urls, f)"
   ],
   "metadata": {
    "collapsed": false,
    "ExecuteTime": {
     "end_time": "2024-02-23T05:47:16.116216Z",
     "start_time": "2024-02-23T05:47:16.110434Z"
    }
   },
   "id": "aa0b1fd5f6fe3199",
   "execution_count": 73
  },
  {
   "cell_type": "markdown",
   "source": [
    "# Load urls"
   ],
   "metadata": {
    "collapsed": false
   },
   "id": "ef8039a9fae34124"
  },
  {
   "cell_type": "code",
   "outputs": [],
   "source": [
    "# load pdf pickle from disk\n",
    "pdf_url_path = os.path.join(os.path.dirname(os.getcwd()), 'agent_data', \n",
    "             'pdf_urls.pkl')\n",
    "with open(pdf_url_path, 'rb') as f:\n",
    "    pdf_urls2 = pickle.load(f)\n",
    "    "
   ],
   "metadata": {
    "collapsed": false,
    "ExecuteTime": {
     "end_time": "2024-02-23T05:47:46.385797Z",
     "start_time": "2024-02-23T05:47:46.381119Z"
    }
   },
   "id": "df5f0f59ae1c5898",
   "execution_count": 74
  },
  {
   "cell_type": "markdown",
   "source": [
    "# Chunk the url contents before embedding"
   ],
   "metadata": {
    "collapsed": false
   },
   "id": "8a23888a1ff45fa4"
  },
  {
   "cell_type": "code",
   "outputs": [],
   "source": [
    "# chunk the urls\n",
    "loader = UnstructuredURLLoader(\n",
    "    urls=valid_non_pdf_links, continue_on_failure=True, headers={\"User-Agent\": \"value\"}\n",
    ",)\n",
    "valid_non_pdf_docs = loader.load_data()"
   ],
   "metadata": {
    "collapsed": false
   },
   "id": "1ae438052d4d8137",
   "execution_count": null
  },
  {
   "cell_type": "markdown",
   "source": [
    "# update the metdata for each document object"
   ],
   "metadata": {
    "collapsed": false
   },
   "id": "93158697dd28023d"
  },
  {
   "cell_type": "code",
   "outputs": [],
   "source": [
    "for i in range(len(valid_non_pdf_docs)):\n",
    "    valid_non_pdf_docs[i].metadata = {'title': data_dict[valid_non_pdf_docs[i].metadata['source']], \n",
    "        'source': valid_non_pdf_docs[i].metadata['source']}"
   ],
   "metadata": {
    "collapsed": false,
    "ExecuteTime": {
     "end_time": "2024-02-23T05:31:25.577675Z",
     "start_time": "2024-02-23T05:31:25.572360Z"
    }
   },
   "id": "886926c2e07b0e70",
   "execution_count": 61
  },
  {
   "cell_type": "code",
   "outputs": [],
   "source": [],
   "metadata": {
    "collapsed": false
   },
   "id": "a5466e8b3c2c8869"
  }
 ],
 "metadata": {
  "kernelspec": {
   "display_name": "Python 3",
   "language": "python",
   "name": "python3"
  },
  "language_info": {
   "codemirror_mode": {
    "name": "ipython",
    "version": 2
   },
   "file_extension": ".py",
   "mimetype": "text/x-python",
   "name": "python",
   "nbconvert_exporter": "python",
   "pygments_lexer": "ipython2",
   "version": "2.7.6"
  }
 },
 "nbformat": 4,
 "nbformat_minor": 5
}
