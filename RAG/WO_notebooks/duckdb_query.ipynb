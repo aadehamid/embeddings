{
 "cells": [
  {
   "cell_type": "code",
   "execution_count": 1,
   "metadata": {},
   "outputs": [],
   "source": [
    "import pandas as pd\n",
    "import duckdb\n",
    "from rich import print as rprint\n",
    "import logging\n",
    "import sys\n",
    "import sqlite3"
   ]
  },
  {
   "cell_type": "code",
   "execution_count": 2,
   "metadata": {},
   "outputs": [
    {
     "data": {
      "text/html": [
       "<pre style=\"white-space:pre;overflow-x:auto;line-height:normal;font-family:Menlo,'DejaVu Sans Mono',consolas,'Courier New',monospace\"><span style=\"color: #800080; text-decoration-color: #800080; font-weight: bold\">Index</span><span style=\"font-weight: bold\">([</span><span style=\"color: #008000; text-decoration-color: #008000\">'Product_Name'</span>, <span style=\"color: #008000; text-decoration-color: #008000\">'Price'</span>, <span style=\"color: #008000; text-decoration-color: #008000\">'Rating'</span>, <span style=\"color: #008000; text-decoration-color: #008000\">'Description'</span>, <span style=\"color: #008000; text-decoration-color: #008000\">'Features'</span><span style=\"font-weight: bold\">]</span>, <span style=\"color: #808000; text-decoration-color: #808000\">dtype</span>=<span style=\"color: #008000; text-decoration-color: #008000\">'object'</span><span style=\"font-weight: bold\">)</span>\n",
       "</pre>\n"
      ],
      "text/plain": [
       "\u001b[1;35mIndex\u001b[0m\u001b[1m(\u001b[0m\u001b[1m[\u001b[0m\u001b[32m'Product_Name'\u001b[0m, \u001b[32m'Price'\u001b[0m, \u001b[32m'Rating'\u001b[0m, \u001b[32m'Description'\u001b[0m, \u001b[32m'Features'\u001b[0m\u001b[1m]\u001b[0m, \u001b[33mdtype\u001b[0m=\u001b[32m'object'\u001b[0m\u001b[1m)\u001b[0m\n"
      ]
     },
     "metadata": {},
     "output_type": "display_data"
    }
   ],
   "source": [
    "filepath = \"/teamspace/studios/Data_Studio/product_listing/product_listing.csv\"\n",
    "data = pd.read_csv(filepath)\n",
    "data.columns = ['Product_Name', 'Price', 'Rating', 'Description', 'Features']\n",
    "rprint(data.columns)"
   ]
  },
  {
   "cell_type": "code",
   "execution_count": 46,
   "metadata": {},
   "outputs": [
    {
     "data": {
      "text/html": [
       "<div>\n",
       "<style scoped>\n",
       "    .dataframe tbody tr th:only-of-type {\n",
       "        vertical-align: middle;\n",
       "    }\n",
       "\n",
       "    .dataframe tbody tr th {\n",
       "        vertical-align: top;\n",
       "    }\n",
       "\n",
       "    .dataframe thead th {\n",
       "        text-align: right;\n",
       "    }\n",
       "</style>\n",
       "<table border=\"1\" class=\"dataframe\">\n",
       "  <thead>\n",
       "    <tr style=\"text-align: right;\">\n",
       "      <th></th>\n",
       "      <th>Product_Name</th>\n",
       "      <th>Price</th>\n",
       "      <th>Rating</th>\n",
       "      <th>Description</th>\n",
       "      <th>Features</th>\n",
       "    </tr>\n",
       "  </thead>\n",
       "  <tbody>\n",
       "    <tr>\n",
       "      <th>11</th>\n",
       "      <td>Home Gym Resistance Bands Set</td>\n",
       "      <td>49.99</td>\n",
       "      <td>4.3</td>\n",
       "      <td>Get a full-body workout at home with our Home ...</td>\n",
       "      <td>- Set includes multiple bands with different r...</td>\n",
       "    </tr>\n",
       "  </tbody>\n",
       "</table>\n",
       "</div>"
      ],
      "text/plain": [
       "                     Product_Name  Price  Rating  \\\n",
       "11  Home Gym Resistance Bands Set  49.99     4.3   \n",
       "\n",
       "                                          Description  \\\n",
       "11  Get a full-body workout at home with our Home ...   \n",
       "\n",
       "                                             Features  \n",
       "11  - Set includes multiple bands with different r...  "
      ]
     },
     "execution_count": 46,
     "metadata": {},
     "output_type": "execute_result"
    }
   ],
   "source": [
    "data.tail(1)"
   ]
  },
  {
   "cell_type": "code",
   "execution_count": 4,
   "metadata": {},
   "outputs": [
    {
     "data": {
      "text/html": [
       "<div>\n",
       "<style scoped>\n",
       "    .dataframe tbody tr th:only-of-type {\n",
       "        vertical-align: middle;\n",
       "    }\n",
       "\n",
       "    .dataframe tbody tr th {\n",
       "        vertical-align: top;\n",
       "    }\n",
       "\n",
       "    .dataframe thead th {\n",
       "        text-align: right;\n",
       "    }\n",
       "</style>\n",
       "<table border=\"1\" class=\"dataframe\">\n",
       "  <thead>\n",
       "    <tr style=\"text-align: right;\">\n",
       "      <th></th>\n",
       "      <th>Product_Name</th>\n",
       "      <th>Price</th>\n",
       "      <th>Rating</th>\n",
       "      <th>Description</th>\n",
       "      <th>Features</th>\n",
       "    </tr>\n",
       "  </thead>\n",
       "  <tbody>\n",
       "    <tr>\n",
       "      <th>0</th>\n",
       "      <td>Ultimate Wireless Bluetooth Earbuds</td>\n",
       "      <td>79.99</td>\n",
       "      <td>4.4</td>\n",
       "      <td>Elevate your music experience with our Ultimat...</td>\n",
       "      <td>- High-fidelity sound with deep bass and clear...</td>\n",
       "    </tr>\n",
       "    <tr>\n",
       "      <th>3</th>\n",
       "      <td>Portable Solar Charger</td>\n",
       "      <td>79.99</td>\n",
       "      <td>4.0</td>\n",
       "      <td>Stay charged on the go with our Portable Solar...</td>\n",
       "      <td>- High-efficiency solar panels for rapid charg...</td>\n",
       "    </tr>\n",
       "  </tbody>\n",
       "</table>\n",
       "</div>"
      ],
      "text/plain": [
       "                          Product_Name  Price  Rating  \\\n",
       "0  Ultimate Wireless Bluetooth Earbuds  79.99     4.4   \n",
       "3               Portable Solar Charger  79.99     4.0   \n",
       "\n",
       "                                         Description  \\\n",
       "0  Elevate your music experience with our Ultimat...   \n",
       "3  Stay charged on the go with our Portable Solar...   \n",
       "\n",
       "                                            Features  \n",
       "0  - High-fidelity sound with deep bass and clear...  \n",
       "3  - High-efficiency solar panels for rapid charg...  "
      ]
     },
     "execution_count": 4,
     "metadata": {},
     "output_type": "execute_result"
    }
   ],
   "source": [
    "data.loc[data.Price == 79.99, :]"
   ]
  },
  {
   "cell_type": "code",
   "execution_count": 3,
   "metadata": {},
   "outputs": [
    {
     "data": {
      "text/plain": [
       "12"
      ]
     },
     "execution_count": 3,
     "metadata": {},
     "output_type": "execute_result"
    }
   ],
   "source": [
    "# Create a connection to an SQLite database file\n",
    "conn = sqlite3.connect('./data/product_sqlite.db')\n",
    "\n",
    "# Write the DataFrame to a table in the SQLite database\n",
    "data.to_sql('product_table', conn, if_exists='replace', index=False)"
   ]
  },
  {
   "cell_type": "code",
   "execution_count": 4,
   "metadata": {},
   "outputs": [
    {
     "data": {
      "text/html": [
       "<pre style=\"white-space:pre;overflow-x:auto;line-height:normal;font-family:Menlo,'DejaVu Sans Mono',consolas,'Courier New',monospace\"><span style=\"font-weight: bold\">(</span>\n",
       "    <span style=\"color: #008000; text-decoration-color: #008000\">'Ultimate Wireless Bluetooth Earbuds'</span>,\n",
       "    <span style=\"color: #008080; text-decoration-color: #008080; font-weight: bold\">79.99</span>,\n",
       "    <span style=\"color: #008080; text-decoration-color: #008080; font-weight: bold\">4.4</span>,\n",
       "    <span style=\"color: #008000; text-decoration-color: #008000\">\"Elevate your music experience with our Ultimate Wireless Bluetooth Earbuds. These earbuds are designed for </span>\n",
       "<span style=\"color: #008000; text-decoration-color: #008000\">audiophiles who demand premium sound quality and convenience. With advanced Bluetooth 5.0 technology, you'll enjoy </span>\n",
       "<span style=\"color: #008000; text-decoration-color: #008000\">seamless connectivity and crystal-clear audio.\"</span>,\n",
       "    <span style=\"color: #008000; text-decoration-color: #008000\">'- High-fidelity sound with deep bass and clear treble. - Noise-canceling technology for an immersive listening</span>\n",
       "<span style=\"color: #008000; text-decoration-color: #008000\">experience. - 20 hours of playtime on a single charge. - Ergonomic design for a secure and comfortable fit. - Touch</span>\n",
       "<span style=\"color: #008000; text-decoration-color: #008000\">controls for easy playback and calls. - IPX7 waterproof rating for workouts and outdoor activities. - Built-in </span>\n",
       "<span style=\"color: #008000; text-decoration-color: #008000\">microphone for hands-free calls.'</span>\n",
       "<span style=\"font-weight: bold\">)</span>\n",
       "</pre>\n"
      ],
      "text/plain": [
       "\u001b[1m(\u001b[0m\n",
       "    \u001b[32m'Ultimate Wireless Bluetooth Earbuds'\u001b[0m,\n",
       "    \u001b[1;36m79.99\u001b[0m,\n",
       "    \u001b[1;36m4.4\u001b[0m,\n",
       "    \u001b[32m\"Elevate your music experience with our Ultimate Wireless Bluetooth Earbuds. These earbuds are designed for \u001b[0m\n",
       "\u001b[32maudiophiles who demand premium sound quality and convenience. With advanced Bluetooth 5.0 technology, you'll enjoy \u001b[0m\n",
       "\u001b[32mseamless connectivity and crystal-clear audio.\"\u001b[0m,\n",
       "    \u001b[32m'- High-fidelity sound with deep bass and clear treble. - Noise-canceling technology for an immersive listening\u001b[0m\n",
       "\u001b[32mexperience. - 20 hours of playtime on a single charge. - Ergonomic design for a secure and comfortable fit. - Touch\u001b[0m\n",
       "\u001b[32mcontrols for easy playback and calls. - IPX7 waterproof rating for workouts and outdoor activities. - Built-in \u001b[0m\n",
       "\u001b[32mmicrophone for hands-free calls.'\u001b[0m\n",
       "\u001b[1m)\u001b[0m\n"
      ]
     },
     "metadata": {},
     "output_type": "display_data"
    },
    {
     "data": {
      "text/html": [
       "<pre style=\"white-space:pre;overflow-x:auto;line-height:normal;font-family:Menlo,'DejaVu Sans Mono',consolas,'Courier New',monospace\"><span style=\"font-weight: bold\">(</span>\n",
       "    <span style=\"color: #008000; text-decoration-color: #008000\">'SmartHome Security Camera System'</span>,\n",
       "    <span style=\"color: #008080; text-decoration-color: #008080; font-weight: bold\">199.99</span>,\n",
       "    <span style=\"color: #008080; text-decoration-color: #008080; font-weight: bold\">4.6</span>,\n",
       "    <span style=\"color: #008000; text-decoration-color: #008000\">\"Keep your home safe and secure with our SmartHome Security Camera System. This comprehensive package includes </span>\n",
       "<span style=\"color: #008000; text-decoration-color: #008000\">everything you need to monitor your property, inside and out. Whether you're at home or on the go, you can access </span>\n",
       "<span style=\"color: #008000; text-decoration-color: #008000\">live video feeds and receive instant alerts on your smartphone.\"</span>,\n",
       "    <span style=\"color: #008000; text-decoration-color: #008000\">'- 1080p HD cameras for crystal-clear video quality. - Night vision technology for 24/7 surveillance. - Motion </span>\n",
       "<span style=\"color: #008000; text-decoration-color: #008000\">detection with customizable alert zones. - Two-way audio for communication with visitors. - Smartphone app for </span>\n",
       "<span style=\"color: #008000; text-decoration-color: #008000\">remote monitoring and control. - Expandable system with additional cameras and storage options. - Cloud storage and</span>\n",
       "<span style=\"color: #008000; text-decoration-color: #008000\">local backup for video footage. - Easy DIY installation with mounting hardware included.'</span>\n",
       "<span style=\"font-weight: bold\">)</span>\n",
       "</pre>\n"
      ],
      "text/plain": [
       "\u001b[1m(\u001b[0m\n",
       "    \u001b[32m'SmartHome Security Camera System'\u001b[0m,\n",
       "    \u001b[1;36m199.99\u001b[0m,\n",
       "    \u001b[1;36m4.6\u001b[0m,\n",
       "    \u001b[32m\"Keep your home safe and secure with our SmartHome Security Camera System. This comprehensive package includes \u001b[0m\n",
       "\u001b[32meverything you need to monitor your property, inside and out. Whether you're at home or on the go, you can access \u001b[0m\n",
       "\u001b[32mlive video feeds and receive instant alerts on your smartphone.\"\u001b[0m,\n",
       "    \u001b[32m'- 1080p HD cameras for crystal-clear video quality. - Night vision technology for 24/7 surveillance. - Motion \u001b[0m\n",
       "\u001b[32mdetection with customizable alert zones. - Two-way audio for communication with visitors. - Smartphone app for \u001b[0m\n",
       "\u001b[32mremote monitoring and control. - Expandable system with additional cameras and storage options. - Cloud storage and\u001b[0m\n",
       "\u001b[32mlocal backup for video footage. - Easy DIY installation with mounting hardware included.'\u001b[0m\n",
       "\u001b[1m)\u001b[0m\n"
      ]
     },
     "metadata": {},
     "output_type": "display_data"
    }
   ],
   "source": [
    "# SQLITE\n",
    "\n",
    "result = conn.execute(\"SELECT * FROM product_table limit 2\").fetchall()\n",
    "\n",
    "# Process the result\n",
    "for row in result:\n",
    "    rprint(row)"
   ]
  },
  {
   "cell_type": "code",
   "execution_count": 5,
   "metadata": {},
   "outputs": [],
   "source": [
    "from llama_index import (\n",
    "    SQLDatabase,\n",
    "    SimpleDirectoryReader,\n",
    "    Document,\n",
    "    StorageContext,\n",
    ")\n",
    "from llama_index.indices.struct_store import (\n",
    "    NLSQLTableQueryEngine,\n",
    "    SQLTableRetrieverQueryEngine,\n",
    ")\n",
    "from IPython.display import Markdown, display"
   ]
  },
  {
   "attachments": {},
   "cell_type": "markdown",
   "metadata": {},
   "source": [
    "## Create SQLDatabase Object"
   ]
  },
  {
   "cell_type": "code",
   "execution_count": 6,
   "metadata": {},
   "outputs": [],
   "source": [
    "from llama_index import SQLDatabase\n",
    "from sqlalchemy import engine, MetaData, create_engine, text, select"
   ]
  },
  {
   "cell_type": "code",
   "execution_count": 7,
   "metadata": {},
   "outputs": [
    {
     "data": {
      "text/html": [
       "<pre style=\"white-space:pre;overflow-x:auto;line-height:normal;font-family:Menlo,'DejaVu Sans Mono',consolas,'Courier New',monospace\"><span style=\"font-weight: bold\">(</span><span style=\"color: #008000; text-decoration-color: #008000\">'Ultimate Wireless Bluetooth Earbuds'</span>, <span style=\"color: #008080; text-decoration-color: #008080; font-weight: bold\">79.99</span>, <span style=\"color: #008080; text-decoration-color: #008080; font-weight: bold\">4.4</span>, <span style=\"color: #008000; text-decoration-color: #008000\">\"Elevate your music experience with our Ultimate Wireless </span>\n",
       "<span style=\"color: #008000; text-decoration-color: #008000\">Bluetooth Earbuds. These earbuds are designed for audiophiles who demand premium sound quality and convenience. </span>\n",
       "<span style=\"color: #008000; text-decoration-color: #008000\">With advanced Bluetooth 5.0 technology, you'll enjoy seamless connectivity and crystal-clear audio.\"</span>, <span style=\"color: #008000; text-decoration-color: #008000\">'- </span>\n",
       "<span style=\"color: #008000; text-decoration-color: #008000\">High-fidelity sound with deep bass and clear treble. - Noise-canceling technology for an immersive listening </span>\n",
       "<span style=\"color: #008000; text-decoration-color: #008000\">experience. - 20 hours of playtime on  ... (72 characters truncated) ... Touch controls for easy playback and </span>\n",
       "<span style=\"color: #008000; text-decoration-color: #008000\">calls. - IPX7 waterproof rating for workouts and outdoor activities. - Built-in microphone for hands-free calls.'</span><span style=\"font-weight: bold\">)</span>\n",
       "</pre>\n"
      ],
      "text/plain": [
       "\u001b[1m(\u001b[0m\u001b[32m'Ultimate Wireless Bluetooth Earbuds'\u001b[0m, \u001b[1;36m79.99\u001b[0m, \u001b[1;36m4.4\u001b[0m, \u001b[32m\"Elevate your music experience with our Ultimate Wireless \u001b[0m\n",
       "\u001b[32mBluetooth Earbuds. These earbuds are designed for audiophiles who demand premium sound quality and convenience. \u001b[0m\n",
       "\u001b[32mWith advanced Bluetooth 5.0 technology, you'll enjoy seamless connectivity and crystal-clear audio.\"\u001b[0m, \u001b[32m'- \u001b[0m\n",
       "\u001b[32mHigh-fidelity sound with deep bass and clear treble. - Noise-canceling technology for an immersive listening \u001b[0m\n",
       "\u001b[32mexperience. - 20 hours of playtime on  ... \u001b[0m\u001b[32m(\u001b[0m\u001b[32m72 characters truncated\u001b[0m\u001b[32m)\u001b[0m\u001b[32m ... Touch controls for easy playback and \u001b[0m\n",
       "\u001b[32mcalls. - IPX7 waterproof rating for workouts and outdoor activities. - Built-in microphone for hands-free calls.'\u001b[0m\u001b[1m)\u001b[0m\n"
      ]
     },
     "metadata": {},
     "output_type": "display_data"
    },
    {
     "data": {
      "text/html": [
       "<pre style=\"white-space:pre;overflow-x:auto;line-height:normal;font-family:Menlo,'DejaVu Sans Mono',consolas,'Courier New',monospace\"><span style=\"font-weight: bold\">(</span><span style=\"color: #008000; text-decoration-color: #008000\">'Portable Solar Charger'</span>, <span style=\"color: #008080; text-decoration-color: #008080; font-weight: bold\">79.99</span>, <span style=\"color: #008080; text-decoration-color: #008080; font-weight: bold\">4.0</span>, <span style=\"color: #008000; text-decoration-color: #008000\">'Stay charged on the go with our Portable Solar Charger. Harness the power </span>\n",
       "<span style=\"color: #008000; text-decoration-color: #008000\">of the sun to keep your devices powered wherever you are.'</span>, <span style=\"color: #008000; text-decoration-color: #008000\">'- High-efficiency solar panels for rapid charging.&lt;br&gt;</span>\n",
       "<span style=\"color: #008000; text-decoration-color: #008000\">- Built-in USB ports compatible with various devices.&lt;br&gt; - Compact and foldable design for easy carrying.&lt;br&gt; - </span>\n",
       "<span style=\"color: #008000; text-decoration-color: #008000\">Built-in battery for storing solar energy.&lt;br&gt; - LED indicators show charging status.&lt;br&gt; - Water-resistant for </span>\n",
       "<span style=\"color: #008000; text-decoration-color: #008000\">outdoor use.'</span><span style=\"font-weight: bold\">)</span>\n",
       "</pre>\n"
      ],
      "text/plain": [
       "\u001b[1m(\u001b[0m\u001b[32m'Portable Solar Charger'\u001b[0m, \u001b[1;36m79.99\u001b[0m, \u001b[1;36m4.0\u001b[0m, \u001b[32m'Stay charged on the go with our Portable Solar Charger. Harness the power \u001b[0m\n",
       "\u001b[32mof the sun to keep your devices powered wherever you are.'\u001b[0m, \u001b[32m'- High-efficiency solar panels for rapid charging.\u001b[0m\u001b[32m<\u001b[0m\u001b[32mbr\u001b[0m\u001b[32m>\u001b[0m\n",
       "\u001b[32m- Built-in USB ports compatible with various devices.<br> - Compact and foldable design for easy carrying.<br> - \u001b[0m\n",
       "\u001b[32mBuilt-in battery for storing solar energy.<br> - LED indicators show charging status.<br\u001b[0m\u001b[32m>\u001b[0m\u001b[32m - Water-resistant for \u001b[0m\n",
       "\u001b[32moutdoor use.'\u001b[0m\u001b[1m)\u001b[0m\n"
      ]
     },
     "metadata": {},
     "output_type": "display_data"
    }
   ],
   "source": [
    "# SQLITE\n",
    "engine = create_engine(\"sqlite:///\" +\"./data/product_sqlite.db\")\n",
    "connection = engine.connect()\n",
    "result = connection.execute(text(\"SELECT * FROM product_table WHERE Price = 79.99\"))\n",
    "for row in result:\n",
    "    rprint(row)\n"
   ]
  },
  {
   "attachments": {},
   "cell_type": "markdown",
   "metadata": {},
   "source": [
    "## Define SQL Database"
   ]
  },
  {
   "cell_type": "code",
   "execution_count": 10,
   "metadata": {},
   "outputs": [],
   "source": [
    "from llama_index import SQLDatabase, ServiceContext\n",
    "from llama_index.llms import OpenAI"
   ]
  },
  {
   "cell_type": "code",
   "execution_count": 11,
   "metadata": {},
   "outputs": [],
   "source": [
    "llm = OpenAI(temperature=0.1, model = \"gpt-3.5-turbo\")\n",
    "service_context = ServiceContext.from_defaults(llm =llm)\n",
    "sql_database = SQLDatabase(engine, include_tables=[\"product_table\"])"
   ]
  },
  {
   "attachments": {},
   "cell_type": "markdown",
   "metadata": {},
   "source": [
    "## Text to SQL Query Engine"
   ]
  },
  {
   "cell_type": "code",
   "execution_count": 12,
   "metadata": {},
   "outputs": [],
   "source": [
    "from llama_index.indices.struct_store.sql_query import NLSQLTableQueryEngine"
   ]
  },
  {
   "cell_type": "code",
   "execution_count": 13,
   "metadata": {},
   "outputs": [
    {
     "data": {
      "text/html": [
       "<pre style=\"white-space:pre;overflow-x:auto;line-height:normal;font-family:Menlo,'DejaVu Sans Mono',consolas,'Courier New',monospace\"><span style=\"color: #800080; text-decoration-color: #800080; font-weight: bold\">Response</span><span style=\"font-weight: bold\">(</span>\n",
       "    <span style=\"color: #808000; text-decoration-color: #808000\">response</span>=<span style=\"color: #008000; text-decoration-color: #008000\">'The products that were sold for 79.99 are the Ultimate Wireless Bluetooth Earbuds and the Portable </span>\n",
       "<span style=\"color: #008000; text-decoration-color: #008000\">Solar Charger.'</span>,\n",
       "    <span style=\"color: #808000; text-decoration-color: #808000\">source_nodes</span>=<span style=\"font-weight: bold\">[</span>\n",
       "        <span style=\"color: #800080; text-decoration-color: #800080; font-weight: bold\">NodeWithScore</span><span style=\"font-weight: bold\">(</span>\n",
       "            <span style=\"color: #808000; text-decoration-color: #808000\">node</span>=<span style=\"color: #800080; text-decoration-color: #800080; font-weight: bold\">TextNode</span><span style=\"font-weight: bold\">(</span>\n",
       "                <span style=\"color: #808000; text-decoration-color: #808000\">id_</span>=<span style=\"color: #008000; text-decoration-color: #008000\">'5acd51a8-91ff-40a0-8e93-db3f0907a866'</span>,\n",
       "                <span style=\"color: #808000; text-decoration-color: #808000\">embedding</span>=<span style=\"color: #800080; text-decoration-color: #800080; font-style: italic\">None</span>,\n",
       "                <span style=\"color: #808000; text-decoration-color: #808000\">metadata</span>=<span style=\"font-weight: bold\">{}</span>,\n",
       "                <span style=\"color: #808000; text-decoration-color: #808000\">excluded_embed_metadata_keys</span>=<span style=\"font-weight: bold\">[]</span>,\n",
       "                <span style=\"color: #808000; text-decoration-color: #808000\">excluded_llm_metadata_keys</span>=<span style=\"font-weight: bold\">[]</span>,\n",
       "                <span style=\"color: #808000; text-decoration-color: #808000\">relationships</span>=<span style=\"font-weight: bold\">{}</span>,\n",
       "                <span style=\"color: #808000; text-decoration-color: #808000\">text</span>=<span style=\"color: #008000; text-decoration-color: #008000\">\"[('Ultimate Wireless Bluetooth Earbuds',), ('Portable Solar Charger',)]\"</span>,\n",
       "                <span style=\"color: #808000; text-decoration-color: #808000\">start_char_idx</span>=<span style=\"color: #800080; text-decoration-color: #800080; font-style: italic\">None</span>,\n",
       "                <span style=\"color: #808000; text-decoration-color: #808000\">end_char_idx</span>=<span style=\"color: #800080; text-decoration-color: #800080; font-style: italic\">None</span>,\n",
       "                <span style=\"color: #808000; text-decoration-color: #808000\">text_template</span>=<span style=\"color: #008000; text-decoration-color: #008000\">'{metadata_str}\\n\\n{content}'</span>,\n",
       "                <span style=\"color: #808000; text-decoration-color: #808000\">metadata_template</span>=<span style=\"color: #008000; text-decoration-color: #008000\">'{key}: {value}'</span>,\n",
       "                <span style=\"color: #808000; text-decoration-color: #808000\">metadata_seperator</span>=<span style=\"color: #008000; text-decoration-color: #008000\">'\\n'</span>\n",
       "            <span style=\"font-weight: bold\">)</span>,\n",
       "            <span style=\"color: #808000; text-decoration-color: #808000\">score</span>=<span style=\"color: #800080; text-decoration-color: #800080; font-style: italic\">None</span>\n",
       "        <span style=\"font-weight: bold\">)</span>\n",
       "    <span style=\"font-weight: bold\">]</span>,\n",
       "    <span style=\"color: #808000; text-decoration-color: #808000\">metadata</span>=<span style=\"font-weight: bold\">{</span>\n",
       "        <span style=\"color: #008000; text-decoration-color: #008000\">'5acd51a8-91ff-40a0-8e93-db3f0907a866'</span>: <span style=\"font-weight: bold\">{}</span>,\n",
       "        <span style=\"color: #008000; text-decoration-color: #008000\">'sql_query'</span>: <span style=\"color: #008000; text-decoration-color: #008000\">'SELECT Product_Name\\nFROM product_table\\nWHERE Price = 79.99;'</span>,\n",
       "        <span style=\"color: #008000; text-decoration-color: #008000\">'result'</span>: <span style=\"font-weight: bold\">[(</span><span style=\"color: #008000; text-decoration-color: #008000\">'Ultimate Wireless Bluetooth Earbuds'</span>,<span style=\"font-weight: bold\">)</span>, <span style=\"font-weight: bold\">(</span><span style=\"color: #008000; text-decoration-color: #008000\">'Portable Solar Charger'</span>,<span style=\"font-weight: bold\">)]</span>,\n",
       "        <span style=\"color: #008000; text-decoration-color: #008000\">'col_keys'</span>: <span style=\"font-weight: bold\">[</span><span style=\"color: #008000; text-decoration-color: #008000\">'Product_Name'</span><span style=\"font-weight: bold\">]</span>\n",
       "    <span style=\"font-weight: bold\">}</span>\n",
       "<span style=\"font-weight: bold\">)</span>\n",
       "</pre>\n"
      ],
      "text/plain": [
       "\u001b[1;35mResponse\u001b[0m\u001b[1m(\u001b[0m\n",
       "    \u001b[33mresponse\u001b[0m=\u001b[32m'The products that were sold for 79.99 are the Ultimate Wireless Bluetooth Earbuds and the Portable \u001b[0m\n",
       "\u001b[32mSolar Charger.'\u001b[0m,\n",
       "    \u001b[33msource_nodes\u001b[0m=\u001b[1m[\u001b[0m\n",
       "        \u001b[1;35mNodeWithScore\u001b[0m\u001b[1m(\u001b[0m\n",
       "            \u001b[33mnode\u001b[0m=\u001b[1;35mTextNode\u001b[0m\u001b[1m(\u001b[0m\n",
       "                \u001b[33mid_\u001b[0m=\u001b[32m'5acd51a8-91ff-40a0-8e93-db3f0907a866'\u001b[0m,\n",
       "                \u001b[33membedding\u001b[0m=\u001b[3;35mNone\u001b[0m,\n",
       "                \u001b[33mmetadata\u001b[0m=\u001b[1m{\u001b[0m\u001b[1m}\u001b[0m,\n",
       "                \u001b[33mexcluded_embed_metadata_keys\u001b[0m=\u001b[1m[\u001b[0m\u001b[1m]\u001b[0m,\n",
       "                \u001b[33mexcluded_llm_metadata_keys\u001b[0m=\u001b[1m[\u001b[0m\u001b[1m]\u001b[0m,\n",
       "                \u001b[33mrelationships\u001b[0m=\u001b[1m{\u001b[0m\u001b[1m}\u001b[0m,\n",
       "                \u001b[33mtext\u001b[0m=\u001b[32m\"\u001b[0m\u001b[32m[\u001b[0m\u001b[32m(\u001b[0m\u001b[32m'Ultimate Wireless Bluetooth Earbuds',\u001b[0m\u001b[32m)\u001b[0m\u001b[32m, \u001b[0m\u001b[32m(\u001b[0m\u001b[32m'Portable Solar Charger',\u001b[0m\u001b[32m)\u001b[0m\u001b[32m]\u001b[0m\u001b[32m\"\u001b[0m,\n",
       "                \u001b[33mstart_char_idx\u001b[0m=\u001b[3;35mNone\u001b[0m,\n",
       "                \u001b[33mend_char_idx\u001b[0m=\u001b[3;35mNone\u001b[0m,\n",
       "                \u001b[33mtext_template\u001b[0m=\u001b[32m'\u001b[0m\u001b[32m{\u001b[0m\u001b[32mmetadata_str\u001b[0m\u001b[32m}\u001b[0m\u001b[32m\\n\\n\u001b[0m\u001b[32m{\u001b[0m\u001b[32mcontent\u001b[0m\u001b[32m}\u001b[0m\u001b[32m'\u001b[0m,\n",
       "                \u001b[33mmetadata_template\u001b[0m=\u001b[32m'\u001b[0m\u001b[32m{\u001b[0m\u001b[32mkey\u001b[0m\u001b[32m}\u001b[0m\u001b[32m: \u001b[0m\u001b[32m{\u001b[0m\u001b[32mvalue\u001b[0m\u001b[32m}\u001b[0m\u001b[32m'\u001b[0m,\n",
       "                \u001b[33mmetadata_seperator\u001b[0m=\u001b[32m'\\n'\u001b[0m\n",
       "            \u001b[1m)\u001b[0m,\n",
       "            \u001b[33mscore\u001b[0m=\u001b[3;35mNone\u001b[0m\n",
       "        \u001b[1m)\u001b[0m\n",
       "    \u001b[1m]\u001b[0m,\n",
       "    \u001b[33mmetadata\u001b[0m=\u001b[1m{\u001b[0m\n",
       "        \u001b[32m'5acd51a8-91ff-40a0-8e93-db3f0907a866'\u001b[0m: \u001b[1m{\u001b[0m\u001b[1m}\u001b[0m,\n",
       "        \u001b[32m'sql_query'\u001b[0m: \u001b[32m'SELECT Product_Name\\nFROM product_table\\nWHERE Price = 79.99;'\u001b[0m,\n",
       "        \u001b[32m'result'\u001b[0m: \u001b[1m[\u001b[0m\u001b[1m(\u001b[0m\u001b[32m'Ultimate Wireless Bluetooth Earbuds'\u001b[0m,\u001b[1m)\u001b[0m, \u001b[1m(\u001b[0m\u001b[32m'Portable Solar Charger'\u001b[0m,\u001b[1m)\u001b[0m\u001b[1m]\u001b[0m,\n",
       "        \u001b[32m'col_keys'\u001b[0m: \u001b[1m[\u001b[0m\u001b[32m'Product_Name'\u001b[0m\u001b[1m]\u001b[0m\n",
       "    \u001b[1m}\u001b[0m\n",
       "\u001b[1m)\u001b[0m\n"
      ]
     },
     "metadata": {},
     "output_type": "display_data"
    }
   ],
   "source": [
    "query_engine = NLSQLTableQueryEngine(\n",
    "    sql_database = sql_database,\n",
    "    tables = [\"product_table\"])\n",
    "query_str = \"Which product was sold for 79.99?\"\n",
    "response = query_engine.query(query_str)\n",
    "rprint(response)"
   ]
  },
  {
   "attachments": {},
   "cell_type": "markdown",
   "metadata": {},
   "source": [
    "## Part 2: Query-Time Retrieval of Tables for Text-to-SQL\n",
    "If we don’t know ahead of time which table we would like to use, and the total size of the table schema overflows your context window size, we should store the table schema in an index so that during query time we can retrieve the right schema.\n",
    "\n",
    "The way we can do this is using the SQLTableNodeMapping object, which takes in a SQLDatabase and produces a Node object for each SQLTableSchema object passed into the ObjectIndex constructor."
   ]
  },
  {
   "cell_type": "code",
   "execution_count": 14,
   "metadata": {},
   "outputs": [],
   "source": [
    "from llama_index.indices.struct_store.sql_query import (\n",
    "    SQLTableRetrieverQueryEngine,\n",
    ")\n",
    "from llama_index.objects import (\n",
    "    SQLTableNodeMapping,\n",
    "    ObjectIndex,\n",
    "    SQLTableSchema,\n",
    ")\n",
    "from llama_index import VectorStoreIndex\n",
    "\n",
    "# set Logging to DEBUG for more detailed outputs\n",
    "table_node_mapping = SQLTableNodeMapping(sql_database)\n",
    "table_schema_objs = [\n",
    "    (SQLTableSchema(table_name=\"product_table\"))\n",
    "]  # add a SQLTableSchema for each table\n",
    "\n",
    "obj_index = ObjectIndex.from_objects(\n",
    "    table_schema_objs,\n",
    "    table_node_mapping,\n",
    "    VectorStoreIndex,\n",
    ")\n",
    "query_engine = SQLTableRetrieverQueryEngine(\n",
    "    sql_database, obj_index.as_retriever(similarity_top_k=1)\n",
    ")"
   ]
  },
  {
   "cell_type": "code",
   "execution_count": 17,
   "metadata": {},
   "outputs": [
    {
     "data": {
      "text/markdown": [
       "<b>The rating for the product named Portable Solar Charger is 4.0.</b>"
      ],
      "text/plain": [
       "<IPython.core.display.Markdown object>"
      ]
     },
     "metadata": {},
     "output_type": "display_data"
    }
   ],
   "source": [
    "query_str = \"What is the Rating for the product whose name is Portable Solar Charger?\"\n",
    "response = query_engine.query(query_str)\n",
    "display(Markdown(f\"<b>{response}</b>\"))"
   ]
  },
  {
   "cell_type": "code",
   "execution_count": 16,
   "metadata": {},
   "outputs": [
    {
     "data": {
      "text/plain": [
       "[('Ultimate Wireless Bluetooth Earbuds',), ('Portable Solar Charger',)]"
      ]
     },
     "execution_count": 16,
     "metadata": {},
     "output_type": "execute_result"
    }
   ],
   "source": [
    "# you can also fetch the raw result from SQLAlchemy!\n",
    "response.metadata[\"result\"]"
   ]
  },
  {
   "cell_type": "code",
   "execution_count": 19,
   "metadata": {},
   "outputs": [],
   "source": [
    "import csv\n",
    "# Define the column we want to embed vs which ones we want to store as metadat\n",
    "columns_to_embed = [\"Description\", \"Features\"]\n",
    "columns_to_metadata = [\"Product Name\", \"Price\", \"Rating\", \"Description\", \"Features\"]"
   ]
  },
  {
   "cell_type": "code",
   "execution_count": 20,
   "metadata": {},
   "outputs": [],
   "source": [
    "## With CSV\n",
    "# docs = []\n",
    "# with open(filepath, newline=\"\", encoding='utf-8-sig') as csvfile:\n",
    "#     csv_reader = csv.DictReader(csvfile)\n",
    "#     # ic(csv_reader)\n",
    "#     for i, row in enumerate(csv_reader):\n",
    "#         to_metadata = {col: row[col] for col in columns_to_metadata if col in row} \n",
    "#         # ic(to_metadata)\n",
    "#         values_to_embed = {k: row[k] for k in columns_to_embed if k in row}\n",
    "#         # ic(values_to_embed)\n",
    "#         to_embed = '\\n'.join(f\"{k.strip()}: {v.strip()}\" for k, v in values_to_embed.items())\n",
    "#         # ic(to_embed)\n",
    "#         newDoc = Document(text = to_embed, metadata = to_metadata)\n",
    "#         docs.append(newDoc)"
   ]
  },
  {
   "cell_type": "code",
   "execution_count": 29,
   "metadata": {},
   "outputs": [],
   "source": [
    "## With PANDAS DATAFRAME\n",
    "# Assuming you have already loaded the data into a Pandas DataFrame df\n",
    "columns_to_embed = [\"Description\", \"Features\"]\n",
    "columns_to_metadata = [\"Product Name\", \"Price\", \"Rating\", \"Description\", \"Features\"]\n",
    "\n",
    "docs = []\n",
    "for i, row in data.iterrows():\n",
    "    to_metadata = {col: row[col] for col in columns_to_metadata if col in row}\n",
    "    values_to_embed = {k: row[k] for k in columns_to_embed if k in row}\n",
    "    to_embed = '\\n'.join(f\"{k.strip()}: {v.strip()}\" for k, v in values_to_embed.items())\n",
    "    newDoc = Document(text=to_embed, metadata=to_metadata)\n",
    "    docs.append(newDoc)"
   ]
  },
  {
   "cell_type": "code",
   "execution_count": 42,
   "metadata": {},
   "outputs": [
    {
     "data": {
      "text/html": [
       "<pre style=\"white-space:pre;overflow-x:auto;line-height:normal;font-family:Menlo,'DejaVu Sans Mono',consolas,'Courier New',monospace\"><span style=\"color: #008080; text-decoration-color: #008080; font-weight: bold\">12</span>\n",
       "</pre>\n"
      ],
      "text/plain": [
       "\u001b[1;36m12\u001b[0m\n"
      ]
     },
     "metadata": {},
     "output_type": "display_data"
    }
   ],
   "source": [
    "rprint(len(docs))"
   ]
  },
  {
   "cell_type": "code",
   "execution_count": 32,
   "metadata": {},
   "outputs": [
    {
     "name": "stdout",
     "output_type": "stream",
     "text": [
      "Started /home/zeus/.cache: process ID 71938\n"
     ]
    },
    {
     "name": "stderr",
     "output_type": "stream",
     "text": [
      "{\"action\":\"startup\",\"default_vectorizer_module\":\"none\",\"level\":\"info\",\"msg\":\"the default vectorizer modules is set to \\\"none\\\", as a result all new schema classes without an explicit vectorizer setting, will use this vectorizer\",\"time\":\"2024-01-28T06:19:13Z\"}\n",
      "{\"action\":\"startup\",\"auto_schema_enabled\":true,\"level\":\"info\",\"msg\":\"auto schema enabled setting is set to \\\"true\\\"\",\"time\":\"2024-01-28T06:19:13Z\"}\n",
      "{\"level\":\"info\",\"msg\":\"No resource limits set, weaviate will use all available memory and CPU. To limit resources, set LIMIT_RESOURCES=true\",\"time\":\"2024-01-28T06:19:13Z\"}\n",
      "{\"level\":\"warning\",\"msg\":\"Multiple vector spaces are present, GraphQL Explore and REST API list objects endpoint module include params has been disabled as a result.\",\"time\":\"2024-01-28T06:19:13Z\"}\n",
      "{\"action\":\"grpc_startup\",\"level\":\"info\",\"msg\":\"grpc server listening at [::]:50060\",\"time\":\"2024-01-28T06:19:13Z\"}\n",
      "{\"action\":\"restapi_management\",\"level\":\"info\",\"msg\":\"Serving weaviate at http://127.0.0.1:8079\",\"time\":\"2024-01-28T06:19:13Z\"}\n"
     ]
    },
    {
     "name": "stderr",
     "output_type": "stream",
     "text": [
      "{\"level\":\"info\",\"msg\":\"Completed loading shard blogpost_aoHZA7ipG29I in 9.273679ms\",\"time\":\"2024-01-28T06:19:14Z\"}\n",
      "{\"action\":\"hnsw_vector_cache_prefill\",\"count\":3000,\"index_id\":\"main\",\"level\":\"info\",\"limit\":1000000000000,\"msg\":\"prefilled vector cache\",\"time\":\"2024-01-28T06:19:14Z\",\"took\":469200}\n"
     ]
    }
   ],
   "source": [
    "from llama_index.vector_stores import WeaviateVectorStore\n",
    "\n",
    "import weaviate\n",
    "import openai\n",
    "\n",
    "from dotenv import find_dotenv, load_dotenv\n",
    "load_dotenv(find_dotenv())\n",
    "import os\n",
    "openai.api_key = os.getenv(\"OPENA_AI_KEY\")\n",
    "\n",
    "\n",
    "client = weaviate.Client(\n",
    "    embedded_options=weaviate.embedded.EmbeddedOptions()\n",
    ")"
   ]
  },
  {
   "attachments": {},
   "cell_type": "markdown",
   "metadata": {},
   "source": [
    "## Create Weaviate Schema"
   ]
  },
  {
   "cell_type": "code",
   "execution_count": 38,
   "metadata": {},
   "outputs": [
    {
     "name": "stdout",
     "output_type": "stream",
     "text": [
      "Product schema was created.\n"
     ]
    },
    {
     "name": "stderr",
     "output_type": "stream",
     "text": [
      "{\"level\":\"info\",\"msg\":\"Created shard product_BkCPV0cszQYS in 2.92703ms\",\"time\":\"2024-01-28T06:25:29Z\"}\n",
      "{\"action\":\"hnsw_vector_cache_prefill\",\"count\":1000,\"index_id\":\"main\",\"level\":\"info\",\"limit\":1000000000000,\"msg\":\"prefilled vector cache\",\"time\":\"2024-01-28T06:25:29Z\",\"took\":106122}\n"
     ]
    }
   ],
   "source": [
    "# Create Schema\n",
    "podcast_schema = {\n",
    "   \"classes\": [\n",
    "       {\n",
    "           \"class\": \"Product\",\n",
    "           \"description\": \"Listing of Products\",\n",
    "           \"vectorizer\": \"text2vec-openai\",\n",
    "           \"properties\": [\n",
    "               {\n",
    "                  \"name\": \"Product_Name\",\n",
    "                  \"dataType\": [\"text\"],\n",
    "                  \"description\": \"Name of the product.\",\n",
    "               },\n",
    "               {\n",
    "                  \"name\": \"Price\",\n",
    "                  \"dataType\": [\"number\"],\n",
    "                  \"description\": \"Price of the product.\",\n",
    "               },\n",
    "               {\n",
    "                  \"name\": \"Rating\",\n",
    "                  \"dataType\": [\"number\"],\n",
    "                  \"description\": \"Rating of the product.\",\n",
    "               },\n",
    "               {\n",
    "                  \"name\": \"Description\",\n",
    "                  \"dataType\": [\"text\"],\n",
    "                  \"description\": \"Description of the product.\",\n",
    "               },\n",
    "               {\n",
    "                  \"name\": \"Features\",\n",
    "                  \"dataType\": [\"text\"],\n",
    "                  \"description\": \"Feature of the product.\",\n",
    "               }\n",
    "            ]\n",
    "        }\n",
    "    ]\n",
    "}\n",
    "\n",
    "client.schema.create(podcast_schema)\n",
    "print(\"Product schema was created.\")"
   ]
  },
  {
   "cell_type": "code",
   "execution_count": 43,
   "metadata": {},
   "outputs": [],
   "source": [
    "# Create a single document from a list of Documents\n",
    "document = Document(text=\"\\n\\n\".join([doc.text for doc in docs]))"
   ]
  },
  {
   "cell_type": "code",
   "execution_count": 45,
   "metadata": {},
   "outputs": [
    {
     "data": {
      "text/html": [
       "<pre style=\"white-space:pre;overflow-x:auto;line-height:normal;font-family:Menlo,'DejaVu Sans Mono',consolas,'Courier New',monospace\"><span style=\"color: #800080; text-decoration-color: #800080; font-weight: bold\">Document</span><span style=\"font-weight: bold\">(</span>\n",
       "    <span style=\"color: #808000; text-decoration-color: #808000\">id_</span>=<span style=\"color: #008000; text-decoration-color: #008000\">'bd58a1b5-69a9-4d5e-84cb-d4ab9c4c93b7'</span>,\n",
       "    <span style=\"color: #808000; text-decoration-color: #808000\">embedding</span>=<span style=\"color: #800080; text-decoration-color: #800080; font-style: italic\">None</span>,\n",
       "    <span style=\"color: #808000; text-decoration-color: #808000\">metadata</span>=<span style=\"font-weight: bold\">{}</span>,\n",
       "    <span style=\"color: #808000; text-decoration-color: #808000\">excluded_embed_metadata_keys</span>=<span style=\"font-weight: bold\">[]</span>,\n",
       "    <span style=\"color: #808000; text-decoration-color: #808000\">excluded_llm_metadata_keys</span>=<span style=\"font-weight: bold\">[]</span>,\n",
       "    <span style=\"color: #808000; text-decoration-color: #808000\">relationships</span>=<span style=\"font-weight: bold\">{}</span>,\n",
       "    <span style=\"color: #808000; text-decoration-color: #808000\">text</span>=<span style=\"color: #008000; text-decoration-color: #008000\">\"Description: Elevate your music experience with our Ultimate Wireless Bluetooth Earbuds. These earbuds </span>\n",
       "<span style=\"color: #008000; text-decoration-color: #008000\">are designed for audiophiles who demand premium sound quality and convenience. With advanced Bluetooth 5.0 </span>\n",
       "<span style=\"color: #008000; text-decoration-color: #008000\">technology, you'll enjoy seamless connectivity and crystal-clear audio.\\nFeatures: - High-fidelity sound with deep </span>\n",
       "<span style=\"color: #008000; text-decoration-color: #008000\">bass and clear treble. - Noise-canceling technology for an immersive listening experience. - 20 hours of playtime </span>\n",
       "<span style=\"color: #008000; text-decoration-color: #008000\">on a single charge. - Ergonomic design for a secure and comfortable fit. - Touch controls for easy playback and </span>\n",
       "<span style=\"color: #008000; text-decoration-color: #008000\">calls. - IPX7 waterproof rating for workouts and outdoor activities. - Built-in microphone for hands-free </span>\n",
       "<span style=\"color: #008000; text-decoration-color: #008000\">calls.\\n\\nDescription: Keep your home safe and secure with our SmartHome Security Camera System. This comprehensive</span>\n",
       "<span style=\"color: #008000; text-decoration-color: #008000\">package includes everything you need to monitor your property, inside and out. Whether you're at home or on the go,</span>\n",
       "<span style=\"color: #008000; text-decoration-color: #008000\">you can access live video feeds and receive instant alerts on your smartphone.\\nFeatures: - 1080p HD cameras for </span>\n",
       "<span style=\"color: #008000; text-decoration-color: #008000\">crystal-clear video quality. - Night vision technology for 24/7 surveillance. - Motion detection with customizable </span>\n",
       "<span style=\"color: #008000; text-decoration-color: #008000\">alert zones. - Two-way audio for communication with visitors. - Smartphone app for remote monitoring and control. -</span>\n",
       "<span style=\"color: #008000; text-decoration-color: #008000\">Expandable system with additional cameras and storage options. - Cloud storage and local backup for video footage. </span>\n",
       "<span style=\"color: #008000; text-decoration-color: #008000\">- Easy DIY installation with mounting hardware included.\\n\\nDescription: Brew barista-quality coffee at home with </span>\n",
       "<span style=\"color: #008000; text-decoration-color: #008000\">our Professional Espresso Machine. This machine features a 15-bar pump for rich extraction and a steam wand for </span>\n",
       "<span style=\"color: #008000; text-decoration-color: #008000\">frothing milk to perfection.\\nFeatures: - 15-bar pump for optimal espresso extraction.&lt;br&gt; - Steam wand for milk </span>\n",
       "<span style=\"color: #008000; text-decoration-color: #008000\">frothing.&lt;br&gt; - Durable stainless steel construction.&lt;br&gt; - Single and double shot filter baskets included.&lt;br&gt; - </span>\n",
       "<span style=\"color: #008000; text-decoration-color: #008000\">Cup warmer on top of the machine.&lt;br&gt; - Removable water reservoir for easy cleaning.\\n\\nDescription: Stay charged </span>\n",
       "<span style=\"color: #008000; text-decoration-color: #008000\">on the go with our Portable Solar Charger. Harness the power of the sun to keep your devices powered wherever you </span>\n",
       "<span style=\"color: #008000; text-decoration-color: #008000\">are.\\nFeatures: - High-efficiency solar panels for rapid charging.&lt;br&gt; - Built-in USB ports compatible with various</span>\n",
       "<span style=\"color: #008000; text-decoration-color: #008000\">devices.&lt;br&gt; - Compact and foldable design for easy carrying.&lt;br&gt; - Built-in battery for storing solar energy.&lt;br&gt; </span>\n",
       "<span style=\"color: #008000; text-decoration-color: #008000\">- LED indicators show charging status.&lt;br&gt; - Water-resistant for outdoor use.\\n\\nDescription: Elevate your style </span>\n",
       "<span style=\"color: #008000; text-decoration-color: #008000\">with our Luxury Leather Wallet. Handcrafted from premium leather, it offers ample space for cards, cash, and </span>\n",
       "<span style=\"color: #008000; text-decoration-color: #008000\">more.\\nFeatures: - Handcrafted from genuine leather.&lt;br&gt; - Multiple card slots and compartments.&lt;br&gt; - RFID </span>\n",
       "<span style=\"color: #008000; text-decoration-color: #008000\">blocking technology for enhanced security.&lt;br&gt; - Sleek and slim design for easy carrying.&lt;br&gt; - Available in </span>\n",
       "<span style=\"color: #008000; text-decoration-color: #008000\">various colors.\\n\\nDescription: Achieve your fitness goals with our Fitness Tracker Smartwatch. Monitor your </span>\n",
       "<span style=\"color: #008000; text-decoration-color: #008000\">activity, heart rate, and receive notifications on your wrist.\\nFeatures: - Heart rate monitor and activity </span>\n",
       "<span style=\"color: #008000; text-decoration-color: #008000\">tracking.&lt;br&gt; - Built-in GPS for accurate workout tracking.&lt;br&gt; - Sleep analysis and guided breathing </span>\n",
       "<span style=\"color: #008000; text-decoration-color: #008000\">exercises.&lt;br&gt; - Receive notifications from your smartphone.&lt;br&gt; - Water-resistant for workouts and everyday </span>\n",
       "<span style=\"color: #008000; text-decoration-color: #008000\">use.&lt;br&gt; - Long battery life.\\n\\nDescription: Unleash your inner chef with our Culinary Knife Set. This set </span>\n",
       "<span style=\"color: #008000; text-decoration-color: #008000\">includes a range of high-quality knives for precise and effortless slicing and dicing.\\nFeatures: - High-carbon </span>\n",
       "<span style=\"color: #008000; text-decoration-color: #008000\">stainless steel blades for sharpness and durability.&lt;br&gt; - Full tang construction for balance and control.&lt;br&gt; - </span>\n",
       "<span style=\"color: #008000; text-decoration-color: #008000\">Ergonomic handles for comfortable grip.&lt;br&gt; - Knife block for safe storage.&lt;br&gt; - Set includes chef's knife, paring</span>\n",
       "<span style=\"color: #008000; text-decoration-color: #008000\">knife, utility knife, and more.\\n\\nDescription: Say goodbye to tangled cables with our Wireless Charging Pad. </span>\n",
       "<span style=\"color: #008000; text-decoration-color: #008000\">Simply place your device on the pad for convenient and fast wireless charging.\\nFeatures: - Qi wireless charging </span>\n",
       "<span style=\"color: #008000; text-decoration-color: #008000\">compatible with a range of devices.&lt;br&gt; - LED indicator shows charging status.&lt;br&gt; - Sleek and compact design.&lt;br&gt; </span>\n",
       "<span style=\"color: #008000; text-decoration-color: #008000\">- Non-slip surface for secure placement.&lt;br&gt; - Includes charging cable and adapter.\\n\\nDescription: Experience </span>\n",
       "<span style=\"color: #008000; text-decoration-color: #008000\">ultimate comfort with our Organic Bamboo Bed Sheets. These luxuriously soft sheets are made from sustainable and </span>\n",
       "<span style=\"color: #008000; text-decoration-color: #008000\">breathable bamboo fibers.\\nFeatures: - Made from 100% organic bamboo viscose.&lt;br&gt; - Hypoallergenic and </span>\n",
       "<span style=\"color: #008000; text-decoration-color: #008000\">moisture-wicking properties.&lt;br&gt; - Deep pockets fit mattresses of various depths.&lt;br&gt; - Available in multiple sizes</span>\n",
       "<span style=\"color: #008000; text-decoration-color: #008000\">and colors.&lt;br&gt; - Includes a fitted sheet, flat sheet, and pillowcases.\\n\\nDescription: Immerse yourself in virtual</span>\n",
       "<span style=\"color: #008000; text-decoration-color: #008000\">worlds with our Virtual Reality Headset. Experience gaming, entertainment, and exploration like never </span>\n",
       "<span style=\"color: #008000; text-decoration-color: #008000\">before.\\nFeatures: - High-resolution display for immersive visuals.&lt;br&gt; - Wide field of view for a realistic </span>\n",
       "<span style=\"color: #008000; text-decoration-color: #008000\">experience.&lt;br&gt; - Adjustable head strap and comfortable padding.&lt;br&gt; - Compatible with a range of VR content.&lt;br&gt; -</span>\n",
       "<span style=\"color: #008000; text-decoration-color: #008000\">Integrated audio for spatial sound.&lt;br&gt; - Included motion controllers for interactive experiences.\\n\\nDescription: </span>\n",
       "<span style=\"color: #008000; text-decoration-color: #008000\">Savor the soothing flavors of our Organic Herbal Tea Collection. Crafted from handpicked herbs, these teas offer </span>\n",
       "<span style=\"color: #008000; text-decoration-color: #008000\">relaxation and natural goodness.\\nFeatures: - Variety pack includes chamomile, peppermint, lavender, and more.&lt;br&gt; </span>\n",
       "<span style=\"color: #008000; text-decoration-color: #008000\">- Caffeine-free options for anytime enjoyment.&lt;br&gt; - Individually wrapped tea bags for freshness.&lt;br&gt; - Calming and</span>\n",
       "<span style=\"color: #008000; text-decoration-color: #008000\">aromatic blends.&lt;br&gt; - Promotes relaxation and wellness.\\n\\nDescription: Get a full-body workout at home with our </span>\n",
       "<span style=\"color: #008000; text-decoration-color: #008000\">Home Gym Resistance Bands Set. These versatile bands provide adjustable resistance for various </span>\n",
       "<span style=\"color: #008000; text-decoration-color: #008000\">exercises.\\nFeatures: - Set includes multiple bands with different resistance levels.&lt;br&gt; - Suitable for strength </span>\n",
       "<span style=\"color: #008000; text-decoration-color: #008000\">training, stretching, and mobility exercises.&lt;br&gt; - Compact and portable for on-the-go workouts.&lt;br&gt; - Durable </span>\n",
       "<span style=\"color: #008000; text-decoration-color: #008000\">latex construction.&lt;br&gt; - Door anchor and handles included for enhanced exercise options.\"</span>,\n",
       "    <span style=\"color: #808000; text-decoration-color: #808000\">start_char_idx</span>=<span style=\"color: #800080; text-decoration-color: #800080; font-style: italic\">None</span>,\n",
       "    <span style=\"color: #808000; text-decoration-color: #808000\">end_char_idx</span>=<span style=\"color: #800080; text-decoration-color: #800080; font-style: italic\">None</span>,\n",
       "    <span style=\"color: #808000; text-decoration-color: #808000\">text_template</span>=<span style=\"color: #008000; text-decoration-color: #008000\">'{metadata_str}\\n\\n{content}'</span>,\n",
       "    <span style=\"color: #808000; text-decoration-color: #808000\">metadata_template</span>=<span style=\"color: #008000; text-decoration-color: #008000\">'{key}: {value}'</span>,\n",
       "    <span style=\"color: #808000; text-decoration-color: #808000\">metadata_seperator</span>=<span style=\"color: #008000; text-decoration-color: #008000\">'\\n'</span>\n",
       "<span style=\"font-weight: bold\">)</span>\n",
       "</pre>\n"
      ],
      "text/plain": [
       "\u001b[1;35mDocument\u001b[0m\u001b[1m(\u001b[0m\n",
       "    \u001b[33mid_\u001b[0m=\u001b[32m'bd58a1b5-69a9-4d5e-84cb-d4ab9c4c93b7'\u001b[0m,\n",
       "    \u001b[33membedding\u001b[0m=\u001b[3;35mNone\u001b[0m,\n",
       "    \u001b[33mmetadata\u001b[0m=\u001b[1m{\u001b[0m\u001b[1m}\u001b[0m,\n",
       "    \u001b[33mexcluded_embed_metadata_keys\u001b[0m=\u001b[1m[\u001b[0m\u001b[1m]\u001b[0m,\n",
       "    \u001b[33mexcluded_llm_metadata_keys\u001b[0m=\u001b[1m[\u001b[0m\u001b[1m]\u001b[0m,\n",
       "    \u001b[33mrelationships\u001b[0m=\u001b[1m{\u001b[0m\u001b[1m}\u001b[0m,\n",
       "    \u001b[33mtext\u001b[0m=\u001b[32m\"Description\u001b[0m\u001b[32m: Elevate your music experience with our Ultimate Wireless Bluetooth Earbuds. These earbuds \u001b[0m\n",
       "\u001b[32mare designed for audiophiles who demand premium sound quality and convenience. With advanced Bluetooth 5.0 \u001b[0m\n",
       "\u001b[32mtechnology, you'll enjoy seamless connectivity and crystal-clear audio.\\nFeatures: - High-fidelity sound with deep \u001b[0m\n",
       "\u001b[32mbass and clear treble. - Noise-canceling technology for an immersive listening experience. - 20 hours of playtime \u001b[0m\n",
       "\u001b[32mon a single charge. - Ergonomic design for a secure and comfortable fit. - Touch controls for easy playback and \u001b[0m\n",
       "\u001b[32mcalls. - IPX7 waterproof rating for workouts and outdoor activities. - Built-in microphone for hands-free \u001b[0m\n",
       "\u001b[32mcalls.\\n\\nDescription: Keep your home safe and secure with our SmartHome Security Camera System. This comprehensive\u001b[0m\n",
       "\u001b[32mpackage includes everything you need to monitor your property, inside and out. Whether you're at home or on the go,\u001b[0m\n",
       "\u001b[32myou can access live video feeds and receive instant alerts on your smartphone.\\nFeatures: - 1080p HD cameras for \u001b[0m\n",
       "\u001b[32mcrystal-clear video quality. - Night vision technology for 24/7 surveillance. - Motion detection with customizable \u001b[0m\n",
       "\u001b[32malert zones. - Two-way audio for communication with visitors. - Smartphone app for remote monitoring and control. -\u001b[0m\n",
       "\u001b[32mExpandable system with additional cameras and storage options. - Cloud storage and local backup for video footage. \u001b[0m\n",
       "\u001b[32m- Easy DIY installation with mounting hardware included.\\n\\nDescription: Brew barista-quality coffee at home with \u001b[0m\n",
       "\u001b[32mour Professional Espresso Machine. This machine features a 15-bar pump for rich extraction and a steam wand for \u001b[0m\n",
       "\u001b[32mfrothing milk to perfection.\\nFeatures: - 15-bar pump for optimal espresso extraction.\u001b[0m\u001b[32m<\u001b[0m\u001b[32mbr\u001b[0m\u001b[32m> - Steam wand for milk \u001b[0m\n",
       "\u001b[32mfrothing.<br> - Durable stainless steel construction.<br> - Single and double shot filter baskets included.<br> - \u001b[0m\n",
       "\u001b[32mCup warmer on top of the machine.<br> - Removable water reservoir for easy cleaning.\\n\\nDescription: Stay charged \u001b[0m\n",
       "\u001b[32mon the go with our Portable Solar Charger. Harness the power of the sun to keep your devices powered wherever you \u001b[0m\n",
       "\u001b[32mare.\\nFeatures: - High-efficiency solar panels for rapid charging.<br> - Built-in USB ports compatible with various\u001b[0m\n",
       "\u001b[32mdevices.<br> - Compact and foldable design for easy carrying.<br> - Built-in battery for storing solar energy.<br> \u001b[0m\n",
       "\u001b[32m- LED indicators show charging status.<br> - Water-resistant for outdoor use.\\n\\nDescription: Elevate your style \u001b[0m\n",
       "\u001b[32mwith our Luxury Leather Wallet. Handcrafted from premium leather, it offers ample space for cards, cash, and \u001b[0m\n",
       "\u001b[32mmore.\\nFeatures: - Handcrafted from genuine leather.<br> - Multiple card slots and compartments.<br> - RFID \u001b[0m\n",
       "\u001b[32mblocking technology for enhanced security.<br> - Sleek and slim design for easy carrying.<br> - Available in \u001b[0m\n",
       "\u001b[32mvarious colors.\\n\\nDescription: Achieve your fitness goals with our Fitness Tracker Smartwatch. Monitor your \u001b[0m\n",
       "\u001b[32mactivity, heart rate, and receive notifications on your wrist.\\nFeatures: - Heart rate monitor and activity \u001b[0m\n",
       "\u001b[32mtracking.<br> - Built-in GPS for accurate workout tracking.<br> - Sleep analysis and guided breathing \u001b[0m\n",
       "\u001b[32mexercises.<br> - Receive notifications from your smartphone.<br> - Water-resistant for workouts and everyday \u001b[0m\n",
       "\u001b[32muse.<br> - Long battery life.\\n\\nDescription: Unleash your inner chef with our Culinary Knife Set. This set \u001b[0m\n",
       "\u001b[32mincludes a range of high-quality knives for precise and effortless slicing and dicing.\\nFeatures: - High-carbon \u001b[0m\n",
       "\u001b[32mstainless steel blades for sharpness and durability.<br> - Full tang construction for balance and control.<br> - \u001b[0m\n",
       "\u001b[32mErgonomic handles for comfortable grip.<br> - Knife block for safe storage.<br> - Set includes chef's knife, paring\u001b[0m\n",
       "\u001b[32mknife, utility knife, and more.\\n\\nDescription: Say goodbye to tangled cables with our Wireless Charging Pad. \u001b[0m\n",
       "\u001b[32mSimply place your device on the pad for convenient and fast wireless charging.\\nFeatures: - Qi wireless charging \u001b[0m\n",
       "\u001b[32mcompatible with a range of devices.<br> - LED indicator shows charging status.<br> - Sleek and compact design.<br> \u001b[0m\n",
       "\u001b[32m- Non-slip surface for secure placement.<br> - Includes charging cable and adapter.\\n\\nDescription: Experience \u001b[0m\n",
       "\u001b[32multimate comfort with our Organic Bamboo Bed Sheets. These luxuriously soft sheets are made from sustainable and \u001b[0m\n",
       "\u001b[32mbreathable bamboo fibers.\\nFeatures: - Made from 100% organic bamboo viscose.<br> - Hypoallergenic and \u001b[0m\n",
       "\u001b[32mmoisture-wicking properties.<br> - Deep pockets fit mattresses of various depths.<br> - Available in multiple sizes\u001b[0m\n",
       "\u001b[32mand colors.<br> - Includes a fitted sheet, flat sheet, and pillowcases.\\n\\nDescription: Immerse yourself in virtual\u001b[0m\n",
       "\u001b[32mworlds with our Virtual Reality Headset. Experience gaming, entertainment, and exploration like never \u001b[0m\n",
       "\u001b[32mbefore.\\nFeatures: - High-resolution display for immersive visuals.<br> - Wide field of view for a realistic \u001b[0m\n",
       "\u001b[32mexperience.<br> - Adjustable head strap and comfortable padding.<br> - Compatible with a range of VR content.<br> -\u001b[0m\n",
       "\u001b[32mIntegrated audio for spatial sound.<br> - Included motion controllers for interactive experiences.\\n\\nDescription: \u001b[0m\n",
       "\u001b[32mSavor the soothing flavors of our Organic Herbal Tea Collection. Crafted from handpicked herbs, these teas offer \u001b[0m\n",
       "\u001b[32mrelaxation and natural goodness.\\nFeatures: - Variety pack includes chamomile, peppermint, lavender, and more.<br> \u001b[0m\n",
       "\u001b[32m- Caffeine-free options for anytime enjoyment.<br> - Individually wrapped tea bags for freshness.<br> - Calming and\u001b[0m\n",
       "\u001b[32maromatic blends.<br> - Promotes relaxation and wellness.\\n\\nDescription: Get a full-body workout at home with our \u001b[0m\n",
       "\u001b[32mHome Gym Resistance Bands Set. These versatile bands provide adjustable resistance for various \u001b[0m\n",
       "\u001b[32mexercises.\\nFeatures: - Set includes multiple bands with different resistance levels.<br> - Suitable for strength \u001b[0m\n",
       "\u001b[32mtraining, stretching, and mobility exercises.<br> - Compact and portable for on-the-go workouts.<br> - Durable \u001b[0m\n",
       "\u001b[32mlatex construction.<br\u001b[0m\u001b[32m>\u001b[0m\u001b[32m - Door anchor and handles included for enhanced exercise options.\"\u001b[0m,\n",
       "    \u001b[33mstart_char_idx\u001b[0m=\u001b[3;35mNone\u001b[0m,\n",
       "    \u001b[33mend_char_idx\u001b[0m=\u001b[3;35mNone\u001b[0m,\n",
       "    \u001b[33mtext_template\u001b[0m=\u001b[32m'\u001b[0m\u001b[32m{\u001b[0m\u001b[32mmetadata_str\u001b[0m\u001b[32m}\u001b[0m\u001b[32m\\n\\n\u001b[0m\u001b[32m{\u001b[0m\u001b[32mcontent\u001b[0m\u001b[32m}\u001b[0m\u001b[32m'\u001b[0m,\n",
       "    \u001b[33mmetadata_template\u001b[0m=\u001b[32m'\u001b[0m\u001b[32m{\u001b[0m\u001b[32mkey\u001b[0m\u001b[32m}\u001b[0m\u001b[32m: \u001b[0m\u001b[32m{\u001b[0m\u001b[32mvalue\u001b[0m\u001b[32m}\u001b[0m\u001b[32m'\u001b[0m,\n",
       "    \u001b[33mmetadata_seperator\u001b[0m=\u001b[32m'\\n'\u001b[0m\n",
       "\u001b[1m)\u001b[0m\n"
      ]
     },
     "metadata": {},
     "output_type": "display_data"
    }
   ],
   "source": [
    "rprint(document)"
   ]
  },
  {
   "attachments": {},
   "cell_type": "markdown",
   "metadata": {},
   "source": [
    "## Build Weaviate Index"
   ]
  },
  {
   "cell_type": "code",
   "execution_count": 47,
   "metadata": {},
   "outputs": [],
   "source": [
    "from llama_index import VectorStoreIndex\n"
   ]
  },
  {
   "cell_type": "code",
   "execution_count": 50,
   "metadata": {},
   "outputs": [],
   "source": [
    "vector_store = WeaviateVectorStore(weaviate_client=client, class_prefix=\"Product_index\")\n",
    "storage_context = StorageContext.from_defaults(vector_store=vector_store)\n",
    "\n",
    "\n",
    "product_index = VectorStoreIndex.from_documents([document], storage_context=storage_context)\n"
   ]
  },
  {
   "cell_type": "code",
   "execution_count": 53,
   "metadata": {},
   "outputs": [],
   "source": [
    "# set up text2SQL prompt\n",
    "sql_query_engine = NLSQLTableQueryEngine(\n",
    "    sql_database=sql_database,\n",
    "    tables=[\"product_table\"],\n",
    ")"
   ]
  },
  {
   "attachments": {},
   "cell_type": "markdown",
   "metadata": {},
   "source": [
    "## Build Query Engine"
   ]
  },
  {
   "cell_type": "code",
   "execution_count": 54,
   "metadata": {},
   "outputs": [],
   "source": [
    "\n",
    "vector_query_engine = product_index.as_query_engine()"
   ]
  },
  {
   "attachments": {},
   "cell_type": "markdown",
   "metadata": {},
   "source": [
    "## Tell llama index what tool to use"
   ]
  },
  {
   "cell_type": "code",
   "execution_count": 55,
   "metadata": {},
   "outputs": [],
   "source": [
    "from llama_index.tools.query_engine import QueryEngineTool\n",
    "\n",
    "sql_tool = QueryEngineTool.from_defaults(\n",
    "    query_engine = sql_query_engine,\n",
    "    description=(\n",
    "        \"Useful for translating a natural language query into a SQL query over a table containing: \"\n",
    "        \"produtc listing, containing the price , rating, descriptions, and features of each product\"\n",
    "    ),\n",
    ")\n",
    "vector_tool = QueryEngineTool.from_defaults(\n",
    "    query_engine=vector_query_engine,\n",
    "    description=\"Useful for answering semantic questions about product listing\",\n",
    ")"
   ]
  },
  {
   "attachments": {},
   "cell_type": "markdown",
   "metadata": {},
   "source": [
    "## Create a router\n"
   ]
  },
  {
   "cell_type": "code",
   "execution_count": 56,
   "metadata": {},
   "outputs": [],
   "source": [
    "from llama_index.query_engine.router_query_engine import RouterQueryEngine\n",
    "from llama_index.selectors.llm_selectors import LLMSingleSelector\n",
    "\n",
    "query_engine = RouterQueryEngine(\n",
    "    selector=LLMSingleSelector.from_defaults(),\n",
    "    query_engine_tools=([sql_tool] + [vector_tool]),\n",
    ")"
   ]
  },
  {
   "attachments": {},
   "cell_type": "markdown",
   "metadata": {},
   "source": [
    "## Queries\n"
   ]
  },
  {
   "cell_type": "code",
   "execution_count": 57,
   "metadata": {},
   "outputs": [
    {
     "data": {
      "text/html": [
       "<pre style=\"white-space:pre;overflow-x:auto;line-height:normal;font-family:Menlo,'DejaVu Sans Mono',consolas,'Courier New',monospace\">The rating for the product named Portable Solar Charger is <span style=\"color: #008080; text-decoration-color: #008080; font-weight: bold\">4.0</span>.\n",
       "</pre>\n"
      ],
      "text/plain": [
       "The rating for the product named Portable Solar Charger is \u001b[1;36m4.0\u001b[0m.\n"
      ]
     },
     "metadata": {},
     "output_type": "display_data"
    }
   ],
   "source": [
    "response = query_engine.query(\"What is the Rating for the product whose name is Portable Solar Charger?\")\n",
    "rprint(str(response))"
   ]
  },
  {
   "cell_type": "code",
   "execution_count": 59,
   "metadata": {},
   "outputs": [
    {
     "data": {
      "text/html": [
       "<pre style=\"white-space:pre;overflow-x:auto;line-height:normal;font-family:Menlo,'DejaVu Sans Mono',consolas,'Courier New',monospace\">The Ultimate Wireless Bluetooth Earbuds are a top choice for audiophiles who value both sound quality and \n",
       "convenience. With advanced Bluetooth <span style=\"color: #008080; text-decoration-color: #008080; font-weight: bold\">5.0</span> technology, these earbuds offer seamless connectivity and crystal-clear \n",
       "audio. They provide high-fidelity sound with deep bass and clear treble, and also feature noise-canceling \n",
       "technology for an immersive listening experience. With <span style=\"color: #008080; text-decoration-color: #008080; font-weight: bold\">20</span> hours of playtime on a single charge, you can enjoy your \n",
       "music for extended periods of time. The ergonomic design ensures a secure and comfortable fit, and the touch \n",
       "controls make it easy to control playback and calls. Additionally, these earbuds have an IPX7 waterproof rating, \n",
       "making them suitable for use during workouts or in rainy conditions.\n",
       "</pre>\n"
      ],
      "text/plain": [
       "The Ultimate Wireless Bluetooth Earbuds are a top choice for audiophiles who value both sound quality and \n",
       "convenience. With advanced Bluetooth \u001b[1;36m5.0\u001b[0m technology, these earbuds offer seamless connectivity and crystal-clear \n",
       "audio. They provide high-fidelity sound with deep bass and clear treble, and also feature noise-canceling \n",
       "technology for an immersive listening experience. With \u001b[1;36m20\u001b[0m hours of playtime on a single charge, you can enjoy your \n",
       "music for extended periods of time. The ergonomic design ensures a secure and comfortable fit, and the touch \n",
       "controls make it easy to control playback and calls. Additionally, these earbuds have an IPX7 waterproof rating, \n",
       "making them suitable for use during workouts or in rainy conditions.\n"
      ]
     },
     "metadata": {},
     "output_type": "display_data"
    }
   ],
   "source": [
    "response = query_engine.query(\"Tell me about Wireless Bluetooth Earbuds products in the product listing \")\n",
    "rprint(str(response))"
   ]
  },
  {
   "cell_type": "code",
   "execution_count": 60,
   "metadata": {},
   "outputs": [
    {
     "data": {
      "text/html": [
       "<pre style=\"white-space:pre;overflow-x:auto;line-height:normal;font-family:Menlo,'DejaVu Sans Mono',consolas,'Courier New',monospace\"><span style=\"color: #800080; text-decoration-color: #800080; font-weight: bold\">Response</span><span style=\"font-weight: bold\">(</span>\n",
       "    <span style=\"color: #808000; text-decoration-color: #808000\">response</span>=<span style=\"color: #008000; text-decoration-color: #008000\">'The Ultimate Wireless Bluetooth Earbuds are a top choice for audiophiles who value both sound quality</span>\n",
       "<span style=\"color: #008000; text-decoration-color: #008000\">and convenience. With advanced Bluetooth 5.0 technology, these earbuds offer seamless connectivity and </span>\n",
       "<span style=\"color: #008000; text-decoration-color: #008000\">crystal-clear audio. They provide high-fidelity sound with deep bass and clear treble, and also feature </span>\n",
       "<span style=\"color: #008000; text-decoration-color: #008000\">noise-canceling technology for an immersive listening experience. With 20 hours of playtime on a single charge, you</span>\n",
       "<span style=\"color: #008000; text-decoration-color: #008000\">can enjoy your music for extended periods of time. The ergonomic design ensures a secure and comfortable fit, and </span>\n",
       "<span style=\"color: #008000; text-decoration-color: #008000\">the touch controls make it easy to control playback and calls. Additionally, these earbuds have an IPX7 waterproof </span>\n",
       "<span style=\"color: #008000; text-decoration-color: #008000\">rating, making them suitable for use during workouts or in rainy conditions.'</span>,\n",
       "    <span style=\"color: #808000; text-decoration-color: #808000\">source_nodes</span>=<span style=\"font-weight: bold\">[</span>\n",
       "        <span style=\"color: #800080; text-decoration-color: #800080; font-weight: bold\">NodeWithScore</span><span style=\"font-weight: bold\">(</span>\n",
       "            <span style=\"color: #808000; text-decoration-color: #808000\">node</span>=<span style=\"color: #800080; text-decoration-color: #800080; font-weight: bold\">TextNode</span><span style=\"font-weight: bold\">(</span>\n",
       "                <span style=\"color: #808000; text-decoration-color: #808000\">id_</span>=<span style=\"color: #008000; text-decoration-color: #008000\">'c9a7926b-12bd-4182-9fc9-e229fe405718'</span>,\n",
       "                <span style=\"color: #808000; text-decoration-color: #808000\">embedding</span>=<span style=\"color: #800080; text-decoration-color: #800080; font-style: italic\">None</span>,\n",
       "                <span style=\"color: #808000; text-decoration-color: #808000\">metadata</span>=<span style=\"font-weight: bold\">{}</span>,\n",
       "                <span style=\"color: #808000; text-decoration-color: #808000\">excluded_embed_metadata_keys</span>=<span style=\"font-weight: bold\">[]</span>,\n",
       "                <span style=\"color: #808000; text-decoration-color: #808000\">excluded_llm_metadata_keys</span>=<span style=\"font-weight: bold\">[]</span>,\n",
       "                <span style=\"color: #808000; text-decoration-color: #808000\">relationships</span>=<span style=\"font-weight: bold\">{}</span>,\n",
       "                <span style=\"color: #808000; text-decoration-color: #808000\">text</span>=<span style=\"color: #008000; text-decoration-color: #008000\">'[(\\'Ultimate Wireless Bluetooth Earbuds\\', 79.99, 4.4, \"Elevate your music experience with </span>\n",
       "<span style=\"color: #008000; text-decoration-color: #008000\">our Ultimate Wireless Bluetooth Earbuds. These earbuds are designed for audiophiles who demand premium sound </span>\n",
       "<span style=\"color: #008000; text-decoration-color: #008000\">quality and convenience. With advanced Bluetooth 5.0 technology, you\\'ll enjoy seamless connectivity and </span>\n",
       "<span style=\"color: #008000; text-decoration-color: #008000\">crystal-clear audio.\", \\'- High-fidelity sound with deep bass and clear treble. - Noise-canceling technology for an</span>\n",
       "<span style=\"color: #008000; text-decoration-color: #008000\">immersive listening experience. - 20 hours of playtime on a single charge. - Ergonomic design for a secure and </span>\n",
       "<span style=\"color: #008000; text-decoration-color: #008000\">comfortable fit. - Touch controls for easy playback and calls. - IPX7 waterproof rating for...\\')]'</span>,\n",
       "                <span style=\"color: #808000; text-decoration-color: #808000\">start_char_idx</span>=<span style=\"color: #800080; text-decoration-color: #800080; font-style: italic\">None</span>,\n",
       "                <span style=\"color: #808000; text-decoration-color: #808000\">end_char_idx</span>=<span style=\"color: #800080; text-decoration-color: #800080; font-style: italic\">None</span>,\n",
       "                <span style=\"color: #808000; text-decoration-color: #808000\">text_template</span>=<span style=\"color: #008000; text-decoration-color: #008000\">'{metadata_str}\\n\\n{content}'</span>,\n",
       "                <span style=\"color: #808000; text-decoration-color: #808000\">metadata_template</span>=<span style=\"color: #008000; text-decoration-color: #008000\">'{key}: {value}'</span>,\n",
       "                <span style=\"color: #808000; text-decoration-color: #808000\">metadata_seperator</span>=<span style=\"color: #008000; text-decoration-color: #008000\">'\\n'</span>\n",
       "            <span style=\"font-weight: bold\">)</span>,\n",
       "            <span style=\"color: #808000; text-decoration-color: #808000\">score</span>=<span style=\"color: #800080; text-decoration-color: #800080; font-style: italic\">None</span>\n",
       "        <span style=\"font-weight: bold\">)</span>\n",
       "    <span style=\"font-weight: bold\">]</span>,\n",
       "    <span style=\"color: #808000; text-decoration-color: #808000\">metadata</span>=<span style=\"font-weight: bold\">{</span>\n",
       "        <span style=\"color: #008000; text-decoration-color: #008000\">'c9a7926b-12bd-4182-9fc9-e229fe405718'</span>: <span style=\"font-weight: bold\">{}</span>,\n",
       "        <span style=\"color: #008000; text-decoration-color: #008000\">'sql_query'</span>: <span style=\"color: #008000; text-decoration-color: #008000\">\"SELECT Product_Name, Price, Rating, Description, Features\\nFROM product_table\\nWHERE </span>\n",
       "<span style=\"color: #008000; text-decoration-color: #008000\">Product_Name LIKE '%Wireless Bluetooth Earbuds%'\"</span>,\n",
       "        <span style=\"color: #008000; text-decoration-color: #008000\">'result'</span>: <span style=\"font-weight: bold\">[</span>\n",
       "            <span style=\"font-weight: bold\">(</span>\n",
       "                <span style=\"color: #008000; text-decoration-color: #008000\">'Ultimate Wireless Bluetooth Earbuds'</span>,\n",
       "                <span style=\"color: #008080; text-decoration-color: #008080; font-weight: bold\">79.99</span>,\n",
       "                <span style=\"color: #008080; text-decoration-color: #008080; font-weight: bold\">4.4</span>,\n",
       "                <span style=\"color: #008000; text-decoration-color: #008000\">\"Elevate your music experience with our Ultimate Wireless Bluetooth Earbuds. These earbuds are </span>\n",
       "<span style=\"color: #008000; text-decoration-color: #008000\">designed for audiophiles who demand premium sound quality and convenience. With advanced Bluetooth 5.0 technology, </span>\n",
       "<span style=\"color: #008000; text-decoration-color: #008000\">you'll enjoy seamless connectivity and crystal-clear audio.\"</span>,\n",
       "                <span style=\"color: #008000; text-decoration-color: #008000\">'- High-fidelity sound with deep bass and clear treble. - Noise-canceling technology for an </span>\n",
       "<span style=\"color: #008000; text-decoration-color: #008000\">immersive listening experience. - 20 hours of playtime on a single charge. - Ergonomic design for a secure and </span>\n",
       "<span style=\"color: #008000; text-decoration-color: #008000\">comfortable fit. - Touch controls for easy playback and calls. - IPX7 waterproof rating for...'</span>\n",
       "            <span style=\"font-weight: bold\">)</span>\n",
       "        <span style=\"font-weight: bold\">]</span>,\n",
       "        <span style=\"color: #008000; text-decoration-color: #008000\">'col_keys'</span>: <span style=\"font-weight: bold\">[</span><span style=\"color: #008000; text-decoration-color: #008000\">'Product_Name'</span>, <span style=\"color: #008000; text-decoration-color: #008000\">'Price'</span>, <span style=\"color: #008000; text-decoration-color: #008000\">'Rating'</span>, <span style=\"color: #008000; text-decoration-color: #008000\">'Description'</span>, <span style=\"color: #008000; text-decoration-color: #008000\">'Features'</span><span style=\"font-weight: bold\">]</span>,\n",
       "        <span style=\"color: #008000; text-decoration-color: #008000\">'selector_result'</span>: <span style=\"color: #800080; text-decoration-color: #800080; font-weight: bold\">MultiSelection</span><span style=\"font-weight: bold\">(</span>\n",
       "            <span style=\"color: #808000; text-decoration-color: #808000\">selections</span>=<span style=\"font-weight: bold\">[</span>\n",
       "                <span style=\"color: #800080; text-decoration-color: #800080; font-weight: bold\">SingleSelection</span><span style=\"font-weight: bold\">(</span>\n",
       "                    <span style=\"color: #808000; text-decoration-color: #808000\">index</span>=<span style=\"color: #008080; text-decoration-color: #008080; font-weight: bold\">0</span>,\n",
       "                    <span style=\"color: #808000; text-decoration-color: #808000\">reason</span>=<span style=\"color: #008000; text-decoration-color: #008000\">'Choice 1 is most relevant because it mentions translating a natural language query into</span>\n",
       "<span style=\"color: #008000; text-decoration-color: #008000\">a SQL query over a table containing product listings, which would be useful for retrieving information about </span>\n",
       "<span style=\"color: #008000; text-decoration-color: #008000\">Wireless Bluetooth Earbuds products in the product listing.'</span>\n",
       "                <span style=\"font-weight: bold\">)</span>\n",
       "            <span style=\"font-weight: bold\">]</span>\n",
       "        <span style=\"font-weight: bold\">)</span>\n",
       "    <span style=\"font-weight: bold\">}</span>\n",
       "<span style=\"font-weight: bold\">)</span>\n",
       "</pre>\n"
      ],
      "text/plain": [
       "\u001b[1;35mResponse\u001b[0m\u001b[1m(\u001b[0m\n",
       "    \u001b[33mresponse\u001b[0m=\u001b[32m'The Ultimate Wireless Bluetooth Earbuds are a top choice for audiophiles who value both sound quality\u001b[0m\n",
       "\u001b[32mand convenience. With advanced Bluetooth 5.0 technology, these earbuds offer seamless connectivity and \u001b[0m\n",
       "\u001b[32mcrystal-clear audio. They provide high-fidelity sound with deep bass and clear treble, and also feature \u001b[0m\n",
       "\u001b[32mnoise-canceling technology for an immersive listening experience. With 20 hours of playtime on a single charge, you\u001b[0m\n",
       "\u001b[32mcan enjoy your music for extended periods of time. The ergonomic design ensures a secure and comfortable fit, and \u001b[0m\n",
       "\u001b[32mthe touch controls make it easy to control playback and calls. Additionally, these earbuds have an IPX7 waterproof \u001b[0m\n",
       "\u001b[32mrating, making them suitable for use during workouts or in rainy conditions.'\u001b[0m,\n",
       "    \u001b[33msource_nodes\u001b[0m=\u001b[1m[\u001b[0m\n",
       "        \u001b[1;35mNodeWithScore\u001b[0m\u001b[1m(\u001b[0m\n",
       "            \u001b[33mnode\u001b[0m=\u001b[1;35mTextNode\u001b[0m\u001b[1m(\u001b[0m\n",
       "                \u001b[33mid_\u001b[0m=\u001b[32m'c9a7926b-12bd-4182-9fc9-e229fe405718'\u001b[0m,\n",
       "                \u001b[33membedding\u001b[0m=\u001b[3;35mNone\u001b[0m,\n",
       "                \u001b[33mmetadata\u001b[0m=\u001b[1m{\u001b[0m\u001b[1m}\u001b[0m,\n",
       "                \u001b[33mexcluded_embed_metadata_keys\u001b[0m=\u001b[1m[\u001b[0m\u001b[1m]\u001b[0m,\n",
       "                \u001b[33mexcluded_llm_metadata_keys\u001b[0m=\u001b[1m[\u001b[0m\u001b[1m]\u001b[0m,\n",
       "                \u001b[33mrelationships\u001b[0m=\u001b[1m{\u001b[0m\u001b[1m}\u001b[0m,\n",
       "                \u001b[33mtext\u001b[0m=\u001b[32m'\u001b[0m\u001b[32m[\u001b[0m\u001b[32m(\u001b[0m\u001b[32m\\'Ultimate Wireless Bluetooth Earbuds\\', 79.99, 4.4, \"Elevate your music experience with \u001b[0m\n",
       "\u001b[32mour Ultimate Wireless Bluetooth Earbuds. These earbuds are designed for audiophiles who demand premium sound \u001b[0m\n",
       "\u001b[32mquality and convenience. With advanced Bluetooth 5.0 technology, you\\'ll enjoy seamless connectivity and \u001b[0m\n",
       "\u001b[32mcrystal-clear audio.\", \\'- High-fidelity sound with deep bass and clear treble. - Noise-canceling technology for an\u001b[0m\n",
       "\u001b[32mimmersive listening experience. - 20 hours of playtime on a single charge. - Ergonomic design for a secure and \u001b[0m\n",
       "\u001b[32mcomfortable fit. - Touch controls for easy playback and calls. - IPX7 waterproof rating for...\\'\u001b[0m\u001b[32m)\u001b[0m\u001b[32m]\u001b[0m\u001b[32m'\u001b[0m,\n",
       "                \u001b[33mstart_char_idx\u001b[0m=\u001b[3;35mNone\u001b[0m,\n",
       "                \u001b[33mend_char_idx\u001b[0m=\u001b[3;35mNone\u001b[0m,\n",
       "                \u001b[33mtext_template\u001b[0m=\u001b[32m'\u001b[0m\u001b[32m{\u001b[0m\u001b[32mmetadata_str\u001b[0m\u001b[32m}\u001b[0m\u001b[32m\\n\\n\u001b[0m\u001b[32m{\u001b[0m\u001b[32mcontent\u001b[0m\u001b[32m}\u001b[0m\u001b[32m'\u001b[0m,\n",
       "                \u001b[33mmetadata_template\u001b[0m=\u001b[32m'\u001b[0m\u001b[32m{\u001b[0m\u001b[32mkey\u001b[0m\u001b[32m}\u001b[0m\u001b[32m: \u001b[0m\u001b[32m{\u001b[0m\u001b[32mvalue\u001b[0m\u001b[32m}\u001b[0m\u001b[32m'\u001b[0m,\n",
       "                \u001b[33mmetadata_seperator\u001b[0m=\u001b[32m'\\n'\u001b[0m\n",
       "            \u001b[1m)\u001b[0m,\n",
       "            \u001b[33mscore\u001b[0m=\u001b[3;35mNone\u001b[0m\n",
       "        \u001b[1m)\u001b[0m\n",
       "    \u001b[1m]\u001b[0m,\n",
       "    \u001b[33mmetadata\u001b[0m=\u001b[1m{\u001b[0m\n",
       "        \u001b[32m'c9a7926b-12bd-4182-9fc9-e229fe405718'\u001b[0m: \u001b[1m{\u001b[0m\u001b[1m}\u001b[0m,\n",
       "        \u001b[32m'sql_query'\u001b[0m: \u001b[32m\"SELECT Product_Name, Price, Rating, Description, Features\\nFROM product_table\\nWHERE \u001b[0m\n",
       "\u001b[32mProduct_Name LIKE '%Wireless Bluetooth Earbuds%'\"\u001b[0m,\n",
       "        \u001b[32m'result'\u001b[0m: \u001b[1m[\u001b[0m\n",
       "            \u001b[1m(\u001b[0m\n",
       "                \u001b[32m'Ultimate Wireless Bluetooth Earbuds'\u001b[0m,\n",
       "                \u001b[1;36m79.99\u001b[0m,\n",
       "                \u001b[1;36m4.4\u001b[0m,\n",
       "                \u001b[32m\"Elevate your music experience with our Ultimate Wireless Bluetooth Earbuds. These earbuds are \u001b[0m\n",
       "\u001b[32mdesigned for audiophiles who demand premium sound quality and convenience. With advanced Bluetooth 5.0 technology, \u001b[0m\n",
       "\u001b[32myou'll enjoy seamless connectivity and crystal-clear audio.\"\u001b[0m,\n",
       "                \u001b[32m'- High-fidelity sound with deep bass and clear treble. - Noise-canceling technology for an \u001b[0m\n",
       "\u001b[32mimmersive listening experience. - 20 hours of playtime on a single charge. - Ergonomic design for a secure and \u001b[0m\n",
       "\u001b[32mcomfortable fit. - Touch controls for easy playback and calls. - IPX7 waterproof rating for...'\u001b[0m\n",
       "            \u001b[1m)\u001b[0m\n",
       "        \u001b[1m]\u001b[0m,\n",
       "        \u001b[32m'col_keys'\u001b[0m: \u001b[1m[\u001b[0m\u001b[32m'Product_Name'\u001b[0m, \u001b[32m'Price'\u001b[0m, \u001b[32m'Rating'\u001b[0m, \u001b[32m'Description'\u001b[0m, \u001b[32m'Features'\u001b[0m\u001b[1m]\u001b[0m,\n",
       "        \u001b[32m'selector_result'\u001b[0m: \u001b[1;35mMultiSelection\u001b[0m\u001b[1m(\u001b[0m\n",
       "            \u001b[33mselections\u001b[0m=\u001b[1m[\u001b[0m\n",
       "                \u001b[1;35mSingleSelection\u001b[0m\u001b[1m(\u001b[0m\n",
       "                    \u001b[33mindex\u001b[0m=\u001b[1;36m0\u001b[0m,\n",
       "                    \u001b[33mreason\u001b[0m=\u001b[32m'Choice 1 is most relevant because it mentions translating a natural language query into\u001b[0m\n",
       "\u001b[32ma SQL query over a table containing product listings, which would be useful for retrieving information about \u001b[0m\n",
       "\u001b[32mWireless Bluetooth Earbuds products in the product listing.'\u001b[0m\n",
       "                \u001b[1m)\u001b[0m\n",
       "            \u001b[1m]\u001b[0m\n",
       "        \u001b[1m)\u001b[0m\n",
       "    \u001b[1m}\u001b[0m\n",
       "\u001b[1m)\u001b[0m\n"
      ]
     },
     "metadata": {},
     "output_type": "display_data"
    }
   ],
   "source": [
    "rprint(response)"
   ]
  },
  {
   "cell_type": "code",
   "execution_count": 61,
   "metadata": {},
   "outputs": [
    {
     "data": {
      "text/html": [
       "<pre style=\"white-space:pre;overflow-x:auto;line-height:normal;font-family:Menlo,'DejaVu Sans Mono',consolas,'Courier New',monospace\">There are <span style=\"color: #008080; text-decoration-color: #008080; font-weight: bold\">2</span> products in the product listing that cost <span style=\"color: #008080; text-decoration-color: #008080; font-weight: bold\">79.99</span>.\n",
       "</pre>\n"
      ],
      "text/plain": [
       "There are \u001b[1;36m2\u001b[0m products in the product listing that cost \u001b[1;36m79.99\u001b[0m.\n"
      ]
     },
     "metadata": {},
     "output_type": "display_data"
    }
   ],
   "source": [
    "response = query_engine.query(\"How many product cost 79.99 in the product listing?\")\n",
    "rprint(str(response))"
   ]
  },
  {
   "cell_type": "code",
   "execution_count": 62,
   "metadata": {},
   "outputs": [
    {
     "data": {
      "text/html": [
       "<pre style=\"white-space:pre;overflow-x:auto;line-height:normal;font-family:Menlo,'DejaVu Sans Mono',consolas,'Courier New',monospace\"><span style=\"color: #800080; text-decoration-color: #800080; font-weight: bold\">Response</span><span style=\"font-weight: bold\">(</span>\n",
       "    <span style=\"color: #808000; text-decoration-color: #808000\">response</span>=<span style=\"color: #008000; text-decoration-color: #008000\">'There are 2 products in the product listing that cost 79.99.'</span>,\n",
       "    <span style=\"color: #808000; text-decoration-color: #808000\">source_nodes</span>=<span style=\"font-weight: bold\">[</span>\n",
       "        <span style=\"color: #800080; text-decoration-color: #800080; font-weight: bold\">NodeWithScore</span><span style=\"font-weight: bold\">(</span>\n",
       "            <span style=\"color: #808000; text-decoration-color: #808000\">node</span>=<span style=\"color: #800080; text-decoration-color: #800080; font-weight: bold\">TextNode</span><span style=\"font-weight: bold\">(</span>\n",
       "                <span style=\"color: #808000; text-decoration-color: #808000\">id_</span>=<span style=\"color: #008000; text-decoration-color: #008000\">'19c0746f-afca-4ea8-86cc-687554e9019b'</span>,\n",
       "                <span style=\"color: #808000; text-decoration-color: #808000\">embedding</span>=<span style=\"color: #800080; text-decoration-color: #800080; font-style: italic\">None</span>,\n",
       "                <span style=\"color: #808000; text-decoration-color: #808000\">metadata</span>=<span style=\"font-weight: bold\">{}</span>,\n",
       "                <span style=\"color: #808000; text-decoration-color: #808000\">excluded_embed_metadata_keys</span>=<span style=\"font-weight: bold\">[]</span>,\n",
       "                <span style=\"color: #808000; text-decoration-color: #808000\">excluded_llm_metadata_keys</span>=<span style=\"font-weight: bold\">[]</span>,\n",
       "                <span style=\"color: #808000; text-decoration-color: #808000\">relationships</span>=<span style=\"font-weight: bold\">{}</span>,\n",
       "                <span style=\"color: #808000; text-decoration-color: #808000\">text</span>=<span style=\"color: #008000; text-decoration-color: #008000\">'[(2,)]'</span>,\n",
       "                <span style=\"color: #808000; text-decoration-color: #808000\">start_char_idx</span>=<span style=\"color: #800080; text-decoration-color: #800080; font-style: italic\">None</span>,\n",
       "                <span style=\"color: #808000; text-decoration-color: #808000\">end_char_idx</span>=<span style=\"color: #800080; text-decoration-color: #800080; font-style: italic\">None</span>,\n",
       "                <span style=\"color: #808000; text-decoration-color: #808000\">text_template</span>=<span style=\"color: #008000; text-decoration-color: #008000\">'{metadata_str}\\n\\n{content}'</span>,\n",
       "                <span style=\"color: #808000; text-decoration-color: #808000\">metadata_template</span>=<span style=\"color: #008000; text-decoration-color: #008000\">'{key}: {value}'</span>,\n",
       "                <span style=\"color: #808000; text-decoration-color: #808000\">metadata_seperator</span>=<span style=\"color: #008000; text-decoration-color: #008000\">'\\n'</span>\n",
       "            <span style=\"font-weight: bold\">)</span>,\n",
       "            <span style=\"color: #808000; text-decoration-color: #808000\">score</span>=<span style=\"color: #800080; text-decoration-color: #800080; font-style: italic\">None</span>\n",
       "        <span style=\"font-weight: bold\">)</span>\n",
       "    <span style=\"font-weight: bold\">]</span>,\n",
       "    <span style=\"color: #808000; text-decoration-color: #808000\">metadata</span>=<span style=\"font-weight: bold\">{</span>\n",
       "        <span style=\"color: #008000; text-decoration-color: #008000\">'19c0746f-afca-4ea8-86cc-687554e9019b'</span>: <span style=\"font-weight: bold\">{}</span>,\n",
       "        <span style=\"color: #008000; text-decoration-color: #008000\">'sql_query'</span>: <span style=\"color: #008000; text-decoration-color: #008000\">'SELECT COUNT(*) FROM product_table WHERE Price = 79.99'</span>,\n",
       "        <span style=\"color: #008000; text-decoration-color: #008000\">'result'</span>: <span style=\"font-weight: bold\">[(</span><span style=\"color: #008080; text-decoration-color: #008080; font-weight: bold\">2</span>,<span style=\"font-weight: bold\">)]</span>,\n",
       "        <span style=\"color: #008000; text-decoration-color: #008000\">'col_keys'</span>: <span style=\"font-weight: bold\">[</span><span style=\"color: #008000; text-decoration-color: #008000\">'COUNT(*)'</span><span style=\"font-weight: bold\">]</span>,\n",
       "        <span style=\"color: #008000; text-decoration-color: #008000\">'selector_result'</span>: <span style=\"color: #800080; text-decoration-color: #800080; font-weight: bold\">MultiSelection</span><span style=\"font-weight: bold\">(</span>\n",
       "            <span style=\"color: #808000; text-decoration-color: #808000\">selections</span>=<span style=\"font-weight: bold\">[</span>\n",
       "                <span style=\"color: #800080; text-decoration-color: #800080; font-weight: bold\">SingleSelection</span><span style=\"font-weight: bold\">(</span>\n",
       "                    <span style=\"color: #808000; text-decoration-color: #808000\">index</span>=<span style=\"color: #008080; text-decoration-color: #008080; font-weight: bold\">0</span>,\n",
       "                    <span style=\"color: #808000; text-decoration-color: #808000\">reason</span>=<span style=\"color: #008000; text-decoration-color: #008000\">'Choice 1 is most relevant because it mentions translating a natural language query into</span>\n",
       "<span style=\"color: #008000; text-decoration-color: #008000\">a SQL query over a table containing product listings, which would be necessary to find the number of products that </span>\n",
       "<span style=\"color: #008000; text-decoration-color: #008000\">cost 79.99 in the product listing.'</span>\n",
       "                <span style=\"font-weight: bold\">)</span>\n",
       "            <span style=\"font-weight: bold\">]</span>\n",
       "        <span style=\"font-weight: bold\">)</span>\n",
       "    <span style=\"font-weight: bold\">}</span>\n",
       "<span style=\"font-weight: bold\">)</span>\n",
       "</pre>\n"
      ],
      "text/plain": [
       "\u001b[1;35mResponse\u001b[0m\u001b[1m(\u001b[0m\n",
       "    \u001b[33mresponse\u001b[0m=\u001b[32m'There are 2 products in the product listing that cost 79.99.'\u001b[0m,\n",
       "    \u001b[33msource_nodes\u001b[0m=\u001b[1m[\u001b[0m\n",
       "        \u001b[1;35mNodeWithScore\u001b[0m\u001b[1m(\u001b[0m\n",
       "            \u001b[33mnode\u001b[0m=\u001b[1;35mTextNode\u001b[0m\u001b[1m(\u001b[0m\n",
       "                \u001b[33mid_\u001b[0m=\u001b[32m'19c0746f-afca-4ea8-86cc-687554e9019b'\u001b[0m,\n",
       "                \u001b[33membedding\u001b[0m=\u001b[3;35mNone\u001b[0m,\n",
       "                \u001b[33mmetadata\u001b[0m=\u001b[1m{\u001b[0m\u001b[1m}\u001b[0m,\n",
       "                \u001b[33mexcluded_embed_metadata_keys\u001b[0m=\u001b[1m[\u001b[0m\u001b[1m]\u001b[0m,\n",
       "                \u001b[33mexcluded_llm_metadata_keys\u001b[0m=\u001b[1m[\u001b[0m\u001b[1m]\u001b[0m,\n",
       "                \u001b[33mrelationships\u001b[0m=\u001b[1m{\u001b[0m\u001b[1m}\u001b[0m,\n",
       "                \u001b[33mtext\u001b[0m=\u001b[32m'\u001b[0m\u001b[32m[\u001b[0m\u001b[32m(\u001b[0m\u001b[32m2,\u001b[0m\u001b[32m)\u001b[0m\u001b[32m]\u001b[0m\u001b[32m'\u001b[0m,\n",
       "                \u001b[33mstart_char_idx\u001b[0m=\u001b[3;35mNone\u001b[0m,\n",
       "                \u001b[33mend_char_idx\u001b[0m=\u001b[3;35mNone\u001b[0m,\n",
       "                \u001b[33mtext_template\u001b[0m=\u001b[32m'\u001b[0m\u001b[32m{\u001b[0m\u001b[32mmetadata_str\u001b[0m\u001b[32m}\u001b[0m\u001b[32m\\n\\n\u001b[0m\u001b[32m{\u001b[0m\u001b[32mcontent\u001b[0m\u001b[32m}\u001b[0m\u001b[32m'\u001b[0m,\n",
       "                \u001b[33mmetadata_template\u001b[0m=\u001b[32m'\u001b[0m\u001b[32m{\u001b[0m\u001b[32mkey\u001b[0m\u001b[32m}\u001b[0m\u001b[32m: \u001b[0m\u001b[32m{\u001b[0m\u001b[32mvalue\u001b[0m\u001b[32m}\u001b[0m\u001b[32m'\u001b[0m,\n",
       "                \u001b[33mmetadata_seperator\u001b[0m=\u001b[32m'\\n'\u001b[0m\n",
       "            \u001b[1m)\u001b[0m,\n",
       "            \u001b[33mscore\u001b[0m=\u001b[3;35mNone\u001b[0m\n",
       "        \u001b[1m)\u001b[0m\n",
       "    \u001b[1m]\u001b[0m,\n",
       "    \u001b[33mmetadata\u001b[0m=\u001b[1m{\u001b[0m\n",
       "        \u001b[32m'19c0746f-afca-4ea8-86cc-687554e9019b'\u001b[0m: \u001b[1m{\u001b[0m\u001b[1m}\u001b[0m,\n",
       "        \u001b[32m'sql_query'\u001b[0m: \u001b[32m'SELECT COUNT\u001b[0m\u001b[32m(\u001b[0m\u001b[32m*\u001b[0m\u001b[32m)\u001b[0m\u001b[32m FROM product_table WHERE Price = 79.99'\u001b[0m,\n",
       "        \u001b[32m'result'\u001b[0m: \u001b[1m[\u001b[0m\u001b[1m(\u001b[0m\u001b[1;36m2\u001b[0m,\u001b[1m)\u001b[0m\u001b[1m]\u001b[0m,\n",
       "        \u001b[32m'col_keys'\u001b[0m: \u001b[1m[\u001b[0m\u001b[32m'COUNT\u001b[0m\u001b[32m(\u001b[0m\u001b[32m*\u001b[0m\u001b[32m)\u001b[0m\u001b[32m'\u001b[0m\u001b[1m]\u001b[0m,\n",
       "        \u001b[32m'selector_result'\u001b[0m: \u001b[1;35mMultiSelection\u001b[0m\u001b[1m(\u001b[0m\n",
       "            \u001b[33mselections\u001b[0m=\u001b[1m[\u001b[0m\n",
       "                \u001b[1;35mSingleSelection\u001b[0m\u001b[1m(\u001b[0m\n",
       "                    \u001b[33mindex\u001b[0m=\u001b[1;36m0\u001b[0m,\n",
       "                    \u001b[33mreason\u001b[0m=\u001b[32m'Choice 1 is most relevant because it mentions translating a natural language query into\u001b[0m\n",
       "\u001b[32ma SQL query over a table containing product listings, which would be necessary to find the number of products that \u001b[0m\n",
       "\u001b[32mcost 79.99 in the product listing.'\u001b[0m\n",
       "                \u001b[1m)\u001b[0m\n",
       "            \u001b[1m]\u001b[0m\n",
       "        \u001b[1m)\u001b[0m\n",
       "    \u001b[1m}\u001b[0m\n",
       "\u001b[1m)\u001b[0m\n"
      ]
     },
     "metadata": {},
     "output_type": "display_data"
    }
   ],
   "source": [
    "rprint(response)"
   ]
  },
  {
   "cell_type": "code",
   "execution_count": 63,
   "metadata": {},
   "outputs": [
    {
     "data": {
      "text/html": [
       "<pre style=\"white-space:pre;overflow-x:auto;line-height:normal;font-family:Menlo,'DejaVu Sans Mono',consolas,'Courier New',monospace\">There is <span style=\"color: #008080; text-decoration-color: #008080; font-weight: bold\">1</span> product that is similar to Wireless Bluetooth Earbuds products.\n",
       "</pre>\n"
      ],
      "text/plain": [
       "There is \u001b[1;36m1\u001b[0m product that is similar to Wireless Bluetooth Earbuds products.\n"
      ]
     },
     "metadata": {},
     "output_type": "display_data"
    }
   ],
   "source": [
    "response = query_engine.query(\"How many product are similar to Wireless Bluetooth Earbuds products?\")\n",
    "rprint(str(response))"
   ]
  },
  {
   "cell_type": "code",
   "execution_count": 64,
   "metadata": {},
   "outputs": [
    {
     "data": {
      "text/html": [
       "<pre style=\"white-space:pre;overflow-x:auto;line-height:normal;font-family:Menlo,'DejaVu Sans Mono',consolas,'Courier New',monospace\"><span style=\"color: #800080; text-decoration-color: #800080; font-weight: bold\">Response</span><span style=\"font-weight: bold\">(</span>\n",
       "    <span style=\"color: #808000; text-decoration-color: #808000\">response</span>=<span style=\"color: #008000; text-decoration-color: #008000\">'There is 1 product that is similar to Wireless Bluetooth Earbuds products.'</span>,\n",
       "    <span style=\"color: #808000; text-decoration-color: #808000\">source_nodes</span>=<span style=\"font-weight: bold\">[</span>\n",
       "        <span style=\"color: #800080; text-decoration-color: #800080; font-weight: bold\">NodeWithScore</span><span style=\"font-weight: bold\">(</span>\n",
       "            <span style=\"color: #808000; text-decoration-color: #808000\">node</span>=<span style=\"color: #800080; text-decoration-color: #800080; font-weight: bold\">TextNode</span><span style=\"font-weight: bold\">(</span>\n",
       "                <span style=\"color: #808000; text-decoration-color: #808000\">id_</span>=<span style=\"color: #008000; text-decoration-color: #008000\">'eb748814-31ee-48c5-b03e-63c397f58e61'</span>,\n",
       "                <span style=\"color: #808000; text-decoration-color: #808000\">embedding</span>=<span style=\"color: #800080; text-decoration-color: #800080; font-style: italic\">None</span>,\n",
       "                <span style=\"color: #808000; text-decoration-color: #808000\">metadata</span>=<span style=\"font-weight: bold\">{}</span>,\n",
       "                <span style=\"color: #808000; text-decoration-color: #808000\">excluded_embed_metadata_keys</span>=<span style=\"font-weight: bold\">[]</span>,\n",
       "                <span style=\"color: #808000; text-decoration-color: #808000\">excluded_llm_metadata_keys</span>=<span style=\"font-weight: bold\">[]</span>,\n",
       "                <span style=\"color: #808000; text-decoration-color: #808000\">relationships</span>=<span style=\"font-weight: bold\">{}</span>,\n",
       "                <span style=\"color: #808000; text-decoration-color: #808000\">text</span>=<span style=\"color: #008000; text-decoration-color: #008000\">'[(1,)]'</span>,\n",
       "                <span style=\"color: #808000; text-decoration-color: #808000\">start_char_idx</span>=<span style=\"color: #800080; text-decoration-color: #800080; font-style: italic\">None</span>,\n",
       "                <span style=\"color: #808000; text-decoration-color: #808000\">end_char_idx</span>=<span style=\"color: #800080; text-decoration-color: #800080; font-style: italic\">None</span>,\n",
       "                <span style=\"color: #808000; text-decoration-color: #808000\">text_template</span>=<span style=\"color: #008000; text-decoration-color: #008000\">'{metadata_str}\\n\\n{content}'</span>,\n",
       "                <span style=\"color: #808000; text-decoration-color: #808000\">metadata_template</span>=<span style=\"color: #008000; text-decoration-color: #008000\">'{key}: {value}'</span>,\n",
       "                <span style=\"color: #808000; text-decoration-color: #808000\">metadata_seperator</span>=<span style=\"color: #008000; text-decoration-color: #008000\">'\\n'</span>\n",
       "            <span style=\"font-weight: bold\">)</span>,\n",
       "            <span style=\"color: #808000; text-decoration-color: #808000\">score</span>=<span style=\"color: #800080; text-decoration-color: #800080; font-style: italic\">None</span>\n",
       "        <span style=\"font-weight: bold\">)</span>\n",
       "    <span style=\"font-weight: bold\">]</span>,\n",
       "    <span style=\"color: #808000; text-decoration-color: #808000\">metadata</span>=<span style=\"font-weight: bold\">{</span>\n",
       "        <span style=\"color: #008000; text-decoration-color: #008000\">'eb748814-31ee-48c5-b03e-63c397f58e61'</span>: <span style=\"font-weight: bold\">{}</span>,\n",
       "        <span style=\"color: #008000; text-decoration-color: #008000\">'sql_query'</span>: <span style=\"color: #008000; text-decoration-color: #008000\">\"SELECT COUNT(*) FROM product_table WHERE Product_Name LIKE '%Wireless Bluetooth Earbuds%'\"</span>,\n",
       "        <span style=\"color: #008000; text-decoration-color: #008000\">'result'</span>: <span style=\"font-weight: bold\">[(</span><span style=\"color: #008080; text-decoration-color: #008080; font-weight: bold\">1</span>,<span style=\"font-weight: bold\">)]</span>,\n",
       "        <span style=\"color: #008000; text-decoration-color: #008000\">'col_keys'</span>: <span style=\"font-weight: bold\">[</span><span style=\"color: #008000; text-decoration-color: #008000\">'COUNT(*)'</span><span style=\"font-weight: bold\">]</span>,\n",
       "        <span style=\"color: #008000; text-decoration-color: #008000\">'selector_result'</span>: <span style=\"color: #800080; text-decoration-color: #800080; font-weight: bold\">MultiSelection</span><span style=\"font-weight: bold\">(</span>\n",
       "            <span style=\"color: #808000; text-decoration-color: #808000\">selections</span>=<span style=\"font-weight: bold\">[</span>\n",
       "                <span style=\"color: #800080; text-decoration-color: #800080; font-weight: bold\">SingleSelection</span><span style=\"font-weight: bold\">(</span>\n",
       "                    <span style=\"color: #808000; text-decoration-color: #808000\">index</span>=<span style=\"color: #008080; text-decoration-color: #008080; font-weight: bold\">0</span>,\n",
       "                    <span style=\"color: #808000; text-decoration-color: #808000\">reason</span>=<span style=\"color: #008000; text-decoration-color: #008000\">'Choice 1 is most relevant because it mentions a table containing product listings, </span>\n",
       "<span style=\"color: #008000; text-decoration-color: #008000\">which would likely include information about similar products such as Wireless Bluetooth Earbuds.'</span>\n",
       "                <span style=\"font-weight: bold\">)</span>\n",
       "            <span style=\"font-weight: bold\">]</span>\n",
       "        <span style=\"font-weight: bold\">)</span>\n",
       "    <span style=\"font-weight: bold\">}</span>\n",
       "<span style=\"font-weight: bold\">)</span>\n",
       "</pre>\n"
      ],
      "text/plain": [
       "\u001b[1;35mResponse\u001b[0m\u001b[1m(\u001b[0m\n",
       "    \u001b[33mresponse\u001b[0m=\u001b[32m'There is 1 product that is similar to Wireless Bluetooth Earbuds products.'\u001b[0m,\n",
       "    \u001b[33msource_nodes\u001b[0m=\u001b[1m[\u001b[0m\n",
       "        \u001b[1;35mNodeWithScore\u001b[0m\u001b[1m(\u001b[0m\n",
       "            \u001b[33mnode\u001b[0m=\u001b[1;35mTextNode\u001b[0m\u001b[1m(\u001b[0m\n",
       "                \u001b[33mid_\u001b[0m=\u001b[32m'eb748814-31ee-48c5-b03e-63c397f58e61'\u001b[0m,\n",
       "                \u001b[33membedding\u001b[0m=\u001b[3;35mNone\u001b[0m,\n",
       "                \u001b[33mmetadata\u001b[0m=\u001b[1m{\u001b[0m\u001b[1m}\u001b[0m,\n",
       "                \u001b[33mexcluded_embed_metadata_keys\u001b[0m=\u001b[1m[\u001b[0m\u001b[1m]\u001b[0m,\n",
       "                \u001b[33mexcluded_llm_metadata_keys\u001b[0m=\u001b[1m[\u001b[0m\u001b[1m]\u001b[0m,\n",
       "                \u001b[33mrelationships\u001b[0m=\u001b[1m{\u001b[0m\u001b[1m}\u001b[0m,\n",
       "                \u001b[33mtext\u001b[0m=\u001b[32m'\u001b[0m\u001b[32m[\u001b[0m\u001b[32m(\u001b[0m\u001b[32m1,\u001b[0m\u001b[32m)\u001b[0m\u001b[32m]\u001b[0m\u001b[32m'\u001b[0m,\n",
       "                \u001b[33mstart_char_idx\u001b[0m=\u001b[3;35mNone\u001b[0m,\n",
       "                \u001b[33mend_char_idx\u001b[0m=\u001b[3;35mNone\u001b[0m,\n",
       "                \u001b[33mtext_template\u001b[0m=\u001b[32m'\u001b[0m\u001b[32m{\u001b[0m\u001b[32mmetadata_str\u001b[0m\u001b[32m}\u001b[0m\u001b[32m\\n\\n\u001b[0m\u001b[32m{\u001b[0m\u001b[32mcontent\u001b[0m\u001b[32m}\u001b[0m\u001b[32m'\u001b[0m,\n",
       "                \u001b[33mmetadata_template\u001b[0m=\u001b[32m'\u001b[0m\u001b[32m{\u001b[0m\u001b[32mkey\u001b[0m\u001b[32m}\u001b[0m\u001b[32m: \u001b[0m\u001b[32m{\u001b[0m\u001b[32mvalue\u001b[0m\u001b[32m}\u001b[0m\u001b[32m'\u001b[0m,\n",
       "                \u001b[33mmetadata_seperator\u001b[0m=\u001b[32m'\\n'\u001b[0m\n",
       "            \u001b[1m)\u001b[0m,\n",
       "            \u001b[33mscore\u001b[0m=\u001b[3;35mNone\u001b[0m\n",
       "        \u001b[1m)\u001b[0m\n",
       "    \u001b[1m]\u001b[0m,\n",
       "    \u001b[33mmetadata\u001b[0m=\u001b[1m{\u001b[0m\n",
       "        \u001b[32m'eb748814-31ee-48c5-b03e-63c397f58e61'\u001b[0m: \u001b[1m{\u001b[0m\u001b[1m}\u001b[0m,\n",
       "        \u001b[32m'sql_query'\u001b[0m: \u001b[32m\"SELECT COUNT\u001b[0m\u001b[32m(\u001b[0m\u001b[32m*\u001b[0m\u001b[32m)\u001b[0m\u001b[32m FROM product_table WHERE Product_Name LIKE '%Wireless Bluetooth Earbuds%'\"\u001b[0m,\n",
       "        \u001b[32m'result'\u001b[0m: \u001b[1m[\u001b[0m\u001b[1m(\u001b[0m\u001b[1;36m1\u001b[0m,\u001b[1m)\u001b[0m\u001b[1m]\u001b[0m,\n",
       "        \u001b[32m'col_keys'\u001b[0m: \u001b[1m[\u001b[0m\u001b[32m'COUNT\u001b[0m\u001b[32m(\u001b[0m\u001b[32m*\u001b[0m\u001b[32m)\u001b[0m\u001b[32m'\u001b[0m\u001b[1m]\u001b[0m,\n",
       "        \u001b[32m'selector_result'\u001b[0m: \u001b[1;35mMultiSelection\u001b[0m\u001b[1m(\u001b[0m\n",
       "            \u001b[33mselections\u001b[0m=\u001b[1m[\u001b[0m\n",
       "                \u001b[1;35mSingleSelection\u001b[0m\u001b[1m(\u001b[0m\n",
       "                    \u001b[33mindex\u001b[0m=\u001b[1;36m0\u001b[0m,\n",
       "                    \u001b[33mreason\u001b[0m=\u001b[32m'Choice 1 is most relevant because it mentions a table containing product listings, \u001b[0m\n",
       "\u001b[32mwhich would likely include information about similar products such as Wireless Bluetooth Earbuds.'\u001b[0m\n",
       "                \u001b[1m)\u001b[0m\n",
       "            \u001b[1m]\u001b[0m\n",
       "        \u001b[1m)\u001b[0m\n",
       "    \u001b[1m}\u001b[0m\n",
       "\u001b[1m)\u001b[0m\n"
      ]
     },
     "metadata": {},
     "output_type": "display_data"
    }
   ],
   "source": [
    "rprint(response)"
   ]
  },
  {
   "cell_type": "code",
   "execution_count": 65,
   "metadata": {},
   "outputs": [
    {
     "data": {
      "text/html": [
       "<pre style=\"white-space:pre;overflow-x:auto;line-height:normal;font-family:Menlo,'DejaVu Sans Mono',consolas,'Courier New',monospace\">The products whose descriptions are similar are:\n",
       "<span style=\"color: #008080; text-decoration-color: #008080; font-weight: bold\">1</span>. Organic Bamboo Bed Sheets\n",
       "<span style=\"color: #008080; text-decoration-color: #008080; font-weight: bold\">2</span>. Virtual Reality Headset\n",
       "</pre>\n"
      ],
      "text/plain": [
       "The products whose descriptions are similar are:\n",
       "\u001b[1;36m1\u001b[0m. Organic Bamboo Bed Sheets\n",
       "\u001b[1;36m2\u001b[0m. Virtual Reality Headset\n"
      ]
     },
     "metadata": {},
     "output_type": "display_data"
    }
   ],
   "source": [
    "response = query_engine.query(\"list the products whose descriptions are similar.\")\n",
    "rprint(str(response))"
   ]
  },
  {
   "cell_type": "code",
   "execution_count": 67,
   "metadata": {},
   "outputs": [
    {
     "data": {
      "text/html": [
       "<pre style=\"white-space:pre;overflow-x:auto;line-height:normal;font-family:Menlo,'DejaVu Sans Mono',consolas,'Courier New',monospace\"><span style=\"font-weight: bold\">{</span>\n",
       "    <span style=\"color: #008000; text-decoration-color: #008000\">'a57285ab-1c52-48f8-b669-54b224d598ad'</span>: <span style=\"font-weight: bold\">{}</span>,\n",
       "    <span style=\"color: #008000; text-decoration-color: #008000\">'dd13f5be-f2f6-4a70-b076-073bf9ec2f58'</span>: <span style=\"font-weight: bold\">{}</span>,\n",
       "    <span style=\"color: #008000; text-decoration-color: #008000\">'selector_result'</span>: <span style=\"color: #800080; text-decoration-color: #800080; font-weight: bold\">MultiSelection</span><span style=\"font-weight: bold\">(</span>\n",
       "        <span style=\"color: #808000; text-decoration-color: #808000\">selections</span>=<span style=\"font-weight: bold\">[</span>\n",
       "            <span style=\"color: #800080; text-decoration-color: #800080; font-weight: bold\">SingleSelection</span><span style=\"font-weight: bold\">(</span>\n",
       "                <span style=\"color: #808000; text-decoration-color: #808000\">index</span>=<span style=\"color: #008080; text-decoration-color: #008080; font-weight: bold\">1</span>,\n",
       "                <span style=\"color: #808000; text-decoration-color: #808000\">reason</span>=<span style=\"color: #008000; text-decoration-color: #008000\">'Choice 2 is most relevant because it specifically mentions answering semantic questions </span>\n",
       "<span style=\"color: #008000; text-decoration-color: #008000\">about product listing, which includes determining similarity between product descriptions.'</span>\n",
       "            <span style=\"font-weight: bold\">)</span>\n",
       "        <span style=\"font-weight: bold\">]</span>\n",
       "    <span style=\"font-weight: bold\">)</span>\n",
       "<span style=\"font-weight: bold\">}</span>\n",
       "</pre>\n"
      ],
      "text/plain": [
       "\u001b[1m{\u001b[0m\n",
       "    \u001b[32m'a57285ab-1c52-48f8-b669-54b224d598ad'\u001b[0m: \u001b[1m{\u001b[0m\u001b[1m}\u001b[0m,\n",
       "    \u001b[32m'dd13f5be-f2f6-4a70-b076-073bf9ec2f58'\u001b[0m: \u001b[1m{\u001b[0m\u001b[1m}\u001b[0m,\n",
       "    \u001b[32m'selector_result'\u001b[0m: \u001b[1;35mMultiSelection\u001b[0m\u001b[1m(\u001b[0m\n",
       "        \u001b[33mselections\u001b[0m=\u001b[1m[\u001b[0m\n",
       "            \u001b[1;35mSingleSelection\u001b[0m\u001b[1m(\u001b[0m\n",
       "                \u001b[33mindex\u001b[0m=\u001b[1;36m1\u001b[0m,\n",
       "                \u001b[33mreason\u001b[0m=\u001b[32m'Choice 2 is most relevant because it specifically mentions answering semantic questions \u001b[0m\n",
       "\u001b[32mabout product listing, which includes determining similarity between product descriptions.'\u001b[0m\n",
       "            \u001b[1m)\u001b[0m\n",
       "        \u001b[1m]\u001b[0m\n",
       "    \u001b[1m)\u001b[0m\n",
       "\u001b[1m}\u001b[0m\n"
      ]
     },
     "metadata": {},
     "output_type": "display_data"
    }
   ],
   "source": [
    "rprint(response.metadata)"
   ]
  },
  {
   "cell_type": "code",
   "execution_count": 77,
   "metadata": {},
   "outputs": [
    {
     "data": {
      "text/html": [
       "<pre style=\"white-space:pre;overflow-x:auto;line-height:normal;font-family:Menlo,'DejaVu Sans Mono',consolas,'Courier New',monospace\"><span style=\"font-weight: bold\">[</span><span style=\"color: #008000; text-decoration-color: #008000\">'Experience ultimate comfort with our Organic Bamboo Bed Sheets. These luxuriously soft sheets are made from </span>\n",
       "<span style=\"color: #008000; text-decoration-color: #008000\">sustainable and breathable bamboo fibers.'</span>\n",
       " <span style=\"color: #008000; text-decoration-color: #008000\">'Immerse yourself in virtual worlds with our Virtual Reality Headset. Experience gaming, entertainment, and </span>\n",
       "<span style=\"color: #008000; text-decoration-color: #008000\">exploration like never before.'</span><span style=\"font-weight: bold\">]</span>\n",
       "</pre>\n"
      ],
      "text/plain": [
       "\u001b[1m[\u001b[0m\u001b[32m'Experience ultimate comfort with our Organic Bamboo Bed Sheets. These luxuriously soft sheets are made from \u001b[0m\n",
       "\u001b[32msustainable and breathable bamboo fibers.'\u001b[0m\n",
       " \u001b[32m'Immerse yourself in virtual worlds with our Virtual Reality Headset. Experience gaming, entertainment, and \u001b[0m\n",
       "\u001b[32mexploration like never before.'\u001b[0m\u001b[1m]\u001b[0m\n"
      ]
     },
     "metadata": {},
     "output_type": "display_data"
    }
   ],
   "source": [
    "rprint(data.loc[data.Product_Name.isin(('Organic Bamboo Bed Sheets', 'Virtual Reality Headset')), \"Description\"].values)"
   ]
  },
  {
   "cell_type": "code",
   "execution_count": 83,
   "metadata": {},
   "outputs": [
    {
     "data": {
      "text/html": [
       "<pre style=\"white-space:pre;overflow-x:auto;line-height:normal;font-family:Menlo,'DejaVu Sans Mono',consolas,'Courier New',monospace\">The product that has <span style=\"color: #008000; text-decoration-color: #008000\">'heart rate'</span> in its description is the Fitness Tracker Smartwatch.\n",
       "</pre>\n"
      ],
      "text/plain": [
       "The product that has \u001b[32m'heart rate'\u001b[0m in its description is the Fitness Tracker Smartwatch.\n"
      ]
     },
     "metadata": {},
     "output_type": "display_data"
    }
   ],
   "source": [
    "response = query_engine.query(\"Which product has 'heart rate' in its description\")\n",
    "rprint(str(response))"
   ]
  },
  {
   "cell_type": "code",
   "execution_count": 84,
   "metadata": {},
   "outputs": [
    {
     "data": {
      "text/html": [
       "<pre style=\"white-space:pre;overflow-x:auto;line-height:normal;font-family:Menlo,'DejaVu Sans Mono',consolas,'Courier New',monospace\"><span style=\"color: #800080; text-decoration-color: #800080; font-weight: bold\">Response</span><span style=\"font-weight: bold\">(</span>\n",
       "    <span style=\"color: #808000; text-decoration-color: #808000\">response</span>=<span style=\"color: #008000; text-decoration-color: #008000\">\"The product that has 'heart rate' in its description is the Fitness Tracker Smartwatch.\"</span>,\n",
       "    <span style=\"color: #808000; text-decoration-color: #808000\">source_nodes</span>=<span style=\"font-weight: bold\">[</span>\n",
       "        <span style=\"color: #800080; text-decoration-color: #800080; font-weight: bold\">NodeWithScore</span><span style=\"font-weight: bold\">(</span>\n",
       "            <span style=\"color: #808000; text-decoration-color: #808000\">node</span>=<span style=\"color: #800080; text-decoration-color: #800080; font-weight: bold\">TextNode</span><span style=\"font-weight: bold\">(</span>\n",
       "                <span style=\"color: #808000; text-decoration-color: #808000\">id_</span>=<span style=\"color: #008000; text-decoration-color: #008000\">'0dbf45a2-3a3c-497b-bb2e-d57eca866a37'</span>,\n",
       "                <span style=\"color: #808000; text-decoration-color: #808000\">embedding</span>=<span style=\"color: #800080; text-decoration-color: #800080; font-style: italic\">None</span>,\n",
       "                <span style=\"color: #808000; text-decoration-color: #808000\">metadata</span>=<span style=\"font-weight: bold\">{}</span>,\n",
       "                <span style=\"color: #808000; text-decoration-color: #808000\">excluded_embed_metadata_keys</span>=<span style=\"font-weight: bold\">[]</span>,\n",
       "                <span style=\"color: #808000; text-decoration-color: #808000\">excluded_llm_metadata_keys</span>=<span style=\"font-weight: bold\">[]</span>,\n",
       "                <span style=\"color: #808000; text-decoration-color: #808000\">relationships</span>=<span style=\"font-weight: bold\">{}</span>,\n",
       "                <span style=\"color: #808000; text-decoration-color: #808000\">text</span>=<span style=\"color: #008000; text-decoration-color: #008000\">\"[('Fitness Tracker Smartwatch',)]\"</span>,\n",
       "                <span style=\"color: #808000; text-decoration-color: #808000\">start_char_idx</span>=<span style=\"color: #800080; text-decoration-color: #800080; font-style: italic\">None</span>,\n",
       "                <span style=\"color: #808000; text-decoration-color: #808000\">end_char_idx</span>=<span style=\"color: #800080; text-decoration-color: #800080; font-style: italic\">None</span>,\n",
       "                <span style=\"color: #808000; text-decoration-color: #808000\">text_template</span>=<span style=\"color: #008000; text-decoration-color: #008000\">'{metadata_str}\\n\\n{content}'</span>,\n",
       "                <span style=\"color: #808000; text-decoration-color: #808000\">metadata_template</span>=<span style=\"color: #008000; text-decoration-color: #008000\">'{key}: {value}'</span>,\n",
       "                <span style=\"color: #808000; text-decoration-color: #808000\">metadata_seperator</span>=<span style=\"color: #008000; text-decoration-color: #008000\">'\\n'</span>\n",
       "            <span style=\"font-weight: bold\">)</span>,\n",
       "            <span style=\"color: #808000; text-decoration-color: #808000\">score</span>=<span style=\"color: #800080; text-decoration-color: #800080; font-style: italic\">None</span>\n",
       "        <span style=\"font-weight: bold\">)</span>\n",
       "    <span style=\"font-weight: bold\">]</span>,\n",
       "    <span style=\"color: #808000; text-decoration-color: #808000\">metadata</span>=<span style=\"font-weight: bold\">{</span>\n",
       "        <span style=\"color: #008000; text-decoration-color: #008000\">'0dbf45a2-3a3c-497b-bb2e-d57eca866a37'</span>: <span style=\"font-weight: bold\">{}</span>,\n",
       "        <span style=\"color: #008000; text-decoration-color: #008000\">'sql_query'</span>: <span style=\"color: #008000; text-decoration-color: #008000\">\"SELECT Product_Name\\nFROM product_table\\nWHERE Description LIKE '%heart rate%'\"</span>,\n",
       "        <span style=\"color: #008000; text-decoration-color: #008000\">'result'</span>: <span style=\"font-weight: bold\">[(</span><span style=\"color: #008000; text-decoration-color: #008000\">'Fitness Tracker Smartwatch'</span>,<span style=\"font-weight: bold\">)]</span>,\n",
       "        <span style=\"color: #008000; text-decoration-color: #008000\">'col_keys'</span>: <span style=\"font-weight: bold\">[</span><span style=\"color: #008000; text-decoration-color: #008000\">'Product_Name'</span><span style=\"font-weight: bold\">]</span>,\n",
       "        <span style=\"color: #008000; text-decoration-color: #008000\">'selector_result'</span>: <span style=\"color: #800080; text-decoration-color: #800080; font-weight: bold\">MultiSelection</span><span style=\"font-weight: bold\">(</span>\n",
       "            <span style=\"color: #808000; text-decoration-color: #808000\">selections</span>=<span style=\"font-weight: bold\">[</span>\n",
       "                <span style=\"color: #800080; text-decoration-color: #800080; font-weight: bold\">SingleSelection</span><span style=\"font-weight: bold\">(</span>\n",
       "                    <span style=\"color: #808000; text-decoration-color: #808000\">index</span>=<span style=\"color: #008080; text-decoration-color: #008080; font-weight: bold\">0</span>,\n",
       "                    <span style=\"color: #808000; text-decoration-color: #808000\">reason</span>=<span style=\"color: #008000; text-decoration-color: #008000\">'Choice 1 is most relevant because it mentions translating a natural language query into</span>\n",
       "<span style=\"color: #008000; text-decoration-color: #008000\">a SQL query over a table containing product listings, which would include descriptions of each product. This </span>\n",
       "<span style=\"color: #008000; text-decoration-color: #008000\">suggests that it would be able to handle a query about the description of a product.'</span>\n",
       "                <span style=\"font-weight: bold\">)</span>\n",
       "            <span style=\"font-weight: bold\">]</span>\n",
       "        <span style=\"font-weight: bold\">)</span>\n",
       "    <span style=\"font-weight: bold\">}</span>\n",
       "<span style=\"font-weight: bold\">)</span>\n",
       "</pre>\n"
      ],
      "text/plain": [
       "\u001b[1;35mResponse\u001b[0m\u001b[1m(\u001b[0m\n",
       "    \u001b[33mresponse\u001b[0m=\u001b[32m\"The\u001b[0m\u001b[32m product that has 'heart rate' in its description is the Fitness Tracker Smartwatch.\"\u001b[0m,\n",
       "    \u001b[33msource_nodes\u001b[0m=\u001b[1m[\u001b[0m\n",
       "        \u001b[1;35mNodeWithScore\u001b[0m\u001b[1m(\u001b[0m\n",
       "            \u001b[33mnode\u001b[0m=\u001b[1;35mTextNode\u001b[0m\u001b[1m(\u001b[0m\n",
       "                \u001b[33mid_\u001b[0m=\u001b[32m'0dbf45a2-3a3c-497b-bb2e-d57eca866a37'\u001b[0m,\n",
       "                \u001b[33membedding\u001b[0m=\u001b[3;35mNone\u001b[0m,\n",
       "                \u001b[33mmetadata\u001b[0m=\u001b[1m{\u001b[0m\u001b[1m}\u001b[0m,\n",
       "                \u001b[33mexcluded_embed_metadata_keys\u001b[0m=\u001b[1m[\u001b[0m\u001b[1m]\u001b[0m,\n",
       "                \u001b[33mexcluded_llm_metadata_keys\u001b[0m=\u001b[1m[\u001b[0m\u001b[1m]\u001b[0m,\n",
       "                \u001b[33mrelationships\u001b[0m=\u001b[1m{\u001b[0m\u001b[1m}\u001b[0m,\n",
       "                \u001b[33mtext\u001b[0m=\u001b[32m\"\u001b[0m\u001b[32m[\u001b[0m\u001b[32m(\u001b[0m\u001b[32m'Fitness Tracker Smartwatch',\u001b[0m\u001b[32m)\u001b[0m\u001b[32m]\u001b[0m\u001b[32m\"\u001b[0m,\n",
       "                \u001b[33mstart_char_idx\u001b[0m=\u001b[3;35mNone\u001b[0m,\n",
       "                \u001b[33mend_char_idx\u001b[0m=\u001b[3;35mNone\u001b[0m,\n",
       "                \u001b[33mtext_template\u001b[0m=\u001b[32m'\u001b[0m\u001b[32m{\u001b[0m\u001b[32mmetadata_str\u001b[0m\u001b[32m}\u001b[0m\u001b[32m\\n\\n\u001b[0m\u001b[32m{\u001b[0m\u001b[32mcontent\u001b[0m\u001b[32m}\u001b[0m\u001b[32m'\u001b[0m,\n",
       "                \u001b[33mmetadata_template\u001b[0m=\u001b[32m'\u001b[0m\u001b[32m{\u001b[0m\u001b[32mkey\u001b[0m\u001b[32m}\u001b[0m\u001b[32m: \u001b[0m\u001b[32m{\u001b[0m\u001b[32mvalue\u001b[0m\u001b[32m}\u001b[0m\u001b[32m'\u001b[0m,\n",
       "                \u001b[33mmetadata_seperator\u001b[0m=\u001b[32m'\\n'\u001b[0m\n",
       "            \u001b[1m)\u001b[0m,\n",
       "            \u001b[33mscore\u001b[0m=\u001b[3;35mNone\u001b[0m\n",
       "        \u001b[1m)\u001b[0m\n",
       "    \u001b[1m]\u001b[0m,\n",
       "    \u001b[33mmetadata\u001b[0m=\u001b[1m{\u001b[0m\n",
       "        \u001b[32m'0dbf45a2-3a3c-497b-bb2e-d57eca866a37'\u001b[0m: \u001b[1m{\u001b[0m\u001b[1m}\u001b[0m,\n",
       "        \u001b[32m'sql_query'\u001b[0m: \u001b[32m\"SELECT Product_Name\\nFROM product_table\\nWHERE Description LIKE '%heart rate%'\"\u001b[0m,\n",
       "        \u001b[32m'result'\u001b[0m: \u001b[1m[\u001b[0m\u001b[1m(\u001b[0m\u001b[32m'Fitness Tracker Smartwatch'\u001b[0m,\u001b[1m)\u001b[0m\u001b[1m]\u001b[0m,\n",
       "        \u001b[32m'col_keys'\u001b[0m: \u001b[1m[\u001b[0m\u001b[32m'Product_Name'\u001b[0m\u001b[1m]\u001b[0m,\n",
       "        \u001b[32m'selector_result'\u001b[0m: \u001b[1;35mMultiSelection\u001b[0m\u001b[1m(\u001b[0m\n",
       "            \u001b[33mselections\u001b[0m=\u001b[1m[\u001b[0m\n",
       "                \u001b[1;35mSingleSelection\u001b[0m\u001b[1m(\u001b[0m\n",
       "                    \u001b[33mindex\u001b[0m=\u001b[1;36m0\u001b[0m,\n",
       "                    \u001b[33mreason\u001b[0m=\u001b[32m'Choice 1 is most relevant because it mentions translating a natural language query into\u001b[0m\n",
       "\u001b[32ma SQL query over a table containing product listings, which would include descriptions of each product. This \u001b[0m\n",
       "\u001b[32msuggests that it would be able to handle a query about the description of a product.'\u001b[0m\n",
       "                \u001b[1m)\u001b[0m\n",
       "            \u001b[1m]\u001b[0m\n",
       "        \u001b[1m)\u001b[0m\n",
       "    \u001b[1m}\u001b[0m\n",
       "\u001b[1m)\u001b[0m\n"
      ]
     },
     "metadata": {},
     "output_type": "display_data"
    }
   ],
   "source": [
    "rprint(response)"
   ]
  },
  {
   "cell_type": "code",
   "execution_count": 85,
   "metadata": {},
   "outputs": [
    {
     "data": {
      "text/html": [
       "<pre style=\"white-space:pre;overflow-x:auto;line-height:normal;font-family:Menlo,'DejaVu Sans Mono',consolas,'Courier New',monospace\">The sum of all prices for all products whose price is $<span style=\"color: #008080; text-decoration-color: #008080; font-weight: bold\">79.99</span> is $<span style=\"color: #008080; text-decoration-color: #008080; font-weight: bold\">159.98</span>.\n",
       "</pre>\n"
      ],
      "text/plain": [
       "The sum of all prices for all products whose price is $\u001b[1;36m79.99\u001b[0m is $\u001b[1;36m159.98\u001b[0m.\n"
      ]
     },
     "metadata": {},
     "output_type": "display_data"
    }
   ],
   "source": [
    "response = query_engine.query(\"What is the sum of all prices for all products whose price is $79.99?\")\n",
    "rprint(str(response))"
   ]
  },
  {
   "cell_type": "code",
   "execution_count": 87,
   "metadata": {},
   "outputs": [
    {
     "data": {
      "text/html": [
       "<pre style=\"white-space:pre;overflow-x:auto;line-height:normal;font-family:Menlo,'DejaVu Sans Mono',consolas,'Courier New',monospace\"><span style=\"font-weight: bold\">{</span>\n",
       "    <span style=\"color: #008000; text-decoration-color: #008000\">'f419eef1-48cd-4084-a103-47d7dd9f3bc0'</span>: <span style=\"font-weight: bold\">{}</span>,\n",
       "    <span style=\"color: #008000; text-decoration-color: #008000\">'sql_query'</span>: <span style=\"color: #008000; text-decoration-color: #008000\">'SELECT SUM(Price) FROM product_table WHERE Price = 79.99;'</span>,\n",
       "    <span style=\"color: #008000; text-decoration-color: #008000\">'result'</span>: <span style=\"font-weight: bold\">[(</span><span style=\"color: #008080; text-decoration-color: #008080; font-weight: bold\">159.98</span>,<span style=\"font-weight: bold\">)]</span>,\n",
       "    <span style=\"color: #008000; text-decoration-color: #008000\">'col_keys'</span>: <span style=\"font-weight: bold\">[</span><span style=\"color: #008000; text-decoration-color: #008000\">'SUM(Price)'</span><span style=\"font-weight: bold\">]</span>,\n",
       "    <span style=\"color: #008000; text-decoration-color: #008000\">'selector_result'</span>: <span style=\"color: #800080; text-decoration-color: #800080; font-weight: bold\">MultiSelection</span><span style=\"font-weight: bold\">(</span>\n",
       "        <span style=\"color: #808000; text-decoration-color: #808000\">selections</span>=<span style=\"font-weight: bold\">[</span>\n",
       "            <span style=\"color: #800080; text-decoration-color: #800080; font-weight: bold\">SingleSelection</span><span style=\"font-weight: bold\">(</span>\n",
       "                <span style=\"color: #808000; text-decoration-color: #808000\">index</span>=<span style=\"color: #008080; text-decoration-color: #008080; font-weight: bold\">0</span>,\n",
       "                <span style=\"color: #808000; text-decoration-color: #808000\">reason</span>=<span style=\"color: #008000; text-decoration-color: #008000\">'Choice 1 is the most relevant because it mentions translating a natural language query into</span>\n",
       "<span style=\"color: #008000; text-decoration-color: #008000\">a SQL query over a table containing product listings, including the price. This suggests that it can be used to </span>\n",
       "<span style=\"color: #008000; text-decoration-color: #008000\">find the sum of all prices for all products.'</span>\n",
       "            <span style=\"font-weight: bold\">)</span>\n",
       "        <span style=\"font-weight: bold\">]</span>\n",
       "    <span style=\"font-weight: bold\">)</span>\n",
       "<span style=\"font-weight: bold\">}</span>\n",
       "</pre>\n"
      ],
      "text/plain": [
       "\u001b[1m{\u001b[0m\n",
       "    \u001b[32m'f419eef1-48cd-4084-a103-47d7dd9f3bc0'\u001b[0m: \u001b[1m{\u001b[0m\u001b[1m}\u001b[0m,\n",
       "    \u001b[32m'sql_query'\u001b[0m: \u001b[32m'SELECT SUM\u001b[0m\u001b[32m(\u001b[0m\u001b[32mPrice\u001b[0m\u001b[32m)\u001b[0m\u001b[32m FROM product_table WHERE Price = 79.99;'\u001b[0m,\n",
       "    \u001b[32m'result'\u001b[0m: \u001b[1m[\u001b[0m\u001b[1m(\u001b[0m\u001b[1;36m159.98\u001b[0m,\u001b[1m)\u001b[0m\u001b[1m]\u001b[0m,\n",
       "    \u001b[32m'col_keys'\u001b[0m: \u001b[1m[\u001b[0m\u001b[32m'SUM\u001b[0m\u001b[32m(\u001b[0m\u001b[32mPrice\u001b[0m\u001b[32m)\u001b[0m\u001b[32m'\u001b[0m\u001b[1m]\u001b[0m,\n",
       "    \u001b[32m'selector_result'\u001b[0m: \u001b[1;35mMultiSelection\u001b[0m\u001b[1m(\u001b[0m\n",
       "        \u001b[33mselections\u001b[0m=\u001b[1m[\u001b[0m\n",
       "            \u001b[1;35mSingleSelection\u001b[0m\u001b[1m(\u001b[0m\n",
       "                \u001b[33mindex\u001b[0m=\u001b[1;36m0\u001b[0m,\n",
       "                \u001b[33mreason\u001b[0m=\u001b[32m'Choice 1 is the most relevant because it mentions translating a natural language query into\u001b[0m\n",
       "\u001b[32ma SQL query over a table containing product listings, including the price. This suggests that it can be used to \u001b[0m\n",
       "\u001b[32mfind the sum of all prices for all products.'\u001b[0m\n",
       "            \u001b[1m)\u001b[0m\n",
       "        \u001b[1m]\u001b[0m\n",
       "    \u001b[1m)\u001b[0m\n",
       "\u001b[1m}\u001b[0m\n"
      ]
     },
     "metadata": {},
     "output_type": "display_data"
    }
   ],
   "source": [
    "rprint(response.metadata)"
   ]
  },
  {
   "cell_type": "code",
   "execution_count": null,
   "metadata": {},
   "outputs": [],
   "source": []
  }
 ],
 "metadata": {
  "kernelspec": {
   "display_name": "Python 3",
   "language": "python",
   "name": "python3"
  },
  "language_info": {
   "codemirror_mode": {
    "name": "ipython",
    "version": 3
   },
   "file_extension": ".py",
   "mimetype": "text/x-python",
   "name": "python",
   "nbconvert_exporter": "python",
   "pygments_lexer": "ipython3",
   "version": "3.10.10"
  },
  "orig_nbformat": 4
 },
 "nbformat": 4,
 "nbformat_minor": 2
}
