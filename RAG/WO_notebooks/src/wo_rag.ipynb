{
 "cells": [
  {
   "cell_type": "code",
   "execution_count": 1,
   "id": "initial_id",
   "metadata": {
    "collapsed": true,
    "ExecuteTime": {
     "end_time": "2024-02-18T23:44:48.953898Z",
     "start_time": "2024-02-18T23:44:46.833290Z"
    }
   },
   "outputs": [],
   "source": [
    "from omegaconf import OmegaConf\n",
    "from dotenv import find_dotenv, load_dotenv\n",
    "\n",
    "load_dotenv(find_dotenv())\n",
    "import os\n",
    "from pathlib import Path\n",
    "import openai\n",
    "\n",
    "openai.api_key = os.getenv(\"OPENA_AI_KEY\")\n",
    "# import weaviate\n",
    "\n",
    "# from weaviate.auth import AuthApiKey\n",
    "# from llama_index.vector_stores.milvus import MilvusVectorStore\n",
    "\n",
    "from RAG.WO_notebooks.src.rag_utils import (\n",
    "    load_data_to_sql_db,\n",
    "    text_to_query_engine,\n",
    "    setup_query_engines,\n",
    "    get_retry_guideline_response,\n",
    "    evaluate_and_transform_query,\n",
    "    load_index_from_weaviate, )\n",
    "# -----------------------------------------------------------------------------\n",
    "# llama_index imports\n",
    "# --------------------------------------------------------------------------------\n",
    "from llama_index.embeddings.openai import OpenAIEmbedding\n",
    "from llama_index.llms.openai import OpenAI\n",
    "from llama_index.core.settings import Settings\n",
    "\n",
    "\n",
    "from llama_index.vector_stores.chroma import ChromaVectorStore\n",
    "from llama_index.core import StorageContext, VectorStoreIndex\n",
    "\n",
    "import chromadb"
   ]
  },
  {
   "cell_type": "code",
   "outputs": [],
   "source": [
    "model_name = \"gpt-3.5-turbo\"\n",
    "embedding_model_name = \"text-embedding-3-large\"\n",
    "# embedding_model_name=\"local:BAAI/bge-small-en-v1.5\"\n",
    "llm = OpenAI(temperature=0.1, model=model_name)\n",
    "embed_model = OpenAIEmbedding(model=embedding_model_name)\n",
    "Settings.llm = llm\n",
    "Settings.embed_model = embed_model"
   ],
   "metadata": {
    "collapsed": false,
    "ExecuteTime": {
     "end_time": "2024-02-18T23:44:51.913977Z",
     "start_time": "2024-02-18T23:44:51.908221Z"
    }
   },
   "id": "d9a8ecf4e9a693a0",
   "execution_count": 2
  },
  {
   "cell_type": "code",
   "outputs": [],
   "source": [
    "columns_to_embed = [\n",
    "    \"OriginalShorttext\",\n",
    "    \"MajorSystem\",\n",
    "    \"Part\",\n",
    "    \"Action\",\n",
    "    \"FM\",\n",
    "    \"Location\",\n",
    "    \"Comments\",\n",
    "    \"FuncLocation\",\n",
    "]\n",
    "\n",
    "columns_to_metadata = [\n",
    "    \"BscStartDate\"\n",
    "    \"PMType\",\n",
    "    \"Asset\",\n",
    "    \"Cost\",\n",
    "    \"RunningTime\",\n",
    "    \"Variant\",\n",
    "    \"SuspSugg\",\n",
    "    \"Rule\",\n",
    "]\n",
    "# path to the raw dataset\n",
    "table_name = \"work_order_table\"\n",
    "dbpath = \"/Users/hamidadesokan/Dropbox/2_Skill_Development/DLML/genai_applications/embeddings/RAG/WO_notebooks/data/wo_data.db\"\n",
    "chromadbpath = \"/Users/hamidadesokan/Dropbox/2_Skill_Development/DLML/genai_applications/embeddings/RAG/WO_notebooks/data/chroma_db\"\n",
    "wo_data_path = \"/Users/hamidadesokan/Dropbox/2_Skill_Development/DLML/genai_applications/embeddings/RAG/WO_notebooks/data/excavator_2015_cleaned_forpdl.csv\"\n"
   ],
   "metadata": {
    "collapsed": false,
    "ExecuteTime": {
     "end_time": "2024-02-18T23:47:05.599685Z",
     "start_time": "2024-02-18T23:47:05.596944Z"
    }
   },
   "id": "18e4f0008ee53d5",
   "execution_count": 5
  },
  {
   "cell_type": "code",
   "outputs": [],
   "source": [
    "from llama_index.core import Document\n",
    "from sqlalchemy import create_engine\n",
    "import sqlite3\n",
    "import pandas as pd\n",
    "\n",
    "# Read the data from the CSV file into a pandas DataFrame\n",
    "data = pd.read_csv(wo_data_path)\n",
    "\n",
    "# Drop the 'Unnamed: 16' column from the DataFrame, if present\n",
    "data.drop(columns=[\"Unnamed: 16\"], errors='ignore', inplace=True)\n",
    "\n",
    "# Create a connection to the SQLite database and an engine\n",
    "conn = sqlite3.connect(dbpath)\n",
    "engine = create_engine(\"sqlite:///\" + dbpath)\n",
    "\n",
    "# Write the DataFrame to a table in the SQLite database\n",
    "data.to_sql(table_name, conn, if_exists='replace', index=False)\n",
    "\n",
    "# Initialize an empty list to hold Document objects\n",
    "docs = []\n",
    "\n",
    "# Iterate over each row in the DataFrame to process columns for embedding and metadata\n",
    "for _, row in data.iterrows():\n",
    "    # Extract metadata from specified columns\n",
    "    to_metadata = {col: row[col] for col in columns_to_metadata if col in row}\n",
    "    # Prepare text for embedding from specified columns\n",
    "    values_to_embed = {k: str(row[k]) for k in columns_to_embed if k in row}\n",
    "    to_embed = \"\\n\".join(f\"{k.strip()}: {v.strip()}\" for k, v in values_to_embed.items())\n",
    "    # Create a new Document object with text and metadata\n",
    "    newDoc = Document(text=to_embed, metadata=to_metadata)\n",
    "    docs.append(newDoc)\n",
    "\n",
    "# Combine text from all documents into a single Document object\n",
    "document = Document(text=\"\\n\\n\".join([doc.text for doc in docs]))\n",
    "\n",
    "# Return the database connection, engine, DataFrame, and the combined document\n"
   ],
   "metadata": {
    "collapsed": false,
    "ExecuteTime": {
     "end_time": "2024-02-18T23:45:18.318788Z",
     "start_time": "2024-02-18T23:45:18.038613Z"
    }
   },
   "id": "b21b343f39d327bd",
   "execution_count": 4
  },
  {
   "cell_type": "code",
   "outputs": [],
   "source": [
    "db = chromadb.PersistentClient(path=chromadbpath)\n",
    "chroma_collection = db.get_or_create_collection(\"WorkOrder\")\n",
    "vector_store = ChromaVectorStore(chroma_collection=chroma_collection)\n",
    "storage_context = StorageContext.from_defaults(vector_store=vector_store)\n",
    "\n",
    "index = VectorStoreIndex.from_documents(\n",
    "    [document], storage_context=storage_context, embed_model=embed_model\n",
    ")\n",
    "\n",
    "# load from chroma\n",
    "work_order_index = VectorStoreIndex.from_vector_store(\n",
    "    vector_store,\n",
    "    embed_model=embed_model,\n",
    ")"
   ],
   "metadata": {
    "collapsed": false,
    "ExecuteTime": {
     "end_time": "2024-02-18T23:48:20.450613Z",
     "start_time": "2024-02-18T23:48:12.441334Z"
    }
   },
   "id": "96b88503b9a93a30",
   "execution_count": 8
  },
  {
   "cell_type": "code",
   "outputs": [],
   "source": [
    "from llama_index.core import SimpleDirectoryReader\n",
    "\n",
    "new_wo_path = \"/Users/hamidadesokan/Dropbox/2_Skill_Development/DLML/genai_applications/embeddings/RAG/WO_notebooks/data/WO/\"\n",
    "documents = SimpleDirectoryReader(new_wo_path).load_data()"
   ],
   "metadata": {
    "collapsed": false,
    "ExecuteTime": {
     "end_time": "2024-02-18T23:30:48.307802Z",
     "start_time": "2024-02-18T23:30:48.210320Z"
    }
   },
   "id": "c4be7cb13222772e",
   "execution_count": 29
  },
  {
   "cell_type": "code",
   "outputs": [],
   "source": [
    "\n",
    "# chroma_client = chromadb.EphemeralClient()\n",
    "# chroma_collection = chroma_client.create_collection(\"WorkOrder\")\n",
    "# set up ChromaVectorStore and load in data\n",
    "# vector_store = ChromaVectorStore(chroma_collection=chroma_collection)\n",
    "# storage_context = StorageContext.from_defaults(vector_store=vector_store)\n",
    "# work_order_index = VectorStoreIndex.from_documents(\n",
    "#     [document], storage_context=storage_context, embed_model=embed_model)\n",
    "\n",
    "\n",
    "\n",
    "# \n",
    "# vector_store = MilvusVectorStore(dim=1536, overwrite=True, collection_name=\"work_order_table\")\n",
    "# storage_context = StorageContext.from_defaults(vector_store=vector_store)\n",
    "# work_order_index = VectorStoreIndex.from_documents(\n",
    "#     documents, storage_context=storage_context\n",
    "# )\n"
   ],
   "metadata": {
    "collapsed": false,
    "ExecuteTime": {
     "end_time": "2024-02-18T23:39:46.158580Z",
     "start_time": "2024-02-18T23:39:37.182118Z"
    }
   },
   "id": "e469cf3d24a90334",
   "execution_count": 41
  },
  {
   "cell_type": "code",
   "outputs": [],
   "source": [
    "conn, engine, data, document = load_data_to_sql_db(wo_data_path, dbpath, table_name,\n",
    "                                                   columns_to_embed, columns_to_metadata)\n",
    "_, sql_database = text_to_query_engine(model_name, embedding_model_name, table_name, engine)\n",
    "\n",
    "query_router_engine = setup_query_engines(sql_database, work_order_index, table_name)"
   ],
   "metadata": {
    "collapsed": false,
    "ExecuteTime": {
     "end_time": "2024-02-18T23:49:34.872513Z",
     "start_time": "2024-02-18T23:49:31.733160Z"
    }
   },
   "id": "b08376289ad35dc7",
   "execution_count": 10
  },
  {
   "cell_type": "code",
   "outputs": [
    {
     "name": "stdout",
     "output_type": "stream",
     "text": [
      "The work order that resulted from the issue of the BUCKET WON'T OPEN cost $183.05.\n"
     ]
    }
   ],
   "source": [
    "query_string = \"\"\"\n",
    "How much did the work order \n",
    " that result from BUCKET WON'T OPEN cost?\"\"\"\n",
    "response = get_retry_guideline_response(\n",
    "    query_router_engine, query_string, guideline=False)\n",
    "print(response)"
   ],
   "metadata": {
    "collapsed": false,
    "ExecuteTime": {
     "end_time": "2024-02-18T23:49:40.810490Z",
     "start_time": "2024-02-18T23:49:37.055223Z"
    }
   },
   "id": "d2524a16734b03cc",
   "execution_count": 11
  },
  {
   "cell_type": "code",
   "outputs": [
    {
     "name": "stdout",
     "output_type": "stream",
     "text": [
      "The provided context information does not contain any details or references to work orders or expenses incurred in 2004.\n"
     ]
    }
   ],
   "source": [
    "query_string = \"How much in total did we spend on work order in 2004?\"\n",
    "response = get_retry_guideline_response(\n",
    "    query_router_engine, query_string, guideline=False)\n",
    "print(response)"
   ],
   "metadata": {
    "collapsed": false,
    "ExecuteTime": {
     "end_time": "2024-02-18T23:51:53.526471Z",
     "start_time": "2024-02-18T23:51:44.362374Z"
    }
   },
   "id": "861cd02b9b7a24b6",
   "execution_count": 15
  },
  {
   "cell_type": "code",
   "outputs": [
    {
     "data": {
      "text/plain": "465522.38"
     },
     "execution_count": 14,
     "metadata": {},
     "output_type": "execute_result"
    }
   ],
   "source": [
    "data.loc[data.BscStartDate.str.startswith(\"2004\")].Cost.sum()"
   ],
   "metadata": {
    "collapsed": false,
    "ExecuteTime": {
     "end_time": "2024-02-18T23:51:39.010757Z",
     "start_time": "2024-02-18T23:51:39.003570Z"
    }
   },
   "id": "f4273f64344f2479",
   "execution_count": 14
  }
 ],
 "metadata": {
  "kernelspec": {
   "display_name": "Python 3",
   "language": "python",
   "name": "python3"
  },
  "language_info": {
   "codemirror_mode": {
    "name": "ipython",
    "version": 2
   },
   "file_extension": ".py",
   "mimetype": "text/x-python",
   "name": "python",
   "nbconvert_exporter": "python",
   "pygments_lexer": "ipython2",
   "version": "2.7.6"
  }
 },
 "nbformat": 4,
 "nbformat_minor": 5
}
