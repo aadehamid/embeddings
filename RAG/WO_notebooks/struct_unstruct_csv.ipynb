{
 "cells": [
  {
   "cell_type": "code",
   "execution_count": 1,
   "metadata": {},
   "outputs": [],
   "source": [
    "from dotenv import load_dotenv, find_dotenv\n",
    "import os\n",
    "load_dotenv(find_dotenv())\n",
    "import openai\n",
    "openai.openai_key = os.getenv(\"OPEN_AI_KEY\")\n",
    "import pandas as pd\n",
    "import numpy as np\n",
    "from langchain.docstore.document import Document\n",
    "from langchain.text_splitter import CharacterTextSplitter\n",
    "# from langchain.embeddings import OpenAIEmbeddings\n",
    "from langchain_openai import OpenAIEmbeddings\n",
    "from langchain.vectorstores import Chroma\n",
    "import csv\n",
    "from icecream import ic\n",
    "from rich import print as rprint"
   ]
  },
  {
   "cell_type": "code",
   "execution_count": 2,
   "metadata": {},
   "outputs": [],
   "source": [
    "# Define the column we want to embed vs which ones we want to store as metadat\n",
    "columns_to_embed = [\"Description\", \"Features\"]\n",
    "columns_to_metadata = [\"Product Name\", \"Price\", \"Rating\", \"Description\", \"Features\"]"
   ]
  },
  {
   "cell_type": "code",
   "execution_count": 3,
   "metadata": {},
   "outputs": [
    {
     "data": {
      "text/html": [
       "<div>\n",
       "<style scoped>\n",
       "    .dataframe tbody tr th:only-of-type {\n",
       "        vertical-align: middle;\n",
       "    }\n",
       "\n",
       "    .dataframe tbody tr th {\n",
       "        vertical-align: top;\n",
       "    }\n",
       "\n",
       "    .dataframe thead th {\n",
       "        text-align: right;\n",
       "    }\n",
       "</style>\n",
       "<table border=\"1\" class=\"dataframe\">\n",
       "  <thead>\n",
       "    <tr style=\"text-align: right;\">\n",
       "      <th></th>\n",
       "      <th>Product Name</th>\n",
       "      <th>Price</th>\n",
       "      <th>Rating</th>\n",
       "      <th>Description</th>\n",
       "      <th>Features</th>\n",
       "    </tr>\n",
       "  </thead>\n",
       "  <tbody>\n",
       "    <tr>\n",
       "      <th>0</th>\n",
       "      <td>Ultimate Wireless Bluetooth Earbuds</td>\n",
       "      <td>79.99</td>\n",
       "      <td>4.4</td>\n",
       "      <td>Elevate your music experience with our Ultimat...</td>\n",
       "      <td>- High-fidelity sound with deep bass and clear...</td>\n",
       "    </tr>\n",
       "    <tr>\n",
       "      <th>1</th>\n",
       "      <td>SmartHome Security Camera System</td>\n",
       "      <td>199.99</td>\n",
       "      <td>4.6</td>\n",
       "      <td>Keep your home safe and secure with our SmartH...</td>\n",
       "      <td>- 1080p HD cameras for crystal-clear video qua...</td>\n",
       "    </tr>\n",
       "  </tbody>\n",
       "</table>\n",
       "</div>"
      ],
      "text/plain": [
       "                          Product Name   Price  Rating  \\\n",
       "0  Ultimate Wireless Bluetooth Earbuds   79.99     4.4   \n",
       "1     SmartHome Security Camera System  199.99     4.6   \n",
       "\n",
       "                                         Description  \\\n",
       "0  Elevate your music experience with our Ultimat...   \n",
       "1  Keep your home safe and secure with our SmartH...   \n",
       "\n",
       "                                            Features  \n",
       "0  - High-fidelity sound with deep bass and clear...  \n",
       "1  - 1080p HD cameras for crystal-clear video qua...  "
      ]
     },
     "execution_count": 3,
     "metadata": {},
     "output_type": "execute_result"
    }
   ],
   "source": [
    "filepath = \"/teamspace/studios/Data_Studio/product_listing/product_listing.csv\"\n",
    "data = pd.read_csv(filepath)\n",
    "data.head(2)"
   ]
  },
  {
   "cell_type": "code",
   "execution_count": 4,
   "metadata": {},
   "outputs": [],
   "source": [
    "docs = []\n",
    "with open(filepath, newline=\"\", encoding='utf-8-sig') as csvfile:\n",
    "    csv_reader = csv.DictReader(csvfile)\n",
    "    # ic(csv_reader)\n",
    "    for i, row in enumerate(csv_reader):\n",
    "        to_metadata = {col: row[col] for col in columns_to_metadata if col in row} \n",
    "        # ic(to_metadata)\n",
    "        values_to_embed = {k: row[k] for k in columns_to_embed if k in row}\n",
    "        # ic(values_to_embed)\n",
    "        to_embed = '\\n'.join(f\"{k.strip()}: {v.strip()}\" for k, v in values_to_embed.items())\n",
    "        # ic(to_embed)\n",
    "        newDoc = Document(page_content = to_embed, metadata = to_metadata)\n",
    "        docs.append(newDoc)"
   ]
  },
  {
   "cell_type": "code",
   "execution_count": 5,
   "metadata": {},
   "outputs": [],
   "source": [
    "# Split the document using Character splitting\n",
    "splitter = CharacterTextSplitter(separator=\"\\n\", chunk_size = 500, chunk_overlap = 0, length_function = len)\n",
    "documents = splitter.split_documents(docs)"
   ]
  },
  {
   "attachments": {},
   "cell_type": "markdown",
   "metadata": {},
   "source": [
    "Now that we have the chunks, we will generate the embeddings and insert the values into Chroma. Each vector inserted will have both the vector representation that will be used for similarity search as well as the metadata values we added."
   ]
  },
  {
   "cell_type": "code",
   "execution_count": 10,
   "metadata": {},
   "outputs": [],
   "source": [
    "# Generate embeddings from documents and store in Chroma\n",
    "embeddings_model = OpenAIEmbeddings()\n",
    "db = Chroma.from_documents(documents, OpenAIEmbeddings())"
   ]
  },
  {
   "cell_type": "code",
   "execution_count": 17,
   "metadata": {},
   "outputs": [
    {
     "data": {
      "text/html": [
       "<pre style=\"white-space:pre;overflow-x:auto;line-height:normal;font-family:Menlo,'DejaVu Sans Mono',consolas,'Courier New',monospace\">Description: Achieve your fitness goals with our Fitness Tracker Smartwatch. Monitor your activity, heart rate, and\n",
       "receive notifications on your wrist.\n",
       "Features: - Heart rate monitor and activity tracking.<span style=\"font-weight: bold\">&lt;</span><span style=\"color: #ff00ff; text-decoration-color: #ff00ff; font-weight: bold\">br</span><span style=\"color: #000000; text-decoration-color: #000000\">&gt; - Built-in GPS for accurate workout tracking.&lt;br&gt; - Sleep</span>\n",
       "<span style=\"color: #000000; text-decoration-color: #000000\">analysis and guided breathing exercises.&lt;br&gt; - Receive notifications from your smartphone.&lt;br&gt; - Water-resistant </span>\n",
       "<span style=\"color: #000000; text-decoration-color: #000000\">for workouts and everyday use.&lt;br</span><span style=\"font-weight: bold\">&gt;</span> - Long battery life.\n",
       "</pre>\n"
      ],
      "text/plain": [
       "Description: Achieve your fitness goals with our Fitness Tracker Smartwatch. Monitor your activity, heart rate, and\n",
       "receive notifications on your wrist.\n",
       "Features: - Heart rate monitor and activity tracking.\u001b[1m<\u001b[0m\u001b[1;95mbr\u001b[0m\u001b[39m> - Built-in GPS for accurate workout tracking.<br> - Sleep\u001b[0m\n",
       "\u001b[39manalysis and guided breathing exercises.<br> - Receive notifications from your smartphone.<br> - Water-resistant \u001b[0m\n",
       "\u001b[39mfor workouts and everyday use.<br\u001b[0m\u001b[1m>\u001b[0m - Long battery life.\n"
      ]
     },
     "metadata": {},
     "output_type": "display_data"
    },
    {
     "data": {
      "text/html": [
       "<pre style=\"white-space:pre;overflow-x:auto;line-height:normal;font-family:Menlo,'DejaVu Sans Mono',consolas,'Courier New',monospace\"><span style=\"font-weight: bold\">{</span>\n",
       "    <span style=\"color: #008000; text-decoration-color: #008000\">'Description'</span>: <span style=\"color: #008000; text-decoration-color: #008000\">'Achieve your fitness goals with our Fitness Tracker Smartwatch. Monitor your activity, heart </span>\n",
       "<span style=\"color: #008000; text-decoration-color: #008000\">rate, and receive notifications on your wrist.'</span>,\n",
       "    <span style=\"color: #008000; text-decoration-color: #008000\">'Features'</span>: <span style=\"color: #008000; text-decoration-color: #008000\">'- Heart rate monitor and activity tracking.&lt;br&gt; - Built-in GPS for accurate workout tracking.&lt;br&gt; </span>\n",
       "<span style=\"color: #008000; text-decoration-color: #008000\">- Sleep analysis and guided breathing exercises.&lt;br&gt; - Receive notifications from your smartphone.&lt;br&gt; - </span>\n",
       "<span style=\"color: #008000; text-decoration-color: #008000\">Water-resistant for workouts and everyday use.&lt;br&gt; - Long battery life.'</span>,\n",
       "    <span style=\"color: #008000; text-decoration-color: #008000\">'Price'</span>: <span style=\"color: #008000; text-decoration-color: #008000\">'149.99'</span>,\n",
       "    <span style=\"color: #008000; text-decoration-color: #008000\">'Product Name'</span>: <span style=\"color: #008000; text-decoration-color: #008000\">'Fitness Tracker Smartwatch'</span>,\n",
       "    <span style=\"color: #008000; text-decoration-color: #008000\">'Rating'</span>: <span style=\"color: #008000; text-decoration-color: #008000\">'4.5'</span>\n",
       "<span style=\"font-weight: bold\">}</span>\n",
       "</pre>\n"
      ],
      "text/plain": [
       "\u001b[1m{\u001b[0m\n",
       "    \u001b[32m'Description'\u001b[0m: \u001b[32m'Achieve your fitness goals with our Fitness Tracker Smartwatch. Monitor your activity, heart \u001b[0m\n",
       "\u001b[32mrate, and receive notifications on your wrist.'\u001b[0m,\n",
       "    \u001b[32m'Features'\u001b[0m: \u001b[32m'- Heart rate monitor and activity tracking.\u001b[0m\u001b[32m<\u001b[0m\u001b[32mbr\u001b[0m\u001b[32m> - Built-in GPS for accurate workout tracking.<br> \u001b[0m\n",
       "\u001b[32m- Sleep analysis and guided breathing exercises.<br> - Receive notifications from your smartphone.<br> - \u001b[0m\n",
       "\u001b[32mWater-resistant for workouts and everyday use.<br\u001b[0m\u001b[32m>\u001b[0m\u001b[32m - Long battery life.'\u001b[0m,\n",
       "    \u001b[32m'Price'\u001b[0m: \u001b[32m'149.99'\u001b[0m,\n",
       "    \u001b[32m'Product Name'\u001b[0m: \u001b[32m'Fitness Tracker Smartwatch'\u001b[0m,\n",
       "    \u001b[32m'Rating'\u001b[0m: \u001b[32m'4.5'\u001b[0m\n",
       "\u001b[1m}\u001b[0m\n"
      ]
     },
     "metadata": {},
     "output_type": "display_data"
    }
   ],
   "source": [
    "# Query the vector DB for information\n",
    "query = \"Heart rate monitor\"\n",
    "docs = db.similarity_search(query)\n",
    "rprint(docs[0].page_content)\n",
    "rprint(docs[0].metadata)"
   ]
  },
  {
   "attachments": {},
   "cell_type": "markdown",
   "metadata": {},
   "source": [
    "# Advanced Querying\n",
    "To really take advantage of that metadata we generated, we can go beyond and leverage the Langchain SelfQueryRetriever. We can define a schema for the metadata easily and have it been used to generated filters using LLMs.\n",
    "\n"
   ]
  },
  {
   "cell_type": "code",
   "execution_count": 12,
   "metadata": {},
   "outputs": [],
   "source": [
    "from langchain.llms import OpenAI\n",
    "from langchain.retrievers.self_query.base import SelfQueryRetriever\n",
    "from langchain.chains.query_constructor.base import AttributeInfo"
   ]
  },
  {
   "cell_type": "code",
   "execution_count": 16,
   "metadata": {},
   "outputs": [
    {
     "data": {
      "text/html": [
       "<pre style=\"white-space:pre;overflow-x:auto;line-height:normal;font-family:Menlo,'DejaVu Sans Mono',consolas,'Courier New',monospace\"><span style=\"font-weight: bold\">[</span>\n",
       "    <span style=\"color: #800080; text-decoration-color: #800080; font-weight: bold\">Document</span><span style=\"font-weight: bold\">(</span>\n",
       "        <span style=\"color: #808000; text-decoration-color: #808000\">page_content</span>=<span style=\"color: #008000; text-decoration-color: #008000\">'Description: Achieve your fitness goals with our Fitness Tracker Smartwatch. Monitor your </span>\n",
       "<span style=\"color: #008000; text-decoration-color: #008000\">activity, heart rate, and receive notifications on your wrist.\\nFeatures: - Heart rate monitor and activity </span>\n",
       "<span style=\"color: #008000; text-decoration-color: #008000\">tracking.&lt;br&gt; - Built-in GPS for accurate workout tracking.&lt;br&gt; - Sleep analysis and guided breathing </span>\n",
       "<span style=\"color: #008000; text-decoration-color: #008000\">exercises.&lt;br&gt; - Receive notifications from your smartphone.&lt;br&gt; - Water-resistant for workouts and everyday </span>\n",
       "<span style=\"color: #008000; text-decoration-color: #008000\">use.&lt;br&gt; - Long battery life.'</span><span style=\"color: #000000; text-decoration-color: #000000\">,</span>\n",
       "<span style=\"color: #000000; text-decoration-color: #000000\">        </span><span style=\"color: #808000; text-decoration-color: #808000\">metadata</span><span style=\"color: #000000; text-decoration-color: #000000\">=</span><span style=\"color: #000000; text-decoration-color: #000000; font-weight: bold\">{</span>\n",
       "<span style=\"color: #000000; text-decoration-color: #000000\">            </span><span style=\"color: #008000; text-decoration-color: #008000\">'Description'</span><span style=\"color: #000000; text-decoration-color: #000000\">: </span><span style=\"color: #008000; text-decoration-color: #008000\">'Achieve your fitness goals with our Fitness Tracker Smartwatch. Monitor your activity, </span>\n",
       "<span style=\"color: #008000; text-decoration-color: #008000\">heart rate, and receive notifications on your wrist.'</span><span style=\"color: #000000; text-decoration-color: #000000\">,</span>\n",
       "<span style=\"color: #000000; text-decoration-color: #000000\">            </span><span style=\"color: #008000; text-decoration-color: #008000\">'Features'</span><span style=\"color: #000000; text-decoration-color: #000000\">: </span><span style=\"color: #008000; text-decoration-color: #008000\">'- Heart rate monitor and activity tracking.&lt;br&gt; - Built-in GPS for accurate workout </span>\n",
       "<span style=\"color: #008000; text-decoration-color: #008000\">tracking.&lt;br&gt; - Sleep analysis and guided breathing exercises.&lt;br&gt; - Receive notifications from your </span>\n",
       "<span style=\"color: #008000; text-decoration-color: #008000\">smartphone.&lt;br&gt; - Water-resistant for workouts and everyday use.&lt;br&gt; - Long battery life.'</span><span style=\"color: #000000; text-decoration-color: #000000\">,</span>\n",
       "<span style=\"color: #000000; text-decoration-color: #000000\">            </span><span style=\"color: #008000; text-decoration-color: #008000\">'Price'</span><span style=\"color: #000000; text-decoration-color: #000000\">: </span><span style=\"color: #008000; text-decoration-color: #008000\">'149.99'</span><span style=\"color: #000000; text-decoration-color: #000000\">,</span>\n",
       "<span style=\"color: #000000; text-decoration-color: #000000\">            </span><span style=\"color: #008000; text-decoration-color: #008000\">'Product Name'</span><span style=\"color: #000000; text-decoration-color: #000000\">: </span><span style=\"color: #008000; text-decoration-color: #008000\">'Fitness Tracker Smartwatch'</span><span style=\"color: #000000; text-decoration-color: #000000\">,</span>\n",
       "<span style=\"color: #000000; text-decoration-color: #000000\">            </span><span style=\"color: #008000; text-decoration-color: #008000\">'Rating'</span><span style=\"color: #000000; text-decoration-color: #000000\">: </span><span style=\"color: #008000; text-decoration-color: #008000\">'4.5'</span>\n",
       "<span style=\"color: #000000; text-decoration-color: #000000\">        </span><span style=\"color: #000000; text-decoration-color: #000000; font-weight: bold\">}</span>\n",
       "<span style=\"color: #000000; text-decoration-color: #000000\">    </span><span style=\"color: #000000; text-decoration-color: #000000; font-weight: bold\">)</span><span style=\"color: #000000; text-decoration-color: #000000\">,</span>\n",
       "<span style=\"color: #000000; text-decoration-color: #000000\">    </span><span style=\"color: #800080; text-decoration-color: #800080; font-weight: bold\">Document</span><span style=\"color: #000000; text-decoration-color: #000000; font-weight: bold\">(</span>\n",
       "<span style=\"color: #000000; text-decoration-color: #000000\">        </span><span style=\"color: #808000; text-decoration-color: #808000\">page_content</span><span style=\"color: #000000; text-decoration-color: #000000\">=</span><span style=\"color: #008000; text-decoration-color: #008000\">'Features: - High-fidelity sound with deep bass and clear treble. - Noise-canceling technology</span>\n",
       "<span style=\"color: #008000; text-decoration-color: #008000\">for an immersive listening experience. - 20 hours of playtime on a single charge. - Ergonomic design for a secure </span>\n",
       "<span style=\"color: #008000; text-decoration-color: #008000\">and comfortable fit. - Touch controls for easy playback and calls. - IPX7 waterproof rating for workouts and </span>\n",
       "<span style=\"color: #008000; text-decoration-color: #008000\">outdoor activities. - Built-in microphone for hands-free calls.'</span><span style=\"color: #000000; text-decoration-color: #000000\">,</span>\n",
       "<span style=\"color: #000000; text-decoration-color: #000000\">        </span><span style=\"color: #808000; text-decoration-color: #808000\">metadata</span><span style=\"color: #000000; text-decoration-color: #000000\">=</span><span style=\"color: #000000; text-decoration-color: #000000; font-weight: bold\">{</span>\n",
       "<span style=\"color: #000000; text-decoration-color: #000000\">            </span><span style=\"color: #008000; text-decoration-color: #008000\">'Description'</span><span style=\"color: #000000; text-decoration-color: #000000\">: </span><span style=\"color: #008000; text-decoration-color: #008000\">\"Elevate your music experience with our Ultimate Wireless Bluetooth Earbuds. These </span>\n",
       "<span style=\"color: #008000; text-decoration-color: #008000\">earbuds are designed for audiophiles who demand premium sound quality and convenience. With advanced Bluetooth 5.0 </span>\n",
       "<span style=\"color: #008000; text-decoration-color: #008000\">technology, you'll enjoy seamless connectivity and crystal-clear audio.\"</span><span style=\"color: #000000; text-decoration-color: #000000\">,</span>\n",
       "<span style=\"color: #000000; text-decoration-color: #000000\">            </span><span style=\"color: #008000; text-decoration-color: #008000\">'Features'</span><span style=\"color: #000000; text-decoration-color: #000000\">: </span><span style=\"color: #008000; text-decoration-color: #008000\">'- High-fidelity sound with deep bass and clear treble. - Noise-canceling technology for an</span>\n",
       "<span style=\"color: #008000; text-decoration-color: #008000\">immersive listening experience. - 20 hours of playtime on a single charge. - Ergonomic design for a secure and </span>\n",
       "<span style=\"color: #008000; text-decoration-color: #008000\">comfortable fit. - Touch controls for easy playback and calls. - IPX7 waterproof rating for workouts and outdoor </span>\n",
       "<span style=\"color: #008000; text-decoration-color: #008000\">activities. - Built-in microphone for hands-free calls.'</span><span style=\"color: #000000; text-decoration-color: #000000\">,</span>\n",
       "<span style=\"color: #000000; text-decoration-color: #000000\">            </span><span style=\"color: #008000; text-decoration-color: #008000\">'Price'</span><span style=\"color: #000000; text-decoration-color: #000000\">: </span><span style=\"color: #008000; text-decoration-color: #008000\">'79.99'</span><span style=\"color: #000000; text-decoration-color: #000000\">,</span>\n",
       "<span style=\"color: #000000; text-decoration-color: #000000\">            </span><span style=\"color: #008000; text-decoration-color: #008000\">'Product Name'</span><span style=\"color: #000000; text-decoration-color: #000000\">: </span><span style=\"color: #008000; text-decoration-color: #008000\">'Ultimate Wireless Bluetooth Earbuds'</span><span style=\"color: #000000; text-decoration-color: #000000\">,</span>\n",
       "<span style=\"color: #000000; text-decoration-color: #000000\">            </span><span style=\"color: #008000; text-decoration-color: #008000\">'Rating'</span><span style=\"color: #000000; text-decoration-color: #000000\">: </span><span style=\"color: #008000; text-decoration-color: #008000\">'4.4'</span>\n",
       "<span style=\"color: #000000; text-decoration-color: #000000\">        </span><span style=\"color: #000000; text-decoration-color: #000000; font-weight: bold\">}</span>\n",
       "<span style=\"color: #000000; text-decoration-color: #000000\">    </span><span style=\"color: #000000; text-decoration-color: #000000; font-weight: bold\">)</span><span style=\"color: #000000; text-decoration-color: #000000\">,</span>\n",
       "<span style=\"color: #000000; text-decoration-color: #000000\">    </span><span style=\"color: #800080; text-decoration-color: #800080; font-weight: bold\">Document</span><span style=\"color: #000000; text-decoration-color: #000000; font-weight: bold\">(</span>\n",
       "<span style=\"color: #000000; text-decoration-color: #000000\">        </span><span style=\"color: #808000; text-decoration-color: #808000\">page_content</span><span style=\"color: #000000; text-decoration-color: #000000\">=</span><span style=\"color: #008000; text-decoration-color: #008000\">'Features: - 1080p HD cameras for crystal-clear video quality. - Night vision technology for </span>\n",
       "<span style=\"color: #008000; text-decoration-color: #008000\">24/7 surveillance. - Motion detection with customizable alert zones. - Two-way audio for communication with </span>\n",
       "<span style=\"color: #008000; text-decoration-color: #008000\">visitors. - Smartphone app for remote monitoring and control. - Expandable system with additional cameras and </span>\n",
       "<span style=\"color: #008000; text-decoration-color: #008000\">storage options. - Cloud storage and local backup for video footage. - Easy DIY installation with mounting hardware</span>\n",
       "<span style=\"color: #008000; text-decoration-color: #008000\">included.'</span><span style=\"color: #000000; text-decoration-color: #000000\">,</span>\n",
       "<span style=\"color: #000000; text-decoration-color: #000000\">        </span><span style=\"color: #808000; text-decoration-color: #808000\">metadata</span><span style=\"color: #000000; text-decoration-color: #000000\">=</span><span style=\"color: #000000; text-decoration-color: #000000; font-weight: bold\">{</span>\n",
       "<span style=\"color: #000000; text-decoration-color: #000000\">            </span><span style=\"color: #008000; text-decoration-color: #008000\">'Description'</span><span style=\"color: #000000; text-decoration-color: #000000\">: </span><span style=\"color: #008000; text-decoration-color: #008000\">\"Keep your home safe and secure with our SmartHome Security Camera System. This </span>\n",
       "<span style=\"color: #008000; text-decoration-color: #008000\">comprehensive package includes everything you need to monitor your property, inside and out. Whether you're at home</span>\n",
       "<span style=\"color: #008000; text-decoration-color: #008000\">or on the go, you can access live video feeds and receive instant alerts on your smartphone.\"</span><span style=\"color: #000000; text-decoration-color: #000000\">,</span>\n",
       "<span style=\"color: #000000; text-decoration-color: #000000\">            </span><span style=\"color: #008000; text-decoration-color: #008000\">'Features'</span><span style=\"color: #000000; text-decoration-color: #000000\">: </span><span style=\"color: #008000; text-decoration-color: #008000\">'- 1080p HD cameras for crystal-clear video quality. - Night vision technology for 24/7 </span>\n",
       "<span style=\"color: #008000; text-decoration-color: #008000\">surveillance. - Motion detection with customizable alert zones. - Two-way audio for communication with visitors. - </span>\n",
       "<span style=\"color: #008000; text-decoration-color: #008000\">Smartphone app for remote monitoring and control. - Expandable system with additional cameras and storage options. </span>\n",
       "<span style=\"color: #008000; text-decoration-color: #008000\">- Cloud storage and local backup for video footage. - Easy DIY installation with mounting hardware included.'</span><span style=\"color: #000000; text-decoration-color: #000000\">,</span>\n",
       "<span style=\"color: #000000; text-decoration-color: #000000\">            </span><span style=\"color: #008000; text-decoration-color: #008000\">'Price'</span><span style=\"color: #000000; text-decoration-color: #000000\">: </span><span style=\"color: #008000; text-decoration-color: #008000\">'199.99'</span><span style=\"color: #000000; text-decoration-color: #000000\">,</span>\n",
       "<span style=\"color: #000000; text-decoration-color: #000000\">            </span><span style=\"color: #008000; text-decoration-color: #008000\">'Product Name'</span><span style=\"color: #000000; text-decoration-color: #000000\">: </span><span style=\"color: #008000; text-decoration-color: #008000\">'SmartHome Security Camera System'</span><span style=\"color: #000000; text-decoration-color: #000000\">,</span>\n",
       "<span style=\"color: #000000; text-decoration-color: #000000\">            </span><span style=\"color: #008000; text-decoration-color: #008000\">'Rating'</span><span style=\"color: #000000; text-decoration-color: #000000\">: </span><span style=\"color: #008000; text-decoration-color: #008000\">'4.6'</span>\n",
       "<span style=\"color: #000000; text-decoration-color: #000000\">        </span><span style=\"color: #000000; text-decoration-color: #000000; font-weight: bold\">}</span>\n",
       "<span style=\"color: #000000; text-decoration-color: #000000\">    </span><span style=\"color: #000000; text-decoration-color: #000000; font-weight: bold\">)</span><span style=\"color: #000000; text-decoration-color: #000000\">,</span>\n",
       "<span style=\"color: #000000; text-decoration-color: #000000\">    </span><span style=\"color: #800080; text-decoration-color: #800080; font-weight: bold\">Document</span><span style=\"color: #000000; text-decoration-color: #000000; font-weight: bold\">(</span>\n",
       "<span style=\"color: #000000; text-decoration-color: #000000\">        </span><span style=\"color: #808000; text-decoration-color: #808000\">page_content</span><span style=\"color: #000000; text-decoration-color: #000000\">=</span><span style=\"color: #008000; text-decoration-color: #008000\">'Description: Immerse yourself in virtual worlds with our Virtual Reality Headset. Experience </span>\n",
       "<span style=\"color: #008000; text-decoration-color: #008000\">gaming, entertainment, and exploration like never before.\\nFeatures: - High-resolution display for immersive </span>\n",
       "<span style=\"color: #008000; text-decoration-color: #008000\">visuals.&lt;br&gt; - Wide field of view for a realistic experience.&lt;br&gt; - Adjustable head strap and comfortable </span>\n",
       "<span style=\"color: #008000; text-decoration-color: #008000\">padding.&lt;br&gt; - Compatible with a range of VR content.&lt;br&gt; - Integrated audio for spatial sound.&lt;br&gt; - Included </span>\n",
       "<span style=\"color: #008000; text-decoration-color: #008000\">motion controllers for interactive experiences.'</span><span style=\"color: #000000; text-decoration-color: #000000\">,</span>\n",
       "<span style=\"color: #000000; text-decoration-color: #000000\">        </span><span style=\"color: #808000; text-decoration-color: #808000\">metadata</span><span style=\"color: #000000; text-decoration-color: #000000\">=</span><span style=\"color: #000000; text-decoration-color: #000000; font-weight: bold\">{</span>\n",
       "<span style=\"color: #000000; text-decoration-color: #000000\">            </span><span style=\"color: #008000; text-decoration-color: #008000\">'Description'</span><span style=\"color: #000000; text-decoration-color: #000000\">: </span><span style=\"color: #008000; text-decoration-color: #008000\">'Immerse yourself in virtual worlds with our Virtual Reality Headset. Experience gaming,</span>\n",
       "<span style=\"color: #008000; text-decoration-color: #008000\">entertainment, and exploration like never before.'</span><span style=\"color: #000000; text-decoration-color: #000000\">,</span>\n",
       "<span style=\"color: #000000; text-decoration-color: #000000\">            </span><span style=\"color: #008000; text-decoration-color: #008000\">'Features'</span><span style=\"color: #000000; text-decoration-color: #000000\">: </span><span style=\"color: #008000; text-decoration-color: #008000\">'- High-resolution display for immersive visuals.&lt;br&gt; - Wide field of view for a realistic </span>\n",
       "<span style=\"color: #008000; text-decoration-color: #008000\">experience.&lt;br&gt; - Adjustable head strap and comfortable padding.&lt;br&gt; - Compatible with a range of VR content.&lt;br&gt; -</span>\n",
       "<span style=\"color: #008000; text-decoration-color: #008000\">Integrated audio for spatial sound.&lt;br&gt; - Included motion controllers for interactive experiences.'</span>,\n",
       "            <span style=\"color: #008000; text-decoration-color: #008000\">'Price'</span>: <span style=\"color: #008000; text-decoration-color: #008000\">'249.99'</span>,\n",
       "            <span style=\"color: #008000; text-decoration-color: #008000\">'Product Name'</span>: <span style=\"color: #008000; text-decoration-color: #008000\">'Virtual Reality Headset'</span>,\n",
       "            <span style=\"color: #008000; text-decoration-color: #008000\">'Rating'</span>: <span style=\"color: #008000; text-decoration-color: #008000\">'4.2'</span>\n",
       "        <span style=\"font-weight: bold\">}</span>\n",
       "    <span style=\"font-weight: bold\">)</span>\n",
       "<span style=\"font-weight: bold\">]</span>\n",
       "</pre>\n"
      ],
      "text/plain": [
       "\u001b[1m[\u001b[0m\n",
       "    \u001b[1;35mDocument\u001b[0m\u001b[1m(\u001b[0m\n",
       "        \u001b[33mpage_content\u001b[0m=\u001b[32m'Description: Achieve your fitness goals with our Fitness Tracker Smartwatch. Monitor your \u001b[0m\n",
       "\u001b[32mactivity, heart rate, and receive notifications on your wrist.\\nFeatures: - Heart rate monitor and activity \u001b[0m\n",
       "\u001b[32mtracking.\u001b[0m\u001b[32m<\u001b[0m\u001b[32mbr\u001b[0m\u001b[32m> - Built-in GPS for accurate workout tracking.<br> - Sleep analysis and guided breathing \u001b[0m\n",
       "\u001b[32mexercises.<br> - Receive notifications from your smartphone.<br> - Water-resistant for workouts and everyday \u001b[0m\n",
       "\u001b[32muse.<br> - Long battery life.'\u001b[0m\u001b[39m,\u001b[0m\n",
       "\u001b[39m        \u001b[0m\u001b[33mmetadata\u001b[0m\u001b[39m=\u001b[0m\u001b[1;39m{\u001b[0m\n",
       "\u001b[39m            \u001b[0m\u001b[32m'Description'\u001b[0m\u001b[39m: \u001b[0m\u001b[32m'Achieve your fitness goals with our Fitness Tracker Smartwatch. Monitor your activity, \u001b[0m\n",
       "\u001b[32mheart rate, and receive notifications on your wrist.'\u001b[0m\u001b[39m,\u001b[0m\n",
       "\u001b[39m            \u001b[0m\u001b[32m'Features'\u001b[0m\u001b[39m: \u001b[0m\u001b[32m'- Heart rate monitor and activity tracking.<br> - Built-in GPS for accurate workout \u001b[0m\n",
       "\u001b[32mtracking.<br> - Sleep analysis and guided breathing exercises.<br> - Receive notifications from your \u001b[0m\n",
       "\u001b[32msmartphone.<br> - Water-resistant for workouts and everyday use.<br> - Long battery life.'\u001b[0m\u001b[39m,\u001b[0m\n",
       "\u001b[39m            \u001b[0m\u001b[32m'Price'\u001b[0m\u001b[39m: \u001b[0m\u001b[32m'149.99'\u001b[0m\u001b[39m,\u001b[0m\n",
       "\u001b[39m            \u001b[0m\u001b[32m'Product Name'\u001b[0m\u001b[39m: \u001b[0m\u001b[32m'Fitness Tracker Smartwatch'\u001b[0m\u001b[39m,\u001b[0m\n",
       "\u001b[39m            \u001b[0m\u001b[32m'Rating'\u001b[0m\u001b[39m: \u001b[0m\u001b[32m'4.5'\u001b[0m\n",
       "\u001b[39m        \u001b[0m\u001b[1;39m}\u001b[0m\n",
       "\u001b[39m    \u001b[0m\u001b[1;39m)\u001b[0m\u001b[39m,\u001b[0m\n",
       "\u001b[39m    \u001b[0m\u001b[1;35mDocument\u001b[0m\u001b[1;39m(\u001b[0m\n",
       "\u001b[39m        \u001b[0m\u001b[33mpage_content\u001b[0m\u001b[39m=\u001b[0m\u001b[32m'Features: - High-fidelity sound with deep bass and clear treble. - Noise-canceling technology\u001b[0m\n",
       "\u001b[32mfor an immersive listening experience. - 20 hours of playtime on a single charge. - Ergonomic design for a secure \u001b[0m\n",
       "\u001b[32mand comfortable fit. - Touch controls for easy playback and calls. - IPX7 waterproof rating for workouts and \u001b[0m\n",
       "\u001b[32moutdoor activities. - Built-in microphone for hands-free calls.'\u001b[0m\u001b[39m,\u001b[0m\n",
       "\u001b[39m        \u001b[0m\u001b[33mmetadata\u001b[0m\u001b[39m=\u001b[0m\u001b[1;39m{\u001b[0m\n",
       "\u001b[39m            \u001b[0m\u001b[32m'Description'\u001b[0m\u001b[39m: \u001b[0m\u001b[32m\"Elevate your music experience with our Ultimate Wireless Bluetooth Earbuds. These \u001b[0m\n",
       "\u001b[32mearbuds are designed for audiophiles who demand premium sound quality and convenience. With advanced Bluetooth 5.0 \u001b[0m\n",
       "\u001b[32mtechnology, you'll enjoy seamless connectivity and crystal-clear audio.\"\u001b[0m\u001b[39m,\u001b[0m\n",
       "\u001b[39m            \u001b[0m\u001b[32m'Features'\u001b[0m\u001b[39m: \u001b[0m\u001b[32m'- High-fidelity sound with deep bass and clear treble. - Noise-canceling technology for an\u001b[0m\n",
       "\u001b[32mimmersive listening experience. - 20 hours of playtime on a single charge. - Ergonomic design for a secure and \u001b[0m\n",
       "\u001b[32mcomfortable fit. - Touch controls for easy playback and calls. - IPX7 waterproof rating for workouts and outdoor \u001b[0m\n",
       "\u001b[32mactivities. - Built-in microphone for hands-free calls.'\u001b[0m\u001b[39m,\u001b[0m\n",
       "\u001b[39m            \u001b[0m\u001b[32m'Price'\u001b[0m\u001b[39m: \u001b[0m\u001b[32m'79.99'\u001b[0m\u001b[39m,\u001b[0m\n",
       "\u001b[39m            \u001b[0m\u001b[32m'Product Name'\u001b[0m\u001b[39m: \u001b[0m\u001b[32m'Ultimate Wireless Bluetooth Earbuds'\u001b[0m\u001b[39m,\u001b[0m\n",
       "\u001b[39m            \u001b[0m\u001b[32m'Rating'\u001b[0m\u001b[39m: \u001b[0m\u001b[32m'4.4'\u001b[0m\n",
       "\u001b[39m        \u001b[0m\u001b[1;39m}\u001b[0m\n",
       "\u001b[39m    \u001b[0m\u001b[1;39m)\u001b[0m\u001b[39m,\u001b[0m\n",
       "\u001b[39m    \u001b[0m\u001b[1;35mDocument\u001b[0m\u001b[1;39m(\u001b[0m\n",
       "\u001b[39m        \u001b[0m\u001b[33mpage_content\u001b[0m\u001b[39m=\u001b[0m\u001b[32m'Features: - 1080p HD cameras for crystal-clear video quality. - Night vision technology for \u001b[0m\n",
       "\u001b[32m24/7 surveillance. - Motion detection with customizable alert zones. - Two-way audio for communication with \u001b[0m\n",
       "\u001b[32mvisitors. - Smartphone app for remote monitoring and control. - Expandable system with additional cameras and \u001b[0m\n",
       "\u001b[32mstorage options. - Cloud storage and local backup for video footage. - Easy DIY installation with mounting hardware\u001b[0m\n",
       "\u001b[32mincluded.'\u001b[0m\u001b[39m,\u001b[0m\n",
       "\u001b[39m        \u001b[0m\u001b[33mmetadata\u001b[0m\u001b[39m=\u001b[0m\u001b[1;39m{\u001b[0m\n",
       "\u001b[39m            \u001b[0m\u001b[32m'Description'\u001b[0m\u001b[39m: \u001b[0m\u001b[32m\"Keep your home safe and secure with our SmartHome Security Camera System. This \u001b[0m\n",
       "\u001b[32mcomprehensive package includes everything you need to monitor your property, inside and out. Whether you're at home\u001b[0m\n",
       "\u001b[32mor on the go, you can access live video feeds and receive instant alerts on your smartphone.\"\u001b[0m\u001b[39m,\u001b[0m\n",
       "\u001b[39m            \u001b[0m\u001b[32m'Features'\u001b[0m\u001b[39m: \u001b[0m\u001b[32m'- 1080p HD cameras for crystal-clear video quality. - Night vision technology for 24/7 \u001b[0m\n",
       "\u001b[32msurveillance. - Motion detection with customizable alert zones. - Two-way audio for communication with visitors. - \u001b[0m\n",
       "\u001b[32mSmartphone app for remote monitoring and control. - Expandable system with additional cameras and storage options. \u001b[0m\n",
       "\u001b[32m- Cloud storage and local backup for video footage. - Easy DIY installation with mounting hardware included.'\u001b[0m\u001b[39m,\u001b[0m\n",
       "\u001b[39m            \u001b[0m\u001b[32m'Price'\u001b[0m\u001b[39m: \u001b[0m\u001b[32m'199.99'\u001b[0m\u001b[39m,\u001b[0m\n",
       "\u001b[39m            \u001b[0m\u001b[32m'Product Name'\u001b[0m\u001b[39m: \u001b[0m\u001b[32m'SmartHome Security Camera System'\u001b[0m\u001b[39m,\u001b[0m\n",
       "\u001b[39m            \u001b[0m\u001b[32m'Rating'\u001b[0m\u001b[39m: \u001b[0m\u001b[32m'4.6'\u001b[0m\n",
       "\u001b[39m        \u001b[0m\u001b[1;39m}\u001b[0m\n",
       "\u001b[39m    \u001b[0m\u001b[1;39m)\u001b[0m\u001b[39m,\u001b[0m\n",
       "\u001b[39m    \u001b[0m\u001b[1;35mDocument\u001b[0m\u001b[1;39m(\u001b[0m\n",
       "\u001b[39m        \u001b[0m\u001b[33mpage_content\u001b[0m\u001b[39m=\u001b[0m\u001b[32m'Description: Immerse yourself in virtual worlds with our Virtual Reality Headset. Experience \u001b[0m\n",
       "\u001b[32mgaming, entertainment, and exploration like never before.\\nFeatures: - High-resolution display for immersive \u001b[0m\n",
       "\u001b[32mvisuals.<br> - Wide field of view for a realistic experience.<br> - Adjustable head strap and comfortable \u001b[0m\n",
       "\u001b[32mpadding.<br> - Compatible with a range of VR content.<br> - Integrated audio for spatial sound.<br> - Included \u001b[0m\n",
       "\u001b[32mmotion controllers for interactive experiences.'\u001b[0m\u001b[39m,\u001b[0m\n",
       "\u001b[39m        \u001b[0m\u001b[33mmetadata\u001b[0m\u001b[39m=\u001b[0m\u001b[1;39m{\u001b[0m\n",
       "\u001b[39m            \u001b[0m\u001b[32m'Description'\u001b[0m\u001b[39m: \u001b[0m\u001b[32m'Immerse yourself in virtual worlds with our Virtual Reality Headset. Experience gaming,\u001b[0m\n",
       "\u001b[32mentertainment, and exploration like never before.'\u001b[0m\u001b[39m,\u001b[0m\n",
       "\u001b[39m            \u001b[0m\u001b[32m'Features'\u001b[0m\u001b[39m: \u001b[0m\u001b[32m'- High-resolution display for immersive visuals.<br> - Wide field of view for a realistic \u001b[0m\n",
       "\u001b[32mexperience.<br> - Adjustable head strap and comfortable padding.<br> - Compatible with a range of VR content.<br> -\u001b[0m\n",
       "\u001b[32mIntegrated audio for spatial sound.<br\u001b[0m\u001b[32m>\u001b[0m\u001b[32m - Included motion controllers for interactive experiences.'\u001b[0m,\n",
       "            \u001b[32m'Price'\u001b[0m: \u001b[32m'249.99'\u001b[0m,\n",
       "            \u001b[32m'Product Name'\u001b[0m: \u001b[32m'Virtual Reality Headset'\u001b[0m,\n",
       "            \u001b[32m'Rating'\u001b[0m: \u001b[32m'4.2'\u001b[0m\n",
       "        \u001b[1m}\u001b[0m\n",
       "    \u001b[1m)\u001b[0m\n",
       "\u001b[1m]\u001b[0m\n"
      ]
     },
     "metadata": {},
     "output_type": "display_data"
    }
   ],
   "source": [
    "# Create the metadata schema on the values on the csv\n",
    "metadata_field_info = [\n",
    "    AttributeInfo(\n",
    "        name = \"Product Name\",\n",
    "        description = \"Name of the Product\",  # Corrected the typo here\n",
    "        type = \"string\"),\n",
    "\n",
    "    AttributeInfo(\n",
    "        name = \"Price\",\n",
    "        description = \"The price of the product as a number. Ex. 149.99\",\n",
    "        type=\"string\"),\n",
    "\n",
    "    AttributeInfo(\n",
    "        name = \"Rating\",\n",
    "        description = \"The rating of the product as a number from 0 to 5. Ex. 4.5\",\n",
    "        type = \"string\"),\n",
    "\n",
    "    AttributeInfo(\n",
    "        name = \"Description\",\n",
    "        description = \"Description of the product\", \n",
    "        type=\"string\"),\n",
    "\n",
    "    AttributeInfo(\n",
    "        name = \"Features\",\n",
    "        description=\"Features of the product\", \n",
    "        type=\"string\")\n",
    "]\n",
    "\n",
    "document_content_description = \"Product listing\"\n",
    "\n",
    "# Now configure the retriever\n",
    "llm = OpenAI(temperature=0)\n",
    "retriever = SelfQueryRetriever.from_llm(\n",
    "    llm, db, document_content_description, metadata_field_info, verbose = True)\n",
    "\n",
    "# retriever values\n",
    "rprint(retriever.get_relevant_documents(\" heart rate monitor\"))\n"
   ]
  },
  {
   "cell_type": "code",
   "execution_count": 10,
   "metadata": {},
   "outputs": [
    {
     "data": {
      "text/plain": [
       "Index(['Product Name', 'Price', 'Rating', 'Description', 'Features'], dtype='object')"
      ]
     },
     "execution_count": 10,
     "metadata": {},
     "output_type": "execute_result"
    }
   ],
   "source": [
    "data.columns"
   ]
  },
  {
   "cell_type": "code",
   "execution_count": null,
   "metadata": {},
   "outputs": [],
   "source": []
  }
 ],
 "metadata": {
  "kernelspec": {
   "display_name": "Python 3",
   "language": "python",
   "name": "python3"
  },
  "language_info": {
   "codemirror_mode": {
    "name": "ipython",
    "version": 3
   },
   "file_extension": ".py",
   "mimetype": "text/x-python",
   "name": "python",
   "nbconvert_exporter": "python",
   "pygments_lexer": "ipython3",
   "version": "3.10.11"
  },
  "orig_nbformat": 4
 },
 "nbformat": 4,
 "nbformat_minor": 2
}
