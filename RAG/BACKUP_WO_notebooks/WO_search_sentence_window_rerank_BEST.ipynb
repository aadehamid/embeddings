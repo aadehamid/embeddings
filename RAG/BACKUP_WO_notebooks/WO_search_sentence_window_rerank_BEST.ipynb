{
 "cells": [
  {
   "cell_type": "code",
   "execution_count": 1,
   "metadata": {
    "ExecuteTime": {
     "end_time": "2024-02-11T16:11:48.361422Z",
     "start_time": "2024-02-11T16:11:46.518818Z"
    }
   },
   "outputs": [],
   "source": [
    "# import for preprocessing\n",
    "import pandas as pd\n",
    "from rich import print\n",
    "import logging\n",
    "import sys\n",
    "import sqlite3\n",
    "\n",
    "# llama index import to create sql DB\n",
    "from llama_index import (\n",
    "    SQLDatabase,\n",
    "    SimpleDirectoryReader,\n",
    "    Document,\n",
    "    StorageContext,\n",
    "    ServiceContext,\n",
    "    VectorStoreIndex,\n",
    "    OpenAIEmbedding,\n",
    "    set_global_service_context,\n",
    ")\n",
    "from llama_index.indices.struct_store import (\n",
    "    NLSQLTableQueryEngine,\n",
    "    SQLTableRetrieverQueryEngine,\n",
    ")\n",
    "from llama_index.llms import OpenAI\n",
    "\n",
    "# import for text 2 SQl query engine\n",
    "from llama_index.indices.struct_store.sql_query import (\n",
    "    NLSQLTableQueryEngine,\n",
    "    SQLTableRetrieverQueryEngine,\n",
    ")\n",
    "\n",
    "# iport if we do not know the name of table ahead of time\n",
    "from llama_index.objects import (\n",
    "    SQLTableNodeMapping,\n",
    "    ObjectIndex,\n",
    "    SQLTableSchema,\n",
    ")\n",
    "\n",
    "# import to set up query tool\n",
    "from llama_index.tools.query_engine import QueryEngineTool\n",
    "\n",
    "# import to set up query router\n",
    "from llama_index.query_engine.router_query_engine import RouterQueryEngine\n",
    "from llama_index.selectors.llm_selectors import LLMSingleSelector\n",
    "\n",
    "# import to set up weaviate\n",
    "from llama_index.vector_stores import WeaviateVectorStore\n",
    "\n",
    "import weaviate\n",
    "import openai\n",
    "\n",
    "from dotenv import find_dotenv, load_dotenv\n",
    "load_dotenv(find_dotenv())\n",
    "import os\n",
    "openai.api_key = os.getenv(\"OPENA_AI_KEY\")\n",
    "\n",
    "from IPython.display import Markdown, display\n",
    "\n",
    "\n",
    "from sqlalchemy import engine, MetaData, create_engine, text, select\n",
    "\n",
    "# Import modules for self correcting\n",
    "from llama_index.query_engine import RetryQueryEngine\n",
    "from llama_index.evaluation import RelevancyEvaluator\n",
    "from llama_index.query_engine import RetrySourceQueryEngine\n",
    "\n",
    "# Import modules to customize guidelines for what response shou look like\n",
    "from llama_index.evaluation.guideline import (\n",
    "    GuidelineEvaluator,\n",
    "    DEFAULT_GUIDELINES,\n",
    ")\n",
    "from llama_index.response.schema import Response\n",
    "from llama_index.indices.query.query_transform.feedback_transform import (\n",
    "    FeedbackQueryTransformation,\n",
    ")\n",
    "from llama_index.query_engine.retry_query_engine import (\n",
    "    RetryGuidelineQueryEngine,\n",
    ")\n",
    "\n",
    "# import to display llama index response\n",
    "from llama_index.response.notebook_utils import display_response\n",
    "# Needed for running async functions in Jupyter Notebook\n",
    "import nest_asyncio\n",
    "\n",
    "nest_asyncio.apply()\n",
    "\n",
    "# Tru Lens Evaluation\n",
    "# import sys\n",
    "# sys.path.append(os.path.dirname(find_dotenv()))\n",
    "# from utils import get_prebuilt_trulens_recorder\n",
    "# from trulens_eval import Tru\n",
    "\n",
    "# Import for senetnce window\n",
    "from wo_utils import build_sentence_window_index\n",
    "from wo_utils import  build_sentence_window_index_vector_DB\n",
    "from wo_utils import get_sentence_window_query_engine\n",
    "\n",
    "from weaviate.auth import AuthApiKey\n"
   ]
  },
  {
   "cell_type": "code",
   "execution_count": 6,
   "metadata": {},
   "outputs": [],
   "source": [
    "# # import weaviate\n",
    "# # import os\n",
    "\n",
    "# client = weaviate.connect_to_wcs(\n",
    "#     cluster_url=os.getenv(\"WCS_DEMO_URL\"),  # Replace with your WCS URL\n",
    "#     auth_credentials=weaviate.auth.AuthApiKey(os.getenv(\"WCS_DEMO_RO_KEY\"))  # Replace with your WCS key\n",
    "# )"
   ]
  },
  {
   "cell_type": "code",
   "execution_count": 2,
   "metadata": {
    "ExecuteTime": {
     "end_time": "2024-02-11T16:13:20.944274Z",
     "start_time": "2024-02-11T16:13:20.644338Z"
    }
   },
   "outputs": [
    {
     "ename": "TypeError",
     "evalue": "Either url or embedded options must be present.",
     "output_type": "error",
     "traceback": [
      "\u001B[0;31m---------------------------------------------------------------------------\u001B[0m",
      "\u001B[0;31mTypeError\u001B[0m                                 Traceback (most recent call last)",
      "Cell \u001B[0;32mIn[2], line 3\u001B[0m\n\u001B[1;32m      1\u001B[0m auth_config \u001B[38;5;241m=\u001B[39m AuthApiKey(api_key\u001B[38;5;241m=\u001B[39mos\u001B[38;5;241m.\u001B[39mgetenv(\u001B[38;5;124m\"\u001B[39m\u001B[38;5;124mWCS_DEMO_RO_KEY\u001B[39m\u001B[38;5;124m\"\u001B[39m))\n\u001B[0;32m----> 3\u001B[0m client \u001B[38;5;241m=\u001B[39m \u001B[43mweaviate\u001B[49m\u001B[38;5;241;43m.\u001B[39;49m\u001B[43mClient\u001B[49m\u001B[43m(\u001B[49m\n\u001B[1;32m      4\u001B[0m \u001B[43m  \u001B[49m\u001B[43murl\u001B[49m\u001B[38;5;241;43m=\u001B[39;49m\u001B[43mos\u001B[49m\u001B[38;5;241;43m.\u001B[39;49m\u001B[43mgetenv\u001B[49m\u001B[43m(\u001B[49m\u001B[38;5;124;43m\"\u001B[39;49m\u001B[38;5;124;43mWCS_DEMO_URL\u001B[39;49m\u001B[38;5;124;43m\"\u001B[39;49m\u001B[43m)\u001B[49m\u001B[43m,\u001B[49m\n\u001B[1;32m      5\u001B[0m \u001B[43m  \u001B[49m\u001B[43mauth_client_secret\u001B[49m\u001B[38;5;241;43m=\u001B[39;49m\u001B[43mauth_config\u001B[49m\n\u001B[1;32m      6\u001B[0m \u001B[43m)\u001B[49m\n",
      "File \u001B[0;32m~/miniforge3/envs/wo_rag/lib/python3.10/site-packages/weaviate/client.py:148\u001B[0m, in \u001B[0;36mClient.__init__\u001B[0;34m(self, url, auth_client_secret, timeout_config, proxies, trust_env, additional_headers, startup_period, embedded_options, additional_config)\u001B[0m\n\u001B[1;32m     66\u001B[0m \u001B[38;5;250m\u001B[39m\u001B[38;5;124;03m\"\"\"\u001B[39;00m\n\u001B[1;32m     67\u001B[0m \u001B[38;5;124;03mInitialize a Client class instance.\u001B[39;00m\n\u001B[1;32m     68\u001B[0m \n\u001B[0;32m   (...)\u001B[0m\n\u001B[1;32m    145\u001B[0m \u001B[38;5;124;03m    If arguments are of a wrong data type.\u001B[39;00m\n\u001B[1;32m    146\u001B[0m \u001B[38;5;124;03m\"\"\"\u001B[39;00m\n\u001B[1;32m    147\u001B[0m config \u001B[38;5;241m=\u001B[39m Config() \u001B[38;5;28;01mif\u001B[39;00m additional_config \u001B[38;5;129;01mis\u001B[39;00m \u001B[38;5;28;01mNone\u001B[39;00m \u001B[38;5;28;01melse\u001B[39;00m additional_config\n\u001B[0;32m--> 148\u001B[0m url, embedded_db \u001B[38;5;241m=\u001B[39m \u001B[38;5;28;43mself\u001B[39;49m\u001B[38;5;241;43m.\u001B[39;49m\u001B[43m__parse_url_and_embedded_db\u001B[49m\u001B[43m(\u001B[49m\u001B[43murl\u001B[49m\u001B[43m,\u001B[49m\u001B[43m \u001B[49m\u001B[43membedded_options\u001B[49m\u001B[43m)\u001B[49m\n\u001B[1;32m    150\u001B[0m \u001B[38;5;28mself\u001B[39m\u001B[38;5;241m.\u001B[39m_connection \u001B[38;5;241m=\u001B[39m Connection(\n\u001B[1;32m    151\u001B[0m     url\u001B[38;5;241m=\u001B[39murl,\n\u001B[1;32m    152\u001B[0m     auth_client_secret\u001B[38;5;241m=\u001B[39mauth_client_secret,\n\u001B[0;32m   (...)\u001B[0m\n\u001B[1;32m    160\u001B[0m     connection_config\u001B[38;5;241m=\u001B[39mconfig\u001B[38;5;241m.\u001B[39mconnection_config,\n\u001B[1;32m    161\u001B[0m )\n\u001B[1;32m    162\u001B[0m \u001B[38;5;28mself\u001B[39m\u001B[38;5;241m.\u001B[39mclassification \u001B[38;5;241m=\u001B[39m Classification(\u001B[38;5;28mself\u001B[39m\u001B[38;5;241m.\u001B[39m_connection)\n",
      "File \u001B[0;32m~/miniforge3/envs/wo_rag/lib/python3.10/site-packages/weaviate/client.py:280\u001B[0m, in \u001B[0;36mClient.__parse_url_and_embedded_db\u001B[0;34m(url, embedded_options)\u001B[0m\n\u001B[1;32m    275\u001B[0m \u001B[38;5;129m@staticmethod\u001B[39m\n\u001B[1;32m    276\u001B[0m \u001B[38;5;28;01mdef\u001B[39;00m \u001B[38;5;21m__parse_url_and_embedded_db\u001B[39m(\n\u001B[1;32m    277\u001B[0m     url: Optional[\u001B[38;5;28mstr\u001B[39m], embedded_options: Optional[EmbeddedOptions]\n\u001B[1;32m    278\u001B[0m ) \u001B[38;5;241m-\u001B[39m\u001B[38;5;241m>\u001B[39m Tuple[\u001B[38;5;28mstr\u001B[39m, Optional[EmbeddedDB]]:\n\u001B[1;32m    279\u001B[0m     \u001B[38;5;28;01mif\u001B[39;00m embedded_options \u001B[38;5;129;01mis\u001B[39;00m \u001B[38;5;28;01mNone\u001B[39;00m \u001B[38;5;129;01mand\u001B[39;00m url \u001B[38;5;129;01mis\u001B[39;00m \u001B[38;5;28;01mNone\u001B[39;00m:\n\u001B[0;32m--> 280\u001B[0m         \u001B[38;5;28;01mraise\u001B[39;00m \u001B[38;5;167;01mTypeError\u001B[39;00m(\u001B[38;5;124m\"\u001B[39m\u001B[38;5;124mEither url or embedded options must be present.\u001B[39m\u001B[38;5;124m\"\u001B[39m)\n\u001B[1;32m    281\u001B[0m     \u001B[38;5;28;01melif\u001B[39;00m embedded_options \u001B[38;5;129;01mis\u001B[39;00m \u001B[38;5;129;01mnot\u001B[39;00m \u001B[38;5;28;01mNone\u001B[39;00m \u001B[38;5;129;01mand\u001B[39;00m url \u001B[38;5;129;01mis\u001B[39;00m \u001B[38;5;129;01mnot\u001B[39;00m \u001B[38;5;28;01mNone\u001B[39;00m:\n\u001B[1;32m    282\u001B[0m         \u001B[38;5;28;01mraise\u001B[39;00m \u001B[38;5;167;01mTypeError\u001B[39;00m(\n\u001B[1;32m    283\u001B[0m             \u001B[38;5;124mf\u001B[39m\u001B[38;5;124m\"\u001B[39m\u001B[38;5;124mURL is not expected to be set when using embedded_options but URL was \u001B[39m\u001B[38;5;132;01m{\u001B[39;00murl\u001B[38;5;132;01m}\u001B[39;00m\u001B[38;5;124m\"\u001B[39m\n\u001B[1;32m    284\u001B[0m         )\n",
      "\u001B[0;31mTypeError\u001B[0m: Either url or embedded options must be present."
     ]
    }
   ],
   "source": [
    "\n",
    "auth_config = AuthApiKey(api_key=os.getenv(\"WCS_DEMO_RO_KEY\"))\n",
    "\n",
    "client = weaviate.Client(\n",
    "  url=os.getenv(\"WCS_DEMO_URL\"),\n",
    "  auth_client_secret=auth_config\n",
    ")"
   ]
  },
  {
   "attachments": {},
   "cell_type": "markdown",
   "metadata": {},
   "source": [
    "# 1. INGESTION"
   ]
  },
  {
   "attachments": {},
   "cell_type": "markdown",
   "metadata": {},
   "source": [
    "## Load the product data from file"
   ]
  },
  {
   "cell_type": "code",
   "execution_count": 3,
   "metadata": {},
   "outputs": [
    {
     "data": {
      "text/html": [
       "<pre style=\"white-space:pre;overflow-x:auto;line-height:normal;font-family:Menlo,'DejaVu Sans Mono',consolas,'Courier New',monospace\"><span style=\"color: #800080; text-decoration-color: #800080; font-weight: bold\">Index</span><span style=\"font-weight: bold\">([</span><span style=\"color: #008000; text-decoration-color: #008000\">'Product_Name'</span>, <span style=\"color: #008000; text-decoration-color: #008000\">'Price'</span>, <span style=\"color: #008000; text-decoration-color: #008000\">'Rating'</span>, <span style=\"color: #008000; text-decoration-color: #008000\">'Description'</span>, <span style=\"color: #008000; text-decoration-color: #008000\">'Features'</span><span style=\"font-weight: bold\">]</span>, <span style=\"color: #808000; text-decoration-color: #808000\">dtype</span>=<span style=\"color: #008000; text-decoration-color: #008000\">'object'</span><span style=\"font-weight: bold\">)</span>\n",
       "</pre>\n"
      ],
      "text/plain": [
       "\u001B[1;35mIndex\u001B[0m\u001B[1m(\u001B[0m\u001B[1m[\u001B[0m\u001B[32m'Product_Name'\u001B[0m, \u001B[32m'Price'\u001B[0m, \u001B[32m'Rating'\u001B[0m, \u001B[32m'Description'\u001B[0m, \u001B[32m'Features'\u001B[0m\u001B[1m]\u001B[0m, \u001B[33mdtype\u001B[0m=\u001B[32m'object'\u001B[0m\u001B[1m)\u001B[0m\n"
      ]
     },
     "metadata": {},
     "output_type": "display_data"
    },
    {
     "data": {
      "text/html": [
       "<div>\n",
       "<style scoped>\n",
       "    .dataframe tbody tr th:only-of-type {\n",
       "        vertical-align: middle;\n",
       "    }\n",
       "\n",
       "    .dataframe tbody tr th {\n",
       "        vertical-align: top;\n",
       "    }\n",
       "\n",
       "    .dataframe thead th {\n",
       "        text-align: right;\n",
       "    }\n",
       "</style>\n",
       "<table border=\"1\" class=\"dataframe\">\n",
       "  <thead>\n",
       "    <tr style=\"text-align: right;\">\n",
       "      <th></th>\n",
       "      <th>Product_Name</th>\n",
       "      <th>Price</th>\n",
       "      <th>Rating</th>\n",
       "      <th>Description</th>\n",
       "      <th>Features</th>\n",
       "    </tr>\n",
       "  </thead>\n",
       "  <tbody>\n",
       "    <tr>\n",
       "      <th>0</th>\n",
       "      <td>Ultimate Wireless Bluetooth Earbuds</td>\n",
       "      <td>79.99</td>\n",
       "      <td>4.4</td>\n",
       "      <td>Elevate your music experience with our Ultimat...</td>\n",
       "      <td>- High-fidelity sound with deep bass and clear...</td>\n",
       "    </tr>\n",
       "    <tr>\n",
       "      <th>1</th>\n",
       "      <td>SmartHome Security Camera System</td>\n",
       "      <td>199.99</td>\n",
       "      <td>4.6</td>\n",
       "      <td>Keep your home safe and secure with our SmartH...</td>\n",
       "      <td>- 1080p HD cameras for crystal-clear video qua...</td>\n",
       "    </tr>\n",
       "    <tr>\n",
       "      <th>2</th>\n",
       "      <td>Professional Espresso Machine</td>\n",
       "      <td>549.99</td>\n",
       "      <td>4.5</td>\n",
       "      <td>Brew barista-quality coffee at home with our P...</td>\n",
       "      <td>- 15-bar pump for optimal espresso extraction....</td>\n",
       "    </tr>\n",
       "  </tbody>\n",
       "</table>\n",
       "</div>"
      ],
      "text/plain": [
       "                          Product_Name   Price  Rating  \\\n",
       "0  Ultimate Wireless Bluetooth Earbuds   79.99     4.4   \n",
       "1     SmartHome Security Camera System  199.99     4.6   \n",
       "2        Professional Espresso Machine  549.99     4.5   \n",
       "\n",
       "                                         Description  \\\n",
       "0  Elevate your music experience with our Ultimat...   \n",
       "1  Keep your home safe and secure with our SmartH...   \n",
       "2  Brew barista-quality coffee at home with our P...   \n",
       "\n",
       "                                            Features  \n",
       "0  - High-fidelity sound with deep bass and clear...  \n",
       "1  - 1080p HD cameras for crystal-clear video qua...  \n",
       "2  - 15-bar pump for optimal espresso extraction....  "
      ]
     },
     "execution_count": 3,
     "metadata": {},
     "output_type": "execute_result"
    }
   ],
   "source": [
    "filepath = \"/teamspace/studios/Data_Studio/product_listing/product_listing.csv\"\n",
    "data = pd.read_csv(filepath)\n",
    "data.columns = ['Product_Name', 'Price', 'Rating', 'Description', 'Features']\n",
    "print(data.columns)\n",
    "data.head(3)"
   ]
  },
  {
   "attachments": {},
   "cell_type": "markdown",
   "metadata": {},
   "source": [
    "## Create an sqlite DB for the product data"
   ]
  },
  {
   "cell_type": "code",
   "execution_count": 4,
   "metadata": {},
   "outputs": [
    {
     "data": {
      "text/plain": [
       "12"
      ]
     },
     "execution_count": 4,
     "metadata": {},
     "output_type": "execute_result"
    }
   ],
   "source": [
    "# Create a connection to an SQLite database file\n",
    "conn = sqlite3.connect('./data/product_sqlite.db')\n",
    "\n",
    "# Write the DataFrame to a table in the SQLite database\n",
    "data.to_sql('product_table', conn, if_exists='replace', index=False)"
   ]
  },
  {
   "cell_type": "code",
   "execution_count": 5,
   "metadata": {},
   "outputs": [
    {
     "data": {
      "text/html": [
       "<pre style=\"white-space:pre;overflow-x:auto;line-height:normal;font-family:Menlo,'DejaVu Sans Mono',consolas,'Courier New',monospace\"><span style=\"font-weight: bold\">(</span>\n",
       "    <span style=\"color: #008000; text-decoration-color: #008000\">'Ultimate Wireless Bluetooth Earbuds'</span>,\n",
       "    <span style=\"color: #008080; text-decoration-color: #008080; font-weight: bold\">79.99</span>,\n",
       "    <span style=\"color: #008080; text-decoration-color: #008080; font-weight: bold\">4.4</span>,\n",
       "    <span style=\"color: #008000; text-decoration-color: #008000\">\"Elevate your music experience with our Ultimate Wireless Bluetooth Earbuds. These earbuds are designed for </span>\n",
       "<span style=\"color: #008000; text-decoration-color: #008000\">audiophiles who demand premium sound quality and convenience. With advanced Bluetooth 5.0 technology, you'll enjoy </span>\n",
       "<span style=\"color: #008000; text-decoration-color: #008000\">seamless connectivity and crystal-clear audio.\"</span>,\n",
       "    <span style=\"color: #008000; text-decoration-color: #008000\">'- High-fidelity sound with deep bass and clear treble. - Noise-canceling technology for an immersive listening</span>\n",
       "<span style=\"color: #008000; text-decoration-color: #008000\">experience. - 20 hours of playtime on a single charge. - Ergonomic design for a secure and comfortable fit. - Touch</span>\n",
       "<span style=\"color: #008000; text-decoration-color: #008000\">controls for easy playback and calls. - IPX7 waterproof rating for workouts and outdoor activities. - Built-in </span>\n",
       "<span style=\"color: #008000; text-decoration-color: #008000\">microphone for hands-free calls.'</span>\n",
       "<span style=\"font-weight: bold\">)</span>\n",
       "</pre>\n"
      ],
      "text/plain": [
       "\u001B[1m(\u001B[0m\n",
       "    \u001B[32m'Ultimate Wireless Bluetooth Earbuds'\u001B[0m,\n",
       "    \u001B[1;36m79.99\u001B[0m,\n",
       "    \u001B[1;36m4.4\u001B[0m,\n",
       "    \u001B[32m\"Elevate your music experience with our Ultimate Wireless Bluetooth Earbuds. These earbuds are designed for \u001B[0m\n",
       "\u001B[32maudiophiles who demand premium sound quality and convenience. With advanced Bluetooth 5.0 technology, you'll enjoy \u001B[0m\n",
       "\u001B[32mseamless connectivity and crystal-clear audio.\"\u001B[0m,\n",
       "    \u001B[32m'- High-fidelity sound with deep bass and clear treble. - Noise-canceling technology for an immersive listening\u001B[0m\n",
       "\u001B[32mexperience. - 20 hours of playtime on a single charge. - Ergonomic design for a secure and comfortable fit. - Touch\u001B[0m\n",
       "\u001B[32mcontrols for easy playback and calls. - IPX7 waterproof rating for workouts and outdoor activities. - Built-in \u001B[0m\n",
       "\u001B[32mmicrophone for hands-free calls.'\u001B[0m\n",
       "\u001B[1m)\u001B[0m\n"
      ]
     },
     "metadata": {},
     "output_type": "display_data"
    }
   ],
   "source": [
    "# View the sqlite DB\n",
    "conn = sqlite3.connect('./data/product_sqlite.db')\n",
    "result = conn.execute(\"SELECT * FROM product_table limit 1\").fetchall()\n",
    "\n",
    "# Process the result\n",
    "for row in result:\n",
    "    print(row)"
   ]
  },
  {
   "attachments": {},
   "cell_type": "markdown",
   "metadata": {},
   "source": [
    "## Create SQLDatabase Object"
   ]
  },
  {
   "cell_type": "code",
   "execution_count": 7,
   "metadata": {},
   "outputs": [
    {
     "data": {
      "text/html": [
       "<pre style=\"white-space:pre;overflow-x:auto;line-height:normal;font-family:Menlo,'DejaVu Sans Mono',consolas,'Courier New',monospace\"><span style=\"font-weight: bold\">(</span><span style=\"color: #008000; text-decoration-color: #008000\">'Ultimate Wireless Bluetooth Earbuds'</span>, <span style=\"color: #008080; text-decoration-color: #008080; font-weight: bold\">79.99</span>, <span style=\"color: #008080; text-decoration-color: #008080; font-weight: bold\">4.4</span>, <span style=\"color: #008000; text-decoration-color: #008000\">\"Elevate your music experience with our Ultimate Wireless </span>\n",
       "<span style=\"color: #008000; text-decoration-color: #008000\">Bluetooth Earbuds. These earbuds are designed for audiophiles who demand premium sound quality and convenience. </span>\n",
       "<span style=\"color: #008000; text-decoration-color: #008000\">With advanced Bluetooth 5.0 technology, you'll enjoy seamless connectivity and crystal-clear audio.\"</span>, <span style=\"color: #008000; text-decoration-color: #008000\">'- </span>\n",
       "<span style=\"color: #008000; text-decoration-color: #008000\">High-fidelity sound with deep bass and clear treble. - Noise-canceling technology for an immersive listening </span>\n",
       "<span style=\"color: #008000; text-decoration-color: #008000\">experience. - 20 hours of playtime on  ... (72 characters truncated) ... Touch controls for easy playback and </span>\n",
       "<span style=\"color: #008000; text-decoration-color: #008000\">calls. - IPX7 waterproof rating for workouts and outdoor activities. - Built-in microphone for hands-free calls.'</span><span style=\"font-weight: bold\">)</span>\n",
       "</pre>\n"
      ],
      "text/plain": [
       "\u001B[1m(\u001B[0m\u001B[32m'Ultimate Wireless Bluetooth Earbuds'\u001B[0m, \u001B[1;36m79.99\u001B[0m, \u001B[1;36m4.4\u001B[0m, \u001B[32m\"Elevate your music experience with our Ultimate Wireless \u001B[0m\n",
       "\u001B[32mBluetooth Earbuds. These earbuds are designed for audiophiles who demand premium sound quality and convenience. \u001B[0m\n",
       "\u001B[32mWith advanced Bluetooth 5.0 technology, you'll enjoy seamless connectivity and crystal-clear audio.\"\u001B[0m, \u001B[32m'- \u001B[0m\n",
       "\u001B[32mHigh-fidelity sound with deep bass and clear treble. - Noise-canceling technology for an immersive listening \u001B[0m\n",
       "\u001B[32mexperience. - 20 hours of playtime on  ... \u001B[0m\u001B[32m(\u001B[0m\u001B[32m72 characters truncated\u001B[0m\u001B[32m)\u001B[0m\u001B[32m ... Touch controls for easy playback and \u001B[0m\n",
       "\u001B[32mcalls. - IPX7 waterproof rating for workouts and outdoor activities. - Built-in microphone for hands-free calls.'\u001B[0m\u001B[1m)\u001B[0m\n"
      ]
     },
     "metadata": {},
     "output_type": "display_data"
    }
   ],
   "source": [
    "# SQLITE\n",
    "# engine = create_engine(\"sqlite:///\" +\"./data/product_sqlite.db\")\n",
    "# connection = engine.connect()\n",
    "# result = connection.execute(text(\"SELECT * FROM product_table limit 1\"))\n",
    "# for row in result:\n",
    "#     print(row)\n"
   ]
  },
  {
   "attachments": {},
   "cell_type": "markdown",
   "metadata": {},
   "source": [
    "## Define SQL Database"
   ]
  },
  {
   "cell_type": "code",
   "execution_count": 6,
   "metadata": {},
   "outputs": [
    {
     "ename": "NoInspectionAvailable",
     "evalue": "No inspection system is available for object of type <class 'module'>",
     "output_type": "error",
     "traceback": [
      "\u001B[0;31m---------------------------------------------------------------------------\u001B[0m",
      "\u001B[0;31mNoInspectionAvailable\u001B[0m                     Traceback (most recent call last)",
      "Cell \u001B[0;32mIn[6], line 6\u001B[0m\n\u001B[1;32m      4\u001B[0m set_global_service_context(service_context)\n\u001B[1;32m      5\u001B[0m \u001B[39m# service_context = ServiceContext.from_defaults(llm =llm)\u001B[39;00m\n\u001B[0;32m----> 6\u001B[0m sql_database \u001B[39m=\u001B[39m SQLDatabase(engine, include_tables\u001B[39m=\u001B[39;49m[\u001B[39m\"\u001B[39;49m\u001B[39mproduct_table\u001B[39;49m\u001B[39m\"\u001B[39;49m])\n",
      "File \u001B[0;32m/home/zeus/miniconda3/envs/cloudspace/lib/python3.10/site-packages/llama_index/utilities/sql_wrapper.py:59\u001B[0m, in \u001B[0;36mSQLDatabase.__init__\u001B[0;34m(self, engine, schema, metadata, ignore_tables, include_tables, sample_rows_in_table_info, indexes_in_table_info, custom_table_info, view_support, max_string_length)\u001B[0m\n\u001B[1;32m     56\u001B[0m \u001B[39mif\u001B[39;00m include_tables \u001B[39mand\u001B[39;00m ignore_tables:\n\u001B[1;32m     57\u001B[0m     \u001B[39mraise\u001B[39;00m \u001B[39mValueError\u001B[39;00m(\u001B[39m\"\u001B[39m\u001B[39mCannot specify both include_tables and ignore_tables\u001B[39m\u001B[39m\"\u001B[39m)\n\u001B[0;32m---> 59\u001B[0m \u001B[39mself\u001B[39m\u001B[39m.\u001B[39m_inspector \u001B[39m=\u001B[39m inspect(\u001B[39mself\u001B[39;49m\u001B[39m.\u001B[39;49m_engine)\n\u001B[1;32m     61\u001B[0m \u001B[39m# including view support by adding the views as well as tables to the all\u001B[39;00m\n\u001B[1;32m     62\u001B[0m \u001B[39m# tables list if view_support is True\u001B[39;00m\n\u001B[1;32m     63\u001B[0m \u001B[39mself\u001B[39m\u001B[39m.\u001B[39m_all_tables \u001B[39m=\u001B[39m \u001B[39mset\u001B[39m(\n\u001B[1;32m     64\u001B[0m     \u001B[39mself\u001B[39m\u001B[39m.\u001B[39m_inspector\u001B[39m.\u001B[39mget_table_names(schema\u001B[39m=\u001B[39mschema)\n\u001B[1;32m     65\u001B[0m     \u001B[39m+\u001B[39m (\u001B[39mself\u001B[39m\u001B[39m.\u001B[39m_inspector\u001B[39m.\u001B[39mget_view_names(schema\u001B[39m=\u001B[39mschema) \u001B[39mif\u001B[39;00m view_support \u001B[39melse\u001B[39;00m [])\n\u001B[1;32m     66\u001B[0m )\n",
      "File \u001B[0;32m/home/zeus/miniconda3/envs/cloudspace/lib/python3.10/site-packages/sqlalchemy/inspection.py:152\u001B[0m, in \u001B[0;36minspect\u001B[0;34m(subject, raiseerr)\u001B[0m\n\u001B[1;32m    149\u001B[0m     reg \u001B[39m=\u001B[39m ret \u001B[39m=\u001B[39m \u001B[39mNone\u001B[39;00m\n\u001B[1;32m    151\u001B[0m \u001B[39mif\u001B[39;00m raiseerr \u001B[39mand\u001B[39;00m (reg \u001B[39mis\u001B[39;00m \u001B[39mNone\u001B[39;00m \u001B[39mor\u001B[39;00m ret \u001B[39mis\u001B[39;00m \u001B[39mNone\u001B[39;00m):\n\u001B[0;32m--> 152\u001B[0m     \u001B[39mraise\u001B[39;00m exc\u001B[39m.\u001B[39mNoInspectionAvailable(\n\u001B[1;32m    153\u001B[0m         \u001B[39m\"\u001B[39m\u001B[39mNo inspection system is \u001B[39m\u001B[39m\"\u001B[39m\n\u001B[1;32m    154\u001B[0m         \u001B[39m\"\u001B[39m\u001B[39mavailable for object of type \u001B[39m\u001B[39m%s\u001B[39;00m\u001B[39m\"\u001B[39m \u001B[39m%\u001B[39m type_\n\u001B[1;32m    155\u001B[0m     )\n\u001B[1;32m    156\u001B[0m \u001B[39mreturn\u001B[39;00m ret\n",
      "\u001B[0;31mNoInspectionAvailable\u001B[0m: No inspection system is available for object of type <class 'module'>"
     ]
    }
   ],
   "source": [
    "llm = OpenAI(temperature=0.1, model = \"gpt-3.5-turbo\")\n",
    "embed_model = OpenAIEmbedding(model=\"text-embedding-3-large\")\n",
    "service_context = ServiceContext.from_defaults(llm =llm, embed_model=embed_model,)\n",
    "set_global_service_context(service_context)\n",
    "# service_context = ServiceContext.from_defaults(llm =llm)\n",
    "sql_database = SQLDatabase(engine, include_tables=[\"product_table\"])"
   ]
  },
  {
   "attachments": {},
   "cell_type": "markdown",
   "metadata": {},
   "source": [
    "## Text to SQL Query Engine"
   ]
  },
  {
   "cell_type": "code",
   "execution_count": 10,
   "metadata": {},
   "outputs": [
    {
     "data": {
      "text/html": [
       "<pre style=\"white-space:pre;overflow-x:auto;line-height:normal;font-family:Menlo,'DejaVu Sans Mono',consolas,'Courier New',monospace\"><span style=\"color: #800080; text-decoration-color: #800080; font-weight: bold\">Response</span><span style=\"font-weight: bold\">(</span>\n",
       "    <span style=\"color: #808000; text-decoration-color: #808000\">response</span>=<span style=\"color: #008000; text-decoration-color: #008000\">'The products that were sold for 79.99 are the Ultimate Wireless Bluetooth Earbuds and the Portable </span>\n",
       "<span style=\"color: #008000; text-decoration-color: #008000\">Solar Charger.'</span>,\n",
       "    <span style=\"color: #808000; text-decoration-color: #808000\">source_nodes</span>=<span style=\"font-weight: bold\">[</span>\n",
       "        <span style=\"color: #800080; text-decoration-color: #800080; font-weight: bold\">NodeWithScore</span><span style=\"font-weight: bold\">(</span>\n",
       "            <span style=\"color: #808000; text-decoration-color: #808000\">node</span>=<span style=\"color: #800080; text-decoration-color: #800080; font-weight: bold\">TextNode</span><span style=\"font-weight: bold\">(</span>\n",
       "                <span style=\"color: #808000; text-decoration-color: #808000\">id_</span>=<span style=\"color: #008000; text-decoration-color: #008000\">'73d02d47-d883-4ccb-a52c-9b9bbb899cd9'</span>,\n",
       "                <span style=\"color: #808000; text-decoration-color: #808000\">embedding</span>=<span style=\"color: #800080; text-decoration-color: #800080; font-style: italic\">None</span>,\n",
       "                <span style=\"color: #808000; text-decoration-color: #808000\">metadata</span>=<span style=\"font-weight: bold\">{}</span>,\n",
       "                <span style=\"color: #808000; text-decoration-color: #808000\">excluded_embed_metadata_keys</span>=<span style=\"font-weight: bold\">[]</span>,\n",
       "                <span style=\"color: #808000; text-decoration-color: #808000\">excluded_llm_metadata_keys</span>=<span style=\"font-weight: bold\">[]</span>,\n",
       "                <span style=\"color: #808000; text-decoration-color: #808000\">relationships</span>=<span style=\"font-weight: bold\">{}</span>,\n",
       "                <span style=\"color: #808000; text-decoration-color: #808000\">text</span>=<span style=\"color: #008000; text-decoration-color: #008000\">\"[('Ultimate Wireless Bluetooth Earbuds',), ('Portable Solar Charger',)]\"</span>,\n",
       "                <span style=\"color: #808000; text-decoration-color: #808000\">start_char_idx</span>=<span style=\"color: #800080; text-decoration-color: #800080; font-style: italic\">None</span>,\n",
       "                <span style=\"color: #808000; text-decoration-color: #808000\">end_char_idx</span>=<span style=\"color: #800080; text-decoration-color: #800080; font-style: italic\">None</span>,\n",
       "                <span style=\"color: #808000; text-decoration-color: #808000\">text_template</span>=<span style=\"color: #008000; text-decoration-color: #008000\">'{metadata_str}\\n\\n{content}'</span>,\n",
       "                <span style=\"color: #808000; text-decoration-color: #808000\">metadata_template</span>=<span style=\"color: #008000; text-decoration-color: #008000\">'{key}: {value}'</span>,\n",
       "                <span style=\"color: #808000; text-decoration-color: #808000\">metadata_seperator</span>=<span style=\"color: #008000; text-decoration-color: #008000\">'\\n'</span>\n",
       "            <span style=\"font-weight: bold\">)</span>,\n",
       "            <span style=\"color: #808000; text-decoration-color: #808000\">score</span>=<span style=\"color: #800080; text-decoration-color: #800080; font-style: italic\">None</span>\n",
       "        <span style=\"font-weight: bold\">)</span>\n",
       "    <span style=\"font-weight: bold\">]</span>,\n",
       "    <span style=\"color: #808000; text-decoration-color: #808000\">metadata</span>=<span style=\"font-weight: bold\">{</span>\n",
       "        <span style=\"color: #008000; text-decoration-color: #008000\">'73d02d47-d883-4ccb-a52c-9b9bbb899cd9'</span>: <span style=\"font-weight: bold\">{}</span>,\n",
       "        <span style=\"color: #008000; text-decoration-color: #008000\">'sql_query'</span>: <span style=\"color: #008000; text-decoration-color: #008000\">'SELECT Product_Name\\nFROM product_table\\nWHERE Price = 79.99'</span>,\n",
       "        <span style=\"color: #008000; text-decoration-color: #008000\">'result'</span>: <span style=\"font-weight: bold\">[(</span><span style=\"color: #008000; text-decoration-color: #008000\">'Ultimate Wireless Bluetooth Earbuds'</span>,<span style=\"font-weight: bold\">)</span>, <span style=\"font-weight: bold\">(</span><span style=\"color: #008000; text-decoration-color: #008000\">'Portable Solar Charger'</span>,<span style=\"font-weight: bold\">)]</span>,\n",
       "        <span style=\"color: #008000; text-decoration-color: #008000\">'col_keys'</span>: <span style=\"font-weight: bold\">[</span><span style=\"color: #008000; text-decoration-color: #008000\">'Product_Name'</span><span style=\"font-weight: bold\">]</span>\n",
       "    <span style=\"font-weight: bold\">}</span>\n",
       "<span style=\"font-weight: bold\">)</span>\n",
       "</pre>\n"
      ],
      "text/plain": [
       "\u001B[1;35mResponse\u001B[0m\u001B[1m(\u001B[0m\n",
       "    \u001B[33mresponse\u001B[0m=\u001B[32m'The products that were sold for 79.99 are the Ultimate Wireless Bluetooth Earbuds and the Portable \u001B[0m\n",
       "\u001B[32mSolar Charger.'\u001B[0m,\n",
       "    \u001B[33msource_nodes\u001B[0m=\u001B[1m[\u001B[0m\n",
       "        \u001B[1;35mNodeWithScore\u001B[0m\u001B[1m(\u001B[0m\n",
       "            \u001B[33mnode\u001B[0m=\u001B[1;35mTextNode\u001B[0m\u001B[1m(\u001B[0m\n",
       "                \u001B[33mid_\u001B[0m=\u001B[32m'73d02d47-d883-4ccb-a52c-9b9bbb899cd9'\u001B[0m,\n",
       "                \u001B[33membedding\u001B[0m=\u001B[3;35mNone\u001B[0m,\n",
       "                \u001B[33mmetadata\u001B[0m=\u001B[1m{\u001B[0m\u001B[1m}\u001B[0m,\n",
       "                \u001B[33mexcluded_embed_metadata_keys\u001B[0m=\u001B[1m[\u001B[0m\u001B[1m]\u001B[0m,\n",
       "                \u001B[33mexcluded_llm_metadata_keys\u001B[0m=\u001B[1m[\u001B[0m\u001B[1m]\u001B[0m,\n",
       "                \u001B[33mrelationships\u001B[0m=\u001B[1m{\u001B[0m\u001B[1m}\u001B[0m,\n",
       "                \u001B[33mtext\u001B[0m=\u001B[32m\"\u001B[0m\u001B[32m[\u001B[0m\u001B[32m(\u001B[0m\u001B[32m'Ultimate Wireless Bluetooth Earbuds',\u001B[0m\u001B[32m)\u001B[0m\u001B[32m, \u001B[0m\u001B[32m(\u001B[0m\u001B[32m'Portable Solar Charger',\u001B[0m\u001B[32m)\u001B[0m\u001B[32m]\u001B[0m\u001B[32m\"\u001B[0m,\n",
       "                \u001B[33mstart_char_idx\u001B[0m=\u001B[3;35mNone\u001B[0m,\n",
       "                \u001B[33mend_char_idx\u001B[0m=\u001B[3;35mNone\u001B[0m,\n",
       "                \u001B[33mtext_template\u001B[0m=\u001B[32m'\u001B[0m\u001B[32m{\u001B[0m\u001B[32mmetadata_str\u001B[0m\u001B[32m}\u001B[0m\u001B[32m\\n\\n\u001B[0m\u001B[32m{\u001B[0m\u001B[32mcontent\u001B[0m\u001B[32m}\u001B[0m\u001B[32m'\u001B[0m,\n",
       "                \u001B[33mmetadata_template\u001B[0m=\u001B[32m'\u001B[0m\u001B[32m{\u001B[0m\u001B[32mkey\u001B[0m\u001B[32m}\u001B[0m\u001B[32m: \u001B[0m\u001B[32m{\u001B[0m\u001B[32mvalue\u001B[0m\u001B[32m}\u001B[0m\u001B[32m'\u001B[0m,\n",
       "                \u001B[33mmetadata_seperator\u001B[0m=\u001B[32m'\\n'\u001B[0m\n",
       "            \u001B[1m)\u001B[0m,\n",
       "            \u001B[33mscore\u001B[0m=\u001B[3;35mNone\u001B[0m\n",
       "        \u001B[1m)\u001B[0m\n",
       "    \u001B[1m]\u001B[0m,\n",
       "    \u001B[33mmetadata\u001B[0m=\u001B[1m{\u001B[0m\n",
       "        \u001B[32m'73d02d47-d883-4ccb-a52c-9b9bbb899cd9'\u001B[0m: \u001B[1m{\u001B[0m\u001B[1m}\u001B[0m,\n",
       "        \u001B[32m'sql_query'\u001B[0m: \u001B[32m'SELECT Product_Name\\nFROM product_table\\nWHERE Price = 79.99'\u001B[0m,\n",
       "        \u001B[32m'result'\u001B[0m: \u001B[1m[\u001B[0m\u001B[1m(\u001B[0m\u001B[32m'Ultimate Wireless Bluetooth Earbuds'\u001B[0m,\u001B[1m)\u001B[0m, \u001B[1m(\u001B[0m\u001B[32m'Portable Solar Charger'\u001B[0m,\u001B[1m)\u001B[0m\u001B[1m]\u001B[0m,\n",
       "        \u001B[32m'col_keys'\u001B[0m: \u001B[1m[\u001B[0m\u001B[32m'Product_Name'\u001B[0m\u001B[1m]\u001B[0m\n",
       "    \u001B[1m}\u001B[0m\n",
       "\u001B[1m)\u001B[0m\n"
      ]
     },
     "metadata": {},
     "output_type": "display_data"
    }
   ],
   "source": [
    "query_engine = NLSQLTableQueryEngine(\n",
    "    sql_database = sql_database,\n",
    "    tables = [\"product_table\"])\n",
    "query_str = \"Which product was sold for 79.99?\"\n",
    "response = query_engine.query(query_str)\n",
    "display_response(response)"
   ]
  },
  {
   "attachments": {},
   "cell_type": "markdown",
   "metadata": {},
   "source": [
    "## Part 2: Query-Time Retrieval of Tables for Text-to-SQL\n",
    "If we don’t know ahead of time which table we would like to use, and the total size of the table schema overflows your context window size, we should store the table schema in an index so that during query time we can retrieve the right schema.\n",
    "\n",
    "The way we can do this is using the SQLTableNodeMapping object, which takes in a SQLDatabase and produces a Node object for each SQLTableSchema object passed into the ObjectIndex constructor."
   ]
  },
  {
   "cell_type": "code",
   "execution_count": 11,
   "metadata": {},
   "outputs": [],
   "source": [
    "\n",
    "# set Logging to DEBUG for more detailed outputs\n",
    "table_node_mapping = SQLTableNodeMapping(sql_database)\n",
    "table_schema_objs = [\n",
    "    (SQLTableSchema(table_name=\"product_table\"))\n",
    "]  # add a SQLTableSchema for each table\n",
    "\n",
    "obj_index = ObjectIndex.from_objects(\n",
    "    table_schema_objs,\n",
    "    table_node_mapping,\n",
    "    VectorStoreIndex,\n",
    ")\n",
    "query_engine = SQLTableRetrieverQueryEngine(\n",
    "    sql_database, obj_index.as_retriever(similarity_top_k=1)\n",
    ")"
   ]
  },
  {
   "cell_type": "code",
   "execution_count": 12,
   "metadata": {},
   "outputs": [
    {
     "data": {
      "text/markdown": [
       "<b>The rating for the product named Portable Solar Charger is 4.0.</b>"
      ],
      "text/plain": [
       "<IPython.core.display.Markdown object>"
      ]
     },
     "metadata": {},
     "output_type": "display_data"
    }
   ],
   "source": [
    "query_str = \"What is the Rating for the product whose name is Portable Solar Charger?\"\n",
    "response = query_engine.query(query_str)\n",
    "display(Markdown(f\"<b>{response}</b>\"))"
   ]
  },
  {
   "cell_type": "code",
   "execution_count": 11,
   "metadata": {},
   "outputs": [
    {
     "data": {
      "text/plain": [
       "[(4.0,)]"
      ]
     },
     "execution_count": 11,
     "metadata": {},
     "output_type": "execute_result"
    }
   ],
   "source": [
    "# you can also fetch the raw result from SQLAlchemy!\n",
    "response.metadata[\"result\"]"
   ]
  },
  {
   "attachments": {},
   "cell_type": "markdown",
   "metadata": {},
   "source": [
    "## Create embedding for the columns to embed"
   ]
  },
  {
   "cell_type": "code",
   "execution_count": 13,
   "metadata": {},
   "outputs": [],
   "source": [
    "## With PANDAS DATAFRAME\n",
    "# Assuming you have already loaded the data into a Pandas DataFrame df\n",
    "columns_to_embed = [\"Description\", \"Features\"]\n",
    "columns_to_metadata = [\"Product Name\", \"Price\", \"Rating\", \"Description\", \"Features\"]\n",
    "\n",
    "docs = []\n",
    "for i, row in data.iterrows():\n",
    "    to_metadata = {col: row[col] for col in columns_to_metadata if col in row}\n",
    "    values_to_embed = {k: row[k] for k in columns_to_embed if k in row}\n",
    "    to_embed = '\\n'.join(f\"{k.strip()}: {v.strip()}\" for k, v in values_to_embed.items())\n",
    "    newDoc = Document(text=to_embed, metadata=to_metadata)\n",
    "    docs.append(newDoc)\n",
    "\n",
    "# Create a single document from a list of Documents\n",
    "# this is what we will chunk up and store with its embedding in Weaviate\n",
    "document = Document(text=\"\\n\\n\".join([doc.text for doc in docs]))"
   ]
  },
  {
   "attachments": {},
   "cell_type": "markdown",
   "metadata": {},
   "source": [
    "## Create Weaviate Schema"
   ]
  },
  {
   "cell_type": "code",
   "execution_count": 11,
   "metadata": {},
   "outputs": [
    {
     "name": "stdout",
     "output_type": "stream",
     "text": [
      "Product schema was created.\n"
     ]
    }
   ],
   "source": [
    "# # Create Schema\n",
    "# product_schema = {\n",
    "#    \"classes\": [\n",
    "#        {\n",
    "#            \"class\": \"Product\",\n",
    "#            \"description\": \"Listing of Products\",\n",
    "#            \"vectorizer\": \"text2vec-openai\",\n",
    "#            \"properties\": [\n",
    "#                {\n",
    "#                   \"name\": \"Product_Name\",\n",
    "#                   \"dataType\": [\"text\"],\n",
    "#                   \"description\": \"Name of the product.\",\n",
    "#                },\n",
    "#                {\n",
    "#                   \"name\": \"Price\",\n",
    "#                   \"dataType\": [\"number\"],\n",
    "#                   \"description\": \"Price of the product.\",\n",
    "#                },\n",
    "#                {\n",
    "#                   \"name\": \"Rating\",\n",
    "#                   \"dataType\": [\"number\"],\n",
    "#                   \"description\": \"Rating of the product.\",\n",
    "#                },\n",
    "#                {\n",
    "#                   \"name\": \"Description\",\n",
    "#                   \"dataType\": [\"text\"],\n",
    "#                   \"description\": \"Description of the product.\",\n",
    "#                },\n",
    "#                {\n",
    "#                   \"name\": \"Features\",\n",
    "#                   \"dataType\": [\"text\"],\n",
    "#                   \"description\": \"Feature of the product.\",\n",
    "#                }\n",
    "#             ]\n",
    "#         }\n",
    "#     ]\n",
    "# }\n",
    "\n",
    "# client.schema.create(product_schema)\n",
    "# print(\"Product schema was created.\")"
   ]
  },
  {
   "cell_type": "code",
   "execution_count": null,
   "metadata": {},
   "outputs": [],
   "source": [
    "# view the schme just created\n",
    "print(client.schema.get())"
   ]
  },
  {
   "attachments": {},
   "cell_type": "markdown",
   "metadata": {},
   "source": [
    "## Sentence Window Index and Store in Vectore DB"
   ]
  },
  {
   "cell_type": "code",
   "execution_count": 15,
   "metadata": {},
   "outputs": [
    {
     "name": "stderr",
     "output_type": "stream",
     "text": [
      "/home/zeus/miniconda3/envs/cloudspace/lib/python3.10/site-packages/weaviate/__init__.py:128: DeprecationWarning: Dep010: Importing AuthApiKey from weaviate is deprecated. Please import it from its specific module: weaviate.auth\n",
      "  _Warnings.root_module_import(name, map_[name])\n"
     ]
    }
   ],
   "source": [
    "product_index = build_sentence_window_index_vector_DB(\n",
    "    document = document,\n",
    "    client = client,\n",
    "    llm = llm,\n",
    "    embed_model=embed_model,\n",
    "    prefix = \"Product_sent_win_index\"\n",
    ")\n",
    "# sentence_index = build_sentence_window_index(\n",
    "#     document = document,\n",
    "#     llm = llm,\n",
    "#     embed_model=embed_model,\n",
    "#     save_dir=\"sentence_index\"\n",
    "# )"
   ]
  },
  {
   "attachments": {},
   "cell_type": "markdown",
   "metadata": {},
   "source": [
    "## Build Weaviate Index"
   ]
  },
  {
   "cell_type": "code",
   "execution_count": 18,
   "metadata": {},
   "outputs": [],
   "source": [
    "# vector_store = WeaviateVectorStore(weaviate_client=client, class_prefix=\"Product_index\")\n",
    "# storage_context = StorageContext.from_defaults(vector_store=vector_store)\n",
    "\n",
    "\n",
    "# product_index = VectorStoreIndex.from_documents([document], storage_context=storage_context, \n",
    "#                 service_context = service_context)\n",
    "\n"
   ]
  },
  {
   "attachments": {},
   "cell_type": "markdown",
   "metadata": {},
   "source": [
    "# 2. RETRIEVAL"
   ]
  },
  {
   "attachments": {},
   "cell_type": "markdown",
   "metadata": {},
   "source": [
    "## Build SQL Query Engine"
   ]
  },
  {
   "cell_type": "code",
   "execution_count": 16,
   "metadata": {},
   "outputs": [],
   "source": [
    "# set up text2SQL prompt\n",
    "sql_query_engine = NLSQLTableQueryEngine(\n",
    "    sql_database=sql_database,\n",
    "    tables=[\"product_table\"],\n",
    ")"
   ]
  },
  {
   "attachments": {},
   "cell_type": "markdown",
   "metadata": {},
   "source": [
    "## Build Vector Query Engine"
   ]
  },
  {
   "cell_type": "code",
   "execution_count": 17,
   "metadata": {},
   "outputs": [],
   "source": [
    "vector_query_engine  = get_sentence_window_query_engine(sentence_index = product_index,\n",
    "                     similarity_top_k=6,\n",
    "                    rerank_top_n=2,)\n",
    "\n",
    "# vector_query_engine = product_index.as_query_engine()"
   ]
  },
  {
   "attachments": {},
   "cell_type": "markdown",
   "metadata": {},
   "source": [
    "## Tell llama index what tool to use"
   ]
  },
  {
   "cell_type": "code",
   "execution_count": 18,
   "metadata": {},
   "outputs": [],
   "source": [
    "# from llama_index.tools.query_engine import QueryEngineTool\n",
    "\n",
    "sql_tool = QueryEngineTool.from_defaults(\n",
    "    query_engine = sql_query_engine,\n",
    "    description=(\n",
    "        \"Useful for translating a natural language query into a SQL query over a product listing table containing: \"\n",
    "        \"Price , Rating, Description, and Features of each product\"\n",
    "    ),\n",
    ")\n",
    "vector_tool = QueryEngineTool.from_defaults(\n",
    "    query_engine=vector_query_engine,\n",
    "    description=\"Useful for answering semantic questions about product listing\",\n",
    ")"
   ]
  },
  {
   "attachments": {},
   "cell_type": "markdown",
   "metadata": {},
   "source": [
    "## Create a router\n"
   ]
  },
  {
   "cell_type": "code",
   "execution_count": 19,
   "metadata": {},
   "outputs": [],
   "source": [
    "query_engine = RouterQueryEngine(\n",
    "    selector=LLMSingleSelector.from_defaults(),\n",
    "    query_engine_tools=([sql_tool] + [vector_tool]),\n",
    ")"
   ]
  },
  {
   "attachments": {},
   "cell_type": "markdown",
   "metadata": {},
   "source": [
    "## Queries\n"
   ]
  },
  {
   "cell_type": "code",
   "execution_count": 20,
   "metadata": {},
   "outputs": [
    {
     "data": {
      "text/markdown": [
       "**`Final Response:`** The rating for the product named Portable Solar Charger is 4.0."
      ],
      "text/plain": [
       "<IPython.core.display.Markdown object>"
      ]
     },
     "metadata": {},
     "output_type": "display_data"
    }
   ],
   "source": [
    "response = query_engine.query(\"What is the Rating for the product whose name is Portable Solar Charger?\")\n",
    "# print(str(response))\n",
    "display_response(response)"
   ]
  },
  {
   "cell_type": "code",
   "execution_count": 23,
   "metadata": {},
   "outputs": [
    {
     "data": {
      "text/markdown": [
       "**`Final Response:`** The Ultimate Wireless Bluetooth Earbuds are a top choice for audiophiles who value both sound quality and convenience. With advanced Bluetooth 5.0 technology, these earbuds offer seamless connectivity and crystal-clear audio. They provide high-fidelity sound with deep bass and clear treble, and also feature noise-canceling technology for an immersive listening experience. With 20 hours of playtime on a single charge, you can enjoy your music all day long. The ergonomic design ensures a secure and comfortable fit, and the touch controls make it easy to control playback and take calls. Additionally, these earbuds have an IPX7 waterproof rating, making them suitable for outdoor activities."
      ],
      "text/plain": [
       "<IPython.core.display.Markdown object>"
      ]
     },
     "metadata": {},
     "output_type": "display_data"
    }
   ],
   "source": [
    "response = query_engine.query(\"Tell me about Wireless \\\n",
    "Bluetooth Earbuds products in the product listing \")\n",
    "display_response(response)"
   ]
  },
  {
   "cell_type": "code",
   "execution_count": 22,
   "metadata": {},
   "outputs": [
    {
     "data": {
      "text/html": [
       "<pre style=\"white-space:pre;overflow-x:auto;line-height:normal;font-family:Menlo,'DejaVu Sans Mono',consolas,'Courier New',monospace\"><span style=\"color: #800080; text-decoration-color: #800080; font-weight: bold\">Response</span><span style=\"font-weight: bold\">(</span>\n",
       "    <span style=\"color: #808000; text-decoration-color: #808000\">response</span>=<span style=\"color: #008000; text-decoration-color: #008000\">'The Ultimate Wireless Bluetooth Earbuds are a top choice for audiophiles who value both sound quality</span>\n",
       "<span style=\"color: #008000; text-decoration-color: #008000\">and convenience. With advanced Bluetooth 5.0 technology, these earbuds offer seamless connectivity and </span>\n",
       "<span style=\"color: #008000; text-decoration-color: #008000\">crystal-clear audio. They provide high-fidelity sound with deep bass and clear treble, and also feature </span>\n",
       "<span style=\"color: #008000; text-decoration-color: #008000\">noise-canceling technology for an immersive listening experience. With 20 hours of playtime on a single charge, you</span>\n",
       "<span style=\"color: #008000; text-decoration-color: #008000\">can enjoy your music for extended periods of time. The ergonomic design ensures a secure and comfortable fit, and </span>\n",
       "<span style=\"color: #008000; text-decoration-color: #008000\">the touch controls make it easy to control playback and take calls. Additionally, these earbuds have an IPX7 </span>\n",
       "<span style=\"color: #008000; text-decoration-color: #008000\">waterproof rating, making them suitable for outdoor activities.'</span>,\n",
       "    <span style=\"color: #808000; text-decoration-color: #808000\">source_nodes</span>=<span style=\"font-weight: bold\">[</span>\n",
       "        <span style=\"color: #800080; text-decoration-color: #800080; font-weight: bold\">NodeWithScore</span><span style=\"font-weight: bold\">(</span>\n",
       "            <span style=\"color: #808000; text-decoration-color: #808000\">node</span>=<span style=\"color: #800080; text-decoration-color: #800080; font-weight: bold\">TextNode</span><span style=\"font-weight: bold\">(</span>\n",
       "                <span style=\"color: #808000; text-decoration-color: #808000\">id_</span>=<span style=\"color: #008000; text-decoration-color: #008000\">'ff46a7f9-1a62-4709-b850-bdd4acb880fc'</span>,\n",
       "                <span style=\"color: #808000; text-decoration-color: #808000\">embedding</span>=<span style=\"color: #800080; text-decoration-color: #800080; font-style: italic\">None</span>,\n",
       "                <span style=\"color: #808000; text-decoration-color: #808000\">metadata</span>=<span style=\"font-weight: bold\">{}</span>,\n",
       "                <span style=\"color: #808000; text-decoration-color: #808000\">excluded_embed_metadata_keys</span>=<span style=\"font-weight: bold\">[]</span>,\n",
       "                <span style=\"color: #808000; text-decoration-color: #808000\">excluded_llm_metadata_keys</span>=<span style=\"font-weight: bold\">[]</span>,\n",
       "                <span style=\"color: #808000; text-decoration-color: #808000\">relationships</span>=<span style=\"font-weight: bold\">{}</span>,\n",
       "                <span style=\"color: #808000; text-decoration-color: #808000\">text</span>=<span style=\"color: #008000; text-decoration-color: #008000\">'[(\\'Ultimate Wireless Bluetooth Earbuds\\', 79.99, 4.4, \"Elevate your music experience with </span>\n",
       "<span style=\"color: #008000; text-decoration-color: #008000\">our Ultimate Wireless Bluetooth Earbuds. These earbuds are designed for audiophiles who demand premium sound </span>\n",
       "<span style=\"color: #008000; text-decoration-color: #008000\">quality and convenience. With advanced Bluetooth 5.0 technology, you\\'ll enjoy seamless connectivity and </span>\n",
       "<span style=\"color: #008000; text-decoration-color: #008000\">crystal-clear audio.\", \\'- High-fidelity sound with deep bass and clear treble. - Noise-canceling technology for an</span>\n",
       "<span style=\"color: #008000; text-decoration-color: #008000\">immersive listening experience. - 20 hours of playtime on a single charge. - Ergonomic design for a secure and </span>\n",
       "<span style=\"color: #008000; text-decoration-color: #008000\">comfortable fit. - Touch controls for easy playback and calls. - IPX7 waterproof rating for...\\')]'</span>,\n",
       "                <span style=\"color: #808000; text-decoration-color: #808000\">start_char_idx</span>=<span style=\"color: #800080; text-decoration-color: #800080; font-style: italic\">None</span>,\n",
       "                <span style=\"color: #808000; text-decoration-color: #808000\">end_char_idx</span>=<span style=\"color: #800080; text-decoration-color: #800080; font-style: italic\">None</span>,\n",
       "                <span style=\"color: #808000; text-decoration-color: #808000\">text_template</span>=<span style=\"color: #008000; text-decoration-color: #008000\">'{metadata_str}\\n\\n{content}'</span>,\n",
       "                <span style=\"color: #808000; text-decoration-color: #808000\">metadata_template</span>=<span style=\"color: #008000; text-decoration-color: #008000\">'{key}: {value}'</span>,\n",
       "                <span style=\"color: #808000; text-decoration-color: #808000\">metadata_seperator</span>=<span style=\"color: #008000; text-decoration-color: #008000\">'\\n'</span>\n",
       "            <span style=\"font-weight: bold\">)</span>,\n",
       "            <span style=\"color: #808000; text-decoration-color: #808000\">score</span>=<span style=\"color: #800080; text-decoration-color: #800080; font-style: italic\">None</span>\n",
       "        <span style=\"font-weight: bold\">)</span>\n",
       "    <span style=\"font-weight: bold\">]</span>,\n",
       "    <span style=\"color: #808000; text-decoration-color: #808000\">metadata</span>=<span style=\"font-weight: bold\">{</span>\n",
       "        <span style=\"color: #008000; text-decoration-color: #008000\">'ff46a7f9-1a62-4709-b850-bdd4acb880fc'</span>: <span style=\"font-weight: bold\">{}</span>,\n",
       "        <span style=\"color: #008000; text-decoration-color: #008000\">'sql_query'</span>: <span style=\"color: #008000; text-decoration-color: #008000\">\"SELECT Product_Name, Price, Rating, Description, Features\\nFROM product_table\\nWHERE </span>\n",
       "<span style=\"color: #008000; text-decoration-color: #008000\">Product_Name LIKE '%Wireless Bluetooth Earbuds%'\"</span>,\n",
       "        <span style=\"color: #008000; text-decoration-color: #008000\">'result'</span>: <span style=\"font-weight: bold\">[</span>\n",
       "            <span style=\"font-weight: bold\">(</span>\n",
       "                <span style=\"color: #008000; text-decoration-color: #008000\">'Ultimate Wireless Bluetooth Earbuds'</span>,\n",
       "                <span style=\"color: #008080; text-decoration-color: #008080; font-weight: bold\">79.99</span>,\n",
       "                <span style=\"color: #008080; text-decoration-color: #008080; font-weight: bold\">4.4</span>,\n",
       "                <span style=\"color: #008000; text-decoration-color: #008000\">\"Elevate your music experience with our Ultimate Wireless Bluetooth Earbuds. These earbuds are </span>\n",
       "<span style=\"color: #008000; text-decoration-color: #008000\">designed for audiophiles who demand premium sound quality and convenience. With advanced Bluetooth 5.0 technology, </span>\n",
       "<span style=\"color: #008000; text-decoration-color: #008000\">you'll enjoy seamless connectivity and crystal-clear audio.\"</span>,\n",
       "                <span style=\"color: #008000; text-decoration-color: #008000\">'- High-fidelity sound with deep bass and clear treble. - Noise-canceling technology for an </span>\n",
       "<span style=\"color: #008000; text-decoration-color: #008000\">immersive listening experience. - 20 hours of playtime on a single charge. - Ergonomic design for a secure and </span>\n",
       "<span style=\"color: #008000; text-decoration-color: #008000\">comfortable fit. - Touch controls for easy playback and calls. - IPX7 waterproof rating for...'</span>\n",
       "            <span style=\"font-weight: bold\">)</span>\n",
       "        <span style=\"font-weight: bold\">]</span>,\n",
       "        <span style=\"color: #008000; text-decoration-color: #008000\">'col_keys'</span>: <span style=\"font-weight: bold\">[</span><span style=\"color: #008000; text-decoration-color: #008000\">'Product_Name'</span>, <span style=\"color: #008000; text-decoration-color: #008000\">'Price'</span>, <span style=\"color: #008000; text-decoration-color: #008000\">'Rating'</span>, <span style=\"color: #008000; text-decoration-color: #008000\">'Description'</span>, <span style=\"color: #008000; text-decoration-color: #008000\">'Features'</span><span style=\"font-weight: bold\">]</span>,\n",
       "        <span style=\"color: #008000; text-decoration-color: #008000\">'selector_result'</span>: <span style=\"color: #800080; text-decoration-color: #800080; font-weight: bold\">MultiSelection</span><span style=\"font-weight: bold\">(</span>\n",
       "            <span style=\"color: #808000; text-decoration-color: #808000\">selections</span>=<span style=\"font-weight: bold\">[</span>\n",
       "                <span style=\"color: #800080; text-decoration-color: #800080; font-weight: bold\">SingleSelection</span><span style=\"font-weight: bold\">(</span>\n",
       "                    <span style=\"color: #808000; text-decoration-color: #808000\">index</span>=<span style=\"color: #008080; text-decoration-color: #008080; font-weight: bold\">0</span>,\n",
       "                    <span style=\"color: #808000; text-decoration-color: #808000\">reason</span>=<span style=\"color: #008000; text-decoration-color: #008000\">'Choice 1 is the most relevant because it mentions translating a natural language query </span>\n",
       "<span style=\"color: #008000; text-decoration-color: #008000\">into a SQL query over a product listing table, which would be useful for retrieving information about specific </span>\n",
       "<span style=\"color: #008000; text-decoration-color: #008000\">products like Wireless Bluetooth Earbuds.'</span>\n",
       "                <span style=\"font-weight: bold\">)</span>\n",
       "            <span style=\"font-weight: bold\">]</span>\n",
       "        <span style=\"font-weight: bold\">)</span>\n",
       "    <span style=\"font-weight: bold\">}</span>\n",
       "<span style=\"font-weight: bold\">)</span>\n",
       "</pre>\n"
      ],
      "text/plain": [
       "\u001B[1;35mResponse\u001B[0m\u001B[1m(\u001B[0m\n",
       "    \u001B[33mresponse\u001B[0m=\u001B[32m'The Ultimate Wireless Bluetooth Earbuds are a top choice for audiophiles who value both sound quality\u001B[0m\n",
       "\u001B[32mand convenience. With advanced Bluetooth 5.0 technology, these earbuds offer seamless connectivity and \u001B[0m\n",
       "\u001B[32mcrystal-clear audio. They provide high-fidelity sound with deep bass and clear treble, and also feature \u001B[0m\n",
       "\u001B[32mnoise-canceling technology for an immersive listening experience. With 20 hours of playtime on a single charge, you\u001B[0m\n",
       "\u001B[32mcan enjoy your music for extended periods of time. The ergonomic design ensures a secure and comfortable fit, and \u001B[0m\n",
       "\u001B[32mthe touch controls make it easy to control playback and take calls. Additionally, these earbuds have an IPX7 \u001B[0m\n",
       "\u001B[32mwaterproof rating, making them suitable for outdoor activities.'\u001B[0m,\n",
       "    \u001B[33msource_nodes\u001B[0m=\u001B[1m[\u001B[0m\n",
       "        \u001B[1;35mNodeWithScore\u001B[0m\u001B[1m(\u001B[0m\n",
       "            \u001B[33mnode\u001B[0m=\u001B[1;35mTextNode\u001B[0m\u001B[1m(\u001B[0m\n",
       "                \u001B[33mid_\u001B[0m=\u001B[32m'ff46a7f9-1a62-4709-b850-bdd4acb880fc'\u001B[0m,\n",
       "                \u001B[33membedding\u001B[0m=\u001B[3;35mNone\u001B[0m,\n",
       "                \u001B[33mmetadata\u001B[0m=\u001B[1m{\u001B[0m\u001B[1m}\u001B[0m,\n",
       "                \u001B[33mexcluded_embed_metadata_keys\u001B[0m=\u001B[1m[\u001B[0m\u001B[1m]\u001B[0m,\n",
       "                \u001B[33mexcluded_llm_metadata_keys\u001B[0m=\u001B[1m[\u001B[0m\u001B[1m]\u001B[0m,\n",
       "                \u001B[33mrelationships\u001B[0m=\u001B[1m{\u001B[0m\u001B[1m}\u001B[0m,\n",
       "                \u001B[33mtext\u001B[0m=\u001B[32m'\u001B[0m\u001B[32m[\u001B[0m\u001B[32m(\u001B[0m\u001B[32m\\'Ultimate Wireless Bluetooth Earbuds\\', 79.99, 4.4, \"Elevate your music experience with \u001B[0m\n",
       "\u001B[32mour Ultimate Wireless Bluetooth Earbuds. These earbuds are designed for audiophiles who demand premium sound \u001B[0m\n",
       "\u001B[32mquality and convenience. With advanced Bluetooth 5.0 technology, you\\'ll enjoy seamless connectivity and \u001B[0m\n",
       "\u001B[32mcrystal-clear audio.\", \\'- High-fidelity sound with deep bass and clear treble. - Noise-canceling technology for an\u001B[0m\n",
       "\u001B[32mimmersive listening experience. - 20 hours of playtime on a single charge. - Ergonomic design for a secure and \u001B[0m\n",
       "\u001B[32mcomfortable fit. - Touch controls for easy playback and calls. - IPX7 waterproof rating for...\\'\u001B[0m\u001B[32m)\u001B[0m\u001B[32m]\u001B[0m\u001B[32m'\u001B[0m,\n",
       "                \u001B[33mstart_char_idx\u001B[0m=\u001B[3;35mNone\u001B[0m,\n",
       "                \u001B[33mend_char_idx\u001B[0m=\u001B[3;35mNone\u001B[0m,\n",
       "                \u001B[33mtext_template\u001B[0m=\u001B[32m'\u001B[0m\u001B[32m{\u001B[0m\u001B[32mmetadata_str\u001B[0m\u001B[32m}\u001B[0m\u001B[32m\\n\\n\u001B[0m\u001B[32m{\u001B[0m\u001B[32mcontent\u001B[0m\u001B[32m}\u001B[0m\u001B[32m'\u001B[0m,\n",
       "                \u001B[33mmetadata_template\u001B[0m=\u001B[32m'\u001B[0m\u001B[32m{\u001B[0m\u001B[32mkey\u001B[0m\u001B[32m}\u001B[0m\u001B[32m: \u001B[0m\u001B[32m{\u001B[0m\u001B[32mvalue\u001B[0m\u001B[32m}\u001B[0m\u001B[32m'\u001B[0m,\n",
       "                \u001B[33mmetadata_seperator\u001B[0m=\u001B[32m'\\n'\u001B[0m\n",
       "            \u001B[1m)\u001B[0m,\n",
       "            \u001B[33mscore\u001B[0m=\u001B[3;35mNone\u001B[0m\n",
       "        \u001B[1m)\u001B[0m\n",
       "    \u001B[1m]\u001B[0m,\n",
       "    \u001B[33mmetadata\u001B[0m=\u001B[1m{\u001B[0m\n",
       "        \u001B[32m'ff46a7f9-1a62-4709-b850-bdd4acb880fc'\u001B[0m: \u001B[1m{\u001B[0m\u001B[1m}\u001B[0m,\n",
       "        \u001B[32m'sql_query'\u001B[0m: \u001B[32m\"SELECT Product_Name, Price, Rating, Description, Features\\nFROM product_table\\nWHERE \u001B[0m\n",
       "\u001B[32mProduct_Name LIKE '%Wireless Bluetooth Earbuds%'\"\u001B[0m,\n",
       "        \u001B[32m'result'\u001B[0m: \u001B[1m[\u001B[0m\n",
       "            \u001B[1m(\u001B[0m\n",
       "                \u001B[32m'Ultimate Wireless Bluetooth Earbuds'\u001B[0m,\n",
       "                \u001B[1;36m79.99\u001B[0m,\n",
       "                \u001B[1;36m4.4\u001B[0m,\n",
       "                \u001B[32m\"Elevate your music experience with our Ultimate Wireless Bluetooth Earbuds. These earbuds are \u001B[0m\n",
       "\u001B[32mdesigned for audiophiles who demand premium sound quality and convenience. With advanced Bluetooth 5.0 technology, \u001B[0m\n",
       "\u001B[32myou'll enjoy seamless connectivity and crystal-clear audio.\"\u001B[0m,\n",
       "                \u001B[32m'- High-fidelity sound with deep bass and clear treble. - Noise-canceling technology for an \u001B[0m\n",
       "\u001B[32mimmersive listening experience. - 20 hours of playtime on a single charge. - Ergonomic design for a secure and \u001B[0m\n",
       "\u001B[32mcomfortable fit. - Touch controls for easy playback and calls. - IPX7 waterproof rating for...'\u001B[0m\n",
       "            \u001B[1m)\u001B[0m\n",
       "        \u001B[1m]\u001B[0m,\n",
       "        \u001B[32m'col_keys'\u001B[0m: \u001B[1m[\u001B[0m\u001B[32m'Product_Name'\u001B[0m, \u001B[32m'Price'\u001B[0m, \u001B[32m'Rating'\u001B[0m, \u001B[32m'Description'\u001B[0m, \u001B[32m'Features'\u001B[0m\u001B[1m]\u001B[0m,\n",
       "        \u001B[32m'selector_result'\u001B[0m: \u001B[1;35mMultiSelection\u001B[0m\u001B[1m(\u001B[0m\n",
       "            \u001B[33mselections\u001B[0m=\u001B[1m[\u001B[0m\n",
       "                \u001B[1;35mSingleSelection\u001B[0m\u001B[1m(\u001B[0m\n",
       "                    \u001B[33mindex\u001B[0m=\u001B[1;36m0\u001B[0m,\n",
       "                    \u001B[33mreason\u001B[0m=\u001B[32m'Choice 1 is the most relevant because it mentions translating a natural language query \u001B[0m\n",
       "\u001B[32minto a SQL query over a product listing table, which would be useful for retrieving information about specific \u001B[0m\n",
       "\u001B[32mproducts like Wireless Bluetooth Earbuds.'\u001B[0m\n",
       "                \u001B[1m)\u001B[0m\n",
       "            \u001B[1m]\u001B[0m\n",
       "        \u001B[1m)\u001B[0m\n",
       "    \u001B[1m}\u001B[0m\n",
       "\u001B[1m)\u001B[0m\n"
      ]
     },
     "metadata": {},
     "output_type": "display_data"
    }
   ],
   "source": [
    "print(response)"
   ]
  },
  {
   "cell_type": "code",
   "execution_count": 26,
   "metadata": {},
   "outputs": [
    {
     "data": {
      "text/markdown": [
       "**`Final Response:`** There are 2 products in the product listing that cost 79.99."
      ],
      "text/plain": [
       "<IPython.core.display.Markdown object>"
      ]
     },
     "metadata": {},
     "output_type": "display_data"
    }
   ],
   "source": [
    "response = query_engine.query(\"How many product cost 79.99 in the product listing?\")\n",
    "display_response(response)"
   ]
  },
  {
   "cell_type": "code",
   "execution_count": 24,
   "metadata": {},
   "outputs": [
    {
     "data": {
      "text/html": [
       "<pre style=\"white-space:pre;overflow-x:auto;line-height:normal;font-family:Menlo,'DejaVu Sans Mono',consolas,'Courier New',monospace\"><span style=\"color: #800080; text-decoration-color: #800080; font-weight: bold\">Response</span><span style=\"font-weight: bold\">(</span>\n",
       "    <span style=\"color: #808000; text-decoration-color: #808000\">response</span>=<span style=\"color: #008000; text-decoration-color: #008000\">'The Ultimate Wireless Bluetooth Earbuds are a top choice for audiophiles who value both sound quality</span>\n",
       "<span style=\"color: #008000; text-decoration-color: #008000\">and convenience. With advanced Bluetooth 5.0 technology, these earbuds offer seamless connectivity and </span>\n",
       "<span style=\"color: #008000; text-decoration-color: #008000\">crystal-clear audio. They provide high-fidelity sound with deep bass and clear treble, and also feature </span>\n",
       "<span style=\"color: #008000; text-decoration-color: #008000\">noise-canceling technology for an immersive listening experience. With 20 hours of playtime on a single charge, you</span>\n",
       "<span style=\"color: #008000; text-decoration-color: #008000\">can enjoy your music all day long. The ergonomic design ensures a secure and comfortable fit, and the touch </span>\n",
       "<span style=\"color: #008000; text-decoration-color: #008000\">controls make it easy to control playback and take calls. Additionally, these earbuds have an IPX7 waterproof </span>\n",
       "<span style=\"color: #008000; text-decoration-color: #008000\">rating, making them suitable for outdoor activities.'</span>,\n",
       "    <span style=\"color: #808000; text-decoration-color: #808000\">source_nodes</span>=<span style=\"font-weight: bold\">[</span>\n",
       "        <span style=\"color: #800080; text-decoration-color: #800080; font-weight: bold\">NodeWithScore</span><span style=\"font-weight: bold\">(</span>\n",
       "            <span style=\"color: #808000; text-decoration-color: #808000\">node</span>=<span style=\"color: #800080; text-decoration-color: #800080; font-weight: bold\">TextNode</span><span style=\"font-weight: bold\">(</span>\n",
       "                <span style=\"color: #808000; text-decoration-color: #808000\">id_</span>=<span style=\"color: #008000; text-decoration-color: #008000\">'3561de1c-49ec-4443-9da5-8549f36e5e75'</span>,\n",
       "                <span style=\"color: #808000; text-decoration-color: #808000\">embedding</span>=<span style=\"color: #800080; text-decoration-color: #800080; font-style: italic\">None</span>,\n",
       "                <span style=\"color: #808000; text-decoration-color: #808000\">metadata</span>=<span style=\"font-weight: bold\">{}</span>,\n",
       "                <span style=\"color: #808000; text-decoration-color: #808000\">excluded_embed_metadata_keys</span>=<span style=\"font-weight: bold\">[]</span>,\n",
       "                <span style=\"color: #808000; text-decoration-color: #808000\">excluded_llm_metadata_keys</span>=<span style=\"font-weight: bold\">[]</span>,\n",
       "                <span style=\"color: #808000; text-decoration-color: #808000\">relationships</span>=<span style=\"font-weight: bold\">{}</span>,\n",
       "                <span style=\"color: #808000; text-decoration-color: #808000\">text</span>=<span style=\"color: #008000; text-decoration-color: #008000\">'[(\\'Ultimate Wireless Bluetooth Earbuds\\', 79.99, 4.4, \"Elevate your music experience with </span>\n",
       "<span style=\"color: #008000; text-decoration-color: #008000\">our Ultimate Wireless Bluetooth Earbuds. These earbuds are designed for audiophiles who demand premium sound </span>\n",
       "<span style=\"color: #008000; text-decoration-color: #008000\">quality and convenience. With advanced Bluetooth 5.0 technology, you\\'ll enjoy seamless connectivity and </span>\n",
       "<span style=\"color: #008000; text-decoration-color: #008000\">crystal-clear audio.\", \\'- High-fidelity sound with deep bass and clear treble. - Noise-canceling technology for an</span>\n",
       "<span style=\"color: #008000; text-decoration-color: #008000\">immersive listening experience. - 20 hours of playtime on a single charge. - Ergonomic design for a secure and </span>\n",
       "<span style=\"color: #008000; text-decoration-color: #008000\">comfortable fit. - Touch controls for easy playback and calls. - IPX7 waterproof rating for...\\')]'</span>,\n",
       "                <span style=\"color: #808000; text-decoration-color: #808000\">start_char_idx</span>=<span style=\"color: #800080; text-decoration-color: #800080; font-style: italic\">None</span>,\n",
       "                <span style=\"color: #808000; text-decoration-color: #808000\">end_char_idx</span>=<span style=\"color: #800080; text-decoration-color: #800080; font-style: italic\">None</span>,\n",
       "                <span style=\"color: #808000; text-decoration-color: #808000\">text_template</span>=<span style=\"color: #008000; text-decoration-color: #008000\">'{metadata_str}\\n\\n{content}'</span>,\n",
       "                <span style=\"color: #808000; text-decoration-color: #808000\">metadata_template</span>=<span style=\"color: #008000; text-decoration-color: #008000\">'{key}: {value}'</span>,\n",
       "                <span style=\"color: #808000; text-decoration-color: #808000\">metadata_seperator</span>=<span style=\"color: #008000; text-decoration-color: #008000\">'\\n'</span>\n",
       "            <span style=\"font-weight: bold\">)</span>,\n",
       "            <span style=\"color: #808000; text-decoration-color: #808000\">score</span>=<span style=\"color: #800080; text-decoration-color: #800080; font-style: italic\">None</span>\n",
       "        <span style=\"font-weight: bold\">)</span>\n",
       "    <span style=\"font-weight: bold\">]</span>,\n",
       "    <span style=\"color: #808000; text-decoration-color: #808000\">metadata</span>=<span style=\"font-weight: bold\">{</span>\n",
       "        <span style=\"color: #008000; text-decoration-color: #008000\">'3561de1c-49ec-4443-9da5-8549f36e5e75'</span>: <span style=\"font-weight: bold\">{}</span>,\n",
       "        <span style=\"color: #008000; text-decoration-color: #008000\">'sql_query'</span>: <span style=\"color: #008000; text-decoration-color: #008000\">\"SELECT Product_Name, Price, Rating, Description, Features\\nFROM product_table\\nWHERE </span>\n",
       "<span style=\"color: #008000; text-decoration-color: #008000\">Product_Name LIKE '%Wireless Bluetooth Earbuds%'\"</span>,\n",
       "        <span style=\"color: #008000; text-decoration-color: #008000\">'result'</span>: <span style=\"font-weight: bold\">[</span>\n",
       "            <span style=\"font-weight: bold\">(</span>\n",
       "                <span style=\"color: #008000; text-decoration-color: #008000\">'Ultimate Wireless Bluetooth Earbuds'</span>,\n",
       "                <span style=\"color: #008080; text-decoration-color: #008080; font-weight: bold\">79.99</span>,\n",
       "                <span style=\"color: #008080; text-decoration-color: #008080; font-weight: bold\">4.4</span>,\n",
       "                <span style=\"color: #008000; text-decoration-color: #008000\">\"Elevate your music experience with our Ultimate Wireless Bluetooth Earbuds. These earbuds are </span>\n",
       "<span style=\"color: #008000; text-decoration-color: #008000\">designed for audiophiles who demand premium sound quality and convenience. With advanced Bluetooth 5.0 technology, </span>\n",
       "<span style=\"color: #008000; text-decoration-color: #008000\">you'll enjoy seamless connectivity and crystal-clear audio.\"</span>,\n",
       "                <span style=\"color: #008000; text-decoration-color: #008000\">'- High-fidelity sound with deep bass and clear treble. - Noise-canceling technology for an </span>\n",
       "<span style=\"color: #008000; text-decoration-color: #008000\">immersive listening experience. - 20 hours of playtime on a single charge. - Ergonomic design for a secure and </span>\n",
       "<span style=\"color: #008000; text-decoration-color: #008000\">comfortable fit. - Touch controls for easy playback and calls. - IPX7 waterproof rating for...'</span>\n",
       "            <span style=\"font-weight: bold\">)</span>\n",
       "        <span style=\"font-weight: bold\">]</span>,\n",
       "        <span style=\"color: #008000; text-decoration-color: #008000\">'col_keys'</span>: <span style=\"font-weight: bold\">[</span><span style=\"color: #008000; text-decoration-color: #008000\">'Product_Name'</span>, <span style=\"color: #008000; text-decoration-color: #008000\">'Price'</span>, <span style=\"color: #008000; text-decoration-color: #008000\">'Rating'</span>, <span style=\"color: #008000; text-decoration-color: #008000\">'Description'</span>, <span style=\"color: #008000; text-decoration-color: #008000\">'Features'</span><span style=\"font-weight: bold\">]</span>,\n",
       "        <span style=\"color: #008000; text-decoration-color: #008000\">'selector_result'</span>: <span style=\"color: #800080; text-decoration-color: #800080; font-weight: bold\">MultiSelection</span><span style=\"font-weight: bold\">(</span>\n",
       "            <span style=\"color: #808000; text-decoration-color: #808000\">selections</span>=<span style=\"font-weight: bold\">[</span>\n",
       "                <span style=\"color: #800080; text-decoration-color: #800080; font-weight: bold\">SingleSelection</span><span style=\"font-weight: bold\">(</span>\n",
       "                    <span style=\"color: #808000; text-decoration-color: #808000\">index</span>=<span style=\"color: #008080; text-decoration-color: #008080; font-weight: bold\">0</span>,\n",
       "                    <span style=\"color: #808000; text-decoration-color: #808000\">reason</span>=<span style=\"color: #008000; text-decoration-color: #008000\">'Choice 1 is the most relevant because it mentions translating a natural language query </span>\n",
       "<span style=\"color: #008000; text-decoration-color: #008000\">into a SQL query over a product listing table, which would be useful for retrieving information about specific </span>\n",
       "<span style=\"color: #008000; text-decoration-color: #008000\">products like Wireless Bluetooth Earbuds.'</span>\n",
       "                <span style=\"font-weight: bold\">)</span>\n",
       "            <span style=\"font-weight: bold\">]</span>\n",
       "        <span style=\"font-weight: bold\">)</span>\n",
       "    <span style=\"font-weight: bold\">}</span>\n",
       "<span style=\"font-weight: bold\">)</span>\n",
       "</pre>\n"
      ],
      "text/plain": [
       "\u001B[1;35mResponse\u001B[0m\u001B[1m(\u001B[0m\n",
       "    \u001B[33mresponse\u001B[0m=\u001B[32m'The Ultimate Wireless Bluetooth Earbuds are a top choice for audiophiles who value both sound quality\u001B[0m\n",
       "\u001B[32mand convenience. With advanced Bluetooth 5.0 technology, these earbuds offer seamless connectivity and \u001B[0m\n",
       "\u001B[32mcrystal-clear audio. They provide high-fidelity sound with deep bass and clear treble, and also feature \u001B[0m\n",
       "\u001B[32mnoise-canceling technology for an immersive listening experience. With 20 hours of playtime on a single charge, you\u001B[0m\n",
       "\u001B[32mcan enjoy your music all day long. The ergonomic design ensures a secure and comfortable fit, and the touch \u001B[0m\n",
       "\u001B[32mcontrols make it easy to control playback and take calls. Additionally, these earbuds have an IPX7 waterproof \u001B[0m\n",
       "\u001B[32mrating, making them suitable for outdoor activities.'\u001B[0m,\n",
       "    \u001B[33msource_nodes\u001B[0m=\u001B[1m[\u001B[0m\n",
       "        \u001B[1;35mNodeWithScore\u001B[0m\u001B[1m(\u001B[0m\n",
       "            \u001B[33mnode\u001B[0m=\u001B[1;35mTextNode\u001B[0m\u001B[1m(\u001B[0m\n",
       "                \u001B[33mid_\u001B[0m=\u001B[32m'3561de1c-49ec-4443-9da5-8549f36e5e75'\u001B[0m,\n",
       "                \u001B[33membedding\u001B[0m=\u001B[3;35mNone\u001B[0m,\n",
       "                \u001B[33mmetadata\u001B[0m=\u001B[1m{\u001B[0m\u001B[1m}\u001B[0m,\n",
       "                \u001B[33mexcluded_embed_metadata_keys\u001B[0m=\u001B[1m[\u001B[0m\u001B[1m]\u001B[0m,\n",
       "                \u001B[33mexcluded_llm_metadata_keys\u001B[0m=\u001B[1m[\u001B[0m\u001B[1m]\u001B[0m,\n",
       "                \u001B[33mrelationships\u001B[0m=\u001B[1m{\u001B[0m\u001B[1m}\u001B[0m,\n",
       "                \u001B[33mtext\u001B[0m=\u001B[32m'\u001B[0m\u001B[32m[\u001B[0m\u001B[32m(\u001B[0m\u001B[32m\\'Ultimate Wireless Bluetooth Earbuds\\', 79.99, 4.4, \"Elevate your music experience with \u001B[0m\n",
       "\u001B[32mour Ultimate Wireless Bluetooth Earbuds. These earbuds are designed for audiophiles who demand premium sound \u001B[0m\n",
       "\u001B[32mquality and convenience. With advanced Bluetooth 5.0 technology, you\\'ll enjoy seamless connectivity and \u001B[0m\n",
       "\u001B[32mcrystal-clear audio.\", \\'- High-fidelity sound with deep bass and clear treble. - Noise-canceling technology for an\u001B[0m\n",
       "\u001B[32mimmersive listening experience. - 20 hours of playtime on a single charge. - Ergonomic design for a secure and \u001B[0m\n",
       "\u001B[32mcomfortable fit. - Touch controls for easy playback and calls. - IPX7 waterproof rating for...\\'\u001B[0m\u001B[32m)\u001B[0m\u001B[32m]\u001B[0m\u001B[32m'\u001B[0m,\n",
       "                \u001B[33mstart_char_idx\u001B[0m=\u001B[3;35mNone\u001B[0m,\n",
       "                \u001B[33mend_char_idx\u001B[0m=\u001B[3;35mNone\u001B[0m,\n",
       "                \u001B[33mtext_template\u001B[0m=\u001B[32m'\u001B[0m\u001B[32m{\u001B[0m\u001B[32mmetadata_str\u001B[0m\u001B[32m}\u001B[0m\u001B[32m\\n\\n\u001B[0m\u001B[32m{\u001B[0m\u001B[32mcontent\u001B[0m\u001B[32m}\u001B[0m\u001B[32m'\u001B[0m,\n",
       "                \u001B[33mmetadata_template\u001B[0m=\u001B[32m'\u001B[0m\u001B[32m{\u001B[0m\u001B[32mkey\u001B[0m\u001B[32m}\u001B[0m\u001B[32m: \u001B[0m\u001B[32m{\u001B[0m\u001B[32mvalue\u001B[0m\u001B[32m}\u001B[0m\u001B[32m'\u001B[0m,\n",
       "                \u001B[33mmetadata_seperator\u001B[0m=\u001B[32m'\\n'\u001B[0m\n",
       "            \u001B[1m)\u001B[0m,\n",
       "            \u001B[33mscore\u001B[0m=\u001B[3;35mNone\u001B[0m\n",
       "        \u001B[1m)\u001B[0m\n",
       "    \u001B[1m]\u001B[0m,\n",
       "    \u001B[33mmetadata\u001B[0m=\u001B[1m{\u001B[0m\n",
       "        \u001B[32m'3561de1c-49ec-4443-9da5-8549f36e5e75'\u001B[0m: \u001B[1m{\u001B[0m\u001B[1m}\u001B[0m,\n",
       "        \u001B[32m'sql_query'\u001B[0m: \u001B[32m\"SELECT Product_Name, Price, Rating, Description, Features\\nFROM product_table\\nWHERE \u001B[0m\n",
       "\u001B[32mProduct_Name LIKE '%Wireless Bluetooth Earbuds%'\"\u001B[0m,\n",
       "        \u001B[32m'result'\u001B[0m: \u001B[1m[\u001B[0m\n",
       "            \u001B[1m(\u001B[0m\n",
       "                \u001B[32m'Ultimate Wireless Bluetooth Earbuds'\u001B[0m,\n",
       "                \u001B[1;36m79.99\u001B[0m,\n",
       "                \u001B[1;36m4.4\u001B[0m,\n",
       "                \u001B[32m\"Elevate your music experience with our Ultimate Wireless Bluetooth Earbuds. These earbuds are \u001B[0m\n",
       "\u001B[32mdesigned for audiophiles who demand premium sound quality and convenience. With advanced Bluetooth 5.0 technology, \u001B[0m\n",
       "\u001B[32myou'll enjoy seamless connectivity and crystal-clear audio.\"\u001B[0m,\n",
       "                \u001B[32m'- High-fidelity sound with deep bass and clear treble. - Noise-canceling technology for an \u001B[0m\n",
       "\u001B[32mimmersive listening experience. - 20 hours of playtime on a single charge. - Ergonomic design for a secure and \u001B[0m\n",
       "\u001B[32mcomfortable fit. - Touch controls for easy playback and calls. - IPX7 waterproof rating for...'\u001B[0m\n",
       "            \u001B[1m)\u001B[0m\n",
       "        \u001B[1m]\u001B[0m,\n",
       "        \u001B[32m'col_keys'\u001B[0m: \u001B[1m[\u001B[0m\u001B[32m'Product_Name'\u001B[0m, \u001B[32m'Price'\u001B[0m, \u001B[32m'Rating'\u001B[0m, \u001B[32m'Description'\u001B[0m, \u001B[32m'Features'\u001B[0m\u001B[1m]\u001B[0m,\n",
       "        \u001B[32m'selector_result'\u001B[0m: \u001B[1;35mMultiSelection\u001B[0m\u001B[1m(\u001B[0m\n",
       "            \u001B[33mselections\u001B[0m=\u001B[1m[\u001B[0m\n",
       "                \u001B[1;35mSingleSelection\u001B[0m\u001B[1m(\u001B[0m\n",
       "                    \u001B[33mindex\u001B[0m=\u001B[1;36m0\u001B[0m,\n",
       "                    \u001B[33mreason\u001B[0m=\u001B[32m'Choice 1 is the most relevant because it mentions translating a natural language query \u001B[0m\n",
       "\u001B[32minto a SQL query over a product listing table, which would be useful for retrieving information about specific \u001B[0m\n",
       "\u001B[32mproducts like Wireless Bluetooth Earbuds.'\u001B[0m\n",
       "                \u001B[1m)\u001B[0m\n",
       "            \u001B[1m]\u001B[0m\n",
       "        \u001B[1m)\u001B[0m\n",
       "    \u001B[1m}\u001B[0m\n",
       "\u001B[1m)\u001B[0m\n"
      ]
     },
     "metadata": {},
     "output_type": "display_data"
    }
   ],
   "source": [
    "print(response)"
   ]
  },
  {
   "cell_type": "code",
   "execution_count": 27,
   "metadata": {},
   "outputs": [
    {
     "data": {
      "text/markdown": [
       "**`Final Response:`** There are 2 products similar to Wireless Bluetooth Earbuds."
      ],
      "text/plain": [
       "<IPython.core.display.Markdown object>"
      ]
     },
     "metadata": {},
     "output_type": "display_data"
    }
   ],
   "source": [
    "response = query_engine.query(\"How many product are similar to Wireless Bluetooth Earbuds products?\")\n",
    "display_response(response)"
   ]
  },
  {
   "cell_type": "code",
   "execution_count": null,
   "metadata": {},
   "outputs": [],
   "source": [
    "rprint(response)"
   ]
  },
  {
   "cell_type": "code",
   "execution_count": 28,
   "metadata": {},
   "outputs": [
    {
     "data": {
      "text/markdown": [
       "**`Final Response:`** The products whose descriptions are similar are:\n",
       "1. Organic Bamboo Bed Sheets\n",
       "2. Virtual Reality Headset"
      ],
      "text/plain": [
       "<IPython.core.display.Markdown object>"
      ]
     },
     "metadata": {},
     "output_type": "display_data"
    }
   ],
   "source": [
    "response = query_engine.query(\"list the products whose descriptions are similar.\")\n",
    "display_response(response)"
   ]
  },
  {
   "cell_type": "code",
   "execution_count": 25,
   "metadata": {},
   "outputs": [
    {
     "data": {
      "text/html": [
       "<pre style=\"white-space:pre;overflow-x:auto;line-height:normal;font-family:Menlo,'DejaVu Sans Mono',consolas,'Courier New',monospace\"><span style=\"font-weight: bold\">{</span>\n",
       "    <span style=\"color: #008000; text-decoration-color: #008000\">'3561de1c-49ec-4443-9da5-8549f36e5e75'</span>: <span style=\"font-weight: bold\">{}</span>,\n",
       "    <span style=\"color: #008000; text-decoration-color: #008000\">'sql_query'</span>: <span style=\"color: #008000; text-decoration-color: #008000\">\"SELECT Product_Name, Price, Rating, Description, Features\\nFROM product_table\\nWHERE Product_Name</span>\n",
       "<span style=\"color: #008000; text-decoration-color: #008000\">LIKE '%Wireless Bluetooth Earbuds%'\"</span>,\n",
       "    <span style=\"color: #008000; text-decoration-color: #008000\">'result'</span>: <span style=\"font-weight: bold\">[</span>\n",
       "        <span style=\"font-weight: bold\">(</span>\n",
       "            <span style=\"color: #008000; text-decoration-color: #008000\">'Ultimate Wireless Bluetooth Earbuds'</span>,\n",
       "            <span style=\"color: #008080; text-decoration-color: #008080; font-weight: bold\">79.99</span>,\n",
       "            <span style=\"color: #008080; text-decoration-color: #008080; font-weight: bold\">4.4</span>,\n",
       "            <span style=\"color: #008000; text-decoration-color: #008000\">\"Elevate your music experience with our Ultimate Wireless Bluetooth Earbuds. These earbuds are designed</span>\n",
       "<span style=\"color: #008000; text-decoration-color: #008000\">for audiophiles who demand premium sound quality and convenience. With advanced Bluetooth 5.0 technology, you'll </span>\n",
       "<span style=\"color: #008000; text-decoration-color: #008000\">enjoy seamless connectivity and crystal-clear audio.\"</span>,\n",
       "            <span style=\"color: #008000; text-decoration-color: #008000\">'- High-fidelity sound with deep bass and clear treble. - Noise-canceling technology for an immersive </span>\n",
       "<span style=\"color: #008000; text-decoration-color: #008000\">listening experience. - 20 hours of playtime on a single charge. - Ergonomic design for a secure and comfortable </span>\n",
       "<span style=\"color: #008000; text-decoration-color: #008000\">fit. - Touch controls for easy playback and calls. - IPX7 waterproof rating for...'</span>\n",
       "        <span style=\"font-weight: bold\">)</span>\n",
       "    <span style=\"font-weight: bold\">]</span>,\n",
       "    <span style=\"color: #008000; text-decoration-color: #008000\">'col_keys'</span>: <span style=\"font-weight: bold\">[</span><span style=\"color: #008000; text-decoration-color: #008000\">'Product_Name'</span>, <span style=\"color: #008000; text-decoration-color: #008000\">'Price'</span>, <span style=\"color: #008000; text-decoration-color: #008000\">'Rating'</span>, <span style=\"color: #008000; text-decoration-color: #008000\">'Description'</span>, <span style=\"color: #008000; text-decoration-color: #008000\">'Features'</span><span style=\"font-weight: bold\">]</span>,\n",
       "    <span style=\"color: #008000; text-decoration-color: #008000\">'selector_result'</span>: <span style=\"color: #800080; text-decoration-color: #800080; font-weight: bold\">MultiSelection</span><span style=\"font-weight: bold\">(</span>\n",
       "        <span style=\"color: #808000; text-decoration-color: #808000\">selections</span>=<span style=\"font-weight: bold\">[</span>\n",
       "            <span style=\"color: #800080; text-decoration-color: #800080; font-weight: bold\">SingleSelection</span><span style=\"font-weight: bold\">(</span>\n",
       "                <span style=\"color: #808000; text-decoration-color: #808000\">index</span>=<span style=\"color: #008080; text-decoration-color: #008080; font-weight: bold\">0</span>,\n",
       "                <span style=\"color: #808000; text-decoration-color: #808000\">reason</span>=<span style=\"color: #008000; text-decoration-color: #008000\">'Choice 1 is the most relevant because it mentions translating a natural language query into</span>\n",
       "<span style=\"color: #008000; text-decoration-color: #008000\">a SQL query over a product listing table, which would be useful for retrieving information about specific products </span>\n",
       "<span style=\"color: #008000; text-decoration-color: #008000\">like Wireless Bluetooth Earbuds.'</span>\n",
       "            <span style=\"font-weight: bold\">)</span>\n",
       "        <span style=\"font-weight: bold\">]</span>\n",
       "    <span style=\"font-weight: bold\">)</span>\n",
       "<span style=\"font-weight: bold\">}</span>\n",
       "</pre>\n"
      ],
      "text/plain": [
       "\u001B[1m{\u001B[0m\n",
       "    \u001B[32m'3561de1c-49ec-4443-9da5-8549f36e5e75'\u001B[0m: \u001B[1m{\u001B[0m\u001B[1m}\u001B[0m,\n",
       "    \u001B[32m'sql_query'\u001B[0m: \u001B[32m\"SELECT Product_Name, Price, Rating, Description, Features\\nFROM product_table\\nWHERE Product_Name\u001B[0m\n",
       "\u001B[32mLIKE '%Wireless Bluetooth Earbuds%'\"\u001B[0m,\n",
       "    \u001B[32m'result'\u001B[0m: \u001B[1m[\u001B[0m\n",
       "        \u001B[1m(\u001B[0m\n",
       "            \u001B[32m'Ultimate Wireless Bluetooth Earbuds'\u001B[0m,\n",
       "            \u001B[1;36m79.99\u001B[0m,\n",
       "            \u001B[1;36m4.4\u001B[0m,\n",
       "            \u001B[32m\"Elevate your music experience with our Ultimate Wireless Bluetooth Earbuds. These earbuds are designed\u001B[0m\n",
       "\u001B[32mfor audiophiles who demand premium sound quality and convenience. With advanced Bluetooth 5.0 technology, you'll \u001B[0m\n",
       "\u001B[32menjoy seamless connectivity and crystal-clear audio.\"\u001B[0m,\n",
       "            \u001B[32m'- High-fidelity sound with deep bass and clear treble. - Noise-canceling technology for an immersive \u001B[0m\n",
       "\u001B[32mlistening experience. - 20 hours of playtime on a single charge. - Ergonomic design for a secure and comfortable \u001B[0m\n",
       "\u001B[32mfit. - Touch controls for easy playback and calls. - IPX7 waterproof rating for...'\u001B[0m\n",
       "        \u001B[1m)\u001B[0m\n",
       "    \u001B[1m]\u001B[0m,\n",
       "    \u001B[32m'col_keys'\u001B[0m: \u001B[1m[\u001B[0m\u001B[32m'Product_Name'\u001B[0m, \u001B[32m'Price'\u001B[0m, \u001B[32m'Rating'\u001B[0m, \u001B[32m'Description'\u001B[0m, \u001B[32m'Features'\u001B[0m\u001B[1m]\u001B[0m,\n",
       "    \u001B[32m'selector_result'\u001B[0m: \u001B[1;35mMultiSelection\u001B[0m\u001B[1m(\u001B[0m\n",
       "        \u001B[33mselections\u001B[0m=\u001B[1m[\u001B[0m\n",
       "            \u001B[1;35mSingleSelection\u001B[0m\u001B[1m(\u001B[0m\n",
       "                \u001B[33mindex\u001B[0m=\u001B[1;36m0\u001B[0m,\n",
       "                \u001B[33mreason\u001B[0m=\u001B[32m'Choice 1 is the most relevant because it mentions translating a natural language query into\u001B[0m\n",
       "\u001B[32ma SQL query over a product listing table, which would be useful for retrieving information about specific products \u001B[0m\n",
       "\u001B[32mlike Wireless Bluetooth Earbuds.'\u001B[0m\n",
       "            \u001B[1m)\u001B[0m\n",
       "        \u001B[1m]\u001B[0m\n",
       "    \u001B[1m)\u001B[0m\n",
       "\u001B[1m}\u001B[0m\n"
      ]
     },
     "metadata": {},
     "output_type": "display_data"
    }
   ],
   "source": [
    "print(response.metadata)"
   ]
  },
  {
   "cell_type": "code",
   "execution_count": 31,
   "metadata": {},
   "outputs": [
    {
     "data": {
      "text/html": [
       "<pre style=\"white-space:pre;overflow-x:auto;line-height:normal;font-family:Menlo,'DejaVu Sans Mono',consolas,'Courier New',monospace\"><span style=\"font-weight: bold\">[</span><span style=\"color: #008000; text-decoration-color: #008000\">'Experience ultimate comfort with our Organic Bamboo Bed Sheets. These luxuriously soft sheets are made from </span>\n",
       "<span style=\"color: #008000; text-decoration-color: #008000\">sustainable and breathable bamboo fibers.'</span>\n",
       " <span style=\"color: #008000; text-decoration-color: #008000\">'Immerse yourself in virtual worlds with our Virtual Reality Headset. Experience gaming, entertainment, and </span>\n",
       "<span style=\"color: #008000; text-decoration-color: #008000\">exploration like never before.'</span><span style=\"font-weight: bold\">]</span>\n",
       "</pre>\n"
      ],
      "text/plain": [
       "\u001B[1m[\u001B[0m\u001B[32m'Experience ultimate comfort with our Organic Bamboo Bed Sheets. These luxuriously soft sheets are made from \u001B[0m\n",
       "\u001B[32msustainable and breathable bamboo fibers.'\u001B[0m\n",
       " \u001B[32m'Immerse yourself in virtual worlds with our Virtual Reality Headset. Experience gaming, entertainment, and \u001B[0m\n",
       "\u001B[32mexploration like never before.'\u001B[0m\u001B[1m]\u001B[0m\n"
      ]
     },
     "metadata": {},
     "output_type": "display_data"
    }
   ],
   "source": [
    "rprint(data.loc[data.Product_Name.isin(('Organic Bamboo Bed Sheets', 'Virtual Reality Headset')), \"Description\"].values)"
   ]
  },
  {
   "cell_type": "code",
   "execution_count": 29,
   "metadata": {},
   "outputs": [
    {
     "data": {
      "text/markdown": [
       "**`Final Response:`** The product that has 'heart rate' in its description is the Fitness Tracker Smartwatch."
      ],
      "text/plain": [
       "<IPython.core.display.Markdown object>"
      ]
     },
     "metadata": {},
     "output_type": "display_data"
    }
   ],
   "source": [
    "response = query_engine.query(\"Which product has 'heart rate' in its description\")\n",
    "display_response(response)"
   ]
  },
  {
   "cell_type": "code",
   "execution_count": 84,
   "metadata": {},
   "outputs": [
    {
     "data": {
      "text/html": [
       "<pre style=\"white-space:pre;overflow-x:auto;line-height:normal;font-family:Menlo,'DejaVu Sans Mono',consolas,'Courier New',monospace\"><span style=\"color: #800080; text-decoration-color: #800080; font-weight: bold\">Response</span><span style=\"font-weight: bold\">(</span>\n",
       "    <span style=\"color: #808000; text-decoration-color: #808000\">response</span>=<span style=\"color: #008000; text-decoration-color: #008000\">\"The product that has 'heart rate' in its description is the Fitness Tracker Smartwatch.\"</span>,\n",
       "    <span style=\"color: #808000; text-decoration-color: #808000\">source_nodes</span>=<span style=\"font-weight: bold\">[</span>\n",
       "        <span style=\"color: #800080; text-decoration-color: #800080; font-weight: bold\">NodeWithScore</span><span style=\"font-weight: bold\">(</span>\n",
       "            <span style=\"color: #808000; text-decoration-color: #808000\">node</span>=<span style=\"color: #800080; text-decoration-color: #800080; font-weight: bold\">TextNode</span><span style=\"font-weight: bold\">(</span>\n",
       "                <span style=\"color: #808000; text-decoration-color: #808000\">id_</span>=<span style=\"color: #008000; text-decoration-color: #008000\">'0dbf45a2-3a3c-497b-bb2e-d57eca866a37'</span>,\n",
       "                <span style=\"color: #808000; text-decoration-color: #808000\">embedding</span>=<span style=\"color: #800080; text-decoration-color: #800080; font-style: italic\">None</span>,\n",
       "                <span style=\"color: #808000; text-decoration-color: #808000\">metadata</span>=<span style=\"font-weight: bold\">{}</span>,\n",
       "                <span style=\"color: #808000; text-decoration-color: #808000\">excluded_embed_metadata_keys</span>=<span style=\"font-weight: bold\">[]</span>,\n",
       "                <span style=\"color: #808000; text-decoration-color: #808000\">excluded_llm_metadata_keys</span>=<span style=\"font-weight: bold\">[]</span>,\n",
       "                <span style=\"color: #808000; text-decoration-color: #808000\">relationships</span>=<span style=\"font-weight: bold\">{}</span>,\n",
       "                <span style=\"color: #808000; text-decoration-color: #808000\">text</span>=<span style=\"color: #008000; text-decoration-color: #008000\">\"[('Fitness Tracker Smartwatch',)]\"</span>,\n",
       "                <span style=\"color: #808000; text-decoration-color: #808000\">start_char_idx</span>=<span style=\"color: #800080; text-decoration-color: #800080; font-style: italic\">None</span>,\n",
       "                <span style=\"color: #808000; text-decoration-color: #808000\">end_char_idx</span>=<span style=\"color: #800080; text-decoration-color: #800080; font-style: italic\">None</span>,\n",
       "                <span style=\"color: #808000; text-decoration-color: #808000\">text_template</span>=<span style=\"color: #008000; text-decoration-color: #008000\">'{metadata_str}\\n\\n{content}'</span>,\n",
       "                <span style=\"color: #808000; text-decoration-color: #808000\">metadata_template</span>=<span style=\"color: #008000; text-decoration-color: #008000\">'{key}: {value}'</span>,\n",
       "                <span style=\"color: #808000; text-decoration-color: #808000\">metadata_seperator</span>=<span style=\"color: #008000; text-decoration-color: #008000\">'\\n'</span>\n",
       "            <span style=\"font-weight: bold\">)</span>,\n",
       "            <span style=\"color: #808000; text-decoration-color: #808000\">score</span>=<span style=\"color: #800080; text-decoration-color: #800080; font-style: italic\">None</span>\n",
       "        <span style=\"font-weight: bold\">)</span>\n",
       "    <span style=\"font-weight: bold\">]</span>,\n",
       "    <span style=\"color: #808000; text-decoration-color: #808000\">metadata</span>=<span style=\"font-weight: bold\">{</span>\n",
       "        <span style=\"color: #008000; text-decoration-color: #008000\">'0dbf45a2-3a3c-497b-bb2e-d57eca866a37'</span>: <span style=\"font-weight: bold\">{}</span>,\n",
       "        <span style=\"color: #008000; text-decoration-color: #008000\">'sql_query'</span>: <span style=\"color: #008000; text-decoration-color: #008000\">\"SELECT Product_Name\\nFROM product_table\\nWHERE Description LIKE '%heart rate%'\"</span>,\n",
       "        <span style=\"color: #008000; text-decoration-color: #008000\">'result'</span>: <span style=\"font-weight: bold\">[(</span><span style=\"color: #008000; text-decoration-color: #008000\">'Fitness Tracker Smartwatch'</span>,<span style=\"font-weight: bold\">)]</span>,\n",
       "        <span style=\"color: #008000; text-decoration-color: #008000\">'col_keys'</span>: <span style=\"font-weight: bold\">[</span><span style=\"color: #008000; text-decoration-color: #008000\">'Product_Name'</span><span style=\"font-weight: bold\">]</span>,\n",
       "        <span style=\"color: #008000; text-decoration-color: #008000\">'selector_result'</span>: <span style=\"color: #800080; text-decoration-color: #800080; font-weight: bold\">MultiSelection</span><span style=\"font-weight: bold\">(</span>\n",
       "            <span style=\"color: #808000; text-decoration-color: #808000\">selections</span>=<span style=\"font-weight: bold\">[</span>\n",
       "                <span style=\"color: #800080; text-decoration-color: #800080; font-weight: bold\">SingleSelection</span><span style=\"font-weight: bold\">(</span>\n",
       "                    <span style=\"color: #808000; text-decoration-color: #808000\">index</span>=<span style=\"color: #008080; text-decoration-color: #008080; font-weight: bold\">0</span>,\n",
       "                    <span style=\"color: #808000; text-decoration-color: #808000\">reason</span>=<span style=\"color: #008000; text-decoration-color: #008000\">'Choice 1 is most relevant because it mentions translating a natural language query into</span>\n",
       "<span style=\"color: #008000; text-decoration-color: #008000\">a SQL query over a table containing product listings, which would include descriptions of each product. This </span>\n",
       "<span style=\"color: #008000; text-decoration-color: #008000\">suggests that it would be able to handle a query about the description of a product.'</span>\n",
       "                <span style=\"font-weight: bold\">)</span>\n",
       "            <span style=\"font-weight: bold\">]</span>\n",
       "        <span style=\"font-weight: bold\">)</span>\n",
       "    <span style=\"font-weight: bold\">}</span>\n",
       "<span style=\"font-weight: bold\">)</span>\n",
       "</pre>\n"
      ],
      "text/plain": [
       "\u001B[1;35mResponse\u001B[0m\u001B[1m(\u001B[0m\n",
       "    \u001B[33mresponse\u001B[0m=\u001B[32m\"The\u001B[0m\u001B[32m product that has 'heart rate' in its description is the Fitness Tracker Smartwatch.\"\u001B[0m,\n",
       "    \u001B[33msource_nodes\u001B[0m=\u001B[1m[\u001B[0m\n",
       "        \u001B[1;35mNodeWithScore\u001B[0m\u001B[1m(\u001B[0m\n",
       "            \u001B[33mnode\u001B[0m=\u001B[1;35mTextNode\u001B[0m\u001B[1m(\u001B[0m\n",
       "                \u001B[33mid_\u001B[0m=\u001B[32m'0dbf45a2-3a3c-497b-bb2e-d57eca866a37'\u001B[0m,\n",
       "                \u001B[33membedding\u001B[0m=\u001B[3;35mNone\u001B[0m,\n",
       "                \u001B[33mmetadata\u001B[0m=\u001B[1m{\u001B[0m\u001B[1m}\u001B[0m,\n",
       "                \u001B[33mexcluded_embed_metadata_keys\u001B[0m=\u001B[1m[\u001B[0m\u001B[1m]\u001B[0m,\n",
       "                \u001B[33mexcluded_llm_metadata_keys\u001B[0m=\u001B[1m[\u001B[0m\u001B[1m]\u001B[0m,\n",
       "                \u001B[33mrelationships\u001B[0m=\u001B[1m{\u001B[0m\u001B[1m}\u001B[0m,\n",
       "                \u001B[33mtext\u001B[0m=\u001B[32m\"\u001B[0m\u001B[32m[\u001B[0m\u001B[32m(\u001B[0m\u001B[32m'Fitness Tracker Smartwatch',\u001B[0m\u001B[32m)\u001B[0m\u001B[32m]\u001B[0m\u001B[32m\"\u001B[0m,\n",
       "                \u001B[33mstart_char_idx\u001B[0m=\u001B[3;35mNone\u001B[0m,\n",
       "                \u001B[33mend_char_idx\u001B[0m=\u001B[3;35mNone\u001B[0m,\n",
       "                \u001B[33mtext_template\u001B[0m=\u001B[32m'\u001B[0m\u001B[32m{\u001B[0m\u001B[32mmetadata_str\u001B[0m\u001B[32m}\u001B[0m\u001B[32m\\n\\n\u001B[0m\u001B[32m{\u001B[0m\u001B[32mcontent\u001B[0m\u001B[32m}\u001B[0m\u001B[32m'\u001B[0m,\n",
       "                \u001B[33mmetadata_template\u001B[0m=\u001B[32m'\u001B[0m\u001B[32m{\u001B[0m\u001B[32mkey\u001B[0m\u001B[32m}\u001B[0m\u001B[32m: \u001B[0m\u001B[32m{\u001B[0m\u001B[32mvalue\u001B[0m\u001B[32m}\u001B[0m\u001B[32m'\u001B[0m,\n",
       "                \u001B[33mmetadata_seperator\u001B[0m=\u001B[32m'\\n'\u001B[0m\n",
       "            \u001B[1m)\u001B[0m,\n",
       "            \u001B[33mscore\u001B[0m=\u001B[3;35mNone\u001B[0m\n",
       "        \u001B[1m)\u001B[0m\n",
       "    \u001B[1m]\u001B[0m,\n",
       "    \u001B[33mmetadata\u001B[0m=\u001B[1m{\u001B[0m\n",
       "        \u001B[32m'0dbf45a2-3a3c-497b-bb2e-d57eca866a37'\u001B[0m: \u001B[1m{\u001B[0m\u001B[1m}\u001B[0m,\n",
       "        \u001B[32m'sql_query'\u001B[0m: \u001B[32m\"SELECT Product_Name\\nFROM product_table\\nWHERE Description LIKE '%heart rate%'\"\u001B[0m,\n",
       "        \u001B[32m'result'\u001B[0m: \u001B[1m[\u001B[0m\u001B[1m(\u001B[0m\u001B[32m'Fitness Tracker Smartwatch'\u001B[0m,\u001B[1m)\u001B[0m\u001B[1m]\u001B[0m,\n",
       "        \u001B[32m'col_keys'\u001B[0m: \u001B[1m[\u001B[0m\u001B[32m'Product_Name'\u001B[0m\u001B[1m]\u001B[0m,\n",
       "        \u001B[32m'selector_result'\u001B[0m: \u001B[1;35mMultiSelection\u001B[0m\u001B[1m(\u001B[0m\n",
       "            \u001B[33mselections\u001B[0m=\u001B[1m[\u001B[0m\n",
       "                \u001B[1;35mSingleSelection\u001B[0m\u001B[1m(\u001B[0m\n",
       "                    \u001B[33mindex\u001B[0m=\u001B[1;36m0\u001B[0m,\n",
       "                    \u001B[33mreason\u001B[0m=\u001B[32m'Choice 1 is most relevant because it mentions translating a natural language query into\u001B[0m\n",
       "\u001B[32ma SQL query over a table containing product listings, which would include descriptions of each product. This \u001B[0m\n",
       "\u001B[32msuggests that it would be able to handle a query about the description of a product.'\u001B[0m\n",
       "                \u001B[1m)\u001B[0m\n",
       "            \u001B[1m]\u001B[0m\n",
       "        \u001B[1m)\u001B[0m\n",
       "    \u001B[1m}\u001B[0m\n",
       "\u001B[1m)\u001B[0m\n"
      ]
     },
     "metadata": {},
     "output_type": "display_data"
    }
   ],
   "source": [
    "rprint(response)"
   ]
  },
  {
   "cell_type": "code",
   "execution_count": 26,
   "metadata": {},
   "outputs": [
    {
     "data": {
      "text/markdown": [
       "**`Final Response:`** The sum of all prices for all products whose price is $79.99 is $159.98."
      ],
      "text/plain": [
       "<IPython.core.display.Markdown object>"
      ]
     },
     "metadata": {},
     "output_type": "display_data"
    }
   ],
   "source": [
    "response = query_engine.query(\"What is the sum of all prices for all products whose price is $79.99?\")\n",
    "display_response(response)"
   ]
  },
  {
   "cell_type": "code",
   "execution_count": 27,
   "metadata": {},
   "outputs": [
    {
     "data": {
      "text/html": [
       "<pre style=\"white-space:pre;overflow-x:auto;line-height:normal;font-family:Menlo,'DejaVu Sans Mono',consolas,'Courier New',monospace\"><span style=\"font-weight: bold\">{</span>\n",
       "    <span style=\"color: #008000; text-decoration-color: #008000\">'7e085356-b365-4375-bb5b-5af1c947b231'</span>: <span style=\"font-weight: bold\">{}</span>,\n",
       "    <span style=\"color: #008000; text-decoration-color: #008000\">'sql_query'</span>: <span style=\"color: #008000; text-decoration-color: #008000\">'SELECT SUM(Price) FROM product_table WHERE Price = 79.99'</span>,\n",
       "    <span style=\"color: #008000; text-decoration-color: #008000\">'result'</span>: <span style=\"font-weight: bold\">[(</span><span style=\"color: #008080; text-decoration-color: #008080; font-weight: bold\">159.98</span>,<span style=\"font-weight: bold\">)]</span>,\n",
       "    <span style=\"color: #008000; text-decoration-color: #008000\">'col_keys'</span>: <span style=\"font-weight: bold\">[</span><span style=\"color: #008000; text-decoration-color: #008000\">'SUM(Price)'</span><span style=\"font-weight: bold\">]</span>,\n",
       "    <span style=\"color: #008000; text-decoration-color: #008000\">'selector_result'</span>: <span style=\"color: #800080; text-decoration-color: #800080; font-weight: bold\">MultiSelection</span><span style=\"font-weight: bold\">(</span>\n",
       "        <span style=\"color: #808000; text-decoration-color: #808000\">selections</span>=<span style=\"font-weight: bold\">[</span>\n",
       "            <span style=\"color: #800080; text-decoration-color: #800080; font-weight: bold\">SingleSelection</span><span style=\"font-weight: bold\">(</span>\n",
       "                <span style=\"color: #808000; text-decoration-color: #808000\">index</span>=<span style=\"color: #008080; text-decoration-color: #008080; font-weight: bold\">0</span>,\n",
       "                <span style=\"color: #808000; text-decoration-color: #808000\">reason</span>=<span style=\"color: #008000; text-decoration-color: #008000\">'Choice 1 is the most relevant because it mentions translating a natural language query into</span>\n",
       "<span style=\"color: #008000; text-decoration-color: #008000\">a SQL query, which is exactly what is needed to find the sum of all prices for products with a specific price.'</span>\n",
       "            <span style=\"font-weight: bold\">)</span>\n",
       "        <span style=\"font-weight: bold\">]</span>\n",
       "    <span style=\"font-weight: bold\">)</span>\n",
       "<span style=\"font-weight: bold\">}</span>\n",
       "</pre>\n"
      ],
      "text/plain": [
       "\u001B[1m{\u001B[0m\n",
       "    \u001B[32m'7e085356-b365-4375-bb5b-5af1c947b231'\u001B[0m: \u001B[1m{\u001B[0m\u001B[1m}\u001B[0m,\n",
       "    \u001B[32m'sql_query'\u001B[0m: \u001B[32m'SELECT SUM\u001B[0m\u001B[32m(\u001B[0m\u001B[32mPrice\u001B[0m\u001B[32m)\u001B[0m\u001B[32m FROM product_table WHERE Price = 79.99'\u001B[0m,\n",
       "    \u001B[32m'result'\u001B[0m: \u001B[1m[\u001B[0m\u001B[1m(\u001B[0m\u001B[1;36m159.98\u001B[0m,\u001B[1m)\u001B[0m\u001B[1m]\u001B[0m,\n",
       "    \u001B[32m'col_keys'\u001B[0m: \u001B[1m[\u001B[0m\u001B[32m'SUM\u001B[0m\u001B[32m(\u001B[0m\u001B[32mPrice\u001B[0m\u001B[32m)\u001B[0m\u001B[32m'\u001B[0m\u001B[1m]\u001B[0m,\n",
       "    \u001B[32m'selector_result'\u001B[0m: \u001B[1;35mMultiSelection\u001B[0m\u001B[1m(\u001B[0m\n",
       "        \u001B[33mselections\u001B[0m=\u001B[1m[\u001B[0m\n",
       "            \u001B[1;35mSingleSelection\u001B[0m\u001B[1m(\u001B[0m\n",
       "                \u001B[33mindex\u001B[0m=\u001B[1;36m0\u001B[0m,\n",
       "                \u001B[33mreason\u001B[0m=\u001B[32m'Choice 1 is the most relevant because it mentions translating a natural language query into\u001B[0m\n",
       "\u001B[32ma SQL query, which is exactly what is needed to find the sum of all prices for products with a specific price.'\u001B[0m\n",
       "            \u001B[1m)\u001B[0m\n",
       "        \u001B[1m]\u001B[0m\n",
       "    \u001B[1m)\u001B[0m\n",
       "\u001B[1m}\u001B[0m\n"
      ]
     },
     "metadata": {},
     "output_type": "display_data"
    }
   ],
   "source": [
    "print(response.metadata)"
   ]
  },
  {
   "attachments": {},
   "cell_type": "markdown",
   "metadata": {},
   "source": [
    "## Self Correcting query"
   ]
  },
  {
   "attachments": {},
   "cell_type": "markdown",
   "metadata": {},
   "source": [
    "### Retry Query Engine"
   ]
  },
  {
   "cell_type": "code",
   "execution_count": 28,
   "metadata": {},
   "outputs": [
    {
     "data": {
      "text/markdown": [
       "**`Final Response:`** The sum of all prices for all products whose price is $79.99 is $159.98."
      ],
      "text/plain": [
       "<IPython.core.display.Markdown object>"
      ]
     },
     "metadata": {},
     "output_type": "display_data"
    }
   ],
   "source": [
    "query_response_evaluator = RelevancyEvaluator()\n",
    "retry_query_engine = RetryQueryEngine(\n",
    "    query_engine, query_response_evaluator\n",
    ")\n",
    "retry_response = retry_query_engine.query(\"What is the sum of all prices for all products whose price is $79.99?\")\n",
    "display_response(retry_response)"
   ]
  },
  {
   "attachments": {},
   "cell_type": "markdown",
   "metadata": {},
   "source": [
    "### Retry Source Query Engine"
   ]
  },
  {
   "cell_type": "code",
   "execution_count": 29,
   "metadata": {},
   "outputs": [
    {
     "data": {
      "text/markdown": [
       "**`Final Response:`** The products whose descriptions are similar are:\n",
       "1. Organic Bamboo Bed Sheets\n",
       "2. Virtual Reality Headset"
      ],
      "text/plain": [
       "<IPython.core.display.Markdown object>"
      ]
     },
     "metadata": {},
     "output_type": "display_data"
    }
   ],
   "source": [
    "retry_source_query_engine = RetrySourceQueryEngine(\n",
    "    query_engine, query_response_evaluator\n",
    ")\n",
    "retry_source_response = retry_source_query_engine.query(\"list the products whose descriptions are similar.\")\n",
    "display_response(retry_source_response)\n"
   ]
  },
  {
   "attachments": {},
   "cell_type": "markdown",
   "metadata": {},
   "source": [
    "## Customize Retry Guideline Query Engine"
   ]
  },
  {
   "cell_type": "code",
   "execution_count": 30,
   "metadata": {},
   "outputs": [],
   "source": [
    "# Guideline eval\n",
    "guideline_eval = GuidelineEvaluator(\n",
    "    guidelines=DEFAULT_GUIDELINES\n",
    "    + \"\\nThe response should not be overly long.\\n\"\n",
    "    \"The response should try to summarize where possible.\\n\"\n",
    "    \"First, answer the question\\n\"\n",
    "    \"Second provide the reason, why you choose that answer.\\n\"\n",
    ")  # just for example"
   ]
  },
  {
   "cell_type": "code",
   "execution_count": 31,
   "metadata": {},
   "outputs": [
    {
     "data": {
      "text/html": [
       "<pre style=\"white-space:pre;overflow-x:auto;line-height:normal;font-family:Menlo,'DejaVu Sans Mono',consolas,'Courier New',monospace\">Guideline eval evaluation result: The response does not fully answer the query. It only lists two products without \n",
       "providing any explanation or reason for why they are considered similar. Additionally, the response does not use \n",
       "any statistics or numbers to support the claim. The response is also vague and lacks specificity. It should provide\n",
       "more details and examples to better address the query.\n",
       "</pre>\n"
      ],
      "text/plain": [
       "Guideline eval evaluation result: The response does not fully answer the query. It only lists two products without \n",
       "providing any explanation or reason for why they are considered similar. Additionally, the response does not use \n",
       "any statistics or numbers to support the claim. The response is also vague and lacks specificity. It should provide\n",
       "more details and examples to better address the query.\n"
      ]
     },
     "metadata": {},
     "output_type": "display_data"
    },
    {
     "data": {
      "text/html": [
       "<pre style=\"white-space:pre;overflow-x:auto;line-height:normal;font-family:Menlo,'DejaVu Sans Mono',consolas,'Courier New',monospace\">Transformed query: Here is a previous bad answer.\n",
       "The products whose descriptions are similar are:\n",
       "<span style=\"color: #008080; text-decoration-color: #008080; font-weight: bold\">1</span>. Organic Bamboo Bed Sheets\n",
       "<span style=\"color: #008080; text-decoration-color: #008080; font-weight: bold\">2</span>. Virtual Reality Headset\n",
       "Here is some feedback from the evaluator about the response given.\n",
       "The response does not fully answer the query. It only lists two products without providing any explanation or \n",
       "reason for why they are considered similar. Additionally, the response does not use any statistics or numbers to \n",
       "support the claim. The response is also vague and lacks specificity. It should provide more details and examples to\n",
       "better address the query.\n",
       "Now answer the question.\n",
       "list the products and provide an explanation for why their descriptions are considered similar.\n",
       "</pre>\n"
      ],
      "text/plain": [
       "Transformed query: Here is a previous bad answer.\n",
       "The products whose descriptions are similar are:\n",
       "\u001B[1;36m1\u001B[0m. Organic Bamboo Bed Sheets\n",
       "\u001B[1;36m2\u001B[0m. Virtual Reality Headset\n",
       "Here is some feedback from the evaluator about the response given.\n",
       "The response does not fully answer the query. It only lists two products without providing any explanation or \n",
       "reason for why they are considered similar. Additionally, the response does not use any statistics or numbers to \n",
       "support the claim. The response is also vague and lacks specificity. It should provide more details and examples to\n",
       "better address the query.\n",
       "Now answer the question.\n",
       "list the products and provide an explanation for why their descriptions are considered similar.\n"
      ]
     },
     "metadata": {},
     "output_type": "display_data"
    }
   ],
   "source": [
    "query = \"list the products whose descriptions are similar.\"\n",
    "typed_response = (\n",
    "    retry_source_response if isinstance(retry_source_response, Response) else retry_source_response.get_response()\n",
    ")\n",
    "eval = guideline_eval.evaluate_response(query, typed_response)\n",
    "print(f\"Guideline eval evaluation result: {eval.feedback}\")\n",
    "\n",
    "feedback_query_transform = FeedbackQueryTransformation(resynthesize_query=True)\n",
    "transformed_query = feedback_query_transform.run(query, {\"evaluation\": eval})\n",
    "print(f\"Transformed query: {transformed_query.query_str}\")"
   ]
  },
  {
   "cell_type": "code",
   "execution_count": 64,
   "metadata": {},
   "outputs": [
    {
     "data": {
      "text/markdown": [
       "**`Final Response:`** The products with similar descriptions are the Organic Bamboo Bed Sheets, Virtual Reality Headset, and Organic Herbal Tea Collection."
      ],
      "text/plain": [
       "<IPython.core.display.Markdown object>"
      ]
     },
     "metadata": {},
     "output_type": "display_data"
    }
   ],
   "source": [
    "retry_guideline_query_engine = RetryGuidelineQueryEngine(\n",
    "    query_engine, guideline_eval, resynthesize_query=True, \n",
    "     max_retries=2,)\n",
    "retry_guideline_response = retry_guideline_query_engine.query(query)\n",
    "# rprint(retry_guideline_response.response)\n",
    "display_response(retry_guideline_response)"
   ]
  },
  {
   "cell_type": "code",
   "execution_count": 65,
   "metadata": {},
   "outputs": [
    {
     "data": {
      "text/html": [
       "<pre style=\"white-space:pre;overflow-x:auto;line-height:normal;font-family:Menlo,'DejaVu Sans Mono',consolas,'Courier New',monospace\">The products with similar descriptions are the Organic Bamboo Bed Sheets, Virtual Reality Headset, and Organic \n",
       "Herbal Tea Collection.\n",
       "</pre>\n"
      ],
      "text/plain": [
       "The products with similar descriptions are the Organic Bamboo Bed Sheets, Virtual Reality Headset, and Organic \n",
       "Herbal Tea Collection.\n"
      ]
     },
     "metadata": {},
     "output_type": "display_data"
    }
   ],
   "source": [
    "rprint(retry_guideline_response.response)"
   ]
  },
  {
   "cell_type": "code",
   "execution_count": 68,
   "metadata": {},
   "outputs": [
    {
     "data": {
      "text/html": [
       "<pre style=\"white-space:pre;overflow-x:auto;line-height:normal;font-family:Menlo,'DejaVu Sans Mono',consolas,'Courier New',monospace\"><span style=\"font-weight: bold\">[</span><span style=\"color: #008000; text-decoration-color: #008000\">'Savor the soothing flavors of our Organic Herbal Tea Collection. Crafted from handpicked herbs, these teas offer </span>\n",
       "<span style=\"color: #008000; text-decoration-color: #008000\">relaxation and natural goodness.'</span><span style=\"font-weight: bold\">]</span>\n",
       "</pre>\n"
      ],
      "text/plain": [
       "\u001B[1m[\u001B[0m\u001B[32m'Savor the soothing flavors of our Organic Herbal Tea Collection. Crafted from handpicked herbs, these teas offer \u001B[0m\n",
       "\u001B[32mrelaxation and natural goodness.'\u001B[0m\u001B[1m]\u001B[0m\n"
      ]
     },
     "metadata": {},
     "output_type": "display_data"
    }
   ],
   "source": [
    "rprint(data.loc[data.Product_Name == \"Organic Herbal Tea Collection\", \"Description\"].values)"
   ]
  },
  {
   "cell_type": "code",
   "execution_count": 69,
   "metadata": {},
   "outputs": [
    {
     "data": {
      "text/html": [
       "<pre style=\"white-space:pre;overflow-x:auto;line-height:normal;font-family:Menlo,'DejaVu Sans Mono',consolas,'Courier New',monospace\"><span style=\"font-weight: bold\">[</span><span style=\"color: #008000; text-decoration-color: #008000\">'Experience ultimate comfort with our Organic Bamboo Bed Sheets. These luxuriously soft sheets are made from </span>\n",
       "<span style=\"color: #008000; text-decoration-color: #008000\">sustainable and breathable bamboo fibers.'</span><span style=\"font-weight: bold\">]</span>\n",
       "</pre>\n"
      ],
      "text/plain": [
       "\u001B[1m[\u001B[0m\u001B[32m'Experience ultimate comfort with our Organic Bamboo Bed Sheets. These luxuriously soft sheets are made from \u001B[0m\n",
       "\u001B[32msustainable and breathable bamboo fibers.'\u001B[0m\u001B[1m]\u001B[0m\n"
      ]
     },
     "metadata": {},
     "output_type": "display_data"
    }
   ],
   "source": [
    "rprint(data.loc[data.Product_Name == \"Organic Bamboo Bed Sheets\", \"Description\"].values)"
   ]
  },
  {
   "cell_type": "code",
   "execution_count": 70,
   "metadata": {},
   "outputs": [
    {
     "data": {
      "text/html": [
       "<pre style=\"white-space:pre;overflow-x:auto;line-height:normal;font-family:Menlo,'DejaVu Sans Mono',consolas,'Courier New',monospace\"><span style=\"font-weight: bold\">[</span><span style=\"color: #008000; text-decoration-color: #008000\">'Immerse yourself in virtual worlds with our Virtual Reality Headset. Experience gaming, entertainment, and </span>\n",
       "<span style=\"color: #008000; text-decoration-color: #008000\">exploration like never before.'</span><span style=\"font-weight: bold\">]</span>\n",
       "</pre>\n"
      ],
      "text/plain": [
       "\u001B[1m[\u001B[0m\u001B[32m'Immerse yourself in virtual worlds with our Virtual Reality Headset. Experience gaming, entertainment, and \u001B[0m\n",
       "\u001B[32mexploration like never before.'\u001B[0m\u001B[1m]\u001B[0m\n"
      ]
     },
     "metadata": {},
     "output_type": "display_data"
    }
   ],
   "source": [
    "rprint(data.loc[data.Product_Name == \"Virtual Reality Headset\", \"Description\"].values)"
   ]
  },
  {
   "attachments": {},
   "cell_type": "markdown",
   "metadata": {},
   "source": [
    "## Another example of self correcting query"
   ]
  },
  {
   "cell_type": "code",
   "execution_count": 72,
   "metadata": {},
   "outputs": [
    {
     "data": {
      "text/html": [
       "<pre style=\"white-space:pre;overflow-x:auto;line-height:normal;font-family:Menlo,'DejaVu Sans Mono',consolas,'Courier New',monospace\">The sum of all prices for all products whose price is $<span style=\"color: #008080; text-decoration-color: #008080; font-weight: bold\">79.99</span> is $<span style=\"color: #008080; text-decoration-color: #008080; font-weight: bold\">159.98</span>.\n",
       "</pre>\n"
      ],
      "text/plain": [
       "The sum of all prices for all products whose price is $\u001B[1;36m79.99\u001B[0m is $\u001B[1;36m159.98\u001B[0m.\n"
      ]
     },
     "metadata": {},
     "output_type": "display_data"
    },
    {
     "data": {
      "text/html": [
       "<pre style=\"white-space:pre;overflow-x:auto;line-height:normal;font-family:Menlo,'DejaVu Sans Mono',consolas,'Courier New',monospace\">Guideline eval evaluation result: The response does not fully answer the query. It only provides the sum of prices \n",
       "for products with a price of $<span style=\"color: #008080; text-decoration-color: #008080; font-weight: bold\">79.99</span>, but it does not specify what the sum is. The response should be more specific \n",
       "and provide the actual sum, using numbers or statistics when possible.\n",
       "</pre>\n"
      ],
      "text/plain": [
       "Guideline eval evaluation result: The response does not fully answer the query. It only provides the sum of prices \n",
       "for products with a price of $\u001B[1;36m79.99\u001B[0m, but it does not specify what the sum is. The response should be more specific \n",
       "and provide the actual sum, using numbers or statistics when possible.\n"
      ]
     },
     "metadata": {},
     "output_type": "display_data"
    },
    {
     "data": {
      "text/html": [
       "<pre style=\"white-space:pre;overflow-x:auto;line-height:normal;font-family:Menlo,'DejaVu Sans Mono',consolas,'Courier New',monospace\">Transformed query: Here is a previous bad answer.\n",
       "The sum of all prices for all products whose price is $<span style=\"color: #008080; text-decoration-color: #008080; font-weight: bold\">79.99</span> is $<span style=\"color: #008080; text-decoration-color: #008080; font-weight: bold\">159.98</span>.\n",
       "Here is some feedback from the evaluator about the response given.\n",
       "The response does not fully answer the query. It only provides the sum of prices for products with a price of \n",
       "$<span style=\"color: #008080; text-decoration-color: #008080; font-weight: bold\">79.99</span>, but it does not specify what the sum is. The response should be more specific and provide the actual sum, \n",
       "using numbers or statistics when possible.\n",
       "Now answer the question.\n",
       "What is the total sum of prices for all products priced at $<span style=\"color: #008080; text-decoration-color: #008080; font-weight: bold\">79.99</span>?\n",
       "</pre>\n"
      ],
      "text/plain": [
       "Transformed query: Here is a previous bad answer.\n",
       "The sum of all prices for all products whose price is $\u001B[1;36m79.99\u001B[0m is $\u001B[1;36m159.98\u001B[0m.\n",
       "Here is some feedback from the evaluator about the response given.\n",
       "The response does not fully answer the query. It only provides the sum of prices for products with a price of \n",
       "$\u001B[1;36m79.99\u001B[0m, but it does not specify what the sum is. The response should be more specific and provide the actual sum, \n",
       "using numbers or statistics when possible.\n",
       "Now answer the question.\n",
       "What is the total sum of prices for all products priced at $\u001B[1;36m79.99\u001B[0m?\n"
      ]
     },
     "metadata": {},
     "output_type": "display_data"
    }
   ],
   "source": [
    "# test another query\n",
    "\n",
    "query = \"What is the sum of all prices for all products whose price is $79.99?\"\n",
    "response = query_engine.query(query)\n",
    "rprint(str(response))\n",
    "typed_response = (\n",
    "    response if isinstance(response, Response) else response.get_response()\n",
    ")\n",
    "eval = guideline_eval.evaluate_response(query, typed_response)\n",
    "print(f\"Guideline eval evaluation result: {eval.feedback}\")\n",
    "\n",
    "feedback_query_transform = FeedbackQueryTransformation(resynthesize_query=True)\n",
    "transformed_query = feedback_query_transform.run(query, {\"evaluation\": eval})\n",
    "print(f\"Transformed query: {transformed_query.query_str}\")"
   ]
  },
  {
   "cell_type": "code",
   "execution_count": 73,
   "metadata": {},
   "outputs": [
    {
     "data": {
      "text/html": [
       "<pre style=\"white-space:pre;overflow-x:auto;line-height:normal;font-family:Menlo,'DejaVu Sans Mono',consolas,'Courier New',monospace\">The total cost of all products priced at $<span style=\"color: #008080; text-decoration-color: #008080; font-weight: bold\">79.99</span> each is $<span style=\"color: #008080; text-decoration-color: #008080; font-weight: bold\">159.98</span>. This answer was chosen because it is the sum of \n",
       "the prices of all products that are priced at $<span style=\"color: #008080; text-decoration-color: #008080; font-weight: bold\">79.99</span> each.\n",
       "</pre>\n"
      ],
      "text/plain": [
       "The total cost of all products priced at $\u001B[1;36m79.99\u001B[0m each is $\u001B[1;36m159.98\u001B[0m. This answer was chosen because it is the sum of \n",
       "the prices of all products that are priced at $\u001B[1;36m79.99\u001B[0m each.\n"
      ]
     },
     "metadata": {},
     "output_type": "display_data"
    }
   ],
   "source": [
    "retry_guideline_query_engine = RetryGuidelineQueryEngine(\n",
    "    query_engine, guideline_eval, resynthesize_query=True,\n",
    "    max_retries=2,\n",
    ")\n",
    "retry_guideline_response = retry_guideline_query_engine.query(query)\n",
    "rprint(retry_guideline_response.response)"
   ]
  }
 ],
 "metadata": {
  "kernelspec": {
   "display_name": "Python 3",
   "language": "python",
   "name": "python3"
  },
  "language_info": {
   "codemirror_mode": {
    "name": "ipython",
    "version": 3
   },
   "file_extension": ".py",
   "mimetype": "text/x-python",
   "name": "python",
   "nbconvert_exporter": "python",
   "pygments_lexer": "ipython3",
   "version": "3.10.10"
  },
  "orig_nbformat": 4
 },
 "nbformat": 4,
 "nbformat_minor": 2
}
