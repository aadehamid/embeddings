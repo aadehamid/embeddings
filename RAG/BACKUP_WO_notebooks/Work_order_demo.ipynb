{
 "cells": [
  {
   "cell_type": "code",
   "execution_count": 2,
   "metadata": {},
   "outputs": [],
   "source": [
    "# import for preprocessing\n",
    "import pandas as pd\n",
    "import duckdb\n",
    "from rich import print\n",
    "import logging\n",
    "import sys\n",
    "import sqlite3\n",
    "\n",
    "# llama index import to create sql DB\n",
    "from llama_index import (\n",
    "    SQLDatabase,\n",
    "    SimpleDirectoryReader,\n",
    "    Document,\n",
    "    StorageContext,\n",
    "    ServiceContext,\n",
    "    VectorStoreIndex,\n",
    "    OpenAIEmbedding,\n",
    "    set_global_service_context,\n",
    ")\n",
    "from llama_index.indices.struct_store import (\n",
    "    NLSQLTableQueryEngine,\n",
    "    SQLTableRetrieverQueryEngine,\n",
    ")\n",
    "from llama_index.llms import OpenAI\n",
    "\n",
    "# import for text 2 SQl query engine\n",
    "from llama_index.indices.struct_store.sql_query import (\n",
    "    NLSQLTableQueryEngine,\n",
    "    SQLTableRetrieverQueryEngine,\n",
    ")\n",
    "\n",
    "# iport if we do not know the name of table ahead of time\n",
    "from llama_index.objects import (\n",
    "    SQLTableNodeMapping,\n",
    "    ObjectIndex,\n",
    "    SQLTableSchema,\n",
    ")\n",
    "\n",
    "# import to set up query tool\n",
    "from llama_index.tools.query_engine import QueryEngineTool\n",
    "\n",
    "# import to set up query router\n",
    "from llama_index.query_engine.router_query_engine import RouterQueryEngine\n",
    "from llama_index.selectors.llm_selectors import LLMSingleSelector\n",
    "\n",
    "# import to set up weaviate\n",
    "from llama_index.vector_stores import WeaviateVectorStore\n",
    "\n",
    "import weaviate\n",
    "import openai\n",
    "\n",
    "from dotenv import find_dotenv, load_dotenv\n",
    "load_dotenv(find_dotenv())\n",
    "import os\n",
    "openai.api_key = os.getenv(\"OPENA_AI_KEY\")\n",
    "\n",
    "from IPython.display import Markdown, display\n",
    "\n",
    "\n",
    "from sqlalchemy import engine, MetaData, create_engine, text, select\n",
    "\n",
    "# Import modules for self correcting\n",
    "from llama_index.query_engine import RetryQueryEngine\n",
    "from llama_index.evaluation import RelevancyEvaluator\n",
    "from llama_index.query_engine import RetrySourceQueryEngine\n",
    "\n",
    "# Import modules to customize guidelines for what response shou look like\n",
    "from llama_index.evaluation.guideline import (\n",
    "    GuidelineEvaluator,\n",
    "    DEFAULT_GUIDELINES,\n",
    ")\n",
    "from llama_index.response.schema import Response\n",
    "from llama_index.indices.query.query_transform.feedback_transform import (\n",
    "    FeedbackQueryTransformation,\n",
    ")\n",
    "from llama_index.query_engine.retry_query_engine import (\n",
    "    RetryGuidelineQueryEngine,\n",
    ")\n",
    "\n",
    "# import to display llama index response\n",
    "from llama_index.response.notebook_utils import display_response\n",
    "# Needed for running async functions in Jupyter Notebook\n",
    "import nest_asyncio\n",
    "\n",
    "nest_asyncio.apply()\n",
    "\n",
    "# Tru Lens Evaluation\n",
    "# import sys\n",
    "# sys.path.append(os.path.dirname(find_dotenv()))\n",
    "# from utils import get_prebuilt_trulens_recorder\n",
    "# from trulens_eval import Tru\n",
    "\n",
    "# Import for senetnce window\n",
    "from utils import build_sentence_window_index\n",
    "from utils import  build_sentence_window_index_vector_DB\n",
    "from utils import get_sentence_window_query_engine\n",
    "\n",
    "from weaviate.auth import AuthApiKey\n"
   ]
  },
  {
   "cell_type": "code",
   "execution_count": 6,
   "metadata": {},
   "outputs": [],
   "source": [
    "# # import weaviate\n",
    "# # import os\n",
    "\n",
    "# client = weaviate.connect_to_wcs(\n",
    "#     cluster_url=os.getenv(\"WCS_DEMO_URL\"),  # Replace with your WCS URL\n",
    "#     auth_credentials=weaviate.auth.AuthApiKey(os.getenv(\"WCS_DEMO_RO_KEY\"))  # Replace with your WCS key\n",
    "# )"
   ]
  },
  {
   "cell_type": "code",
   "execution_count": 3,
   "metadata": {},
   "outputs": [
    {
     "name": "stderr",
     "output_type": "stream",
     "text": [
      "/home/zeus/miniconda3/envs/cloudspace/lib/python3.10/site-packages/weaviate/warnings.py:158: DeprecationWarning: Dep016: You are using the Weaviate v3 client, which is deprecated.\n",
      "            Consider upgrading to the new and improved v4 client instead!\n",
      "            See here for usage: https://weaviate.io/developers/weaviate/client-libraries/python\n",
      "            \n",
      "  warnings.warn(\n"
     ]
    }
   ],
   "source": [
    "\n",
    "auth_config = AuthApiKey(api_key=os.getenv(\"WO_DEMO_RO_KEY\"))\n",
    "\n",
    "client = weaviate.Client(\n",
    "  url=os.getenv(\"WO_DEMO_URL\"),\n",
    "  auth_client_secret=auth_config\n",
    ")"
   ]
  },
  {
   "attachments": {},
   "cell_type": "markdown",
   "metadata": {},
   "source": [
    "# 1. INGESTION"
   ]
  },
  {
   "attachments": {},
   "cell_type": "markdown",
   "metadata": {},
   "source": [
    "## Load the product data from file"
   ]
  },
  {
   "cell_type": "code",
   "execution_count": 4,
   "metadata": {},
   "outputs": [
    {
     "data": {
      "text/html": [
       "<pre style=\"white-space:pre;overflow-x:auto;line-height:normal;font-family:Menlo,'DejaVu Sans Mono',consolas,'Courier New',monospace\"><span style=\"color: #800080; text-decoration-color: #800080; font-weight: bold\">Index</span><span style=\"font-weight: bold\">([</span><span style=\"color: #008000; text-decoration-color: #008000\">'Product_Name'</span>, <span style=\"color: #008000; text-decoration-color: #008000\">'Price'</span>, <span style=\"color: #008000; text-decoration-color: #008000\">'Rating'</span>, <span style=\"color: #008000; text-decoration-color: #008000\">'Description'</span>, <span style=\"color: #008000; text-decoration-color: #008000\">'Features'</span><span style=\"font-weight: bold\">]</span>, <span style=\"color: #808000; text-decoration-color: #808000\">dtype</span>=<span style=\"color: #008000; text-decoration-color: #008000\">'object'</span><span style=\"font-weight: bold\">)</span>\n",
       "</pre>\n"
      ],
      "text/plain": [
       "\u001b[1;35mIndex\u001b[0m\u001b[1m(\u001b[0m\u001b[1m[\u001b[0m\u001b[32m'Product_Name'\u001b[0m, \u001b[32m'Price'\u001b[0m, \u001b[32m'Rating'\u001b[0m, \u001b[32m'Description'\u001b[0m, \u001b[32m'Features'\u001b[0m\u001b[1m]\u001b[0m, \u001b[33mdtype\u001b[0m=\u001b[32m'object'\u001b[0m\u001b[1m)\u001b[0m\n"
      ]
     },
     "metadata": {},
     "output_type": "display_data"
    },
    {
     "data": {
      "text/html": [
       "<div>\n",
       "<style scoped>\n",
       "    .dataframe tbody tr th:only-of-type {\n",
       "        vertical-align: middle;\n",
       "    }\n",
       "\n",
       "    .dataframe tbody tr th {\n",
       "        vertical-align: top;\n",
       "    }\n",
       "\n",
       "    .dataframe thead th {\n",
       "        text-align: right;\n",
       "    }\n",
       "</style>\n",
       "<table border=\"1\" class=\"dataframe\">\n",
       "  <thead>\n",
       "    <tr style=\"text-align: right;\">\n",
       "      <th></th>\n",
       "      <th>Product_Name</th>\n",
       "      <th>Price</th>\n",
       "      <th>Rating</th>\n",
       "      <th>Description</th>\n",
       "      <th>Features</th>\n",
       "    </tr>\n",
       "  </thead>\n",
       "  <tbody>\n",
       "    <tr>\n",
       "      <th>0</th>\n",
       "      <td>Ultimate Wireless Bluetooth Earbuds</td>\n",
       "      <td>79.99</td>\n",
       "      <td>4.4</td>\n",
       "      <td>Elevate your music experience with our Ultimat...</td>\n",
       "      <td>- High-fidelity sound with deep bass and clear...</td>\n",
       "    </tr>\n",
       "    <tr>\n",
       "      <th>1</th>\n",
       "      <td>SmartHome Security Camera System</td>\n",
       "      <td>199.99</td>\n",
       "      <td>4.6</td>\n",
       "      <td>Keep your home safe and secure with our SmartH...</td>\n",
       "      <td>- 1080p HD cameras for crystal-clear video qua...</td>\n",
       "    </tr>\n",
       "    <tr>\n",
       "      <th>2</th>\n",
       "      <td>Professional Espresso Machine</td>\n",
       "      <td>549.99</td>\n",
       "      <td>4.5</td>\n",
       "      <td>Brew barista-quality coffee at home with our P...</td>\n",
       "      <td>- 15-bar pump for optimal espresso extraction....</td>\n",
       "    </tr>\n",
       "  </tbody>\n",
       "</table>\n",
       "</div>"
      ],
      "text/plain": [
       "                          Product_Name   Price  Rating  \\\n",
       "0  Ultimate Wireless Bluetooth Earbuds   79.99     4.4   \n",
       "1     SmartHome Security Camera System  199.99     4.6   \n",
       "2        Professional Espresso Machine  549.99     4.5   \n",
       "\n",
       "                                         Description  \\\n",
       "0  Elevate your music experience with our Ultimat...   \n",
       "1  Keep your home safe and secure with our SmartH...   \n",
       "2  Brew barista-quality coffee at home with our P...   \n",
       "\n",
       "                                            Features  \n",
       "0  - High-fidelity sound with deep bass and clear...  \n",
       "1  - 1080p HD cameras for crystal-clear video qua...  \n",
       "2  - 15-bar pump for optimal espresso extraction....  "
      ]
     },
     "execution_count": 4,
     "metadata": {},
     "output_type": "execute_result"
    }
   ],
   "source": [
    "filepath = \"/teamspace/studios/Data_Studio/product_listing/product_listing.csv\"\n",
    "data = pd.read_csv(filepath)\n",
    "data.columns = ['Product_Name', 'Price', 'Rating', 'Description', 'Features']\n",
    "print(data.columns)\n",
    "data.head(3)"
   ]
  },
  {
   "cell_type": "code",
   "execution_count": 6,
   "metadata": {},
   "outputs": [
    {
     "data": {
      "text/html": [
       "<pre style=\"white-space:pre;overflow-x:auto;line-height:normal;font-family:Menlo,'DejaVu Sans Mono',consolas,'Courier New',monospace\"><span style=\"color: #800080; text-decoration-color: #800080; font-weight: bold\">Index</span><span style=\"font-weight: bold\">([</span><span style=\"color: #008000; text-decoration-color: #008000\">'BscStartDate'</span>, <span style=\"color: #008000; text-decoration-color: #008000\">'Asset'</span>, <span style=\"color: #008000; text-decoration-color: #008000\">'OriginalShorttext'</span>, <span style=\"color: #008000; text-decoration-color: #008000\">'PMType'</span>, <span style=\"color: #008000; text-decoration-color: #008000\">'Cost'</span>,\n",
       "       <span style=\"color: #008000; text-decoration-color: #008000\">'RunningTime'</span>, <span style=\"color: #008000; text-decoration-color: #008000\">'MajorSystem'</span>, <span style=\"color: #008000; text-decoration-color: #008000\">'Part'</span>, <span style=\"color: #008000; text-decoration-color: #008000\">'Action'</span>, <span style=\"color: #008000; text-decoration-color: #008000\">'Variant'</span>, <span style=\"color: #008000; text-decoration-color: #008000\">'FM'</span>,\n",
       "       <span style=\"color: #008000; text-decoration-color: #008000\">'Location'</span>, <span style=\"color: #008000; text-decoration-color: #008000\">'Comments'</span>, <span style=\"color: #008000; text-decoration-color: #008000\">'FuncLocation'</span>, <span style=\"color: #008000; text-decoration-color: #008000\">'SuspSugg'</span>, <span style=\"color: #008000; text-decoration-color: #008000\">'Rule'</span>,\n",
       "       <span style=\"color: #008000; text-decoration-color: #008000\">'Unnamed: 16'</span><span style=\"font-weight: bold\">]</span>,\n",
       "      <span style=\"color: #808000; text-decoration-color: #808000\">dtype</span>=<span style=\"color: #008000; text-decoration-color: #008000\">'object'</span><span style=\"font-weight: bold\">)</span>\n",
       "</pre>\n"
      ],
      "text/plain": [
       "\u001b[1;35mIndex\u001b[0m\u001b[1m(\u001b[0m\u001b[1m[\u001b[0m\u001b[32m'BscStartDate'\u001b[0m, \u001b[32m'Asset'\u001b[0m, \u001b[32m'OriginalShorttext'\u001b[0m, \u001b[32m'PMType'\u001b[0m, \u001b[32m'Cost'\u001b[0m,\n",
       "       \u001b[32m'RunningTime'\u001b[0m, \u001b[32m'MajorSystem'\u001b[0m, \u001b[32m'Part'\u001b[0m, \u001b[32m'Action'\u001b[0m, \u001b[32m'Variant'\u001b[0m, \u001b[32m'FM'\u001b[0m,\n",
       "       \u001b[32m'Location'\u001b[0m, \u001b[32m'Comments'\u001b[0m, \u001b[32m'FuncLocation'\u001b[0m, \u001b[32m'SuspSugg'\u001b[0m, \u001b[32m'Rule'\u001b[0m,\n",
       "       \u001b[32m'Unnamed: 16'\u001b[0m\u001b[1m]\u001b[0m,\n",
       "      \u001b[33mdtype\u001b[0m=\u001b[32m'object'\u001b[0m\u001b[1m)\u001b[0m\n"
      ]
     },
     "metadata": {},
     "output_type": "display_data"
    },
    {
     "data": {
      "text/html": [
       "<div>\n",
       "<style scoped>\n",
       "    .dataframe tbody tr th:only-of-type {\n",
       "        vertical-align: middle;\n",
       "    }\n",
       "\n",
       "    .dataframe tbody tr th {\n",
       "        vertical-align: top;\n",
       "    }\n",
       "\n",
       "    .dataframe thead th {\n",
       "        text-align: right;\n",
       "    }\n",
       "</style>\n",
       "<table border=\"1\" class=\"dataframe\">\n",
       "  <thead>\n",
       "    <tr style=\"text-align: right;\">\n",
       "      <th></th>\n",
       "      <th>BscStartDate</th>\n",
       "      <th>Asset</th>\n",
       "      <th>OriginalShorttext</th>\n",
       "      <th>PMType</th>\n",
       "      <th>Cost</th>\n",
       "      <th>RunningTime</th>\n",
       "      <th>MajorSystem</th>\n",
       "      <th>Part</th>\n",
       "      <th>Action</th>\n",
       "      <th>Variant</th>\n",
       "      <th>FM</th>\n",
       "      <th>Location</th>\n",
       "      <th>Comments</th>\n",
       "      <th>FuncLocation</th>\n",
       "      <th>SuspSugg</th>\n",
       "      <th>Rule</th>\n",
       "      <th>Unnamed: 16</th>\n",
       "    </tr>\n",
       "  </thead>\n",
       "  <tbody>\n",
       "    <tr>\n",
       "      <th>0</th>\n",
       "      <td>2004-07-01</td>\n",
       "      <td>A</td>\n",
       "      <td>BUCKET WON'T OPEN</td>\n",
       "      <td>PM01</td>\n",
       "      <td>183.05</td>\n",
       "      <td>NaN</td>\n",
       "      <td>Bucket</td>\n",
       "      <td>NaN</td>\n",
       "      <td>NaN</td>\n",
       "      <td>NaN</td>\n",
       "      <td>NaN</td>\n",
       "      <td>NaN</td>\n",
       "      <td>NaN</td>\n",
       "      <td>BUCKET</td>\n",
       "      <td>0</td>\n",
       "      <td>Rule_1_3_5</td>\n",
       "      <td>NaN</td>\n",
       "    </tr>\n",
       "    <tr>\n",
       "      <th>1</th>\n",
       "      <td>2005-03-20</td>\n",
       "      <td>A</td>\n",
       "      <td>L/H BUCKET CYL LEAKING.</td>\n",
       "      <td>PM01</td>\n",
       "      <td>407.40</td>\n",
       "      <td>262.0</td>\n",
       "      <td>Bucket_Hydraulic Cylinders</td>\n",
       "      <td>Cylinder_Tilt</td>\n",
       "      <td>NaN</td>\n",
       "      <td>NaN</td>\n",
       "      <td>Leak</td>\n",
       "      <td>Left</td>\n",
       "      <td>NaN</td>\n",
       "      <td>CYLINDER BOOM</td>\n",
       "      <td>0</td>\n",
       "      <td>Rule_1_3_5_19_115_214_434_509</td>\n",
       "      <td>NaN</td>\n",
       "    </tr>\n",
       "    <tr>\n",
       "      <th>2</th>\n",
       "      <td>2006-05-05</td>\n",
       "      <td>A</td>\n",
       "      <td>SWAP BUCKET</td>\n",
       "      <td>PM01</td>\n",
       "      <td>0.00</td>\n",
       "      <td>411.0</td>\n",
       "      <td>Bucket</td>\n",
       "      <td>NaN</td>\n",
       "      <td>Replace</td>\n",
       "      <td>4</td>\n",
       "      <td>NaN</td>\n",
       "      <td>NaN</td>\n",
       "      <td>NaN</td>\n",
       "      <td>BUCKET</td>\n",
       "      <td>0</td>\n",
       "      <td>Rule_1_3_5_399</td>\n",
       "      <td>NaN</td>\n",
       "    </tr>\n",
       "  </tbody>\n",
       "</table>\n",
       "</div>"
      ],
      "text/plain": [
       "  BscStartDate Asset        OriginalShorttext PMType    Cost  RunningTime  \\\n",
       "0   2004-07-01     A        BUCKET WON'T OPEN   PM01  183.05          NaN   \n",
       "1   2005-03-20     A  L/H BUCKET CYL LEAKING.   PM01  407.40        262.0   \n",
       "2   2006-05-05     A              SWAP BUCKET   PM01    0.00        411.0   \n",
       "\n",
       "                  MajorSystem           Part   Action Variant    FM Location  \\\n",
       "0                      Bucket            NaN      NaN     NaN   NaN      NaN   \n",
       "1  Bucket_Hydraulic Cylinders  Cylinder_Tilt      NaN     NaN  Leak     Left   \n",
       "2                      Bucket            NaN  Replace       4   NaN      NaN   \n",
       "\n",
       "  Comments   FuncLocation SuspSugg                           Rule Unnamed: 16  \n",
       "0      NaN         BUCKET        0                     Rule_1_3_5         NaN  \n",
       "1      NaN  CYLINDER BOOM        0  Rule_1_3_5_19_115_214_434_509         NaN  \n",
       "2      NaN         BUCKET        0                 Rule_1_3_5_399         NaN  "
      ]
     },
     "execution_count": 6,
     "metadata": {},
     "output_type": "execute_result"
    }
   ],
   "source": [
    "# filepath = \"/teamspace/studios/Data_Studio/WO/excavator_2015_cleaned_forpdl.csv\"\n",
    "# # filepath = \"/teamspace/studios/this_studio/WO/'excavator_2015_cleaned_forpdl - excavator_2015_cleaned_forpdl.csv'\"\n",
    "# data = pd.read_csv(filepath)\n",
    "# # data.columns = ['Product_Name', 'Price', 'Rating', 'Description', 'Features']\n",
    "# print(data.columns)\n",
    "# data.head(3)"
   ]
  },
  {
   "attachments": {},
   "cell_type": "markdown",
   "metadata": {},
   "source": [
    "## Create an sqlite DB for the product data"
   ]
  },
  {
   "cell_type": "code",
   "execution_count": 5,
   "metadata": {},
   "outputs": [
    {
     "data": {
      "text/plain": [
       "12"
      ]
     },
     "execution_count": 5,
     "metadata": {},
     "output_type": "execute_result"
    }
   ],
   "source": [
    "# Create a connection to an SQLite database file\n",
    "conn = sqlite3.connect('./data/product_sqlite.db')\n",
    "\n",
    "# Write the DataFrame to a table in the SQLite database\n",
    "data.to_sql('product_table', conn, if_exists='replace', index=False)"
   ]
  },
  {
   "cell_type": "code",
   "execution_count": 7,
   "metadata": {},
   "outputs": [
    {
     "data": {
      "text/html": [
       "<pre style=\"white-space:pre;overflow-x:auto;line-height:normal;font-family:Menlo,'DejaVu Sans Mono',consolas,'Courier New',monospace\"><span style=\"font-weight: bold\">(</span>\n",
       "    <span style=\"color: #008000; text-decoration-color: #008000\">'Ultimate Wireless Bluetooth Earbuds'</span>,\n",
       "    <span style=\"color: #008080; text-decoration-color: #008080; font-weight: bold\">79.99</span>,\n",
       "    <span style=\"color: #008080; text-decoration-color: #008080; font-weight: bold\">4.4</span>,\n",
       "    <span style=\"color: #008000; text-decoration-color: #008000\">\"Elevate your music experience with our Ultimate Wireless Bluetooth Earbuds. These earbuds are designed for </span>\n",
       "<span style=\"color: #008000; text-decoration-color: #008000\">audiophiles who demand premium sound quality and convenience. With advanced Bluetooth 5.0 technology, you'll enjoy </span>\n",
       "<span style=\"color: #008000; text-decoration-color: #008000\">seamless connectivity and crystal-clear audio.\"</span>,\n",
       "    <span style=\"color: #008000; text-decoration-color: #008000\">'- High-fidelity sound with deep bass and clear treble. - Noise-canceling technology for an immersive listening</span>\n",
       "<span style=\"color: #008000; text-decoration-color: #008000\">experience. - 20 hours of playtime on a single charge. - Ergonomic design for a secure and comfortable fit. - Touch</span>\n",
       "<span style=\"color: #008000; text-decoration-color: #008000\">controls for easy playback and calls. - IPX7 waterproof rating for workouts and outdoor activities. - Built-in </span>\n",
       "<span style=\"color: #008000; text-decoration-color: #008000\">microphone for hands-free calls.'</span>\n",
       "<span style=\"font-weight: bold\">)</span>\n",
       "</pre>\n"
      ],
      "text/plain": [
       "\u001b[1m(\u001b[0m\n",
       "    \u001b[32m'Ultimate Wireless Bluetooth Earbuds'\u001b[0m,\n",
       "    \u001b[1;36m79.99\u001b[0m,\n",
       "    \u001b[1;36m4.4\u001b[0m,\n",
       "    \u001b[32m\"Elevate your music experience with our Ultimate Wireless Bluetooth Earbuds. These earbuds are designed for \u001b[0m\n",
       "\u001b[32maudiophiles who demand premium sound quality and convenience. With advanced Bluetooth 5.0 technology, you'll enjoy \u001b[0m\n",
       "\u001b[32mseamless connectivity and crystal-clear audio.\"\u001b[0m,\n",
       "    \u001b[32m'- High-fidelity sound with deep bass and clear treble. - Noise-canceling technology for an immersive listening\u001b[0m\n",
       "\u001b[32mexperience. - 20 hours of playtime on a single charge. - Ergonomic design for a secure and comfortable fit. - Touch\u001b[0m\n",
       "\u001b[32mcontrols for easy playback and calls. - IPX7 waterproof rating for workouts and outdoor activities. - Built-in \u001b[0m\n",
       "\u001b[32mmicrophone for hands-free calls.'\u001b[0m\n",
       "\u001b[1m)\u001b[0m\n"
      ]
     },
     "metadata": {},
     "output_type": "display_data"
    }
   ],
   "source": [
    "# View the sqlite DB\n",
    "conn = sqlite3.connect('./data/product_sqlite.db')\n",
    "result = conn.execute(\"SELECT * FROM product_table limit 1\").fetchall()\n",
    "\n",
    "# Process the result\n",
    "for row in result:\n",
    "    print(row)"
   ]
  },
  {
   "attachments": {},
   "cell_type": "markdown",
   "metadata": {},
   "source": [
    "## Create SQLDatabase Object"
   ]
  },
  {
   "cell_type": "code",
   "execution_count": 8,
   "metadata": {},
   "outputs": [
    {
     "data": {
      "text/html": [
       "<pre style=\"white-space:pre;overflow-x:auto;line-height:normal;font-family:Menlo,'DejaVu Sans Mono',consolas,'Courier New',monospace\"><span style=\"font-weight: bold\">(</span><span style=\"color: #008000; text-decoration-color: #008000\">'Ultimate Wireless Bluetooth Earbuds'</span>, <span style=\"color: #008080; text-decoration-color: #008080; font-weight: bold\">79.99</span>, <span style=\"color: #008080; text-decoration-color: #008080; font-weight: bold\">4.4</span>, <span style=\"color: #008000; text-decoration-color: #008000\">\"Elevate your music experience with our Ultimate Wireless </span>\n",
       "<span style=\"color: #008000; text-decoration-color: #008000\">Bluetooth Earbuds. These earbuds are designed for audiophiles who demand premium sound quality and convenience. </span>\n",
       "<span style=\"color: #008000; text-decoration-color: #008000\">With advanced Bluetooth 5.0 technology, you'll enjoy seamless connectivity and crystal-clear audio.\"</span>, <span style=\"color: #008000; text-decoration-color: #008000\">'- </span>\n",
       "<span style=\"color: #008000; text-decoration-color: #008000\">High-fidelity sound with deep bass and clear treble. - Noise-canceling technology for an immersive listening </span>\n",
       "<span style=\"color: #008000; text-decoration-color: #008000\">experience. - 20 hours of playtime on  ... (72 characters truncated) ... Touch controls for easy playback and </span>\n",
       "<span style=\"color: #008000; text-decoration-color: #008000\">calls. - IPX7 waterproof rating for workouts and outdoor activities. - Built-in microphone for hands-free calls.'</span><span style=\"font-weight: bold\">)</span>\n",
       "</pre>\n"
      ],
      "text/plain": [
       "\u001b[1m(\u001b[0m\u001b[32m'Ultimate Wireless Bluetooth Earbuds'\u001b[0m, \u001b[1;36m79.99\u001b[0m, \u001b[1;36m4.4\u001b[0m, \u001b[32m\"Elevate your music experience with our Ultimate Wireless \u001b[0m\n",
       "\u001b[32mBluetooth Earbuds. These earbuds are designed for audiophiles who demand premium sound quality and convenience. \u001b[0m\n",
       "\u001b[32mWith advanced Bluetooth 5.0 technology, you'll enjoy seamless connectivity and crystal-clear audio.\"\u001b[0m, \u001b[32m'- \u001b[0m\n",
       "\u001b[32mHigh-fidelity sound with deep bass and clear treble. - Noise-canceling technology for an immersive listening \u001b[0m\n",
       "\u001b[32mexperience. - 20 hours of playtime on  ... \u001b[0m\u001b[32m(\u001b[0m\u001b[32m72 characters truncated\u001b[0m\u001b[32m)\u001b[0m\u001b[32m ... Touch controls for easy playback and \u001b[0m\n",
       "\u001b[32mcalls. - IPX7 waterproof rating for workouts and outdoor activities. - Built-in microphone for hands-free calls.'\u001b[0m\u001b[1m)\u001b[0m\n"
      ]
     },
     "metadata": {},
     "output_type": "display_data"
    }
   ],
   "source": [
    "# SQLITE\n",
    "engine = create_engine(\"sqlite:///\" +\"./data/product_sqlite.db\")\n",
    "connection = engine.connect()\n",
    "result = connection.execute(text(\"SELECT * FROM product_table limit 1\"))\n",
    "for row in result:\n",
    "    print(row)\n"
   ]
  },
  {
   "attachments": {},
   "cell_type": "markdown",
   "metadata": {},
   "source": [
    "## Define SQL Database"
   ]
  },
  {
   "cell_type": "code",
   "execution_count": 9,
   "metadata": {},
   "outputs": [],
   "source": [
    "llm = OpenAI(temperature=0.1, model = \"gpt-3.5-turbo\")\n",
    "embed_model = OpenAIEmbedding(model=\"text-embedding-3-large\")\n",
    "service_context = ServiceContext.from_defaults(llm =llm, embed_model=embed_model,)\n",
    "set_global_service_context(service_context)\n",
    "# service_context = ServiceContext.from_defaults(llm =llm)\n",
    "sql_database = SQLDatabase(engine, include_tables=[\"product_table\"])"
   ]
  },
  {
   "attachments": {},
   "cell_type": "markdown",
   "metadata": {},
   "source": [
    "## Text to SQL Query Engine"
   ]
  },
  {
   "cell_type": "code",
   "execution_count": 10,
   "metadata": {},
   "outputs": [
    {
     "data": {
      "text/html": [
       "<pre style=\"white-space:pre;overflow-x:auto;line-height:normal;font-family:Menlo,'DejaVu Sans Mono',consolas,'Courier New',monospace\"><span style=\"color: #800080; text-decoration-color: #800080; font-weight: bold\">Response</span><span style=\"font-weight: bold\">(</span>\n",
       "    <span style=\"color: #808000; text-decoration-color: #808000\">response</span>=<span style=\"color: #008000; text-decoration-color: #008000\">'The products that were sold for 79.99 are the Ultimate Wireless Bluetooth Earbuds and the Portable </span>\n",
       "<span style=\"color: #008000; text-decoration-color: #008000\">Solar Charger.'</span>,\n",
       "    <span style=\"color: #808000; text-decoration-color: #808000\">source_nodes</span>=<span style=\"font-weight: bold\">[</span>\n",
       "        <span style=\"color: #800080; text-decoration-color: #800080; font-weight: bold\">NodeWithScore</span><span style=\"font-weight: bold\">(</span>\n",
       "            <span style=\"color: #808000; text-decoration-color: #808000\">node</span>=<span style=\"color: #800080; text-decoration-color: #800080; font-weight: bold\">TextNode</span><span style=\"font-weight: bold\">(</span>\n",
       "                <span style=\"color: #808000; text-decoration-color: #808000\">id_</span>=<span style=\"color: #008000; text-decoration-color: #008000\">'c132804b-3b30-4dd4-910a-10862cf5cb50'</span>,\n",
       "                <span style=\"color: #808000; text-decoration-color: #808000\">embedding</span>=<span style=\"color: #800080; text-decoration-color: #800080; font-style: italic\">None</span>,\n",
       "                <span style=\"color: #808000; text-decoration-color: #808000\">metadata</span>=<span style=\"font-weight: bold\">{}</span>,\n",
       "                <span style=\"color: #808000; text-decoration-color: #808000\">excluded_embed_metadata_keys</span>=<span style=\"font-weight: bold\">[]</span>,\n",
       "                <span style=\"color: #808000; text-decoration-color: #808000\">excluded_llm_metadata_keys</span>=<span style=\"font-weight: bold\">[]</span>,\n",
       "                <span style=\"color: #808000; text-decoration-color: #808000\">relationships</span>=<span style=\"font-weight: bold\">{}</span>,\n",
       "                <span style=\"color: #808000; text-decoration-color: #808000\">text</span>=<span style=\"color: #008000; text-decoration-color: #008000\">\"[('Ultimate Wireless Bluetooth Earbuds',), ('Portable Solar Charger',)]\"</span>,\n",
       "                <span style=\"color: #808000; text-decoration-color: #808000\">start_char_idx</span>=<span style=\"color: #800080; text-decoration-color: #800080; font-style: italic\">None</span>,\n",
       "                <span style=\"color: #808000; text-decoration-color: #808000\">end_char_idx</span>=<span style=\"color: #800080; text-decoration-color: #800080; font-style: italic\">None</span>,\n",
       "                <span style=\"color: #808000; text-decoration-color: #808000\">text_template</span>=<span style=\"color: #008000; text-decoration-color: #008000\">'{metadata_str}\\n\\n{content}'</span>,\n",
       "                <span style=\"color: #808000; text-decoration-color: #808000\">metadata_template</span>=<span style=\"color: #008000; text-decoration-color: #008000\">'{key}: {value}'</span>,\n",
       "                <span style=\"color: #808000; text-decoration-color: #808000\">metadata_seperator</span>=<span style=\"color: #008000; text-decoration-color: #008000\">'\\n'</span>\n",
       "            <span style=\"font-weight: bold\">)</span>,\n",
       "            <span style=\"color: #808000; text-decoration-color: #808000\">score</span>=<span style=\"color: #800080; text-decoration-color: #800080; font-style: italic\">None</span>\n",
       "        <span style=\"font-weight: bold\">)</span>\n",
       "    <span style=\"font-weight: bold\">]</span>,\n",
       "    <span style=\"color: #808000; text-decoration-color: #808000\">metadata</span>=<span style=\"font-weight: bold\">{</span>\n",
       "        <span style=\"color: #008000; text-decoration-color: #008000\">'c132804b-3b30-4dd4-910a-10862cf5cb50'</span>: <span style=\"font-weight: bold\">{}</span>,\n",
       "        <span style=\"color: #008000; text-decoration-color: #008000\">'sql_query'</span>: <span style=\"color: #008000; text-decoration-color: #008000\">'SELECT Product_Name\\nFROM product_table\\nWHERE Price = 79.99'</span>,\n",
       "        <span style=\"color: #008000; text-decoration-color: #008000\">'result'</span>: <span style=\"font-weight: bold\">[(</span><span style=\"color: #008000; text-decoration-color: #008000\">'Ultimate Wireless Bluetooth Earbuds'</span>,<span style=\"font-weight: bold\">)</span>, <span style=\"font-weight: bold\">(</span><span style=\"color: #008000; text-decoration-color: #008000\">'Portable Solar Charger'</span>,<span style=\"font-weight: bold\">)]</span>,\n",
       "        <span style=\"color: #008000; text-decoration-color: #008000\">'col_keys'</span>: <span style=\"font-weight: bold\">[</span><span style=\"color: #008000; text-decoration-color: #008000\">'Product_Name'</span><span style=\"font-weight: bold\">]</span>\n",
       "    <span style=\"font-weight: bold\">}</span>\n",
       "<span style=\"font-weight: bold\">)</span>\n",
       "</pre>\n"
      ],
      "text/plain": [
       "\u001b[1;35mResponse\u001b[0m\u001b[1m(\u001b[0m\n",
       "    \u001b[33mresponse\u001b[0m=\u001b[32m'The products that were sold for 79.99 are the Ultimate Wireless Bluetooth Earbuds and the Portable \u001b[0m\n",
       "\u001b[32mSolar Charger.'\u001b[0m,\n",
       "    \u001b[33msource_nodes\u001b[0m=\u001b[1m[\u001b[0m\n",
       "        \u001b[1;35mNodeWithScore\u001b[0m\u001b[1m(\u001b[0m\n",
       "            \u001b[33mnode\u001b[0m=\u001b[1;35mTextNode\u001b[0m\u001b[1m(\u001b[0m\n",
       "                \u001b[33mid_\u001b[0m=\u001b[32m'c132804b-3b30-4dd4-910a-10862cf5cb50'\u001b[0m,\n",
       "                \u001b[33membedding\u001b[0m=\u001b[3;35mNone\u001b[0m,\n",
       "                \u001b[33mmetadata\u001b[0m=\u001b[1m{\u001b[0m\u001b[1m}\u001b[0m,\n",
       "                \u001b[33mexcluded_embed_metadata_keys\u001b[0m=\u001b[1m[\u001b[0m\u001b[1m]\u001b[0m,\n",
       "                \u001b[33mexcluded_llm_metadata_keys\u001b[0m=\u001b[1m[\u001b[0m\u001b[1m]\u001b[0m,\n",
       "                \u001b[33mrelationships\u001b[0m=\u001b[1m{\u001b[0m\u001b[1m}\u001b[0m,\n",
       "                \u001b[33mtext\u001b[0m=\u001b[32m\"\u001b[0m\u001b[32m[\u001b[0m\u001b[32m(\u001b[0m\u001b[32m'Ultimate Wireless Bluetooth Earbuds',\u001b[0m\u001b[32m)\u001b[0m\u001b[32m, \u001b[0m\u001b[32m(\u001b[0m\u001b[32m'Portable Solar Charger',\u001b[0m\u001b[32m)\u001b[0m\u001b[32m]\u001b[0m\u001b[32m\"\u001b[0m,\n",
       "                \u001b[33mstart_char_idx\u001b[0m=\u001b[3;35mNone\u001b[0m,\n",
       "                \u001b[33mend_char_idx\u001b[0m=\u001b[3;35mNone\u001b[0m,\n",
       "                \u001b[33mtext_template\u001b[0m=\u001b[32m'\u001b[0m\u001b[32m{\u001b[0m\u001b[32mmetadata_str\u001b[0m\u001b[32m}\u001b[0m\u001b[32m\\n\\n\u001b[0m\u001b[32m{\u001b[0m\u001b[32mcontent\u001b[0m\u001b[32m}\u001b[0m\u001b[32m'\u001b[0m,\n",
       "                \u001b[33mmetadata_template\u001b[0m=\u001b[32m'\u001b[0m\u001b[32m{\u001b[0m\u001b[32mkey\u001b[0m\u001b[32m}\u001b[0m\u001b[32m: \u001b[0m\u001b[32m{\u001b[0m\u001b[32mvalue\u001b[0m\u001b[32m}\u001b[0m\u001b[32m'\u001b[0m,\n",
       "                \u001b[33mmetadata_seperator\u001b[0m=\u001b[32m'\\n'\u001b[0m\n",
       "            \u001b[1m)\u001b[0m,\n",
       "            \u001b[33mscore\u001b[0m=\u001b[3;35mNone\u001b[0m\n",
       "        \u001b[1m)\u001b[0m\n",
       "    \u001b[1m]\u001b[0m,\n",
       "    \u001b[33mmetadata\u001b[0m=\u001b[1m{\u001b[0m\n",
       "        \u001b[32m'c132804b-3b30-4dd4-910a-10862cf5cb50'\u001b[0m: \u001b[1m{\u001b[0m\u001b[1m}\u001b[0m,\n",
       "        \u001b[32m'sql_query'\u001b[0m: \u001b[32m'SELECT Product_Name\\nFROM product_table\\nWHERE Price = 79.99'\u001b[0m,\n",
       "        \u001b[32m'result'\u001b[0m: \u001b[1m[\u001b[0m\u001b[1m(\u001b[0m\u001b[32m'Ultimate Wireless Bluetooth Earbuds'\u001b[0m,\u001b[1m)\u001b[0m, \u001b[1m(\u001b[0m\u001b[32m'Portable Solar Charger'\u001b[0m,\u001b[1m)\u001b[0m\u001b[1m]\u001b[0m,\n",
       "        \u001b[32m'col_keys'\u001b[0m: \u001b[1m[\u001b[0m\u001b[32m'Product_Name'\u001b[0m\u001b[1m]\u001b[0m\n",
       "    \u001b[1m}\u001b[0m\n",
       "\u001b[1m)\u001b[0m\n"
      ]
     },
     "metadata": {},
     "output_type": "display_data"
    }
   ],
   "source": [
    "query_engine = NLSQLTableQueryEngine(\n",
    "    sql_database = sql_database,\n",
    "    tables = [\"product_table\"])\n",
    "query_str = \"Which product was sold for 79.99?\"\n",
    "response = query_engine.query(query_str)\n",
    "print(response)"
   ]
  },
  {
   "attachments": {},
   "cell_type": "markdown",
   "metadata": {},
   "source": [
    "## Part 2: Query-Time Retrieval of Tables for Text-to-SQL\n",
    "If we don’t know ahead of time which table we would like to use, and the total size of the table schema overflows your context window size, we should store the table schema in an index so that during query time we can retrieve the right schema.\n",
    "\n",
    "The way we can do this is using the SQLTableNodeMapping object, which takes in a SQLDatabase and produces a Node object for each SQLTableSchema object passed into the ObjectIndex constructor."
   ]
  },
  {
   "cell_type": "code",
   "execution_count": 11,
   "metadata": {},
   "outputs": [],
   "source": [
    "\n",
    "# set Logging to DEBUG for more detailed outputs\n",
    "table_node_mapping = SQLTableNodeMapping(sql_database)\n",
    "table_schema_objs = [\n",
    "    (SQLTableSchema(table_name=\"product_table\"))\n",
    "]  # add a SQLTableSchema for each table\n",
    "\n",
    "obj_index = ObjectIndex.from_objects(\n",
    "    table_schema_objs,\n",
    "    table_node_mapping,\n",
    "    VectorStoreIndex,\n",
    ")\n",
    "query_engine = SQLTableRetrieverQueryEngine(\n",
    "    sql_database, obj_index.as_retriever(similarity_top_k=1)\n",
    ")"
   ]
  },
  {
   "cell_type": "code",
   "execution_count": 12,
   "metadata": {},
   "outputs": [
    {
     "data": {
      "text/markdown": [
       "<b>The rating for the product named Portable Solar Charger is 4.0.</b>"
      ],
      "text/plain": [
       "<IPython.core.display.Markdown object>"
      ]
     },
     "metadata": {},
     "output_type": "display_data"
    }
   ],
   "source": [
    "query_str = \"What is the Rating for the product whose name is Portable Solar Charger?\"\n",
    "response = query_engine.query(query_str)\n",
    "display(Markdown(f\"<b>{response}</b>\"))"
   ]
  },
  {
   "cell_type": "code",
   "execution_count": 11,
   "metadata": {},
   "outputs": [
    {
     "data": {
      "text/plain": [
       "[(4.0,)]"
      ]
     },
     "execution_count": 11,
     "metadata": {},
     "output_type": "execute_result"
    }
   ],
   "source": [
    "# you can also fetch the raw result from SQLAlchemy!\n",
    "response.metadata[\"result\"]"
   ]
  },
  {
   "attachments": {},
   "cell_type": "markdown",
   "metadata": {},
   "source": [
    "## Create embedding for the columns to embed"
   ]
  },
  {
   "cell_type": "code",
   "execution_count": 13,
   "metadata": {},
   "outputs": [],
   "source": [
    "## With PANDAS DATAFRAME\n",
    "# Assuming you have already loaded the data into a Pandas DataFrame df\n",
    "columns_to_embed = [\"Description\", \"Features\"]\n",
    "columns_to_metadata = [\"Product Name\", \"Price\", \"Rating\", \"Description\", \"Features\"]\n",
    "\n",
    "docs = []\n",
    "for i, row in data.iterrows():\n",
    "    to_metadata = {col: row[col] for col in columns_to_metadata if col in row}\n",
    "    values_to_embed = {k: row[k] for k in columns_to_embed if k in row}\n",
    "    to_embed = '\\n'.join(f\"{k.strip()}: {v.strip()}\" for k, v in values_to_embed.items())\n",
    "    newDoc = Document(text=to_embed, metadata=to_metadata)\n",
    "    docs.append(newDoc)\n",
    "\n",
    "# Create a single document from a list of Documents\n",
    "# this is what we will chunk up and store with its embedding in Weaviate\n",
    "document = Document(text=\"\\n\\n\".join([doc.text for doc in docs]))"
   ]
  },
  {
   "attachments": {},
   "cell_type": "markdown",
   "metadata": {},
   "source": [
    "## Create Weaviate Schema"
   ]
  },
  {
   "cell_type": "code",
   "execution_count": 11,
   "metadata": {},
   "outputs": [
    {
     "name": "stdout",
     "output_type": "stream",
     "text": [
      "Product schema was created.\n"
     ]
    }
   ],
   "source": [
    "# Create Schema\n",
    "product_schema = {\n",
    "   \"classes\": [\n",
    "       {\n",
    "           \"class\": \"Product\",\n",
    "           \"description\": \"Listing of Products\",\n",
    "           \"vectorizer\": \"text2vec-openai\",\n",
    "           \"properties\": [\n",
    "               {\n",
    "                  \"name\": \"Product_Name\",\n",
    "                  \"dataType\": [\"text\"],\n",
    "                  \"description\": \"Name of the product.\",\n",
    "               },\n",
    "               {\n",
    "                  \"name\": \"Price\",\n",
    "                  \"dataType\": [\"number\"],\n",
    "                  \"description\": \"Price of the product.\",\n",
    "               },\n",
    "               {\n",
    "                  \"name\": \"Rating\",\n",
    "                  \"dataType\": [\"number\"],\n",
    "                  \"description\": \"Rating of the product.\",\n",
    "               },\n",
    "               {\n",
    "                  \"name\": \"Description\",\n",
    "                  \"dataType\": [\"text\"],\n",
    "                  \"description\": \"Description of the product.\",\n",
    "               },\n",
    "               {\n",
    "                  \"name\": \"Features\",\n",
    "                  \"dataType\": [\"text\"],\n",
    "                  \"description\": \"Feature of the product.\",\n",
    "               }\n",
    "            ]\n",
    "        }\n",
    "    ]\n",
    "}\n",
    "\n",
    "client.schema.create(product_schema)\n",
    "print(\"Product schema was created.\")"
   ]
  },
  {
   "cell_type": "code",
   "execution_count": 14,
   "metadata": {},
   "outputs": [
    {
     "data": {
      "text/html": [
       "<pre style=\"white-space:pre;overflow-x:auto;line-height:normal;font-family:Menlo,'DejaVu Sans Mono',consolas,'Courier New',monospace\"><span style=\"font-weight: bold\">{</span>\n",
       "    <span style=\"color: #008000; text-decoration-color: #008000\">'classes'</span>: <span style=\"font-weight: bold\">[</span>\n",
       "        <span style=\"font-weight: bold\">{</span>\n",
       "            <span style=\"color: #008000; text-decoration-color: #008000\">'class'</span>: <span style=\"color: #008000; text-decoration-color: #008000\">'Product'</span>,\n",
       "            <span style=\"color: #008000; text-decoration-color: #008000\">'description'</span>: <span style=\"color: #008000; text-decoration-color: #008000\">'Listing of Products'</span>,\n",
       "            <span style=\"color: #008000; text-decoration-color: #008000\">'invertedIndexConfig'</span>: <span style=\"font-weight: bold\">{</span>\n",
       "                <span style=\"color: #008000; text-decoration-color: #008000\">'bm25'</span>: <span style=\"font-weight: bold\">{</span><span style=\"color: #008000; text-decoration-color: #008000\">'b'</span>: <span style=\"color: #008080; text-decoration-color: #008080; font-weight: bold\">0.75</span>, <span style=\"color: #008000; text-decoration-color: #008000\">'k1'</span>: <span style=\"color: #008080; text-decoration-color: #008080; font-weight: bold\">1.2</span><span style=\"font-weight: bold\">}</span>,\n",
       "                <span style=\"color: #008000; text-decoration-color: #008000\">'cleanupIntervalSeconds'</span>: <span style=\"color: #008080; text-decoration-color: #008080; font-weight: bold\">60</span>,\n",
       "                <span style=\"color: #008000; text-decoration-color: #008000\">'stopwords'</span>: <span style=\"font-weight: bold\">{</span><span style=\"color: #008000; text-decoration-color: #008000\">'additions'</span>: <span style=\"color: #800080; text-decoration-color: #800080; font-style: italic\">None</span>, <span style=\"color: #008000; text-decoration-color: #008000\">'preset'</span>: <span style=\"color: #008000; text-decoration-color: #008000\">'en'</span>, <span style=\"color: #008000; text-decoration-color: #008000\">'removals'</span>: <span style=\"color: #800080; text-decoration-color: #800080; font-style: italic\">None</span><span style=\"font-weight: bold\">}</span>\n",
       "            <span style=\"font-weight: bold\">}</span>,\n",
       "            <span style=\"color: #008000; text-decoration-color: #008000\">'moduleConfig'</span>: <span style=\"font-weight: bold\">{</span>\n",
       "                <span style=\"color: #008000; text-decoration-color: #008000\">'text2vec-openai'</span>: <span style=\"font-weight: bold\">{</span>\n",
       "                    <span style=\"color: #008000; text-decoration-color: #008000\">'baseURL'</span>: <span style=\"color: #008000; text-decoration-color: #008000\">'https://api.openai.com'</span>,\n",
       "                    <span style=\"color: #008000; text-decoration-color: #008000\">'model'</span>: <span style=\"color: #008000; text-decoration-color: #008000\">'ada'</span>,\n",
       "                    <span style=\"color: #008000; text-decoration-color: #008000\">'modelVersion'</span>: <span style=\"color: #008000; text-decoration-color: #008000\">'002'</span>,\n",
       "                    <span style=\"color: #008000; text-decoration-color: #008000\">'type'</span>: <span style=\"color: #008000; text-decoration-color: #008000\">'text'</span>,\n",
       "                    <span style=\"color: #008000; text-decoration-color: #008000\">'vectorizeClassName'</span>: <span style=\"color: #00ff00; text-decoration-color: #00ff00; font-style: italic\">True</span>\n",
       "                <span style=\"font-weight: bold\">}</span>\n",
       "            <span style=\"font-weight: bold\">}</span>,\n",
       "            <span style=\"color: #008000; text-decoration-color: #008000\">'multiTenancyConfig'</span>: <span style=\"font-weight: bold\">{</span><span style=\"color: #008000; text-decoration-color: #008000\">'enabled'</span>: <span style=\"color: #ff0000; text-decoration-color: #ff0000; font-style: italic\">False</span><span style=\"font-weight: bold\">}</span>,\n",
       "            <span style=\"color: #008000; text-decoration-color: #008000\">'properties'</span>: <span style=\"font-weight: bold\">[</span>\n",
       "                <span style=\"font-weight: bold\">{</span>\n",
       "                    <span style=\"color: #008000; text-decoration-color: #008000\">'dataType'</span>: <span style=\"font-weight: bold\">[</span><span style=\"color: #008000; text-decoration-color: #008000\">'text'</span><span style=\"font-weight: bold\">]</span>,\n",
       "                    <span style=\"color: #008000; text-decoration-color: #008000\">'description'</span>: <span style=\"color: #008000; text-decoration-color: #008000\">'Name of the product.'</span>,\n",
       "                    <span style=\"color: #008000; text-decoration-color: #008000\">'indexFilterable'</span>: <span style=\"color: #00ff00; text-decoration-color: #00ff00; font-style: italic\">True</span>,\n",
       "                    <span style=\"color: #008000; text-decoration-color: #008000\">'indexSearchable'</span>: <span style=\"color: #00ff00; text-decoration-color: #00ff00; font-style: italic\">True</span>,\n",
       "                    <span style=\"color: #008000; text-decoration-color: #008000\">'moduleConfig'</span>: <span style=\"font-weight: bold\">{</span><span style=\"color: #008000; text-decoration-color: #008000\">'text2vec-openai'</span>: <span style=\"font-weight: bold\">{</span><span style=\"color: #008000; text-decoration-color: #008000\">'skip'</span>: <span style=\"color: #ff0000; text-decoration-color: #ff0000; font-style: italic\">False</span>, <span style=\"color: #008000; text-decoration-color: #008000\">'vectorizePropertyName'</span>: <span style=\"color: #ff0000; text-decoration-color: #ff0000; font-style: italic\">False</span><span style=\"font-weight: bold\">}}</span>,\n",
       "                    <span style=\"color: #008000; text-decoration-color: #008000\">'name'</span>: <span style=\"color: #008000; text-decoration-color: #008000\">'product_Name'</span>,\n",
       "                    <span style=\"color: #008000; text-decoration-color: #008000\">'tokenization'</span>: <span style=\"color: #008000; text-decoration-color: #008000\">'word'</span>\n",
       "                <span style=\"font-weight: bold\">}</span>,\n",
       "                <span style=\"font-weight: bold\">{</span>\n",
       "                    <span style=\"color: #008000; text-decoration-color: #008000\">'dataType'</span>: <span style=\"font-weight: bold\">[</span><span style=\"color: #008000; text-decoration-color: #008000\">'number'</span><span style=\"font-weight: bold\">]</span>,\n",
       "                    <span style=\"color: #008000; text-decoration-color: #008000\">'description'</span>: <span style=\"color: #008000; text-decoration-color: #008000\">'Price of the product.'</span>,\n",
       "                    <span style=\"color: #008000; text-decoration-color: #008000\">'indexFilterable'</span>: <span style=\"color: #00ff00; text-decoration-color: #00ff00; font-style: italic\">True</span>,\n",
       "                    <span style=\"color: #008000; text-decoration-color: #008000\">'indexSearchable'</span>: <span style=\"color: #ff0000; text-decoration-color: #ff0000; font-style: italic\">False</span>,\n",
       "                    <span style=\"color: #008000; text-decoration-color: #008000\">'moduleConfig'</span>: <span style=\"font-weight: bold\">{</span><span style=\"color: #008000; text-decoration-color: #008000\">'text2vec-openai'</span>: <span style=\"font-weight: bold\">{</span><span style=\"color: #008000; text-decoration-color: #008000\">'skip'</span>: <span style=\"color: #ff0000; text-decoration-color: #ff0000; font-style: italic\">False</span>, <span style=\"color: #008000; text-decoration-color: #008000\">'vectorizePropertyName'</span>: <span style=\"color: #ff0000; text-decoration-color: #ff0000; font-style: italic\">False</span><span style=\"font-weight: bold\">}}</span>,\n",
       "                    <span style=\"color: #008000; text-decoration-color: #008000\">'name'</span>: <span style=\"color: #008000; text-decoration-color: #008000\">'price'</span>\n",
       "                <span style=\"font-weight: bold\">}</span>,\n",
       "                <span style=\"font-weight: bold\">{</span>\n",
       "                    <span style=\"color: #008000; text-decoration-color: #008000\">'dataType'</span>: <span style=\"font-weight: bold\">[</span><span style=\"color: #008000; text-decoration-color: #008000\">'number'</span><span style=\"font-weight: bold\">]</span>,\n",
       "                    <span style=\"color: #008000; text-decoration-color: #008000\">'description'</span>: <span style=\"color: #008000; text-decoration-color: #008000\">'Rating of the product.'</span>,\n",
       "                    <span style=\"color: #008000; text-decoration-color: #008000\">'indexFilterable'</span>: <span style=\"color: #00ff00; text-decoration-color: #00ff00; font-style: italic\">True</span>,\n",
       "                    <span style=\"color: #008000; text-decoration-color: #008000\">'indexSearchable'</span>: <span style=\"color: #ff0000; text-decoration-color: #ff0000; font-style: italic\">False</span>,\n",
       "                    <span style=\"color: #008000; text-decoration-color: #008000\">'moduleConfig'</span>: <span style=\"font-weight: bold\">{</span><span style=\"color: #008000; text-decoration-color: #008000\">'text2vec-openai'</span>: <span style=\"font-weight: bold\">{</span><span style=\"color: #008000; text-decoration-color: #008000\">'skip'</span>: <span style=\"color: #ff0000; text-decoration-color: #ff0000; font-style: italic\">False</span>, <span style=\"color: #008000; text-decoration-color: #008000\">'vectorizePropertyName'</span>: <span style=\"color: #ff0000; text-decoration-color: #ff0000; font-style: italic\">False</span><span style=\"font-weight: bold\">}}</span>,\n",
       "                    <span style=\"color: #008000; text-decoration-color: #008000\">'name'</span>: <span style=\"color: #008000; text-decoration-color: #008000\">'rating'</span>\n",
       "                <span style=\"font-weight: bold\">}</span>,\n",
       "                <span style=\"font-weight: bold\">{</span>\n",
       "                    <span style=\"color: #008000; text-decoration-color: #008000\">'dataType'</span>: <span style=\"font-weight: bold\">[</span><span style=\"color: #008000; text-decoration-color: #008000\">'text'</span><span style=\"font-weight: bold\">]</span>,\n",
       "                    <span style=\"color: #008000; text-decoration-color: #008000\">'description'</span>: <span style=\"color: #008000; text-decoration-color: #008000\">'Description of the product.'</span>,\n",
       "                    <span style=\"color: #008000; text-decoration-color: #008000\">'indexFilterable'</span>: <span style=\"color: #00ff00; text-decoration-color: #00ff00; font-style: italic\">True</span>,\n",
       "                    <span style=\"color: #008000; text-decoration-color: #008000\">'indexSearchable'</span>: <span style=\"color: #00ff00; text-decoration-color: #00ff00; font-style: italic\">True</span>,\n",
       "                    <span style=\"color: #008000; text-decoration-color: #008000\">'moduleConfig'</span>: <span style=\"font-weight: bold\">{</span><span style=\"color: #008000; text-decoration-color: #008000\">'text2vec-openai'</span>: <span style=\"font-weight: bold\">{</span><span style=\"color: #008000; text-decoration-color: #008000\">'skip'</span>: <span style=\"color: #ff0000; text-decoration-color: #ff0000; font-style: italic\">False</span>, <span style=\"color: #008000; text-decoration-color: #008000\">'vectorizePropertyName'</span>: <span style=\"color: #ff0000; text-decoration-color: #ff0000; font-style: italic\">False</span><span style=\"font-weight: bold\">}}</span>,\n",
       "                    <span style=\"color: #008000; text-decoration-color: #008000\">'name'</span>: <span style=\"color: #008000; text-decoration-color: #008000\">'description'</span>,\n",
       "                    <span style=\"color: #008000; text-decoration-color: #008000\">'tokenization'</span>: <span style=\"color: #008000; text-decoration-color: #008000\">'word'</span>\n",
       "                <span style=\"font-weight: bold\">}</span>,\n",
       "                <span style=\"font-weight: bold\">{</span>\n",
       "                    <span style=\"color: #008000; text-decoration-color: #008000\">'dataType'</span>: <span style=\"font-weight: bold\">[</span><span style=\"color: #008000; text-decoration-color: #008000\">'text'</span><span style=\"font-weight: bold\">]</span>,\n",
       "                    <span style=\"color: #008000; text-decoration-color: #008000\">'description'</span>: <span style=\"color: #008000; text-decoration-color: #008000\">'Feature of the product.'</span>,\n",
       "                    <span style=\"color: #008000; text-decoration-color: #008000\">'indexFilterable'</span>: <span style=\"color: #00ff00; text-decoration-color: #00ff00; font-style: italic\">True</span>,\n",
       "                    <span style=\"color: #008000; text-decoration-color: #008000\">'indexSearchable'</span>: <span style=\"color: #00ff00; text-decoration-color: #00ff00; font-style: italic\">True</span>,\n",
       "                    <span style=\"color: #008000; text-decoration-color: #008000\">'moduleConfig'</span>: <span style=\"font-weight: bold\">{</span><span style=\"color: #008000; text-decoration-color: #008000\">'text2vec-openai'</span>: <span style=\"font-weight: bold\">{</span><span style=\"color: #008000; text-decoration-color: #008000\">'skip'</span>: <span style=\"color: #ff0000; text-decoration-color: #ff0000; font-style: italic\">False</span>, <span style=\"color: #008000; text-decoration-color: #008000\">'vectorizePropertyName'</span>: <span style=\"color: #ff0000; text-decoration-color: #ff0000; font-style: italic\">False</span><span style=\"font-weight: bold\">}}</span>,\n",
       "                    <span style=\"color: #008000; text-decoration-color: #008000\">'name'</span>: <span style=\"color: #008000; text-decoration-color: #008000\">'features'</span>,\n",
       "                    <span style=\"color: #008000; text-decoration-color: #008000\">'tokenization'</span>: <span style=\"color: #008000; text-decoration-color: #008000\">'word'</span>\n",
       "                <span style=\"font-weight: bold\">}</span>\n",
       "            <span style=\"font-weight: bold\">]</span>,\n",
       "            <span style=\"color: #008000; text-decoration-color: #008000\">'replicationConfig'</span>: <span style=\"font-weight: bold\">{</span><span style=\"color: #008000; text-decoration-color: #008000\">'factor'</span>: <span style=\"color: #008080; text-decoration-color: #008080; font-weight: bold\">1</span><span style=\"font-weight: bold\">}</span>,\n",
       "            <span style=\"color: #008000; text-decoration-color: #008000\">'shardingConfig'</span>: <span style=\"font-weight: bold\">{</span>\n",
       "                <span style=\"color: #008000; text-decoration-color: #008000\">'virtualPerPhysical'</span>: <span style=\"color: #008080; text-decoration-color: #008080; font-weight: bold\">128</span>,\n",
       "                <span style=\"color: #008000; text-decoration-color: #008000\">'desiredCount'</span>: <span style=\"color: #008080; text-decoration-color: #008080; font-weight: bold\">1</span>,\n",
       "                <span style=\"color: #008000; text-decoration-color: #008000\">'actualCount'</span>: <span style=\"color: #008080; text-decoration-color: #008080; font-weight: bold\">1</span>,\n",
       "                <span style=\"color: #008000; text-decoration-color: #008000\">'desiredVirtualCount'</span>: <span style=\"color: #008080; text-decoration-color: #008080; font-weight: bold\">128</span>,\n",
       "                <span style=\"color: #008000; text-decoration-color: #008000\">'actualVirtualCount'</span>: <span style=\"color: #008080; text-decoration-color: #008080; font-weight: bold\">128</span>,\n",
       "                <span style=\"color: #008000; text-decoration-color: #008000\">'key'</span>: <span style=\"color: #008000; text-decoration-color: #008000\">'_id'</span>,\n",
       "                <span style=\"color: #008000; text-decoration-color: #008000\">'strategy'</span>: <span style=\"color: #008000; text-decoration-color: #008000\">'hash'</span>,\n",
       "                <span style=\"color: #008000; text-decoration-color: #008000\">'function'</span>: <span style=\"color: #008000; text-decoration-color: #008000\">'murmur3'</span>\n",
       "            <span style=\"font-weight: bold\">}</span>,\n",
       "            <span style=\"color: #008000; text-decoration-color: #008000\">'vectorIndexConfig'</span>: <span style=\"font-weight: bold\">{</span>\n",
       "                <span style=\"color: #008000; text-decoration-color: #008000\">'skip'</span>: <span style=\"color: #ff0000; text-decoration-color: #ff0000; font-style: italic\">False</span>,\n",
       "                <span style=\"color: #008000; text-decoration-color: #008000\">'cleanupIntervalSeconds'</span>: <span style=\"color: #008080; text-decoration-color: #008080; font-weight: bold\">300</span>,\n",
       "                <span style=\"color: #008000; text-decoration-color: #008000\">'maxConnections'</span>: <span style=\"color: #008080; text-decoration-color: #008080; font-weight: bold\">64</span>,\n",
       "                <span style=\"color: #008000; text-decoration-color: #008000\">'efConstruction'</span>: <span style=\"color: #008080; text-decoration-color: #008080; font-weight: bold\">128</span>,\n",
       "                <span style=\"color: #008000; text-decoration-color: #008000\">'ef'</span>: <span style=\"color: #008080; text-decoration-color: #008080; font-weight: bold\">-1</span>,\n",
       "                <span style=\"color: #008000; text-decoration-color: #008000\">'dynamicEfMin'</span>: <span style=\"color: #008080; text-decoration-color: #008080; font-weight: bold\">100</span>,\n",
       "                <span style=\"color: #008000; text-decoration-color: #008000\">'dynamicEfMax'</span>: <span style=\"color: #008080; text-decoration-color: #008080; font-weight: bold\">500</span>,\n",
       "                <span style=\"color: #008000; text-decoration-color: #008000\">'dynamicEfFactor'</span>: <span style=\"color: #008080; text-decoration-color: #008080; font-weight: bold\">8</span>,\n",
       "                <span style=\"color: #008000; text-decoration-color: #008000\">'vectorCacheMaxObjects'</span>: <span style=\"color: #008080; text-decoration-color: #008080; font-weight: bold\">1000000000000</span>,\n",
       "                <span style=\"color: #008000; text-decoration-color: #008000\">'flatSearchCutoff'</span>: <span style=\"color: #008080; text-decoration-color: #008080; font-weight: bold\">40000</span>,\n",
       "                <span style=\"color: #008000; text-decoration-color: #008000\">'distance'</span>: <span style=\"color: #008000; text-decoration-color: #008000\">'cosine'</span>,\n",
       "                <span style=\"color: #008000; text-decoration-color: #008000\">'pq'</span>: <span style=\"font-weight: bold\">{</span>\n",
       "                    <span style=\"color: #008000; text-decoration-color: #008000\">'enabled'</span>: <span style=\"color: #ff0000; text-decoration-color: #ff0000; font-style: italic\">False</span>,\n",
       "                    <span style=\"color: #008000; text-decoration-color: #008000\">'bitCompression'</span>: <span style=\"color: #ff0000; text-decoration-color: #ff0000; font-style: italic\">False</span>,\n",
       "                    <span style=\"color: #008000; text-decoration-color: #008000\">'segments'</span>: <span style=\"color: #008080; text-decoration-color: #008080; font-weight: bold\">0</span>,\n",
       "                    <span style=\"color: #008000; text-decoration-color: #008000\">'centroids'</span>: <span style=\"color: #008080; text-decoration-color: #008080; font-weight: bold\">256</span>,\n",
       "                    <span style=\"color: #008000; text-decoration-color: #008000\">'trainingLimit'</span>: <span style=\"color: #008080; text-decoration-color: #008080; font-weight: bold\">100000</span>,\n",
       "                    <span style=\"color: #008000; text-decoration-color: #008000\">'encoder'</span>: <span style=\"font-weight: bold\">{</span><span style=\"color: #008000; text-decoration-color: #008000\">'type'</span>: <span style=\"color: #008000; text-decoration-color: #008000\">'kmeans'</span>, <span style=\"color: #008000; text-decoration-color: #008000\">'distribution'</span>: <span style=\"color: #008000; text-decoration-color: #008000\">'log-normal'</span><span style=\"font-weight: bold\">}</span>\n",
       "                <span style=\"font-weight: bold\">}</span>\n",
       "            <span style=\"font-weight: bold\">}</span>,\n",
       "            <span style=\"color: #008000; text-decoration-color: #008000\">'vectorIndexType'</span>: <span style=\"color: #008000; text-decoration-color: #008000\">'hnsw'</span>,\n",
       "            <span style=\"color: #008000; text-decoration-color: #008000\">'vectorizer'</span>: <span style=\"color: #008000; text-decoration-color: #008000\">'text2vec-openai'</span>\n",
       "        <span style=\"font-weight: bold\">}</span>,\n",
       "        <span style=\"font-weight: bold\">{</span>\n",
       "            <span style=\"color: #008000; text-decoration-color: #008000\">'class'</span>: <span style=\"color: #008000; text-decoration-color: #008000\">'Product_sent_win_index_Node'</span>,\n",
       "            <span style=\"color: #008000; text-decoration-color: #008000\">'description'</span>: <span style=\"color: #008000; text-decoration-color: #008000\">'Class for Product_sent_win_index_Node'</span>,\n",
       "            <span style=\"color: #008000; text-decoration-color: #008000\">'invertedIndexConfig'</span>: <span style=\"font-weight: bold\">{</span>\n",
       "                <span style=\"color: #008000; text-decoration-color: #008000\">'bm25'</span>: <span style=\"font-weight: bold\">{</span><span style=\"color: #008000; text-decoration-color: #008000\">'b'</span>: <span style=\"color: #008080; text-decoration-color: #008080; font-weight: bold\">0.75</span>, <span style=\"color: #008000; text-decoration-color: #008000\">'k1'</span>: <span style=\"color: #008080; text-decoration-color: #008080; font-weight: bold\">1.2</span><span style=\"font-weight: bold\">}</span>,\n",
       "                <span style=\"color: #008000; text-decoration-color: #008000\">'cleanupIntervalSeconds'</span>: <span style=\"color: #008080; text-decoration-color: #008080; font-weight: bold\">60</span>,\n",
       "                <span style=\"color: #008000; text-decoration-color: #008000\">'stopwords'</span>: <span style=\"font-weight: bold\">{</span><span style=\"color: #008000; text-decoration-color: #008000\">'additions'</span>: <span style=\"color: #800080; text-decoration-color: #800080; font-style: italic\">None</span>, <span style=\"color: #008000; text-decoration-color: #008000\">'preset'</span>: <span style=\"color: #008000; text-decoration-color: #008000\">'en'</span>, <span style=\"color: #008000; text-decoration-color: #008000\">'removals'</span>: <span style=\"color: #800080; text-decoration-color: #800080; font-style: italic\">None</span><span style=\"font-weight: bold\">}</span>\n",
       "            <span style=\"font-weight: bold\">}</span>,\n",
       "            <span style=\"color: #008000; text-decoration-color: #008000\">'multiTenancyConfig'</span>: <span style=\"font-weight: bold\">{</span><span style=\"color: #008000; text-decoration-color: #008000\">'enabled'</span>: <span style=\"color: #ff0000; text-decoration-color: #ff0000; font-style: italic\">False</span><span style=\"font-weight: bold\">}</span>,\n",
       "            <span style=\"color: #008000; text-decoration-color: #008000\">'properties'</span>: <span style=\"font-weight: bold\">[</span>\n",
       "                <span style=\"font-weight: bold\">{</span>\n",
       "                    <span style=\"color: #008000; text-decoration-color: #008000\">'dataType'</span>: <span style=\"font-weight: bold\">[</span><span style=\"color: #008000; text-decoration-color: #008000\">'text'</span><span style=\"font-weight: bold\">]</span>,\n",
       "                    <span style=\"color: #008000; text-decoration-color: #008000\">'description'</span>: <span style=\"color: #008000; text-decoration-color: #008000\">'Text property'</span>,\n",
       "                    <span style=\"color: #008000; text-decoration-color: #008000\">'indexFilterable'</span>: <span style=\"color: #00ff00; text-decoration-color: #00ff00; font-style: italic\">True</span>,\n",
       "                    <span style=\"color: #008000; text-decoration-color: #008000\">'indexSearchable'</span>: <span style=\"color: #00ff00; text-decoration-color: #00ff00; font-style: italic\">True</span>,\n",
       "                    <span style=\"color: #008000; text-decoration-color: #008000\">'name'</span>: <span style=\"color: #008000; text-decoration-color: #008000\">'text'</span>,\n",
       "                    <span style=\"color: #008000; text-decoration-color: #008000\">'tokenization'</span>: <span style=\"color: #008000; text-decoration-color: #008000\">'word'</span>\n",
       "                <span style=\"font-weight: bold\">}</span>,\n",
       "                <span style=\"font-weight: bold\">{</span>\n",
       "                    <span style=\"color: #008000; text-decoration-color: #008000\">'dataType'</span>: <span style=\"font-weight: bold\">[</span><span style=\"color: #008000; text-decoration-color: #008000\">'text'</span><span style=\"font-weight: bold\">]</span>,\n",
       "                    <span style=\"color: #008000; text-decoration-color: #008000\">'description'</span>: <span style=\"color: #008000; text-decoration-color: #008000\">'The ref_doc_id of the Node'</span>,\n",
       "                    <span style=\"color: #008000; text-decoration-color: #008000\">'indexFilterable'</span>: <span style=\"color: #00ff00; text-decoration-color: #00ff00; font-style: italic\">True</span>,\n",
       "                    <span style=\"color: #008000; text-decoration-color: #008000\">'indexSearchable'</span>: <span style=\"color: #00ff00; text-decoration-color: #00ff00; font-style: italic\">True</span>,\n",
       "                    <span style=\"color: #008000; text-decoration-color: #008000\">'name'</span>: <span style=\"color: #008000; text-decoration-color: #008000\">'ref_doc_id'</span>,\n",
       "                    <span style=\"color: #008000; text-decoration-color: #008000\">'tokenization'</span>: <span style=\"color: #008000; text-decoration-color: #008000\">'word'</span>\n",
       "                <span style=\"font-weight: bold\">}</span>,\n",
       "                <span style=\"font-weight: bold\">{</span>\n",
       "                    <span style=\"color: #008000; text-decoration-color: #008000\">'dataType'</span>: <span style=\"font-weight: bold\">[</span><span style=\"color: #008000; text-decoration-color: #008000\">'text'</span><span style=\"font-weight: bold\">]</span>,\n",
       "                    <span style=\"color: #008000; text-decoration-color: #008000\">'description'</span>: <span style=\"color: #008000; text-decoration-color: #008000\">'node_info (in JSON)'</span>,\n",
       "                    <span style=\"color: #008000; text-decoration-color: #008000\">'indexFilterable'</span>: <span style=\"color: #00ff00; text-decoration-color: #00ff00; font-style: italic\">True</span>,\n",
       "                    <span style=\"color: #008000; text-decoration-color: #008000\">'indexSearchable'</span>: <span style=\"color: #00ff00; text-decoration-color: #00ff00; font-style: italic\">True</span>,\n",
       "                    <span style=\"color: #008000; text-decoration-color: #008000\">'name'</span>: <span style=\"color: #008000; text-decoration-color: #008000\">'node_info'</span>,\n",
       "                    <span style=\"color: #008000; text-decoration-color: #008000\">'tokenization'</span>: <span style=\"color: #008000; text-decoration-color: #008000\">'word'</span>\n",
       "                <span style=\"font-weight: bold\">}</span>,\n",
       "                <span style=\"font-weight: bold\">{</span>\n",
       "                    <span style=\"color: #008000; text-decoration-color: #008000\">'dataType'</span>: <span style=\"font-weight: bold\">[</span><span style=\"color: #008000; text-decoration-color: #008000\">'text'</span><span style=\"font-weight: bold\">]</span>,\n",
       "                    <span style=\"color: #008000; text-decoration-color: #008000\">'description'</span>: <span style=\"color: #008000; text-decoration-color: #008000\">'The relationships of the node (in JSON)'</span>,\n",
       "                    <span style=\"color: #008000; text-decoration-color: #008000\">'indexFilterable'</span>: <span style=\"color: #00ff00; text-decoration-color: #00ff00; font-style: italic\">True</span>,\n",
       "                    <span style=\"color: #008000; text-decoration-color: #008000\">'indexSearchable'</span>: <span style=\"color: #00ff00; text-decoration-color: #00ff00; font-style: italic\">True</span>,\n",
       "                    <span style=\"color: #008000; text-decoration-color: #008000\">'name'</span>: <span style=\"color: #008000; text-decoration-color: #008000\">'relationships'</span>,\n",
       "                    <span style=\"color: #008000; text-decoration-color: #008000\">'tokenization'</span>: <span style=\"color: #008000; text-decoration-color: #008000\">'word'</span>\n",
       "                <span style=\"font-weight: bold\">}</span>,\n",
       "                <span style=\"font-weight: bold\">{</span>\n",
       "                    <span style=\"color: #008000; text-decoration-color: #008000\">'dataType'</span>: <span style=\"font-weight: bold\">[</span><span style=\"color: #008000; text-decoration-color: #008000\">'text'</span><span style=\"font-weight: bold\">]</span>,\n",
       "                    <span style=\"color: #008000; text-decoration-color: #008000\">'description'</span>: <span style=\"color: #008000; text-decoration-color: #008000\">\"This property was generated by Weaviate's auto-schema feature on Sun Jan 28 </span>\n",
       "<span style=\"color: #008000; text-decoration-color: #008000\">19:03:32 2024\"</span>,\n",
       "                    <span style=\"color: #008000; text-decoration-color: #008000\">'indexFilterable'</span>: <span style=\"color: #00ff00; text-decoration-color: #00ff00; font-style: italic\">True</span>,\n",
       "                    <span style=\"color: #008000; text-decoration-color: #008000\">'indexSearchable'</span>: <span style=\"color: #00ff00; text-decoration-color: #00ff00; font-style: italic\">True</span>,\n",
       "                    <span style=\"color: #008000; text-decoration-color: #008000\">'name'</span>: <span style=\"color: #008000; text-decoration-color: #008000\">'_node_type'</span>,\n",
       "                    <span style=\"color: #008000; text-decoration-color: #008000\">'tokenization'</span>: <span style=\"color: #008000; text-decoration-color: #008000\">'word'</span>\n",
       "                <span style=\"font-weight: bold\">}</span>,\n",
       "                <span style=\"font-weight: bold\">{</span>\n",
       "                    <span style=\"color: #008000; text-decoration-color: #008000\">'dataType'</span>: <span style=\"font-weight: bold\">[</span><span style=\"color: #008000; text-decoration-color: #008000\">'uuid'</span><span style=\"font-weight: bold\">]</span>,\n",
       "                    <span style=\"color: #008000; text-decoration-color: #008000\">'description'</span>: <span style=\"color: #008000; text-decoration-color: #008000\">\"This property was generated by Weaviate's auto-schema feature on Sun Jan 28 </span>\n",
       "<span style=\"color: #008000; text-decoration-color: #008000\">19:03:32 2024\"</span>,\n",
       "                    <span style=\"color: #008000; text-decoration-color: #008000\">'indexFilterable'</span>: <span style=\"color: #00ff00; text-decoration-color: #00ff00; font-style: italic\">True</span>,\n",
       "                    <span style=\"color: #008000; text-decoration-color: #008000\">'indexSearchable'</span>: <span style=\"color: #ff0000; text-decoration-color: #ff0000; font-style: italic\">False</span>,\n",
       "                    <span style=\"color: #008000; text-decoration-color: #008000\">'name'</span>: <span style=\"color: #008000; text-decoration-color: #008000\">'document_id'</span>\n",
       "                <span style=\"font-weight: bold\">}</span>,\n",
       "                <span style=\"font-weight: bold\">{</span>\n",
       "                    <span style=\"color: #008000; text-decoration-color: #008000\">'dataType'</span>: <span style=\"font-weight: bold\">[</span><span style=\"color: #008000; text-decoration-color: #008000\">'uuid'</span><span style=\"font-weight: bold\">]</span>,\n",
       "                    <span style=\"color: #008000; text-decoration-color: #008000\">'description'</span>: <span style=\"color: #008000; text-decoration-color: #008000\">\"This property was generated by Weaviate's auto-schema feature on Sun Jan 28 </span>\n",
       "<span style=\"color: #008000; text-decoration-color: #008000\">19:03:32 2024\"</span>,\n",
       "                    <span style=\"color: #008000; text-decoration-color: #008000\">'indexFilterable'</span>: <span style=\"color: #00ff00; text-decoration-color: #00ff00; font-style: italic\">True</span>,\n",
       "                    <span style=\"color: #008000; text-decoration-color: #008000\">'indexSearchable'</span>: <span style=\"color: #ff0000; text-decoration-color: #ff0000; font-style: italic\">False</span>,\n",
       "                    <span style=\"color: #008000; text-decoration-color: #008000\">'name'</span>: <span style=\"color: #008000; text-decoration-color: #008000\">'doc_id'</span>\n",
       "                <span style=\"font-weight: bold\">}</span>,\n",
       "                <span style=\"font-weight: bold\">{</span>\n",
       "                    <span style=\"color: #008000; text-decoration-color: #008000\">'dataType'</span>: <span style=\"font-weight: bold\">[</span><span style=\"color: #008000; text-decoration-color: #008000\">'text'</span><span style=\"font-weight: bold\">]</span>,\n",
       "                    <span style=\"color: #008000; text-decoration-color: #008000\">'description'</span>: <span style=\"color: #008000; text-decoration-color: #008000\">\"This property was generated by Weaviate's auto-schema feature on Sun Jan 28 </span>\n",
       "<span style=\"color: #008000; text-decoration-color: #008000\">19:03:32 2024\"</span>,\n",
       "                    <span style=\"color: #008000; text-decoration-color: #008000\">'indexFilterable'</span>: <span style=\"color: #00ff00; text-decoration-color: #00ff00; font-style: italic\">True</span>,\n",
       "                    <span style=\"color: #008000; text-decoration-color: #008000\">'indexSearchable'</span>: <span style=\"color: #00ff00; text-decoration-color: #00ff00; font-style: italic\">True</span>,\n",
       "                    <span style=\"color: #008000; text-decoration-color: #008000\">'name'</span>: <span style=\"color: #008000; text-decoration-color: #008000\">'_node_content'</span>,\n",
       "                    <span style=\"color: #008000; text-decoration-color: #008000\">'tokenization'</span>: <span style=\"color: #008000; text-decoration-color: #008000\">'word'</span>\n",
       "                <span style=\"font-weight: bold\">}</span>\n",
       "            <span style=\"font-weight: bold\">]</span>,\n",
       "            <span style=\"color: #008000; text-decoration-color: #008000\">'replicationConfig'</span>: <span style=\"font-weight: bold\">{</span><span style=\"color: #008000; text-decoration-color: #008000\">'factor'</span>: <span style=\"color: #008080; text-decoration-color: #008080; font-weight: bold\">1</span><span style=\"font-weight: bold\">}</span>,\n",
       "            <span style=\"color: #008000; text-decoration-color: #008000\">'shardingConfig'</span>: <span style=\"font-weight: bold\">{</span>\n",
       "                <span style=\"color: #008000; text-decoration-color: #008000\">'virtualPerPhysical'</span>: <span style=\"color: #008080; text-decoration-color: #008080; font-weight: bold\">128</span>,\n",
       "                <span style=\"color: #008000; text-decoration-color: #008000\">'desiredCount'</span>: <span style=\"color: #008080; text-decoration-color: #008080; font-weight: bold\">1</span>,\n",
       "                <span style=\"color: #008000; text-decoration-color: #008000\">'actualCount'</span>: <span style=\"color: #008080; text-decoration-color: #008080; font-weight: bold\">1</span>,\n",
       "                <span style=\"color: #008000; text-decoration-color: #008000\">'desiredVirtualCount'</span>: <span style=\"color: #008080; text-decoration-color: #008080; font-weight: bold\">128</span>,\n",
       "                <span style=\"color: #008000; text-decoration-color: #008000\">'actualVirtualCount'</span>: <span style=\"color: #008080; text-decoration-color: #008080; font-weight: bold\">128</span>,\n",
       "                <span style=\"color: #008000; text-decoration-color: #008000\">'key'</span>: <span style=\"color: #008000; text-decoration-color: #008000\">'_id'</span>,\n",
       "                <span style=\"color: #008000; text-decoration-color: #008000\">'strategy'</span>: <span style=\"color: #008000; text-decoration-color: #008000\">'hash'</span>,\n",
       "                <span style=\"color: #008000; text-decoration-color: #008000\">'function'</span>: <span style=\"color: #008000; text-decoration-color: #008000\">'murmur3'</span>\n",
       "            <span style=\"font-weight: bold\">}</span>,\n",
       "            <span style=\"color: #008000; text-decoration-color: #008000\">'vectorIndexConfig'</span>: <span style=\"font-weight: bold\">{</span>\n",
       "                <span style=\"color: #008000; text-decoration-color: #008000\">'skip'</span>: <span style=\"color: #ff0000; text-decoration-color: #ff0000; font-style: italic\">False</span>,\n",
       "                <span style=\"color: #008000; text-decoration-color: #008000\">'cleanupIntervalSeconds'</span>: <span style=\"color: #008080; text-decoration-color: #008080; font-weight: bold\">300</span>,\n",
       "                <span style=\"color: #008000; text-decoration-color: #008000\">'maxConnections'</span>: <span style=\"color: #008080; text-decoration-color: #008080; font-weight: bold\">64</span>,\n",
       "                <span style=\"color: #008000; text-decoration-color: #008000\">'efConstruction'</span>: <span style=\"color: #008080; text-decoration-color: #008080; font-weight: bold\">128</span>,\n",
       "                <span style=\"color: #008000; text-decoration-color: #008000\">'ef'</span>: <span style=\"color: #008080; text-decoration-color: #008080; font-weight: bold\">-1</span>,\n",
       "                <span style=\"color: #008000; text-decoration-color: #008000\">'dynamicEfMin'</span>: <span style=\"color: #008080; text-decoration-color: #008080; font-weight: bold\">100</span>,\n",
       "                <span style=\"color: #008000; text-decoration-color: #008000\">'dynamicEfMax'</span>: <span style=\"color: #008080; text-decoration-color: #008080; font-weight: bold\">500</span>,\n",
       "                <span style=\"color: #008000; text-decoration-color: #008000\">'dynamicEfFactor'</span>: <span style=\"color: #008080; text-decoration-color: #008080; font-weight: bold\">8</span>,\n",
       "                <span style=\"color: #008000; text-decoration-color: #008000\">'vectorCacheMaxObjects'</span>: <span style=\"color: #008080; text-decoration-color: #008080; font-weight: bold\">1000000000000</span>,\n",
       "                <span style=\"color: #008000; text-decoration-color: #008000\">'flatSearchCutoff'</span>: <span style=\"color: #008080; text-decoration-color: #008080; font-weight: bold\">40000</span>,\n",
       "                <span style=\"color: #008000; text-decoration-color: #008000\">'distance'</span>: <span style=\"color: #008000; text-decoration-color: #008000\">'cosine'</span>,\n",
       "                <span style=\"color: #008000; text-decoration-color: #008000\">'pq'</span>: <span style=\"font-weight: bold\">{</span>\n",
       "                    <span style=\"color: #008000; text-decoration-color: #008000\">'enabled'</span>: <span style=\"color: #ff0000; text-decoration-color: #ff0000; font-style: italic\">False</span>,\n",
       "                    <span style=\"color: #008000; text-decoration-color: #008000\">'bitCompression'</span>: <span style=\"color: #ff0000; text-decoration-color: #ff0000; font-style: italic\">False</span>,\n",
       "                    <span style=\"color: #008000; text-decoration-color: #008000\">'segments'</span>: <span style=\"color: #008080; text-decoration-color: #008080; font-weight: bold\">0</span>,\n",
       "                    <span style=\"color: #008000; text-decoration-color: #008000\">'centroids'</span>: <span style=\"color: #008080; text-decoration-color: #008080; font-weight: bold\">256</span>,\n",
       "                    <span style=\"color: #008000; text-decoration-color: #008000\">'trainingLimit'</span>: <span style=\"color: #008080; text-decoration-color: #008080; font-weight: bold\">100000</span>,\n",
       "                    <span style=\"color: #008000; text-decoration-color: #008000\">'encoder'</span>: <span style=\"font-weight: bold\">{</span><span style=\"color: #008000; text-decoration-color: #008000\">'type'</span>: <span style=\"color: #008000; text-decoration-color: #008000\">'kmeans'</span>, <span style=\"color: #008000; text-decoration-color: #008000\">'distribution'</span>: <span style=\"color: #008000; text-decoration-color: #008000\">'log-normal'</span><span style=\"font-weight: bold\">}</span>\n",
       "                <span style=\"font-weight: bold\">}</span>\n",
       "            <span style=\"font-weight: bold\">}</span>,\n",
       "            <span style=\"color: #008000; text-decoration-color: #008000\">'vectorIndexType'</span>: <span style=\"color: #008000; text-decoration-color: #008000\">'hnsw'</span>,\n",
       "            <span style=\"color: #008000; text-decoration-color: #008000\">'vectorizer'</span>: <span style=\"color: #008000; text-decoration-color: #008000\">'none'</span>\n",
       "        <span style=\"font-weight: bold\">}</span>\n",
       "    <span style=\"font-weight: bold\">]</span>\n",
       "<span style=\"font-weight: bold\">}</span>\n",
       "</pre>\n"
      ],
      "text/plain": [
       "\u001b[1m{\u001b[0m\n",
       "    \u001b[32m'classes'\u001b[0m: \u001b[1m[\u001b[0m\n",
       "        \u001b[1m{\u001b[0m\n",
       "            \u001b[32m'class'\u001b[0m: \u001b[32m'Product'\u001b[0m,\n",
       "            \u001b[32m'description'\u001b[0m: \u001b[32m'Listing of Products'\u001b[0m,\n",
       "            \u001b[32m'invertedIndexConfig'\u001b[0m: \u001b[1m{\u001b[0m\n",
       "                \u001b[32m'bm25'\u001b[0m: \u001b[1m{\u001b[0m\u001b[32m'b'\u001b[0m: \u001b[1;36m0.75\u001b[0m, \u001b[32m'k1'\u001b[0m: \u001b[1;36m1.2\u001b[0m\u001b[1m}\u001b[0m,\n",
       "                \u001b[32m'cleanupIntervalSeconds'\u001b[0m: \u001b[1;36m60\u001b[0m,\n",
       "                \u001b[32m'stopwords'\u001b[0m: \u001b[1m{\u001b[0m\u001b[32m'additions'\u001b[0m: \u001b[3;35mNone\u001b[0m, \u001b[32m'preset'\u001b[0m: \u001b[32m'en'\u001b[0m, \u001b[32m'removals'\u001b[0m: \u001b[3;35mNone\u001b[0m\u001b[1m}\u001b[0m\n",
       "            \u001b[1m}\u001b[0m,\n",
       "            \u001b[32m'moduleConfig'\u001b[0m: \u001b[1m{\u001b[0m\n",
       "                \u001b[32m'text2vec-openai'\u001b[0m: \u001b[1m{\u001b[0m\n",
       "                    \u001b[32m'baseURL'\u001b[0m: \u001b[32m'https://api.openai.com'\u001b[0m,\n",
       "                    \u001b[32m'model'\u001b[0m: \u001b[32m'ada'\u001b[0m,\n",
       "                    \u001b[32m'modelVersion'\u001b[0m: \u001b[32m'002'\u001b[0m,\n",
       "                    \u001b[32m'type'\u001b[0m: \u001b[32m'text'\u001b[0m,\n",
       "                    \u001b[32m'vectorizeClassName'\u001b[0m: \u001b[3;92mTrue\u001b[0m\n",
       "                \u001b[1m}\u001b[0m\n",
       "            \u001b[1m}\u001b[0m,\n",
       "            \u001b[32m'multiTenancyConfig'\u001b[0m: \u001b[1m{\u001b[0m\u001b[32m'enabled'\u001b[0m: \u001b[3;91mFalse\u001b[0m\u001b[1m}\u001b[0m,\n",
       "            \u001b[32m'properties'\u001b[0m: \u001b[1m[\u001b[0m\n",
       "                \u001b[1m{\u001b[0m\n",
       "                    \u001b[32m'dataType'\u001b[0m: \u001b[1m[\u001b[0m\u001b[32m'text'\u001b[0m\u001b[1m]\u001b[0m,\n",
       "                    \u001b[32m'description'\u001b[0m: \u001b[32m'Name of the product.'\u001b[0m,\n",
       "                    \u001b[32m'indexFilterable'\u001b[0m: \u001b[3;92mTrue\u001b[0m,\n",
       "                    \u001b[32m'indexSearchable'\u001b[0m: \u001b[3;92mTrue\u001b[0m,\n",
       "                    \u001b[32m'moduleConfig'\u001b[0m: \u001b[1m{\u001b[0m\u001b[32m'text2vec-openai'\u001b[0m: \u001b[1m{\u001b[0m\u001b[32m'skip'\u001b[0m: \u001b[3;91mFalse\u001b[0m, \u001b[32m'vectorizePropertyName'\u001b[0m: \u001b[3;91mFalse\u001b[0m\u001b[1m}\u001b[0m\u001b[1m}\u001b[0m,\n",
       "                    \u001b[32m'name'\u001b[0m: \u001b[32m'product_Name'\u001b[0m,\n",
       "                    \u001b[32m'tokenization'\u001b[0m: \u001b[32m'word'\u001b[0m\n",
       "                \u001b[1m}\u001b[0m,\n",
       "                \u001b[1m{\u001b[0m\n",
       "                    \u001b[32m'dataType'\u001b[0m: \u001b[1m[\u001b[0m\u001b[32m'number'\u001b[0m\u001b[1m]\u001b[0m,\n",
       "                    \u001b[32m'description'\u001b[0m: \u001b[32m'Price of the product.'\u001b[0m,\n",
       "                    \u001b[32m'indexFilterable'\u001b[0m: \u001b[3;92mTrue\u001b[0m,\n",
       "                    \u001b[32m'indexSearchable'\u001b[0m: \u001b[3;91mFalse\u001b[0m,\n",
       "                    \u001b[32m'moduleConfig'\u001b[0m: \u001b[1m{\u001b[0m\u001b[32m'text2vec-openai'\u001b[0m: \u001b[1m{\u001b[0m\u001b[32m'skip'\u001b[0m: \u001b[3;91mFalse\u001b[0m, \u001b[32m'vectorizePropertyName'\u001b[0m: \u001b[3;91mFalse\u001b[0m\u001b[1m}\u001b[0m\u001b[1m}\u001b[0m,\n",
       "                    \u001b[32m'name'\u001b[0m: \u001b[32m'price'\u001b[0m\n",
       "                \u001b[1m}\u001b[0m,\n",
       "                \u001b[1m{\u001b[0m\n",
       "                    \u001b[32m'dataType'\u001b[0m: \u001b[1m[\u001b[0m\u001b[32m'number'\u001b[0m\u001b[1m]\u001b[0m,\n",
       "                    \u001b[32m'description'\u001b[0m: \u001b[32m'Rating of the product.'\u001b[0m,\n",
       "                    \u001b[32m'indexFilterable'\u001b[0m: \u001b[3;92mTrue\u001b[0m,\n",
       "                    \u001b[32m'indexSearchable'\u001b[0m: \u001b[3;91mFalse\u001b[0m,\n",
       "                    \u001b[32m'moduleConfig'\u001b[0m: \u001b[1m{\u001b[0m\u001b[32m'text2vec-openai'\u001b[0m: \u001b[1m{\u001b[0m\u001b[32m'skip'\u001b[0m: \u001b[3;91mFalse\u001b[0m, \u001b[32m'vectorizePropertyName'\u001b[0m: \u001b[3;91mFalse\u001b[0m\u001b[1m}\u001b[0m\u001b[1m}\u001b[0m,\n",
       "                    \u001b[32m'name'\u001b[0m: \u001b[32m'rating'\u001b[0m\n",
       "                \u001b[1m}\u001b[0m,\n",
       "                \u001b[1m{\u001b[0m\n",
       "                    \u001b[32m'dataType'\u001b[0m: \u001b[1m[\u001b[0m\u001b[32m'text'\u001b[0m\u001b[1m]\u001b[0m,\n",
       "                    \u001b[32m'description'\u001b[0m: \u001b[32m'Description of the product.'\u001b[0m,\n",
       "                    \u001b[32m'indexFilterable'\u001b[0m: \u001b[3;92mTrue\u001b[0m,\n",
       "                    \u001b[32m'indexSearchable'\u001b[0m: \u001b[3;92mTrue\u001b[0m,\n",
       "                    \u001b[32m'moduleConfig'\u001b[0m: \u001b[1m{\u001b[0m\u001b[32m'text2vec-openai'\u001b[0m: \u001b[1m{\u001b[0m\u001b[32m'skip'\u001b[0m: \u001b[3;91mFalse\u001b[0m, \u001b[32m'vectorizePropertyName'\u001b[0m: \u001b[3;91mFalse\u001b[0m\u001b[1m}\u001b[0m\u001b[1m}\u001b[0m,\n",
       "                    \u001b[32m'name'\u001b[0m: \u001b[32m'description'\u001b[0m,\n",
       "                    \u001b[32m'tokenization'\u001b[0m: \u001b[32m'word'\u001b[0m\n",
       "                \u001b[1m}\u001b[0m,\n",
       "                \u001b[1m{\u001b[0m\n",
       "                    \u001b[32m'dataType'\u001b[0m: \u001b[1m[\u001b[0m\u001b[32m'text'\u001b[0m\u001b[1m]\u001b[0m,\n",
       "                    \u001b[32m'description'\u001b[0m: \u001b[32m'Feature of the product.'\u001b[0m,\n",
       "                    \u001b[32m'indexFilterable'\u001b[0m: \u001b[3;92mTrue\u001b[0m,\n",
       "                    \u001b[32m'indexSearchable'\u001b[0m: \u001b[3;92mTrue\u001b[0m,\n",
       "                    \u001b[32m'moduleConfig'\u001b[0m: \u001b[1m{\u001b[0m\u001b[32m'text2vec-openai'\u001b[0m: \u001b[1m{\u001b[0m\u001b[32m'skip'\u001b[0m: \u001b[3;91mFalse\u001b[0m, \u001b[32m'vectorizePropertyName'\u001b[0m: \u001b[3;91mFalse\u001b[0m\u001b[1m}\u001b[0m\u001b[1m}\u001b[0m,\n",
       "                    \u001b[32m'name'\u001b[0m: \u001b[32m'features'\u001b[0m,\n",
       "                    \u001b[32m'tokenization'\u001b[0m: \u001b[32m'word'\u001b[0m\n",
       "                \u001b[1m}\u001b[0m\n",
       "            \u001b[1m]\u001b[0m,\n",
       "            \u001b[32m'replicationConfig'\u001b[0m: \u001b[1m{\u001b[0m\u001b[32m'factor'\u001b[0m: \u001b[1;36m1\u001b[0m\u001b[1m}\u001b[0m,\n",
       "            \u001b[32m'shardingConfig'\u001b[0m: \u001b[1m{\u001b[0m\n",
       "                \u001b[32m'virtualPerPhysical'\u001b[0m: \u001b[1;36m128\u001b[0m,\n",
       "                \u001b[32m'desiredCount'\u001b[0m: \u001b[1;36m1\u001b[0m,\n",
       "                \u001b[32m'actualCount'\u001b[0m: \u001b[1;36m1\u001b[0m,\n",
       "                \u001b[32m'desiredVirtualCount'\u001b[0m: \u001b[1;36m128\u001b[0m,\n",
       "                \u001b[32m'actualVirtualCount'\u001b[0m: \u001b[1;36m128\u001b[0m,\n",
       "                \u001b[32m'key'\u001b[0m: \u001b[32m'_id'\u001b[0m,\n",
       "                \u001b[32m'strategy'\u001b[0m: \u001b[32m'hash'\u001b[0m,\n",
       "                \u001b[32m'function'\u001b[0m: \u001b[32m'murmur3'\u001b[0m\n",
       "            \u001b[1m}\u001b[0m,\n",
       "            \u001b[32m'vectorIndexConfig'\u001b[0m: \u001b[1m{\u001b[0m\n",
       "                \u001b[32m'skip'\u001b[0m: \u001b[3;91mFalse\u001b[0m,\n",
       "                \u001b[32m'cleanupIntervalSeconds'\u001b[0m: \u001b[1;36m300\u001b[0m,\n",
       "                \u001b[32m'maxConnections'\u001b[0m: \u001b[1;36m64\u001b[0m,\n",
       "                \u001b[32m'efConstruction'\u001b[0m: \u001b[1;36m128\u001b[0m,\n",
       "                \u001b[32m'ef'\u001b[0m: \u001b[1;36m-1\u001b[0m,\n",
       "                \u001b[32m'dynamicEfMin'\u001b[0m: \u001b[1;36m100\u001b[0m,\n",
       "                \u001b[32m'dynamicEfMax'\u001b[0m: \u001b[1;36m500\u001b[0m,\n",
       "                \u001b[32m'dynamicEfFactor'\u001b[0m: \u001b[1;36m8\u001b[0m,\n",
       "                \u001b[32m'vectorCacheMaxObjects'\u001b[0m: \u001b[1;36m1000000000000\u001b[0m,\n",
       "                \u001b[32m'flatSearchCutoff'\u001b[0m: \u001b[1;36m40000\u001b[0m,\n",
       "                \u001b[32m'distance'\u001b[0m: \u001b[32m'cosine'\u001b[0m,\n",
       "                \u001b[32m'pq'\u001b[0m: \u001b[1m{\u001b[0m\n",
       "                    \u001b[32m'enabled'\u001b[0m: \u001b[3;91mFalse\u001b[0m,\n",
       "                    \u001b[32m'bitCompression'\u001b[0m: \u001b[3;91mFalse\u001b[0m,\n",
       "                    \u001b[32m'segments'\u001b[0m: \u001b[1;36m0\u001b[0m,\n",
       "                    \u001b[32m'centroids'\u001b[0m: \u001b[1;36m256\u001b[0m,\n",
       "                    \u001b[32m'trainingLimit'\u001b[0m: \u001b[1;36m100000\u001b[0m,\n",
       "                    \u001b[32m'encoder'\u001b[0m: \u001b[1m{\u001b[0m\u001b[32m'type'\u001b[0m: \u001b[32m'kmeans'\u001b[0m, \u001b[32m'distribution'\u001b[0m: \u001b[32m'log-normal'\u001b[0m\u001b[1m}\u001b[0m\n",
       "                \u001b[1m}\u001b[0m\n",
       "            \u001b[1m}\u001b[0m,\n",
       "            \u001b[32m'vectorIndexType'\u001b[0m: \u001b[32m'hnsw'\u001b[0m,\n",
       "            \u001b[32m'vectorizer'\u001b[0m: \u001b[32m'text2vec-openai'\u001b[0m\n",
       "        \u001b[1m}\u001b[0m,\n",
       "        \u001b[1m{\u001b[0m\n",
       "            \u001b[32m'class'\u001b[0m: \u001b[32m'Product_sent_win_index_Node'\u001b[0m,\n",
       "            \u001b[32m'description'\u001b[0m: \u001b[32m'Class for Product_sent_win_index_Node'\u001b[0m,\n",
       "            \u001b[32m'invertedIndexConfig'\u001b[0m: \u001b[1m{\u001b[0m\n",
       "                \u001b[32m'bm25'\u001b[0m: \u001b[1m{\u001b[0m\u001b[32m'b'\u001b[0m: \u001b[1;36m0.75\u001b[0m, \u001b[32m'k1'\u001b[0m: \u001b[1;36m1.2\u001b[0m\u001b[1m}\u001b[0m,\n",
       "                \u001b[32m'cleanupIntervalSeconds'\u001b[0m: \u001b[1;36m60\u001b[0m,\n",
       "                \u001b[32m'stopwords'\u001b[0m: \u001b[1m{\u001b[0m\u001b[32m'additions'\u001b[0m: \u001b[3;35mNone\u001b[0m, \u001b[32m'preset'\u001b[0m: \u001b[32m'en'\u001b[0m, \u001b[32m'removals'\u001b[0m: \u001b[3;35mNone\u001b[0m\u001b[1m}\u001b[0m\n",
       "            \u001b[1m}\u001b[0m,\n",
       "            \u001b[32m'multiTenancyConfig'\u001b[0m: \u001b[1m{\u001b[0m\u001b[32m'enabled'\u001b[0m: \u001b[3;91mFalse\u001b[0m\u001b[1m}\u001b[0m,\n",
       "            \u001b[32m'properties'\u001b[0m: \u001b[1m[\u001b[0m\n",
       "                \u001b[1m{\u001b[0m\n",
       "                    \u001b[32m'dataType'\u001b[0m: \u001b[1m[\u001b[0m\u001b[32m'text'\u001b[0m\u001b[1m]\u001b[0m,\n",
       "                    \u001b[32m'description'\u001b[0m: \u001b[32m'Text property'\u001b[0m,\n",
       "                    \u001b[32m'indexFilterable'\u001b[0m: \u001b[3;92mTrue\u001b[0m,\n",
       "                    \u001b[32m'indexSearchable'\u001b[0m: \u001b[3;92mTrue\u001b[0m,\n",
       "                    \u001b[32m'name'\u001b[0m: \u001b[32m'text'\u001b[0m,\n",
       "                    \u001b[32m'tokenization'\u001b[0m: \u001b[32m'word'\u001b[0m\n",
       "                \u001b[1m}\u001b[0m,\n",
       "                \u001b[1m{\u001b[0m\n",
       "                    \u001b[32m'dataType'\u001b[0m: \u001b[1m[\u001b[0m\u001b[32m'text'\u001b[0m\u001b[1m]\u001b[0m,\n",
       "                    \u001b[32m'description'\u001b[0m: \u001b[32m'The ref_doc_id of the Node'\u001b[0m,\n",
       "                    \u001b[32m'indexFilterable'\u001b[0m: \u001b[3;92mTrue\u001b[0m,\n",
       "                    \u001b[32m'indexSearchable'\u001b[0m: \u001b[3;92mTrue\u001b[0m,\n",
       "                    \u001b[32m'name'\u001b[0m: \u001b[32m'ref_doc_id'\u001b[0m,\n",
       "                    \u001b[32m'tokenization'\u001b[0m: \u001b[32m'word'\u001b[0m\n",
       "                \u001b[1m}\u001b[0m,\n",
       "                \u001b[1m{\u001b[0m\n",
       "                    \u001b[32m'dataType'\u001b[0m: \u001b[1m[\u001b[0m\u001b[32m'text'\u001b[0m\u001b[1m]\u001b[0m,\n",
       "                    \u001b[32m'description'\u001b[0m: \u001b[32m'node_info \u001b[0m\u001b[32m(\u001b[0m\u001b[32min JSON\u001b[0m\u001b[32m)\u001b[0m\u001b[32m'\u001b[0m,\n",
       "                    \u001b[32m'indexFilterable'\u001b[0m: \u001b[3;92mTrue\u001b[0m,\n",
       "                    \u001b[32m'indexSearchable'\u001b[0m: \u001b[3;92mTrue\u001b[0m,\n",
       "                    \u001b[32m'name'\u001b[0m: \u001b[32m'node_info'\u001b[0m,\n",
       "                    \u001b[32m'tokenization'\u001b[0m: \u001b[32m'word'\u001b[0m\n",
       "                \u001b[1m}\u001b[0m,\n",
       "                \u001b[1m{\u001b[0m\n",
       "                    \u001b[32m'dataType'\u001b[0m: \u001b[1m[\u001b[0m\u001b[32m'text'\u001b[0m\u001b[1m]\u001b[0m,\n",
       "                    \u001b[32m'description'\u001b[0m: \u001b[32m'The relationships of the node \u001b[0m\u001b[32m(\u001b[0m\u001b[32min JSON\u001b[0m\u001b[32m)\u001b[0m\u001b[32m'\u001b[0m,\n",
       "                    \u001b[32m'indexFilterable'\u001b[0m: \u001b[3;92mTrue\u001b[0m,\n",
       "                    \u001b[32m'indexSearchable'\u001b[0m: \u001b[3;92mTrue\u001b[0m,\n",
       "                    \u001b[32m'name'\u001b[0m: \u001b[32m'relationships'\u001b[0m,\n",
       "                    \u001b[32m'tokenization'\u001b[0m: \u001b[32m'word'\u001b[0m\n",
       "                \u001b[1m}\u001b[0m,\n",
       "                \u001b[1m{\u001b[0m\n",
       "                    \u001b[32m'dataType'\u001b[0m: \u001b[1m[\u001b[0m\u001b[32m'text'\u001b[0m\u001b[1m]\u001b[0m,\n",
       "                    \u001b[32m'description'\u001b[0m: \u001b[32m\"This property was generated by Weaviate's auto-schema feature on Sun Jan 28 \u001b[0m\n",
       "\u001b[32m19:03:32 2024\"\u001b[0m,\n",
       "                    \u001b[32m'indexFilterable'\u001b[0m: \u001b[3;92mTrue\u001b[0m,\n",
       "                    \u001b[32m'indexSearchable'\u001b[0m: \u001b[3;92mTrue\u001b[0m,\n",
       "                    \u001b[32m'name'\u001b[0m: \u001b[32m'_node_type'\u001b[0m,\n",
       "                    \u001b[32m'tokenization'\u001b[0m: \u001b[32m'word'\u001b[0m\n",
       "                \u001b[1m}\u001b[0m,\n",
       "                \u001b[1m{\u001b[0m\n",
       "                    \u001b[32m'dataType'\u001b[0m: \u001b[1m[\u001b[0m\u001b[32m'uuid'\u001b[0m\u001b[1m]\u001b[0m,\n",
       "                    \u001b[32m'description'\u001b[0m: \u001b[32m\"This property was generated by Weaviate's auto-schema feature on Sun Jan 28 \u001b[0m\n",
       "\u001b[32m19:03:32 2024\"\u001b[0m,\n",
       "                    \u001b[32m'indexFilterable'\u001b[0m: \u001b[3;92mTrue\u001b[0m,\n",
       "                    \u001b[32m'indexSearchable'\u001b[0m: \u001b[3;91mFalse\u001b[0m,\n",
       "                    \u001b[32m'name'\u001b[0m: \u001b[32m'document_id'\u001b[0m\n",
       "                \u001b[1m}\u001b[0m,\n",
       "                \u001b[1m{\u001b[0m\n",
       "                    \u001b[32m'dataType'\u001b[0m: \u001b[1m[\u001b[0m\u001b[32m'uuid'\u001b[0m\u001b[1m]\u001b[0m,\n",
       "                    \u001b[32m'description'\u001b[0m: \u001b[32m\"This property was generated by Weaviate's auto-schema feature on Sun Jan 28 \u001b[0m\n",
       "\u001b[32m19:03:32 2024\"\u001b[0m,\n",
       "                    \u001b[32m'indexFilterable'\u001b[0m: \u001b[3;92mTrue\u001b[0m,\n",
       "                    \u001b[32m'indexSearchable'\u001b[0m: \u001b[3;91mFalse\u001b[0m,\n",
       "                    \u001b[32m'name'\u001b[0m: \u001b[32m'doc_id'\u001b[0m\n",
       "                \u001b[1m}\u001b[0m,\n",
       "                \u001b[1m{\u001b[0m\n",
       "                    \u001b[32m'dataType'\u001b[0m: \u001b[1m[\u001b[0m\u001b[32m'text'\u001b[0m\u001b[1m]\u001b[0m,\n",
       "                    \u001b[32m'description'\u001b[0m: \u001b[32m\"This property was generated by Weaviate's auto-schema feature on Sun Jan 28 \u001b[0m\n",
       "\u001b[32m19:03:32 2024\"\u001b[0m,\n",
       "                    \u001b[32m'indexFilterable'\u001b[0m: \u001b[3;92mTrue\u001b[0m,\n",
       "                    \u001b[32m'indexSearchable'\u001b[0m: \u001b[3;92mTrue\u001b[0m,\n",
       "                    \u001b[32m'name'\u001b[0m: \u001b[32m'_node_content'\u001b[0m,\n",
       "                    \u001b[32m'tokenization'\u001b[0m: \u001b[32m'word'\u001b[0m\n",
       "                \u001b[1m}\u001b[0m\n",
       "            \u001b[1m]\u001b[0m,\n",
       "            \u001b[32m'replicationConfig'\u001b[0m: \u001b[1m{\u001b[0m\u001b[32m'factor'\u001b[0m: \u001b[1;36m1\u001b[0m\u001b[1m}\u001b[0m,\n",
       "            \u001b[32m'shardingConfig'\u001b[0m: \u001b[1m{\u001b[0m\n",
       "                \u001b[32m'virtualPerPhysical'\u001b[0m: \u001b[1;36m128\u001b[0m,\n",
       "                \u001b[32m'desiredCount'\u001b[0m: \u001b[1;36m1\u001b[0m,\n",
       "                \u001b[32m'actualCount'\u001b[0m: \u001b[1;36m1\u001b[0m,\n",
       "                \u001b[32m'desiredVirtualCount'\u001b[0m: \u001b[1;36m128\u001b[0m,\n",
       "                \u001b[32m'actualVirtualCount'\u001b[0m: \u001b[1;36m128\u001b[0m,\n",
       "                \u001b[32m'key'\u001b[0m: \u001b[32m'_id'\u001b[0m,\n",
       "                \u001b[32m'strategy'\u001b[0m: \u001b[32m'hash'\u001b[0m,\n",
       "                \u001b[32m'function'\u001b[0m: \u001b[32m'murmur3'\u001b[0m\n",
       "            \u001b[1m}\u001b[0m,\n",
       "            \u001b[32m'vectorIndexConfig'\u001b[0m: \u001b[1m{\u001b[0m\n",
       "                \u001b[32m'skip'\u001b[0m: \u001b[3;91mFalse\u001b[0m,\n",
       "                \u001b[32m'cleanupIntervalSeconds'\u001b[0m: \u001b[1;36m300\u001b[0m,\n",
       "                \u001b[32m'maxConnections'\u001b[0m: \u001b[1;36m64\u001b[0m,\n",
       "                \u001b[32m'efConstruction'\u001b[0m: \u001b[1;36m128\u001b[0m,\n",
       "                \u001b[32m'ef'\u001b[0m: \u001b[1;36m-1\u001b[0m,\n",
       "                \u001b[32m'dynamicEfMin'\u001b[0m: \u001b[1;36m100\u001b[0m,\n",
       "                \u001b[32m'dynamicEfMax'\u001b[0m: \u001b[1;36m500\u001b[0m,\n",
       "                \u001b[32m'dynamicEfFactor'\u001b[0m: \u001b[1;36m8\u001b[0m,\n",
       "                \u001b[32m'vectorCacheMaxObjects'\u001b[0m: \u001b[1;36m1000000000000\u001b[0m,\n",
       "                \u001b[32m'flatSearchCutoff'\u001b[0m: \u001b[1;36m40000\u001b[0m,\n",
       "                \u001b[32m'distance'\u001b[0m: \u001b[32m'cosine'\u001b[0m,\n",
       "                \u001b[32m'pq'\u001b[0m: \u001b[1m{\u001b[0m\n",
       "                    \u001b[32m'enabled'\u001b[0m: \u001b[3;91mFalse\u001b[0m,\n",
       "                    \u001b[32m'bitCompression'\u001b[0m: \u001b[3;91mFalse\u001b[0m,\n",
       "                    \u001b[32m'segments'\u001b[0m: \u001b[1;36m0\u001b[0m,\n",
       "                    \u001b[32m'centroids'\u001b[0m: \u001b[1;36m256\u001b[0m,\n",
       "                    \u001b[32m'trainingLimit'\u001b[0m: \u001b[1;36m100000\u001b[0m,\n",
       "                    \u001b[32m'encoder'\u001b[0m: \u001b[1m{\u001b[0m\u001b[32m'type'\u001b[0m: \u001b[32m'kmeans'\u001b[0m, \u001b[32m'distribution'\u001b[0m: \u001b[32m'log-normal'\u001b[0m\u001b[1m}\u001b[0m\n",
       "                \u001b[1m}\u001b[0m\n",
       "            \u001b[1m}\u001b[0m,\n",
       "            \u001b[32m'vectorIndexType'\u001b[0m: \u001b[32m'hnsw'\u001b[0m,\n",
       "            \u001b[32m'vectorizer'\u001b[0m: \u001b[32m'none'\u001b[0m\n",
       "        \u001b[1m}\u001b[0m\n",
       "    \u001b[1m]\u001b[0m\n",
       "\u001b[1m}\u001b[0m\n"
      ]
     },
     "metadata": {},
     "output_type": "display_data"
    }
   ],
   "source": [
    "# view the schme just created\n",
    "print(client.schema.get())"
   ]
  },
  {
   "attachments": {},
   "cell_type": "markdown",
   "metadata": {},
   "source": [
    "## Sentence Window Index and Store in Vectore DB"
   ]
  },
  {
   "cell_type": "code",
   "execution_count": 15,
   "metadata": {},
   "outputs": [
    {
     "name": "stderr",
     "output_type": "stream",
     "text": [
      "/home/zeus/miniconda3/envs/cloudspace/lib/python3.10/site-packages/weaviate/__init__.py:128: DeprecationWarning: Dep010: Importing AuthApiKey from weaviate is deprecated. Please import it from its specific module: weaviate.auth\n",
      "  _Warnings.root_module_import(name, map_[name])\n"
     ]
    }
   ],
   "source": [
    "product_index = build_sentence_window_index_vector_DB(\n",
    "    document = document,\n",
    "    client = client,\n",
    "    llm = llm,\n",
    "    embed_model=embed_model,\n",
    "    prefix = \"Product_sent_win_index\"\n",
    ")\n",
    "# sentence_index = build_sentence_window_index(\n",
    "#     document = document,\n",
    "#     llm = llm,\n",
    "#     embed_model=embed_model,\n",
    "#     save_dir=\"sentence_index\"\n",
    "# )"
   ]
  },
  {
   "attachments": {},
   "cell_type": "markdown",
   "metadata": {},
   "source": [
    "## Build Weaviate Index"
   ]
  },
  {
   "cell_type": "code",
   "execution_count": 18,
   "metadata": {},
   "outputs": [],
   "source": [
    "# vector_store = WeaviateVectorStore(weaviate_client=client, class_prefix=\"Product_index\")\n",
    "# storage_context = StorageContext.from_defaults(vector_store=vector_store)\n",
    "\n",
    "\n",
    "# product_index = VectorStoreIndex.from_documents([document], storage_context=storage_context, \n",
    "#                 service_context = service_context)\n",
    "\n"
   ]
  },
  {
   "attachments": {},
   "cell_type": "markdown",
   "metadata": {},
   "source": [
    "# 2. RETRIEVAL"
   ]
  },
  {
   "attachments": {},
   "cell_type": "markdown",
   "metadata": {},
   "source": [
    "## Build SQL Query Engine"
   ]
  },
  {
   "cell_type": "code",
   "execution_count": 16,
   "metadata": {},
   "outputs": [],
   "source": [
    "# set up text2SQL prompt\n",
    "sql_query_engine = NLSQLTableQueryEngine(\n",
    "    sql_database=sql_database,\n",
    "    tables=[\"product_table\"],\n",
    ")"
   ]
  },
  {
   "attachments": {},
   "cell_type": "markdown",
   "metadata": {},
   "source": [
    "## Build Vector Query Engine"
   ]
  },
  {
   "cell_type": "code",
   "execution_count": 17,
   "metadata": {},
   "outputs": [],
   "source": [
    "vector_query_engine  = get_sentence_window_query_engine(sentence_index = product_index,\n",
    "                     similarity_top_k=6,\n",
    "                    rerank_top_n=2,)\n",
    "\n",
    "# vector_query_engine = product_index.as_query_engine()"
   ]
  },
  {
   "attachments": {},
   "cell_type": "markdown",
   "metadata": {},
   "source": [
    "## Tell llama index what tool to use"
   ]
  },
  {
   "cell_type": "code",
   "execution_count": 18,
   "metadata": {},
   "outputs": [],
   "source": [
    "# from llama_index.tools.query_engine import QueryEngineTool\n",
    "\n",
    "sql_tool = QueryEngineTool.from_defaults(\n",
    "    query_engine = sql_query_engine,\n",
    "    description=(\n",
    "        \"Useful for translating a natural language query into a SQL query over a product listing table containing: \"\n",
    "        \"Price , Rating, Description, and Features of each product\"\n",
    "    ),\n",
    ")\n",
    "vector_tool = QueryEngineTool.from_defaults(\n",
    "    query_engine=vector_query_engine,\n",
    "    description=\"Useful for answering semantic questions about product listing\",\n",
    ")"
   ]
  },
  {
   "attachments": {},
   "cell_type": "markdown",
   "metadata": {},
   "source": [
    "## Create a router\n"
   ]
  },
  {
   "cell_type": "code",
   "execution_count": 19,
   "metadata": {},
   "outputs": [],
   "source": [
    "query_engine = RouterQueryEngine(\n",
    "    selector=LLMSingleSelector.from_defaults(),\n",
    "    query_engine_tools=([sql_tool] + [vector_tool]),\n",
    ")"
   ]
  },
  {
   "attachments": {},
   "cell_type": "markdown",
   "metadata": {},
   "source": [
    "## Queries\n"
   ]
  },
  {
   "cell_type": "code",
   "execution_count": 20,
   "metadata": {},
   "outputs": [
    {
     "data": {
      "text/markdown": [
       "**`Final Response:`** The rating for the product named Portable Solar Charger is 4.0."
      ],
      "text/plain": [
       "<IPython.core.display.Markdown object>"
      ]
     },
     "metadata": {},
     "output_type": "display_data"
    }
   ],
   "source": [
    "response = query_engine.query(\"What is the Rating for the product whose name is Portable Solar Charger?\")\n",
    "# print(str(response))\n",
    "display_response(response)"
   ]
  },
  {
   "cell_type": "code",
   "execution_count": 23,
   "metadata": {},
   "outputs": [
    {
     "data": {
      "text/markdown": [
       "**`Final Response:`** The Ultimate Wireless Bluetooth Earbuds are a top choice for audiophiles who value both sound quality and convenience. With advanced Bluetooth 5.0 technology, these earbuds offer seamless connectivity and crystal-clear audio. They provide high-fidelity sound with deep bass and clear treble, and also feature noise-canceling technology for an immersive listening experience. With 20 hours of playtime on a single charge, you can enjoy your music all day long. The ergonomic design ensures a secure and comfortable fit, and the touch controls make it easy to control playback and take calls. Additionally, these earbuds have an IPX7 waterproof rating, making them suitable for outdoor activities."
      ],
      "text/plain": [
       "<IPython.core.display.Markdown object>"
      ]
     },
     "metadata": {},
     "output_type": "display_data"
    }
   ],
   "source": [
    "response = query_engine.query(\"Tell me about Wireless \\\n",
    "Bluetooth Earbuds products in the product listing \")\n",
    "display_response(response)"
   ]
  },
  {
   "cell_type": "code",
   "execution_count": 22,
   "metadata": {},
   "outputs": [
    {
     "data": {
      "text/html": [
       "<pre style=\"white-space:pre;overflow-x:auto;line-height:normal;font-family:Menlo,'DejaVu Sans Mono',consolas,'Courier New',monospace\"><span style=\"color: #800080; text-decoration-color: #800080; font-weight: bold\">Response</span><span style=\"font-weight: bold\">(</span>\n",
       "    <span style=\"color: #808000; text-decoration-color: #808000\">response</span>=<span style=\"color: #008000; text-decoration-color: #008000\">'The Ultimate Wireless Bluetooth Earbuds are a top choice for audiophiles who value both sound quality</span>\n",
       "<span style=\"color: #008000; text-decoration-color: #008000\">and convenience. With advanced Bluetooth 5.0 technology, these earbuds offer seamless connectivity and </span>\n",
       "<span style=\"color: #008000; text-decoration-color: #008000\">crystal-clear audio. They provide high-fidelity sound with deep bass and clear treble, and also feature </span>\n",
       "<span style=\"color: #008000; text-decoration-color: #008000\">noise-canceling technology for an immersive listening experience. With 20 hours of playtime on a single charge, you</span>\n",
       "<span style=\"color: #008000; text-decoration-color: #008000\">can enjoy your music for extended periods of time. The ergonomic design ensures a secure and comfortable fit, and </span>\n",
       "<span style=\"color: #008000; text-decoration-color: #008000\">the touch controls make it easy to control playback and take calls. Additionally, these earbuds have an IPX7 </span>\n",
       "<span style=\"color: #008000; text-decoration-color: #008000\">waterproof rating, making them suitable for outdoor activities.'</span>,\n",
       "    <span style=\"color: #808000; text-decoration-color: #808000\">source_nodes</span>=<span style=\"font-weight: bold\">[</span>\n",
       "        <span style=\"color: #800080; text-decoration-color: #800080; font-weight: bold\">NodeWithScore</span><span style=\"font-weight: bold\">(</span>\n",
       "            <span style=\"color: #808000; text-decoration-color: #808000\">node</span>=<span style=\"color: #800080; text-decoration-color: #800080; font-weight: bold\">TextNode</span><span style=\"font-weight: bold\">(</span>\n",
       "                <span style=\"color: #808000; text-decoration-color: #808000\">id_</span>=<span style=\"color: #008000; text-decoration-color: #008000\">'ff46a7f9-1a62-4709-b850-bdd4acb880fc'</span>,\n",
       "                <span style=\"color: #808000; text-decoration-color: #808000\">embedding</span>=<span style=\"color: #800080; text-decoration-color: #800080; font-style: italic\">None</span>,\n",
       "                <span style=\"color: #808000; text-decoration-color: #808000\">metadata</span>=<span style=\"font-weight: bold\">{}</span>,\n",
       "                <span style=\"color: #808000; text-decoration-color: #808000\">excluded_embed_metadata_keys</span>=<span style=\"font-weight: bold\">[]</span>,\n",
       "                <span style=\"color: #808000; text-decoration-color: #808000\">excluded_llm_metadata_keys</span>=<span style=\"font-weight: bold\">[]</span>,\n",
       "                <span style=\"color: #808000; text-decoration-color: #808000\">relationships</span>=<span style=\"font-weight: bold\">{}</span>,\n",
       "                <span style=\"color: #808000; text-decoration-color: #808000\">text</span>=<span style=\"color: #008000; text-decoration-color: #008000\">'[(\\'Ultimate Wireless Bluetooth Earbuds\\', 79.99, 4.4, \"Elevate your music experience with </span>\n",
       "<span style=\"color: #008000; text-decoration-color: #008000\">our Ultimate Wireless Bluetooth Earbuds. These earbuds are designed for audiophiles who demand premium sound </span>\n",
       "<span style=\"color: #008000; text-decoration-color: #008000\">quality and convenience. With advanced Bluetooth 5.0 technology, you\\'ll enjoy seamless connectivity and </span>\n",
       "<span style=\"color: #008000; text-decoration-color: #008000\">crystal-clear audio.\", \\'- High-fidelity sound with deep bass and clear treble. - Noise-canceling technology for an</span>\n",
       "<span style=\"color: #008000; text-decoration-color: #008000\">immersive listening experience. - 20 hours of playtime on a single charge. - Ergonomic design for a secure and </span>\n",
       "<span style=\"color: #008000; text-decoration-color: #008000\">comfortable fit. - Touch controls for easy playback and calls. - IPX7 waterproof rating for...\\')]'</span>,\n",
       "                <span style=\"color: #808000; text-decoration-color: #808000\">start_char_idx</span>=<span style=\"color: #800080; text-decoration-color: #800080; font-style: italic\">None</span>,\n",
       "                <span style=\"color: #808000; text-decoration-color: #808000\">end_char_idx</span>=<span style=\"color: #800080; text-decoration-color: #800080; font-style: italic\">None</span>,\n",
       "                <span style=\"color: #808000; text-decoration-color: #808000\">text_template</span>=<span style=\"color: #008000; text-decoration-color: #008000\">'{metadata_str}\\n\\n{content}'</span>,\n",
       "                <span style=\"color: #808000; text-decoration-color: #808000\">metadata_template</span>=<span style=\"color: #008000; text-decoration-color: #008000\">'{key}: {value}'</span>,\n",
       "                <span style=\"color: #808000; text-decoration-color: #808000\">metadata_seperator</span>=<span style=\"color: #008000; text-decoration-color: #008000\">'\\n'</span>\n",
       "            <span style=\"font-weight: bold\">)</span>,\n",
       "            <span style=\"color: #808000; text-decoration-color: #808000\">score</span>=<span style=\"color: #800080; text-decoration-color: #800080; font-style: italic\">None</span>\n",
       "        <span style=\"font-weight: bold\">)</span>\n",
       "    <span style=\"font-weight: bold\">]</span>,\n",
       "    <span style=\"color: #808000; text-decoration-color: #808000\">metadata</span>=<span style=\"font-weight: bold\">{</span>\n",
       "        <span style=\"color: #008000; text-decoration-color: #008000\">'ff46a7f9-1a62-4709-b850-bdd4acb880fc'</span>: <span style=\"font-weight: bold\">{}</span>,\n",
       "        <span style=\"color: #008000; text-decoration-color: #008000\">'sql_query'</span>: <span style=\"color: #008000; text-decoration-color: #008000\">\"SELECT Product_Name, Price, Rating, Description, Features\\nFROM product_table\\nWHERE </span>\n",
       "<span style=\"color: #008000; text-decoration-color: #008000\">Product_Name LIKE '%Wireless Bluetooth Earbuds%'\"</span>,\n",
       "        <span style=\"color: #008000; text-decoration-color: #008000\">'result'</span>: <span style=\"font-weight: bold\">[</span>\n",
       "            <span style=\"font-weight: bold\">(</span>\n",
       "                <span style=\"color: #008000; text-decoration-color: #008000\">'Ultimate Wireless Bluetooth Earbuds'</span>,\n",
       "                <span style=\"color: #008080; text-decoration-color: #008080; font-weight: bold\">79.99</span>,\n",
       "                <span style=\"color: #008080; text-decoration-color: #008080; font-weight: bold\">4.4</span>,\n",
       "                <span style=\"color: #008000; text-decoration-color: #008000\">\"Elevate your music experience with our Ultimate Wireless Bluetooth Earbuds. These earbuds are </span>\n",
       "<span style=\"color: #008000; text-decoration-color: #008000\">designed for audiophiles who demand premium sound quality and convenience. With advanced Bluetooth 5.0 technology, </span>\n",
       "<span style=\"color: #008000; text-decoration-color: #008000\">you'll enjoy seamless connectivity and crystal-clear audio.\"</span>,\n",
       "                <span style=\"color: #008000; text-decoration-color: #008000\">'- High-fidelity sound with deep bass and clear treble. - Noise-canceling technology for an </span>\n",
       "<span style=\"color: #008000; text-decoration-color: #008000\">immersive listening experience. - 20 hours of playtime on a single charge. - Ergonomic design for a secure and </span>\n",
       "<span style=\"color: #008000; text-decoration-color: #008000\">comfortable fit. - Touch controls for easy playback and calls. - IPX7 waterproof rating for...'</span>\n",
       "            <span style=\"font-weight: bold\">)</span>\n",
       "        <span style=\"font-weight: bold\">]</span>,\n",
       "        <span style=\"color: #008000; text-decoration-color: #008000\">'col_keys'</span>: <span style=\"font-weight: bold\">[</span><span style=\"color: #008000; text-decoration-color: #008000\">'Product_Name'</span>, <span style=\"color: #008000; text-decoration-color: #008000\">'Price'</span>, <span style=\"color: #008000; text-decoration-color: #008000\">'Rating'</span>, <span style=\"color: #008000; text-decoration-color: #008000\">'Description'</span>, <span style=\"color: #008000; text-decoration-color: #008000\">'Features'</span><span style=\"font-weight: bold\">]</span>,\n",
       "        <span style=\"color: #008000; text-decoration-color: #008000\">'selector_result'</span>: <span style=\"color: #800080; text-decoration-color: #800080; font-weight: bold\">MultiSelection</span><span style=\"font-weight: bold\">(</span>\n",
       "            <span style=\"color: #808000; text-decoration-color: #808000\">selections</span>=<span style=\"font-weight: bold\">[</span>\n",
       "                <span style=\"color: #800080; text-decoration-color: #800080; font-weight: bold\">SingleSelection</span><span style=\"font-weight: bold\">(</span>\n",
       "                    <span style=\"color: #808000; text-decoration-color: #808000\">index</span>=<span style=\"color: #008080; text-decoration-color: #008080; font-weight: bold\">0</span>,\n",
       "                    <span style=\"color: #808000; text-decoration-color: #808000\">reason</span>=<span style=\"color: #008000; text-decoration-color: #008000\">'Choice 1 is the most relevant because it mentions translating a natural language query </span>\n",
       "<span style=\"color: #008000; text-decoration-color: #008000\">into a SQL query over a product listing table, which would be useful for retrieving information about specific </span>\n",
       "<span style=\"color: #008000; text-decoration-color: #008000\">products like Wireless Bluetooth Earbuds.'</span>\n",
       "                <span style=\"font-weight: bold\">)</span>\n",
       "            <span style=\"font-weight: bold\">]</span>\n",
       "        <span style=\"font-weight: bold\">)</span>\n",
       "    <span style=\"font-weight: bold\">}</span>\n",
       "<span style=\"font-weight: bold\">)</span>\n",
       "</pre>\n"
      ],
      "text/plain": [
       "\u001b[1;35mResponse\u001b[0m\u001b[1m(\u001b[0m\n",
       "    \u001b[33mresponse\u001b[0m=\u001b[32m'The Ultimate Wireless Bluetooth Earbuds are a top choice for audiophiles who value both sound quality\u001b[0m\n",
       "\u001b[32mand convenience. With advanced Bluetooth 5.0 technology, these earbuds offer seamless connectivity and \u001b[0m\n",
       "\u001b[32mcrystal-clear audio. They provide high-fidelity sound with deep bass and clear treble, and also feature \u001b[0m\n",
       "\u001b[32mnoise-canceling technology for an immersive listening experience. With 20 hours of playtime on a single charge, you\u001b[0m\n",
       "\u001b[32mcan enjoy your music for extended periods of time. The ergonomic design ensures a secure and comfortable fit, and \u001b[0m\n",
       "\u001b[32mthe touch controls make it easy to control playback and take calls. Additionally, these earbuds have an IPX7 \u001b[0m\n",
       "\u001b[32mwaterproof rating, making them suitable for outdoor activities.'\u001b[0m,\n",
       "    \u001b[33msource_nodes\u001b[0m=\u001b[1m[\u001b[0m\n",
       "        \u001b[1;35mNodeWithScore\u001b[0m\u001b[1m(\u001b[0m\n",
       "            \u001b[33mnode\u001b[0m=\u001b[1;35mTextNode\u001b[0m\u001b[1m(\u001b[0m\n",
       "                \u001b[33mid_\u001b[0m=\u001b[32m'ff46a7f9-1a62-4709-b850-bdd4acb880fc'\u001b[0m,\n",
       "                \u001b[33membedding\u001b[0m=\u001b[3;35mNone\u001b[0m,\n",
       "                \u001b[33mmetadata\u001b[0m=\u001b[1m{\u001b[0m\u001b[1m}\u001b[0m,\n",
       "                \u001b[33mexcluded_embed_metadata_keys\u001b[0m=\u001b[1m[\u001b[0m\u001b[1m]\u001b[0m,\n",
       "                \u001b[33mexcluded_llm_metadata_keys\u001b[0m=\u001b[1m[\u001b[0m\u001b[1m]\u001b[0m,\n",
       "                \u001b[33mrelationships\u001b[0m=\u001b[1m{\u001b[0m\u001b[1m}\u001b[0m,\n",
       "                \u001b[33mtext\u001b[0m=\u001b[32m'\u001b[0m\u001b[32m[\u001b[0m\u001b[32m(\u001b[0m\u001b[32m\\'Ultimate Wireless Bluetooth Earbuds\\', 79.99, 4.4, \"Elevate your music experience with \u001b[0m\n",
       "\u001b[32mour Ultimate Wireless Bluetooth Earbuds. These earbuds are designed for audiophiles who demand premium sound \u001b[0m\n",
       "\u001b[32mquality and convenience. With advanced Bluetooth 5.0 technology, you\\'ll enjoy seamless connectivity and \u001b[0m\n",
       "\u001b[32mcrystal-clear audio.\", \\'- High-fidelity sound with deep bass and clear treble. - Noise-canceling technology for an\u001b[0m\n",
       "\u001b[32mimmersive listening experience. - 20 hours of playtime on a single charge. - Ergonomic design for a secure and \u001b[0m\n",
       "\u001b[32mcomfortable fit. - Touch controls for easy playback and calls. - IPX7 waterproof rating for...\\'\u001b[0m\u001b[32m)\u001b[0m\u001b[32m]\u001b[0m\u001b[32m'\u001b[0m,\n",
       "                \u001b[33mstart_char_idx\u001b[0m=\u001b[3;35mNone\u001b[0m,\n",
       "                \u001b[33mend_char_idx\u001b[0m=\u001b[3;35mNone\u001b[0m,\n",
       "                \u001b[33mtext_template\u001b[0m=\u001b[32m'\u001b[0m\u001b[32m{\u001b[0m\u001b[32mmetadata_str\u001b[0m\u001b[32m}\u001b[0m\u001b[32m\\n\\n\u001b[0m\u001b[32m{\u001b[0m\u001b[32mcontent\u001b[0m\u001b[32m}\u001b[0m\u001b[32m'\u001b[0m,\n",
       "                \u001b[33mmetadata_template\u001b[0m=\u001b[32m'\u001b[0m\u001b[32m{\u001b[0m\u001b[32mkey\u001b[0m\u001b[32m}\u001b[0m\u001b[32m: \u001b[0m\u001b[32m{\u001b[0m\u001b[32mvalue\u001b[0m\u001b[32m}\u001b[0m\u001b[32m'\u001b[0m,\n",
       "                \u001b[33mmetadata_seperator\u001b[0m=\u001b[32m'\\n'\u001b[0m\n",
       "            \u001b[1m)\u001b[0m,\n",
       "            \u001b[33mscore\u001b[0m=\u001b[3;35mNone\u001b[0m\n",
       "        \u001b[1m)\u001b[0m\n",
       "    \u001b[1m]\u001b[0m,\n",
       "    \u001b[33mmetadata\u001b[0m=\u001b[1m{\u001b[0m\n",
       "        \u001b[32m'ff46a7f9-1a62-4709-b850-bdd4acb880fc'\u001b[0m: \u001b[1m{\u001b[0m\u001b[1m}\u001b[0m,\n",
       "        \u001b[32m'sql_query'\u001b[0m: \u001b[32m\"SELECT Product_Name, Price, Rating, Description, Features\\nFROM product_table\\nWHERE \u001b[0m\n",
       "\u001b[32mProduct_Name LIKE '%Wireless Bluetooth Earbuds%'\"\u001b[0m,\n",
       "        \u001b[32m'result'\u001b[0m: \u001b[1m[\u001b[0m\n",
       "            \u001b[1m(\u001b[0m\n",
       "                \u001b[32m'Ultimate Wireless Bluetooth Earbuds'\u001b[0m,\n",
       "                \u001b[1;36m79.99\u001b[0m,\n",
       "                \u001b[1;36m4.4\u001b[0m,\n",
       "                \u001b[32m\"Elevate your music experience with our Ultimate Wireless Bluetooth Earbuds. These earbuds are \u001b[0m\n",
       "\u001b[32mdesigned for audiophiles who demand premium sound quality and convenience. With advanced Bluetooth 5.0 technology, \u001b[0m\n",
       "\u001b[32myou'll enjoy seamless connectivity and crystal-clear audio.\"\u001b[0m,\n",
       "                \u001b[32m'- High-fidelity sound with deep bass and clear treble. - Noise-canceling technology for an \u001b[0m\n",
       "\u001b[32mimmersive listening experience. - 20 hours of playtime on a single charge. - Ergonomic design for a secure and \u001b[0m\n",
       "\u001b[32mcomfortable fit. - Touch controls for easy playback and calls. - IPX7 waterproof rating for...'\u001b[0m\n",
       "            \u001b[1m)\u001b[0m\n",
       "        \u001b[1m]\u001b[0m,\n",
       "        \u001b[32m'col_keys'\u001b[0m: \u001b[1m[\u001b[0m\u001b[32m'Product_Name'\u001b[0m, \u001b[32m'Price'\u001b[0m, \u001b[32m'Rating'\u001b[0m, \u001b[32m'Description'\u001b[0m, \u001b[32m'Features'\u001b[0m\u001b[1m]\u001b[0m,\n",
       "        \u001b[32m'selector_result'\u001b[0m: \u001b[1;35mMultiSelection\u001b[0m\u001b[1m(\u001b[0m\n",
       "            \u001b[33mselections\u001b[0m=\u001b[1m[\u001b[0m\n",
       "                \u001b[1;35mSingleSelection\u001b[0m\u001b[1m(\u001b[0m\n",
       "                    \u001b[33mindex\u001b[0m=\u001b[1;36m0\u001b[0m,\n",
       "                    \u001b[33mreason\u001b[0m=\u001b[32m'Choice 1 is the most relevant because it mentions translating a natural language query \u001b[0m\n",
       "\u001b[32minto a SQL query over a product listing table, which would be useful for retrieving information about specific \u001b[0m\n",
       "\u001b[32mproducts like Wireless Bluetooth Earbuds.'\u001b[0m\n",
       "                \u001b[1m)\u001b[0m\n",
       "            \u001b[1m]\u001b[0m\n",
       "        \u001b[1m)\u001b[0m\n",
       "    \u001b[1m}\u001b[0m\n",
       "\u001b[1m)\u001b[0m\n"
      ]
     },
     "metadata": {},
     "output_type": "display_data"
    }
   ],
   "source": [
    "print(response)"
   ]
  },
  {
   "cell_type": "code",
   "execution_count": 26,
   "metadata": {},
   "outputs": [
    {
     "data": {
      "text/markdown": [
       "**`Final Response:`** There are 2 products in the product listing that cost 79.99."
      ],
      "text/plain": [
       "<IPython.core.display.Markdown object>"
      ]
     },
     "metadata": {},
     "output_type": "display_data"
    }
   ],
   "source": [
    "response = query_engine.query(\"How many product cost 79.99 in the product listing?\")\n",
    "display_response(response)"
   ]
  },
  {
   "cell_type": "code",
   "execution_count": 24,
   "metadata": {},
   "outputs": [
    {
     "data": {
      "text/html": [
       "<pre style=\"white-space:pre;overflow-x:auto;line-height:normal;font-family:Menlo,'DejaVu Sans Mono',consolas,'Courier New',monospace\"><span style=\"color: #800080; text-decoration-color: #800080; font-weight: bold\">Response</span><span style=\"font-weight: bold\">(</span>\n",
       "    <span style=\"color: #808000; text-decoration-color: #808000\">response</span>=<span style=\"color: #008000; text-decoration-color: #008000\">'The Ultimate Wireless Bluetooth Earbuds are a top choice for audiophiles who value both sound quality</span>\n",
       "<span style=\"color: #008000; text-decoration-color: #008000\">and convenience. With advanced Bluetooth 5.0 technology, these earbuds offer seamless connectivity and </span>\n",
       "<span style=\"color: #008000; text-decoration-color: #008000\">crystal-clear audio. They provide high-fidelity sound with deep bass and clear treble, and also feature </span>\n",
       "<span style=\"color: #008000; text-decoration-color: #008000\">noise-canceling technology for an immersive listening experience. With 20 hours of playtime on a single charge, you</span>\n",
       "<span style=\"color: #008000; text-decoration-color: #008000\">can enjoy your music all day long. The ergonomic design ensures a secure and comfortable fit, and the touch </span>\n",
       "<span style=\"color: #008000; text-decoration-color: #008000\">controls make it easy to control playback and take calls. Additionally, these earbuds have an IPX7 waterproof </span>\n",
       "<span style=\"color: #008000; text-decoration-color: #008000\">rating, making them suitable for outdoor activities.'</span>,\n",
       "    <span style=\"color: #808000; text-decoration-color: #808000\">source_nodes</span>=<span style=\"font-weight: bold\">[</span>\n",
       "        <span style=\"color: #800080; text-decoration-color: #800080; font-weight: bold\">NodeWithScore</span><span style=\"font-weight: bold\">(</span>\n",
       "            <span style=\"color: #808000; text-decoration-color: #808000\">node</span>=<span style=\"color: #800080; text-decoration-color: #800080; font-weight: bold\">TextNode</span><span style=\"font-weight: bold\">(</span>\n",
       "                <span style=\"color: #808000; text-decoration-color: #808000\">id_</span>=<span style=\"color: #008000; text-decoration-color: #008000\">'3561de1c-49ec-4443-9da5-8549f36e5e75'</span>,\n",
       "                <span style=\"color: #808000; text-decoration-color: #808000\">embedding</span>=<span style=\"color: #800080; text-decoration-color: #800080; font-style: italic\">None</span>,\n",
       "                <span style=\"color: #808000; text-decoration-color: #808000\">metadata</span>=<span style=\"font-weight: bold\">{}</span>,\n",
       "                <span style=\"color: #808000; text-decoration-color: #808000\">excluded_embed_metadata_keys</span>=<span style=\"font-weight: bold\">[]</span>,\n",
       "                <span style=\"color: #808000; text-decoration-color: #808000\">excluded_llm_metadata_keys</span>=<span style=\"font-weight: bold\">[]</span>,\n",
       "                <span style=\"color: #808000; text-decoration-color: #808000\">relationships</span>=<span style=\"font-weight: bold\">{}</span>,\n",
       "                <span style=\"color: #808000; text-decoration-color: #808000\">text</span>=<span style=\"color: #008000; text-decoration-color: #008000\">'[(\\'Ultimate Wireless Bluetooth Earbuds\\', 79.99, 4.4, \"Elevate your music experience with </span>\n",
       "<span style=\"color: #008000; text-decoration-color: #008000\">our Ultimate Wireless Bluetooth Earbuds. These earbuds are designed for audiophiles who demand premium sound </span>\n",
       "<span style=\"color: #008000; text-decoration-color: #008000\">quality and convenience. With advanced Bluetooth 5.0 technology, you\\'ll enjoy seamless connectivity and </span>\n",
       "<span style=\"color: #008000; text-decoration-color: #008000\">crystal-clear audio.\", \\'- High-fidelity sound with deep bass and clear treble. - Noise-canceling technology for an</span>\n",
       "<span style=\"color: #008000; text-decoration-color: #008000\">immersive listening experience. - 20 hours of playtime on a single charge. - Ergonomic design for a secure and </span>\n",
       "<span style=\"color: #008000; text-decoration-color: #008000\">comfortable fit. - Touch controls for easy playback and calls. - IPX7 waterproof rating for...\\')]'</span>,\n",
       "                <span style=\"color: #808000; text-decoration-color: #808000\">start_char_idx</span>=<span style=\"color: #800080; text-decoration-color: #800080; font-style: italic\">None</span>,\n",
       "                <span style=\"color: #808000; text-decoration-color: #808000\">end_char_idx</span>=<span style=\"color: #800080; text-decoration-color: #800080; font-style: italic\">None</span>,\n",
       "                <span style=\"color: #808000; text-decoration-color: #808000\">text_template</span>=<span style=\"color: #008000; text-decoration-color: #008000\">'{metadata_str}\\n\\n{content}'</span>,\n",
       "                <span style=\"color: #808000; text-decoration-color: #808000\">metadata_template</span>=<span style=\"color: #008000; text-decoration-color: #008000\">'{key}: {value}'</span>,\n",
       "                <span style=\"color: #808000; text-decoration-color: #808000\">metadata_seperator</span>=<span style=\"color: #008000; text-decoration-color: #008000\">'\\n'</span>\n",
       "            <span style=\"font-weight: bold\">)</span>,\n",
       "            <span style=\"color: #808000; text-decoration-color: #808000\">score</span>=<span style=\"color: #800080; text-decoration-color: #800080; font-style: italic\">None</span>\n",
       "        <span style=\"font-weight: bold\">)</span>\n",
       "    <span style=\"font-weight: bold\">]</span>,\n",
       "    <span style=\"color: #808000; text-decoration-color: #808000\">metadata</span>=<span style=\"font-weight: bold\">{</span>\n",
       "        <span style=\"color: #008000; text-decoration-color: #008000\">'3561de1c-49ec-4443-9da5-8549f36e5e75'</span>: <span style=\"font-weight: bold\">{}</span>,\n",
       "        <span style=\"color: #008000; text-decoration-color: #008000\">'sql_query'</span>: <span style=\"color: #008000; text-decoration-color: #008000\">\"SELECT Product_Name, Price, Rating, Description, Features\\nFROM product_table\\nWHERE </span>\n",
       "<span style=\"color: #008000; text-decoration-color: #008000\">Product_Name LIKE '%Wireless Bluetooth Earbuds%'\"</span>,\n",
       "        <span style=\"color: #008000; text-decoration-color: #008000\">'result'</span>: <span style=\"font-weight: bold\">[</span>\n",
       "            <span style=\"font-weight: bold\">(</span>\n",
       "                <span style=\"color: #008000; text-decoration-color: #008000\">'Ultimate Wireless Bluetooth Earbuds'</span>,\n",
       "                <span style=\"color: #008080; text-decoration-color: #008080; font-weight: bold\">79.99</span>,\n",
       "                <span style=\"color: #008080; text-decoration-color: #008080; font-weight: bold\">4.4</span>,\n",
       "                <span style=\"color: #008000; text-decoration-color: #008000\">\"Elevate your music experience with our Ultimate Wireless Bluetooth Earbuds. These earbuds are </span>\n",
       "<span style=\"color: #008000; text-decoration-color: #008000\">designed for audiophiles who demand premium sound quality and convenience. With advanced Bluetooth 5.0 technology, </span>\n",
       "<span style=\"color: #008000; text-decoration-color: #008000\">you'll enjoy seamless connectivity and crystal-clear audio.\"</span>,\n",
       "                <span style=\"color: #008000; text-decoration-color: #008000\">'- High-fidelity sound with deep bass and clear treble. - Noise-canceling technology for an </span>\n",
       "<span style=\"color: #008000; text-decoration-color: #008000\">immersive listening experience. - 20 hours of playtime on a single charge. - Ergonomic design for a secure and </span>\n",
       "<span style=\"color: #008000; text-decoration-color: #008000\">comfortable fit. - Touch controls for easy playback and calls. - IPX7 waterproof rating for...'</span>\n",
       "            <span style=\"font-weight: bold\">)</span>\n",
       "        <span style=\"font-weight: bold\">]</span>,\n",
       "        <span style=\"color: #008000; text-decoration-color: #008000\">'col_keys'</span>: <span style=\"font-weight: bold\">[</span><span style=\"color: #008000; text-decoration-color: #008000\">'Product_Name'</span>, <span style=\"color: #008000; text-decoration-color: #008000\">'Price'</span>, <span style=\"color: #008000; text-decoration-color: #008000\">'Rating'</span>, <span style=\"color: #008000; text-decoration-color: #008000\">'Description'</span>, <span style=\"color: #008000; text-decoration-color: #008000\">'Features'</span><span style=\"font-weight: bold\">]</span>,\n",
       "        <span style=\"color: #008000; text-decoration-color: #008000\">'selector_result'</span>: <span style=\"color: #800080; text-decoration-color: #800080; font-weight: bold\">MultiSelection</span><span style=\"font-weight: bold\">(</span>\n",
       "            <span style=\"color: #808000; text-decoration-color: #808000\">selections</span>=<span style=\"font-weight: bold\">[</span>\n",
       "                <span style=\"color: #800080; text-decoration-color: #800080; font-weight: bold\">SingleSelection</span><span style=\"font-weight: bold\">(</span>\n",
       "                    <span style=\"color: #808000; text-decoration-color: #808000\">index</span>=<span style=\"color: #008080; text-decoration-color: #008080; font-weight: bold\">0</span>,\n",
       "                    <span style=\"color: #808000; text-decoration-color: #808000\">reason</span>=<span style=\"color: #008000; text-decoration-color: #008000\">'Choice 1 is the most relevant because it mentions translating a natural language query </span>\n",
       "<span style=\"color: #008000; text-decoration-color: #008000\">into a SQL query over a product listing table, which would be useful for retrieving information about specific </span>\n",
       "<span style=\"color: #008000; text-decoration-color: #008000\">products like Wireless Bluetooth Earbuds.'</span>\n",
       "                <span style=\"font-weight: bold\">)</span>\n",
       "            <span style=\"font-weight: bold\">]</span>\n",
       "        <span style=\"font-weight: bold\">)</span>\n",
       "    <span style=\"font-weight: bold\">}</span>\n",
       "<span style=\"font-weight: bold\">)</span>\n",
       "</pre>\n"
      ],
      "text/plain": [
       "\u001b[1;35mResponse\u001b[0m\u001b[1m(\u001b[0m\n",
       "    \u001b[33mresponse\u001b[0m=\u001b[32m'The Ultimate Wireless Bluetooth Earbuds are a top choice for audiophiles who value both sound quality\u001b[0m\n",
       "\u001b[32mand convenience. With advanced Bluetooth 5.0 technology, these earbuds offer seamless connectivity and \u001b[0m\n",
       "\u001b[32mcrystal-clear audio. They provide high-fidelity sound with deep bass and clear treble, and also feature \u001b[0m\n",
       "\u001b[32mnoise-canceling technology for an immersive listening experience. With 20 hours of playtime on a single charge, you\u001b[0m\n",
       "\u001b[32mcan enjoy your music all day long. The ergonomic design ensures a secure and comfortable fit, and the touch \u001b[0m\n",
       "\u001b[32mcontrols make it easy to control playback and take calls. Additionally, these earbuds have an IPX7 waterproof \u001b[0m\n",
       "\u001b[32mrating, making them suitable for outdoor activities.'\u001b[0m,\n",
       "    \u001b[33msource_nodes\u001b[0m=\u001b[1m[\u001b[0m\n",
       "        \u001b[1;35mNodeWithScore\u001b[0m\u001b[1m(\u001b[0m\n",
       "            \u001b[33mnode\u001b[0m=\u001b[1;35mTextNode\u001b[0m\u001b[1m(\u001b[0m\n",
       "                \u001b[33mid_\u001b[0m=\u001b[32m'3561de1c-49ec-4443-9da5-8549f36e5e75'\u001b[0m,\n",
       "                \u001b[33membedding\u001b[0m=\u001b[3;35mNone\u001b[0m,\n",
       "                \u001b[33mmetadata\u001b[0m=\u001b[1m{\u001b[0m\u001b[1m}\u001b[0m,\n",
       "                \u001b[33mexcluded_embed_metadata_keys\u001b[0m=\u001b[1m[\u001b[0m\u001b[1m]\u001b[0m,\n",
       "                \u001b[33mexcluded_llm_metadata_keys\u001b[0m=\u001b[1m[\u001b[0m\u001b[1m]\u001b[0m,\n",
       "                \u001b[33mrelationships\u001b[0m=\u001b[1m{\u001b[0m\u001b[1m}\u001b[0m,\n",
       "                \u001b[33mtext\u001b[0m=\u001b[32m'\u001b[0m\u001b[32m[\u001b[0m\u001b[32m(\u001b[0m\u001b[32m\\'Ultimate Wireless Bluetooth Earbuds\\', 79.99, 4.4, \"Elevate your music experience with \u001b[0m\n",
       "\u001b[32mour Ultimate Wireless Bluetooth Earbuds. These earbuds are designed for audiophiles who demand premium sound \u001b[0m\n",
       "\u001b[32mquality and convenience. With advanced Bluetooth 5.0 technology, you\\'ll enjoy seamless connectivity and \u001b[0m\n",
       "\u001b[32mcrystal-clear audio.\", \\'- High-fidelity sound with deep bass and clear treble. - Noise-canceling technology for an\u001b[0m\n",
       "\u001b[32mimmersive listening experience. - 20 hours of playtime on a single charge. - Ergonomic design for a secure and \u001b[0m\n",
       "\u001b[32mcomfortable fit. - Touch controls for easy playback and calls. - IPX7 waterproof rating for...\\'\u001b[0m\u001b[32m)\u001b[0m\u001b[32m]\u001b[0m\u001b[32m'\u001b[0m,\n",
       "                \u001b[33mstart_char_idx\u001b[0m=\u001b[3;35mNone\u001b[0m,\n",
       "                \u001b[33mend_char_idx\u001b[0m=\u001b[3;35mNone\u001b[0m,\n",
       "                \u001b[33mtext_template\u001b[0m=\u001b[32m'\u001b[0m\u001b[32m{\u001b[0m\u001b[32mmetadata_str\u001b[0m\u001b[32m}\u001b[0m\u001b[32m\\n\\n\u001b[0m\u001b[32m{\u001b[0m\u001b[32mcontent\u001b[0m\u001b[32m}\u001b[0m\u001b[32m'\u001b[0m,\n",
       "                \u001b[33mmetadata_template\u001b[0m=\u001b[32m'\u001b[0m\u001b[32m{\u001b[0m\u001b[32mkey\u001b[0m\u001b[32m}\u001b[0m\u001b[32m: \u001b[0m\u001b[32m{\u001b[0m\u001b[32mvalue\u001b[0m\u001b[32m}\u001b[0m\u001b[32m'\u001b[0m,\n",
       "                \u001b[33mmetadata_seperator\u001b[0m=\u001b[32m'\\n'\u001b[0m\n",
       "            \u001b[1m)\u001b[0m,\n",
       "            \u001b[33mscore\u001b[0m=\u001b[3;35mNone\u001b[0m\n",
       "        \u001b[1m)\u001b[0m\n",
       "    \u001b[1m]\u001b[0m,\n",
       "    \u001b[33mmetadata\u001b[0m=\u001b[1m{\u001b[0m\n",
       "        \u001b[32m'3561de1c-49ec-4443-9da5-8549f36e5e75'\u001b[0m: \u001b[1m{\u001b[0m\u001b[1m}\u001b[0m,\n",
       "        \u001b[32m'sql_query'\u001b[0m: \u001b[32m\"SELECT Product_Name, Price, Rating, Description, Features\\nFROM product_table\\nWHERE \u001b[0m\n",
       "\u001b[32mProduct_Name LIKE '%Wireless Bluetooth Earbuds%'\"\u001b[0m,\n",
       "        \u001b[32m'result'\u001b[0m: \u001b[1m[\u001b[0m\n",
       "            \u001b[1m(\u001b[0m\n",
       "                \u001b[32m'Ultimate Wireless Bluetooth Earbuds'\u001b[0m,\n",
       "                \u001b[1;36m79.99\u001b[0m,\n",
       "                \u001b[1;36m4.4\u001b[0m,\n",
       "                \u001b[32m\"Elevate your music experience with our Ultimate Wireless Bluetooth Earbuds. These earbuds are \u001b[0m\n",
       "\u001b[32mdesigned for audiophiles who demand premium sound quality and convenience. With advanced Bluetooth 5.0 technology, \u001b[0m\n",
       "\u001b[32myou'll enjoy seamless connectivity and crystal-clear audio.\"\u001b[0m,\n",
       "                \u001b[32m'- High-fidelity sound with deep bass and clear treble. - Noise-canceling technology for an \u001b[0m\n",
       "\u001b[32mimmersive listening experience. - 20 hours of playtime on a single charge. - Ergonomic design for a secure and \u001b[0m\n",
       "\u001b[32mcomfortable fit. - Touch controls for easy playback and calls. - IPX7 waterproof rating for...'\u001b[0m\n",
       "            \u001b[1m)\u001b[0m\n",
       "        \u001b[1m]\u001b[0m,\n",
       "        \u001b[32m'col_keys'\u001b[0m: \u001b[1m[\u001b[0m\u001b[32m'Product_Name'\u001b[0m, \u001b[32m'Price'\u001b[0m, \u001b[32m'Rating'\u001b[0m, \u001b[32m'Description'\u001b[0m, \u001b[32m'Features'\u001b[0m\u001b[1m]\u001b[0m,\n",
       "        \u001b[32m'selector_result'\u001b[0m: \u001b[1;35mMultiSelection\u001b[0m\u001b[1m(\u001b[0m\n",
       "            \u001b[33mselections\u001b[0m=\u001b[1m[\u001b[0m\n",
       "                \u001b[1;35mSingleSelection\u001b[0m\u001b[1m(\u001b[0m\n",
       "                    \u001b[33mindex\u001b[0m=\u001b[1;36m0\u001b[0m,\n",
       "                    \u001b[33mreason\u001b[0m=\u001b[32m'Choice 1 is the most relevant because it mentions translating a natural language query \u001b[0m\n",
       "\u001b[32minto a SQL query over a product listing table, which would be useful for retrieving information about specific \u001b[0m\n",
       "\u001b[32mproducts like Wireless Bluetooth Earbuds.'\u001b[0m\n",
       "                \u001b[1m)\u001b[0m\n",
       "            \u001b[1m]\u001b[0m\n",
       "        \u001b[1m)\u001b[0m\n",
       "    \u001b[1m}\u001b[0m\n",
       "\u001b[1m)\u001b[0m\n"
      ]
     },
     "metadata": {},
     "output_type": "display_data"
    }
   ],
   "source": [
    "print(response)"
   ]
  },
  {
   "cell_type": "code",
   "execution_count": 27,
   "metadata": {},
   "outputs": [
    {
     "data": {
      "text/markdown": [
       "**`Final Response:`** There are 2 products similar to Wireless Bluetooth Earbuds."
      ],
      "text/plain": [
       "<IPython.core.display.Markdown object>"
      ]
     },
     "metadata": {},
     "output_type": "display_data"
    }
   ],
   "source": [
    "response = query_engine.query(\"How many product are similar to Wireless Bluetooth Earbuds products?\")\n",
    "display_response(response)"
   ]
  },
  {
   "cell_type": "code",
   "execution_count": null,
   "metadata": {},
   "outputs": [],
   "source": [
    "rprint(response)"
   ]
  },
  {
   "cell_type": "code",
   "execution_count": 28,
   "metadata": {},
   "outputs": [
    {
     "data": {
      "text/markdown": [
       "**`Final Response:`** The products whose descriptions are similar are:\n",
       "1. Organic Bamboo Bed Sheets\n",
       "2. Virtual Reality Headset"
      ],
      "text/plain": [
       "<IPython.core.display.Markdown object>"
      ]
     },
     "metadata": {},
     "output_type": "display_data"
    }
   ],
   "source": [
    "response = query_engine.query(\"list the products whose descriptions are similar.\")\n",
    "display_response(response)"
   ]
  },
  {
   "cell_type": "code",
   "execution_count": 25,
   "metadata": {},
   "outputs": [
    {
     "data": {
      "text/html": [
       "<pre style=\"white-space:pre;overflow-x:auto;line-height:normal;font-family:Menlo,'DejaVu Sans Mono',consolas,'Courier New',monospace\"><span style=\"font-weight: bold\">{</span>\n",
       "    <span style=\"color: #008000; text-decoration-color: #008000\">'3561de1c-49ec-4443-9da5-8549f36e5e75'</span>: <span style=\"font-weight: bold\">{}</span>,\n",
       "    <span style=\"color: #008000; text-decoration-color: #008000\">'sql_query'</span>: <span style=\"color: #008000; text-decoration-color: #008000\">\"SELECT Product_Name, Price, Rating, Description, Features\\nFROM product_table\\nWHERE Product_Name</span>\n",
       "<span style=\"color: #008000; text-decoration-color: #008000\">LIKE '%Wireless Bluetooth Earbuds%'\"</span>,\n",
       "    <span style=\"color: #008000; text-decoration-color: #008000\">'result'</span>: <span style=\"font-weight: bold\">[</span>\n",
       "        <span style=\"font-weight: bold\">(</span>\n",
       "            <span style=\"color: #008000; text-decoration-color: #008000\">'Ultimate Wireless Bluetooth Earbuds'</span>,\n",
       "            <span style=\"color: #008080; text-decoration-color: #008080; font-weight: bold\">79.99</span>,\n",
       "            <span style=\"color: #008080; text-decoration-color: #008080; font-weight: bold\">4.4</span>,\n",
       "            <span style=\"color: #008000; text-decoration-color: #008000\">\"Elevate your music experience with our Ultimate Wireless Bluetooth Earbuds. These earbuds are designed</span>\n",
       "<span style=\"color: #008000; text-decoration-color: #008000\">for audiophiles who demand premium sound quality and convenience. With advanced Bluetooth 5.0 technology, you'll </span>\n",
       "<span style=\"color: #008000; text-decoration-color: #008000\">enjoy seamless connectivity and crystal-clear audio.\"</span>,\n",
       "            <span style=\"color: #008000; text-decoration-color: #008000\">'- High-fidelity sound with deep bass and clear treble. - Noise-canceling technology for an immersive </span>\n",
       "<span style=\"color: #008000; text-decoration-color: #008000\">listening experience. - 20 hours of playtime on a single charge. - Ergonomic design for a secure and comfortable </span>\n",
       "<span style=\"color: #008000; text-decoration-color: #008000\">fit. - Touch controls for easy playback and calls. - IPX7 waterproof rating for...'</span>\n",
       "        <span style=\"font-weight: bold\">)</span>\n",
       "    <span style=\"font-weight: bold\">]</span>,\n",
       "    <span style=\"color: #008000; text-decoration-color: #008000\">'col_keys'</span>: <span style=\"font-weight: bold\">[</span><span style=\"color: #008000; text-decoration-color: #008000\">'Product_Name'</span>, <span style=\"color: #008000; text-decoration-color: #008000\">'Price'</span>, <span style=\"color: #008000; text-decoration-color: #008000\">'Rating'</span>, <span style=\"color: #008000; text-decoration-color: #008000\">'Description'</span>, <span style=\"color: #008000; text-decoration-color: #008000\">'Features'</span><span style=\"font-weight: bold\">]</span>,\n",
       "    <span style=\"color: #008000; text-decoration-color: #008000\">'selector_result'</span>: <span style=\"color: #800080; text-decoration-color: #800080; font-weight: bold\">MultiSelection</span><span style=\"font-weight: bold\">(</span>\n",
       "        <span style=\"color: #808000; text-decoration-color: #808000\">selections</span>=<span style=\"font-weight: bold\">[</span>\n",
       "            <span style=\"color: #800080; text-decoration-color: #800080; font-weight: bold\">SingleSelection</span><span style=\"font-weight: bold\">(</span>\n",
       "                <span style=\"color: #808000; text-decoration-color: #808000\">index</span>=<span style=\"color: #008080; text-decoration-color: #008080; font-weight: bold\">0</span>,\n",
       "                <span style=\"color: #808000; text-decoration-color: #808000\">reason</span>=<span style=\"color: #008000; text-decoration-color: #008000\">'Choice 1 is the most relevant because it mentions translating a natural language query into</span>\n",
       "<span style=\"color: #008000; text-decoration-color: #008000\">a SQL query over a product listing table, which would be useful for retrieving information about specific products </span>\n",
       "<span style=\"color: #008000; text-decoration-color: #008000\">like Wireless Bluetooth Earbuds.'</span>\n",
       "            <span style=\"font-weight: bold\">)</span>\n",
       "        <span style=\"font-weight: bold\">]</span>\n",
       "    <span style=\"font-weight: bold\">)</span>\n",
       "<span style=\"font-weight: bold\">}</span>\n",
       "</pre>\n"
      ],
      "text/plain": [
       "\u001b[1m{\u001b[0m\n",
       "    \u001b[32m'3561de1c-49ec-4443-9da5-8549f36e5e75'\u001b[0m: \u001b[1m{\u001b[0m\u001b[1m}\u001b[0m,\n",
       "    \u001b[32m'sql_query'\u001b[0m: \u001b[32m\"SELECT Product_Name, Price, Rating, Description, Features\\nFROM product_table\\nWHERE Product_Name\u001b[0m\n",
       "\u001b[32mLIKE '%Wireless Bluetooth Earbuds%'\"\u001b[0m,\n",
       "    \u001b[32m'result'\u001b[0m: \u001b[1m[\u001b[0m\n",
       "        \u001b[1m(\u001b[0m\n",
       "            \u001b[32m'Ultimate Wireless Bluetooth Earbuds'\u001b[0m,\n",
       "            \u001b[1;36m79.99\u001b[0m,\n",
       "            \u001b[1;36m4.4\u001b[0m,\n",
       "            \u001b[32m\"Elevate your music experience with our Ultimate Wireless Bluetooth Earbuds. These earbuds are designed\u001b[0m\n",
       "\u001b[32mfor audiophiles who demand premium sound quality and convenience. With advanced Bluetooth 5.0 technology, you'll \u001b[0m\n",
       "\u001b[32menjoy seamless connectivity and crystal-clear audio.\"\u001b[0m,\n",
       "            \u001b[32m'- High-fidelity sound with deep bass and clear treble. - Noise-canceling technology for an immersive \u001b[0m\n",
       "\u001b[32mlistening experience. - 20 hours of playtime on a single charge. - Ergonomic design for a secure and comfortable \u001b[0m\n",
       "\u001b[32mfit. - Touch controls for easy playback and calls. - IPX7 waterproof rating for...'\u001b[0m\n",
       "        \u001b[1m)\u001b[0m\n",
       "    \u001b[1m]\u001b[0m,\n",
       "    \u001b[32m'col_keys'\u001b[0m: \u001b[1m[\u001b[0m\u001b[32m'Product_Name'\u001b[0m, \u001b[32m'Price'\u001b[0m, \u001b[32m'Rating'\u001b[0m, \u001b[32m'Description'\u001b[0m, \u001b[32m'Features'\u001b[0m\u001b[1m]\u001b[0m,\n",
       "    \u001b[32m'selector_result'\u001b[0m: \u001b[1;35mMultiSelection\u001b[0m\u001b[1m(\u001b[0m\n",
       "        \u001b[33mselections\u001b[0m=\u001b[1m[\u001b[0m\n",
       "            \u001b[1;35mSingleSelection\u001b[0m\u001b[1m(\u001b[0m\n",
       "                \u001b[33mindex\u001b[0m=\u001b[1;36m0\u001b[0m,\n",
       "                \u001b[33mreason\u001b[0m=\u001b[32m'Choice 1 is the most relevant because it mentions translating a natural language query into\u001b[0m\n",
       "\u001b[32ma SQL query over a product listing table, which would be useful for retrieving information about specific products \u001b[0m\n",
       "\u001b[32mlike Wireless Bluetooth Earbuds.'\u001b[0m\n",
       "            \u001b[1m)\u001b[0m\n",
       "        \u001b[1m]\u001b[0m\n",
       "    \u001b[1m)\u001b[0m\n",
       "\u001b[1m}\u001b[0m\n"
      ]
     },
     "metadata": {},
     "output_type": "display_data"
    }
   ],
   "source": [
    "print(response.metadata)"
   ]
  },
  {
   "cell_type": "code",
   "execution_count": 31,
   "metadata": {},
   "outputs": [
    {
     "data": {
      "text/html": [
       "<pre style=\"white-space:pre;overflow-x:auto;line-height:normal;font-family:Menlo,'DejaVu Sans Mono',consolas,'Courier New',monospace\"><span style=\"font-weight: bold\">[</span><span style=\"color: #008000; text-decoration-color: #008000\">'Experience ultimate comfort with our Organic Bamboo Bed Sheets. These luxuriously soft sheets are made from </span>\n",
       "<span style=\"color: #008000; text-decoration-color: #008000\">sustainable and breathable bamboo fibers.'</span>\n",
       " <span style=\"color: #008000; text-decoration-color: #008000\">'Immerse yourself in virtual worlds with our Virtual Reality Headset. Experience gaming, entertainment, and </span>\n",
       "<span style=\"color: #008000; text-decoration-color: #008000\">exploration like never before.'</span><span style=\"font-weight: bold\">]</span>\n",
       "</pre>\n"
      ],
      "text/plain": [
       "\u001b[1m[\u001b[0m\u001b[32m'Experience ultimate comfort with our Organic Bamboo Bed Sheets. These luxuriously soft sheets are made from \u001b[0m\n",
       "\u001b[32msustainable and breathable bamboo fibers.'\u001b[0m\n",
       " \u001b[32m'Immerse yourself in virtual worlds with our Virtual Reality Headset. Experience gaming, entertainment, and \u001b[0m\n",
       "\u001b[32mexploration like never before.'\u001b[0m\u001b[1m]\u001b[0m\n"
      ]
     },
     "metadata": {},
     "output_type": "display_data"
    }
   ],
   "source": [
    "rprint(data.loc[data.Product_Name.isin(('Organic Bamboo Bed Sheets', 'Virtual Reality Headset')), \"Description\"].values)"
   ]
  },
  {
   "cell_type": "code",
   "execution_count": 29,
   "metadata": {},
   "outputs": [
    {
     "data": {
      "text/markdown": [
       "**`Final Response:`** The product that has 'heart rate' in its description is the Fitness Tracker Smartwatch."
      ],
      "text/plain": [
       "<IPython.core.display.Markdown object>"
      ]
     },
     "metadata": {},
     "output_type": "display_data"
    }
   ],
   "source": [
    "response = query_engine.query(\"Which product has 'heart rate' in its description\")\n",
    "display_response(response)"
   ]
  },
  {
   "cell_type": "code",
   "execution_count": 84,
   "metadata": {},
   "outputs": [
    {
     "data": {
      "text/html": [
       "<pre style=\"white-space:pre;overflow-x:auto;line-height:normal;font-family:Menlo,'DejaVu Sans Mono',consolas,'Courier New',monospace\"><span style=\"color: #800080; text-decoration-color: #800080; font-weight: bold\">Response</span><span style=\"font-weight: bold\">(</span>\n",
       "    <span style=\"color: #808000; text-decoration-color: #808000\">response</span>=<span style=\"color: #008000; text-decoration-color: #008000\">\"The product that has 'heart rate' in its description is the Fitness Tracker Smartwatch.\"</span>,\n",
       "    <span style=\"color: #808000; text-decoration-color: #808000\">source_nodes</span>=<span style=\"font-weight: bold\">[</span>\n",
       "        <span style=\"color: #800080; text-decoration-color: #800080; font-weight: bold\">NodeWithScore</span><span style=\"font-weight: bold\">(</span>\n",
       "            <span style=\"color: #808000; text-decoration-color: #808000\">node</span>=<span style=\"color: #800080; text-decoration-color: #800080; font-weight: bold\">TextNode</span><span style=\"font-weight: bold\">(</span>\n",
       "                <span style=\"color: #808000; text-decoration-color: #808000\">id_</span>=<span style=\"color: #008000; text-decoration-color: #008000\">'0dbf45a2-3a3c-497b-bb2e-d57eca866a37'</span>,\n",
       "                <span style=\"color: #808000; text-decoration-color: #808000\">embedding</span>=<span style=\"color: #800080; text-decoration-color: #800080; font-style: italic\">None</span>,\n",
       "                <span style=\"color: #808000; text-decoration-color: #808000\">metadata</span>=<span style=\"font-weight: bold\">{}</span>,\n",
       "                <span style=\"color: #808000; text-decoration-color: #808000\">excluded_embed_metadata_keys</span>=<span style=\"font-weight: bold\">[]</span>,\n",
       "                <span style=\"color: #808000; text-decoration-color: #808000\">excluded_llm_metadata_keys</span>=<span style=\"font-weight: bold\">[]</span>,\n",
       "                <span style=\"color: #808000; text-decoration-color: #808000\">relationships</span>=<span style=\"font-weight: bold\">{}</span>,\n",
       "                <span style=\"color: #808000; text-decoration-color: #808000\">text</span>=<span style=\"color: #008000; text-decoration-color: #008000\">\"[('Fitness Tracker Smartwatch',)]\"</span>,\n",
       "                <span style=\"color: #808000; text-decoration-color: #808000\">start_char_idx</span>=<span style=\"color: #800080; text-decoration-color: #800080; font-style: italic\">None</span>,\n",
       "                <span style=\"color: #808000; text-decoration-color: #808000\">end_char_idx</span>=<span style=\"color: #800080; text-decoration-color: #800080; font-style: italic\">None</span>,\n",
       "                <span style=\"color: #808000; text-decoration-color: #808000\">text_template</span>=<span style=\"color: #008000; text-decoration-color: #008000\">'{metadata_str}\\n\\n{content}'</span>,\n",
       "                <span style=\"color: #808000; text-decoration-color: #808000\">metadata_template</span>=<span style=\"color: #008000; text-decoration-color: #008000\">'{key}: {value}'</span>,\n",
       "                <span style=\"color: #808000; text-decoration-color: #808000\">metadata_seperator</span>=<span style=\"color: #008000; text-decoration-color: #008000\">'\\n'</span>\n",
       "            <span style=\"font-weight: bold\">)</span>,\n",
       "            <span style=\"color: #808000; text-decoration-color: #808000\">score</span>=<span style=\"color: #800080; text-decoration-color: #800080; font-style: italic\">None</span>\n",
       "        <span style=\"font-weight: bold\">)</span>\n",
       "    <span style=\"font-weight: bold\">]</span>,\n",
       "    <span style=\"color: #808000; text-decoration-color: #808000\">metadata</span>=<span style=\"font-weight: bold\">{</span>\n",
       "        <span style=\"color: #008000; text-decoration-color: #008000\">'0dbf45a2-3a3c-497b-bb2e-d57eca866a37'</span>: <span style=\"font-weight: bold\">{}</span>,\n",
       "        <span style=\"color: #008000; text-decoration-color: #008000\">'sql_query'</span>: <span style=\"color: #008000; text-decoration-color: #008000\">\"SELECT Product_Name\\nFROM product_table\\nWHERE Description LIKE '%heart rate%'\"</span>,\n",
       "        <span style=\"color: #008000; text-decoration-color: #008000\">'result'</span>: <span style=\"font-weight: bold\">[(</span><span style=\"color: #008000; text-decoration-color: #008000\">'Fitness Tracker Smartwatch'</span>,<span style=\"font-weight: bold\">)]</span>,\n",
       "        <span style=\"color: #008000; text-decoration-color: #008000\">'col_keys'</span>: <span style=\"font-weight: bold\">[</span><span style=\"color: #008000; text-decoration-color: #008000\">'Product_Name'</span><span style=\"font-weight: bold\">]</span>,\n",
       "        <span style=\"color: #008000; text-decoration-color: #008000\">'selector_result'</span>: <span style=\"color: #800080; text-decoration-color: #800080; font-weight: bold\">MultiSelection</span><span style=\"font-weight: bold\">(</span>\n",
       "            <span style=\"color: #808000; text-decoration-color: #808000\">selections</span>=<span style=\"font-weight: bold\">[</span>\n",
       "                <span style=\"color: #800080; text-decoration-color: #800080; font-weight: bold\">SingleSelection</span><span style=\"font-weight: bold\">(</span>\n",
       "                    <span style=\"color: #808000; text-decoration-color: #808000\">index</span>=<span style=\"color: #008080; text-decoration-color: #008080; font-weight: bold\">0</span>,\n",
       "                    <span style=\"color: #808000; text-decoration-color: #808000\">reason</span>=<span style=\"color: #008000; text-decoration-color: #008000\">'Choice 1 is most relevant because it mentions translating a natural language query into</span>\n",
       "<span style=\"color: #008000; text-decoration-color: #008000\">a SQL query over a table containing product listings, which would include descriptions of each product. This </span>\n",
       "<span style=\"color: #008000; text-decoration-color: #008000\">suggests that it would be able to handle a query about the description of a product.'</span>\n",
       "                <span style=\"font-weight: bold\">)</span>\n",
       "            <span style=\"font-weight: bold\">]</span>\n",
       "        <span style=\"font-weight: bold\">)</span>\n",
       "    <span style=\"font-weight: bold\">}</span>\n",
       "<span style=\"font-weight: bold\">)</span>\n",
       "</pre>\n"
      ],
      "text/plain": [
       "\u001b[1;35mResponse\u001b[0m\u001b[1m(\u001b[0m\n",
       "    \u001b[33mresponse\u001b[0m=\u001b[32m\"The\u001b[0m\u001b[32m product that has 'heart rate' in its description is the Fitness Tracker Smartwatch.\"\u001b[0m,\n",
       "    \u001b[33msource_nodes\u001b[0m=\u001b[1m[\u001b[0m\n",
       "        \u001b[1;35mNodeWithScore\u001b[0m\u001b[1m(\u001b[0m\n",
       "            \u001b[33mnode\u001b[0m=\u001b[1;35mTextNode\u001b[0m\u001b[1m(\u001b[0m\n",
       "                \u001b[33mid_\u001b[0m=\u001b[32m'0dbf45a2-3a3c-497b-bb2e-d57eca866a37'\u001b[0m,\n",
       "                \u001b[33membedding\u001b[0m=\u001b[3;35mNone\u001b[0m,\n",
       "                \u001b[33mmetadata\u001b[0m=\u001b[1m{\u001b[0m\u001b[1m}\u001b[0m,\n",
       "                \u001b[33mexcluded_embed_metadata_keys\u001b[0m=\u001b[1m[\u001b[0m\u001b[1m]\u001b[0m,\n",
       "                \u001b[33mexcluded_llm_metadata_keys\u001b[0m=\u001b[1m[\u001b[0m\u001b[1m]\u001b[0m,\n",
       "                \u001b[33mrelationships\u001b[0m=\u001b[1m{\u001b[0m\u001b[1m}\u001b[0m,\n",
       "                \u001b[33mtext\u001b[0m=\u001b[32m\"\u001b[0m\u001b[32m[\u001b[0m\u001b[32m(\u001b[0m\u001b[32m'Fitness Tracker Smartwatch',\u001b[0m\u001b[32m)\u001b[0m\u001b[32m]\u001b[0m\u001b[32m\"\u001b[0m,\n",
       "                \u001b[33mstart_char_idx\u001b[0m=\u001b[3;35mNone\u001b[0m,\n",
       "                \u001b[33mend_char_idx\u001b[0m=\u001b[3;35mNone\u001b[0m,\n",
       "                \u001b[33mtext_template\u001b[0m=\u001b[32m'\u001b[0m\u001b[32m{\u001b[0m\u001b[32mmetadata_str\u001b[0m\u001b[32m}\u001b[0m\u001b[32m\\n\\n\u001b[0m\u001b[32m{\u001b[0m\u001b[32mcontent\u001b[0m\u001b[32m}\u001b[0m\u001b[32m'\u001b[0m,\n",
       "                \u001b[33mmetadata_template\u001b[0m=\u001b[32m'\u001b[0m\u001b[32m{\u001b[0m\u001b[32mkey\u001b[0m\u001b[32m}\u001b[0m\u001b[32m: \u001b[0m\u001b[32m{\u001b[0m\u001b[32mvalue\u001b[0m\u001b[32m}\u001b[0m\u001b[32m'\u001b[0m,\n",
       "                \u001b[33mmetadata_seperator\u001b[0m=\u001b[32m'\\n'\u001b[0m\n",
       "            \u001b[1m)\u001b[0m,\n",
       "            \u001b[33mscore\u001b[0m=\u001b[3;35mNone\u001b[0m\n",
       "        \u001b[1m)\u001b[0m\n",
       "    \u001b[1m]\u001b[0m,\n",
       "    \u001b[33mmetadata\u001b[0m=\u001b[1m{\u001b[0m\n",
       "        \u001b[32m'0dbf45a2-3a3c-497b-bb2e-d57eca866a37'\u001b[0m: \u001b[1m{\u001b[0m\u001b[1m}\u001b[0m,\n",
       "        \u001b[32m'sql_query'\u001b[0m: \u001b[32m\"SELECT Product_Name\\nFROM product_table\\nWHERE Description LIKE '%heart rate%'\"\u001b[0m,\n",
       "        \u001b[32m'result'\u001b[0m: \u001b[1m[\u001b[0m\u001b[1m(\u001b[0m\u001b[32m'Fitness Tracker Smartwatch'\u001b[0m,\u001b[1m)\u001b[0m\u001b[1m]\u001b[0m,\n",
       "        \u001b[32m'col_keys'\u001b[0m: \u001b[1m[\u001b[0m\u001b[32m'Product_Name'\u001b[0m\u001b[1m]\u001b[0m,\n",
       "        \u001b[32m'selector_result'\u001b[0m: \u001b[1;35mMultiSelection\u001b[0m\u001b[1m(\u001b[0m\n",
       "            \u001b[33mselections\u001b[0m=\u001b[1m[\u001b[0m\n",
       "                \u001b[1;35mSingleSelection\u001b[0m\u001b[1m(\u001b[0m\n",
       "                    \u001b[33mindex\u001b[0m=\u001b[1;36m0\u001b[0m,\n",
       "                    \u001b[33mreason\u001b[0m=\u001b[32m'Choice 1 is most relevant because it mentions translating a natural language query into\u001b[0m\n",
       "\u001b[32ma SQL query over a table containing product listings, which would include descriptions of each product. This \u001b[0m\n",
       "\u001b[32msuggests that it would be able to handle a query about the description of a product.'\u001b[0m\n",
       "                \u001b[1m)\u001b[0m\n",
       "            \u001b[1m]\u001b[0m\n",
       "        \u001b[1m)\u001b[0m\n",
       "    \u001b[1m}\u001b[0m\n",
       "\u001b[1m)\u001b[0m\n"
      ]
     },
     "metadata": {},
     "output_type": "display_data"
    }
   ],
   "source": [
    "rprint(response)"
   ]
  },
  {
   "cell_type": "code",
   "execution_count": 26,
   "metadata": {},
   "outputs": [
    {
     "data": {
      "text/markdown": [
       "**`Final Response:`** The sum of all prices for all products whose price is $79.99 is $159.98."
      ],
      "text/plain": [
       "<IPython.core.display.Markdown object>"
      ]
     },
     "metadata": {},
     "output_type": "display_data"
    }
   ],
   "source": [
    "response = query_engine.query(\"What is the sum of all prices for all products whose price is $79.99?\")\n",
    "display_response(response)"
   ]
  },
  {
   "cell_type": "code",
   "execution_count": 27,
   "metadata": {},
   "outputs": [
    {
     "data": {
      "text/html": [
       "<pre style=\"white-space:pre;overflow-x:auto;line-height:normal;font-family:Menlo,'DejaVu Sans Mono',consolas,'Courier New',monospace\"><span style=\"font-weight: bold\">{</span>\n",
       "    <span style=\"color: #008000; text-decoration-color: #008000\">'7e085356-b365-4375-bb5b-5af1c947b231'</span>: <span style=\"font-weight: bold\">{}</span>,\n",
       "    <span style=\"color: #008000; text-decoration-color: #008000\">'sql_query'</span>: <span style=\"color: #008000; text-decoration-color: #008000\">'SELECT SUM(Price) FROM product_table WHERE Price = 79.99'</span>,\n",
       "    <span style=\"color: #008000; text-decoration-color: #008000\">'result'</span>: <span style=\"font-weight: bold\">[(</span><span style=\"color: #008080; text-decoration-color: #008080; font-weight: bold\">159.98</span>,<span style=\"font-weight: bold\">)]</span>,\n",
       "    <span style=\"color: #008000; text-decoration-color: #008000\">'col_keys'</span>: <span style=\"font-weight: bold\">[</span><span style=\"color: #008000; text-decoration-color: #008000\">'SUM(Price)'</span><span style=\"font-weight: bold\">]</span>,\n",
       "    <span style=\"color: #008000; text-decoration-color: #008000\">'selector_result'</span>: <span style=\"color: #800080; text-decoration-color: #800080; font-weight: bold\">MultiSelection</span><span style=\"font-weight: bold\">(</span>\n",
       "        <span style=\"color: #808000; text-decoration-color: #808000\">selections</span>=<span style=\"font-weight: bold\">[</span>\n",
       "            <span style=\"color: #800080; text-decoration-color: #800080; font-weight: bold\">SingleSelection</span><span style=\"font-weight: bold\">(</span>\n",
       "                <span style=\"color: #808000; text-decoration-color: #808000\">index</span>=<span style=\"color: #008080; text-decoration-color: #008080; font-weight: bold\">0</span>,\n",
       "                <span style=\"color: #808000; text-decoration-color: #808000\">reason</span>=<span style=\"color: #008000; text-decoration-color: #008000\">'Choice 1 is the most relevant because it mentions translating a natural language query into</span>\n",
       "<span style=\"color: #008000; text-decoration-color: #008000\">a SQL query, which is exactly what is needed to find the sum of all prices for products with a specific price.'</span>\n",
       "            <span style=\"font-weight: bold\">)</span>\n",
       "        <span style=\"font-weight: bold\">]</span>\n",
       "    <span style=\"font-weight: bold\">)</span>\n",
       "<span style=\"font-weight: bold\">}</span>\n",
       "</pre>\n"
      ],
      "text/plain": [
       "\u001b[1m{\u001b[0m\n",
       "    \u001b[32m'7e085356-b365-4375-bb5b-5af1c947b231'\u001b[0m: \u001b[1m{\u001b[0m\u001b[1m}\u001b[0m,\n",
       "    \u001b[32m'sql_query'\u001b[0m: \u001b[32m'SELECT SUM\u001b[0m\u001b[32m(\u001b[0m\u001b[32mPrice\u001b[0m\u001b[32m)\u001b[0m\u001b[32m FROM product_table WHERE Price = 79.99'\u001b[0m,\n",
       "    \u001b[32m'result'\u001b[0m: \u001b[1m[\u001b[0m\u001b[1m(\u001b[0m\u001b[1;36m159.98\u001b[0m,\u001b[1m)\u001b[0m\u001b[1m]\u001b[0m,\n",
       "    \u001b[32m'col_keys'\u001b[0m: \u001b[1m[\u001b[0m\u001b[32m'SUM\u001b[0m\u001b[32m(\u001b[0m\u001b[32mPrice\u001b[0m\u001b[32m)\u001b[0m\u001b[32m'\u001b[0m\u001b[1m]\u001b[0m,\n",
       "    \u001b[32m'selector_result'\u001b[0m: \u001b[1;35mMultiSelection\u001b[0m\u001b[1m(\u001b[0m\n",
       "        \u001b[33mselections\u001b[0m=\u001b[1m[\u001b[0m\n",
       "            \u001b[1;35mSingleSelection\u001b[0m\u001b[1m(\u001b[0m\n",
       "                \u001b[33mindex\u001b[0m=\u001b[1;36m0\u001b[0m,\n",
       "                \u001b[33mreason\u001b[0m=\u001b[32m'Choice 1 is the most relevant because it mentions translating a natural language query into\u001b[0m\n",
       "\u001b[32ma SQL query, which is exactly what is needed to find the sum of all prices for products with a specific price.'\u001b[0m\n",
       "            \u001b[1m)\u001b[0m\n",
       "        \u001b[1m]\u001b[0m\n",
       "    \u001b[1m)\u001b[0m\n",
       "\u001b[1m}\u001b[0m\n"
      ]
     },
     "metadata": {},
     "output_type": "display_data"
    }
   ],
   "source": [
    "print(response.metadata)"
   ]
  },
  {
   "attachments": {},
   "cell_type": "markdown",
   "metadata": {},
   "source": [
    "## Self Correcting query"
   ]
  },
  {
   "attachments": {},
   "cell_type": "markdown",
   "metadata": {},
   "source": [
    "### Retry Query Engine"
   ]
  },
  {
   "cell_type": "code",
   "execution_count": 28,
   "metadata": {},
   "outputs": [
    {
     "data": {
      "text/markdown": [
       "**`Final Response:`** The sum of all prices for all products whose price is $79.99 is $159.98."
      ],
      "text/plain": [
       "<IPython.core.display.Markdown object>"
      ]
     },
     "metadata": {},
     "output_type": "display_data"
    }
   ],
   "source": [
    "query_response_evaluator = RelevancyEvaluator()\n",
    "retry_query_engine = RetryQueryEngine(\n",
    "    query_engine, query_response_evaluator\n",
    ")\n",
    "retry_response = retry_query_engine.query(\"What is the sum of all prices for all products whose price is $79.99?\")\n",
    "display_response(retry_response)"
   ]
  },
  {
   "attachments": {},
   "cell_type": "markdown",
   "metadata": {},
   "source": [
    "### Retry Source Query Engine"
   ]
  },
  {
   "cell_type": "code",
   "execution_count": 29,
   "metadata": {},
   "outputs": [
    {
     "data": {
      "text/markdown": [
       "**`Final Response:`** The products whose descriptions are similar are:\n",
       "1. Organic Bamboo Bed Sheets\n",
       "2. Virtual Reality Headset"
      ],
      "text/plain": [
       "<IPython.core.display.Markdown object>"
      ]
     },
     "metadata": {},
     "output_type": "display_data"
    }
   ],
   "source": [
    "retry_source_query_engine = RetrySourceQueryEngine(\n",
    "    query_engine, query_response_evaluator\n",
    ")\n",
    "retry_source_response = retry_source_query_engine.query(\"list the products whose descriptions are similar.\")\n",
    "display_response(retry_source_response)\n"
   ]
  },
  {
   "attachments": {},
   "cell_type": "markdown",
   "metadata": {},
   "source": [
    "## Customize Retry Guideline Query Engine"
   ]
  },
  {
   "cell_type": "code",
   "execution_count": 30,
   "metadata": {},
   "outputs": [],
   "source": [
    "# Guideline eval\n",
    "guideline_eval = GuidelineEvaluator(\n",
    "    guidelines=DEFAULT_GUIDELINES\n",
    "    + \"\\nThe response should not be overly long.\\n\"\n",
    "    \"The response should try to summarize where possible.\\n\"\n",
    "    \"First, answer the question\\n\"\n",
    "    \"Second provide the reason, why you choose that answer.\\n\"\n",
    ")  # just for example"
   ]
  },
  {
   "cell_type": "code",
   "execution_count": 31,
   "metadata": {},
   "outputs": [
    {
     "data": {
      "text/html": [
       "<pre style=\"white-space:pre;overflow-x:auto;line-height:normal;font-family:Menlo,'DejaVu Sans Mono',consolas,'Courier New',monospace\">Guideline eval evaluation result: The response does not fully answer the query. It only lists two products without \n",
       "providing any explanation or reason for why they are considered similar. Additionally, the response does not use \n",
       "any statistics or numbers to support the claim. The response is also vague and lacks specificity. It should provide\n",
       "more details and examples to better address the query.\n",
       "</pre>\n"
      ],
      "text/plain": [
       "Guideline eval evaluation result: The response does not fully answer the query. It only lists two products without \n",
       "providing any explanation or reason for why they are considered similar. Additionally, the response does not use \n",
       "any statistics or numbers to support the claim. The response is also vague and lacks specificity. It should provide\n",
       "more details and examples to better address the query.\n"
      ]
     },
     "metadata": {},
     "output_type": "display_data"
    },
    {
     "data": {
      "text/html": [
       "<pre style=\"white-space:pre;overflow-x:auto;line-height:normal;font-family:Menlo,'DejaVu Sans Mono',consolas,'Courier New',monospace\">Transformed query: Here is a previous bad answer.\n",
       "The products whose descriptions are similar are:\n",
       "<span style=\"color: #008080; text-decoration-color: #008080; font-weight: bold\">1</span>. Organic Bamboo Bed Sheets\n",
       "<span style=\"color: #008080; text-decoration-color: #008080; font-weight: bold\">2</span>. Virtual Reality Headset\n",
       "Here is some feedback from the evaluator about the response given.\n",
       "The response does not fully answer the query. It only lists two products without providing any explanation or \n",
       "reason for why they are considered similar. Additionally, the response does not use any statistics or numbers to \n",
       "support the claim. The response is also vague and lacks specificity. It should provide more details and examples to\n",
       "better address the query.\n",
       "Now answer the question.\n",
       "list the products and provide an explanation for why their descriptions are considered similar.\n",
       "</pre>\n"
      ],
      "text/plain": [
       "Transformed query: Here is a previous bad answer.\n",
       "The products whose descriptions are similar are:\n",
       "\u001b[1;36m1\u001b[0m. Organic Bamboo Bed Sheets\n",
       "\u001b[1;36m2\u001b[0m. Virtual Reality Headset\n",
       "Here is some feedback from the evaluator about the response given.\n",
       "The response does not fully answer the query. It only lists two products without providing any explanation or \n",
       "reason for why they are considered similar. Additionally, the response does not use any statistics or numbers to \n",
       "support the claim. The response is also vague and lacks specificity. It should provide more details and examples to\n",
       "better address the query.\n",
       "Now answer the question.\n",
       "list the products and provide an explanation for why their descriptions are considered similar.\n"
      ]
     },
     "metadata": {},
     "output_type": "display_data"
    }
   ],
   "source": [
    "query = \"list the products whose descriptions are similar.\"\n",
    "typed_response = (\n",
    "    retry_source_response if isinstance(retry_source_response, Response) else retry_source_response.get_response()\n",
    ")\n",
    "eval = guideline_eval.evaluate_response(query, typed_response)\n",
    "print(f\"Guideline eval evaluation result: {eval.feedback}\")\n",
    "\n",
    "feedback_query_transform = FeedbackQueryTransformation(resynthesize_query=True)\n",
    "transformed_query = feedback_query_transform.run(query, {\"evaluation\": eval})\n",
    "print(f\"Transformed query: {transformed_query.query_str}\")"
   ]
  },
  {
   "cell_type": "code",
   "execution_count": 64,
   "metadata": {},
   "outputs": [
    {
     "data": {
      "text/markdown": [
       "**`Final Response:`** The products with similar descriptions are the Organic Bamboo Bed Sheets, Virtual Reality Headset, and Organic Herbal Tea Collection."
      ],
      "text/plain": [
       "<IPython.core.display.Markdown object>"
      ]
     },
     "metadata": {},
     "output_type": "display_data"
    }
   ],
   "source": [
    "retry_guideline_query_engine = RetryGuidelineQueryEngine(\n",
    "    query_engine, guideline_eval, resynthesize_query=True, \n",
    "     max_retries=2,)\n",
    "retry_guideline_response = retry_guideline_query_engine.query(query)\n",
    "# rprint(retry_guideline_response.response)\n",
    "display_response(retry_guideline_response)"
   ]
  },
  {
   "cell_type": "code",
   "execution_count": 65,
   "metadata": {},
   "outputs": [
    {
     "data": {
      "text/html": [
       "<pre style=\"white-space:pre;overflow-x:auto;line-height:normal;font-family:Menlo,'DejaVu Sans Mono',consolas,'Courier New',monospace\">The products with similar descriptions are the Organic Bamboo Bed Sheets, Virtual Reality Headset, and Organic \n",
       "Herbal Tea Collection.\n",
       "</pre>\n"
      ],
      "text/plain": [
       "The products with similar descriptions are the Organic Bamboo Bed Sheets, Virtual Reality Headset, and Organic \n",
       "Herbal Tea Collection.\n"
      ]
     },
     "metadata": {},
     "output_type": "display_data"
    }
   ],
   "source": [
    "rprint(retry_guideline_response.response)"
   ]
  },
  {
   "cell_type": "code",
   "execution_count": 68,
   "metadata": {},
   "outputs": [
    {
     "data": {
      "text/html": [
       "<pre style=\"white-space:pre;overflow-x:auto;line-height:normal;font-family:Menlo,'DejaVu Sans Mono',consolas,'Courier New',monospace\"><span style=\"font-weight: bold\">[</span><span style=\"color: #008000; text-decoration-color: #008000\">'Savor the soothing flavors of our Organic Herbal Tea Collection. Crafted from handpicked herbs, these teas offer </span>\n",
       "<span style=\"color: #008000; text-decoration-color: #008000\">relaxation and natural goodness.'</span><span style=\"font-weight: bold\">]</span>\n",
       "</pre>\n"
      ],
      "text/plain": [
       "\u001b[1m[\u001b[0m\u001b[32m'Savor the soothing flavors of our Organic Herbal Tea Collection. Crafted from handpicked herbs, these teas offer \u001b[0m\n",
       "\u001b[32mrelaxation and natural goodness.'\u001b[0m\u001b[1m]\u001b[0m\n"
      ]
     },
     "metadata": {},
     "output_type": "display_data"
    }
   ],
   "source": [
    "rprint(data.loc[data.Product_Name == \"Organic Herbal Tea Collection\", \"Description\"].values)"
   ]
  },
  {
   "cell_type": "code",
   "execution_count": 69,
   "metadata": {},
   "outputs": [
    {
     "data": {
      "text/html": [
       "<pre style=\"white-space:pre;overflow-x:auto;line-height:normal;font-family:Menlo,'DejaVu Sans Mono',consolas,'Courier New',monospace\"><span style=\"font-weight: bold\">[</span><span style=\"color: #008000; text-decoration-color: #008000\">'Experience ultimate comfort with our Organic Bamboo Bed Sheets. These luxuriously soft sheets are made from </span>\n",
       "<span style=\"color: #008000; text-decoration-color: #008000\">sustainable and breathable bamboo fibers.'</span><span style=\"font-weight: bold\">]</span>\n",
       "</pre>\n"
      ],
      "text/plain": [
       "\u001b[1m[\u001b[0m\u001b[32m'Experience ultimate comfort with our Organic Bamboo Bed Sheets. These luxuriously soft sheets are made from \u001b[0m\n",
       "\u001b[32msustainable and breathable bamboo fibers.'\u001b[0m\u001b[1m]\u001b[0m\n"
      ]
     },
     "metadata": {},
     "output_type": "display_data"
    }
   ],
   "source": [
    "rprint(data.loc[data.Product_Name == \"Organic Bamboo Bed Sheets\", \"Description\"].values)"
   ]
  },
  {
   "cell_type": "code",
   "execution_count": 70,
   "metadata": {},
   "outputs": [
    {
     "data": {
      "text/html": [
       "<pre style=\"white-space:pre;overflow-x:auto;line-height:normal;font-family:Menlo,'DejaVu Sans Mono',consolas,'Courier New',monospace\"><span style=\"font-weight: bold\">[</span><span style=\"color: #008000; text-decoration-color: #008000\">'Immerse yourself in virtual worlds with our Virtual Reality Headset. Experience gaming, entertainment, and </span>\n",
       "<span style=\"color: #008000; text-decoration-color: #008000\">exploration like never before.'</span><span style=\"font-weight: bold\">]</span>\n",
       "</pre>\n"
      ],
      "text/plain": [
       "\u001b[1m[\u001b[0m\u001b[32m'Immerse yourself in virtual worlds with our Virtual Reality Headset. Experience gaming, entertainment, and \u001b[0m\n",
       "\u001b[32mexploration like never before.'\u001b[0m\u001b[1m]\u001b[0m\n"
      ]
     },
     "metadata": {},
     "output_type": "display_data"
    }
   ],
   "source": [
    "rprint(data.loc[data.Product_Name == \"Virtual Reality Headset\", \"Description\"].values)"
   ]
  },
  {
   "attachments": {},
   "cell_type": "markdown",
   "metadata": {},
   "source": [
    "## Another example of self correcting query"
   ]
  },
  {
   "cell_type": "code",
   "execution_count": 72,
   "metadata": {},
   "outputs": [
    {
     "data": {
      "text/html": [
       "<pre style=\"white-space:pre;overflow-x:auto;line-height:normal;font-family:Menlo,'DejaVu Sans Mono',consolas,'Courier New',monospace\">The sum of all prices for all products whose price is $<span style=\"color: #008080; text-decoration-color: #008080; font-weight: bold\">79.99</span> is $<span style=\"color: #008080; text-decoration-color: #008080; font-weight: bold\">159.98</span>.\n",
       "</pre>\n"
      ],
      "text/plain": [
       "The sum of all prices for all products whose price is $\u001b[1;36m79.99\u001b[0m is $\u001b[1;36m159.98\u001b[0m.\n"
      ]
     },
     "metadata": {},
     "output_type": "display_data"
    },
    {
     "data": {
      "text/html": [
       "<pre style=\"white-space:pre;overflow-x:auto;line-height:normal;font-family:Menlo,'DejaVu Sans Mono',consolas,'Courier New',monospace\">Guideline eval evaluation result: The response does not fully answer the query. It only provides the sum of prices \n",
       "for products with a price of $<span style=\"color: #008080; text-decoration-color: #008080; font-weight: bold\">79.99</span>, but it does not specify what the sum is. The response should be more specific \n",
       "and provide the actual sum, using numbers or statistics when possible.\n",
       "</pre>\n"
      ],
      "text/plain": [
       "Guideline eval evaluation result: The response does not fully answer the query. It only provides the sum of prices \n",
       "for products with a price of $\u001b[1;36m79.99\u001b[0m, but it does not specify what the sum is. The response should be more specific \n",
       "and provide the actual sum, using numbers or statistics when possible.\n"
      ]
     },
     "metadata": {},
     "output_type": "display_data"
    },
    {
     "data": {
      "text/html": [
       "<pre style=\"white-space:pre;overflow-x:auto;line-height:normal;font-family:Menlo,'DejaVu Sans Mono',consolas,'Courier New',monospace\">Transformed query: Here is a previous bad answer.\n",
       "The sum of all prices for all products whose price is $<span style=\"color: #008080; text-decoration-color: #008080; font-weight: bold\">79.99</span> is $<span style=\"color: #008080; text-decoration-color: #008080; font-weight: bold\">159.98</span>.\n",
       "Here is some feedback from the evaluator about the response given.\n",
       "The response does not fully answer the query. It only provides the sum of prices for products with a price of \n",
       "$<span style=\"color: #008080; text-decoration-color: #008080; font-weight: bold\">79.99</span>, but it does not specify what the sum is. The response should be more specific and provide the actual sum, \n",
       "using numbers or statistics when possible.\n",
       "Now answer the question.\n",
       "What is the total sum of prices for all products priced at $<span style=\"color: #008080; text-decoration-color: #008080; font-weight: bold\">79.99</span>?\n",
       "</pre>\n"
      ],
      "text/plain": [
       "Transformed query: Here is a previous bad answer.\n",
       "The sum of all prices for all products whose price is $\u001b[1;36m79.99\u001b[0m is $\u001b[1;36m159.98\u001b[0m.\n",
       "Here is some feedback from the evaluator about the response given.\n",
       "The response does not fully answer the query. It only provides the sum of prices for products with a price of \n",
       "$\u001b[1;36m79.99\u001b[0m, but it does not specify what the sum is. The response should be more specific and provide the actual sum, \n",
       "using numbers or statistics when possible.\n",
       "Now answer the question.\n",
       "What is the total sum of prices for all products priced at $\u001b[1;36m79.99\u001b[0m?\n"
      ]
     },
     "metadata": {},
     "output_type": "display_data"
    }
   ],
   "source": [
    "# test another query\n",
    "\n",
    "query = \"What is the sum of all prices for all products whose price is $79.99?\"\n",
    "response = query_engine.query(query)\n",
    "rprint(str(response))\n",
    "typed_response = (\n",
    "    response if isinstance(response, Response) else response.get_response()\n",
    ")\n",
    "eval = guideline_eval.evaluate_response(query, typed_response)\n",
    "print(f\"Guideline eval evaluation result: {eval.feedback}\")\n",
    "\n",
    "feedback_query_transform = FeedbackQueryTransformation(resynthesize_query=True)\n",
    "transformed_query = feedback_query_transform.run(query, {\"evaluation\": eval})\n",
    "print(f\"Transformed query: {transformed_query.query_str}\")"
   ]
  },
  {
   "cell_type": "code",
   "execution_count": 73,
   "metadata": {},
   "outputs": [
    {
     "data": {
      "text/html": [
       "<pre style=\"white-space:pre;overflow-x:auto;line-height:normal;font-family:Menlo,'DejaVu Sans Mono',consolas,'Courier New',monospace\">The total cost of all products priced at $<span style=\"color: #008080; text-decoration-color: #008080; font-weight: bold\">79.99</span> each is $<span style=\"color: #008080; text-decoration-color: #008080; font-weight: bold\">159.98</span>. This answer was chosen because it is the sum of \n",
       "the prices of all products that are priced at $<span style=\"color: #008080; text-decoration-color: #008080; font-weight: bold\">79.99</span> each.\n",
       "</pre>\n"
      ],
      "text/plain": [
       "The total cost of all products priced at $\u001b[1;36m79.99\u001b[0m each is $\u001b[1;36m159.98\u001b[0m. This answer was chosen because it is the sum of \n",
       "the prices of all products that are priced at $\u001b[1;36m79.99\u001b[0m each.\n"
      ]
     },
     "metadata": {},
     "output_type": "display_data"
    }
   ],
   "source": [
    "retry_guideline_query_engine = RetryGuidelineQueryEngine(\n",
    "    query_engine, guideline_eval, resynthesize_query=True,\n",
    "    max_retries=2,\n",
    ")\n",
    "retry_guideline_response = retry_guideline_query_engine.query(query)\n",
    "rprint(retry_guideline_response.response)"
   ]
  }
 ],
 "metadata": {
  "kernelspec": {
   "display_name": "Python 3",
   "language": "python",
   "name": "python3"
  },
  "language_info": {
   "codemirror_mode": {
    "name": "ipython",
    "version": 3
   },
   "file_extension": ".py",
   "mimetype": "text/x-python",
   "name": "python",
   "nbconvert_exporter": "python",
   "pygments_lexer": "ipython3",
   "version": "3.10.10"
  },
  "orig_nbformat": 4
 },
 "nbformat": 4,
 "nbformat_minor": 2
}
