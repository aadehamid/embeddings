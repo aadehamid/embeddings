{
 "cells": [
  {
   "cell_type": "code",
   "execution_count": 22,
   "metadata": {},
   "outputs": [],
   "source": [
    "# import for preprocessing\n",
    "import pandas as pd\n",
    "import duckdb\n",
    "from rich import print\n",
    "import logging\n",
    "import sys\n",
    "import sqlite3\n",
    "\n",
    "# llama index import to create sql DB\n",
    "from llama_index import (\n",
    "    SQLDatabase,\n",
    "    SimpleDirectoryReader,\n",
    "    Document,\n",
    "    StorageContext,\n",
    "    ServiceContext,\n",
    "    VectorStoreIndex,\n",
    "    OpenAIEmbedding,\n",
    "    set_global_service_context,\n",
    ")\n",
    "from llama_index.indices.struct_store import (\n",
    "    NLSQLTableQueryEngine,\n",
    "    SQLTableRetrieverQueryEngine,\n",
    ")\n",
    "from llama_index.llms import OpenAI\n",
    "\n",
    "# import for text 2 SQl query engine\n",
    "from llama_index.indices.struct_store.sql_query import (\n",
    "    NLSQLTableQueryEngine,\n",
    "    SQLTableRetrieverQueryEngine,\n",
    ")\n",
    "\n",
    "# iport if we do not know the name of table ahead of time\n",
    "from llama_index.objects import (\n",
    "    SQLTableNodeMapping,\n",
    "    ObjectIndex,\n",
    "    SQLTableSchema,\n",
    ")\n",
    "\n",
    "# import to set up query tool\n",
    "from llama_index.tools.query_engine import QueryEngineTool\n",
    "\n",
    "# import to set up query router\n",
    "from llama_index.query_engine.router_query_engine import RouterQueryEngine\n",
    "from llama_index.selectors.llm_selectors import LLMSingleSelector\n",
    "\n",
    "# import to set up weaviate\n",
    "from llama_index.vector_stores import WeaviateVectorStore\n",
    "\n",
    "import weaviate\n",
    "import openai\n",
    "\n",
    "from dotenv import find_dotenv, load_dotenv\n",
    "load_dotenv(find_dotenv())\n",
    "import os\n",
    "openai.api_key = os.getenv(\"OPENA_AI_KEY\")\n",
    "\n",
    "from IPython.display import Markdown, display\n",
    "\n",
    "\n",
    "from sqlalchemy import engine, MetaData, create_engine, text, select\n",
    "\n",
    "# Import modules for self correcting\n",
    "from llama_index.query_engine import RetryQueryEngine\n",
    "from llama_index.evaluation import RelevancyEvaluator\n",
    "from llama_index.query_engine import RetrySourceQueryEngine\n",
    "\n",
    "# Import modules to customize guidelines for what response shou look like\n",
    "from llama_index.evaluation.guideline import (\n",
    "    GuidelineEvaluator,\n",
    "    DEFAULT_GUIDELINES,\n",
    ")\n",
    "from llama_index.response.schema import Response\n",
    "from llama_index.indices.query.query_transform.feedback_transform import (\n",
    "    FeedbackQueryTransformation,\n",
    ")\n",
    "from llama_index.query_engine.retry_query_engine import (\n",
    "    RetryGuidelineQueryEngine,\n",
    ")\n",
    "\n",
    "# import to display llama index response\n",
    "from llama_index.response.notebook_utils import display_response\n",
    "# Needed for running async functions in Jupyter Notebook\n",
    "import nest_asyncio\n",
    "\n",
    "nest_asyncio.apply()\n",
    "\n",
    "# Tru Lens Evaluation\n",
    "# import sys\n",
    "# sys.path.append(os.path.dirname(find_dotenv()))\n",
    "# from utils import get_prebuilt_trulens_recorder\n",
    "# from trulens_eval import Tru\n",
    "\n",
    "# Import for senetnce window\n",
    "from utils import build_sentence_window_index\n",
    "from utils import  build_sentence_window_index_vector_DB, get_sentence_window_query_engine\n",
    "from utils import (build_automerging_index_vector_DB, \n",
    "build_automerging_index, get_automerging_query_engine)\n"
   ]
  },
  {
   "cell_type": "code",
   "execution_count": 2,
   "metadata": {},
   "outputs": [],
   "source": [
    "auth_config = weaviate.AuthApiKey(api_key=\"c9la4QfNWbdKafDMbIevGgpvsqRwbu8vuESZ\")\n",
    "\n",
    "client = weaviate.Client(\n",
    "  url=\"https://product-automerging-rerank-btez10df.weaviate.network\",\n",
    "  auth_client_secret=auth_config\n",
    ")"
   ]
  },
  {
   "attachments": {},
   "cell_type": "markdown",
   "metadata": {},
   "source": [
    "# 1. INGESTION"
   ]
  },
  {
   "attachments": {},
   "cell_type": "markdown",
   "metadata": {},
   "source": [
    "## Load the product data from file"
   ]
  },
  {
   "cell_type": "code",
   "execution_count": 3,
   "metadata": {},
   "outputs": [
    {
     "data": {
      "text/html": [
       "<pre style=\"white-space:pre;overflow-x:auto;line-height:normal;font-family:Menlo,'DejaVu Sans Mono',consolas,'Courier New',monospace\"><span style=\"color: #800080; text-decoration-color: #800080; font-weight: bold\">Index</span><span style=\"font-weight: bold\">([</span><span style=\"color: #008000; text-decoration-color: #008000\">'Product_Name'</span>, <span style=\"color: #008000; text-decoration-color: #008000\">'Price'</span>, <span style=\"color: #008000; text-decoration-color: #008000\">'Rating'</span>, <span style=\"color: #008000; text-decoration-color: #008000\">'Description'</span>, <span style=\"color: #008000; text-decoration-color: #008000\">'Features'</span><span style=\"font-weight: bold\">]</span>, <span style=\"color: #808000; text-decoration-color: #808000\">dtype</span>=<span style=\"color: #008000; text-decoration-color: #008000\">'object'</span><span style=\"font-weight: bold\">)</span>\n",
       "</pre>\n"
      ],
      "text/plain": [
       "\u001b[1;35mIndex\u001b[0m\u001b[1m(\u001b[0m\u001b[1m[\u001b[0m\u001b[32m'Product_Name'\u001b[0m, \u001b[32m'Price'\u001b[0m, \u001b[32m'Rating'\u001b[0m, \u001b[32m'Description'\u001b[0m, \u001b[32m'Features'\u001b[0m\u001b[1m]\u001b[0m, \u001b[33mdtype\u001b[0m=\u001b[32m'object'\u001b[0m\u001b[1m)\u001b[0m\n"
      ]
     },
     "metadata": {},
     "output_type": "display_data"
    }
   ],
   "source": [
    "filepath = \"/teamspace/studios/Data_Studio/product_listing/product_listing.csv\"\n",
    "data = pd.read_csv(filepath)\n",
    "data.columns = ['Product_Name', 'Price', 'Rating', 'Description', 'Features']\n",
    "print(data.columns)"
   ]
  },
  {
   "attachments": {},
   "cell_type": "markdown",
   "metadata": {},
   "source": [
    "## Create an sqlite DB for the product data"
   ]
  },
  {
   "cell_type": "code",
   "execution_count": 5,
   "metadata": {},
   "outputs": [
    {
     "data": {
      "text/plain": [
       "12"
      ]
     },
     "execution_count": 5,
     "metadata": {},
     "output_type": "execute_result"
    }
   ],
   "source": [
    "# Create a connection to an SQLite database file\n",
    "conn = sqlite3.connect('./data/product_sqlite.db')\n",
    "\n",
    "# Write the DataFrame to a table in the SQLite database\n",
    "data.to_sql('product_table', conn, if_exists='replace', index=False)"
   ]
  },
  {
   "cell_type": "code",
   "execution_count": 6,
   "metadata": {},
   "outputs": [
    {
     "data": {
      "text/html": [
       "<pre style=\"white-space:pre;overflow-x:auto;line-height:normal;font-family:Menlo,'DejaVu Sans Mono',consolas,'Courier New',monospace\"><span style=\"font-weight: bold\">(</span>\n",
       "    <span style=\"color: #008000; text-decoration-color: #008000\">'Ultimate Wireless Bluetooth Earbuds'</span>,\n",
       "    <span style=\"color: #008080; text-decoration-color: #008080; font-weight: bold\">79.99</span>,\n",
       "    <span style=\"color: #008080; text-decoration-color: #008080; font-weight: bold\">4.4</span>,\n",
       "    <span style=\"color: #008000; text-decoration-color: #008000\">\"Elevate your music experience with our Ultimate Wireless Bluetooth Earbuds. These earbuds are designed for </span>\n",
       "<span style=\"color: #008000; text-decoration-color: #008000\">audiophiles who demand premium sound quality and convenience. With advanced Bluetooth 5.0 technology, you'll enjoy </span>\n",
       "<span style=\"color: #008000; text-decoration-color: #008000\">seamless connectivity and crystal-clear audio.\"</span>,\n",
       "    <span style=\"color: #008000; text-decoration-color: #008000\">'- High-fidelity sound with deep bass and clear treble. - Noise-canceling technology for an immersive listening</span>\n",
       "<span style=\"color: #008000; text-decoration-color: #008000\">experience. - 20 hours of playtime on a single charge. - Ergonomic design for a secure and comfortable fit. - Touch</span>\n",
       "<span style=\"color: #008000; text-decoration-color: #008000\">controls for easy playback and calls. - IPX7 waterproof rating for workouts and outdoor activities. - Built-in </span>\n",
       "<span style=\"color: #008000; text-decoration-color: #008000\">microphone for hands-free calls.'</span>\n",
       "<span style=\"font-weight: bold\">)</span>\n",
       "</pre>\n"
      ],
      "text/plain": [
       "\u001b[1m(\u001b[0m\n",
       "    \u001b[32m'Ultimate Wireless Bluetooth Earbuds'\u001b[0m,\n",
       "    \u001b[1;36m79.99\u001b[0m,\n",
       "    \u001b[1;36m4.4\u001b[0m,\n",
       "    \u001b[32m\"Elevate your music experience with our Ultimate Wireless Bluetooth Earbuds. These earbuds are designed for \u001b[0m\n",
       "\u001b[32maudiophiles who demand premium sound quality and convenience. With advanced Bluetooth 5.0 technology, you'll enjoy \u001b[0m\n",
       "\u001b[32mseamless connectivity and crystal-clear audio.\"\u001b[0m,\n",
       "    \u001b[32m'- High-fidelity sound with deep bass and clear treble. - Noise-canceling technology for an immersive listening\u001b[0m\n",
       "\u001b[32mexperience. - 20 hours of playtime on a single charge. - Ergonomic design for a secure and comfortable fit. - Touch\u001b[0m\n",
       "\u001b[32mcontrols for easy playback and calls. - IPX7 waterproof rating for workouts and outdoor activities. - Built-in \u001b[0m\n",
       "\u001b[32mmicrophone for hands-free calls.'\u001b[0m\n",
       "\u001b[1m)\u001b[0m\n"
      ]
     },
     "metadata": {},
     "output_type": "display_data"
    }
   ],
   "source": [
    "# View the sqlite DB\n",
    "\n",
    "result = conn.execute(\"SELECT * FROM product_table limit 1\").fetchall()\n",
    "\n",
    "# Process the result\n",
    "for row in result:\n",
    "    rprint(row)"
   ]
  },
  {
   "attachments": {},
   "cell_type": "markdown",
   "metadata": {},
   "source": [
    "## Create SQLDatabase Object"
   ]
  },
  {
   "cell_type": "code",
   "execution_count": 4,
   "metadata": {},
   "outputs": [
    {
     "data": {
      "text/html": [
       "<pre style=\"white-space:pre;overflow-x:auto;line-height:normal;font-family:Menlo,'DejaVu Sans Mono',consolas,'Courier New',monospace\"><span style=\"font-weight: bold\">(</span><span style=\"color: #008000; text-decoration-color: #008000\">'Ultimate Wireless Bluetooth Earbuds'</span>, <span style=\"color: #008080; text-decoration-color: #008080; font-weight: bold\">79.99</span>, <span style=\"color: #008080; text-decoration-color: #008080; font-weight: bold\">4.4</span>, <span style=\"color: #008000; text-decoration-color: #008000\">\"Elevate your music experience with our Ultimate Wireless </span>\n",
       "<span style=\"color: #008000; text-decoration-color: #008000\">Bluetooth Earbuds. These earbuds are designed for audiophiles who demand premium sound quality and convenience. </span>\n",
       "<span style=\"color: #008000; text-decoration-color: #008000\">With advanced Bluetooth 5.0 technology, you'll enjoy seamless connectivity and crystal-clear audio.\"</span>, <span style=\"color: #008000; text-decoration-color: #008000\">'- </span>\n",
       "<span style=\"color: #008000; text-decoration-color: #008000\">High-fidelity sound with deep bass and clear treble. - Noise-canceling technology for an immersive listening </span>\n",
       "<span style=\"color: #008000; text-decoration-color: #008000\">experience. - 20 hours of playtime on  ... (72 characters truncated) ... Touch controls for easy playback and </span>\n",
       "<span style=\"color: #008000; text-decoration-color: #008000\">calls. - IPX7 waterproof rating for workouts and outdoor activities. - Built-in microphone for hands-free calls.'</span><span style=\"font-weight: bold\">)</span>\n",
       "</pre>\n"
      ],
      "text/plain": [
       "\u001b[1m(\u001b[0m\u001b[32m'Ultimate Wireless Bluetooth Earbuds'\u001b[0m, \u001b[1;36m79.99\u001b[0m, \u001b[1;36m4.4\u001b[0m, \u001b[32m\"Elevate your music experience with our Ultimate Wireless \u001b[0m\n",
       "\u001b[32mBluetooth Earbuds. These earbuds are designed for audiophiles who demand premium sound quality and convenience. \u001b[0m\n",
       "\u001b[32mWith advanced Bluetooth 5.0 technology, you'll enjoy seamless connectivity and crystal-clear audio.\"\u001b[0m, \u001b[32m'- \u001b[0m\n",
       "\u001b[32mHigh-fidelity sound with deep bass and clear treble. - Noise-canceling technology for an immersive listening \u001b[0m\n",
       "\u001b[32mexperience. - 20 hours of playtime on  ... \u001b[0m\u001b[32m(\u001b[0m\u001b[32m72 characters truncated\u001b[0m\u001b[32m)\u001b[0m\u001b[32m ... Touch controls for easy playback and \u001b[0m\n",
       "\u001b[32mcalls. - IPX7 waterproof rating for workouts and outdoor activities. - Built-in microphone for hands-free calls.'\u001b[0m\u001b[1m)\u001b[0m\n"
      ]
     },
     "metadata": {},
     "output_type": "display_data"
    }
   ],
   "source": [
    "# SQLITE\n",
    "engine = create_engine(\"sqlite:///\" +\"./data/product_sqlite.db\")\n",
    "connection = engine.connect()\n",
    "result = connection.execute(text(\"SELECT * FROM product_table limit 1\"))\n",
    "for row in result:\n",
    "    print(row)\n"
   ]
  },
  {
   "attachments": {},
   "cell_type": "markdown",
   "metadata": {},
   "source": [
    "## Define SQL Database"
   ]
  },
  {
   "cell_type": "code",
   "execution_count": 5,
   "metadata": {},
   "outputs": [],
   "source": [
    "llm = OpenAI(temperature=0.1, model = \"gpt-3.5-turbo\")\n",
    "embed_model = OpenAIEmbedding(model=\"text-embedding-3-small\")\n",
    "# service_context = ServiceContext.from_defaults(llm =llm, embed_model=embed_model,)\n",
    "# set_global_service_context(service_context)\n",
    "# service_context = ServiceContext.from_defaults(llm =llm)\n",
    "sql_database = SQLDatabase(engine, include_tables=[\"product_table\"])"
   ]
  },
  {
   "attachments": {},
   "cell_type": "markdown",
   "metadata": {},
   "source": [
    "## Text to SQL Query Engine"
   ]
  },
  {
   "cell_type": "code",
   "execution_count": 6,
   "metadata": {},
   "outputs": [
    {
     "data": {
      "text/markdown": [
       "**`Final Response:`** The products that were sold for $79.99 are the Ultimate Wireless Bluetooth Earbuds and the Portable Solar Charger."
      ],
      "text/plain": [
       "<IPython.core.display.Markdown object>"
      ]
     },
     "metadata": {},
     "output_type": "display_data"
    }
   ],
   "source": [
    "query_engine = NLSQLTableQueryEngine(\n",
    "    sql_database = sql_database,\n",
    "    tables = [\"product_table\"])\n",
    "query_str = \"Which product was sold for 79.99?\"\n",
    "response = query_engine.query(query_str)\n",
    "display_response(response)"
   ]
  },
  {
   "attachments": {},
   "cell_type": "markdown",
   "metadata": {},
   "source": [
    "## Part 2: Query-Time Retrieval of Tables for Text-to-SQL\n",
    "If we don’t know ahead of time which table we would like to use, and the total size of the table schema overflows your context window size, we should store the table schema in an index so that during query time we can retrieve the right schema.\n",
    "\n",
    "The way we can do this is using the SQLTableNodeMapping object, which takes in a SQLDatabase and produces a Node object for each SQLTableSchema object passed into the ObjectIndex constructor."
   ]
  },
  {
   "cell_type": "code",
   "execution_count": 7,
   "metadata": {},
   "outputs": [],
   "source": [
    "\n",
    "# set Logging to DEBUG for more detailed outputs\n",
    "table_node_mapping = SQLTableNodeMapping(sql_database)\n",
    "table_schema_objs = [\n",
    "    (SQLTableSchema(table_name=\"product_table\"))\n",
    "]  # add a SQLTableSchema for each table\n",
    "\n",
    "obj_index = ObjectIndex.from_objects(\n",
    "    table_schema_objs,\n",
    "    table_node_mapping,\n",
    "    VectorStoreIndex,\n",
    ")\n",
    "query_engine = SQLTableRetrieverQueryEngine(\n",
    "    sql_database, obj_index.as_retriever(similarity_top_k=1)\n",
    ")"
   ]
  },
  {
   "cell_type": "code",
   "execution_count": 8,
   "metadata": {},
   "outputs": [
    {
     "data": {
      "text/markdown": [
       "<b>The rating for the product named Portable Solar Charger is 4.0.</b>"
      ],
      "text/plain": [
       "<IPython.core.display.Markdown object>"
      ]
     },
     "metadata": {},
     "output_type": "display_data"
    }
   ],
   "source": [
    "query_str = \"What is the Rating for the product whose name is Portable Solar Charger?\"\n",
    "response = query_engine.query(query_str)\n",
    "display(Markdown(f\"<b>{response}</b>\"))"
   ]
  },
  {
   "cell_type": "code",
   "execution_count": 11,
   "metadata": {},
   "outputs": [
    {
     "data": {
      "text/plain": [
       "[(4.0,)]"
      ]
     },
     "execution_count": 11,
     "metadata": {},
     "output_type": "execute_result"
    }
   ],
   "source": [
    "# you can also fetch the raw result from SQLAlchemy!\n",
    "response.metadata[\"result\"]"
   ]
  },
  {
   "attachments": {},
   "cell_type": "markdown",
   "metadata": {},
   "source": [
    "## Create embedding for the columns to embed"
   ]
  },
  {
   "cell_type": "code",
   "execution_count": 9,
   "metadata": {},
   "outputs": [],
   "source": [
    "## With PANDAS DATAFRAME\n",
    "# Assuming you have already loaded the data into a Pandas DataFrame df\n",
    "columns_to_embed = [\"Description\", \"Features\"]\n",
    "columns_to_metadata = [\"Product Name\", \"Price\", \"Rating\", \"Description\", \"Features\"]\n",
    "\n",
    "docs = []\n",
    "for i, row in data.iterrows():\n",
    "    to_metadata = {col: row[col] for col in columns_to_metadata if col in row}\n",
    "    values_to_embed = {k: row[k] for k in columns_to_embed if k in row}\n",
    "    to_embed = '\\n'.join(f\"{k.strip()}: {v.strip()}\" for k, v in values_to_embed.items())\n",
    "    newDoc = Document(text=to_embed, metadata=to_metadata)\n",
    "    docs.append(newDoc)\n",
    "\n",
    "# Create a single document from a list of Documents\n",
    "# this is what we will chunk up and store with its embedding in Weaviate\n",
    "document = Document(text=\"\\n\\n\".join([doc.text for doc in docs]))"
   ]
  },
  {
   "attachments": {},
   "cell_type": "markdown",
   "metadata": {},
   "source": [
    "## Create Weaviate Schema"
   ]
  },
  {
   "cell_type": "code",
   "execution_count": 11,
   "metadata": {},
   "outputs": [
    {
     "data": {
      "text/html": [
       "<pre style=\"white-space:pre;overflow-x:auto;line-height:normal;font-family:Menlo,'DejaVu Sans Mono',consolas,'Courier New',monospace\">Product schema was created.\n",
       "</pre>\n"
      ],
      "text/plain": [
       "Product schema was created.\n"
      ]
     },
     "metadata": {},
     "output_type": "display_data"
    }
   ],
   "source": [
    "# Create Schema\n",
    "product_schema = {\n",
    "   \"classes\": [\n",
    "       {\n",
    "           \"class\": \"Product\",\n",
    "           \"description\": \"Listing of Products\",\n",
    "           \"vectorizer\": \"text2vec-openai\",\n",
    "           \"properties\": [\n",
    "               {\n",
    "                  \"name\": \"Product_Name\",\n",
    "                  \"dataType\": [\"text\"],\n",
    "                  \"description\": \"Name of the product.\",\n",
    "               },\n",
    "               {\n",
    "                  \"name\": \"Price\",\n",
    "                  \"dataType\": [\"number\"],\n",
    "                  \"description\": \"Price of the product.\",\n",
    "               },\n",
    "               {\n",
    "                  \"name\": \"Rating\",\n",
    "                  \"dataType\": [\"number\"],\n",
    "                  \"description\": \"Rating of the product.\",\n",
    "               },\n",
    "               {\n",
    "                  \"name\": \"Description\",\n",
    "                  \"dataType\": [\"text\"],\n",
    "                  \"description\": \"Description of the product.\",\n",
    "               },\n",
    "               {\n",
    "                  \"name\": \"Features\",\n",
    "                  \"dataType\": [\"text\"],\n",
    "                  \"description\": \"Feature of the product.\",\n",
    "               }\n",
    "            ]\n",
    "        }\n",
    "    ]\n",
    "}\n",
    "\n",
    "client.schema.create(product_schema)\n",
    "print(\"Product schema was created.\")"
   ]
  },
  {
   "cell_type": "code",
   "execution_count": 10,
   "metadata": {},
   "outputs": [
    {
     "data": {
      "text/html": [
       "<pre style=\"white-space:pre;overflow-x:auto;line-height:normal;font-family:Menlo,'DejaVu Sans Mono',consolas,'Courier New',monospace\"><span style=\"font-weight: bold\">{</span>\n",
       "    <span style=\"color: #008000; text-decoration-color: #008000\">'classes'</span>: <span style=\"font-weight: bold\">[</span>\n",
       "        <span style=\"font-weight: bold\">{</span>\n",
       "            <span style=\"color: #008000; text-decoration-color: #008000\">'class'</span>: <span style=\"color: #008000; text-decoration-color: #008000\">'Product'</span>,\n",
       "            <span style=\"color: #008000; text-decoration-color: #008000\">'description'</span>: <span style=\"color: #008000; text-decoration-color: #008000\">'Listing of Products'</span>,\n",
       "            <span style=\"color: #008000; text-decoration-color: #008000\">'invertedIndexConfig'</span>: <span style=\"font-weight: bold\">{</span>\n",
       "                <span style=\"color: #008000; text-decoration-color: #008000\">'bm25'</span>: <span style=\"font-weight: bold\">{</span><span style=\"color: #008000; text-decoration-color: #008000\">'b'</span>: <span style=\"color: #008080; text-decoration-color: #008080; font-weight: bold\">0.75</span>, <span style=\"color: #008000; text-decoration-color: #008000\">'k1'</span>: <span style=\"color: #008080; text-decoration-color: #008080; font-weight: bold\">1.2</span><span style=\"font-weight: bold\">}</span>,\n",
       "                <span style=\"color: #008000; text-decoration-color: #008000\">'cleanupIntervalSeconds'</span>: <span style=\"color: #008080; text-decoration-color: #008080; font-weight: bold\">60</span>,\n",
       "                <span style=\"color: #008000; text-decoration-color: #008000\">'stopwords'</span>: <span style=\"font-weight: bold\">{</span><span style=\"color: #008000; text-decoration-color: #008000\">'additions'</span>: <span style=\"color: #800080; text-decoration-color: #800080; font-style: italic\">None</span>, <span style=\"color: #008000; text-decoration-color: #008000\">'preset'</span>: <span style=\"color: #008000; text-decoration-color: #008000\">'en'</span>, <span style=\"color: #008000; text-decoration-color: #008000\">'removals'</span>: <span style=\"color: #800080; text-decoration-color: #800080; font-style: italic\">None</span><span style=\"font-weight: bold\">}</span>\n",
       "            <span style=\"font-weight: bold\">}</span>,\n",
       "            <span style=\"color: #008000; text-decoration-color: #008000\">'moduleConfig'</span>: <span style=\"font-weight: bold\">{</span>\n",
       "                <span style=\"color: #008000; text-decoration-color: #008000\">'text2vec-openai'</span>: <span style=\"font-weight: bold\">{</span>\n",
       "                    <span style=\"color: #008000; text-decoration-color: #008000\">'baseURL'</span>: <span style=\"color: #008000; text-decoration-color: #008000\">'https://api.openai.com'</span>,\n",
       "                    <span style=\"color: #008000; text-decoration-color: #008000\">'model'</span>: <span style=\"color: #008000; text-decoration-color: #008000\">'ada'</span>,\n",
       "                    <span style=\"color: #008000; text-decoration-color: #008000\">'modelVersion'</span>: <span style=\"color: #008000; text-decoration-color: #008000\">'002'</span>,\n",
       "                    <span style=\"color: #008000; text-decoration-color: #008000\">'type'</span>: <span style=\"color: #008000; text-decoration-color: #008000\">'text'</span>,\n",
       "                    <span style=\"color: #008000; text-decoration-color: #008000\">'vectorizeClassName'</span>: <span style=\"color: #00ff00; text-decoration-color: #00ff00; font-style: italic\">True</span>\n",
       "                <span style=\"font-weight: bold\">}</span>\n",
       "            <span style=\"font-weight: bold\">}</span>,\n",
       "            <span style=\"color: #008000; text-decoration-color: #008000\">'multiTenancyConfig'</span>: <span style=\"font-weight: bold\">{</span><span style=\"color: #008000; text-decoration-color: #008000\">'enabled'</span>: <span style=\"color: #ff0000; text-decoration-color: #ff0000; font-style: italic\">False</span><span style=\"font-weight: bold\">}</span>,\n",
       "            <span style=\"color: #008000; text-decoration-color: #008000\">'properties'</span>: <span style=\"font-weight: bold\">[</span>\n",
       "                <span style=\"font-weight: bold\">{</span>\n",
       "                    <span style=\"color: #008000; text-decoration-color: #008000\">'dataType'</span>: <span style=\"font-weight: bold\">[</span><span style=\"color: #008000; text-decoration-color: #008000\">'text'</span><span style=\"font-weight: bold\">]</span>,\n",
       "                    <span style=\"color: #008000; text-decoration-color: #008000\">'description'</span>: <span style=\"color: #008000; text-decoration-color: #008000\">'Name of the product.'</span>,\n",
       "                    <span style=\"color: #008000; text-decoration-color: #008000\">'indexFilterable'</span>: <span style=\"color: #00ff00; text-decoration-color: #00ff00; font-style: italic\">True</span>,\n",
       "                    <span style=\"color: #008000; text-decoration-color: #008000\">'indexSearchable'</span>: <span style=\"color: #00ff00; text-decoration-color: #00ff00; font-style: italic\">True</span>,\n",
       "                    <span style=\"color: #008000; text-decoration-color: #008000\">'moduleConfig'</span>: <span style=\"font-weight: bold\">{</span><span style=\"color: #008000; text-decoration-color: #008000\">'text2vec-openai'</span>: <span style=\"font-weight: bold\">{</span><span style=\"color: #008000; text-decoration-color: #008000\">'skip'</span>: <span style=\"color: #ff0000; text-decoration-color: #ff0000; font-style: italic\">False</span>, <span style=\"color: #008000; text-decoration-color: #008000\">'vectorizePropertyName'</span>: <span style=\"color: #ff0000; text-decoration-color: #ff0000; font-style: italic\">False</span><span style=\"font-weight: bold\">}}</span>,\n",
       "                    <span style=\"color: #008000; text-decoration-color: #008000\">'name'</span>: <span style=\"color: #008000; text-decoration-color: #008000\">'product_Name'</span>,\n",
       "                    <span style=\"color: #008000; text-decoration-color: #008000\">'tokenization'</span>: <span style=\"color: #008000; text-decoration-color: #008000\">'word'</span>\n",
       "                <span style=\"font-weight: bold\">}</span>,\n",
       "                <span style=\"font-weight: bold\">{</span>\n",
       "                    <span style=\"color: #008000; text-decoration-color: #008000\">'dataType'</span>: <span style=\"font-weight: bold\">[</span><span style=\"color: #008000; text-decoration-color: #008000\">'number'</span><span style=\"font-weight: bold\">]</span>,\n",
       "                    <span style=\"color: #008000; text-decoration-color: #008000\">'description'</span>: <span style=\"color: #008000; text-decoration-color: #008000\">'Price of the product.'</span>,\n",
       "                    <span style=\"color: #008000; text-decoration-color: #008000\">'indexFilterable'</span>: <span style=\"color: #00ff00; text-decoration-color: #00ff00; font-style: italic\">True</span>,\n",
       "                    <span style=\"color: #008000; text-decoration-color: #008000\">'indexSearchable'</span>: <span style=\"color: #ff0000; text-decoration-color: #ff0000; font-style: italic\">False</span>,\n",
       "                    <span style=\"color: #008000; text-decoration-color: #008000\">'moduleConfig'</span>: <span style=\"font-weight: bold\">{</span><span style=\"color: #008000; text-decoration-color: #008000\">'text2vec-openai'</span>: <span style=\"font-weight: bold\">{</span><span style=\"color: #008000; text-decoration-color: #008000\">'skip'</span>: <span style=\"color: #ff0000; text-decoration-color: #ff0000; font-style: italic\">False</span>, <span style=\"color: #008000; text-decoration-color: #008000\">'vectorizePropertyName'</span>: <span style=\"color: #ff0000; text-decoration-color: #ff0000; font-style: italic\">False</span><span style=\"font-weight: bold\">}}</span>,\n",
       "                    <span style=\"color: #008000; text-decoration-color: #008000\">'name'</span>: <span style=\"color: #008000; text-decoration-color: #008000\">'price'</span>\n",
       "                <span style=\"font-weight: bold\">}</span>,\n",
       "                <span style=\"font-weight: bold\">{</span>\n",
       "                    <span style=\"color: #008000; text-decoration-color: #008000\">'dataType'</span>: <span style=\"font-weight: bold\">[</span><span style=\"color: #008000; text-decoration-color: #008000\">'number'</span><span style=\"font-weight: bold\">]</span>,\n",
       "                    <span style=\"color: #008000; text-decoration-color: #008000\">'description'</span>: <span style=\"color: #008000; text-decoration-color: #008000\">'Rating of the product.'</span>,\n",
       "                    <span style=\"color: #008000; text-decoration-color: #008000\">'indexFilterable'</span>: <span style=\"color: #00ff00; text-decoration-color: #00ff00; font-style: italic\">True</span>,\n",
       "                    <span style=\"color: #008000; text-decoration-color: #008000\">'indexSearchable'</span>: <span style=\"color: #ff0000; text-decoration-color: #ff0000; font-style: italic\">False</span>,\n",
       "                    <span style=\"color: #008000; text-decoration-color: #008000\">'moduleConfig'</span>: <span style=\"font-weight: bold\">{</span><span style=\"color: #008000; text-decoration-color: #008000\">'text2vec-openai'</span>: <span style=\"font-weight: bold\">{</span><span style=\"color: #008000; text-decoration-color: #008000\">'skip'</span>: <span style=\"color: #ff0000; text-decoration-color: #ff0000; font-style: italic\">False</span>, <span style=\"color: #008000; text-decoration-color: #008000\">'vectorizePropertyName'</span>: <span style=\"color: #ff0000; text-decoration-color: #ff0000; font-style: italic\">False</span><span style=\"font-weight: bold\">}}</span>,\n",
       "                    <span style=\"color: #008000; text-decoration-color: #008000\">'name'</span>: <span style=\"color: #008000; text-decoration-color: #008000\">'rating'</span>\n",
       "                <span style=\"font-weight: bold\">}</span>,\n",
       "                <span style=\"font-weight: bold\">{</span>\n",
       "                    <span style=\"color: #008000; text-decoration-color: #008000\">'dataType'</span>: <span style=\"font-weight: bold\">[</span><span style=\"color: #008000; text-decoration-color: #008000\">'text'</span><span style=\"font-weight: bold\">]</span>,\n",
       "                    <span style=\"color: #008000; text-decoration-color: #008000\">'description'</span>: <span style=\"color: #008000; text-decoration-color: #008000\">'Description of the product.'</span>,\n",
       "                    <span style=\"color: #008000; text-decoration-color: #008000\">'indexFilterable'</span>: <span style=\"color: #00ff00; text-decoration-color: #00ff00; font-style: italic\">True</span>,\n",
       "                    <span style=\"color: #008000; text-decoration-color: #008000\">'indexSearchable'</span>: <span style=\"color: #00ff00; text-decoration-color: #00ff00; font-style: italic\">True</span>,\n",
       "                    <span style=\"color: #008000; text-decoration-color: #008000\">'moduleConfig'</span>: <span style=\"font-weight: bold\">{</span><span style=\"color: #008000; text-decoration-color: #008000\">'text2vec-openai'</span>: <span style=\"font-weight: bold\">{</span><span style=\"color: #008000; text-decoration-color: #008000\">'skip'</span>: <span style=\"color: #ff0000; text-decoration-color: #ff0000; font-style: italic\">False</span>, <span style=\"color: #008000; text-decoration-color: #008000\">'vectorizePropertyName'</span>: <span style=\"color: #ff0000; text-decoration-color: #ff0000; font-style: italic\">False</span><span style=\"font-weight: bold\">}}</span>,\n",
       "                    <span style=\"color: #008000; text-decoration-color: #008000\">'name'</span>: <span style=\"color: #008000; text-decoration-color: #008000\">'description'</span>,\n",
       "                    <span style=\"color: #008000; text-decoration-color: #008000\">'tokenization'</span>: <span style=\"color: #008000; text-decoration-color: #008000\">'word'</span>\n",
       "                <span style=\"font-weight: bold\">}</span>,\n",
       "                <span style=\"font-weight: bold\">{</span>\n",
       "                    <span style=\"color: #008000; text-decoration-color: #008000\">'dataType'</span>: <span style=\"font-weight: bold\">[</span><span style=\"color: #008000; text-decoration-color: #008000\">'text'</span><span style=\"font-weight: bold\">]</span>,\n",
       "                    <span style=\"color: #008000; text-decoration-color: #008000\">'description'</span>: <span style=\"color: #008000; text-decoration-color: #008000\">'Feature of the product.'</span>,\n",
       "                    <span style=\"color: #008000; text-decoration-color: #008000\">'indexFilterable'</span>: <span style=\"color: #00ff00; text-decoration-color: #00ff00; font-style: italic\">True</span>,\n",
       "                    <span style=\"color: #008000; text-decoration-color: #008000\">'indexSearchable'</span>: <span style=\"color: #00ff00; text-decoration-color: #00ff00; font-style: italic\">True</span>,\n",
       "                    <span style=\"color: #008000; text-decoration-color: #008000\">'moduleConfig'</span>: <span style=\"font-weight: bold\">{</span><span style=\"color: #008000; text-decoration-color: #008000\">'text2vec-openai'</span>: <span style=\"font-weight: bold\">{</span><span style=\"color: #008000; text-decoration-color: #008000\">'skip'</span>: <span style=\"color: #ff0000; text-decoration-color: #ff0000; font-style: italic\">False</span>, <span style=\"color: #008000; text-decoration-color: #008000\">'vectorizePropertyName'</span>: <span style=\"color: #ff0000; text-decoration-color: #ff0000; font-style: italic\">False</span><span style=\"font-weight: bold\">}}</span>,\n",
       "                    <span style=\"color: #008000; text-decoration-color: #008000\">'name'</span>: <span style=\"color: #008000; text-decoration-color: #008000\">'features'</span>,\n",
       "                    <span style=\"color: #008000; text-decoration-color: #008000\">'tokenization'</span>: <span style=\"color: #008000; text-decoration-color: #008000\">'word'</span>\n",
       "                <span style=\"font-weight: bold\">}</span>\n",
       "            <span style=\"font-weight: bold\">]</span>,\n",
       "            <span style=\"color: #008000; text-decoration-color: #008000\">'replicationConfig'</span>: <span style=\"font-weight: bold\">{</span><span style=\"color: #008000; text-decoration-color: #008000\">'factor'</span>: <span style=\"color: #008080; text-decoration-color: #008080; font-weight: bold\">1</span><span style=\"font-weight: bold\">}</span>,\n",
       "            <span style=\"color: #008000; text-decoration-color: #008000\">'shardingConfig'</span>: <span style=\"font-weight: bold\">{</span>\n",
       "                <span style=\"color: #008000; text-decoration-color: #008000\">'virtualPerPhysical'</span>: <span style=\"color: #008080; text-decoration-color: #008080; font-weight: bold\">128</span>,\n",
       "                <span style=\"color: #008000; text-decoration-color: #008000\">'desiredCount'</span>: <span style=\"color: #008080; text-decoration-color: #008080; font-weight: bold\">1</span>,\n",
       "                <span style=\"color: #008000; text-decoration-color: #008000\">'actualCount'</span>: <span style=\"color: #008080; text-decoration-color: #008080; font-weight: bold\">1</span>,\n",
       "                <span style=\"color: #008000; text-decoration-color: #008000\">'desiredVirtualCount'</span>: <span style=\"color: #008080; text-decoration-color: #008080; font-weight: bold\">128</span>,\n",
       "                <span style=\"color: #008000; text-decoration-color: #008000\">'actualVirtualCount'</span>: <span style=\"color: #008080; text-decoration-color: #008080; font-weight: bold\">128</span>,\n",
       "                <span style=\"color: #008000; text-decoration-color: #008000\">'key'</span>: <span style=\"color: #008000; text-decoration-color: #008000\">'_id'</span>,\n",
       "                <span style=\"color: #008000; text-decoration-color: #008000\">'strategy'</span>: <span style=\"color: #008000; text-decoration-color: #008000\">'hash'</span>,\n",
       "                <span style=\"color: #008000; text-decoration-color: #008000\">'function'</span>: <span style=\"color: #008000; text-decoration-color: #008000\">'murmur3'</span>\n",
       "            <span style=\"font-weight: bold\">}</span>,\n",
       "            <span style=\"color: #008000; text-decoration-color: #008000\">'vectorIndexConfig'</span>: <span style=\"font-weight: bold\">{</span>\n",
       "                <span style=\"color: #008000; text-decoration-color: #008000\">'skip'</span>: <span style=\"color: #ff0000; text-decoration-color: #ff0000; font-style: italic\">False</span>,\n",
       "                <span style=\"color: #008000; text-decoration-color: #008000\">'cleanupIntervalSeconds'</span>: <span style=\"color: #008080; text-decoration-color: #008080; font-weight: bold\">300</span>,\n",
       "                <span style=\"color: #008000; text-decoration-color: #008000\">'maxConnections'</span>: <span style=\"color: #008080; text-decoration-color: #008080; font-weight: bold\">64</span>,\n",
       "                <span style=\"color: #008000; text-decoration-color: #008000\">'efConstruction'</span>: <span style=\"color: #008080; text-decoration-color: #008080; font-weight: bold\">128</span>,\n",
       "                <span style=\"color: #008000; text-decoration-color: #008000\">'ef'</span>: <span style=\"color: #008080; text-decoration-color: #008080; font-weight: bold\">-1</span>,\n",
       "                <span style=\"color: #008000; text-decoration-color: #008000\">'dynamicEfMin'</span>: <span style=\"color: #008080; text-decoration-color: #008080; font-weight: bold\">100</span>,\n",
       "                <span style=\"color: #008000; text-decoration-color: #008000\">'dynamicEfMax'</span>: <span style=\"color: #008080; text-decoration-color: #008080; font-weight: bold\">500</span>,\n",
       "                <span style=\"color: #008000; text-decoration-color: #008000\">'dynamicEfFactor'</span>: <span style=\"color: #008080; text-decoration-color: #008080; font-weight: bold\">8</span>,\n",
       "                <span style=\"color: #008000; text-decoration-color: #008000\">'vectorCacheMaxObjects'</span>: <span style=\"color: #008080; text-decoration-color: #008080; font-weight: bold\">1000000000000</span>,\n",
       "                <span style=\"color: #008000; text-decoration-color: #008000\">'flatSearchCutoff'</span>: <span style=\"color: #008080; text-decoration-color: #008080; font-weight: bold\">40000</span>,\n",
       "                <span style=\"color: #008000; text-decoration-color: #008000\">'distance'</span>: <span style=\"color: #008000; text-decoration-color: #008000\">'cosine'</span>,\n",
       "                <span style=\"color: #008000; text-decoration-color: #008000\">'pq'</span>: <span style=\"font-weight: bold\">{</span>\n",
       "                    <span style=\"color: #008000; text-decoration-color: #008000\">'enabled'</span>: <span style=\"color: #ff0000; text-decoration-color: #ff0000; font-style: italic\">False</span>,\n",
       "                    <span style=\"color: #008000; text-decoration-color: #008000\">'bitCompression'</span>: <span style=\"color: #ff0000; text-decoration-color: #ff0000; font-style: italic\">False</span>,\n",
       "                    <span style=\"color: #008000; text-decoration-color: #008000\">'segments'</span>: <span style=\"color: #008080; text-decoration-color: #008080; font-weight: bold\">0</span>,\n",
       "                    <span style=\"color: #008000; text-decoration-color: #008000\">'centroids'</span>: <span style=\"color: #008080; text-decoration-color: #008080; font-weight: bold\">256</span>,\n",
       "                    <span style=\"color: #008000; text-decoration-color: #008000\">'trainingLimit'</span>: <span style=\"color: #008080; text-decoration-color: #008080; font-weight: bold\">100000</span>,\n",
       "                    <span style=\"color: #008000; text-decoration-color: #008000\">'encoder'</span>: <span style=\"font-weight: bold\">{</span><span style=\"color: #008000; text-decoration-color: #008000\">'type'</span>: <span style=\"color: #008000; text-decoration-color: #008000\">'kmeans'</span>, <span style=\"color: #008000; text-decoration-color: #008000\">'distribution'</span>: <span style=\"color: #008000; text-decoration-color: #008000\">'log-normal'</span><span style=\"font-weight: bold\">}</span>\n",
       "                <span style=\"font-weight: bold\">}</span>\n",
       "            <span style=\"font-weight: bold\">}</span>,\n",
       "            <span style=\"color: #008000; text-decoration-color: #008000\">'vectorIndexType'</span>: <span style=\"color: #008000; text-decoration-color: #008000\">'hnsw'</span>,\n",
       "            <span style=\"color: #008000; text-decoration-color: #008000\">'vectorizer'</span>: <span style=\"color: #008000; text-decoration-color: #008000\">'text2vec-openai'</span>\n",
       "        <span style=\"font-weight: bold\">}</span>,\n",
       "        <span style=\"font-weight: bold\">{</span>\n",
       "            <span style=\"color: #008000; text-decoration-color: #008000\">'class'</span>: <span style=\"color: #008000; text-decoration-color: #008000\">'Product_auto_merge_index_Node'</span>,\n",
       "            <span style=\"color: #008000; text-decoration-color: #008000\">'description'</span>: <span style=\"color: #008000; text-decoration-color: #008000\">'Class for Product_auto_merge_index_Node'</span>,\n",
       "            <span style=\"color: #008000; text-decoration-color: #008000\">'invertedIndexConfig'</span>: <span style=\"font-weight: bold\">{</span>\n",
       "                <span style=\"color: #008000; text-decoration-color: #008000\">'bm25'</span>: <span style=\"font-weight: bold\">{</span><span style=\"color: #008000; text-decoration-color: #008000\">'b'</span>: <span style=\"color: #008080; text-decoration-color: #008080; font-weight: bold\">0.75</span>, <span style=\"color: #008000; text-decoration-color: #008000\">'k1'</span>: <span style=\"color: #008080; text-decoration-color: #008080; font-weight: bold\">1.2</span><span style=\"font-weight: bold\">}</span>,\n",
       "                <span style=\"color: #008000; text-decoration-color: #008000\">'cleanupIntervalSeconds'</span>: <span style=\"color: #008080; text-decoration-color: #008080; font-weight: bold\">60</span>,\n",
       "                <span style=\"color: #008000; text-decoration-color: #008000\">'stopwords'</span>: <span style=\"font-weight: bold\">{</span><span style=\"color: #008000; text-decoration-color: #008000\">'additions'</span>: <span style=\"color: #800080; text-decoration-color: #800080; font-style: italic\">None</span>, <span style=\"color: #008000; text-decoration-color: #008000\">'preset'</span>: <span style=\"color: #008000; text-decoration-color: #008000\">'en'</span>, <span style=\"color: #008000; text-decoration-color: #008000\">'removals'</span>: <span style=\"color: #800080; text-decoration-color: #800080; font-style: italic\">None</span><span style=\"font-weight: bold\">}</span>\n",
       "            <span style=\"font-weight: bold\">}</span>,\n",
       "            <span style=\"color: #008000; text-decoration-color: #008000\">'multiTenancyConfig'</span>: <span style=\"font-weight: bold\">{</span><span style=\"color: #008000; text-decoration-color: #008000\">'enabled'</span>: <span style=\"color: #ff0000; text-decoration-color: #ff0000; font-style: italic\">False</span><span style=\"font-weight: bold\">}</span>,\n",
       "            <span style=\"color: #008000; text-decoration-color: #008000\">'properties'</span>: <span style=\"font-weight: bold\">[</span>\n",
       "                <span style=\"font-weight: bold\">{</span>\n",
       "                    <span style=\"color: #008000; text-decoration-color: #008000\">'dataType'</span>: <span style=\"font-weight: bold\">[</span><span style=\"color: #008000; text-decoration-color: #008000\">'text'</span><span style=\"font-weight: bold\">]</span>,\n",
       "                    <span style=\"color: #008000; text-decoration-color: #008000\">'description'</span>: <span style=\"color: #008000; text-decoration-color: #008000\">'Text property'</span>,\n",
       "                    <span style=\"color: #008000; text-decoration-color: #008000\">'indexFilterable'</span>: <span style=\"color: #00ff00; text-decoration-color: #00ff00; font-style: italic\">True</span>,\n",
       "                    <span style=\"color: #008000; text-decoration-color: #008000\">'indexSearchable'</span>: <span style=\"color: #00ff00; text-decoration-color: #00ff00; font-style: italic\">True</span>,\n",
       "                    <span style=\"color: #008000; text-decoration-color: #008000\">'name'</span>: <span style=\"color: #008000; text-decoration-color: #008000\">'text'</span>,\n",
       "                    <span style=\"color: #008000; text-decoration-color: #008000\">'tokenization'</span>: <span style=\"color: #008000; text-decoration-color: #008000\">'word'</span>\n",
       "                <span style=\"font-weight: bold\">}</span>,\n",
       "                <span style=\"font-weight: bold\">{</span>\n",
       "                    <span style=\"color: #008000; text-decoration-color: #008000\">'dataType'</span>: <span style=\"font-weight: bold\">[</span><span style=\"color: #008000; text-decoration-color: #008000\">'text'</span><span style=\"font-weight: bold\">]</span>,\n",
       "                    <span style=\"color: #008000; text-decoration-color: #008000\">'description'</span>: <span style=\"color: #008000; text-decoration-color: #008000\">'The ref_doc_id of the Node'</span>,\n",
       "                    <span style=\"color: #008000; text-decoration-color: #008000\">'indexFilterable'</span>: <span style=\"color: #00ff00; text-decoration-color: #00ff00; font-style: italic\">True</span>,\n",
       "                    <span style=\"color: #008000; text-decoration-color: #008000\">'indexSearchable'</span>: <span style=\"color: #00ff00; text-decoration-color: #00ff00; font-style: italic\">True</span>,\n",
       "                    <span style=\"color: #008000; text-decoration-color: #008000\">'name'</span>: <span style=\"color: #008000; text-decoration-color: #008000\">'ref_doc_id'</span>,\n",
       "                    <span style=\"color: #008000; text-decoration-color: #008000\">'tokenization'</span>: <span style=\"color: #008000; text-decoration-color: #008000\">'word'</span>\n",
       "                <span style=\"font-weight: bold\">}</span>,\n",
       "                <span style=\"font-weight: bold\">{</span>\n",
       "                    <span style=\"color: #008000; text-decoration-color: #008000\">'dataType'</span>: <span style=\"font-weight: bold\">[</span><span style=\"color: #008000; text-decoration-color: #008000\">'text'</span><span style=\"font-weight: bold\">]</span>,\n",
       "                    <span style=\"color: #008000; text-decoration-color: #008000\">'description'</span>: <span style=\"color: #008000; text-decoration-color: #008000\">'node_info (in JSON)'</span>,\n",
       "                    <span style=\"color: #008000; text-decoration-color: #008000\">'indexFilterable'</span>: <span style=\"color: #00ff00; text-decoration-color: #00ff00; font-style: italic\">True</span>,\n",
       "                    <span style=\"color: #008000; text-decoration-color: #008000\">'indexSearchable'</span>: <span style=\"color: #00ff00; text-decoration-color: #00ff00; font-style: italic\">True</span>,\n",
       "                    <span style=\"color: #008000; text-decoration-color: #008000\">'name'</span>: <span style=\"color: #008000; text-decoration-color: #008000\">'node_info'</span>,\n",
       "                    <span style=\"color: #008000; text-decoration-color: #008000\">'tokenization'</span>: <span style=\"color: #008000; text-decoration-color: #008000\">'word'</span>\n",
       "                <span style=\"font-weight: bold\">}</span>,\n",
       "                <span style=\"font-weight: bold\">{</span>\n",
       "                    <span style=\"color: #008000; text-decoration-color: #008000\">'dataType'</span>: <span style=\"font-weight: bold\">[</span><span style=\"color: #008000; text-decoration-color: #008000\">'text'</span><span style=\"font-weight: bold\">]</span>,\n",
       "                    <span style=\"color: #008000; text-decoration-color: #008000\">'description'</span>: <span style=\"color: #008000; text-decoration-color: #008000\">'The relationships of the node (in JSON)'</span>,\n",
       "                    <span style=\"color: #008000; text-decoration-color: #008000\">'indexFilterable'</span>: <span style=\"color: #00ff00; text-decoration-color: #00ff00; font-style: italic\">True</span>,\n",
       "                    <span style=\"color: #008000; text-decoration-color: #008000\">'indexSearchable'</span>: <span style=\"color: #00ff00; text-decoration-color: #00ff00; font-style: italic\">True</span>,\n",
       "                    <span style=\"color: #008000; text-decoration-color: #008000\">'name'</span>: <span style=\"color: #008000; text-decoration-color: #008000\">'relationships'</span>,\n",
       "                    <span style=\"color: #008000; text-decoration-color: #008000\">'tokenization'</span>: <span style=\"color: #008000; text-decoration-color: #008000\">'word'</span>\n",
       "                <span style=\"font-weight: bold\">}</span>\n",
       "            <span style=\"font-weight: bold\">]</span>,\n",
       "            <span style=\"color: #008000; text-decoration-color: #008000\">'replicationConfig'</span>: <span style=\"font-weight: bold\">{</span><span style=\"color: #008000; text-decoration-color: #008000\">'factor'</span>: <span style=\"color: #008080; text-decoration-color: #008080; font-weight: bold\">1</span><span style=\"font-weight: bold\">}</span>,\n",
       "            <span style=\"color: #008000; text-decoration-color: #008000\">'shardingConfig'</span>: <span style=\"font-weight: bold\">{</span>\n",
       "                <span style=\"color: #008000; text-decoration-color: #008000\">'virtualPerPhysical'</span>: <span style=\"color: #008080; text-decoration-color: #008080; font-weight: bold\">128</span>,\n",
       "                <span style=\"color: #008000; text-decoration-color: #008000\">'desiredCount'</span>: <span style=\"color: #008080; text-decoration-color: #008080; font-weight: bold\">1</span>,\n",
       "                <span style=\"color: #008000; text-decoration-color: #008000\">'actualCount'</span>: <span style=\"color: #008080; text-decoration-color: #008080; font-weight: bold\">1</span>,\n",
       "                <span style=\"color: #008000; text-decoration-color: #008000\">'desiredVirtualCount'</span>: <span style=\"color: #008080; text-decoration-color: #008080; font-weight: bold\">128</span>,\n",
       "                <span style=\"color: #008000; text-decoration-color: #008000\">'actualVirtualCount'</span>: <span style=\"color: #008080; text-decoration-color: #008080; font-weight: bold\">128</span>,\n",
       "                <span style=\"color: #008000; text-decoration-color: #008000\">'key'</span>: <span style=\"color: #008000; text-decoration-color: #008000\">'_id'</span>,\n",
       "                <span style=\"color: #008000; text-decoration-color: #008000\">'strategy'</span>: <span style=\"color: #008000; text-decoration-color: #008000\">'hash'</span>,\n",
       "                <span style=\"color: #008000; text-decoration-color: #008000\">'function'</span>: <span style=\"color: #008000; text-decoration-color: #008000\">'murmur3'</span>\n",
       "            <span style=\"font-weight: bold\">}</span>,\n",
       "            <span style=\"color: #008000; text-decoration-color: #008000\">'vectorIndexConfig'</span>: <span style=\"font-weight: bold\">{</span>\n",
       "                <span style=\"color: #008000; text-decoration-color: #008000\">'skip'</span>: <span style=\"color: #ff0000; text-decoration-color: #ff0000; font-style: italic\">False</span>,\n",
       "                <span style=\"color: #008000; text-decoration-color: #008000\">'cleanupIntervalSeconds'</span>: <span style=\"color: #008080; text-decoration-color: #008080; font-weight: bold\">300</span>,\n",
       "                <span style=\"color: #008000; text-decoration-color: #008000\">'maxConnections'</span>: <span style=\"color: #008080; text-decoration-color: #008080; font-weight: bold\">64</span>,\n",
       "                <span style=\"color: #008000; text-decoration-color: #008000\">'efConstruction'</span>: <span style=\"color: #008080; text-decoration-color: #008080; font-weight: bold\">128</span>,\n",
       "                <span style=\"color: #008000; text-decoration-color: #008000\">'ef'</span>: <span style=\"color: #008080; text-decoration-color: #008080; font-weight: bold\">-1</span>,\n",
       "                <span style=\"color: #008000; text-decoration-color: #008000\">'dynamicEfMin'</span>: <span style=\"color: #008080; text-decoration-color: #008080; font-weight: bold\">100</span>,\n",
       "                <span style=\"color: #008000; text-decoration-color: #008000\">'dynamicEfMax'</span>: <span style=\"color: #008080; text-decoration-color: #008080; font-weight: bold\">500</span>,\n",
       "                <span style=\"color: #008000; text-decoration-color: #008000\">'dynamicEfFactor'</span>: <span style=\"color: #008080; text-decoration-color: #008080; font-weight: bold\">8</span>,\n",
       "                <span style=\"color: #008000; text-decoration-color: #008000\">'vectorCacheMaxObjects'</span>: <span style=\"color: #008080; text-decoration-color: #008080; font-weight: bold\">1000000000000</span>,\n",
       "                <span style=\"color: #008000; text-decoration-color: #008000\">'flatSearchCutoff'</span>: <span style=\"color: #008080; text-decoration-color: #008080; font-weight: bold\">40000</span>,\n",
       "                <span style=\"color: #008000; text-decoration-color: #008000\">'distance'</span>: <span style=\"color: #008000; text-decoration-color: #008000\">'cosine'</span>,\n",
       "                <span style=\"color: #008000; text-decoration-color: #008000\">'pq'</span>: <span style=\"font-weight: bold\">{</span>\n",
       "                    <span style=\"color: #008000; text-decoration-color: #008000\">'enabled'</span>: <span style=\"color: #ff0000; text-decoration-color: #ff0000; font-style: italic\">False</span>,\n",
       "                    <span style=\"color: #008000; text-decoration-color: #008000\">'bitCompression'</span>: <span style=\"color: #ff0000; text-decoration-color: #ff0000; font-style: italic\">False</span>,\n",
       "                    <span style=\"color: #008000; text-decoration-color: #008000\">'segments'</span>: <span style=\"color: #008080; text-decoration-color: #008080; font-weight: bold\">0</span>,\n",
       "                    <span style=\"color: #008000; text-decoration-color: #008000\">'centroids'</span>: <span style=\"color: #008080; text-decoration-color: #008080; font-weight: bold\">256</span>,\n",
       "                    <span style=\"color: #008000; text-decoration-color: #008000\">'trainingLimit'</span>: <span style=\"color: #008080; text-decoration-color: #008080; font-weight: bold\">100000</span>,\n",
       "                    <span style=\"color: #008000; text-decoration-color: #008000\">'encoder'</span>: <span style=\"font-weight: bold\">{</span><span style=\"color: #008000; text-decoration-color: #008000\">'type'</span>: <span style=\"color: #008000; text-decoration-color: #008000\">'kmeans'</span>, <span style=\"color: #008000; text-decoration-color: #008000\">'distribution'</span>: <span style=\"color: #008000; text-decoration-color: #008000\">'log-normal'</span><span style=\"font-weight: bold\">}</span>\n",
       "                <span style=\"font-weight: bold\">}</span>\n",
       "            <span style=\"font-weight: bold\">}</span>,\n",
       "            <span style=\"color: #008000; text-decoration-color: #008000\">'vectorIndexType'</span>: <span style=\"color: #008000; text-decoration-color: #008000\">'hnsw'</span>,\n",
       "            <span style=\"color: #008000; text-decoration-color: #008000\">'vectorizer'</span>: <span style=\"color: #008000; text-decoration-color: #008000\">'none'</span>\n",
       "        <span style=\"font-weight: bold\">}</span>\n",
       "    <span style=\"font-weight: bold\">]</span>\n",
       "<span style=\"font-weight: bold\">}</span>\n",
       "</pre>\n"
      ],
      "text/plain": [
       "\u001b[1m{\u001b[0m\n",
       "    \u001b[32m'classes'\u001b[0m: \u001b[1m[\u001b[0m\n",
       "        \u001b[1m{\u001b[0m\n",
       "            \u001b[32m'class'\u001b[0m: \u001b[32m'Product'\u001b[0m,\n",
       "            \u001b[32m'description'\u001b[0m: \u001b[32m'Listing of Products'\u001b[0m,\n",
       "            \u001b[32m'invertedIndexConfig'\u001b[0m: \u001b[1m{\u001b[0m\n",
       "                \u001b[32m'bm25'\u001b[0m: \u001b[1m{\u001b[0m\u001b[32m'b'\u001b[0m: \u001b[1;36m0.75\u001b[0m, \u001b[32m'k1'\u001b[0m: \u001b[1;36m1.2\u001b[0m\u001b[1m}\u001b[0m,\n",
       "                \u001b[32m'cleanupIntervalSeconds'\u001b[0m: \u001b[1;36m60\u001b[0m,\n",
       "                \u001b[32m'stopwords'\u001b[0m: \u001b[1m{\u001b[0m\u001b[32m'additions'\u001b[0m: \u001b[3;35mNone\u001b[0m, \u001b[32m'preset'\u001b[0m: \u001b[32m'en'\u001b[0m, \u001b[32m'removals'\u001b[0m: \u001b[3;35mNone\u001b[0m\u001b[1m}\u001b[0m\n",
       "            \u001b[1m}\u001b[0m,\n",
       "            \u001b[32m'moduleConfig'\u001b[0m: \u001b[1m{\u001b[0m\n",
       "                \u001b[32m'text2vec-openai'\u001b[0m: \u001b[1m{\u001b[0m\n",
       "                    \u001b[32m'baseURL'\u001b[0m: \u001b[32m'https://api.openai.com'\u001b[0m,\n",
       "                    \u001b[32m'model'\u001b[0m: \u001b[32m'ada'\u001b[0m,\n",
       "                    \u001b[32m'modelVersion'\u001b[0m: \u001b[32m'002'\u001b[0m,\n",
       "                    \u001b[32m'type'\u001b[0m: \u001b[32m'text'\u001b[0m,\n",
       "                    \u001b[32m'vectorizeClassName'\u001b[0m: \u001b[3;92mTrue\u001b[0m\n",
       "                \u001b[1m}\u001b[0m\n",
       "            \u001b[1m}\u001b[0m,\n",
       "            \u001b[32m'multiTenancyConfig'\u001b[0m: \u001b[1m{\u001b[0m\u001b[32m'enabled'\u001b[0m: \u001b[3;91mFalse\u001b[0m\u001b[1m}\u001b[0m,\n",
       "            \u001b[32m'properties'\u001b[0m: \u001b[1m[\u001b[0m\n",
       "                \u001b[1m{\u001b[0m\n",
       "                    \u001b[32m'dataType'\u001b[0m: \u001b[1m[\u001b[0m\u001b[32m'text'\u001b[0m\u001b[1m]\u001b[0m,\n",
       "                    \u001b[32m'description'\u001b[0m: \u001b[32m'Name of the product.'\u001b[0m,\n",
       "                    \u001b[32m'indexFilterable'\u001b[0m: \u001b[3;92mTrue\u001b[0m,\n",
       "                    \u001b[32m'indexSearchable'\u001b[0m: \u001b[3;92mTrue\u001b[0m,\n",
       "                    \u001b[32m'moduleConfig'\u001b[0m: \u001b[1m{\u001b[0m\u001b[32m'text2vec-openai'\u001b[0m: \u001b[1m{\u001b[0m\u001b[32m'skip'\u001b[0m: \u001b[3;91mFalse\u001b[0m, \u001b[32m'vectorizePropertyName'\u001b[0m: \u001b[3;91mFalse\u001b[0m\u001b[1m}\u001b[0m\u001b[1m}\u001b[0m,\n",
       "                    \u001b[32m'name'\u001b[0m: \u001b[32m'product_Name'\u001b[0m,\n",
       "                    \u001b[32m'tokenization'\u001b[0m: \u001b[32m'word'\u001b[0m\n",
       "                \u001b[1m}\u001b[0m,\n",
       "                \u001b[1m{\u001b[0m\n",
       "                    \u001b[32m'dataType'\u001b[0m: \u001b[1m[\u001b[0m\u001b[32m'number'\u001b[0m\u001b[1m]\u001b[0m,\n",
       "                    \u001b[32m'description'\u001b[0m: \u001b[32m'Price of the product.'\u001b[0m,\n",
       "                    \u001b[32m'indexFilterable'\u001b[0m: \u001b[3;92mTrue\u001b[0m,\n",
       "                    \u001b[32m'indexSearchable'\u001b[0m: \u001b[3;91mFalse\u001b[0m,\n",
       "                    \u001b[32m'moduleConfig'\u001b[0m: \u001b[1m{\u001b[0m\u001b[32m'text2vec-openai'\u001b[0m: \u001b[1m{\u001b[0m\u001b[32m'skip'\u001b[0m: \u001b[3;91mFalse\u001b[0m, \u001b[32m'vectorizePropertyName'\u001b[0m: \u001b[3;91mFalse\u001b[0m\u001b[1m}\u001b[0m\u001b[1m}\u001b[0m,\n",
       "                    \u001b[32m'name'\u001b[0m: \u001b[32m'price'\u001b[0m\n",
       "                \u001b[1m}\u001b[0m,\n",
       "                \u001b[1m{\u001b[0m\n",
       "                    \u001b[32m'dataType'\u001b[0m: \u001b[1m[\u001b[0m\u001b[32m'number'\u001b[0m\u001b[1m]\u001b[0m,\n",
       "                    \u001b[32m'description'\u001b[0m: \u001b[32m'Rating of the product.'\u001b[0m,\n",
       "                    \u001b[32m'indexFilterable'\u001b[0m: \u001b[3;92mTrue\u001b[0m,\n",
       "                    \u001b[32m'indexSearchable'\u001b[0m: \u001b[3;91mFalse\u001b[0m,\n",
       "                    \u001b[32m'moduleConfig'\u001b[0m: \u001b[1m{\u001b[0m\u001b[32m'text2vec-openai'\u001b[0m: \u001b[1m{\u001b[0m\u001b[32m'skip'\u001b[0m: \u001b[3;91mFalse\u001b[0m, \u001b[32m'vectorizePropertyName'\u001b[0m: \u001b[3;91mFalse\u001b[0m\u001b[1m}\u001b[0m\u001b[1m}\u001b[0m,\n",
       "                    \u001b[32m'name'\u001b[0m: \u001b[32m'rating'\u001b[0m\n",
       "                \u001b[1m}\u001b[0m,\n",
       "                \u001b[1m{\u001b[0m\n",
       "                    \u001b[32m'dataType'\u001b[0m: \u001b[1m[\u001b[0m\u001b[32m'text'\u001b[0m\u001b[1m]\u001b[0m,\n",
       "                    \u001b[32m'description'\u001b[0m: \u001b[32m'Description of the product.'\u001b[0m,\n",
       "                    \u001b[32m'indexFilterable'\u001b[0m: \u001b[3;92mTrue\u001b[0m,\n",
       "                    \u001b[32m'indexSearchable'\u001b[0m: \u001b[3;92mTrue\u001b[0m,\n",
       "                    \u001b[32m'moduleConfig'\u001b[0m: \u001b[1m{\u001b[0m\u001b[32m'text2vec-openai'\u001b[0m: \u001b[1m{\u001b[0m\u001b[32m'skip'\u001b[0m: \u001b[3;91mFalse\u001b[0m, \u001b[32m'vectorizePropertyName'\u001b[0m: \u001b[3;91mFalse\u001b[0m\u001b[1m}\u001b[0m\u001b[1m}\u001b[0m,\n",
       "                    \u001b[32m'name'\u001b[0m: \u001b[32m'description'\u001b[0m,\n",
       "                    \u001b[32m'tokenization'\u001b[0m: \u001b[32m'word'\u001b[0m\n",
       "                \u001b[1m}\u001b[0m,\n",
       "                \u001b[1m{\u001b[0m\n",
       "                    \u001b[32m'dataType'\u001b[0m: \u001b[1m[\u001b[0m\u001b[32m'text'\u001b[0m\u001b[1m]\u001b[0m,\n",
       "                    \u001b[32m'description'\u001b[0m: \u001b[32m'Feature of the product.'\u001b[0m,\n",
       "                    \u001b[32m'indexFilterable'\u001b[0m: \u001b[3;92mTrue\u001b[0m,\n",
       "                    \u001b[32m'indexSearchable'\u001b[0m: \u001b[3;92mTrue\u001b[0m,\n",
       "                    \u001b[32m'moduleConfig'\u001b[0m: \u001b[1m{\u001b[0m\u001b[32m'text2vec-openai'\u001b[0m: \u001b[1m{\u001b[0m\u001b[32m'skip'\u001b[0m: \u001b[3;91mFalse\u001b[0m, \u001b[32m'vectorizePropertyName'\u001b[0m: \u001b[3;91mFalse\u001b[0m\u001b[1m}\u001b[0m\u001b[1m}\u001b[0m,\n",
       "                    \u001b[32m'name'\u001b[0m: \u001b[32m'features'\u001b[0m,\n",
       "                    \u001b[32m'tokenization'\u001b[0m: \u001b[32m'word'\u001b[0m\n",
       "                \u001b[1m}\u001b[0m\n",
       "            \u001b[1m]\u001b[0m,\n",
       "            \u001b[32m'replicationConfig'\u001b[0m: \u001b[1m{\u001b[0m\u001b[32m'factor'\u001b[0m: \u001b[1;36m1\u001b[0m\u001b[1m}\u001b[0m,\n",
       "            \u001b[32m'shardingConfig'\u001b[0m: \u001b[1m{\u001b[0m\n",
       "                \u001b[32m'virtualPerPhysical'\u001b[0m: \u001b[1;36m128\u001b[0m,\n",
       "                \u001b[32m'desiredCount'\u001b[0m: \u001b[1;36m1\u001b[0m,\n",
       "                \u001b[32m'actualCount'\u001b[0m: \u001b[1;36m1\u001b[0m,\n",
       "                \u001b[32m'desiredVirtualCount'\u001b[0m: \u001b[1;36m128\u001b[0m,\n",
       "                \u001b[32m'actualVirtualCount'\u001b[0m: \u001b[1;36m128\u001b[0m,\n",
       "                \u001b[32m'key'\u001b[0m: \u001b[32m'_id'\u001b[0m,\n",
       "                \u001b[32m'strategy'\u001b[0m: \u001b[32m'hash'\u001b[0m,\n",
       "                \u001b[32m'function'\u001b[0m: \u001b[32m'murmur3'\u001b[0m\n",
       "            \u001b[1m}\u001b[0m,\n",
       "            \u001b[32m'vectorIndexConfig'\u001b[0m: \u001b[1m{\u001b[0m\n",
       "                \u001b[32m'skip'\u001b[0m: \u001b[3;91mFalse\u001b[0m,\n",
       "                \u001b[32m'cleanupIntervalSeconds'\u001b[0m: \u001b[1;36m300\u001b[0m,\n",
       "                \u001b[32m'maxConnections'\u001b[0m: \u001b[1;36m64\u001b[0m,\n",
       "                \u001b[32m'efConstruction'\u001b[0m: \u001b[1;36m128\u001b[0m,\n",
       "                \u001b[32m'ef'\u001b[0m: \u001b[1;36m-1\u001b[0m,\n",
       "                \u001b[32m'dynamicEfMin'\u001b[0m: \u001b[1;36m100\u001b[0m,\n",
       "                \u001b[32m'dynamicEfMax'\u001b[0m: \u001b[1;36m500\u001b[0m,\n",
       "                \u001b[32m'dynamicEfFactor'\u001b[0m: \u001b[1;36m8\u001b[0m,\n",
       "                \u001b[32m'vectorCacheMaxObjects'\u001b[0m: \u001b[1;36m1000000000000\u001b[0m,\n",
       "                \u001b[32m'flatSearchCutoff'\u001b[0m: \u001b[1;36m40000\u001b[0m,\n",
       "                \u001b[32m'distance'\u001b[0m: \u001b[32m'cosine'\u001b[0m,\n",
       "                \u001b[32m'pq'\u001b[0m: \u001b[1m{\u001b[0m\n",
       "                    \u001b[32m'enabled'\u001b[0m: \u001b[3;91mFalse\u001b[0m,\n",
       "                    \u001b[32m'bitCompression'\u001b[0m: \u001b[3;91mFalse\u001b[0m,\n",
       "                    \u001b[32m'segments'\u001b[0m: \u001b[1;36m0\u001b[0m,\n",
       "                    \u001b[32m'centroids'\u001b[0m: \u001b[1;36m256\u001b[0m,\n",
       "                    \u001b[32m'trainingLimit'\u001b[0m: \u001b[1;36m100000\u001b[0m,\n",
       "                    \u001b[32m'encoder'\u001b[0m: \u001b[1m{\u001b[0m\u001b[32m'type'\u001b[0m: \u001b[32m'kmeans'\u001b[0m, \u001b[32m'distribution'\u001b[0m: \u001b[32m'log-normal'\u001b[0m\u001b[1m}\u001b[0m\n",
       "                \u001b[1m}\u001b[0m\n",
       "            \u001b[1m}\u001b[0m,\n",
       "            \u001b[32m'vectorIndexType'\u001b[0m: \u001b[32m'hnsw'\u001b[0m,\n",
       "            \u001b[32m'vectorizer'\u001b[0m: \u001b[32m'text2vec-openai'\u001b[0m\n",
       "        \u001b[1m}\u001b[0m,\n",
       "        \u001b[1m{\u001b[0m\n",
       "            \u001b[32m'class'\u001b[0m: \u001b[32m'Product_auto_merge_index_Node'\u001b[0m,\n",
       "            \u001b[32m'description'\u001b[0m: \u001b[32m'Class for Product_auto_merge_index_Node'\u001b[0m,\n",
       "            \u001b[32m'invertedIndexConfig'\u001b[0m: \u001b[1m{\u001b[0m\n",
       "                \u001b[32m'bm25'\u001b[0m: \u001b[1m{\u001b[0m\u001b[32m'b'\u001b[0m: \u001b[1;36m0.75\u001b[0m, \u001b[32m'k1'\u001b[0m: \u001b[1;36m1.2\u001b[0m\u001b[1m}\u001b[0m,\n",
       "                \u001b[32m'cleanupIntervalSeconds'\u001b[0m: \u001b[1;36m60\u001b[0m,\n",
       "                \u001b[32m'stopwords'\u001b[0m: \u001b[1m{\u001b[0m\u001b[32m'additions'\u001b[0m: \u001b[3;35mNone\u001b[0m, \u001b[32m'preset'\u001b[0m: \u001b[32m'en'\u001b[0m, \u001b[32m'removals'\u001b[0m: \u001b[3;35mNone\u001b[0m\u001b[1m}\u001b[0m\n",
       "            \u001b[1m}\u001b[0m,\n",
       "            \u001b[32m'multiTenancyConfig'\u001b[0m: \u001b[1m{\u001b[0m\u001b[32m'enabled'\u001b[0m: \u001b[3;91mFalse\u001b[0m\u001b[1m}\u001b[0m,\n",
       "            \u001b[32m'properties'\u001b[0m: \u001b[1m[\u001b[0m\n",
       "                \u001b[1m{\u001b[0m\n",
       "                    \u001b[32m'dataType'\u001b[0m: \u001b[1m[\u001b[0m\u001b[32m'text'\u001b[0m\u001b[1m]\u001b[0m,\n",
       "                    \u001b[32m'description'\u001b[0m: \u001b[32m'Text property'\u001b[0m,\n",
       "                    \u001b[32m'indexFilterable'\u001b[0m: \u001b[3;92mTrue\u001b[0m,\n",
       "                    \u001b[32m'indexSearchable'\u001b[0m: \u001b[3;92mTrue\u001b[0m,\n",
       "                    \u001b[32m'name'\u001b[0m: \u001b[32m'text'\u001b[0m,\n",
       "                    \u001b[32m'tokenization'\u001b[0m: \u001b[32m'word'\u001b[0m\n",
       "                \u001b[1m}\u001b[0m,\n",
       "                \u001b[1m{\u001b[0m\n",
       "                    \u001b[32m'dataType'\u001b[0m: \u001b[1m[\u001b[0m\u001b[32m'text'\u001b[0m\u001b[1m]\u001b[0m,\n",
       "                    \u001b[32m'description'\u001b[0m: \u001b[32m'The ref_doc_id of the Node'\u001b[0m,\n",
       "                    \u001b[32m'indexFilterable'\u001b[0m: \u001b[3;92mTrue\u001b[0m,\n",
       "                    \u001b[32m'indexSearchable'\u001b[0m: \u001b[3;92mTrue\u001b[0m,\n",
       "                    \u001b[32m'name'\u001b[0m: \u001b[32m'ref_doc_id'\u001b[0m,\n",
       "                    \u001b[32m'tokenization'\u001b[0m: \u001b[32m'word'\u001b[0m\n",
       "                \u001b[1m}\u001b[0m,\n",
       "                \u001b[1m{\u001b[0m\n",
       "                    \u001b[32m'dataType'\u001b[0m: \u001b[1m[\u001b[0m\u001b[32m'text'\u001b[0m\u001b[1m]\u001b[0m,\n",
       "                    \u001b[32m'description'\u001b[0m: \u001b[32m'node_info \u001b[0m\u001b[32m(\u001b[0m\u001b[32min JSON\u001b[0m\u001b[32m)\u001b[0m\u001b[32m'\u001b[0m,\n",
       "                    \u001b[32m'indexFilterable'\u001b[0m: \u001b[3;92mTrue\u001b[0m,\n",
       "                    \u001b[32m'indexSearchable'\u001b[0m: \u001b[3;92mTrue\u001b[0m,\n",
       "                    \u001b[32m'name'\u001b[0m: \u001b[32m'node_info'\u001b[0m,\n",
       "                    \u001b[32m'tokenization'\u001b[0m: \u001b[32m'word'\u001b[0m\n",
       "                \u001b[1m}\u001b[0m,\n",
       "                \u001b[1m{\u001b[0m\n",
       "                    \u001b[32m'dataType'\u001b[0m: \u001b[1m[\u001b[0m\u001b[32m'text'\u001b[0m\u001b[1m]\u001b[0m,\n",
       "                    \u001b[32m'description'\u001b[0m: \u001b[32m'The relationships of the node \u001b[0m\u001b[32m(\u001b[0m\u001b[32min JSON\u001b[0m\u001b[32m)\u001b[0m\u001b[32m'\u001b[0m,\n",
       "                    \u001b[32m'indexFilterable'\u001b[0m: \u001b[3;92mTrue\u001b[0m,\n",
       "                    \u001b[32m'indexSearchable'\u001b[0m: \u001b[3;92mTrue\u001b[0m,\n",
       "                    \u001b[32m'name'\u001b[0m: \u001b[32m'relationships'\u001b[0m,\n",
       "                    \u001b[32m'tokenization'\u001b[0m: \u001b[32m'word'\u001b[0m\n",
       "                \u001b[1m}\u001b[0m\n",
       "            \u001b[1m]\u001b[0m,\n",
       "            \u001b[32m'replicationConfig'\u001b[0m: \u001b[1m{\u001b[0m\u001b[32m'factor'\u001b[0m: \u001b[1;36m1\u001b[0m\u001b[1m}\u001b[0m,\n",
       "            \u001b[32m'shardingConfig'\u001b[0m: \u001b[1m{\u001b[0m\n",
       "                \u001b[32m'virtualPerPhysical'\u001b[0m: \u001b[1;36m128\u001b[0m,\n",
       "                \u001b[32m'desiredCount'\u001b[0m: \u001b[1;36m1\u001b[0m,\n",
       "                \u001b[32m'actualCount'\u001b[0m: \u001b[1;36m1\u001b[0m,\n",
       "                \u001b[32m'desiredVirtualCount'\u001b[0m: \u001b[1;36m128\u001b[0m,\n",
       "                \u001b[32m'actualVirtualCount'\u001b[0m: \u001b[1;36m128\u001b[0m,\n",
       "                \u001b[32m'key'\u001b[0m: \u001b[32m'_id'\u001b[0m,\n",
       "                \u001b[32m'strategy'\u001b[0m: \u001b[32m'hash'\u001b[0m,\n",
       "                \u001b[32m'function'\u001b[0m: \u001b[32m'murmur3'\u001b[0m\n",
       "            \u001b[1m}\u001b[0m,\n",
       "            \u001b[32m'vectorIndexConfig'\u001b[0m: \u001b[1m{\u001b[0m\n",
       "                \u001b[32m'skip'\u001b[0m: \u001b[3;91mFalse\u001b[0m,\n",
       "                \u001b[32m'cleanupIntervalSeconds'\u001b[0m: \u001b[1;36m300\u001b[0m,\n",
       "                \u001b[32m'maxConnections'\u001b[0m: \u001b[1;36m64\u001b[0m,\n",
       "                \u001b[32m'efConstruction'\u001b[0m: \u001b[1;36m128\u001b[0m,\n",
       "                \u001b[32m'ef'\u001b[0m: \u001b[1;36m-1\u001b[0m,\n",
       "                \u001b[32m'dynamicEfMin'\u001b[0m: \u001b[1;36m100\u001b[0m,\n",
       "                \u001b[32m'dynamicEfMax'\u001b[0m: \u001b[1;36m500\u001b[0m,\n",
       "                \u001b[32m'dynamicEfFactor'\u001b[0m: \u001b[1;36m8\u001b[0m,\n",
       "                \u001b[32m'vectorCacheMaxObjects'\u001b[0m: \u001b[1;36m1000000000000\u001b[0m,\n",
       "                \u001b[32m'flatSearchCutoff'\u001b[0m: \u001b[1;36m40000\u001b[0m,\n",
       "                \u001b[32m'distance'\u001b[0m: \u001b[32m'cosine'\u001b[0m,\n",
       "                \u001b[32m'pq'\u001b[0m: \u001b[1m{\u001b[0m\n",
       "                    \u001b[32m'enabled'\u001b[0m: \u001b[3;91mFalse\u001b[0m,\n",
       "                    \u001b[32m'bitCompression'\u001b[0m: \u001b[3;91mFalse\u001b[0m,\n",
       "                    \u001b[32m'segments'\u001b[0m: \u001b[1;36m0\u001b[0m,\n",
       "                    \u001b[32m'centroids'\u001b[0m: \u001b[1;36m256\u001b[0m,\n",
       "                    \u001b[32m'trainingLimit'\u001b[0m: \u001b[1;36m100000\u001b[0m,\n",
       "                    \u001b[32m'encoder'\u001b[0m: \u001b[1m{\u001b[0m\u001b[32m'type'\u001b[0m: \u001b[32m'kmeans'\u001b[0m, \u001b[32m'distribution'\u001b[0m: \u001b[32m'log-normal'\u001b[0m\u001b[1m}\u001b[0m\n",
       "                \u001b[1m}\u001b[0m\n",
       "            \u001b[1m}\u001b[0m,\n",
       "            \u001b[32m'vectorIndexType'\u001b[0m: \u001b[32m'hnsw'\u001b[0m,\n",
       "            \u001b[32m'vectorizer'\u001b[0m: \u001b[32m'none'\u001b[0m\n",
       "        \u001b[1m}\u001b[0m\n",
       "    \u001b[1m]\u001b[0m\n",
       "\u001b[1m}\u001b[0m\n"
      ]
     },
     "metadata": {},
     "output_type": "display_data"
    }
   ],
   "source": [
    "# view the schme just created\n",
    "print(client.schema.get())"
   ]
  },
  {
   "cell_type": "code",
   "execution_count": 16,
   "metadata": {},
   "outputs": [
    {
     "data": {
      "text/plain": [
       "512.0"
      ]
     },
     "execution_count": 16,
     "metadata": {},
     "output_type": "execute_result"
    }
   ],
   "source": [
    "1024 / 2"
   ]
  },
  {
   "attachments": {},
   "cell_type": "markdown",
   "metadata": {},
   "source": [
    "## Automerging Index and Store in Vectore DB"
   ]
  },
  {
   "cell_type": "code",
   "execution_count": 65,
   "metadata": {},
   "outputs": [],
   "source": [
    "product_index = build_automerging_index(\n",
    "    documents = docs,\n",
    "    llm = llm,\n",
    "    embed_model=embed_model,\n",
    "    save_dir=\"merging_index\",\n",
    "    chunk_sizes = [2048, 1024, 512],\n",
    "    # prefix = \"Product_auto_merge_index\"\n",
    ")\n",
    "# sentence_index = build_sentence_window_index(\n",
    "#     document = document,\n",
    "#     llm = llm,\n",
    "#     embed_model=embed_model,\n",
    "#     save_dir=\"sentence_index\"\n",
    "# )\n",
    "\n"
   ]
  },
  {
   "attachments": {},
   "cell_type": "markdown",
   "metadata": {},
   "source": [
    "## Build Weaviate Index"
   ]
  },
  {
   "cell_type": "code",
   "execution_count": 18,
   "metadata": {},
   "outputs": [],
   "source": [
    "# vector_store = WeaviateVectorStore(weaviate_client=client, class_prefix=\"Product_index\")\n",
    "# storage_context = StorageContext.from_defaults(vector_store=vector_store)\n",
    "\n",
    "\n",
    "# product_index = VectorStoreIndex.from_documents([document], storage_context=storage_context, \n",
    "#                 service_context = service_context)\n",
    "\n"
   ]
  },
  {
   "attachments": {},
   "cell_type": "markdown",
   "metadata": {},
   "source": [
    "# 2. RETRIEVAL"
   ]
  },
  {
   "attachments": {},
   "cell_type": "markdown",
   "metadata": {},
   "source": [
    "## Build SQL Query Engine"
   ]
  },
  {
   "cell_type": "code",
   "execution_count": 66,
   "metadata": {},
   "outputs": [],
   "source": [
    "# set up text2SQL prompt\n",
    "sql_query_engine = NLSQLTableQueryEngine(\n",
    "    sql_database=sql_database,\n",
    "    tables=[\"product_table\"],\n",
    ")"
   ]
  },
  {
   "attachments": {},
   "cell_type": "markdown",
   "metadata": {},
   "source": [
    "## Build Vector Query Engine"
   ]
  },
  {
   "cell_type": "code",
   "execution_count": 67,
   "metadata": {},
   "outputs": [],
   "source": [
    "vector_query_engine  = get_automerging_query_engine(\n",
    "                    automerging_index = product_index,\n",
    "                     similarity_top_k=12,\n",
    "                    rerank_top_n=2,)\n",
    "\n",
    "# vector_query_engine = product_index.as_query_engine()"
   ]
  },
  {
   "attachments": {},
   "cell_type": "markdown",
   "metadata": {},
   "source": [
    "## Tell llama index what tool to use"
   ]
  },
  {
   "cell_type": "code",
   "execution_count": 68,
   "metadata": {},
   "outputs": [],
   "source": [
    "# from llama_index.tools.query_engine import QueryEngineTool\n",
    "\n",
    "sql_tool = QueryEngineTool.from_defaults(\n",
    "    query_engine = sql_query_engine,\n",
    "    description=(\n",
    "        \"Useful for translating a natural language query into a SQL query over a product listing table containing: \"\n",
    "        \"Price , Rating, Description, and Features of each product\"\n",
    "    ),\n",
    ")\n",
    "vector_tool = QueryEngineTool.from_defaults(\n",
    "    query_engine=vector_query_engine,\n",
    "    description=\"Useful for answering semantic questions about product listing\",\n",
    ")"
   ]
  },
  {
   "attachments": {},
   "cell_type": "markdown",
   "metadata": {},
   "source": [
    "## Create a router\n"
   ]
  },
  {
   "cell_type": "code",
   "execution_count": 69,
   "metadata": {},
   "outputs": [],
   "source": [
    "query_engine = RouterQueryEngine(\n",
    "    selector=LLMSingleSelector.from_defaults(),\n",
    "    query_engine_tools=([sql_tool] + [vector_tool]),\n",
    ")"
   ]
  },
  {
   "attachments": {},
   "cell_type": "markdown",
   "metadata": {},
   "source": [
    "## Queries\n"
   ]
  },
  {
   "cell_type": "code",
   "execution_count": 70,
   "metadata": {},
   "outputs": [
    {
     "data": {
      "text/markdown": [
       "**`Final Response:`** The rating for the product named Portable Solar Charger is 4.0."
      ],
      "text/plain": [
       "<IPython.core.display.Markdown object>"
      ]
     },
     "metadata": {},
     "output_type": "display_data"
    }
   ],
   "source": [
    "response = query_engine.query(\"What is the Rating for the product whose name is Portable Solar Charger?\")\n",
    "# print(str(response))\n",
    "display_response(response)"
   ]
  },
  {
   "cell_type": "code",
   "execution_count": 24,
   "metadata": {},
   "outputs": [
    {
     "data": {
      "text/markdown": [
       "**`Final Response:`** The Ultimate Wireless Bluetooth Earbuds are a top choice for audiophiles who prioritize premium sound quality and convenience. With advanced Bluetooth 5.0 technology, these earbuds offer seamless connectivity and crystal-clear audio. They provide high-fidelity sound with deep bass and clear treble, and also feature noise-canceling technology for an immersive listening experience. With 20 hours of playtime on a single charge, you can enjoy your music for extended periods. The ergonomic design ensures a secure and comfortable fit, and the touch controls make it easy to control playback and calls. Additionally, these earbuds have an IPX7 waterproof rating, making them suitable for outdoor activities."
      ],
      "text/plain": [
       "<IPython.core.display.Markdown object>"
      ]
     },
     "metadata": {},
     "output_type": "display_data"
    }
   ],
   "source": [
    "response = query_engine.query(\"Tell me about Wireless Bluetooth Earbuds products in the product listing \")\n",
    "display_response(response)"
   ]
  },
  {
   "cell_type": "code",
   "execution_count": 25,
   "metadata": {},
   "outputs": [
    {
     "data": {
      "text/html": [
       "<pre style=\"white-space:pre;overflow-x:auto;line-height:normal;font-family:Menlo,'DejaVu Sans Mono',consolas,'Courier New',monospace\"><span style=\"color: #800080; text-decoration-color: #800080; font-weight: bold\">Response</span><span style=\"font-weight: bold\">(</span>\n",
       "    <span style=\"color: #808000; text-decoration-color: #808000\">response</span>=<span style=\"color: #008000; text-decoration-color: #008000\">'The Ultimate Wireless Bluetooth Earbuds are a top choice for audiophiles looking for premium sound </span>\n",
       "<span style=\"color: #008000; text-decoration-color: #008000\">quality and convenience. With advanced Bluetooth 5.0 technology, these earbuds offer seamless connectivity and </span>\n",
       "<span style=\"color: #008000; text-decoration-color: #008000\">crystal-clear audio. They feature high-fidelity sound with deep bass and clear treble, as well as noise-canceling </span>\n",
       "<span style=\"color: #008000; text-decoration-color: #008000\">technology for an immersive listening experience. With 20 hours of playtime on a single charge, these earbuds are </span>\n",
       "<span style=\"color: #008000; text-decoration-color: #008000\">perfect for long listening sessions. The ergonomic design ensures a secure and comfortable fit, and the touch </span>\n",
       "<span style=\"color: #008000; text-decoration-color: #008000\">controls make playback and calls easy. Additionally, these earbuds have an IPX7 waterproof rating, making them </span>\n",
       "<span style=\"color: #008000; text-decoration-color: #008000\">suitable for outdoor activities.'</span>,\n",
       "    <span style=\"color: #808000; text-decoration-color: #808000\">source_nodes</span>=<span style=\"font-weight: bold\">[</span>\n",
       "        <span style=\"color: #800080; text-decoration-color: #800080; font-weight: bold\">NodeWithScore</span><span style=\"font-weight: bold\">(</span>\n",
       "            <span style=\"color: #808000; text-decoration-color: #808000\">node</span>=<span style=\"color: #800080; text-decoration-color: #800080; font-weight: bold\">TextNode</span><span style=\"font-weight: bold\">(</span>\n",
       "                <span style=\"color: #808000; text-decoration-color: #808000\">id_</span>=<span style=\"color: #008000; text-decoration-color: #008000\">'80dc47a4-e56d-4340-9a34-ac4330dbec6f'</span>,\n",
       "                <span style=\"color: #808000; text-decoration-color: #808000\">embedding</span>=<span style=\"color: #800080; text-decoration-color: #800080; font-style: italic\">None</span>,\n",
       "                <span style=\"color: #808000; text-decoration-color: #808000\">metadata</span>=<span style=\"font-weight: bold\">{}</span>,\n",
       "                <span style=\"color: #808000; text-decoration-color: #808000\">excluded_embed_metadata_keys</span>=<span style=\"font-weight: bold\">[]</span>,\n",
       "                <span style=\"color: #808000; text-decoration-color: #808000\">excluded_llm_metadata_keys</span>=<span style=\"font-weight: bold\">[]</span>,\n",
       "                <span style=\"color: #808000; text-decoration-color: #808000\">relationships</span>=<span style=\"font-weight: bold\">{}</span>,\n",
       "                <span style=\"color: #808000; text-decoration-color: #808000\">text</span>=<span style=\"color: #008000; text-decoration-color: #008000\">'[(\\'Ultimate Wireless Bluetooth Earbuds\\', 79.99, 4.4, \"Elevate your music experience with </span>\n",
       "<span style=\"color: #008000; text-decoration-color: #008000\">our Ultimate Wireless Bluetooth Earbuds. These earbuds are designed for audiophiles who demand premium sound </span>\n",
       "<span style=\"color: #008000; text-decoration-color: #008000\">quality and convenience. With advanced Bluetooth 5.0 technology, you\\'ll enjoy seamless connectivity and </span>\n",
       "<span style=\"color: #008000; text-decoration-color: #008000\">crystal-clear audio.\", \\'- High-fidelity sound with deep bass and clear treble. - Noise-canceling technology for an</span>\n",
       "<span style=\"color: #008000; text-decoration-color: #008000\">immersive listening experience. - 20 hours of playtime on a single charge. - Ergonomic design for a secure and </span>\n",
       "<span style=\"color: #008000; text-decoration-color: #008000\">comfortable fit. - Touch controls for easy playback and calls. - IPX7 waterproof rating for...\\')]'</span>,\n",
       "                <span style=\"color: #808000; text-decoration-color: #808000\">start_char_idx</span>=<span style=\"color: #800080; text-decoration-color: #800080; font-style: italic\">None</span>,\n",
       "                <span style=\"color: #808000; text-decoration-color: #808000\">end_char_idx</span>=<span style=\"color: #800080; text-decoration-color: #800080; font-style: italic\">None</span>,\n",
       "                <span style=\"color: #808000; text-decoration-color: #808000\">text_template</span>=<span style=\"color: #008000; text-decoration-color: #008000\">'{metadata_str}\\n\\n{content}'</span>,\n",
       "                <span style=\"color: #808000; text-decoration-color: #808000\">metadata_template</span>=<span style=\"color: #008000; text-decoration-color: #008000\">'{key}: {value}'</span>,\n",
       "                <span style=\"color: #808000; text-decoration-color: #808000\">metadata_seperator</span>=<span style=\"color: #008000; text-decoration-color: #008000\">'\\n'</span>\n",
       "            <span style=\"font-weight: bold\">)</span>,\n",
       "            <span style=\"color: #808000; text-decoration-color: #808000\">score</span>=<span style=\"color: #800080; text-decoration-color: #800080; font-style: italic\">None</span>\n",
       "        <span style=\"font-weight: bold\">)</span>\n",
       "    <span style=\"font-weight: bold\">]</span>,\n",
       "    <span style=\"color: #808000; text-decoration-color: #808000\">metadata</span>=<span style=\"font-weight: bold\">{</span>\n",
       "        <span style=\"color: #008000; text-decoration-color: #008000\">'80dc47a4-e56d-4340-9a34-ac4330dbec6f'</span>: <span style=\"font-weight: bold\">{}</span>,\n",
       "        <span style=\"color: #008000; text-decoration-color: #008000\">'sql_query'</span>: <span style=\"color: #008000; text-decoration-color: #008000\">\"SELECT Product_Name, Price, Rating, Description, Features\\nFROM product_table\\nWHERE </span>\n",
       "<span style=\"color: #008000; text-decoration-color: #008000\">Product_Name LIKE '%Wireless Bluetooth Earbuds%'\"</span>,\n",
       "        <span style=\"color: #008000; text-decoration-color: #008000\">'result'</span>: <span style=\"font-weight: bold\">[</span>\n",
       "            <span style=\"font-weight: bold\">(</span>\n",
       "                <span style=\"color: #008000; text-decoration-color: #008000\">'Ultimate Wireless Bluetooth Earbuds'</span>,\n",
       "                <span style=\"color: #008080; text-decoration-color: #008080; font-weight: bold\">79.99</span>,\n",
       "                <span style=\"color: #008080; text-decoration-color: #008080; font-weight: bold\">4.4</span>,\n",
       "                <span style=\"color: #008000; text-decoration-color: #008000\">\"Elevate your music experience with our Ultimate Wireless Bluetooth Earbuds. These earbuds are </span>\n",
       "<span style=\"color: #008000; text-decoration-color: #008000\">designed for audiophiles who demand premium sound quality and convenience. With advanced Bluetooth 5.0 technology, </span>\n",
       "<span style=\"color: #008000; text-decoration-color: #008000\">you'll enjoy seamless connectivity and crystal-clear audio.\"</span>,\n",
       "                <span style=\"color: #008000; text-decoration-color: #008000\">'- High-fidelity sound with deep bass and clear treble. - Noise-canceling technology for an </span>\n",
       "<span style=\"color: #008000; text-decoration-color: #008000\">immersive listening experience. - 20 hours of playtime on a single charge. - Ergonomic design for a secure and </span>\n",
       "<span style=\"color: #008000; text-decoration-color: #008000\">comfortable fit. - Touch controls for easy playback and calls. - IPX7 waterproof rating for...'</span>\n",
       "            <span style=\"font-weight: bold\">)</span>\n",
       "        <span style=\"font-weight: bold\">]</span>,\n",
       "        <span style=\"color: #008000; text-decoration-color: #008000\">'col_keys'</span>: <span style=\"font-weight: bold\">[</span><span style=\"color: #008000; text-decoration-color: #008000\">'Product_Name'</span>, <span style=\"color: #008000; text-decoration-color: #008000\">'Price'</span>, <span style=\"color: #008000; text-decoration-color: #008000\">'Rating'</span>, <span style=\"color: #008000; text-decoration-color: #008000\">'Description'</span>, <span style=\"color: #008000; text-decoration-color: #008000\">'Features'</span><span style=\"font-weight: bold\">]</span>,\n",
       "        <span style=\"color: #008000; text-decoration-color: #008000\">'selector_result'</span>: <span style=\"color: #800080; text-decoration-color: #800080; font-weight: bold\">MultiSelection</span><span style=\"font-weight: bold\">(</span>\n",
       "            <span style=\"color: #808000; text-decoration-color: #808000\">selections</span>=<span style=\"font-weight: bold\">[</span>\n",
       "                <span style=\"color: #800080; text-decoration-color: #800080; font-weight: bold\">SingleSelection</span><span style=\"font-weight: bold\">(</span>\n",
       "                    <span style=\"color: #808000; text-decoration-color: #808000\">index</span>=<span style=\"color: #008080; text-decoration-color: #008080; font-weight: bold\">0</span>,\n",
       "                    <span style=\"color: #808000; text-decoration-color: #808000\">reason</span>=<span style=\"color: #008000; text-decoration-color: #008000\">'Choice 1 is the most relevant because it mentions translating a natural language query </span>\n",
       "<span style=\"color: #008000; text-decoration-color: #008000\">into a SQL query over a product listing table, which would be useful for retrieving information about Wireless </span>\n",
       "<span style=\"color: #008000; text-decoration-color: #008000\">Bluetooth Earbuds products in the product listing.'</span>\n",
       "                <span style=\"font-weight: bold\">)</span>\n",
       "            <span style=\"font-weight: bold\">]</span>\n",
       "        <span style=\"font-weight: bold\">)</span>\n",
       "    <span style=\"font-weight: bold\">}</span>\n",
       "<span style=\"font-weight: bold\">)</span>\n",
       "</pre>\n"
      ],
      "text/plain": [
       "\u001b[1;35mResponse\u001b[0m\u001b[1m(\u001b[0m\n",
       "    \u001b[33mresponse\u001b[0m=\u001b[32m'The Ultimate Wireless Bluetooth Earbuds are a top choice for audiophiles looking for premium sound \u001b[0m\n",
       "\u001b[32mquality and convenience. With advanced Bluetooth 5.0 technology, these earbuds offer seamless connectivity and \u001b[0m\n",
       "\u001b[32mcrystal-clear audio. They feature high-fidelity sound with deep bass and clear treble, as well as noise-canceling \u001b[0m\n",
       "\u001b[32mtechnology for an immersive listening experience. With 20 hours of playtime on a single charge, these earbuds are \u001b[0m\n",
       "\u001b[32mperfect for long listening sessions. The ergonomic design ensures a secure and comfortable fit, and the touch \u001b[0m\n",
       "\u001b[32mcontrols make playback and calls easy. Additionally, these earbuds have an IPX7 waterproof rating, making them \u001b[0m\n",
       "\u001b[32msuitable for outdoor activities.'\u001b[0m,\n",
       "    \u001b[33msource_nodes\u001b[0m=\u001b[1m[\u001b[0m\n",
       "        \u001b[1;35mNodeWithScore\u001b[0m\u001b[1m(\u001b[0m\n",
       "            \u001b[33mnode\u001b[0m=\u001b[1;35mTextNode\u001b[0m\u001b[1m(\u001b[0m\n",
       "                \u001b[33mid_\u001b[0m=\u001b[32m'80dc47a4-e56d-4340-9a34-ac4330dbec6f'\u001b[0m,\n",
       "                \u001b[33membedding\u001b[0m=\u001b[3;35mNone\u001b[0m,\n",
       "                \u001b[33mmetadata\u001b[0m=\u001b[1m{\u001b[0m\u001b[1m}\u001b[0m,\n",
       "                \u001b[33mexcluded_embed_metadata_keys\u001b[0m=\u001b[1m[\u001b[0m\u001b[1m]\u001b[0m,\n",
       "                \u001b[33mexcluded_llm_metadata_keys\u001b[0m=\u001b[1m[\u001b[0m\u001b[1m]\u001b[0m,\n",
       "                \u001b[33mrelationships\u001b[0m=\u001b[1m{\u001b[0m\u001b[1m}\u001b[0m,\n",
       "                \u001b[33mtext\u001b[0m=\u001b[32m'\u001b[0m\u001b[32m[\u001b[0m\u001b[32m(\u001b[0m\u001b[32m\\'Ultimate Wireless Bluetooth Earbuds\\', 79.99, 4.4, \"Elevate your music experience with \u001b[0m\n",
       "\u001b[32mour Ultimate Wireless Bluetooth Earbuds. These earbuds are designed for audiophiles who demand premium sound \u001b[0m\n",
       "\u001b[32mquality and convenience. With advanced Bluetooth 5.0 technology, you\\'ll enjoy seamless connectivity and \u001b[0m\n",
       "\u001b[32mcrystal-clear audio.\", \\'- High-fidelity sound with deep bass and clear treble. - Noise-canceling technology for an\u001b[0m\n",
       "\u001b[32mimmersive listening experience. - 20 hours of playtime on a single charge. - Ergonomic design for a secure and \u001b[0m\n",
       "\u001b[32mcomfortable fit. - Touch controls for easy playback and calls. - IPX7 waterproof rating for...\\'\u001b[0m\u001b[32m)\u001b[0m\u001b[32m]\u001b[0m\u001b[32m'\u001b[0m,\n",
       "                \u001b[33mstart_char_idx\u001b[0m=\u001b[3;35mNone\u001b[0m,\n",
       "                \u001b[33mend_char_idx\u001b[0m=\u001b[3;35mNone\u001b[0m,\n",
       "                \u001b[33mtext_template\u001b[0m=\u001b[32m'\u001b[0m\u001b[32m{\u001b[0m\u001b[32mmetadata_str\u001b[0m\u001b[32m}\u001b[0m\u001b[32m\\n\\n\u001b[0m\u001b[32m{\u001b[0m\u001b[32mcontent\u001b[0m\u001b[32m}\u001b[0m\u001b[32m'\u001b[0m,\n",
       "                \u001b[33mmetadata_template\u001b[0m=\u001b[32m'\u001b[0m\u001b[32m{\u001b[0m\u001b[32mkey\u001b[0m\u001b[32m}\u001b[0m\u001b[32m: \u001b[0m\u001b[32m{\u001b[0m\u001b[32mvalue\u001b[0m\u001b[32m}\u001b[0m\u001b[32m'\u001b[0m,\n",
       "                \u001b[33mmetadata_seperator\u001b[0m=\u001b[32m'\\n'\u001b[0m\n",
       "            \u001b[1m)\u001b[0m,\n",
       "            \u001b[33mscore\u001b[0m=\u001b[3;35mNone\u001b[0m\n",
       "        \u001b[1m)\u001b[0m\n",
       "    \u001b[1m]\u001b[0m,\n",
       "    \u001b[33mmetadata\u001b[0m=\u001b[1m{\u001b[0m\n",
       "        \u001b[32m'80dc47a4-e56d-4340-9a34-ac4330dbec6f'\u001b[0m: \u001b[1m{\u001b[0m\u001b[1m}\u001b[0m,\n",
       "        \u001b[32m'sql_query'\u001b[0m: \u001b[32m\"SELECT Product_Name, Price, Rating, Description, Features\\nFROM product_table\\nWHERE \u001b[0m\n",
       "\u001b[32mProduct_Name LIKE '%Wireless Bluetooth Earbuds%'\"\u001b[0m,\n",
       "        \u001b[32m'result'\u001b[0m: \u001b[1m[\u001b[0m\n",
       "            \u001b[1m(\u001b[0m\n",
       "                \u001b[32m'Ultimate Wireless Bluetooth Earbuds'\u001b[0m,\n",
       "                \u001b[1;36m79.99\u001b[0m,\n",
       "                \u001b[1;36m4.4\u001b[0m,\n",
       "                \u001b[32m\"Elevate your music experience with our Ultimate Wireless Bluetooth Earbuds. These earbuds are \u001b[0m\n",
       "\u001b[32mdesigned for audiophiles who demand premium sound quality and convenience. With advanced Bluetooth 5.0 technology, \u001b[0m\n",
       "\u001b[32myou'll enjoy seamless connectivity and crystal-clear audio.\"\u001b[0m,\n",
       "                \u001b[32m'- High-fidelity sound with deep bass and clear treble. - Noise-canceling technology for an \u001b[0m\n",
       "\u001b[32mimmersive listening experience. - 20 hours of playtime on a single charge. - Ergonomic design for a secure and \u001b[0m\n",
       "\u001b[32mcomfortable fit. - Touch controls for easy playback and calls. - IPX7 waterproof rating for...'\u001b[0m\n",
       "            \u001b[1m)\u001b[0m\n",
       "        \u001b[1m]\u001b[0m,\n",
       "        \u001b[32m'col_keys'\u001b[0m: \u001b[1m[\u001b[0m\u001b[32m'Product_Name'\u001b[0m, \u001b[32m'Price'\u001b[0m, \u001b[32m'Rating'\u001b[0m, \u001b[32m'Description'\u001b[0m, \u001b[32m'Features'\u001b[0m\u001b[1m]\u001b[0m,\n",
       "        \u001b[32m'selector_result'\u001b[0m: \u001b[1;35mMultiSelection\u001b[0m\u001b[1m(\u001b[0m\n",
       "            \u001b[33mselections\u001b[0m=\u001b[1m[\u001b[0m\n",
       "                \u001b[1;35mSingleSelection\u001b[0m\u001b[1m(\u001b[0m\n",
       "                    \u001b[33mindex\u001b[0m=\u001b[1;36m0\u001b[0m,\n",
       "                    \u001b[33mreason\u001b[0m=\u001b[32m'Choice 1 is the most relevant because it mentions translating a natural language query \u001b[0m\n",
       "\u001b[32minto a SQL query over a product listing table, which would be useful for retrieving information about Wireless \u001b[0m\n",
       "\u001b[32mBluetooth Earbuds products in the product listing.'\u001b[0m\n",
       "                \u001b[1m)\u001b[0m\n",
       "            \u001b[1m]\u001b[0m\n",
       "        \u001b[1m)\u001b[0m\n",
       "    \u001b[1m}\u001b[0m\n",
       "\u001b[1m)\u001b[0m\n"
      ]
     },
     "metadata": {},
     "output_type": "display_data"
    }
   ],
   "source": [
    "rprint(response)"
   ]
  },
  {
   "cell_type": "code",
   "execution_count": 26,
   "metadata": {},
   "outputs": [
    {
     "data": {
      "text/markdown": [
       "**`Final Response:`** There are 2 products in the product listing that cost 79.99."
      ],
      "text/plain": [
       "<IPython.core.display.Markdown object>"
      ]
     },
     "metadata": {},
     "output_type": "display_data"
    }
   ],
   "source": [
    "response = query_engine.query(\"How many product cost 79.99 in the product listing?\")\n",
    "display_response(response)"
   ]
  },
  {
   "cell_type": "code",
   "execution_count": 27,
   "metadata": {},
   "outputs": [
    {
     "data": {
      "text/html": [
       "<pre style=\"white-space:pre;overflow-x:auto;line-height:normal;font-family:Menlo,'DejaVu Sans Mono',consolas,'Courier New',monospace\"><span style=\"color: #800080; text-decoration-color: #800080; font-weight: bold\">Response</span><span style=\"font-weight: bold\">(</span>\n",
       "    <span style=\"color: #808000; text-decoration-color: #808000\">response</span>=<span style=\"color: #008000; text-decoration-color: #008000\">'There are 2 products in the product listing that cost 79.99.'</span>,\n",
       "    <span style=\"color: #808000; text-decoration-color: #808000\">source_nodes</span>=<span style=\"font-weight: bold\">[</span>\n",
       "        <span style=\"color: #800080; text-decoration-color: #800080; font-weight: bold\">NodeWithScore</span><span style=\"font-weight: bold\">(</span>\n",
       "            <span style=\"color: #808000; text-decoration-color: #808000\">node</span>=<span style=\"color: #800080; text-decoration-color: #800080; font-weight: bold\">TextNode</span><span style=\"font-weight: bold\">(</span>\n",
       "                <span style=\"color: #808000; text-decoration-color: #808000\">id_</span>=<span style=\"color: #008000; text-decoration-color: #008000\">'613c821c-0ed8-4f28-81c8-9fc5531b920d'</span>,\n",
       "                <span style=\"color: #808000; text-decoration-color: #808000\">embedding</span>=<span style=\"color: #800080; text-decoration-color: #800080; font-style: italic\">None</span>,\n",
       "                <span style=\"color: #808000; text-decoration-color: #808000\">metadata</span>=<span style=\"font-weight: bold\">{}</span>,\n",
       "                <span style=\"color: #808000; text-decoration-color: #808000\">excluded_embed_metadata_keys</span>=<span style=\"font-weight: bold\">[]</span>,\n",
       "                <span style=\"color: #808000; text-decoration-color: #808000\">excluded_llm_metadata_keys</span>=<span style=\"font-weight: bold\">[]</span>,\n",
       "                <span style=\"color: #808000; text-decoration-color: #808000\">relationships</span>=<span style=\"font-weight: bold\">{}</span>,\n",
       "                <span style=\"color: #808000; text-decoration-color: #808000\">text</span>=<span style=\"color: #008000; text-decoration-color: #008000\">'[(2,)]'</span>,\n",
       "                <span style=\"color: #808000; text-decoration-color: #808000\">start_char_idx</span>=<span style=\"color: #800080; text-decoration-color: #800080; font-style: italic\">None</span>,\n",
       "                <span style=\"color: #808000; text-decoration-color: #808000\">end_char_idx</span>=<span style=\"color: #800080; text-decoration-color: #800080; font-style: italic\">None</span>,\n",
       "                <span style=\"color: #808000; text-decoration-color: #808000\">text_template</span>=<span style=\"color: #008000; text-decoration-color: #008000\">'{metadata_str}\\n\\n{content}'</span>,\n",
       "                <span style=\"color: #808000; text-decoration-color: #808000\">metadata_template</span>=<span style=\"color: #008000; text-decoration-color: #008000\">'{key}: {value}'</span>,\n",
       "                <span style=\"color: #808000; text-decoration-color: #808000\">metadata_seperator</span>=<span style=\"color: #008000; text-decoration-color: #008000\">'\\n'</span>\n",
       "            <span style=\"font-weight: bold\">)</span>,\n",
       "            <span style=\"color: #808000; text-decoration-color: #808000\">score</span>=<span style=\"color: #800080; text-decoration-color: #800080; font-style: italic\">None</span>\n",
       "        <span style=\"font-weight: bold\">)</span>\n",
       "    <span style=\"font-weight: bold\">]</span>,\n",
       "    <span style=\"color: #808000; text-decoration-color: #808000\">metadata</span>=<span style=\"font-weight: bold\">{</span>\n",
       "        <span style=\"color: #008000; text-decoration-color: #008000\">'613c821c-0ed8-4f28-81c8-9fc5531b920d'</span>: <span style=\"font-weight: bold\">{}</span>,\n",
       "        <span style=\"color: #008000; text-decoration-color: #008000\">'sql_query'</span>: <span style=\"color: #008000; text-decoration-color: #008000\">'SELECT COUNT(*) FROM product_table WHERE Price = 79.99'</span>,\n",
       "        <span style=\"color: #008000; text-decoration-color: #008000\">'result'</span>: <span style=\"font-weight: bold\">[(</span><span style=\"color: #008080; text-decoration-color: #008080; font-weight: bold\">2</span>,<span style=\"font-weight: bold\">)]</span>,\n",
       "        <span style=\"color: #008000; text-decoration-color: #008000\">'col_keys'</span>: <span style=\"font-weight: bold\">[</span><span style=\"color: #008000; text-decoration-color: #008000\">'COUNT(*)'</span><span style=\"font-weight: bold\">]</span>,\n",
       "        <span style=\"color: #008000; text-decoration-color: #008000\">'selector_result'</span>: <span style=\"color: #800080; text-decoration-color: #800080; font-weight: bold\">MultiSelection</span><span style=\"font-weight: bold\">(</span>\n",
       "            <span style=\"color: #808000; text-decoration-color: #808000\">selections</span>=<span style=\"font-weight: bold\">[</span>\n",
       "                <span style=\"color: #800080; text-decoration-color: #800080; font-weight: bold\">SingleSelection</span><span style=\"font-weight: bold\">(</span>\n",
       "                    <span style=\"color: #808000; text-decoration-color: #808000\">index</span>=<span style=\"color: #008080; text-decoration-color: #008080; font-weight: bold\">0</span>,\n",
       "                    <span style=\"color: #808000; text-decoration-color: #808000\">reason</span>=<span style=\"color: #008000; text-decoration-color: #008000\">'Choice 1 is the most relevant because it mentions translating a natural language query </span>\n",
       "<span style=\"color: #008000; text-decoration-color: #008000\">into a SQL query over a product listing table, which would be necessary to find the number of products that cost </span>\n",
       "<span style=\"color: #008000; text-decoration-color: #008000\">79.99 in the product listing.'</span>\n",
       "                <span style=\"font-weight: bold\">)</span>\n",
       "            <span style=\"font-weight: bold\">]</span>\n",
       "        <span style=\"font-weight: bold\">)</span>\n",
       "    <span style=\"font-weight: bold\">}</span>\n",
       "<span style=\"font-weight: bold\">)</span>\n",
       "</pre>\n"
      ],
      "text/plain": [
       "\u001b[1;35mResponse\u001b[0m\u001b[1m(\u001b[0m\n",
       "    \u001b[33mresponse\u001b[0m=\u001b[32m'There are 2 products in the product listing that cost 79.99.'\u001b[0m,\n",
       "    \u001b[33msource_nodes\u001b[0m=\u001b[1m[\u001b[0m\n",
       "        \u001b[1;35mNodeWithScore\u001b[0m\u001b[1m(\u001b[0m\n",
       "            \u001b[33mnode\u001b[0m=\u001b[1;35mTextNode\u001b[0m\u001b[1m(\u001b[0m\n",
       "                \u001b[33mid_\u001b[0m=\u001b[32m'613c821c-0ed8-4f28-81c8-9fc5531b920d'\u001b[0m,\n",
       "                \u001b[33membedding\u001b[0m=\u001b[3;35mNone\u001b[0m,\n",
       "                \u001b[33mmetadata\u001b[0m=\u001b[1m{\u001b[0m\u001b[1m}\u001b[0m,\n",
       "                \u001b[33mexcluded_embed_metadata_keys\u001b[0m=\u001b[1m[\u001b[0m\u001b[1m]\u001b[0m,\n",
       "                \u001b[33mexcluded_llm_metadata_keys\u001b[0m=\u001b[1m[\u001b[0m\u001b[1m]\u001b[0m,\n",
       "                \u001b[33mrelationships\u001b[0m=\u001b[1m{\u001b[0m\u001b[1m}\u001b[0m,\n",
       "                \u001b[33mtext\u001b[0m=\u001b[32m'\u001b[0m\u001b[32m[\u001b[0m\u001b[32m(\u001b[0m\u001b[32m2,\u001b[0m\u001b[32m)\u001b[0m\u001b[32m]\u001b[0m\u001b[32m'\u001b[0m,\n",
       "                \u001b[33mstart_char_idx\u001b[0m=\u001b[3;35mNone\u001b[0m,\n",
       "                \u001b[33mend_char_idx\u001b[0m=\u001b[3;35mNone\u001b[0m,\n",
       "                \u001b[33mtext_template\u001b[0m=\u001b[32m'\u001b[0m\u001b[32m{\u001b[0m\u001b[32mmetadata_str\u001b[0m\u001b[32m}\u001b[0m\u001b[32m\\n\\n\u001b[0m\u001b[32m{\u001b[0m\u001b[32mcontent\u001b[0m\u001b[32m}\u001b[0m\u001b[32m'\u001b[0m,\n",
       "                \u001b[33mmetadata_template\u001b[0m=\u001b[32m'\u001b[0m\u001b[32m{\u001b[0m\u001b[32mkey\u001b[0m\u001b[32m}\u001b[0m\u001b[32m: \u001b[0m\u001b[32m{\u001b[0m\u001b[32mvalue\u001b[0m\u001b[32m}\u001b[0m\u001b[32m'\u001b[0m,\n",
       "                \u001b[33mmetadata_seperator\u001b[0m=\u001b[32m'\\n'\u001b[0m\n",
       "            \u001b[1m)\u001b[0m,\n",
       "            \u001b[33mscore\u001b[0m=\u001b[3;35mNone\u001b[0m\n",
       "        \u001b[1m)\u001b[0m\n",
       "    \u001b[1m]\u001b[0m,\n",
       "    \u001b[33mmetadata\u001b[0m=\u001b[1m{\u001b[0m\n",
       "        \u001b[32m'613c821c-0ed8-4f28-81c8-9fc5531b920d'\u001b[0m: \u001b[1m{\u001b[0m\u001b[1m}\u001b[0m,\n",
       "        \u001b[32m'sql_query'\u001b[0m: \u001b[32m'SELECT COUNT\u001b[0m\u001b[32m(\u001b[0m\u001b[32m*\u001b[0m\u001b[32m)\u001b[0m\u001b[32m FROM product_table WHERE Price = 79.99'\u001b[0m,\n",
       "        \u001b[32m'result'\u001b[0m: \u001b[1m[\u001b[0m\u001b[1m(\u001b[0m\u001b[1;36m2\u001b[0m,\u001b[1m)\u001b[0m\u001b[1m]\u001b[0m,\n",
       "        \u001b[32m'col_keys'\u001b[0m: \u001b[1m[\u001b[0m\u001b[32m'COUNT\u001b[0m\u001b[32m(\u001b[0m\u001b[32m*\u001b[0m\u001b[32m)\u001b[0m\u001b[32m'\u001b[0m\u001b[1m]\u001b[0m,\n",
       "        \u001b[32m'selector_result'\u001b[0m: \u001b[1;35mMultiSelection\u001b[0m\u001b[1m(\u001b[0m\n",
       "            \u001b[33mselections\u001b[0m=\u001b[1m[\u001b[0m\n",
       "                \u001b[1;35mSingleSelection\u001b[0m\u001b[1m(\u001b[0m\n",
       "                    \u001b[33mindex\u001b[0m=\u001b[1;36m0\u001b[0m,\n",
       "                    \u001b[33mreason\u001b[0m=\u001b[32m'Choice 1 is the most relevant because it mentions translating a natural language query \u001b[0m\n",
       "\u001b[32minto a SQL query over a product listing table, which would be necessary to find the number of products that cost \u001b[0m\n",
       "\u001b[32m79.99 in the product listing.'\u001b[0m\n",
       "                \u001b[1m)\u001b[0m\n",
       "            \u001b[1m]\u001b[0m\n",
       "        \u001b[1m)\u001b[0m\n",
       "    \u001b[1m}\u001b[0m\n",
       "\u001b[1m)\u001b[0m\n"
      ]
     },
     "metadata": {},
     "output_type": "display_data"
    }
   ],
   "source": [
    "rprint(response)"
   ]
  },
  {
   "cell_type": "code",
   "execution_count": 71,
   "metadata": {},
   "outputs": [
    {
     "name": "stdout",
     "output_type": "stream",
     "text": [
      "> Merging 1 nodes into parent node.\n",
      "> Parent node id: bf395249-9811-44fc-b758-e6b54cf05f71.\n",
      "> Parent node text: Description: Elevate your music experience with our Ultimate Wireless Bluetooth Earbuds. These ea...\n",
      "\n",
      "> Merging 1 nodes into parent node.\n",
      "> Parent node id: 41a2b0da-3087-49ad-bf13-4fb60d8a7339.\n",
      "> Parent node text: Description: Say goodbye to tangled cables with our Wireless Charging Pad. Simply place your devi...\n",
      "\n",
      "> Merging 1 nodes into parent node.\n",
      "> Parent node id: c4289c7f-2158-48cf-9cb6-cbd1a1134ec5.\n",
      "> Parent node text: Description: Achieve your fitness goals with our Fitness Tracker Smartwatch. Monitor your activit...\n",
      "\n",
      "> Merging 1 nodes into parent node.\n",
      "> Parent node id: 32298bc7-6587-4a0c-a782-42e6086573b9.\n",
      "> Parent node text: Description: Elevate your style with our Luxury Leather Wallet. Handcrafted from premium leather,...\n",
      "\n",
      "> Merging 1 nodes into parent node.\n",
      "> Parent node id: a575913a-23ac-495e-a9d2-8a8e871c4b7c.\n",
      "> Parent node text: Description: Immerse yourself in virtual worlds with our Virtual Reality Headset. Experience gami...\n",
      "\n",
      "> Merging 1 nodes into parent node.\n",
      "> Parent node id: d757b516-63da-4100-9231-ae3ba828071a.\n",
      "> Parent node text: Description: Stay charged on the go with our Portable Solar Charger. Harness the power of the sun...\n",
      "\n",
      "> Merging 1 nodes into parent node.\n",
      "> Parent node id: 4a78319c-8c49-49ab-9713-440d769a86bc.\n",
      "> Parent node text: Description: Get a full-body workout at home with our Home Gym Resistance Bands Set. These versat...\n",
      "\n",
      "> Merging 1 nodes into parent node.\n",
      "> Parent node id: 258e6bee-6460-4615-977e-36ee94589de9.\n",
      "> Parent node text: Description: Savor the soothing flavors of our Organic Herbal Tea Collection. Crafted from handpi...\n",
      "\n",
      "> Merging 1 nodes into parent node.\n",
      "> Parent node id: cbb15697-a3fa-48b9-b2cd-bcf5cad50adb.\n",
      "> Parent node text: Description: Experience ultimate comfort with our Organic Bamboo Bed Sheets. These luxuriously so...\n",
      "\n",
      "> Merging 1 nodes into parent node.\n",
      "> Parent node id: 5f07a55b-3911-40e3-a07a-c171ffeeb945.\n",
      "> Parent node text: Description: Brew barista-quality coffee at home with our Professional Espresso Machine. This mac...\n",
      "\n",
      "> Merging 1 nodes into parent node.\n",
      "> Parent node id: 715cfa53-43b5-4728-b1af-6cb4599fcd0d.\n",
      "> Parent node text: Description: Keep your home safe and secure with our SmartHome Security Camera System. This compr...\n",
      "\n",
      "> Merging 1 nodes into parent node.\n",
      "> Parent node id: 8d051cad-1575-4802-b651-8154095875f4.\n",
      "> Parent node text: Description: Unleash your inner chef with our Culinary Knife Set. This set includes a range of hi...\n",
      "\n",
      "> Merging 1 nodes into parent node.\n",
      "> Parent node id: fc0c1c58-ec9a-4f69-a0b8-0606e09458c4.\n",
      "> Parent node text: Description: Elevate your music experience with our Ultimate Wireless Bluetooth Earbuds. These ea...\n",
      "\n",
      "> Merging 1 nodes into parent node.\n",
      "> Parent node id: 35025ed9-d7a2-438d-9bb8-6c4fb0aa8e6a.\n",
      "> Parent node text: Description: Say goodbye to tangled cables with our Wireless Charging Pad. Simply place your devi...\n",
      "\n",
      "> Merging 1 nodes into parent node.\n",
      "> Parent node id: 8c348280-8ae8-4c14-b95f-7e476b00c898.\n",
      "> Parent node text: Description: Achieve your fitness goals with our Fitness Tracker Smartwatch. Monitor your activit...\n",
      "\n",
      "> Merging 1 nodes into parent node.\n",
      "> Parent node id: 437823a9-3170-4c4e-bf25-3a93e7a92dc3.\n",
      "> Parent node text: Description: Elevate your style with our Luxury Leather Wallet. Handcrafted from premium leather,...\n",
      "\n",
      "> Merging 1 nodes into parent node.\n",
      "> Parent node id: b418eb91-3956-4afc-ac13-9e278888e147.\n",
      "> Parent node text: Description: Immerse yourself in virtual worlds with our Virtual Reality Headset. Experience gami...\n",
      "\n",
      "> Merging 1 nodes into parent node.\n",
      "> Parent node id: 18ccca33-7faf-4819-944a-5fc77c54357e.\n",
      "> Parent node text: Description: Stay charged on the go with our Portable Solar Charger. Harness the power of the sun...\n",
      "\n",
      "> Merging 1 nodes into parent node.\n",
      "> Parent node id: c2d63029-d328-4f10-97e4-0b300b36b2c2.\n",
      "> Parent node text: Description: Get a full-body workout at home with our Home Gym Resistance Bands Set. These versat...\n",
      "\n",
      "> Merging 1 nodes into parent node.\n",
      "> Parent node id: 9220009c-fd48-4971-ab1e-b480c7af1b77.\n",
      "> Parent node text: Description: Savor the soothing flavors of our Organic Herbal Tea Collection. Crafted from handpi...\n",
      "\n",
      "> Merging 1 nodes into parent node.\n",
      "> Parent node id: f5ae08fb-1152-47e9-9956-e076c706dd56.\n",
      "> Parent node text: Description: Experience ultimate comfort with our Organic Bamboo Bed Sheets. These luxuriously so...\n",
      "\n",
      "> Merging 1 nodes into parent node.\n",
      "> Parent node id: 25823184-ab6b-4a5c-b075-09d7f0aea42f.\n",
      "> Parent node text: Description: Brew barista-quality coffee at home with our Professional Espresso Machine. This mac...\n",
      "\n",
      "> Merging 1 nodes into parent node.\n",
      "> Parent node id: 11c61f48-86c0-49b5-af29-29dfacb2f0d7.\n",
      "> Parent node text: Description: Keep your home safe and secure with our SmartHome Security Camera System. This compr...\n",
      "\n",
      "> Merging 1 nodes into parent node.\n",
      "> Parent node id: 2ba5d52a-3967-43b6-9f03-99b31cf39f01.\n",
      "> Parent node text: Description: Unleash your inner chef with our Culinary Knife Set. This set includes a range of hi...\n",
      "\n"
     ]
    },
    {
     "data": {
      "text/markdown": [
       "**`Final Response:`** There are two products that are similar to Wireless Bluetooth Earbuds products."
      ],
      "text/plain": [
       "<IPython.core.display.Markdown object>"
      ]
     },
     "metadata": {},
     "output_type": "display_data"
    }
   ],
   "source": [
    "response = query_engine.query(\"How many product are similar to Wireless Bluetooth Earbuds products?\")\n",
    "display_response(response)"
   ]
  },
  {
   "cell_type": "code",
   "execution_count": null,
   "metadata": {},
   "outputs": [],
   "source": [
    "rprint(response)"
   ]
  },
  {
   "cell_type": "code",
   "execution_count": 72,
   "metadata": {},
   "outputs": [
    {
     "name": "stdout",
     "output_type": "stream",
     "text": [
      "> Merging 1 nodes into parent node.\n",
      "> Parent node id: 258e6bee-6460-4615-977e-36ee94589de9.\n",
      "> Parent node text: Description: Savor the soothing flavors of our Organic Herbal Tea Collection. Crafted from handpi...\n",
      "\n",
      "> Merging 1 nodes into parent node.\n",
      "> Parent node id: cbb15697-a3fa-48b9-b2cd-bcf5cad50adb.\n",
      "> Parent node text: Description: Experience ultimate comfort with our Organic Bamboo Bed Sheets. These luxuriously so...\n",
      "\n",
      "> Merging 1 nodes into parent node.\n",
      "> Parent node id: bf395249-9811-44fc-b758-e6b54cf05f71.\n",
      "> Parent node text: Description: Elevate your music experience with our Ultimate Wireless Bluetooth Earbuds. These ea...\n",
      "\n",
      "> Merging 1 nodes into parent node.\n",
      "> Parent node id: 5f07a55b-3911-40e3-a07a-c171ffeeb945.\n",
      "> Parent node text: Description: Brew barista-quality coffee at home with our Professional Espresso Machine. This mac...\n",
      "\n",
      "> Merging 1 nodes into parent node.\n",
      "> Parent node id: 4a78319c-8c49-49ab-9713-440d769a86bc.\n",
      "> Parent node text: Description: Get a full-body workout at home with our Home Gym Resistance Bands Set. These versat...\n",
      "\n",
      "> Merging 1 nodes into parent node.\n",
      "> Parent node id: d757b516-63da-4100-9231-ae3ba828071a.\n",
      "> Parent node text: Description: Stay charged on the go with our Portable Solar Charger. Harness the power of the sun...\n",
      "\n",
      "> Merging 1 nodes into parent node.\n",
      "> Parent node id: 41a2b0da-3087-49ad-bf13-4fb60d8a7339.\n",
      "> Parent node text: Description: Say goodbye to tangled cables with our Wireless Charging Pad. Simply place your devi...\n",
      "\n",
      "> Merging 1 nodes into parent node.\n",
      "> Parent node id: 8d051cad-1575-4802-b651-8154095875f4.\n",
      "> Parent node text: Description: Unleash your inner chef with our Culinary Knife Set. This set includes a range of hi...\n",
      "\n",
      "> Merging 1 nodes into parent node.\n",
      "> Parent node id: 32298bc7-6587-4a0c-a782-42e6086573b9.\n",
      "> Parent node text: Description: Elevate your style with our Luxury Leather Wallet. Handcrafted from premium leather,...\n",
      "\n",
      "> Merging 1 nodes into parent node.\n",
      "> Parent node id: 715cfa53-43b5-4728-b1af-6cb4599fcd0d.\n",
      "> Parent node text: Description: Keep your home safe and secure with our SmartHome Security Camera System. This compr...\n",
      "\n",
      "> Merging 1 nodes into parent node.\n",
      "> Parent node id: a575913a-23ac-495e-a9d2-8a8e871c4b7c.\n",
      "> Parent node text: Description: Immerse yourself in virtual worlds with our Virtual Reality Headset. Experience gami...\n",
      "\n",
      "> Merging 1 nodes into parent node.\n",
      "> Parent node id: c4289c7f-2158-48cf-9cb6-cbd1a1134ec5.\n",
      "> Parent node text: Description: Achieve your fitness goals with our Fitness Tracker Smartwatch. Monitor your activit...\n",
      "\n",
      "> Merging 1 nodes into parent node.\n",
      "> Parent node id: 9220009c-fd48-4971-ab1e-b480c7af1b77.\n",
      "> Parent node text: Description: Savor the soothing flavors of our Organic Herbal Tea Collection. Crafted from handpi...\n",
      "\n",
      "> Merging 1 nodes into parent node.\n",
      "> Parent node id: f5ae08fb-1152-47e9-9956-e076c706dd56.\n",
      "> Parent node text: Description: Experience ultimate comfort with our Organic Bamboo Bed Sheets. These luxuriously so...\n",
      "\n",
      "> Merging 1 nodes into parent node.\n",
      "> Parent node id: fc0c1c58-ec9a-4f69-a0b8-0606e09458c4.\n",
      "> Parent node text: Description: Elevate your music experience with our Ultimate Wireless Bluetooth Earbuds. These ea...\n",
      "\n",
      "> Merging 1 nodes into parent node.\n",
      "> Parent node id: 25823184-ab6b-4a5c-b075-09d7f0aea42f.\n",
      "> Parent node text: Description: Brew barista-quality coffee at home with our Professional Espresso Machine. This mac...\n",
      "\n",
      "> Merging 1 nodes into parent node.\n",
      "> Parent node id: c2d63029-d328-4f10-97e4-0b300b36b2c2.\n",
      "> Parent node text: Description: Get a full-body workout at home with our Home Gym Resistance Bands Set. These versat...\n",
      "\n",
      "> Merging 1 nodes into parent node.\n",
      "> Parent node id: 18ccca33-7faf-4819-944a-5fc77c54357e.\n",
      "> Parent node text: Description: Stay charged on the go with our Portable Solar Charger. Harness the power of the sun...\n",
      "\n",
      "> Merging 1 nodes into parent node.\n",
      "> Parent node id: 35025ed9-d7a2-438d-9bb8-6c4fb0aa8e6a.\n",
      "> Parent node text: Description: Say goodbye to tangled cables with our Wireless Charging Pad. Simply place your devi...\n",
      "\n",
      "> Merging 1 nodes into parent node.\n",
      "> Parent node id: 2ba5d52a-3967-43b6-9f03-99b31cf39f01.\n",
      "> Parent node text: Description: Unleash your inner chef with our Culinary Knife Set. This set includes a range of hi...\n",
      "\n",
      "> Merging 1 nodes into parent node.\n",
      "> Parent node id: 437823a9-3170-4c4e-bf25-3a93e7a92dc3.\n",
      "> Parent node text: Description: Elevate your style with our Luxury Leather Wallet. Handcrafted from premium leather,...\n",
      "\n",
      "> Merging 1 nodes into parent node.\n",
      "> Parent node id: 11c61f48-86c0-49b5-af29-29dfacb2f0d7.\n",
      "> Parent node text: Description: Keep your home safe and secure with our SmartHome Security Camera System. This compr...\n",
      "\n",
      "> Merging 1 nodes into parent node.\n",
      "> Parent node id: b418eb91-3956-4afc-ac13-9e278888e147.\n",
      "> Parent node text: Description: Immerse yourself in virtual worlds with our Virtual Reality Headset. Experience gami...\n",
      "\n",
      "> Merging 1 nodes into parent node.\n",
      "> Parent node id: 8c348280-8ae8-4c14-b95f-7e476b00c898.\n",
      "> Parent node text: Description: Achieve your fitness goals with our Fitness Tracker Smartwatch. Monitor your activit...\n",
      "\n"
     ]
    },
    {
     "data": {
      "text/markdown": [
       "**`Final Response:`** The products whose descriptions are similar are the Organic Herbal Tea Collection and the Portable Solar Charger."
      ],
      "text/plain": [
       "<IPython.core.display.Markdown object>"
      ]
     },
     "metadata": {},
     "output_type": "display_data"
    }
   ],
   "source": [
    "response = query_engine.query(\"list the products whose descriptions are similar.\")\n",
    "display_response(response)"
   ]
  },
  {
   "cell_type": "code",
   "execution_count": 47,
   "metadata": {},
   "outputs": [
    {
     "data": {
      "text/html": [
       "<pre style=\"white-space:pre;overflow-x:auto;line-height:normal;font-family:Menlo,'DejaVu Sans Mono',consolas,'Courier New',monospace\"><span style=\"font-weight: bold\">{</span>\n",
       "    <span style=\"color: #008000; text-decoration-color: #008000\">'6a6ebaef-32cc-4b08-9df7-27cdd34978f3'</span>: <span style=\"font-weight: bold\">{}</span>,\n",
       "    <span style=\"color: #008000; text-decoration-color: #008000\">'selector_result'</span>: <span style=\"color: #800080; text-decoration-color: #800080; font-weight: bold\">MultiSelection</span><span style=\"font-weight: bold\">(</span>\n",
       "        <span style=\"color: #808000; text-decoration-color: #808000\">selections</span>=<span style=\"font-weight: bold\">[</span>\n",
       "            <span style=\"color: #800080; text-decoration-color: #800080; font-weight: bold\">SingleSelection</span><span style=\"font-weight: bold\">(</span>\n",
       "                <span style=\"color: #808000; text-decoration-color: #808000\">index</span>=<span style=\"color: #008080; text-decoration-color: #008080; font-weight: bold\">1</span>,\n",
       "                <span style=\"color: #808000; text-decoration-color: #808000\">reason</span>=<span style=\"color: #008000; text-decoration-color: #008000\">'Choice 2 is more relevant because it specifically mentions answering semantic questions </span>\n",
       "<span style=\"color: #008000; text-decoration-color: #008000\">about product listing, which includes determining similarity between product descriptions.'</span>\n",
       "            <span style=\"font-weight: bold\">)</span>\n",
       "        <span style=\"font-weight: bold\">]</span>\n",
       "    <span style=\"font-weight: bold\">)</span>\n",
       "<span style=\"font-weight: bold\">}</span>\n",
       "</pre>\n"
      ],
      "text/plain": [
       "\u001b[1m{\u001b[0m\n",
       "    \u001b[32m'6a6ebaef-32cc-4b08-9df7-27cdd34978f3'\u001b[0m: \u001b[1m{\u001b[0m\u001b[1m}\u001b[0m,\n",
       "    \u001b[32m'selector_result'\u001b[0m: \u001b[1;35mMultiSelection\u001b[0m\u001b[1m(\u001b[0m\n",
       "        \u001b[33mselections\u001b[0m=\u001b[1m[\u001b[0m\n",
       "            \u001b[1;35mSingleSelection\u001b[0m\u001b[1m(\u001b[0m\n",
       "                \u001b[33mindex\u001b[0m=\u001b[1;36m1\u001b[0m,\n",
       "                \u001b[33mreason\u001b[0m=\u001b[32m'Choice 2 is more relevant because it specifically mentions answering semantic questions \u001b[0m\n",
       "\u001b[32mabout product listing, which includes determining similarity between product descriptions.'\u001b[0m\n",
       "            \u001b[1m)\u001b[0m\n",
       "        \u001b[1m]\u001b[0m\n",
       "    \u001b[1m)\u001b[0m\n",
       "\u001b[1m}\u001b[0m\n"
      ]
     },
     "metadata": {},
     "output_type": "display_data"
    }
   ],
   "source": [
    "print(response.metadata)"
   ]
  },
  {
   "cell_type": "code",
   "execution_count": 31,
   "metadata": {},
   "outputs": [
    {
     "data": {
      "text/html": [
       "<pre style=\"white-space:pre;overflow-x:auto;line-height:normal;font-family:Menlo,'DejaVu Sans Mono',consolas,'Courier New',monospace\"><span style=\"font-weight: bold\">[</span><span style=\"color: #008000; text-decoration-color: #008000\">'Experience ultimate comfort with our Organic Bamboo Bed Sheets. These luxuriously soft sheets are made from </span>\n",
       "<span style=\"color: #008000; text-decoration-color: #008000\">sustainable and breathable bamboo fibers.'</span>\n",
       " <span style=\"color: #008000; text-decoration-color: #008000\">'Immerse yourself in virtual worlds with our Virtual Reality Headset. Experience gaming, entertainment, and </span>\n",
       "<span style=\"color: #008000; text-decoration-color: #008000\">exploration like never before.'</span><span style=\"font-weight: bold\">]</span>\n",
       "</pre>\n"
      ],
      "text/plain": [
       "\u001b[1m[\u001b[0m\u001b[32m'Experience ultimate comfort with our Organic Bamboo Bed Sheets. These luxuriously soft sheets are made from \u001b[0m\n",
       "\u001b[32msustainable and breathable bamboo fibers.'\u001b[0m\n",
       " \u001b[32m'Immerse yourself in virtual worlds with our Virtual Reality Headset. Experience gaming, entertainment, and \u001b[0m\n",
       "\u001b[32mexploration like never before.'\u001b[0m\u001b[1m]\u001b[0m\n"
      ]
     },
     "metadata": {},
     "output_type": "display_data"
    }
   ],
   "source": [
    "rprint(data.loc[data.Product_Name.isin(('Organic Bamboo Bed Sheets', 'Virtual Reality Headset')), \"Description\"].values)"
   ]
  },
  {
   "cell_type": "code",
   "execution_count": 73,
   "metadata": {},
   "outputs": [
    {
     "data": {
      "text/markdown": [
       "**`Final Response:`** The product that has 'heart rate' in its description is the Fitness Tracker Smartwatch."
      ],
      "text/plain": [
       "<IPython.core.display.Markdown object>"
      ]
     },
     "metadata": {},
     "output_type": "display_data"
    }
   ],
   "source": [
    "response = query_engine.query(\"Which product has 'heart rate' in its description\")\n",
    "display_response(response)"
   ]
  },
  {
   "cell_type": "code",
   "execution_count": 84,
   "metadata": {},
   "outputs": [
    {
     "data": {
      "text/html": [
       "<pre style=\"white-space:pre;overflow-x:auto;line-height:normal;font-family:Menlo,'DejaVu Sans Mono',consolas,'Courier New',monospace\"><span style=\"color: #800080; text-decoration-color: #800080; font-weight: bold\">Response</span><span style=\"font-weight: bold\">(</span>\n",
       "    <span style=\"color: #808000; text-decoration-color: #808000\">response</span>=<span style=\"color: #008000; text-decoration-color: #008000\">\"The product that has 'heart rate' in its description is the Fitness Tracker Smartwatch.\"</span>,\n",
       "    <span style=\"color: #808000; text-decoration-color: #808000\">source_nodes</span>=<span style=\"font-weight: bold\">[</span>\n",
       "        <span style=\"color: #800080; text-decoration-color: #800080; font-weight: bold\">NodeWithScore</span><span style=\"font-weight: bold\">(</span>\n",
       "            <span style=\"color: #808000; text-decoration-color: #808000\">node</span>=<span style=\"color: #800080; text-decoration-color: #800080; font-weight: bold\">TextNode</span><span style=\"font-weight: bold\">(</span>\n",
       "                <span style=\"color: #808000; text-decoration-color: #808000\">id_</span>=<span style=\"color: #008000; text-decoration-color: #008000\">'0dbf45a2-3a3c-497b-bb2e-d57eca866a37'</span>,\n",
       "                <span style=\"color: #808000; text-decoration-color: #808000\">embedding</span>=<span style=\"color: #800080; text-decoration-color: #800080; font-style: italic\">None</span>,\n",
       "                <span style=\"color: #808000; text-decoration-color: #808000\">metadata</span>=<span style=\"font-weight: bold\">{}</span>,\n",
       "                <span style=\"color: #808000; text-decoration-color: #808000\">excluded_embed_metadata_keys</span>=<span style=\"font-weight: bold\">[]</span>,\n",
       "                <span style=\"color: #808000; text-decoration-color: #808000\">excluded_llm_metadata_keys</span>=<span style=\"font-weight: bold\">[]</span>,\n",
       "                <span style=\"color: #808000; text-decoration-color: #808000\">relationships</span>=<span style=\"font-weight: bold\">{}</span>,\n",
       "                <span style=\"color: #808000; text-decoration-color: #808000\">text</span>=<span style=\"color: #008000; text-decoration-color: #008000\">\"[('Fitness Tracker Smartwatch',)]\"</span>,\n",
       "                <span style=\"color: #808000; text-decoration-color: #808000\">start_char_idx</span>=<span style=\"color: #800080; text-decoration-color: #800080; font-style: italic\">None</span>,\n",
       "                <span style=\"color: #808000; text-decoration-color: #808000\">end_char_idx</span>=<span style=\"color: #800080; text-decoration-color: #800080; font-style: italic\">None</span>,\n",
       "                <span style=\"color: #808000; text-decoration-color: #808000\">text_template</span>=<span style=\"color: #008000; text-decoration-color: #008000\">'{metadata_str}\\n\\n{content}'</span>,\n",
       "                <span style=\"color: #808000; text-decoration-color: #808000\">metadata_template</span>=<span style=\"color: #008000; text-decoration-color: #008000\">'{key}: {value}'</span>,\n",
       "                <span style=\"color: #808000; text-decoration-color: #808000\">metadata_seperator</span>=<span style=\"color: #008000; text-decoration-color: #008000\">'\\n'</span>\n",
       "            <span style=\"font-weight: bold\">)</span>,\n",
       "            <span style=\"color: #808000; text-decoration-color: #808000\">score</span>=<span style=\"color: #800080; text-decoration-color: #800080; font-style: italic\">None</span>\n",
       "        <span style=\"font-weight: bold\">)</span>\n",
       "    <span style=\"font-weight: bold\">]</span>,\n",
       "    <span style=\"color: #808000; text-decoration-color: #808000\">metadata</span>=<span style=\"font-weight: bold\">{</span>\n",
       "        <span style=\"color: #008000; text-decoration-color: #008000\">'0dbf45a2-3a3c-497b-bb2e-d57eca866a37'</span>: <span style=\"font-weight: bold\">{}</span>,\n",
       "        <span style=\"color: #008000; text-decoration-color: #008000\">'sql_query'</span>: <span style=\"color: #008000; text-decoration-color: #008000\">\"SELECT Product_Name\\nFROM product_table\\nWHERE Description LIKE '%heart rate%'\"</span>,\n",
       "        <span style=\"color: #008000; text-decoration-color: #008000\">'result'</span>: <span style=\"font-weight: bold\">[(</span><span style=\"color: #008000; text-decoration-color: #008000\">'Fitness Tracker Smartwatch'</span>,<span style=\"font-weight: bold\">)]</span>,\n",
       "        <span style=\"color: #008000; text-decoration-color: #008000\">'col_keys'</span>: <span style=\"font-weight: bold\">[</span><span style=\"color: #008000; text-decoration-color: #008000\">'Product_Name'</span><span style=\"font-weight: bold\">]</span>,\n",
       "        <span style=\"color: #008000; text-decoration-color: #008000\">'selector_result'</span>: <span style=\"color: #800080; text-decoration-color: #800080; font-weight: bold\">MultiSelection</span><span style=\"font-weight: bold\">(</span>\n",
       "            <span style=\"color: #808000; text-decoration-color: #808000\">selections</span>=<span style=\"font-weight: bold\">[</span>\n",
       "                <span style=\"color: #800080; text-decoration-color: #800080; font-weight: bold\">SingleSelection</span><span style=\"font-weight: bold\">(</span>\n",
       "                    <span style=\"color: #808000; text-decoration-color: #808000\">index</span>=<span style=\"color: #008080; text-decoration-color: #008080; font-weight: bold\">0</span>,\n",
       "                    <span style=\"color: #808000; text-decoration-color: #808000\">reason</span>=<span style=\"color: #008000; text-decoration-color: #008000\">'Choice 1 is most relevant because it mentions translating a natural language query into</span>\n",
       "<span style=\"color: #008000; text-decoration-color: #008000\">a SQL query over a table containing product listings, which would include descriptions of each product. This </span>\n",
       "<span style=\"color: #008000; text-decoration-color: #008000\">suggests that it would be able to handle a query about the description of a product.'</span>\n",
       "                <span style=\"font-weight: bold\">)</span>\n",
       "            <span style=\"font-weight: bold\">]</span>\n",
       "        <span style=\"font-weight: bold\">)</span>\n",
       "    <span style=\"font-weight: bold\">}</span>\n",
       "<span style=\"font-weight: bold\">)</span>\n",
       "</pre>\n"
      ],
      "text/plain": [
       "\u001b[1;35mResponse\u001b[0m\u001b[1m(\u001b[0m\n",
       "    \u001b[33mresponse\u001b[0m=\u001b[32m\"The\u001b[0m\u001b[32m product that has 'heart rate' in its description is the Fitness Tracker Smartwatch.\"\u001b[0m,\n",
       "    \u001b[33msource_nodes\u001b[0m=\u001b[1m[\u001b[0m\n",
       "        \u001b[1;35mNodeWithScore\u001b[0m\u001b[1m(\u001b[0m\n",
       "            \u001b[33mnode\u001b[0m=\u001b[1;35mTextNode\u001b[0m\u001b[1m(\u001b[0m\n",
       "                \u001b[33mid_\u001b[0m=\u001b[32m'0dbf45a2-3a3c-497b-bb2e-d57eca866a37'\u001b[0m,\n",
       "                \u001b[33membedding\u001b[0m=\u001b[3;35mNone\u001b[0m,\n",
       "                \u001b[33mmetadata\u001b[0m=\u001b[1m{\u001b[0m\u001b[1m}\u001b[0m,\n",
       "                \u001b[33mexcluded_embed_metadata_keys\u001b[0m=\u001b[1m[\u001b[0m\u001b[1m]\u001b[0m,\n",
       "                \u001b[33mexcluded_llm_metadata_keys\u001b[0m=\u001b[1m[\u001b[0m\u001b[1m]\u001b[0m,\n",
       "                \u001b[33mrelationships\u001b[0m=\u001b[1m{\u001b[0m\u001b[1m}\u001b[0m,\n",
       "                \u001b[33mtext\u001b[0m=\u001b[32m\"\u001b[0m\u001b[32m[\u001b[0m\u001b[32m(\u001b[0m\u001b[32m'Fitness Tracker Smartwatch',\u001b[0m\u001b[32m)\u001b[0m\u001b[32m]\u001b[0m\u001b[32m\"\u001b[0m,\n",
       "                \u001b[33mstart_char_idx\u001b[0m=\u001b[3;35mNone\u001b[0m,\n",
       "                \u001b[33mend_char_idx\u001b[0m=\u001b[3;35mNone\u001b[0m,\n",
       "                \u001b[33mtext_template\u001b[0m=\u001b[32m'\u001b[0m\u001b[32m{\u001b[0m\u001b[32mmetadata_str\u001b[0m\u001b[32m}\u001b[0m\u001b[32m\\n\\n\u001b[0m\u001b[32m{\u001b[0m\u001b[32mcontent\u001b[0m\u001b[32m}\u001b[0m\u001b[32m'\u001b[0m,\n",
       "                \u001b[33mmetadata_template\u001b[0m=\u001b[32m'\u001b[0m\u001b[32m{\u001b[0m\u001b[32mkey\u001b[0m\u001b[32m}\u001b[0m\u001b[32m: \u001b[0m\u001b[32m{\u001b[0m\u001b[32mvalue\u001b[0m\u001b[32m}\u001b[0m\u001b[32m'\u001b[0m,\n",
       "                \u001b[33mmetadata_seperator\u001b[0m=\u001b[32m'\\n'\u001b[0m\n",
       "            \u001b[1m)\u001b[0m,\n",
       "            \u001b[33mscore\u001b[0m=\u001b[3;35mNone\u001b[0m\n",
       "        \u001b[1m)\u001b[0m\n",
       "    \u001b[1m]\u001b[0m,\n",
       "    \u001b[33mmetadata\u001b[0m=\u001b[1m{\u001b[0m\n",
       "        \u001b[32m'0dbf45a2-3a3c-497b-bb2e-d57eca866a37'\u001b[0m: \u001b[1m{\u001b[0m\u001b[1m}\u001b[0m,\n",
       "        \u001b[32m'sql_query'\u001b[0m: \u001b[32m\"SELECT Product_Name\\nFROM product_table\\nWHERE Description LIKE '%heart rate%'\"\u001b[0m,\n",
       "        \u001b[32m'result'\u001b[0m: \u001b[1m[\u001b[0m\u001b[1m(\u001b[0m\u001b[32m'Fitness Tracker Smartwatch'\u001b[0m,\u001b[1m)\u001b[0m\u001b[1m]\u001b[0m,\n",
       "        \u001b[32m'col_keys'\u001b[0m: \u001b[1m[\u001b[0m\u001b[32m'Product_Name'\u001b[0m\u001b[1m]\u001b[0m,\n",
       "        \u001b[32m'selector_result'\u001b[0m: \u001b[1;35mMultiSelection\u001b[0m\u001b[1m(\u001b[0m\n",
       "            \u001b[33mselections\u001b[0m=\u001b[1m[\u001b[0m\n",
       "                \u001b[1;35mSingleSelection\u001b[0m\u001b[1m(\u001b[0m\n",
       "                    \u001b[33mindex\u001b[0m=\u001b[1;36m0\u001b[0m,\n",
       "                    \u001b[33mreason\u001b[0m=\u001b[32m'Choice 1 is most relevant because it mentions translating a natural language query into\u001b[0m\n",
       "\u001b[32ma SQL query over a table containing product listings, which would include descriptions of each product. This \u001b[0m\n",
       "\u001b[32msuggests that it would be able to handle a query about the description of a product.'\u001b[0m\n",
       "                \u001b[1m)\u001b[0m\n",
       "            \u001b[1m]\u001b[0m\n",
       "        \u001b[1m)\u001b[0m\n",
       "    \u001b[1m}\u001b[0m\n",
       "\u001b[1m)\u001b[0m\n"
      ]
     },
     "metadata": {},
     "output_type": "display_data"
    }
   ],
   "source": [
    "rprint(response)"
   ]
  },
  {
   "cell_type": "code",
   "execution_count": 58,
   "metadata": {},
   "outputs": [
    {
     "data": {
      "text/markdown": [
       "**`Final Response:`** The sum of all prices for all products whose price is $79.99 is $159.98."
      ],
      "text/plain": [
       "<IPython.core.display.Markdown object>"
      ]
     },
     "metadata": {},
     "output_type": "display_data"
    }
   ],
   "source": [
    "response = query_engine.query(\"What is the sum of all prices for all products whose price is $79.99?\")\n",
    "display_response(response)"
   ]
  },
  {
   "cell_type": "code",
   "execution_count": 87,
   "metadata": {},
   "outputs": [
    {
     "data": {
      "text/html": [
       "<pre style=\"white-space:pre;overflow-x:auto;line-height:normal;font-family:Menlo,'DejaVu Sans Mono',consolas,'Courier New',monospace\"><span style=\"font-weight: bold\">{</span>\n",
       "    <span style=\"color: #008000; text-decoration-color: #008000\">'f419eef1-48cd-4084-a103-47d7dd9f3bc0'</span>: <span style=\"font-weight: bold\">{}</span>,\n",
       "    <span style=\"color: #008000; text-decoration-color: #008000\">'sql_query'</span>: <span style=\"color: #008000; text-decoration-color: #008000\">'SELECT SUM(Price) FROM product_table WHERE Price = 79.99;'</span>,\n",
       "    <span style=\"color: #008000; text-decoration-color: #008000\">'result'</span>: <span style=\"font-weight: bold\">[(</span><span style=\"color: #008080; text-decoration-color: #008080; font-weight: bold\">159.98</span>,<span style=\"font-weight: bold\">)]</span>,\n",
       "    <span style=\"color: #008000; text-decoration-color: #008000\">'col_keys'</span>: <span style=\"font-weight: bold\">[</span><span style=\"color: #008000; text-decoration-color: #008000\">'SUM(Price)'</span><span style=\"font-weight: bold\">]</span>,\n",
       "    <span style=\"color: #008000; text-decoration-color: #008000\">'selector_result'</span>: <span style=\"color: #800080; text-decoration-color: #800080; font-weight: bold\">MultiSelection</span><span style=\"font-weight: bold\">(</span>\n",
       "        <span style=\"color: #808000; text-decoration-color: #808000\">selections</span>=<span style=\"font-weight: bold\">[</span>\n",
       "            <span style=\"color: #800080; text-decoration-color: #800080; font-weight: bold\">SingleSelection</span><span style=\"font-weight: bold\">(</span>\n",
       "                <span style=\"color: #808000; text-decoration-color: #808000\">index</span>=<span style=\"color: #008080; text-decoration-color: #008080; font-weight: bold\">0</span>,\n",
       "                <span style=\"color: #808000; text-decoration-color: #808000\">reason</span>=<span style=\"color: #008000; text-decoration-color: #008000\">'Choice 1 is the most relevant because it mentions translating a natural language query into</span>\n",
       "<span style=\"color: #008000; text-decoration-color: #008000\">a SQL query over a table containing product listings, including the price. This suggests that it can be used to </span>\n",
       "<span style=\"color: #008000; text-decoration-color: #008000\">find the sum of all prices for all products.'</span>\n",
       "            <span style=\"font-weight: bold\">)</span>\n",
       "        <span style=\"font-weight: bold\">]</span>\n",
       "    <span style=\"font-weight: bold\">)</span>\n",
       "<span style=\"font-weight: bold\">}</span>\n",
       "</pre>\n"
      ],
      "text/plain": [
       "\u001b[1m{\u001b[0m\n",
       "    \u001b[32m'f419eef1-48cd-4084-a103-47d7dd9f3bc0'\u001b[0m: \u001b[1m{\u001b[0m\u001b[1m}\u001b[0m,\n",
       "    \u001b[32m'sql_query'\u001b[0m: \u001b[32m'SELECT SUM\u001b[0m\u001b[32m(\u001b[0m\u001b[32mPrice\u001b[0m\u001b[32m)\u001b[0m\u001b[32m FROM product_table WHERE Price = 79.99;'\u001b[0m,\n",
       "    \u001b[32m'result'\u001b[0m: \u001b[1m[\u001b[0m\u001b[1m(\u001b[0m\u001b[1;36m159.98\u001b[0m,\u001b[1m)\u001b[0m\u001b[1m]\u001b[0m,\n",
       "    \u001b[32m'col_keys'\u001b[0m: \u001b[1m[\u001b[0m\u001b[32m'SUM\u001b[0m\u001b[32m(\u001b[0m\u001b[32mPrice\u001b[0m\u001b[32m)\u001b[0m\u001b[32m'\u001b[0m\u001b[1m]\u001b[0m,\n",
       "    \u001b[32m'selector_result'\u001b[0m: \u001b[1;35mMultiSelection\u001b[0m\u001b[1m(\u001b[0m\n",
       "        \u001b[33mselections\u001b[0m=\u001b[1m[\u001b[0m\n",
       "            \u001b[1;35mSingleSelection\u001b[0m\u001b[1m(\u001b[0m\n",
       "                \u001b[33mindex\u001b[0m=\u001b[1;36m0\u001b[0m,\n",
       "                \u001b[33mreason\u001b[0m=\u001b[32m'Choice 1 is the most relevant because it mentions translating a natural language query into\u001b[0m\n",
       "\u001b[32ma SQL query over a table containing product listings, including the price. This suggests that it can be used to \u001b[0m\n",
       "\u001b[32mfind the sum of all prices for all products.'\u001b[0m\n",
       "            \u001b[1m)\u001b[0m\n",
       "        \u001b[1m]\u001b[0m\n",
       "    \u001b[1m)\u001b[0m\n",
       "\u001b[1m}\u001b[0m\n"
      ]
     },
     "metadata": {},
     "output_type": "display_data"
    }
   ],
   "source": [
    "rprint(response.metadata)"
   ]
  },
  {
   "attachments": {},
   "cell_type": "markdown",
   "metadata": {},
   "source": [
    "## Self Correcting query"
   ]
  },
  {
   "attachments": {},
   "cell_type": "markdown",
   "metadata": {},
   "source": [
    "### Retry Query Engine"
   ]
  },
  {
   "cell_type": "code",
   "execution_count": 74,
   "metadata": {},
   "outputs": [
    {
     "data": {
      "text/markdown": [
       "**`Final Response:`** The sum of all prices for all products whose price is $79.99 is $159.98."
      ],
      "text/plain": [
       "<IPython.core.display.Markdown object>"
      ]
     },
     "metadata": {},
     "output_type": "display_data"
    }
   ],
   "source": [
    "query_response_evaluator = RelevancyEvaluator()\n",
    "retry_query_engine = RetryQueryEngine(\n",
    "    query_engine, query_response_evaluator\n",
    ")\n",
    "retry_response = retry_query_engine.query(\"What is the sum of all prices for all products whose price is $79.99?\")\n",
    "display_response(retry_response)"
   ]
  },
  {
   "attachments": {},
   "cell_type": "markdown",
   "metadata": {},
   "source": [
    "### Retry Source Query Engine"
   ]
  },
  {
   "cell_type": "code",
   "execution_count": 75,
   "metadata": {},
   "outputs": [
    {
     "name": "stdout",
     "output_type": "stream",
     "text": [
      "> Merging 1 nodes into parent node.\n",
      "> Parent node id: 258e6bee-6460-4615-977e-36ee94589de9.\n",
      "> Parent node text: Description: Savor the soothing flavors of our Organic Herbal Tea Collection. Crafted from handpi...\n",
      "\n",
      "> Merging 1 nodes into parent node.\n",
      "> Parent node id: cbb15697-a3fa-48b9-b2cd-bcf5cad50adb.\n",
      "> Parent node text: Description: Experience ultimate comfort with our Organic Bamboo Bed Sheets. These luxuriously so...\n",
      "\n",
      "> Merging 1 nodes into parent node.\n",
      "> Parent node id: bf395249-9811-44fc-b758-e6b54cf05f71.\n",
      "> Parent node text: Description: Elevate your music experience with our Ultimate Wireless Bluetooth Earbuds. These ea...\n",
      "\n",
      "> Merging 1 nodes into parent node.\n",
      "> Parent node id: 5f07a55b-3911-40e3-a07a-c171ffeeb945.\n",
      "> Parent node text: Description: Brew barista-quality coffee at home with our Professional Espresso Machine. This mac...\n",
      "\n",
      "> Merging 1 nodes into parent node.\n",
      "> Parent node id: 4a78319c-8c49-49ab-9713-440d769a86bc.\n",
      "> Parent node text: Description: Get a full-body workout at home with our Home Gym Resistance Bands Set. These versat...\n",
      "\n",
      "> Merging 1 nodes into parent node.\n",
      "> Parent node id: d757b516-63da-4100-9231-ae3ba828071a.\n",
      "> Parent node text: Description: Stay charged on the go with our Portable Solar Charger. Harness the power of the sun...\n",
      "\n",
      "> Merging 1 nodes into parent node.\n",
      "> Parent node id: 41a2b0da-3087-49ad-bf13-4fb60d8a7339.\n",
      "> Parent node text: Description: Say goodbye to tangled cables with our Wireless Charging Pad. Simply place your devi...\n",
      "\n",
      "> Merging 1 nodes into parent node.\n",
      "> Parent node id: 8d051cad-1575-4802-b651-8154095875f4.\n",
      "> Parent node text: Description: Unleash your inner chef with our Culinary Knife Set. This set includes a range of hi...\n",
      "\n",
      "> Merging 1 nodes into parent node.\n",
      "> Parent node id: 32298bc7-6587-4a0c-a782-42e6086573b9.\n",
      "> Parent node text: Description: Elevate your style with our Luxury Leather Wallet. Handcrafted from premium leather,...\n",
      "\n",
      "> Merging 1 nodes into parent node.\n",
      "> Parent node id: 715cfa53-43b5-4728-b1af-6cb4599fcd0d.\n",
      "> Parent node text: Description: Keep your home safe and secure with our SmartHome Security Camera System. This compr...\n",
      "\n",
      "> Merging 1 nodes into parent node.\n",
      "> Parent node id: a575913a-23ac-495e-a9d2-8a8e871c4b7c.\n",
      "> Parent node text: Description: Immerse yourself in virtual worlds with our Virtual Reality Headset. Experience gami...\n",
      "\n",
      "> Merging 1 nodes into parent node.\n",
      "> Parent node id: c4289c7f-2158-48cf-9cb6-cbd1a1134ec5.\n",
      "> Parent node text: Description: Achieve your fitness goals with our Fitness Tracker Smartwatch. Monitor your activit...\n",
      "\n",
      "> Merging 1 nodes into parent node.\n",
      "> Parent node id: 9220009c-fd48-4971-ab1e-b480c7af1b77.\n",
      "> Parent node text: Description: Savor the soothing flavors of our Organic Herbal Tea Collection. Crafted from handpi...\n",
      "\n",
      "> Merging 1 nodes into parent node.\n",
      "> Parent node id: f5ae08fb-1152-47e9-9956-e076c706dd56.\n",
      "> Parent node text: Description: Experience ultimate comfort with our Organic Bamboo Bed Sheets. These luxuriously so...\n",
      "\n",
      "> Merging 1 nodes into parent node.\n",
      "> Parent node id: fc0c1c58-ec9a-4f69-a0b8-0606e09458c4.\n",
      "> Parent node text: Description: Elevate your music experience with our Ultimate Wireless Bluetooth Earbuds. These ea...\n",
      "\n",
      "> Merging 1 nodes into parent node.\n",
      "> Parent node id: 25823184-ab6b-4a5c-b075-09d7f0aea42f.\n",
      "> Parent node text: Description: Brew barista-quality coffee at home with our Professional Espresso Machine. This mac...\n",
      "\n",
      "> Merging 1 nodes into parent node.\n",
      "> Parent node id: c2d63029-d328-4f10-97e4-0b300b36b2c2.\n",
      "> Parent node text: Description: Get a full-body workout at home with our Home Gym Resistance Bands Set. These versat...\n",
      "\n",
      "> Merging 1 nodes into parent node.\n",
      "> Parent node id: 18ccca33-7faf-4819-944a-5fc77c54357e.\n",
      "> Parent node text: Description: Stay charged on the go with our Portable Solar Charger. Harness the power of the sun...\n",
      "\n",
      "> Merging 1 nodes into parent node.\n",
      "> Parent node id: 35025ed9-d7a2-438d-9bb8-6c4fb0aa8e6a.\n",
      "> Parent node text: Description: Say goodbye to tangled cables with our Wireless Charging Pad. Simply place your devi...\n",
      "\n",
      "> Merging 1 nodes into parent node.\n",
      "> Parent node id: 2ba5d52a-3967-43b6-9f03-99b31cf39f01.\n",
      "> Parent node text: Description: Unleash your inner chef with our Culinary Knife Set. This set includes a range of hi...\n",
      "\n",
      "> Merging 1 nodes into parent node.\n",
      "> Parent node id: 437823a9-3170-4c4e-bf25-3a93e7a92dc3.\n",
      "> Parent node text: Description: Elevate your style with our Luxury Leather Wallet. Handcrafted from premium leather,...\n",
      "\n",
      "> Merging 1 nodes into parent node.\n",
      "> Parent node id: 11c61f48-86c0-49b5-af29-29dfacb2f0d7.\n",
      "> Parent node text: Description: Keep your home safe and secure with our SmartHome Security Camera System. This compr...\n",
      "\n",
      "> Merging 1 nodes into parent node.\n",
      "> Parent node id: b418eb91-3956-4afc-ac13-9e278888e147.\n",
      "> Parent node text: Description: Immerse yourself in virtual worlds with our Virtual Reality Headset. Experience gami...\n",
      "\n",
      "> Merging 1 nodes into parent node.\n",
      "> Parent node id: 8c348280-8ae8-4c14-b95f-7e476b00c898.\n",
      "> Parent node text: Description: Achieve your fitness goals with our Fitness Tracker Smartwatch. Monitor your activit...\n",
      "\n"
     ]
    },
    {
     "data": {
      "text/markdown": [
       "**`Final Response:`** The products whose descriptions are similar are the Organic Herbal Tea Collection and the Portable Solar Charger."
      ],
      "text/plain": [
       "<IPython.core.display.Markdown object>"
      ]
     },
     "metadata": {},
     "output_type": "display_data"
    }
   ],
   "source": [
    "retry_source_query_engine = RetrySourceQueryEngine(\n",
    "    query_engine, query_response_evaluator\n",
    ")\n",
    "retry_source_response = retry_source_query_engine.query(\"list the products whose descriptions are similar.\")\n",
    "display_response(retry_source_response)\n"
   ]
  },
  {
   "attachments": {},
   "cell_type": "markdown",
   "metadata": {},
   "source": [
    "## Customize Retry Guideline Query Engine"
   ]
  },
  {
   "cell_type": "code",
   "execution_count": 76,
   "metadata": {},
   "outputs": [],
   "source": [
    "# Guideline eval\n",
    "guideline_eval = GuidelineEvaluator(\n",
    "    guidelines=DEFAULT_GUIDELINES\n",
    "    + \"\\nThe response should not be overly long.\\n\"\n",
    "    \"The response should try to summarize where possible.\\n\"\n",
    "    \"First, answer the question\\n\"\n",
    "    \"Second provide the reason, why you choose that answer.\\n\"\n",
    ")  # just for example"
   ]
  },
  {
   "cell_type": "code",
   "execution_count": 77,
   "metadata": {},
   "outputs": [
    {
     "data": {
      "text/html": [
       "<pre style=\"white-space:pre;overflow-x:auto;line-height:normal;font-family:Menlo,'DejaVu Sans Mono',consolas,'Courier New',monospace\">Guideline eval evaluation result: The response does not fully answer the query. It only lists two products without \n",
       "providing any explanation or reasoning for why they are considered similar. Additionally, the response does not \n",
       "provide any statistics or numbers to support the claim. It is also vague and lacks specificity.\n",
       "</pre>\n"
      ],
      "text/plain": [
       "Guideline eval evaluation result: The response does not fully answer the query. It only lists two products without \n",
       "providing any explanation or reasoning for why they are considered similar. Additionally, the response does not \n",
       "provide any statistics or numbers to support the claim. It is also vague and lacks specificity.\n"
      ]
     },
     "metadata": {},
     "output_type": "display_data"
    },
    {
     "data": {
      "text/html": [
       "<pre style=\"white-space:pre;overflow-x:auto;line-height:normal;font-family:Menlo,'DejaVu Sans Mono',consolas,'Courier New',monospace\">Transformed query: Here is a previous bad answer.\n",
       "The products whose descriptions are similar are the Organic Herbal Tea Collection and the Portable Solar Charger.\n",
       "Here is some feedback from the evaluator about the response given.\n",
       "The response does not fully answer the query. It only lists two products without providing any explanation or \n",
       "reasoning for why they are considered similar. Additionally, the response does not provide any statistics or \n",
       "numbers to support the claim. It is also vague and lacks specificity.\n",
       "Now answer the question.\n",
       "Please return the modified query below.\n",
       "</pre>\n"
      ],
      "text/plain": [
       "Transformed query: Here is a previous bad answer.\n",
       "The products whose descriptions are similar are the Organic Herbal Tea Collection and the Portable Solar Charger.\n",
       "Here is some feedback from the evaluator about the response given.\n",
       "The response does not fully answer the query. It only lists two products without providing any explanation or \n",
       "reasoning for why they are considered similar. Additionally, the response does not provide any statistics or \n",
       "numbers to support the claim. It is also vague and lacks specificity.\n",
       "Now answer the question.\n",
       "Please return the modified query below.\n"
      ]
     },
     "metadata": {},
     "output_type": "display_data"
    }
   ],
   "source": [
    "query = \"list the products whose descriptions are similar.\"\n",
    "typed_response = (\n",
    "    retry_source_response if isinstance(retry_source_response, Response) else retry_source_response.get_response()\n",
    ")\n",
    "eval = guideline_eval.evaluate_response(query, typed_response)\n",
    "print(f\"Guideline eval evaluation result: {eval.feedback}\")\n",
    "\n",
    "feedback_query_transform = FeedbackQueryTransformation(resynthesize_query=True)\n",
    "transformed_query = feedback_query_transform.run(query, {\"evaluation\": eval})\n",
    "print(f\"Transformed query: {transformed_query.query_str}\")"
   ]
  },
  {
   "cell_type": "code",
   "execution_count": 78,
   "metadata": {},
   "outputs": [
    {
     "name": "stdout",
     "output_type": "stream",
     "text": [
      "> Merging 1 nodes into parent node.\n",
      "> Parent node id: 258e6bee-6460-4615-977e-36ee94589de9.\n",
      "> Parent node text: Description: Savor the soothing flavors of our Organic Herbal Tea Collection. Crafted from handpi...\n",
      "\n",
      "> Merging 1 nodes into parent node.\n",
      "> Parent node id: cbb15697-a3fa-48b9-b2cd-bcf5cad50adb.\n",
      "> Parent node text: Description: Experience ultimate comfort with our Organic Bamboo Bed Sheets. These luxuriously so...\n",
      "\n",
      "> Merging 1 nodes into parent node.\n",
      "> Parent node id: bf395249-9811-44fc-b758-e6b54cf05f71.\n",
      "> Parent node text: Description: Elevate your music experience with our Ultimate Wireless Bluetooth Earbuds. These ea...\n",
      "\n",
      "> Merging 1 nodes into parent node.\n",
      "> Parent node id: 5f07a55b-3911-40e3-a07a-c171ffeeb945.\n",
      "> Parent node text: Description: Brew barista-quality coffee at home with our Professional Espresso Machine. This mac...\n",
      "\n",
      "> Merging 1 nodes into parent node.\n",
      "> Parent node id: 4a78319c-8c49-49ab-9713-440d769a86bc.\n",
      "> Parent node text: Description: Get a full-body workout at home with our Home Gym Resistance Bands Set. These versat...\n",
      "\n",
      "> Merging 1 nodes into parent node.\n",
      "> Parent node id: d757b516-63da-4100-9231-ae3ba828071a.\n",
      "> Parent node text: Description: Stay charged on the go with our Portable Solar Charger. Harness the power of the sun...\n",
      "\n",
      "> Merging 1 nodes into parent node.\n",
      "> Parent node id: 41a2b0da-3087-49ad-bf13-4fb60d8a7339.\n",
      "> Parent node text: Description: Say goodbye to tangled cables with our Wireless Charging Pad. Simply place your devi...\n",
      "\n",
      "> Merging 1 nodes into parent node.\n",
      "> Parent node id: 8d051cad-1575-4802-b651-8154095875f4.\n",
      "> Parent node text: Description: Unleash your inner chef with our Culinary Knife Set. This set includes a range of hi...\n",
      "\n",
      "> Merging 1 nodes into parent node.\n",
      "> Parent node id: 32298bc7-6587-4a0c-a782-42e6086573b9.\n",
      "> Parent node text: Description: Elevate your style with our Luxury Leather Wallet. Handcrafted from premium leather,...\n",
      "\n",
      "> Merging 1 nodes into parent node.\n",
      "> Parent node id: 715cfa53-43b5-4728-b1af-6cb4599fcd0d.\n",
      "> Parent node text: Description: Keep your home safe and secure with our SmartHome Security Camera System. This compr...\n",
      "\n",
      "> Merging 1 nodes into parent node.\n",
      "> Parent node id: a575913a-23ac-495e-a9d2-8a8e871c4b7c.\n",
      "> Parent node text: Description: Immerse yourself in virtual worlds with our Virtual Reality Headset. Experience gami...\n",
      "\n",
      "> Merging 1 nodes into parent node.\n",
      "> Parent node id: c4289c7f-2158-48cf-9cb6-cbd1a1134ec5.\n",
      "> Parent node text: Description: Achieve your fitness goals with our Fitness Tracker Smartwatch. Monitor your activit...\n",
      "\n",
      "> Merging 1 nodes into parent node.\n",
      "> Parent node id: 9220009c-fd48-4971-ab1e-b480c7af1b77.\n",
      "> Parent node text: Description: Savor the soothing flavors of our Organic Herbal Tea Collection. Crafted from handpi...\n",
      "\n",
      "> Merging 1 nodes into parent node.\n",
      "> Parent node id: f5ae08fb-1152-47e9-9956-e076c706dd56.\n",
      "> Parent node text: Description: Experience ultimate comfort with our Organic Bamboo Bed Sheets. These luxuriously so...\n",
      "\n",
      "> Merging 1 nodes into parent node.\n",
      "> Parent node id: fc0c1c58-ec9a-4f69-a0b8-0606e09458c4.\n",
      "> Parent node text: Description: Elevate your music experience with our Ultimate Wireless Bluetooth Earbuds. These ea...\n",
      "\n",
      "> Merging 1 nodes into parent node.\n",
      "> Parent node id: 25823184-ab6b-4a5c-b075-09d7f0aea42f.\n",
      "> Parent node text: Description: Brew barista-quality coffee at home with our Professional Espresso Machine. This mac...\n",
      "\n",
      "> Merging 1 nodes into parent node.\n",
      "> Parent node id: c2d63029-d328-4f10-97e4-0b300b36b2c2.\n",
      "> Parent node text: Description: Get a full-body workout at home with our Home Gym Resistance Bands Set. These versat...\n",
      "\n",
      "> Merging 1 nodes into parent node.\n",
      "> Parent node id: 18ccca33-7faf-4819-944a-5fc77c54357e.\n",
      "> Parent node text: Description: Stay charged on the go with our Portable Solar Charger. Harness the power of the sun...\n",
      "\n",
      "> Merging 1 nodes into parent node.\n",
      "> Parent node id: 35025ed9-d7a2-438d-9bb8-6c4fb0aa8e6a.\n",
      "> Parent node text: Description: Say goodbye to tangled cables with our Wireless Charging Pad. Simply place your devi...\n",
      "\n",
      "> Merging 1 nodes into parent node.\n",
      "> Parent node id: 2ba5d52a-3967-43b6-9f03-99b31cf39f01.\n",
      "> Parent node text: Description: Unleash your inner chef with our Culinary Knife Set. This set includes a range of hi...\n",
      "\n",
      "> Merging 1 nodes into parent node.\n",
      "> Parent node id: 437823a9-3170-4c4e-bf25-3a93e7a92dc3.\n",
      "> Parent node text: Description: Elevate your style with our Luxury Leather Wallet. Handcrafted from premium leather,...\n",
      "\n",
      "> Merging 1 nodes into parent node.\n",
      "> Parent node id: 11c61f48-86c0-49b5-af29-29dfacb2f0d7.\n",
      "> Parent node text: Description: Keep your home safe and secure with our SmartHome Security Camera System. This compr...\n",
      "\n",
      "> Merging 1 nodes into parent node.\n",
      "> Parent node id: b418eb91-3956-4afc-ac13-9e278888e147.\n",
      "> Parent node text: Description: Immerse yourself in virtual worlds with our Virtual Reality Headset. Experience gami...\n",
      "\n",
      "> Merging 1 nodes into parent node.\n",
      "> Parent node id: 8c348280-8ae8-4c14-b95f-7e476b00c898.\n",
      "> Parent node text: Description: Achieve your fitness goals with our Fitness Tracker Smartwatch. Monitor your activit...\n",
      "\n",
      "> Merging 1 nodes into parent node.\n",
      "> Parent node id: 258e6bee-6460-4615-977e-36ee94589de9.\n",
      "> Parent node text: Description: Savor the soothing flavors of our Organic Herbal Tea Collection. Crafted from handpi...\n",
      "\n",
      "> Merging 1 nodes into parent node.\n",
      "> Parent node id: cbb15697-a3fa-48b9-b2cd-bcf5cad50adb.\n",
      "> Parent node text: Description: Experience ultimate comfort with our Organic Bamboo Bed Sheets. These luxuriously so...\n",
      "\n",
      "> Merging 1 nodes into parent node.\n",
      "> Parent node id: bf395249-9811-44fc-b758-e6b54cf05f71.\n",
      "> Parent node text: Description: Elevate your music experience with our Ultimate Wireless Bluetooth Earbuds. These ea...\n",
      "\n",
      "> Merging 1 nodes into parent node.\n",
      "> Parent node id: 5f07a55b-3911-40e3-a07a-c171ffeeb945.\n",
      "> Parent node text: Description: Brew barista-quality coffee at home with our Professional Espresso Machine. This mac...\n",
      "\n",
      "> Merging 1 nodes into parent node.\n",
      "> Parent node id: 4a78319c-8c49-49ab-9713-440d769a86bc.\n",
      "> Parent node text: Description: Get a full-body workout at home with our Home Gym Resistance Bands Set. These versat...\n",
      "\n",
      "> Merging 1 nodes into parent node.\n",
      "> Parent node id: d757b516-63da-4100-9231-ae3ba828071a.\n",
      "> Parent node text: Description: Stay charged on the go with our Portable Solar Charger. Harness the power of the sun...\n",
      "\n",
      "> Merging 1 nodes into parent node.\n",
      "> Parent node id: 41a2b0da-3087-49ad-bf13-4fb60d8a7339.\n",
      "> Parent node text: Description: Say goodbye to tangled cables with our Wireless Charging Pad. Simply place your devi...\n",
      "\n",
      "> Merging 1 nodes into parent node.\n",
      "> Parent node id: 8d051cad-1575-4802-b651-8154095875f4.\n",
      "> Parent node text: Description: Unleash your inner chef with our Culinary Knife Set. This set includes a range of hi...\n",
      "\n",
      "> Merging 1 nodes into parent node.\n",
      "> Parent node id: 32298bc7-6587-4a0c-a782-42e6086573b9.\n",
      "> Parent node text: Description: Elevate your style with our Luxury Leather Wallet. Handcrafted from premium leather,...\n",
      "\n",
      "> Merging 1 nodes into parent node.\n",
      "> Parent node id: 715cfa53-43b5-4728-b1af-6cb4599fcd0d.\n",
      "> Parent node text: Description: Keep your home safe and secure with our SmartHome Security Camera System. This compr...\n",
      "\n",
      "> Merging 1 nodes into parent node.\n",
      "> Parent node id: a575913a-23ac-495e-a9d2-8a8e871c4b7c.\n",
      "> Parent node text: Description: Immerse yourself in virtual worlds with our Virtual Reality Headset. Experience gami...\n",
      "\n",
      "> Merging 1 nodes into parent node.\n",
      "> Parent node id: c4289c7f-2158-48cf-9cb6-cbd1a1134ec5.\n",
      "> Parent node text: Description: Achieve your fitness goals with our Fitness Tracker Smartwatch. Monitor your activit...\n",
      "\n",
      "> Merging 1 nodes into parent node.\n",
      "> Parent node id: 9220009c-fd48-4971-ab1e-b480c7af1b77.\n",
      "> Parent node text: Description: Savor the soothing flavors of our Organic Herbal Tea Collection. Crafted from handpi...\n",
      "\n",
      "> Merging 1 nodes into parent node.\n",
      "> Parent node id: f5ae08fb-1152-47e9-9956-e076c706dd56.\n",
      "> Parent node text: Description: Experience ultimate comfort with our Organic Bamboo Bed Sheets. These luxuriously so...\n",
      "\n",
      "> Merging 1 nodes into parent node.\n",
      "> Parent node id: fc0c1c58-ec9a-4f69-a0b8-0606e09458c4.\n",
      "> Parent node text: Description: Elevate your music experience with our Ultimate Wireless Bluetooth Earbuds. These ea...\n",
      "\n",
      "> Merging 1 nodes into parent node.\n",
      "> Parent node id: 25823184-ab6b-4a5c-b075-09d7f0aea42f.\n",
      "> Parent node text: Description: Brew barista-quality coffee at home with our Professional Espresso Machine. This mac...\n",
      "\n",
      "> Merging 1 nodes into parent node.\n",
      "> Parent node id: c2d63029-d328-4f10-97e4-0b300b36b2c2.\n",
      "> Parent node text: Description: Get a full-body workout at home with our Home Gym Resistance Bands Set. These versat...\n",
      "\n",
      "> Merging 1 nodes into parent node.\n",
      "> Parent node id: 18ccca33-7faf-4819-944a-5fc77c54357e.\n",
      "> Parent node text: Description: Stay charged on the go with our Portable Solar Charger. Harness the power of the sun...\n",
      "\n",
      "> Merging 1 nodes into parent node.\n",
      "> Parent node id: 35025ed9-d7a2-438d-9bb8-6c4fb0aa8e6a.\n",
      "> Parent node text: Description: Say goodbye to tangled cables with our Wireless Charging Pad. Simply place your devi...\n",
      "\n",
      "> Merging 1 nodes into parent node.\n",
      "> Parent node id: 2ba5d52a-3967-43b6-9f03-99b31cf39f01.\n",
      "> Parent node text: Description: Unleash your inner chef with our Culinary Knife Set. This set includes a range of hi...\n",
      "\n",
      "> Merging 1 nodes into parent node.\n",
      "> Parent node id: 437823a9-3170-4c4e-bf25-3a93e7a92dc3.\n",
      "> Parent node text: Description: Elevate your style with our Luxury Leather Wallet. Handcrafted from premium leather,...\n",
      "\n",
      "> Merging 1 nodes into parent node.\n",
      "> Parent node id: 11c61f48-86c0-49b5-af29-29dfacb2f0d7.\n",
      "> Parent node text: Description: Keep your home safe and secure with our SmartHome Security Camera System. This compr...\n",
      "\n",
      "> Merging 1 nodes into parent node.\n",
      "> Parent node id: b418eb91-3956-4afc-ac13-9e278888e147.\n",
      "> Parent node text: Description: Immerse yourself in virtual worlds with our Virtual Reality Headset. Experience gami...\n",
      "\n",
      "> Merging 1 nodes into parent node.\n",
      "> Parent node id: 8c348280-8ae8-4c14-b95f-7e476b00c898.\n",
      "> Parent node text: Description: Achieve your fitness goals with our Fitness Tracker Smartwatch. Monitor your activit...\n",
      "\n",
      "> Merging 1 nodes into parent node.\n",
      "> Parent node id: 258e6bee-6460-4615-977e-36ee94589de9.\n",
      "> Parent node text: Description: Savor the soothing flavors of our Organic Herbal Tea Collection. Crafted from handpi...\n",
      "\n",
      "> Merging 1 nodes into parent node.\n",
      "> Parent node id: d757b516-63da-4100-9231-ae3ba828071a.\n",
      "> Parent node text: Description: Stay charged on the go with our Portable Solar Charger. Harness the power of the sun...\n",
      "\n",
      "> Merging 1 nodes into parent node.\n",
      "> Parent node id: 41a2b0da-3087-49ad-bf13-4fb60d8a7339.\n",
      "> Parent node text: Description: Say goodbye to tangled cables with our Wireless Charging Pad. Simply place your devi...\n",
      "\n",
      "> Merging 1 nodes into parent node.\n",
      "> Parent node id: bf395249-9811-44fc-b758-e6b54cf05f71.\n",
      "> Parent node text: Description: Elevate your music experience with our Ultimate Wireless Bluetooth Earbuds. These ea...\n",
      "\n",
      "> Merging 1 nodes into parent node.\n",
      "> Parent node id: 715cfa53-43b5-4728-b1af-6cb4599fcd0d.\n",
      "> Parent node text: Description: Keep your home safe and secure with our SmartHome Security Camera System. This compr...\n",
      "\n",
      "> Merging 1 nodes into parent node.\n",
      "> Parent node id: 5f07a55b-3911-40e3-a07a-c171ffeeb945.\n",
      "> Parent node text: Description: Brew barista-quality coffee at home with our Professional Espresso Machine. This mac...\n",
      "\n",
      "> Merging 1 nodes into parent node.\n",
      "> Parent node id: cbb15697-a3fa-48b9-b2cd-bcf5cad50adb.\n",
      "> Parent node text: Description: Experience ultimate comfort with our Organic Bamboo Bed Sheets. These luxuriously so...\n",
      "\n",
      "> Merging 1 nodes into parent node.\n",
      "> Parent node id: c4289c7f-2158-48cf-9cb6-cbd1a1134ec5.\n",
      "> Parent node text: Description: Achieve your fitness goals with our Fitness Tracker Smartwatch. Monitor your activit...\n",
      "\n",
      "> Merging 1 nodes into parent node.\n",
      "> Parent node id: 4a78319c-8c49-49ab-9713-440d769a86bc.\n",
      "> Parent node text: Description: Get a full-body workout at home with our Home Gym Resistance Bands Set. These versat...\n",
      "\n",
      "> Merging 1 nodes into parent node.\n",
      "> Parent node id: 32298bc7-6587-4a0c-a782-42e6086573b9.\n",
      "> Parent node text: Description: Elevate your style with our Luxury Leather Wallet. Handcrafted from premium leather,...\n",
      "\n",
      "> Merging 1 nodes into parent node.\n",
      "> Parent node id: 8d051cad-1575-4802-b651-8154095875f4.\n",
      "> Parent node text: Description: Unleash your inner chef with our Culinary Knife Set. This set includes a range of hi...\n",
      "\n",
      "> Merging 1 nodes into parent node.\n",
      "> Parent node id: a575913a-23ac-495e-a9d2-8a8e871c4b7c.\n",
      "> Parent node text: Description: Immerse yourself in virtual worlds with our Virtual Reality Headset. Experience gami...\n",
      "\n",
      "> Merging 1 nodes into parent node.\n",
      "> Parent node id: 9220009c-fd48-4971-ab1e-b480c7af1b77.\n",
      "> Parent node text: Description: Savor the soothing flavors of our Organic Herbal Tea Collection. Crafted from handpi...\n",
      "\n",
      "> Merging 1 nodes into parent node.\n",
      "> Parent node id: 18ccca33-7faf-4819-944a-5fc77c54357e.\n",
      "> Parent node text: Description: Stay charged on the go with our Portable Solar Charger. Harness the power of the sun...\n",
      "\n",
      "> Merging 1 nodes into parent node.\n",
      "> Parent node id: 35025ed9-d7a2-438d-9bb8-6c4fb0aa8e6a.\n",
      "> Parent node text: Description: Say goodbye to tangled cables with our Wireless Charging Pad. Simply place your devi...\n",
      "\n",
      "> Merging 1 nodes into parent node.\n",
      "> Parent node id: fc0c1c58-ec9a-4f69-a0b8-0606e09458c4.\n",
      "> Parent node text: Description: Elevate your music experience with our Ultimate Wireless Bluetooth Earbuds. These ea...\n",
      "\n",
      "> Merging 1 nodes into parent node.\n",
      "> Parent node id: 11c61f48-86c0-49b5-af29-29dfacb2f0d7.\n",
      "> Parent node text: Description: Keep your home safe and secure with our SmartHome Security Camera System. This compr...\n",
      "\n",
      "> Merging 1 nodes into parent node.\n",
      "> Parent node id: 25823184-ab6b-4a5c-b075-09d7f0aea42f.\n",
      "> Parent node text: Description: Brew barista-quality coffee at home with our Professional Espresso Machine. This mac...\n",
      "\n",
      "> Merging 1 nodes into parent node.\n",
      "> Parent node id: f5ae08fb-1152-47e9-9956-e076c706dd56.\n",
      "> Parent node text: Description: Experience ultimate comfort with our Organic Bamboo Bed Sheets. These luxuriously so...\n",
      "\n",
      "> Merging 1 nodes into parent node.\n",
      "> Parent node id: 8c348280-8ae8-4c14-b95f-7e476b00c898.\n",
      "> Parent node text: Description: Achieve your fitness goals with our Fitness Tracker Smartwatch. Monitor your activit...\n",
      "\n",
      "> Merging 1 nodes into parent node.\n",
      "> Parent node id: c2d63029-d328-4f10-97e4-0b300b36b2c2.\n",
      "> Parent node text: Description: Get a full-body workout at home with our Home Gym Resistance Bands Set. These versat...\n",
      "\n",
      "> Merging 1 nodes into parent node.\n",
      "> Parent node id: 437823a9-3170-4c4e-bf25-3a93e7a92dc3.\n",
      "> Parent node text: Description: Elevate your style with our Luxury Leather Wallet. Handcrafted from premium leather,...\n",
      "\n",
      "> Merging 1 nodes into parent node.\n",
      "> Parent node id: 2ba5d52a-3967-43b6-9f03-99b31cf39f01.\n",
      "> Parent node text: Description: Unleash your inner chef with our Culinary Knife Set. This set includes a range of hi...\n",
      "\n",
      "> Merging 1 nodes into parent node.\n",
      "> Parent node id: b418eb91-3956-4afc-ac13-9e278888e147.\n",
      "> Parent node text: Description: Immerse yourself in virtual worlds with our Virtual Reality Headset. Experience gami...\n",
      "\n"
     ]
    },
    {
     "data": {
      "text/markdown": [
       "**`Final Response:`** I apologize for the confusion earlier. Unfortunately, I was unable to find any additional products with similar descriptions in the database. However, I can provide more information about the two products mentioned earlier, the Ultimate Wireless Bluetooth Earbuds and the SmartHome Security Camera System, if you would like."
      ],
      "text/plain": [
       "<IPython.core.display.Markdown object>"
      ]
     },
     "metadata": {},
     "output_type": "display_data"
    }
   ],
   "source": [
    "retry_guideline_query_engine = RetryGuidelineQueryEngine(\n",
    "    query_engine, guideline_eval, resynthesize_query=True, \n",
    "     max_retries=3,)\n",
    "retry_guideline_response = retry_guideline_query_engine.query(query)\n",
    "# rprint(retry_guideline_response.response)\n",
    "display_response(retry_guideline_response)"
   ]
  },
  {
   "attachments": {},
   "cell_type": "markdown",
   "metadata": {},
   "source": [
    "## Another example of self correcting query"
   ]
  },
  {
   "cell_type": "code",
   "execution_count": 79,
   "metadata": {},
   "outputs": [
    {
     "data": {
      "text/markdown": [
       "**`Final Response:`** The sum of all prices for all products whose price is $79.99 is $159.98."
      ],
      "text/plain": [
       "<IPython.core.display.Markdown object>"
      ]
     },
     "metadata": {},
     "output_type": "display_data"
    },
    {
     "data": {
      "text/html": [
       "<pre style=\"white-space:pre;overflow-x:auto;line-height:normal;font-family:Menlo,'DejaVu Sans Mono',consolas,'Courier New',monospace\">Guideline eval evaluation result: The response does not fully answer the query. It only provides the sum of prices \n",
       "for products with a price of $<span style=\"color: #008080; text-decoration-color: #008080; font-weight: bold\">79.99</span>, but it does not specify the reason for choosing that answer. Additionally, the\n",
       "response is not specific and does not use statistics or numbers. It should provide more information and be more \n",
       "concise.\n",
       "</pre>\n"
      ],
      "text/plain": [
       "Guideline eval evaluation result: The response does not fully answer the query. It only provides the sum of prices \n",
       "for products with a price of $\u001b[1;36m79.99\u001b[0m, but it does not specify the reason for choosing that answer. Additionally, the\n",
       "response is not specific and does not use statistics or numbers. It should provide more information and be more \n",
       "concise.\n"
      ]
     },
     "metadata": {},
     "output_type": "display_data"
    },
    {
     "data": {
      "text/html": [
       "<pre style=\"white-space:pre;overflow-x:auto;line-height:normal;font-family:Menlo,'DejaVu Sans Mono',consolas,'Courier New',monospace\">Transformed query: Here is a previous bad answer.\n",
       "The sum of all prices for all products whose price is $<span style=\"color: #008080; text-decoration-color: #008080; font-weight: bold\">79.99</span> is $<span style=\"color: #008080; text-decoration-color: #008080; font-weight: bold\">159.98</span>.\n",
       "Here is some feedback from the evaluator about the response given.\n",
       "The response does not fully answer the query. It only provides the sum of prices for products with a price of \n",
       "$<span style=\"color: #008080; text-decoration-color: #008080; font-weight: bold\">79.99</span>, but it does not specify the reason for choosing that answer. Additionally, the response is not specific and\n",
       "does not use statistics or numbers. It should provide more information and be more concise.\n",
       "Now answer the question.\n",
       "What is the total cost of all products priced at $<span style=\"color: #008080; text-decoration-color: #008080; font-weight: bold\">79.99</span>?\n",
       "</pre>\n"
      ],
      "text/plain": [
       "Transformed query: Here is a previous bad answer.\n",
       "The sum of all prices for all products whose price is $\u001b[1;36m79.99\u001b[0m is $\u001b[1;36m159.98\u001b[0m.\n",
       "Here is some feedback from the evaluator about the response given.\n",
       "The response does not fully answer the query. It only provides the sum of prices for products with a price of \n",
       "$\u001b[1;36m79.99\u001b[0m, but it does not specify the reason for choosing that answer. Additionally, the response is not specific and\n",
       "does not use statistics or numbers. It should provide more information and be more concise.\n",
       "Now answer the question.\n",
       "What is the total cost of all products priced at $\u001b[1;36m79.99\u001b[0m?\n"
      ]
     },
     "metadata": {},
     "output_type": "display_data"
    }
   ],
   "source": [
    "# test another query\n",
    "\n",
    "query = \"What is the sum of all prices for all products whose price is $79.99?\"\n",
    "response = query_engine.query(query)\n",
    "display_response(response)\n",
    "# print(str(response))\n",
    "typed_response = (\n",
    "    response if isinstance(response, Response) else response.get_response()\n",
    ")\n",
    "eval = guideline_eval.evaluate_response(query, typed_response)\n",
    "print(f\"Guideline eval evaluation result: {eval.feedback}\")\n",
    "\n",
    "feedback_query_transform = FeedbackQueryTransformation(resynthesize_query=True)\n",
    "transformed_query = feedback_query_transform.run(query, {\"evaluation\": eval})\n",
    "print(f\"Transformed query: {transformed_query.query_str}\")"
   ]
  },
  {
   "cell_type": "code",
   "execution_count": 80,
   "metadata": {},
   "outputs": [
    {
     "data": {
      "text/markdown": [
       "**`Final Response:`** The total sum of prices for all products with a price of $79.99 is $159.98. This answer is based on the SQL query that calculates the sum of prices for products with a price of $79.99."
      ],
      "text/plain": [
       "<IPython.core.display.Markdown object>"
      ]
     },
     "metadata": {},
     "output_type": "display_data"
    }
   ],
   "source": [
    "retry_guideline_query_engine = RetryGuidelineQueryEngine(\n",
    "    query_engine, guideline_eval, resynthesize_query=True,\n",
    "    max_retries=2,\n",
    ")\n",
    "retry_guideline_response = retry_guideline_query_engine.query(query)\n",
    "display_response(retry_guideline_response)"
   ]
  }
 ],
 "metadata": {
  "kernelspec": {
   "display_name": "Python 3",
   "language": "python",
   "name": "python3"
  },
  "language_info": {
   "codemirror_mode": {
    "name": "ipython",
    "version": 3
   },
   "file_extension": ".py",
   "mimetype": "text/x-python",
   "name": "python",
   "nbconvert_exporter": "python",
   "pygments_lexer": "ipython3",
   "version": "3.10.10"
  },
  "orig_nbformat": 4
 },
 "nbformat": 4,
 "nbformat_minor": 2
}
