{
 "cells": [
  {
   "cell_type": "code",
   "execution_count": 1,
   "metadata": {},
   "outputs": [
    {
     "name": "stderr",
     "output_type": "stream",
     "text": [
      "/home/zeus/miniconda3/envs/cloudspace/lib/python3.10/site-packages/pydantic/_internal/_generate_schema.py:606: PydanticDeprecatedSince20: `__get_validators__` is deprecated and will be removed, use `__get_pydantic_core_schema__` instead. Deprecated in Pydantic V2.0 to be removed in V3.0. See Pydantic V2 Migration Guide at https://errors.pydantic.dev/2.5/migration/\n",
      "  warn(\n",
      "/home/zeus/miniconda3/envs/cloudspace/lib/python3.10/site-packages/pydantic/v1/main.py:304: PydanticDeprecatedSince20: The `__fields__` attribute is deprecated, use `model_fields` instead. Deprecated in Pydantic V2.0 to be removed in V3.0. See Pydantic V2 Migration Guide at https://errors.pydantic.dev/2.5/migration/\n",
      "  return hasattr(instance, '__fields__') and super().__instancecheck__(instance)\n",
      "/home/zeus/miniconda3/envs/cloudspace/lib/python3.10/site-packages/pydantic/main.py:952: PydanticDeprecatedSince20: The `__fields__` attribute is deprecated, use `model_fields` instead. Deprecated in Pydantic V2.0 to be removed in V3.0. See Pydantic V2 Migration Guide at https://errors.pydantic.dev/2.5/migration/\n",
      "  warnings.warn('The `__fields__` attribute is deprecated, use `model_fields` instead.', DeprecationWarning)\n"
     ]
    },
    {
     "name": "stdout",
     "output_type": "stream",
     "text": [
      "✅ In Answer Relevance, input prompt will be set to __record__.main_input or `Select.RecordInput` .\n",
      "✅ In Answer Relevance, input response will be set to __record__.main_output or `Select.RecordOutput` .\n",
      "✅ In Context Relevance, input prompt will be set to __record__.main_input or `Select.RecordInput` .\n",
      "✅ In Context Relevance, input response will be set to __record__.app.query.rets.source_nodes[:].node.text .\n",
      "✅ In Groundedness, input source will be set to __record__.app.query.rets.source_nodes[:].node.text .\n",
      "✅ In Groundedness, input statement will be set to __record__.main_output or `Select.RecordOutput` .\n"
     ]
    }
   ],
   "source": [
    "# import for preprocessing\n",
    "import pandas as pd\n",
    "import duckdb\n",
    "from rich import print as rprint\n",
    "import logging\n",
    "import sys\n",
    "import sqlite3\n",
    "\n",
    "# llama index import to create sql DB\n",
    "from llama_index import (\n",
    "    SQLDatabase,\n",
    "    SimpleDirectoryReader,\n",
    "    Document,\n",
    "    StorageContext,\n",
    "    ServiceContext,\n",
    "    VectorStoreIndex,\n",
    "    OpenAIEmbedding,\n",
    "    set_global_service_context,\n",
    ")\n",
    "from llama_index.indices.struct_store import (\n",
    "    NLSQLTableQueryEngine,\n",
    "    SQLTableRetrieverQueryEngine,\n",
    ")\n",
    "from llama_index.llms import OpenAI\n",
    "\n",
    "# import for text 2 SQl query engine\n",
    "from llama_index.indices.struct_store.sql_query import (\n",
    "    NLSQLTableQueryEngine,\n",
    "    SQLTableRetrieverQueryEngine,\n",
    ")\n",
    "\n",
    "# iport if we do not know the name of table ahead of time\n",
    "from llama_index.objects import (\n",
    "    SQLTableNodeMapping,\n",
    "    ObjectIndex,\n",
    "    SQLTableSchema,\n",
    ")\n",
    "\n",
    "# import to set up query tool\n",
    "from llama_index.tools.query_engine import QueryEngineTool\n",
    "\n",
    "# import to set up query router\n",
    "from llama_index.query_engine.router_query_engine import RouterQueryEngine\n",
    "from llama_index.selectors.llm_selectors import LLMSingleSelector\n",
    "\n",
    "# import to set up weaviate\n",
    "from llama_index.vector_stores import WeaviateVectorStore\n",
    "\n",
    "import weaviate\n",
    "import openai\n",
    "\n",
    "from dotenv import find_dotenv, load_dotenv\n",
    "load_dotenv(find_dotenv())\n",
    "import os\n",
    "openai.api_key = os.getenv(\"OPENA_AI_KEY\")\n",
    "\n",
    "from IPython.display import Markdown, display\n",
    "\n",
    "\n",
    "from sqlalchemy import engine, MetaData, create_engine, text, select\n",
    "\n",
    "# Import modules for self correcting\n",
    "from llama_index.query_engine import RetryQueryEngine\n",
    "from llama_index.evaluation import RelevancyEvaluator\n",
    "from llama_index.query_engine import RetrySourceQueryEngine\n",
    "\n",
    "# Import modules to customize guidelines for what response shou look like\n",
    "from llama_index.evaluation.guideline import (\n",
    "    GuidelineEvaluator,\n",
    "    DEFAULT_GUIDELINES,\n",
    ")\n",
    "from llama_index.response.schema import Response\n",
    "from llama_index.indices.query.query_transform.feedback_transform import (\n",
    "    FeedbackQueryTransformation,\n",
    ")\n",
    "from llama_index.query_engine.retry_query_engine import (\n",
    "    RetryGuidelineQueryEngine,\n",
    ")\n",
    "\n",
    "# Needed for running async functions in Jupyter Notebook\n",
    "import nest_asyncio\n",
    "\n",
    "nest_asyncio.apply()\n",
    "\n",
    "# Tru Lens Evaluation\n",
    "# import sys\n",
    "# sys.path.append(os.path.dirname(find_dotenv()))\n",
    "# from utils import get_prebuilt_trulens_recorder\n",
    "# from trulens_eval import Tru\n",
    "\n",
    "# Import for senetnce window\n",
    "from utils import build_sentence_window_index\n",
    "from utils import  build_sentence_window_index_vector_DB\n"
   ]
  },
  {
   "cell_type": "code",
   "execution_count": 2,
   "metadata": {},
   "outputs": [],
   "source": [
    "auth_config = weaviate.AuthApiKey(api_key=\"A3qtEEX5ecjnVLzXZ3USPnTch4ucyzXdbruV\")\n",
    "\n",
    "client = weaviate.Client(\n",
    "  url=\"https://product-sent-window-u9bydbq6.weaviate.network\",\n",
    "  auth_client_secret=auth_config\n",
    ")"
   ]
  },
  {
   "attachments": {},
   "cell_type": "markdown",
   "metadata": {},
   "source": [
    "# 1. INGESTION"
   ]
  },
  {
   "attachments": {},
   "cell_type": "markdown",
   "metadata": {},
   "source": [
    "## Load the product data from file"
   ]
  },
  {
   "cell_type": "code",
   "execution_count": 4,
   "metadata": {},
   "outputs": [
    {
     "data": {
      "text/html": [
       "<pre style=\"white-space:pre;overflow-x:auto;line-height:normal;font-family:Menlo,'DejaVu Sans Mono',consolas,'Courier New',monospace\"><span style=\"color: #800080; text-decoration-color: #800080; font-weight: bold\">Index</span><span style=\"font-weight: bold\">([</span><span style=\"color: #008000; text-decoration-color: #008000\">'Product_Name'</span>, <span style=\"color: #008000; text-decoration-color: #008000\">'Price'</span>, <span style=\"color: #008000; text-decoration-color: #008000\">'Rating'</span>, <span style=\"color: #008000; text-decoration-color: #008000\">'Description'</span>, <span style=\"color: #008000; text-decoration-color: #008000\">'Features'</span><span style=\"font-weight: bold\">]</span>, <span style=\"color: #808000; text-decoration-color: #808000\">dtype</span>=<span style=\"color: #008000; text-decoration-color: #008000\">'object'</span><span style=\"font-weight: bold\">)</span>\n",
       "</pre>\n"
      ],
      "text/plain": [
       "\u001b[1;35mIndex\u001b[0m\u001b[1m(\u001b[0m\u001b[1m[\u001b[0m\u001b[32m'Product_Name'\u001b[0m, \u001b[32m'Price'\u001b[0m, \u001b[32m'Rating'\u001b[0m, \u001b[32m'Description'\u001b[0m, \u001b[32m'Features'\u001b[0m\u001b[1m]\u001b[0m, \u001b[33mdtype\u001b[0m=\u001b[32m'object'\u001b[0m\u001b[1m)\u001b[0m\n"
      ]
     },
     "metadata": {},
     "output_type": "display_data"
    }
   ],
   "source": [
    "filepath = \"/teamspace/studios/Data_Studio/product_listing/product_listing.csv\"\n",
    "data = pd.read_csv(filepath)\n",
    "data.columns = ['Product_Name', 'Price', 'Rating', 'Description', 'Features']\n",
    "rprint(data.columns)"
   ]
  },
  {
   "attachments": {},
   "cell_type": "markdown",
   "metadata": {},
   "source": [
    "## Create an sqlite DB for the product data"
   ]
  },
  {
   "cell_type": "code",
   "execution_count": 5,
   "metadata": {},
   "outputs": [
    {
     "data": {
      "text/plain": [
       "12"
      ]
     },
     "execution_count": 5,
     "metadata": {},
     "output_type": "execute_result"
    }
   ],
   "source": [
    "# Create a connection to an SQLite database file\n",
    "conn = sqlite3.connect('./data/product_sqlite.db')\n",
    "\n",
    "# Write the DataFrame to a table in the SQLite database\n",
    "data.to_sql('product_table', conn, if_exists='replace', index=False)"
   ]
  },
  {
   "cell_type": "code",
   "execution_count": 6,
   "metadata": {},
   "outputs": [
    {
     "data": {
      "text/html": [
       "<pre style=\"white-space:pre;overflow-x:auto;line-height:normal;font-family:Menlo,'DejaVu Sans Mono',consolas,'Courier New',monospace\"><span style=\"font-weight: bold\">(</span>\n",
       "    <span style=\"color: #008000; text-decoration-color: #008000\">'Ultimate Wireless Bluetooth Earbuds'</span>,\n",
       "    <span style=\"color: #008080; text-decoration-color: #008080; font-weight: bold\">79.99</span>,\n",
       "    <span style=\"color: #008080; text-decoration-color: #008080; font-weight: bold\">4.4</span>,\n",
       "    <span style=\"color: #008000; text-decoration-color: #008000\">\"Elevate your music experience with our Ultimate Wireless Bluetooth Earbuds. These earbuds are designed for </span>\n",
       "<span style=\"color: #008000; text-decoration-color: #008000\">audiophiles who demand premium sound quality and convenience. With advanced Bluetooth 5.0 technology, you'll enjoy </span>\n",
       "<span style=\"color: #008000; text-decoration-color: #008000\">seamless connectivity and crystal-clear audio.\"</span>,\n",
       "    <span style=\"color: #008000; text-decoration-color: #008000\">'- High-fidelity sound with deep bass and clear treble. - Noise-canceling technology for an immersive listening</span>\n",
       "<span style=\"color: #008000; text-decoration-color: #008000\">experience. - 20 hours of playtime on a single charge. - Ergonomic design for a secure and comfortable fit. - Touch</span>\n",
       "<span style=\"color: #008000; text-decoration-color: #008000\">controls for easy playback and calls. - IPX7 waterproof rating for workouts and outdoor activities. - Built-in </span>\n",
       "<span style=\"color: #008000; text-decoration-color: #008000\">microphone for hands-free calls.'</span>\n",
       "<span style=\"font-weight: bold\">)</span>\n",
       "</pre>\n"
      ],
      "text/plain": [
       "\u001b[1m(\u001b[0m\n",
       "    \u001b[32m'Ultimate Wireless Bluetooth Earbuds'\u001b[0m,\n",
       "    \u001b[1;36m79.99\u001b[0m,\n",
       "    \u001b[1;36m4.4\u001b[0m,\n",
       "    \u001b[32m\"Elevate your music experience with our Ultimate Wireless Bluetooth Earbuds. These earbuds are designed for \u001b[0m\n",
       "\u001b[32maudiophiles who demand premium sound quality and convenience. With advanced Bluetooth 5.0 technology, you'll enjoy \u001b[0m\n",
       "\u001b[32mseamless connectivity and crystal-clear audio.\"\u001b[0m,\n",
       "    \u001b[32m'- High-fidelity sound with deep bass and clear treble. - Noise-canceling technology for an immersive listening\u001b[0m\n",
       "\u001b[32mexperience. - 20 hours of playtime on a single charge. - Ergonomic design for a secure and comfortable fit. - Touch\u001b[0m\n",
       "\u001b[32mcontrols for easy playback and calls. - IPX7 waterproof rating for workouts and outdoor activities. - Built-in \u001b[0m\n",
       "\u001b[32mmicrophone for hands-free calls.'\u001b[0m\n",
       "\u001b[1m)\u001b[0m\n"
      ]
     },
     "metadata": {},
     "output_type": "display_data"
    }
   ],
   "source": [
    "# View the sqlite DB\n",
    "\n",
    "result = conn.execute(\"SELECT * FROM product_table limit 1\").fetchall()\n",
    "\n",
    "# Process the result\n",
    "for row in result:\n",
    "    rprint(row)"
   ]
  },
  {
   "attachments": {},
   "cell_type": "markdown",
   "metadata": {},
   "source": [
    "## Create SQLDatabase Object"
   ]
  },
  {
   "cell_type": "code",
   "execution_count": 7,
   "metadata": {},
   "outputs": [
    {
     "data": {
      "text/html": [
       "<pre style=\"white-space:pre;overflow-x:auto;line-height:normal;font-family:Menlo,'DejaVu Sans Mono',consolas,'Courier New',monospace\"><span style=\"font-weight: bold\">(</span><span style=\"color: #008000; text-decoration-color: #008000\">'Ultimate Wireless Bluetooth Earbuds'</span>, <span style=\"color: #008080; text-decoration-color: #008080; font-weight: bold\">79.99</span>, <span style=\"color: #008080; text-decoration-color: #008080; font-weight: bold\">4.4</span>, <span style=\"color: #008000; text-decoration-color: #008000\">\"Elevate your music experience with our Ultimate Wireless </span>\n",
       "<span style=\"color: #008000; text-decoration-color: #008000\">Bluetooth Earbuds. These earbuds are designed for audiophiles who demand premium sound quality and convenience. </span>\n",
       "<span style=\"color: #008000; text-decoration-color: #008000\">With advanced Bluetooth 5.0 technology, you'll enjoy seamless connectivity and crystal-clear audio.\"</span>, <span style=\"color: #008000; text-decoration-color: #008000\">'- </span>\n",
       "<span style=\"color: #008000; text-decoration-color: #008000\">High-fidelity sound with deep bass and clear treble. - Noise-canceling technology for an immersive listening </span>\n",
       "<span style=\"color: #008000; text-decoration-color: #008000\">experience. - 20 hours of playtime on  ... (72 characters truncated) ... Touch controls for easy playback and </span>\n",
       "<span style=\"color: #008000; text-decoration-color: #008000\">calls. - IPX7 waterproof rating for workouts and outdoor activities. - Built-in microphone for hands-free calls.'</span><span style=\"font-weight: bold\">)</span>\n",
       "</pre>\n"
      ],
      "text/plain": [
       "\u001b[1m(\u001b[0m\u001b[32m'Ultimate Wireless Bluetooth Earbuds'\u001b[0m, \u001b[1;36m79.99\u001b[0m, \u001b[1;36m4.4\u001b[0m, \u001b[32m\"Elevate your music experience with our Ultimate Wireless \u001b[0m\n",
       "\u001b[32mBluetooth Earbuds. These earbuds are designed for audiophiles who demand premium sound quality and convenience. \u001b[0m\n",
       "\u001b[32mWith advanced Bluetooth 5.0 technology, you'll enjoy seamless connectivity and crystal-clear audio.\"\u001b[0m, \u001b[32m'- \u001b[0m\n",
       "\u001b[32mHigh-fidelity sound with deep bass and clear treble. - Noise-canceling technology for an immersive listening \u001b[0m\n",
       "\u001b[32mexperience. - 20 hours of playtime on  ... \u001b[0m\u001b[32m(\u001b[0m\u001b[32m72 characters truncated\u001b[0m\u001b[32m)\u001b[0m\u001b[32m ... Touch controls for easy playback and \u001b[0m\n",
       "\u001b[32mcalls. - IPX7 waterproof rating for workouts and outdoor activities. - Built-in microphone for hands-free calls.'\u001b[0m\u001b[1m)\u001b[0m\n"
      ]
     },
     "metadata": {},
     "output_type": "display_data"
    }
   ],
   "source": [
    "# SQLITE\n",
    "engine = create_engine(\"sqlite:///\" +\"./data/product_sqlite.db\")\n",
    "connection = engine.connect()\n",
    "result = connection.execute(text(\"SELECT * FROM product_table limit 1\"))\n",
    "for row in result:\n",
    "    rprint(row)\n"
   ]
  },
  {
   "attachments": {},
   "cell_type": "markdown",
   "metadata": {},
   "source": [
    "## Define SQL Database"
   ]
  },
  {
   "cell_type": "code",
   "execution_count": 8,
   "metadata": {},
   "outputs": [],
   "source": [
    "llm = OpenAI(temperature=0.1, model = \"gpt-3.5-turbo\")\n",
    "embed_model = OpenAIEmbedding(model=\"text-embedding-3-large\")\n",
    "service_context = ServiceContext.from_defaults(llm =llm, embed_model=embed_model,)\n",
    "set_global_service_context(service_context)\n",
    "# service_context = ServiceContext.from_defaults(llm =llm)\n",
    "sql_database = SQLDatabase(engine, include_tables=[\"product_table\"])"
   ]
  },
  {
   "attachments": {},
   "cell_type": "markdown",
   "metadata": {},
   "source": [
    "## Text to SQL Query Engine"
   ]
  },
  {
   "cell_type": "code",
   "execution_count": 9,
   "metadata": {},
   "outputs": [
    {
     "data": {
      "text/html": [
       "<pre style=\"white-space:pre;overflow-x:auto;line-height:normal;font-family:Menlo,'DejaVu Sans Mono',consolas,'Courier New',monospace\"><span style=\"color: #800080; text-decoration-color: #800080; font-weight: bold\">Response</span><span style=\"font-weight: bold\">(</span>\n",
       "    <span style=\"color: #808000; text-decoration-color: #808000\">response</span>=<span style=\"color: #008000; text-decoration-color: #008000\">'The products that were sold for 79.99 are the Ultimate Wireless Bluetooth Earbuds and the Portable </span>\n",
       "<span style=\"color: #008000; text-decoration-color: #008000\">Solar Charger.'</span>,\n",
       "    <span style=\"color: #808000; text-decoration-color: #808000\">source_nodes</span>=<span style=\"font-weight: bold\">[</span>\n",
       "        <span style=\"color: #800080; text-decoration-color: #800080; font-weight: bold\">NodeWithScore</span><span style=\"font-weight: bold\">(</span>\n",
       "            <span style=\"color: #808000; text-decoration-color: #808000\">node</span>=<span style=\"color: #800080; text-decoration-color: #800080; font-weight: bold\">TextNode</span><span style=\"font-weight: bold\">(</span>\n",
       "                <span style=\"color: #808000; text-decoration-color: #808000\">id_</span>=<span style=\"color: #008000; text-decoration-color: #008000\">'2657f84a-a464-4f5e-8c44-9815d00a0209'</span>,\n",
       "                <span style=\"color: #808000; text-decoration-color: #808000\">embedding</span>=<span style=\"color: #800080; text-decoration-color: #800080; font-style: italic\">None</span>,\n",
       "                <span style=\"color: #808000; text-decoration-color: #808000\">metadata</span>=<span style=\"font-weight: bold\">{}</span>,\n",
       "                <span style=\"color: #808000; text-decoration-color: #808000\">excluded_embed_metadata_keys</span>=<span style=\"font-weight: bold\">[]</span>,\n",
       "                <span style=\"color: #808000; text-decoration-color: #808000\">excluded_llm_metadata_keys</span>=<span style=\"font-weight: bold\">[]</span>,\n",
       "                <span style=\"color: #808000; text-decoration-color: #808000\">relationships</span>=<span style=\"font-weight: bold\">{}</span>,\n",
       "                <span style=\"color: #808000; text-decoration-color: #808000\">text</span>=<span style=\"color: #008000; text-decoration-color: #008000\">\"[('Ultimate Wireless Bluetooth Earbuds',), ('Portable Solar Charger',)]\"</span>,\n",
       "                <span style=\"color: #808000; text-decoration-color: #808000\">start_char_idx</span>=<span style=\"color: #800080; text-decoration-color: #800080; font-style: italic\">None</span>,\n",
       "                <span style=\"color: #808000; text-decoration-color: #808000\">end_char_idx</span>=<span style=\"color: #800080; text-decoration-color: #800080; font-style: italic\">None</span>,\n",
       "                <span style=\"color: #808000; text-decoration-color: #808000\">text_template</span>=<span style=\"color: #008000; text-decoration-color: #008000\">'{metadata_str}\\n\\n{content}'</span>,\n",
       "                <span style=\"color: #808000; text-decoration-color: #808000\">metadata_template</span>=<span style=\"color: #008000; text-decoration-color: #008000\">'{key}: {value}'</span>,\n",
       "                <span style=\"color: #808000; text-decoration-color: #808000\">metadata_seperator</span>=<span style=\"color: #008000; text-decoration-color: #008000\">'\\n'</span>\n",
       "            <span style=\"font-weight: bold\">)</span>,\n",
       "            <span style=\"color: #808000; text-decoration-color: #808000\">score</span>=<span style=\"color: #800080; text-decoration-color: #800080; font-style: italic\">None</span>\n",
       "        <span style=\"font-weight: bold\">)</span>\n",
       "    <span style=\"font-weight: bold\">]</span>,\n",
       "    <span style=\"color: #808000; text-decoration-color: #808000\">metadata</span>=<span style=\"font-weight: bold\">{</span>\n",
       "        <span style=\"color: #008000; text-decoration-color: #008000\">'2657f84a-a464-4f5e-8c44-9815d00a0209'</span>: <span style=\"font-weight: bold\">{}</span>,\n",
       "        <span style=\"color: #008000; text-decoration-color: #008000\">'sql_query'</span>: <span style=\"color: #008000; text-decoration-color: #008000\">'SELECT Product_Name\\nFROM product_table\\nWHERE Price = 79.99'</span>,\n",
       "        <span style=\"color: #008000; text-decoration-color: #008000\">'result'</span>: <span style=\"font-weight: bold\">[(</span><span style=\"color: #008000; text-decoration-color: #008000\">'Ultimate Wireless Bluetooth Earbuds'</span>,<span style=\"font-weight: bold\">)</span>, <span style=\"font-weight: bold\">(</span><span style=\"color: #008000; text-decoration-color: #008000\">'Portable Solar Charger'</span>,<span style=\"font-weight: bold\">)]</span>,\n",
       "        <span style=\"color: #008000; text-decoration-color: #008000\">'col_keys'</span>: <span style=\"font-weight: bold\">[</span><span style=\"color: #008000; text-decoration-color: #008000\">'Product_Name'</span><span style=\"font-weight: bold\">]</span>\n",
       "    <span style=\"font-weight: bold\">}</span>\n",
       "<span style=\"font-weight: bold\">)</span>\n",
       "</pre>\n"
      ],
      "text/plain": [
       "\u001b[1;35mResponse\u001b[0m\u001b[1m(\u001b[0m\n",
       "    \u001b[33mresponse\u001b[0m=\u001b[32m'The products that were sold for 79.99 are the Ultimate Wireless Bluetooth Earbuds and the Portable \u001b[0m\n",
       "\u001b[32mSolar Charger.'\u001b[0m,\n",
       "    \u001b[33msource_nodes\u001b[0m=\u001b[1m[\u001b[0m\n",
       "        \u001b[1;35mNodeWithScore\u001b[0m\u001b[1m(\u001b[0m\n",
       "            \u001b[33mnode\u001b[0m=\u001b[1;35mTextNode\u001b[0m\u001b[1m(\u001b[0m\n",
       "                \u001b[33mid_\u001b[0m=\u001b[32m'2657f84a-a464-4f5e-8c44-9815d00a0209'\u001b[0m,\n",
       "                \u001b[33membedding\u001b[0m=\u001b[3;35mNone\u001b[0m,\n",
       "                \u001b[33mmetadata\u001b[0m=\u001b[1m{\u001b[0m\u001b[1m}\u001b[0m,\n",
       "                \u001b[33mexcluded_embed_metadata_keys\u001b[0m=\u001b[1m[\u001b[0m\u001b[1m]\u001b[0m,\n",
       "                \u001b[33mexcluded_llm_metadata_keys\u001b[0m=\u001b[1m[\u001b[0m\u001b[1m]\u001b[0m,\n",
       "                \u001b[33mrelationships\u001b[0m=\u001b[1m{\u001b[0m\u001b[1m}\u001b[0m,\n",
       "                \u001b[33mtext\u001b[0m=\u001b[32m\"\u001b[0m\u001b[32m[\u001b[0m\u001b[32m(\u001b[0m\u001b[32m'Ultimate Wireless Bluetooth Earbuds',\u001b[0m\u001b[32m)\u001b[0m\u001b[32m, \u001b[0m\u001b[32m(\u001b[0m\u001b[32m'Portable Solar Charger',\u001b[0m\u001b[32m)\u001b[0m\u001b[32m]\u001b[0m\u001b[32m\"\u001b[0m,\n",
       "                \u001b[33mstart_char_idx\u001b[0m=\u001b[3;35mNone\u001b[0m,\n",
       "                \u001b[33mend_char_idx\u001b[0m=\u001b[3;35mNone\u001b[0m,\n",
       "                \u001b[33mtext_template\u001b[0m=\u001b[32m'\u001b[0m\u001b[32m{\u001b[0m\u001b[32mmetadata_str\u001b[0m\u001b[32m}\u001b[0m\u001b[32m\\n\\n\u001b[0m\u001b[32m{\u001b[0m\u001b[32mcontent\u001b[0m\u001b[32m}\u001b[0m\u001b[32m'\u001b[0m,\n",
       "                \u001b[33mmetadata_template\u001b[0m=\u001b[32m'\u001b[0m\u001b[32m{\u001b[0m\u001b[32mkey\u001b[0m\u001b[32m}\u001b[0m\u001b[32m: \u001b[0m\u001b[32m{\u001b[0m\u001b[32mvalue\u001b[0m\u001b[32m}\u001b[0m\u001b[32m'\u001b[0m,\n",
       "                \u001b[33mmetadata_seperator\u001b[0m=\u001b[32m'\\n'\u001b[0m\n",
       "            \u001b[1m)\u001b[0m,\n",
       "            \u001b[33mscore\u001b[0m=\u001b[3;35mNone\u001b[0m\n",
       "        \u001b[1m)\u001b[0m\n",
       "    \u001b[1m]\u001b[0m,\n",
       "    \u001b[33mmetadata\u001b[0m=\u001b[1m{\u001b[0m\n",
       "        \u001b[32m'2657f84a-a464-4f5e-8c44-9815d00a0209'\u001b[0m: \u001b[1m{\u001b[0m\u001b[1m}\u001b[0m,\n",
       "        \u001b[32m'sql_query'\u001b[0m: \u001b[32m'SELECT Product_Name\\nFROM product_table\\nWHERE Price = 79.99'\u001b[0m,\n",
       "        \u001b[32m'result'\u001b[0m: \u001b[1m[\u001b[0m\u001b[1m(\u001b[0m\u001b[32m'Ultimate Wireless Bluetooth Earbuds'\u001b[0m,\u001b[1m)\u001b[0m, \u001b[1m(\u001b[0m\u001b[32m'Portable Solar Charger'\u001b[0m,\u001b[1m)\u001b[0m\u001b[1m]\u001b[0m,\n",
       "        \u001b[32m'col_keys'\u001b[0m: \u001b[1m[\u001b[0m\u001b[32m'Product_Name'\u001b[0m\u001b[1m]\u001b[0m\n",
       "    \u001b[1m}\u001b[0m\n",
       "\u001b[1m)\u001b[0m\n"
      ]
     },
     "metadata": {},
     "output_type": "display_data"
    }
   ],
   "source": [
    "query_engine = NLSQLTableQueryEngine(\n",
    "    sql_database = sql_database,\n",
    "    tables = [\"product_table\"])\n",
    "query_str = \"Which product was sold for 79.99?\"\n",
    "response = query_engine.query(query_str)\n",
    "rprint(response)"
   ]
  },
  {
   "attachments": {},
   "cell_type": "markdown",
   "metadata": {},
   "source": [
    "## Part 2: Query-Time Retrieval of Tables for Text-to-SQL\n",
    "If we don’t know ahead of time which table we would like to use, and the total size of the table schema overflows your context window size, we should store the table schema in an index so that during query time we can retrieve the right schema.\n",
    "\n",
    "The way we can do this is using the SQLTableNodeMapping object, which takes in a SQLDatabase and produces a Node object for each SQLTableSchema object passed into the ObjectIndex constructor."
   ]
  },
  {
   "cell_type": "code",
   "execution_count": 10,
   "metadata": {},
   "outputs": [],
   "source": [
    "\n",
    "# set Logging to DEBUG for more detailed outputs\n",
    "table_node_mapping = SQLTableNodeMapping(sql_database)\n",
    "table_schema_objs = [\n",
    "    (SQLTableSchema(table_name=\"product_table\"))\n",
    "]  # add a SQLTableSchema for each table\n",
    "\n",
    "obj_index = ObjectIndex.from_objects(\n",
    "    table_schema_objs,\n",
    "    table_node_mapping,\n",
    "    VectorStoreIndex,\n",
    ")\n",
    "query_engine = SQLTableRetrieverQueryEngine(\n",
    "    sql_database, obj_index.as_retriever(similarity_top_k=1)\n",
    ")"
   ]
  },
  {
   "cell_type": "code",
   "execution_count": 10,
   "metadata": {},
   "outputs": [
    {
     "data": {
      "text/markdown": [
       "<b>The rating for the product named Portable Solar Charger is 4.0.</b>"
      ],
      "text/plain": [
       "<IPython.core.display.Markdown object>"
      ]
     },
     "metadata": {},
     "output_type": "display_data"
    }
   ],
   "source": [
    "query_str = \"What is the Rating for the product whose name is Portable Solar Charger?\"\n",
    "response = query_engine.query(query_str)\n",
    "display(Markdown(f\"<b>{response}</b>\"))"
   ]
  },
  {
   "cell_type": "code",
   "execution_count": 11,
   "metadata": {},
   "outputs": [
    {
     "data": {
      "text/plain": [
       "[(4.0,)]"
      ]
     },
     "execution_count": 11,
     "metadata": {},
     "output_type": "execute_result"
    }
   ],
   "source": [
    "# you can also fetch the raw result from SQLAlchemy!\n",
    "response.metadata[\"result\"]"
   ]
  },
  {
   "attachments": {},
   "cell_type": "markdown",
   "metadata": {},
   "source": [
    "## Create embedding for the columns to embed"
   ]
  },
  {
   "cell_type": "code",
   "execution_count": 11,
   "metadata": {},
   "outputs": [],
   "source": [
    "## With PANDAS DATAFRAME\n",
    "# Assuming you have already loaded the data into a Pandas DataFrame df\n",
    "columns_to_embed = [\"Description\", \"Features\"]\n",
    "columns_to_metadata = [\"Product Name\", \"Price\", \"Rating\", \"Description\", \"Features\"]\n",
    "\n",
    "docs = []\n",
    "for i, row in data.iterrows():\n",
    "    to_metadata = {col: row[col] for col in columns_to_metadata if col in row}\n",
    "    values_to_embed = {k: row[k] for k in columns_to_embed if k in row}\n",
    "    to_embed = '\\n'.join(f\"{k.strip()}: {v.strip()}\" for k, v in values_to_embed.items())\n",
    "    newDoc = Document(text=to_embed, metadata=to_metadata)\n",
    "    docs.append(newDoc)\n",
    "\n",
    "# Create a single document from a list of Documents\n",
    "# this is what we will chunk up and store with its embedding in Weaviate\n",
    "document = Document(text=\"\\n\\n\".join([doc.text for doc in docs]))"
   ]
  },
  {
   "attachments": {},
   "cell_type": "markdown",
   "metadata": {},
   "source": [
    "## Create Weaviate Schema"
   ]
  },
  {
   "cell_type": "code",
   "execution_count": 13,
   "metadata": {},
   "outputs": [
    {
     "name": "stdout",
     "output_type": "stream",
     "text": [
      "Product schema was created.\n"
     ]
    }
   ],
   "source": [
    "# Create Schema\n",
    "product_schema = {\n",
    "   \"classes\": [\n",
    "       {\n",
    "           \"class\": \"Product\",\n",
    "           \"description\": \"Listing of Products\",\n",
    "           \"vectorizer\": \"text2vec-openai\",\n",
    "           \"properties\": [\n",
    "               {\n",
    "                  \"name\": \"Product_Name\",\n",
    "                  \"dataType\": [\"text\"],\n",
    "                  \"description\": \"Name of the product.\",\n",
    "               },\n",
    "               {\n",
    "                  \"name\": \"Price\",\n",
    "                  \"dataType\": [\"number\"],\n",
    "                  \"description\": \"Price of the product.\",\n",
    "               },\n",
    "               {\n",
    "                  \"name\": \"Rating\",\n",
    "                  \"dataType\": [\"number\"],\n",
    "                  \"description\": \"Rating of the product.\",\n",
    "               },\n",
    "               {\n",
    "                  \"name\": \"Description\",\n",
    "                  \"dataType\": [\"text\"],\n",
    "                  \"description\": \"Description of the product.\",\n",
    "               },\n",
    "               {\n",
    "                  \"name\": \"Features\",\n",
    "                  \"dataType\": [\"text\"],\n",
    "                  \"description\": \"Feature of the product.\",\n",
    "               }\n",
    "            ]\n",
    "        }\n",
    "    ]\n",
    "}\n",
    "\n",
    "client.schema.create(product_schema)\n",
    "print(\"Product schema was created.\")"
   ]
  },
  {
   "cell_type": "code",
   "execution_count": 12,
   "metadata": {},
   "outputs": [
    {
     "data": {
      "text/html": [
       "<pre style=\"white-space:pre;overflow-x:auto;line-height:normal;font-family:Menlo,'DejaVu Sans Mono',consolas,'Courier New',monospace\"><span style=\"font-weight: bold\">{</span>\n",
       "    <span style=\"color: #008000; text-decoration-color: #008000\">'classes'</span>: <span style=\"font-weight: bold\">[</span>\n",
       "        <span style=\"font-weight: bold\">{</span>\n",
       "            <span style=\"color: #008000; text-decoration-color: #008000\">'class'</span>: <span style=\"color: #008000; text-decoration-color: #008000\">'Product'</span>,\n",
       "            <span style=\"color: #008000; text-decoration-color: #008000\">'description'</span>: <span style=\"color: #008000; text-decoration-color: #008000\">'Listing of Products'</span>,\n",
       "            <span style=\"color: #008000; text-decoration-color: #008000\">'invertedIndexConfig'</span>: <span style=\"font-weight: bold\">{</span>\n",
       "                <span style=\"color: #008000; text-decoration-color: #008000\">'bm25'</span>: <span style=\"font-weight: bold\">{</span><span style=\"color: #008000; text-decoration-color: #008000\">'b'</span>: <span style=\"color: #008080; text-decoration-color: #008080; font-weight: bold\">0.75</span>, <span style=\"color: #008000; text-decoration-color: #008000\">'k1'</span>: <span style=\"color: #008080; text-decoration-color: #008080; font-weight: bold\">1.2</span><span style=\"font-weight: bold\">}</span>,\n",
       "                <span style=\"color: #008000; text-decoration-color: #008000\">'cleanupIntervalSeconds'</span>: <span style=\"color: #008080; text-decoration-color: #008080; font-weight: bold\">60</span>,\n",
       "                <span style=\"color: #008000; text-decoration-color: #008000\">'stopwords'</span>: <span style=\"font-weight: bold\">{</span><span style=\"color: #008000; text-decoration-color: #008000\">'additions'</span>: <span style=\"color: #800080; text-decoration-color: #800080; font-style: italic\">None</span>, <span style=\"color: #008000; text-decoration-color: #008000\">'preset'</span>: <span style=\"color: #008000; text-decoration-color: #008000\">'en'</span>, <span style=\"color: #008000; text-decoration-color: #008000\">'removals'</span>: <span style=\"color: #800080; text-decoration-color: #800080; font-style: italic\">None</span><span style=\"font-weight: bold\">}</span>\n",
       "            <span style=\"font-weight: bold\">}</span>,\n",
       "            <span style=\"color: #008000; text-decoration-color: #008000\">'moduleConfig'</span>: <span style=\"font-weight: bold\">{</span>\n",
       "                <span style=\"color: #008000; text-decoration-color: #008000\">'text2vec-openai'</span>: <span style=\"font-weight: bold\">{</span>\n",
       "                    <span style=\"color: #008000; text-decoration-color: #008000\">'baseURL'</span>: <span style=\"color: #008000; text-decoration-color: #008000\">'https://api.openai.com'</span>,\n",
       "                    <span style=\"color: #008000; text-decoration-color: #008000\">'model'</span>: <span style=\"color: #008000; text-decoration-color: #008000\">'ada'</span>,\n",
       "                    <span style=\"color: #008000; text-decoration-color: #008000\">'modelVersion'</span>: <span style=\"color: #008000; text-decoration-color: #008000\">'002'</span>,\n",
       "                    <span style=\"color: #008000; text-decoration-color: #008000\">'type'</span>: <span style=\"color: #008000; text-decoration-color: #008000\">'text'</span>,\n",
       "                    <span style=\"color: #008000; text-decoration-color: #008000\">'vectorizeClassName'</span>: <span style=\"color: #00ff00; text-decoration-color: #00ff00; font-style: italic\">True</span>\n",
       "                <span style=\"font-weight: bold\">}</span>\n",
       "            <span style=\"font-weight: bold\">}</span>,\n",
       "            <span style=\"color: #008000; text-decoration-color: #008000\">'multiTenancyConfig'</span>: <span style=\"font-weight: bold\">{</span><span style=\"color: #008000; text-decoration-color: #008000\">'enabled'</span>: <span style=\"color: #ff0000; text-decoration-color: #ff0000; font-style: italic\">False</span><span style=\"font-weight: bold\">}</span>,\n",
       "            <span style=\"color: #008000; text-decoration-color: #008000\">'properties'</span>: <span style=\"font-weight: bold\">[</span>\n",
       "                <span style=\"font-weight: bold\">{</span>\n",
       "                    <span style=\"color: #008000; text-decoration-color: #008000\">'dataType'</span>: <span style=\"font-weight: bold\">[</span><span style=\"color: #008000; text-decoration-color: #008000\">'text'</span><span style=\"font-weight: bold\">]</span>,\n",
       "                    <span style=\"color: #008000; text-decoration-color: #008000\">'description'</span>: <span style=\"color: #008000; text-decoration-color: #008000\">'Name of the product.'</span>,\n",
       "                    <span style=\"color: #008000; text-decoration-color: #008000\">'indexFilterable'</span>: <span style=\"color: #00ff00; text-decoration-color: #00ff00; font-style: italic\">True</span>,\n",
       "                    <span style=\"color: #008000; text-decoration-color: #008000\">'indexSearchable'</span>: <span style=\"color: #00ff00; text-decoration-color: #00ff00; font-style: italic\">True</span>,\n",
       "                    <span style=\"color: #008000; text-decoration-color: #008000\">'moduleConfig'</span>: <span style=\"font-weight: bold\">{</span><span style=\"color: #008000; text-decoration-color: #008000\">'text2vec-openai'</span>: <span style=\"font-weight: bold\">{</span><span style=\"color: #008000; text-decoration-color: #008000\">'skip'</span>: <span style=\"color: #ff0000; text-decoration-color: #ff0000; font-style: italic\">False</span>, <span style=\"color: #008000; text-decoration-color: #008000\">'vectorizePropertyName'</span>: <span style=\"color: #ff0000; text-decoration-color: #ff0000; font-style: italic\">False</span><span style=\"font-weight: bold\">}}</span>,\n",
       "                    <span style=\"color: #008000; text-decoration-color: #008000\">'name'</span>: <span style=\"color: #008000; text-decoration-color: #008000\">'product_Name'</span>,\n",
       "                    <span style=\"color: #008000; text-decoration-color: #008000\">'tokenization'</span>: <span style=\"color: #008000; text-decoration-color: #008000\">'word'</span>\n",
       "                <span style=\"font-weight: bold\">}</span>,\n",
       "                <span style=\"font-weight: bold\">{</span>\n",
       "                    <span style=\"color: #008000; text-decoration-color: #008000\">'dataType'</span>: <span style=\"font-weight: bold\">[</span><span style=\"color: #008000; text-decoration-color: #008000\">'number'</span><span style=\"font-weight: bold\">]</span>,\n",
       "                    <span style=\"color: #008000; text-decoration-color: #008000\">'description'</span>: <span style=\"color: #008000; text-decoration-color: #008000\">'Price of the product.'</span>,\n",
       "                    <span style=\"color: #008000; text-decoration-color: #008000\">'indexFilterable'</span>: <span style=\"color: #00ff00; text-decoration-color: #00ff00; font-style: italic\">True</span>,\n",
       "                    <span style=\"color: #008000; text-decoration-color: #008000\">'indexSearchable'</span>: <span style=\"color: #ff0000; text-decoration-color: #ff0000; font-style: italic\">False</span>,\n",
       "                    <span style=\"color: #008000; text-decoration-color: #008000\">'moduleConfig'</span>: <span style=\"font-weight: bold\">{</span><span style=\"color: #008000; text-decoration-color: #008000\">'text2vec-openai'</span>: <span style=\"font-weight: bold\">{</span><span style=\"color: #008000; text-decoration-color: #008000\">'skip'</span>: <span style=\"color: #ff0000; text-decoration-color: #ff0000; font-style: italic\">False</span>, <span style=\"color: #008000; text-decoration-color: #008000\">'vectorizePropertyName'</span>: <span style=\"color: #ff0000; text-decoration-color: #ff0000; font-style: italic\">False</span><span style=\"font-weight: bold\">}}</span>,\n",
       "                    <span style=\"color: #008000; text-decoration-color: #008000\">'name'</span>: <span style=\"color: #008000; text-decoration-color: #008000\">'price'</span>\n",
       "                <span style=\"font-weight: bold\">}</span>,\n",
       "                <span style=\"font-weight: bold\">{</span>\n",
       "                    <span style=\"color: #008000; text-decoration-color: #008000\">'dataType'</span>: <span style=\"font-weight: bold\">[</span><span style=\"color: #008000; text-decoration-color: #008000\">'number'</span><span style=\"font-weight: bold\">]</span>,\n",
       "                    <span style=\"color: #008000; text-decoration-color: #008000\">'description'</span>: <span style=\"color: #008000; text-decoration-color: #008000\">'Rating of the product.'</span>,\n",
       "                    <span style=\"color: #008000; text-decoration-color: #008000\">'indexFilterable'</span>: <span style=\"color: #00ff00; text-decoration-color: #00ff00; font-style: italic\">True</span>,\n",
       "                    <span style=\"color: #008000; text-decoration-color: #008000\">'indexSearchable'</span>: <span style=\"color: #ff0000; text-decoration-color: #ff0000; font-style: italic\">False</span>,\n",
       "                    <span style=\"color: #008000; text-decoration-color: #008000\">'moduleConfig'</span>: <span style=\"font-weight: bold\">{</span><span style=\"color: #008000; text-decoration-color: #008000\">'text2vec-openai'</span>: <span style=\"font-weight: bold\">{</span><span style=\"color: #008000; text-decoration-color: #008000\">'skip'</span>: <span style=\"color: #ff0000; text-decoration-color: #ff0000; font-style: italic\">False</span>, <span style=\"color: #008000; text-decoration-color: #008000\">'vectorizePropertyName'</span>: <span style=\"color: #ff0000; text-decoration-color: #ff0000; font-style: italic\">False</span><span style=\"font-weight: bold\">}}</span>,\n",
       "                    <span style=\"color: #008000; text-decoration-color: #008000\">'name'</span>: <span style=\"color: #008000; text-decoration-color: #008000\">'rating'</span>\n",
       "                <span style=\"font-weight: bold\">}</span>,\n",
       "                <span style=\"font-weight: bold\">{</span>\n",
       "                    <span style=\"color: #008000; text-decoration-color: #008000\">'dataType'</span>: <span style=\"font-weight: bold\">[</span><span style=\"color: #008000; text-decoration-color: #008000\">'text'</span><span style=\"font-weight: bold\">]</span>,\n",
       "                    <span style=\"color: #008000; text-decoration-color: #008000\">'description'</span>: <span style=\"color: #008000; text-decoration-color: #008000\">'Description of the product.'</span>,\n",
       "                    <span style=\"color: #008000; text-decoration-color: #008000\">'indexFilterable'</span>: <span style=\"color: #00ff00; text-decoration-color: #00ff00; font-style: italic\">True</span>,\n",
       "                    <span style=\"color: #008000; text-decoration-color: #008000\">'indexSearchable'</span>: <span style=\"color: #00ff00; text-decoration-color: #00ff00; font-style: italic\">True</span>,\n",
       "                    <span style=\"color: #008000; text-decoration-color: #008000\">'moduleConfig'</span>: <span style=\"font-weight: bold\">{</span><span style=\"color: #008000; text-decoration-color: #008000\">'text2vec-openai'</span>: <span style=\"font-weight: bold\">{</span><span style=\"color: #008000; text-decoration-color: #008000\">'skip'</span>: <span style=\"color: #ff0000; text-decoration-color: #ff0000; font-style: italic\">False</span>, <span style=\"color: #008000; text-decoration-color: #008000\">'vectorizePropertyName'</span>: <span style=\"color: #ff0000; text-decoration-color: #ff0000; font-style: italic\">False</span><span style=\"font-weight: bold\">}}</span>,\n",
       "                    <span style=\"color: #008000; text-decoration-color: #008000\">'name'</span>: <span style=\"color: #008000; text-decoration-color: #008000\">'description'</span>,\n",
       "                    <span style=\"color: #008000; text-decoration-color: #008000\">'tokenization'</span>: <span style=\"color: #008000; text-decoration-color: #008000\">'word'</span>\n",
       "                <span style=\"font-weight: bold\">}</span>,\n",
       "                <span style=\"font-weight: bold\">{</span>\n",
       "                    <span style=\"color: #008000; text-decoration-color: #008000\">'dataType'</span>: <span style=\"font-weight: bold\">[</span><span style=\"color: #008000; text-decoration-color: #008000\">'text'</span><span style=\"font-weight: bold\">]</span>,\n",
       "                    <span style=\"color: #008000; text-decoration-color: #008000\">'description'</span>: <span style=\"color: #008000; text-decoration-color: #008000\">'Feature of the product.'</span>,\n",
       "                    <span style=\"color: #008000; text-decoration-color: #008000\">'indexFilterable'</span>: <span style=\"color: #00ff00; text-decoration-color: #00ff00; font-style: italic\">True</span>,\n",
       "                    <span style=\"color: #008000; text-decoration-color: #008000\">'indexSearchable'</span>: <span style=\"color: #00ff00; text-decoration-color: #00ff00; font-style: italic\">True</span>,\n",
       "                    <span style=\"color: #008000; text-decoration-color: #008000\">'moduleConfig'</span>: <span style=\"font-weight: bold\">{</span><span style=\"color: #008000; text-decoration-color: #008000\">'text2vec-openai'</span>: <span style=\"font-weight: bold\">{</span><span style=\"color: #008000; text-decoration-color: #008000\">'skip'</span>: <span style=\"color: #ff0000; text-decoration-color: #ff0000; font-style: italic\">False</span>, <span style=\"color: #008000; text-decoration-color: #008000\">'vectorizePropertyName'</span>: <span style=\"color: #ff0000; text-decoration-color: #ff0000; font-style: italic\">False</span><span style=\"font-weight: bold\">}}</span>,\n",
       "                    <span style=\"color: #008000; text-decoration-color: #008000\">'name'</span>: <span style=\"color: #008000; text-decoration-color: #008000\">'features'</span>,\n",
       "                    <span style=\"color: #008000; text-decoration-color: #008000\">'tokenization'</span>: <span style=\"color: #008000; text-decoration-color: #008000\">'word'</span>\n",
       "                <span style=\"font-weight: bold\">}</span>\n",
       "            <span style=\"font-weight: bold\">]</span>,\n",
       "            <span style=\"color: #008000; text-decoration-color: #008000\">'replicationConfig'</span>: <span style=\"font-weight: bold\">{</span><span style=\"color: #008000; text-decoration-color: #008000\">'factor'</span>: <span style=\"color: #008080; text-decoration-color: #008080; font-weight: bold\">1</span><span style=\"font-weight: bold\">}</span>,\n",
       "            <span style=\"color: #008000; text-decoration-color: #008000\">'shardingConfig'</span>: <span style=\"font-weight: bold\">{</span>\n",
       "                <span style=\"color: #008000; text-decoration-color: #008000\">'virtualPerPhysical'</span>: <span style=\"color: #008080; text-decoration-color: #008080; font-weight: bold\">128</span>,\n",
       "                <span style=\"color: #008000; text-decoration-color: #008000\">'desiredCount'</span>: <span style=\"color: #008080; text-decoration-color: #008080; font-weight: bold\">1</span>,\n",
       "                <span style=\"color: #008000; text-decoration-color: #008000\">'actualCount'</span>: <span style=\"color: #008080; text-decoration-color: #008080; font-weight: bold\">1</span>,\n",
       "                <span style=\"color: #008000; text-decoration-color: #008000\">'desiredVirtualCount'</span>: <span style=\"color: #008080; text-decoration-color: #008080; font-weight: bold\">128</span>,\n",
       "                <span style=\"color: #008000; text-decoration-color: #008000\">'actualVirtualCount'</span>: <span style=\"color: #008080; text-decoration-color: #008080; font-weight: bold\">128</span>,\n",
       "                <span style=\"color: #008000; text-decoration-color: #008000\">'key'</span>: <span style=\"color: #008000; text-decoration-color: #008000\">'_id'</span>,\n",
       "                <span style=\"color: #008000; text-decoration-color: #008000\">'strategy'</span>: <span style=\"color: #008000; text-decoration-color: #008000\">'hash'</span>,\n",
       "                <span style=\"color: #008000; text-decoration-color: #008000\">'function'</span>: <span style=\"color: #008000; text-decoration-color: #008000\">'murmur3'</span>\n",
       "            <span style=\"font-weight: bold\">}</span>,\n",
       "            <span style=\"color: #008000; text-decoration-color: #008000\">'vectorIndexConfig'</span>: <span style=\"font-weight: bold\">{</span>\n",
       "                <span style=\"color: #008000; text-decoration-color: #008000\">'skip'</span>: <span style=\"color: #ff0000; text-decoration-color: #ff0000; font-style: italic\">False</span>,\n",
       "                <span style=\"color: #008000; text-decoration-color: #008000\">'cleanupIntervalSeconds'</span>: <span style=\"color: #008080; text-decoration-color: #008080; font-weight: bold\">300</span>,\n",
       "                <span style=\"color: #008000; text-decoration-color: #008000\">'maxConnections'</span>: <span style=\"color: #008080; text-decoration-color: #008080; font-weight: bold\">64</span>,\n",
       "                <span style=\"color: #008000; text-decoration-color: #008000\">'efConstruction'</span>: <span style=\"color: #008080; text-decoration-color: #008080; font-weight: bold\">128</span>,\n",
       "                <span style=\"color: #008000; text-decoration-color: #008000\">'ef'</span>: <span style=\"color: #008080; text-decoration-color: #008080; font-weight: bold\">-1</span>,\n",
       "                <span style=\"color: #008000; text-decoration-color: #008000\">'dynamicEfMin'</span>: <span style=\"color: #008080; text-decoration-color: #008080; font-weight: bold\">100</span>,\n",
       "                <span style=\"color: #008000; text-decoration-color: #008000\">'dynamicEfMax'</span>: <span style=\"color: #008080; text-decoration-color: #008080; font-weight: bold\">500</span>,\n",
       "                <span style=\"color: #008000; text-decoration-color: #008000\">'dynamicEfFactor'</span>: <span style=\"color: #008080; text-decoration-color: #008080; font-weight: bold\">8</span>,\n",
       "                <span style=\"color: #008000; text-decoration-color: #008000\">'vectorCacheMaxObjects'</span>: <span style=\"color: #008080; text-decoration-color: #008080; font-weight: bold\">1000000000000</span>,\n",
       "                <span style=\"color: #008000; text-decoration-color: #008000\">'flatSearchCutoff'</span>: <span style=\"color: #008080; text-decoration-color: #008080; font-weight: bold\">40000</span>,\n",
       "                <span style=\"color: #008000; text-decoration-color: #008000\">'distance'</span>: <span style=\"color: #008000; text-decoration-color: #008000\">'cosine'</span>,\n",
       "                <span style=\"color: #008000; text-decoration-color: #008000\">'pq'</span>: <span style=\"font-weight: bold\">{</span>\n",
       "                    <span style=\"color: #008000; text-decoration-color: #008000\">'enabled'</span>: <span style=\"color: #ff0000; text-decoration-color: #ff0000; font-style: italic\">False</span>,\n",
       "                    <span style=\"color: #008000; text-decoration-color: #008000\">'bitCompression'</span>: <span style=\"color: #ff0000; text-decoration-color: #ff0000; font-style: italic\">False</span>,\n",
       "                    <span style=\"color: #008000; text-decoration-color: #008000\">'segments'</span>: <span style=\"color: #008080; text-decoration-color: #008080; font-weight: bold\">0</span>,\n",
       "                    <span style=\"color: #008000; text-decoration-color: #008000\">'centroids'</span>: <span style=\"color: #008080; text-decoration-color: #008080; font-weight: bold\">256</span>,\n",
       "                    <span style=\"color: #008000; text-decoration-color: #008000\">'trainingLimit'</span>: <span style=\"color: #008080; text-decoration-color: #008080; font-weight: bold\">100000</span>,\n",
       "                    <span style=\"color: #008000; text-decoration-color: #008000\">'encoder'</span>: <span style=\"font-weight: bold\">{</span><span style=\"color: #008000; text-decoration-color: #008000\">'type'</span>: <span style=\"color: #008000; text-decoration-color: #008000\">'kmeans'</span>, <span style=\"color: #008000; text-decoration-color: #008000\">'distribution'</span>: <span style=\"color: #008000; text-decoration-color: #008000\">'log-normal'</span><span style=\"font-weight: bold\">}</span>\n",
       "                <span style=\"font-weight: bold\">}</span>\n",
       "            <span style=\"font-weight: bold\">}</span>,\n",
       "            <span style=\"color: #008000; text-decoration-color: #008000\">'vectorIndexType'</span>: <span style=\"color: #008000; text-decoration-color: #008000\">'hnsw'</span>,\n",
       "            <span style=\"color: #008000; text-decoration-color: #008000\">'vectorizer'</span>: <span style=\"color: #008000; text-decoration-color: #008000\">'text2vec-openai'</span>\n",
       "        <span style=\"font-weight: bold\">}</span>\n",
       "    <span style=\"font-weight: bold\">]</span>\n",
       "<span style=\"font-weight: bold\">}</span>\n",
       "</pre>\n"
      ],
      "text/plain": [
       "\u001b[1m{\u001b[0m\n",
       "    \u001b[32m'classes'\u001b[0m: \u001b[1m[\u001b[0m\n",
       "        \u001b[1m{\u001b[0m\n",
       "            \u001b[32m'class'\u001b[0m: \u001b[32m'Product'\u001b[0m,\n",
       "            \u001b[32m'description'\u001b[0m: \u001b[32m'Listing of Products'\u001b[0m,\n",
       "            \u001b[32m'invertedIndexConfig'\u001b[0m: \u001b[1m{\u001b[0m\n",
       "                \u001b[32m'bm25'\u001b[0m: \u001b[1m{\u001b[0m\u001b[32m'b'\u001b[0m: \u001b[1;36m0.75\u001b[0m, \u001b[32m'k1'\u001b[0m: \u001b[1;36m1.2\u001b[0m\u001b[1m}\u001b[0m,\n",
       "                \u001b[32m'cleanupIntervalSeconds'\u001b[0m: \u001b[1;36m60\u001b[0m,\n",
       "                \u001b[32m'stopwords'\u001b[0m: \u001b[1m{\u001b[0m\u001b[32m'additions'\u001b[0m: \u001b[3;35mNone\u001b[0m, \u001b[32m'preset'\u001b[0m: \u001b[32m'en'\u001b[0m, \u001b[32m'removals'\u001b[0m: \u001b[3;35mNone\u001b[0m\u001b[1m}\u001b[0m\n",
       "            \u001b[1m}\u001b[0m,\n",
       "            \u001b[32m'moduleConfig'\u001b[0m: \u001b[1m{\u001b[0m\n",
       "                \u001b[32m'text2vec-openai'\u001b[0m: \u001b[1m{\u001b[0m\n",
       "                    \u001b[32m'baseURL'\u001b[0m: \u001b[32m'https://api.openai.com'\u001b[0m,\n",
       "                    \u001b[32m'model'\u001b[0m: \u001b[32m'ada'\u001b[0m,\n",
       "                    \u001b[32m'modelVersion'\u001b[0m: \u001b[32m'002'\u001b[0m,\n",
       "                    \u001b[32m'type'\u001b[0m: \u001b[32m'text'\u001b[0m,\n",
       "                    \u001b[32m'vectorizeClassName'\u001b[0m: \u001b[3;92mTrue\u001b[0m\n",
       "                \u001b[1m}\u001b[0m\n",
       "            \u001b[1m}\u001b[0m,\n",
       "            \u001b[32m'multiTenancyConfig'\u001b[0m: \u001b[1m{\u001b[0m\u001b[32m'enabled'\u001b[0m: \u001b[3;91mFalse\u001b[0m\u001b[1m}\u001b[0m,\n",
       "            \u001b[32m'properties'\u001b[0m: \u001b[1m[\u001b[0m\n",
       "                \u001b[1m{\u001b[0m\n",
       "                    \u001b[32m'dataType'\u001b[0m: \u001b[1m[\u001b[0m\u001b[32m'text'\u001b[0m\u001b[1m]\u001b[0m,\n",
       "                    \u001b[32m'description'\u001b[0m: \u001b[32m'Name of the product.'\u001b[0m,\n",
       "                    \u001b[32m'indexFilterable'\u001b[0m: \u001b[3;92mTrue\u001b[0m,\n",
       "                    \u001b[32m'indexSearchable'\u001b[0m: \u001b[3;92mTrue\u001b[0m,\n",
       "                    \u001b[32m'moduleConfig'\u001b[0m: \u001b[1m{\u001b[0m\u001b[32m'text2vec-openai'\u001b[0m: \u001b[1m{\u001b[0m\u001b[32m'skip'\u001b[0m: \u001b[3;91mFalse\u001b[0m, \u001b[32m'vectorizePropertyName'\u001b[0m: \u001b[3;91mFalse\u001b[0m\u001b[1m}\u001b[0m\u001b[1m}\u001b[0m,\n",
       "                    \u001b[32m'name'\u001b[0m: \u001b[32m'product_Name'\u001b[0m,\n",
       "                    \u001b[32m'tokenization'\u001b[0m: \u001b[32m'word'\u001b[0m\n",
       "                \u001b[1m}\u001b[0m,\n",
       "                \u001b[1m{\u001b[0m\n",
       "                    \u001b[32m'dataType'\u001b[0m: \u001b[1m[\u001b[0m\u001b[32m'number'\u001b[0m\u001b[1m]\u001b[0m,\n",
       "                    \u001b[32m'description'\u001b[0m: \u001b[32m'Price of the product.'\u001b[0m,\n",
       "                    \u001b[32m'indexFilterable'\u001b[0m: \u001b[3;92mTrue\u001b[0m,\n",
       "                    \u001b[32m'indexSearchable'\u001b[0m: \u001b[3;91mFalse\u001b[0m,\n",
       "                    \u001b[32m'moduleConfig'\u001b[0m: \u001b[1m{\u001b[0m\u001b[32m'text2vec-openai'\u001b[0m: \u001b[1m{\u001b[0m\u001b[32m'skip'\u001b[0m: \u001b[3;91mFalse\u001b[0m, \u001b[32m'vectorizePropertyName'\u001b[0m: \u001b[3;91mFalse\u001b[0m\u001b[1m}\u001b[0m\u001b[1m}\u001b[0m,\n",
       "                    \u001b[32m'name'\u001b[0m: \u001b[32m'price'\u001b[0m\n",
       "                \u001b[1m}\u001b[0m,\n",
       "                \u001b[1m{\u001b[0m\n",
       "                    \u001b[32m'dataType'\u001b[0m: \u001b[1m[\u001b[0m\u001b[32m'number'\u001b[0m\u001b[1m]\u001b[0m,\n",
       "                    \u001b[32m'description'\u001b[0m: \u001b[32m'Rating of the product.'\u001b[0m,\n",
       "                    \u001b[32m'indexFilterable'\u001b[0m: \u001b[3;92mTrue\u001b[0m,\n",
       "                    \u001b[32m'indexSearchable'\u001b[0m: \u001b[3;91mFalse\u001b[0m,\n",
       "                    \u001b[32m'moduleConfig'\u001b[0m: \u001b[1m{\u001b[0m\u001b[32m'text2vec-openai'\u001b[0m: \u001b[1m{\u001b[0m\u001b[32m'skip'\u001b[0m: \u001b[3;91mFalse\u001b[0m, \u001b[32m'vectorizePropertyName'\u001b[0m: \u001b[3;91mFalse\u001b[0m\u001b[1m}\u001b[0m\u001b[1m}\u001b[0m,\n",
       "                    \u001b[32m'name'\u001b[0m: \u001b[32m'rating'\u001b[0m\n",
       "                \u001b[1m}\u001b[0m,\n",
       "                \u001b[1m{\u001b[0m\n",
       "                    \u001b[32m'dataType'\u001b[0m: \u001b[1m[\u001b[0m\u001b[32m'text'\u001b[0m\u001b[1m]\u001b[0m,\n",
       "                    \u001b[32m'description'\u001b[0m: \u001b[32m'Description of the product.'\u001b[0m,\n",
       "                    \u001b[32m'indexFilterable'\u001b[0m: \u001b[3;92mTrue\u001b[0m,\n",
       "                    \u001b[32m'indexSearchable'\u001b[0m: \u001b[3;92mTrue\u001b[0m,\n",
       "                    \u001b[32m'moduleConfig'\u001b[0m: \u001b[1m{\u001b[0m\u001b[32m'text2vec-openai'\u001b[0m: \u001b[1m{\u001b[0m\u001b[32m'skip'\u001b[0m: \u001b[3;91mFalse\u001b[0m, \u001b[32m'vectorizePropertyName'\u001b[0m: \u001b[3;91mFalse\u001b[0m\u001b[1m}\u001b[0m\u001b[1m}\u001b[0m,\n",
       "                    \u001b[32m'name'\u001b[0m: \u001b[32m'description'\u001b[0m,\n",
       "                    \u001b[32m'tokenization'\u001b[0m: \u001b[32m'word'\u001b[0m\n",
       "                \u001b[1m}\u001b[0m,\n",
       "                \u001b[1m{\u001b[0m\n",
       "                    \u001b[32m'dataType'\u001b[0m: \u001b[1m[\u001b[0m\u001b[32m'text'\u001b[0m\u001b[1m]\u001b[0m,\n",
       "                    \u001b[32m'description'\u001b[0m: \u001b[32m'Feature of the product.'\u001b[0m,\n",
       "                    \u001b[32m'indexFilterable'\u001b[0m: \u001b[3;92mTrue\u001b[0m,\n",
       "                    \u001b[32m'indexSearchable'\u001b[0m: \u001b[3;92mTrue\u001b[0m,\n",
       "                    \u001b[32m'moduleConfig'\u001b[0m: \u001b[1m{\u001b[0m\u001b[32m'text2vec-openai'\u001b[0m: \u001b[1m{\u001b[0m\u001b[32m'skip'\u001b[0m: \u001b[3;91mFalse\u001b[0m, \u001b[32m'vectorizePropertyName'\u001b[0m: \u001b[3;91mFalse\u001b[0m\u001b[1m}\u001b[0m\u001b[1m}\u001b[0m,\n",
       "                    \u001b[32m'name'\u001b[0m: \u001b[32m'features'\u001b[0m,\n",
       "                    \u001b[32m'tokenization'\u001b[0m: \u001b[32m'word'\u001b[0m\n",
       "                \u001b[1m}\u001b[0m\n",
       "            \u001b[1m]\u001b[0m,\n",
       "            \u001b[32m'replicationConfig'\u001b[0m: \u001b[1m{\u001b[0m\u001b[32m'factor'\u001b[0m: \u001b[1;36m1\u001b[0m\u001b[1m}\u001b[0m,\n",
       "            \u001b[32m'shardingConfig'\u001b[0m: \u001b[1m{\u001b[0m\n",
       "                \u001b[32m'virtualPerPhysical'\u001b[0m: \u001b[1;36m128\u001b[0m,\n",
       "                \u001b[32m'desiredCount'\u001b[0m: \u001b[1;36m1\u001b[0m,\n",
       "                \u001b[32m'actualCount'\u001b[0m: \u001b[1;36m1\u001b[0m,\n",
       "                \u001b[32m'desiredVirtualCount'\u001b[0m: \u001b[1;36m128\u001b[0m,\n",
       "                \u001b[32m'actualVirtualCount'\u001b[0m: \u001b[1;36m128\u001b[0m,\n",
       "                \u001b[32m'key'\u001b[0m: \u001b[32m'_id'\u001b[0m,\n",
       "                \u001b[32m'strategy'\u001b[0m: \u001b[32m'hash'\u001b[0m,\n",
       "                \u001b[32m'function'\u001b[0m: \u001b[32m'murmur3'\u001b[0m\n",
       "            \u001b[1m}\u001b[0m,\n",
       "            \u001b[32m'vectorIndexConfig'\u001b[0m: \u001b[1m{\u001b[0m\n",
       "                \u001b[32m'skip'\u001b[0m: \u001b[3;91mFalse\u001b[0m,\n",
       "                \u001b[32m'cleanupIntervalSeconds'\u001b[0m: \u001b[1;36m300\u001b[0m,\n",
       "                \u001b[32m'maxConnections'\u001b[0m: \u001b[1;36m64\u001b[0m,\n",
       "                \u001b[32m'efConstruction'\u001b[0m: \u001b[1;36m128\u001b[0m,\n",
       "                \u001b[32m'ef'\u001b[0m: \u001b[1;36m-1\u001b[0m,\n",
       "                \u001b[32m'dynamicEfMin'\u001b[0m: \u001b[1;36m100\u001b[0m,\n",
       "                \u001b[32m'dynamicEfMax'\u001b[0m: \u001b[1;36m500\u001b[0m,\n",
       "                \u001b[32m'dynamicEfFactor'\u001b[0m: \u001b[1;36m8\u001b[0m,\n",
       "                \u001b[32m'vectorCacheMaxObjects'\u001b[0m: \u001b[1;36m1000000000000\u001b[0m,\n",
       "                \u001b[32m'flatSearchCutoff'\u001b[0m: \u001b[1;36m40000\u001b[0m,\n",
       "                \u001b[32m'distance'\u001b[0m: \u001b[32m'cosine'\u001b[0m,\n",
       "                \u001b[32m'pq'\u001b[0m: \u001b[1m{\u001b[0m\n",
       "                    \u001b[32m'enabled'\u001b[0m: \u001b[3;91mFalse\u001b[0m,\n",
       "                    \u001b[32m'bitCompression'\u001b[0m: \u001b[3;91mFalse\u001b[0m,\n",
       "                    \u001b[32m'segments'\u001b[0m: \u001b[1;36m0\u001b[0m,\n",
       "                    \u001b[32m'centroids'\u001b[0m: \u001b[1;36m256\u001b[0m,\n",
       "                    \u001b[32m'trainingLimit'\u001b[0m: \u001b[1;36m100000\u001b[0m,\n",
       "                    \u001b[32m'encoder'\u001b[0m: \u001b[1m{\u001b[0m\u001b[32m'type'\u001b[0m: \u001b[32m'kmeans'\u001b[0m, \u001b[32m'distribution'\u001b[0m: \u001b[32m'log-normal'\u001b[0m\u001b[1m}\u001b[0m\n",
       "                \u001b[1m}\u001b[0m\n",
       "            \u001b[1m}\u001b[0m,\n",
       "            \u001b[32m'vectorIndexType'\u001b[0m: \u001b[32m'hnsw'\u001b[0m,\n",
       "            \u001b[32m'vectorizer'\u001b[0m: \u001b[32m'text2vec-openai'\u001b[0m\n",
       "        \u001b[1m}\u001b[0m\n",
       "    \u001b[1m]\u001b[0m\n",
       "\u001b[1m}\u001b[0m\n"
      ]
     },
     "metadata": {},
     "output_type": "display_data"
    }
   ],
   "source": [
    "# view the schme just created\n",
    "rprint(client.schema.get())"
   ]
  },
  {
   "attachments": {},
   "cell_type": "markdown",
   "metadata": {},
   "source": [
    "## Sentence Window Index and Store in Vectore DB"
   ]
  },
  {
   "cell_type": "code",
   "execution_count": 13,
   "metadata": {},
   "outputs": [],
   "source": [
    "from utils import build_sentence_window_index"
   ]
  },
  {
   "cell_type": "code",
   "execution_count": 14,
   "metadata": {},
   "outputs": [],
   "source": [
    "product_index = build_sentence_window_index_vector_DB(\n",
    "    document = document,\n",
    "    client = client,\n",
    "    llm = llm,\n",
    "    embed_model=embed_model,\n",
    "    prefix = \"Product_sent_win_index\"\n",
    ")\n",
    "# sentence_index = build_sentence_window_index(\n",
    "#     document = document,\n",
    "#     llm = llm,\n",
    "#     embed_model=embed_model,\n",
    "#     save_dir=\"sentence_index\"\n",
    "# )"
   ]
  },
  {
   "attachments": {},
   "cell_type": "markdown",
   "metadata": {},
   "source": [
    "## Build Weaviate Index"
   ]
  },
  {
   "cell_type": "code",
   "execution_count": 18,
   "metadata": {},
   "outputs": [],
   "source": [
    "# vector_store = WeaviateVectorStore(weaviate_client=client, class_prefix=\"Product_index\")\n",
    "# storage_context = StorageContext.from_defaults(vector_store=vector_store)\n",
    "\n",
    "\n",
    "# product_index = VectorStoreIndex.from_documents([document], storage_context=storage_context, \n",
    "#                 service_context = service_context)\n",
    "\n"
   ]
  },
  {
   "attachments": {},
   "cell_type": "markdown",
   "metadata": {},
   "source": [
    "# 2. RETRIEVAL"
   ]
  },
  {
   "attachments": {},
   "cell_type": "markdown",
   "metadata": {},
   "source": [
    "## Build SQL Query Engine"
   ]
  },
  {
   "cell_type": "code",
   "execution_count": 15,
   "metadata": {},
   "outputs": [],
   "source": [
    "# set up text2SQL prompt\n",
    "sql_query_engine = NLSQLTableQueryEngine(\n",
    "    sql_database=sql_database,\n",
    "    tables=[\"product_table\"],\n",
    ")"
   ]
  },
  {
   "attachments": {},
   "cell_type": "markdown",
   "metadata": {},
   "source": [
    "## Build Vector Query Engine"
   ]
  },
  {
   "cell_type": "code",
   "execution_count": 16,
   "metadata": {},
   "outputs": [],
   "source": [
    "\n",
    "vector_query_engine = product_index.as_query_engine()"
   ]
  },
  {
   "attachments": {},
   "cell_type": "markdown",
   "metadata": {},
   "source": [
    "## Tell llama index what tool to use"
   ]
  },
  {
   "cell_type": "code",
   "execution_count": 17,
   "metadata": {},
   "outputs": [],
   "source": [
    "# from llama_index.tools.query_engine import QueryEngineTool\n",
    "\n",
    "sql_tool = QueryEngineTool.from_defaults(\n",
    "    query_engine = sql_query_engine,\n",
    "    description=(\n",
    "        \"Useful for translating a natural language query into a SQL query over a product listing table containing: \"\n",
    "        \"Price , Rating, Description, and Features of each product\"\n",
    "    ),\n",
    ")\n",
    "vector_tool = QueryEngineTool.from_defaults(\n",
    "    query_engine=vector_query_engine,\n",
    "    description=\"Useful for answering semantic questions about product listing\",\n",
    ")"
   ]
  },
  {
   "attachments": {},
   "cell_type": "markdown",
   "metadata": {},
   "source": [
    "## Create a router\n"
   ]
  },
  {
   "cell_type": "code",
   "execution_count": 18,
   "metadata": {},
   "outputs": [],
   "source": [
    "query_engine = RouterQueryEngine(\n",
    "    selector=LLMSingleSelector.from_defaults(),\n",
    "    query_engine_tools=([sql_tool] + [vector_tool]),\n",
    ")"
   ]
  },
  {
   "attachments": {},
   "cell_type": "markdown",
   "metadata": {},
   "source": [
    "## Queries\n"
   ]
  },
  {
   "cell_type": "code",
   "execution_count": 19,
   "metadata": {},
   "outputs": [
    {
     "data": {
      "text/html": [
       "<pre style=\"white-space:pre;overflow-x:auto;line-height:normal;font-family:Menlo,'DejaVu Sans Mono',consolas,'Courier New',monospace\">The rating for the product named Portable Solar Charger is <span style=\"color: #008080; text-decoration-color: #008080; font-weight: bold\">4.0</span>.\n",
       "</pre>\n"
      ],
      "text/plain": [
       "The rating for the product named Portable Solar Charger is \u001b[1;36m4.0\u001b[0m.\n"
      ]
     },
     "metadata": {},
     "output_type": "display_data"
    }
   ],
   "source": [
    "response = query_engine.query(\"What is the Rating for the product whose name is Portable Solar Charger?\")\n",
    "rprint(str(response))"
   ]
  },
  {
   "cell_type": "code",
   "execution_count": 20,
   "metadata": {},
   "outputs": [
    {
     "data": {
      "text/html": [
       "<pre style=\"white-space:pre;overflow-x:auto;line-height:normal;font-family:Menlo,'DejaVu Sans Mono',consolas,'Courier New',monospace\">The Ultimate Wireless Bluetooth Earbuds are a top choice for audiophiles who value both sound quality and \n",
       "convenience. With advanced Bluetooth <span style=\"color: #008080; text-decoration-color: #008080; font-weight: bold\">5.0</span> technology, these earbuds offer seamless connectivity and crystal-clear \n",
       "audio. They provide high-fidelity sound with deep bass and clear treble, and also feature noise-canceling \n",
       "technology for an immersive listening experience. With <span style=\"color: #008080; text-decoration-color: #008080; font-weight: bold\">20</span> hours of playtime on a single charge, you can enjoy your \n",
       "music for extended periods of time. The ergonomic design ensures a secure and comfortable fit, and the touch \n",
       "controls make it easy to control playback and calls. Additionally, these earbuds have an IPX7 waterproof rating, \n",
       "making them suitable for outdoor activities.\n",
       "</pre>\n"
      ],
      "text/plain": [
       "The Ultimate Wireless Bluetooth Earbuds are a top choice for audiophiles who value both sound quality and \n",
       "convenience. With advanced Bluetooth \u001b[1;36m5.0\u001b[0m technology, these earbuds offer seamless connectivity and crystal-clear \n",
       "audio. They provide high-fidelity sound with deep bass and clear treble, and also feature noise-canceling \n",
       "technology for an immersive listening experience. With \u001b[1;36m20\u001b[0m hours of playtime on a single charge, you can enjoy your \n",
       "music for extended periods of time. The ergonomic design ensures a secure and comfortable fit, and the touch \n",
       "controls make it easy to control playback and calls. Additionally, these earbuds have an IPX7 waterproof rating, \n",
       "making them suitable for outdoor activities.\n"
      ]
     },
     "metadata": {},
     "output_type": "display_data"
    }
   ],
   "source": [
    "response = query_engine.query(\"Tell me about Wireless Bluetooth Earbuds products in the product listing \")\n",
    "rprint(str(response))"
   ]
  },
  {
   "cell_type": "code",
   "execution_count": 25,
   "metadata": {},
   "outputs": [
    {
     "data": {
      "text/html": [
       "<pre style=\"white-space:pre;overflow-x:auto;line-height:normal;font-family:Menlo,'DejaVu Sans Mono',consolas,'Courier New',monospace\"><span style=\"color: #800080; text-decoration-color: #800080; font-weight: bold\">Response</span><span style=\"font-weight: bold\">(</span>\n",
       "    <span style=\"color: #808000; text-decoration-color: #808000\">response</span>=<span style=\"color: #008000; text-decoration-color: #008000\">'The Ultimate Wireless Bluetooth Earbuds are a top choice for audiophiles looking for premium sound </span>\n",
       "<span style=\"color: #008000; text-decoration-color: #008000\">quality and convenience. With advanced Bluetooth 5.0 technology, these earbuds offer seamless connectivity and </span>\n",
       "<span style=\"color: #008000; text-decoration-color: #008000\">crystal-clear audio. They feature high-fidelity sound with deep bass and clear treble, as well as noise-canceling </span>\n",
       "<span style=\"color: #008000; text-decoration-color: #008000\">technology for an immersive listening experience. With 20 hours of playtime on a single charge, these earbuds are </span>\n",
       "<span style=\"color: #008000; text-decoration-color: #008000\">perfect for long listening sessions. The ergonomic design ensures a secure and comfortable fit, and the touch </span>\n",
       "<span style=\"color: #008000; text-decoration-color: #008000\">controls make playback and calls easy. Additionally, these earbuds have an IPX7 waterproof rating, making them </span>\n",
       "<span style=\"color: #008000; text-decoration-color: #008000\">suitable for outdoor activities.'</span>,\n",
       "    <span style=\"color: #808000; text-decoration-color: #808000\">source_nodes</span>=<span style=\"font-weight: bold\">[</span>\n",
       "        <span style=\"color: #800080; text-decoration-color: #800080; font-weight: bold\">NodeWithScore</span><span style=\"font-weight: bold\">(</span>\n",
       "            <span style=\"color: #808000; text-decoration-color: #808000\">node</span>=<span style=\"color: #800080; text-decoration-color: #800080; font-weight: bold\">TextNode</span><span style=\"font-weight: bold\">(</span>\n",
       "                <span style=\"color: #808000; text-decoration-color: #808000\">id_</span>=<span style=\"color: #008000; text-decoration-color: #008000\">'80dc47a4-e56d-4340-9a34-ac4330dbec6f'</span>,\n",
       "                <span style=\"color: #808000; text-decoration-color: #808000\">embedding</span>=<span style=\"color: #800080; text-decoration-color: #800080; font-style: italic\">None</span>,\n",
       "                <span style=\"color: #808000; text-decoration-color: #808000\">metadata</span>=<span style=\"font-weight: bold\">{}</span>,\n",
       "                <span style=\"color: #808000; text-decoration-color: #808000\">excluded_embed_metadata_keys</span>=<span style=\"font-weight: bold\">[]</span>,\n",
       "                <span style=\"color: #808000; text-decoration-color: #808000\">excluded_llm_metadata_keys</span>=<span style=\"font-weight: bold\">[]</span>,\n",
       "                <span style=\"color: #808000; text-decoration-color: #808000\">relationships</span>=<span style=\"font-weight: bold\">{}</span>,\n",
       "                <span style=\"color: #808000; text-decoration-color: #808000\">text</span>=<span style=\"color: #008000; text-decoration-color: #008000\">'[(\\'Ultimate Wireless Bluetooth Earbuds\\', 79.99, 4.4, \"Elevate your music experience with </span>\n",
       "<span style=\"color: #008000; text-decoration-color: #008000\">our Ultimate Wireless Bluetooth Earbuds. These earbuds are designed for audiophiles who demand premium sound </span>\n",
       "<span style=\"color: #008000; text-decoration-color: #008000\">quality and convenience. With advanced Bluetooth 5.0 technology, you\\'ll enjoy seamless connectivity and </span>\n",
       "<span style=\"color: #008000; text-decoration-color: #008000\">crystal-clear audio.\", \\'- High-fidelity sound with deep bass and clear treble. - Noise-canceling technology for an</span>\n",
       "<span style=\"color: #008000; text-decoration-color: #008000\">immersive listening experience. - 20 hours of playtime on a single charge. - Ergonomic design for a secure and </span>\n",
       "<span style=\"color: #008000; text-decoration-color: #008000\">comfortable fit. - Touch controls for easy playback and calls. - IPX7 waterproof rating for...\\')]'</span>,\n",
       "                <span style=\"color: #808000; text-decoration-color: #808000\">start_char_idx</span>=<span style=\"color: #800080; text-decoration-color: #800080; font-style: italic\">None</span>,\n",
       "                <span style=\"color: #808000; text-decoration-color: #808000\">end_char_idx</span>=<span style=\"color: #800080; text-decoration-color: #800080; font-style: italic\">None</span>,\n",
       "                <span style=\"color: #808000; text-decoration-color: #808000\">text_template</span>=<span style=\"color: #008000; text-decoration-color: #008000\">'{metadata_str}\\n\\n{content}'</span>,\n",
       "                <span style=\"color: #808000; text-decoration-color: #808000\">metadata_template</span>=<span style=\"color: #008000; text-decoration-color: #008000\">'{key}: {value}'</span>,\n",
       "                <span style=\"color: #808000; text-decoration-color: #808000\">metadata_seperator</span>=<span style=\"color: #008000; text-decoration-color: #008000\">'\\n'</span>\n",
       "            <span style=\"font-weight: bold\">)</span>,\n",
       "            <span style=\"color: #808000; text-decoration-color: #808000\">score</span>=<span style=\"color: #800080; text-decoration-color: #800080; font-style: italic\">None</span>\n",
       "        <span style=\"font-weight: bold\">)</span>\n",
       "    <span style=\"font-weight: bold\">]</span>,\n",
       "    <span style=\"color: #808000; text-decoration-color: #808000\">metadata</span>=<span style=\"font-weight: bold\">{</span>\n",
       "        <span style=\"color: #008000; text-decoration-color: #008000\">'80dc47a4-e56d-4340-9a34-ac4330dbec6f'</span>: <span style=\"font-weight: bold\">{}</span>,\n",
       "        <span style=\"color: #008000; text-decoration-color: #008000\">'sql_query'</span>: <span style=\"color: #008000; text-decoration-color: #008000\">\"SELECT Product_Name, Price, Rating, Description, Features\\nFROM product_table\\nWHERE </span>\n",
       "<span style=\"color: #008000; text-decoration-color: #008000\">Product_Name LIKE '%Wireless Bluetooth Earbuds%'\"</span>,\n",
       "        <span style=\"color: #008000; text-decoration-color: #008000\">'result'</span>: <span style=\"font-weight: bold\">[</span>\n",
       "            <span style=\"font-weight: bold\">(</span>\n",
       "                <span style=\"color: #008000; text-decoration-color: #008000\">'Ultimate Wireless Bluetooth Earbuds'</span>,\n",
       "                <span style=\"color: #008080; text-decoration-color: #008080; font-weight: bold\">79.99</span>,\n",
       "                <span style=\"color: #008080; text-decoration-color: #008080; font-weight: bold\">4.4</span>,\n",
       "                <span style=\"color: #008000; text-decoration-color: #008000\">\"Elevate your music experience with our Ultimate Wireless Bluetooth Earbuds. These earbuds are </span>\n",
       "<span style=\"color: #008000; text-decoration-color: #008000\">designed for audiophiles who demand premium sound quality and convenience. With advanced Bluetooth 5.0 technology, </span>\n",
       "<span style=\"color: #008000; text-decoration-color: #008000\">you'll enjoy seamless connectivity and crystal-clear audio.\"</span>,\n",
       "                <span style=\"color: #008000; text-decoration-color: #008000\">'- High-fidelity sound with deep bass and clear treble. - Noise-canceling technology for an </span>\n",
       "<span style=\"color: #008000; text-decoration-color: #008000\">immersive listening experience. - 20 hours of playtime on a single charge. - Ergonomic design for a secure and </span>\n",
       "<span style=\"color: #008000; text-decoration-color: #008000\">comfortable fit. - Touch controls for easy playback and calls. - IPX7 waterproof rating for...'</span>\n",
       "            <span style=\"font-weight: bold\">)</span>\n",
       "        <span style=\"font-weight: bold\">]</span>,\n",
       "        <span style=\"color: #008000; text-decoration-color: #008000\">'col_keys'</span>: <span style=\"font-weight: bold\">[</span><span style=\"color: #008000; text-decoration-color: #008000\">'Product_Name'</span>, <span style=\"color: #008000; text-decoration-color: #008000\">'Price'</span>, <span style=\"color: #008000; text-decoration-color: #008000\">'Rating'</span>, <span style=\"color: #008000; text-decoration-color: #008000\">'Description'</span>, <span style=\"color: #008000; text-decoration-color: #008000\">'Features'</span><span style=\"font-weight: bold\">]</span>,\n",
       "        <span style=\"color: #008000; text-decoration-color: #008000\">'selector_result'</span>: <span style=\"color: #800080; text-decoration-color: #800080; font-weight: bold\">MultiSelection</span><span style=\"font-weight: bold\">(</span>\n",
       "            <span style=\"color: #808000; text-decoration-color: #808000\">selections</span>=<span style=\"font-weight: bold\">[</span>\n",
       "                <span style=\"color: #800080; text-decoration-color: #800080; font-weight: bold\">SingleSelection</span><span style=\"font-weight: bold\">(</span>\n",
       "                    <span style=\"color: #808000; text-decoration-color: #808000\">index</span>=<span style=\"color: #008080; text-decoration-color: #008080; font-weight: bold\">0</span>,\n",
       "                    <span style=\"color: #808000; text-decoration-color: #808000\">reason</span>=<span style=\"color: #008000; text-decoration-color: #008000\">'Choice 1 is the most relevant because it mentions translating a natural language query </span>\n",
       "<span style=\"color: #008000; text-decoration-color: #008000\">into a SQL query over a product listing table, which would be useful for retrieving information about Wireless </span>\n",
       "<span style=\"color: #008000; text-decoration-color: #008000\">Bluetooth Earbuds products in the product listing.'</span>\n",
       "                <span style=\"font-weight: bold\">)</span>\n",
       "            <span style=\"font-weight: bold\">]</span>\n",
       "        <span style=\"font-weight: bold\">)</span>\n",
       "    <span style=\"font-weight: bold\">}</span>\n",
       "<span style=\"font-weight: bold\">)</span>\n",
       "</pre>\n"
      ],
      "text/plain": [
       "\u001b[1;35mResponse\u001b[0m\u001b[1m(\u001b[0m\n",
       "    \u001b[33mresponse\u001b[0m=\u001b[32m'The Ultimate Wireless Bluetooth Earbuds are a top choice for audiophiles looking for premium sound \u001b[0m\n",
       "\u001b[32mquality and convenience. With advanced Bluetooth 5.0 technology, these earbuds offer seamless connectivity and \u001b[0m\n",
       "\u001b[32mcrystal-clear audio. They feature high-fidelity sound with deep bass and clear treble, as well as noise-canceling \u001b[0m\n",
       "\u001b[32mtechnology for an immersive listening experience. With 20 hours of playtime on a single charge, these earbuds are \u001b[0m\n",
       "\u001b[32mperfect for long listening sessions. The ergonomic design ensures a secure and comfortable fit, and the touch \u001b[0m\n",
       "\u001b[32mcontrols make playback and calls easy. Additionally, these earbuds have an IPX7 waterproof rating, making them \u001b[0m\n",
       "\u001b[32msuitable for outdoor activities.'\u001b[0m,\n",
       "    \u001b[33msource_nodes\u001b[0m=\u001b[1m[\u001b[0m\n",
       "        \u001b[1;35mNodeWithScore\u001b[0m\u001b[1m(\u001b[0m\n",
       "            \u001b[33mnode\u001b[0m=\u001b[1;35mTextNode\u001b[0m\u001b[1m(\u001b[0m\n",
       "                \u001b[33mid_\u001b[0m=\u001b[32m'80dc47a4-e56d-4340-9a34-ac4330dbec6f'\u001b[0m,\n",
       "                \u001b[33membedding\u001b[0m=\u001b[3;35mNone\u001b[0m,\n",
       "                \u001b[33mmetadata\u001b[0m=\u001b[1m{\u001b[0m\u001b[1m}\u001b[0m,\n",
       "                \u001b[33mexcluded_embed_metadata_keys\u001b[0m=\u001b[1m[\u001b[0m\u001b[1m]\u001b[0m,\n",
       "                \u001b[33mexcluded_llm_metadata_keys\u001b[0m=\u001b[1m[\u001b[0m\u001b[1m]\u001b[0m,\n",
       "                \u001b[33mrelationships\u001b[0m=\u001b[1m{\u001b[0m\u001b[1m}\u001b[0m,\n",
       "                \u001b[33mtext\u001b[0m=\u001b[32m'\u001b[0m\u001b[32m[\u001b[0m\u001b[32m(\u001b[0m\u001b[32m\\'Ultimate Wireless Bluetooth Earbuds\\', 79.99, 4.4, \"Elevate your music experience with \u001b[0m\n",
       "\u001b[32mour Ultimate Wireless Bluetooth Earbuds. These earbuds are designed for audiophiles who demand premium sound \u001b[0m\n",
       "\u001b[32mquality and convenience. With advanced Bluetooth 5.0 technology, you\\'ll enjoy seamless connectivity and \u001b[0m\n",
       "\u001b[32mcrystal-clear audio.\", \\'- High-fidelity sound with deep bass and clear treble. - Noise-canceling technology for an\u001b[0m\n",
       "\u001b[32mimmersive listening experience. - 20 hours of playtime on a single charge. - Ergonomic design for a secure and \u001b[0m\n",
       "\u001b[32mcomfortable fit. - Touch controls for easy playback and calls. - IPX7 waterproof rating for...\\'\u001b[0m\u001b[32m)\u001b[0m\u001b[32m]\u001b[0m\u001b[32m'\u001b[0m,\n",
       "                \u001b[33mstart_char_idx\u001b[0m=\u001b[3;35mNone\u001b[0m,\n",
       "                \u001b[33mend_char_idx\u001b[0m=\u001b[3;35mNone\u001b[0m,\n",
       "                \u001b[33mtext_template\u001b[0m=\u001b[32m'\u001b[0m\u001b[32m{\u001b[0m\u001b[32mmetadata_str\u001b[0m\u001b[32m}\u001b[0m\u001b[32m\\n\\n\u001b[0m\u001b[32m{\u001b[0m\u001b[32mcontent\u001b[0m\u001b[32m}\u001b[0m\u001b[32m'\u001b[0m,\n",
       "                \u001b[33mmetadata_template\u001b[0m=\u001b[32m'\u001b[0m\u001b[32m{\u001b[0m\u001b[32mkey\u001b[0m\u001b[32m}\u001b[0m\u001b[32m: \u001b[0m\u001b[32m{\u001b[0m\u001b[32mvalue\u001b[0m\u001b[32m}\u001b[0m\u001b[32m'\u001b[0m,\n",
       "                \u001b[33mmetadata_seperator\u001b[0m=\u001b[32m'\\n'\u001b[0m\n",
       "            \u001b[1m)\u001b[0m,\n",
       "            \u001b[33mscore\u001b[0m=\u001b[3;35mNone\u001b[0m\n",
       "        \u001b[1m)\u001b[0m\n",
       "    \u001b[1m]\u001b[0m,\n",
       "    \u001b[33mmetadata\u001b[0m=\u001b[1m{\u001b[0m\n",
       "        \u001b[32m'80dc47a4-e56d-4340-9a34-ac4330dbec6f'\u001b[0m: \u001b[1m{\u001b[0m\u001b[1m}\u001b[0m,\n",
       "        \u001b[32m'sql_query'\u001b[0m: \u001b[32m\"SELECT Product_Name, Price, Rating, Description, Features\\nFROM product_table\\nWHERE \u001b[0m\n",
       "\u001b[32mProduct_Name LIKE '%Wireless Bluetooth Earbuds%'\"\u001b[0m,\n",
       "        \u001b[32m'result'\u001b[0m: \u001b[1m[\u001b[0m\n",
       "            \u001b[1m(\u001b[0m\n",
       "                \u001b[32m'Ultimate Wireless Bluetooth Earbuds'\u001b[0m,\n",
       "                \u001b[1;36m79.99\u001b[0m,\n",
       "                \u001b[1;36m4.4\u001b[0m,\n",
       "                \u001b[32m\"Elevate your music experience with our Ultimate Wireless Bluetooth Earbuds. These earbuds are \u001b[0m\n",
       "\u001b[32mdesigned for audiophiles who demand premium sound quality and convenience. With advanced Bluetooth 5.0 technology, \u001b[0m\n",
       "\u001b[32myou'll enjoy seamless connectivity and crystal-clear audio.\"\u001b[0m,\n",
       "                \u001b[32m'- High-fidelity sound with deep bass and clear treble. - Noise-canceling technology for an \u001b[0m\n",
       "\u001b[32mimmersive listening experience. - 20 hours of playtime on a single charge. - Ergonomic design for a secure and \u001b[0m\n",
       "\u001b[32mcomfortable fit. - Touch controls for easy playback and calls. - IPX7 waterproof rating for...'\u001b[0m\n",
       "            \u001b[1m)\u001b[0m\n",
       "        \u001b[1m]\u001b[0m,\n",
       "        \u001b[32m'col_keys'\u001b[0m: \u001b[1m[\u001b[0m\u001b[32m'Product_Name'\u001b[0m, \u001b[32m'Price'\u001b[0m, \u001b[32m'Rating'\u001b[0m, \u001b[32m'Description'\u001b[0m, \u001b[32m'Features'\u001b[0m\u001b[1m]\u001b[0m,\n",
       "        \u001b[32m'selector_result'\u001b[0m: \u001b[1;35mMultiSelection\u001b[0m\u001b[1m(\u001b[0m\n",
       "            \u001b[33mselections\u001b[0m=\u001b[1m[\u001b[0m\n",
       "                \u001b[1;35mSingleSelection\u001b[0m\u001b[1m(\u001b[0m\n",
       "                    \u001b[33mindex\u001b[0m=\u001b[1;36m0\u001b[0m,\n",
       "                    \u001b[33mreason\u001b[0m=\u001b[32m'Choice 1 is the most relevant because it mentions translating a natural language query \u001b[0m\n",
       "\u001b[32minto a SQL query over a product listing table, which would be useful for retrieving information about Wireless \u001b[0m\n",
       "\u001b[32mBluetooth Earbuds products in the product listing.'\u001b[0m\n",
       "                \u001b[1m)\u001b[0m\n",
       "            \u001b[1m]\u001b[0m\n",
       "        \u001b[1m)\u001b[0m\n",
       "    \u001b[1m}\u001b[0m\n",
       "\u001b[1m)\u001b[0m\n"
      ]
     },
     "metadata": {},
     "output_type": "display_data"
    }
   ],
   "source": [
    "rprint(response)"
   ]
  },
  {
   "cell_type": "code",
   "execution_count": 21,
   "metadata": {},
   "outputs": [
    {
     "data": {
      "text/html": [
       "<pre style=\"white-space:pre;overflow-x:auto;line-height:normal;font-family:Menlo,'DejaVu Sans Mono',consolas,'Courier New',monospace\">There are <span style=\"color: #008080; text-decoration-color: #008080; font-weight: bold\">2</span> products in the product listing that cost <span style=\"color: #008080; text-decoration-color: #008080; font-weight: bold\">79.99</span>.\n",
       "</pre>\n"
      ],
      "text/plain": [
       "There are \u001b[1;36m2\u001b[0m products in the product listing that cost \u001b[1;36m79.99\u001b[0m.\n"
      ]
     },
     "metadata": {},
     "output_type": "display_data"
    }
   ],
   "source": [
    "response = query_engine.query(\"How many product cost 79.99 in the product listing?\")\n",
    "rprint(str(response))"
   ]
  },
  {
   "cell_type": "code",
   "execution_count": 27,
   "metadata": {},
   "outputs": [
    {
     "data": {
      "text/html": [
       "<pre style=\"white-space:pre;overflow-x:auto;line-height:normal;font-family:Menlo,'DejaVu Sans Mono',consolas,'Courier New',monospace\"><span style=\"color: #800080; text-decoration-color: #800080; font-weight: bold\">Response</span><span style=\"font-weight: bold\">(</span>\n",
       "    <span style=\"color: #808000; text-decoration-color: #808000\">response</span>=<span style=\"color: #008000; text-decoration-color: #008000\">'There are 2 products in the product listing that cost 79.99.'</span>,\n",
       "    <span style=\"color: #808000; text-decoration-color: #808000\">source_nodes</span>=<span style=\"font-weight: bold\">[</span>\n",
       "        <span style=\"color: #800080; text-decoration-color: #800080; font-weight: bold\">NodeWithScore</span><span style=\"font-weight: bold\">(</span>\n",
       "            <span style=\"color: #808000; text-decoration-color: #808000\">node</span>=<span style=\"color: #800080; text-decoration-color: #800080; font-weight: bold\">TextNode</span><span style=\"font-weight: bold\">(</span>\n",
       "                <span style=\"color: #808000; text-decoration-color: #808000\">id_</span>=<span style=\"color: #008000; text-decoration-color: #008000\">'613c821c-0ed8-4f28-81c8-9fc5531b920d'</span>,\n",
       "                <span style=\"color: #808000; text-decoration-color: #808000\">embedding</span>=<span style=\"color: #800080; text-decoration-color: #800080; font-style: italic\">None</span>,\n",
       "                <span style=\"color: #808000; text-decoration-color: #808000\">metadata</span>=<span style=\"font-weight: bold\">{}</span>,\n",
       "                <span style=\"color: #808000; text-decoration-color: #808000\">excluded_embed_metadata_keys</span>=<span style=\"font-weight: bold\">[]</span>,\n",
       "                <span style=\"color: #808000; text-decoration-color: #808000\">excluded_llm_metadata_keys</span>=<span style=\"font-weight: bold\">[]</span>,\n",
       "                <span style=\"color: #808000; text-decoration-color: #808000\">relationships</span>=<span style=\"font-weight: bold\">{}</span>,\n",
       "                <span style=\"color: #808000; text-decoration-color: #808000\">text</span>=<span style=\"color: #008000; text-decoration-color: #008000\">'[(2,)]'</span>,\n",
       "                <span style=\"color: #808000; text-decoration-color: #808000\">start_char_idx</span>=<span style=\"color: #800080; text-decoration-color: #800080; font-style: italic\">None</span>,\n",
       "                <span style=\"color: #808000; text-decoration-color: #808000\">end_char_idx</span>=<span style=\"color: #800080; text-decoration-color: #800080; font-style: italic\">None</span>,\n",
       "                <span style=\"color: #808000; text-decoration-color: #808000\">text_template</span>=<span style=\"color: #008000; text-decoration-color: #008000\">'{metadata_str}\\n\\n{content}'</span>,\n",
       "                <span style=\"color: #808000; text-decoration-color: #808000\">metadata_template</span>=<span style=\"color: #008000; text-decoration-color: #008000\">'{key}: {value}'</span>,\n",
       "                <span style=\"color: #808000; text-decoration-color: #808000\">metadata_seperator</span>=<span style=\"color: #008000; text-decoration-color: #008000\">'\\n'</span>\n",
       "            <span style=\"font-weight: bold\">)</span>,\n",
       "            <span style=\"color: #808000; text-decoration-color: #808000\">score</span>=<span style=\"color: #800080; text-decoration-color: #800080; font-style: italic\">None</span>\n",
       "        <span style=\"font-weight: bold\">)</span>\n",
       "    <span style=\"font-weight: bold\">]</span>,\n",
       "    <span style=\"color: #808000; text-decoration-color: #808000\">metadata</span>=<span style=\"font-weight: bold\">{</span>\n",
       "        <span style=\"color: #008000; text-decoration-color: #008000\">'613c821c-0ed8-4f28-81c8-9fc5531b920d'</span>: <span style=\"font-weight: bold\">{}</span>,\n",
       "        <span style=\"color: #008000; text-decoration-color: #008000\">'sql_query'</span>: <span style=\"color: #008000; text-decoration-color: #008000\">'SELECT COUNT(*) FROM product_table WHERE Price = 79.99'</span>,\n",
       "        <span style=\"color: #008000; text-decoration-color: #008000\">'result'</span>: <span style=\"font-weight: bold\">[(</span><span style=\"color: #008080; text-decoration-color: #008080; font-weight: bold\">2</span>,<span style=\"font-weight: bold\">)]</span>,\n",
       "        <span style=\"color: #008000; text-decoration-color: #008000\">'col_keys'</span>: <span style=\"font-weight: bold\">[</span><span style=\"color: #008000; text-decoration-color: #008000\">'COUNT(*)'</span><span style=\"font-weight: bold\">]</span>,\n",
       "        <span style=\"color: #008000; text-decoration-color: #008000\">'selector_result'</span>: <span style=\"color: #800080; text-decoration-color: #800080; font-weight: bold\">MultiSelection</span><span style=\"font-weight: bold\">(</span>\n",
       "            <span style=\"color: #808000; text-decoration-color: #808000\">selections</span>=<span style=\"font-weight: bold\">[</span>\n",
       "                <span style=\"color: #800080; text-decoration-color: #800080; font-weight: bold\">SingleSelection</span><span style=\"font-weight: bold\">(</span>\n",
       "                    <span style=\"color: #808000; text-decoration-color: #808000\">index</span>=<span style=\"color: #008080; text-decoration-color: #008080; font-weight: bold\">0</span>,\n",
       "                    <span style=\"color: #808000; text-decoration-color: #808000\">reason</span>=<span style=\"color: #008000; text-decoration-color: #008000\">'Choice 1 is the most relevant because it mentions translating a natural language query </span>\n",
       "<span style=\"color: #008000; text-decoration-color: #008000\">into a SQL query over a product listing table, which would be necessary to find the number of products that cost </span>\n",
       "<span style=\"color: #008000; text-decoration-color: #008000\">79.99 in the product listing.'</span>\n",
       "                <span style=\"font-weight: bold\">)</span>\n",
       "            <span style=\"font-weight: bold\">]</span>\n",
       "        <span style=\"font-weight: bold\">)</span>\n",
       "    <span style=\"font-weight: bold\">}</span>\n",
       "<span style=\"font-weight: bold\">)</span>\n",
       "</pre>\n"
      ],
      "text/plain": [
       "\u001b[1;35mResponse\u001b[0m\u001b[1m(\u001b[0m\n",
       "    \u001b[33mresponse\u001b[0m=\u001b[32m'There are 2 products in the product listing that cost 79.99.'\u001b[0m,\n",
       "    \u001b[33msource_nodes\u001b[0m=\u001b[1m[\u001b[0m\n",
       "        \u001b[1;35mNodeWithScore\u001b[0m\u001b[1m(\u001b[0m\n",
       "            \u001b[33mnode\u001b[0m=\u001b[1;35mTextNode\u001b[0m\u001b[1m(\u001b[0m\n",
       "                \u001b[33mid_\u001b[0m=\u001b[32m'613c821c-0ed8-4f28-81c8-9fc5531b920d'\u001b[0m,\n",
       "                \u001b[33membedding\u001b[0m=\u001b[3;35mNone\u001b[0m,\n",
       "                \u001b[33mmetadata\u001b[0m=\u001b[1m{\u001b[0m\u001b[1m}\u001b[0m,\n",
       "                \u001b[33mexcluded_embed_metadata_keys\u001b[0m=\u001b[1m[\u001b[0m\u001b[1m]\u001b[0m,\n",
       "                \u001b[33mexcluded_llm_metadata_keys\u001b[0m=\u001b[1m[\u001b[0m\u001b[1m]\u001b[0m,\n",
       "                \u001b[33mrelationships\u001b[0m=\u001b[1m{\u001b[0m\u001b[1m}\u001b[0m,\n",
       "                \u001b[33mtext\u001b[0m=\u001b[32m'\u001b[0m\u001b[32m[\u001b[0m\u001b[32m(\u001b[0m\u001b[32m2,\u001b[0m\u001b[32m)\u001b[0m\u001b[32m]\u001b[0m\u001b[32m'\u001b[0m,\n",
       "                \u001b[33mstart_char_idx\u001b[0m=\u001b[3;35mNone\u001b[0m,\n",
       "                \u001b[33mend_char_idx\u001b[0m=\u001b[3;35mNone\u001b[0m,\n",
       "                \u001b[33mtext_template\u001b[0m=\u001b[32m'\u001b[0m\u001b[32m{\u001b[0m\u001b[32mmetadata_str\u001b[0m\u001b[32m}\u001b[0m\u001b[32m\\n\\n\u001b[0m\u001b[32m{\u001b[0m\u001b[32mcontent\u001b[0m\u001b[32m}\u001b[0m\u001b[32m'\u001b[0m,\n",
       "                \u001b[33mmetadata_template\u001b[0m=\u001b[32m'\u001b[0m\u001b[32m{\u001b[0m\u001b[32mkey\u001b[0m\u001b[32m}\u001b[0m\u001b[32m: \u001b[0m\u001b[32m{\u001b[0m\u001b[32mvalue\u001b[0m\u001b[32m}\u001b[0m\u001b[32m'\u001b[0m,\n",
       "                \u001b[33mmetadata_seperator\u001b[0m=\u001b[32m'\\n'\u001b[0m\n",
       "            \u001b[1m)\u001b[0m,\n",
       "            \u001b[33mscore\u001b[0m=\u001b[3;35mNone\u001b[0m\n",
       "        \u001b[1m)\u001b[0m\n",
       "    \u001b[1m]\u001b[0m,\n",
       "    \u001b[33mmetadata\u001b[0m=\u001b[1m{\u001b[0m\n",
       "        \u001b[32m'613c821c-0ed8-4f28-81c8-9fc5531b920d'\u001b[0m: \u001b[1m{\u001b[0m\u001b[1m}\u001b[0m,\n",
       "        \u001b[32m'sql_query'\u001b[0m: \u001b[32m'SELECT COUNT\u001b[0m\u001b[32m(\u001b[0m\u001b[32m*\u001b[0m\u001b[32m)\u001b[0m\u001b[32m FROM product_table WHERE Price = 79.99'\u001b[0m,\n",
       "        \u001b[32m'result'\u001b[0m: \u001b[1m[\u001b[0m\u001b[1m(\u001b[0m\u001b[1;36m2\u001b[0m,\u001b[1m)\u001b[0m\u001b[1m]\u001b[0m,\n",
       "        \u001b[32m'col_keys'\u001b[0m: \u001b[1m[\u001b[0m\u001b[32m'COUNT\u001b[0m\u001b[32m(\u001b[0m\u001b[32m*\u001b[0m\u001b[32m)\u001b[0m\u001b[32m'\u001b[0m\u001b[1m]\u001b[0m,\n",
       "        \u001b[32m'selector_result'\u001b[0m: \u001b[1;35mMultiSelection\u001b[0m\u001b[1m(\u001b[0m\n",
       "            \u001b[33mselections\u001b[0m=\u001b[1m[\u001b[0m\n",
       "                \u001b[1;35mSingleSelection\u001b[0m\u001b[1m(\u001b[0m\n",
       "                    \u001b[33mindex\u001b[0m=\u001b[1;36m0\u001b[0m,\n",
       "                    \u001b[33mreason\u001b[0m=\u001b[32m'Choice 1 is the most relevant because it mentions translating a natural language query \u001b[0m\n",
       "\u001b[32minto a SQL query over a product listing table, which would be necessary to find the number of products that cost \u001b[0m\n",
       "\u001b[32m79.99 in the product listing.'\u001b[0m\n",
       "                \u001b[1m)\u001b[0m\n",
       "            \u001b[1m]\u001b[0m\n",
       "        \u001b[1m)\u001b[0m\n",
       "    \u001b[1m}\u001b[0m\n",
       "\u001b[1m)\u001b[0m\n"
      ]
     },
     "metadata": {},
     "output_type": "display_data"
    }
   ],
   "source": [
    "rprint(response)"
   ]
  },
  {
   "cell_type": "code",
   "execution_count": 22,
   "metadata": {},
   "outputs": [
    {
     "data": {
      "text/html": [
       "<pre style=\"white-space:pre;overflow-x:auto;line-height:normal;font-family:Menlo,'DejaVu Sans Mono',consolas,'Courier New',monospace\">There are two products that are similar to Wireless Bluetooth Earbuds products.\n",
       "</pre>\n"
      ],
      "text/plain": [
       "There are two products that are similar to Wireless Bluetooth Earbuds products.\n"
      ]
     },
     "metadata": {},
     "output_type": "display_data"
    }
   ],
   "source": [
    "response = query_engine.query(\"How many product are similar to Wireless Bluetooth Earbuds products?\")\n",
    "rprint(str(response))"
   ]
  },
  {
   "cell_type": "code",
   "execution_count": null,
   "metadata": {},
   "outputs": [],
   "source": [
    "rprint(response)"
   ]
  },
  {
   "cell_type": "code",
   "execution_count": 23,
   "metadata": {},
   "outputs": [
    {
     "data": {
      "text/html": [
       "<pre style=\"white-space:pre;overflow-x:auto;line-height:normal;font-family:Menlo,'DejaVu Sans Mono',consolas,'Courier New',monospace\">The products whose descriptions are similar are:\n",
       "<span style=\"color: #008080; text-decoration-color: #008080; font-weight: bold\">1</span>. Organic Bamboo Bed Sheets\n",
       "<span style=\"color: #008080; text-decoration-color: #008080; font-weight: bold\">2</span>. Virtual Reality Headset\n",
       "</pre>\n"
      ],
      "text/plain": [
       "The products whose descriptions are similar are:\n",
       "\u001b[1;36m1\u001b[0m. Organic Bamboo Bed Sheets\n",
       "\u001b[1;36m2\u001b[0m. Virtual Reality Headset\n"
      ]
     },
     "metadata": {},
     "output_type": "display_data"
    }
   ],
   "source": [
    "response = query_engine.query(\"list the products whose descriptions are similar.\")\n",
    "rprint(str(response))"
   ]
  },
  {
   "cell_type": "code",
   "execution_count": 67,
   "metadata": {},
   "outputs": [
    {
     "data": {
      "text/html": [
       "<pre style=\"white-space:pre;overflow-x:auto;line-height:normal;font-family:Menlo,'DejaVu Sans Mono',consolas,'Courier New',monospace\"><span style=\"font-weight: bold\">{</span>\n",
       "    <span style=\"color: #008000; text-decoration-color: #008000\">'a57285ab-1c52-48f8-b669-54b224d598ad'</span>: <span style=\"font-weight: bold\">{}</span>,\n",
       "    <span style=\"color: #008000; text-decoration-color: #008000\">'dd13f5be-f2f6-4a70-b076-073bf9ec2f58'</span>: <span style=\"font-weight: bold\">{}</span>,\n",
       "    <span style=\"color: #008000; text-decoration-color: #008000\">'selector_result'</span>: <span style=\"color: #800080; text-decoration-color: #800080; font-weight: bold\">MultiSelection</span><span style=\"font-weight: bold\">(</span>\n",
       "        <span style=\"color: #808000; text-decoration-color: #808000\">selections</span>=<span style=\"font-weight: bold\">[</span>\n",
       "            <span style=\"color: #800080; text-decoration-color: #800080; font-weight: bold\">SingleSelection</span><span style=\"font-weight: bold\">(</span>\n",
       "                <span style=\"color: #808000; text-decoration-color: #808000\">index</span>=<span style=\"color: #008080; text-decoration-color: #008080; font-weight: bold\">1</span>,\n",
       "                <span style=\"color: #808000; text-decoration-color: #808000\">reason</span>=<span style=\"color: #008000; text-decoration-color: #008000\">'Choice 2 is most relevant because it specifically mentions answering semantic questions </span>\n",
       "<span style=\"color: #008000; text-decoration-color: #008000\">about product listing, which includes determining similarity between product descriptions.'</span>\n",
       "            <span style=\"font-weight: bold\">)</span>\n",
       "        <span style=\"font-weight: bold\">]</span>\n",
       "    <span style=\"font-weight: bold\">)</span>\n",
       "<span style=\"font-weight: bold\">}</span>\n",
       "</pre>\n"
      ],
      "text/plain": [
       "\u001b[1m{\u001b[0m\n",
       "    \u001b[32m'a57285ab-1c52-48f8-b669-54b224d598ad'\u001b[0m: \u001b[1m{\u001b[0m\u001b[1m}\u001b[0m,\n",
       "    \u001b[32m'dd13f5be-f2f6-4a70-b076-073bf9ec2f58'\u001b[0m: \u001b[1m{\u001b[0m\u001b[1m}\u001b[0m,\n",
       "    \u001b[32m'selector_result'\u001b[0m: \u001b[1;35mMultiSelection\u001b[0m\u001b[1m(\u001b[0m\n",
       "        \u001b[33mselections\u001b[0m=\u001b[1m[\u001b[0m\n",
       "            \u001b[1;35mSingleSelection\u001b[0m\u001b[1m(\u001b[0m\n",
       "                \u001b[33mindex\u001b[0m=\u001b[1;36m1\u001b[0m,\n",
       "                \u001b[33mreason\u001b[0m=\u001b[32m'Choice 2 is most relevant because it specifically mentions answering semantic questions \u001b[0m\n",
       "\u001b[32mabout product listing, which includes determining similarity between product descriptions.'\u001b[0m\n",
       "            \u001b[1m)\u001b[0m\n",
       "        \u001b[1m]\u001b[0m\n",
       "    \u001b[1m)\u001b[0m\n",
       "\u001b[1m}\u001b[0m\n"
      ]
     },
     "metadata": {},
     "output_type": "display_data"
    }
   ],
   "source": [
    "rprint(response.metadata)"
   ]
  },
  {
   "cell_type": "code",
   "execution_count": 31,
   "metadata": {},
   "outputs": [
    {
     "data": {
      "text/html": [
       "<pre style=\"white-space:pre;overflow-x:auto;line-height:normal;font-family:Menlo,'DejaVu Sans Mono',consolas,'Courier New',monospace\"><span style=\"font-weight: bold\">[</span><span style=\"color: #008000; text-decoration-color: #008000\">'Experience ultimate comfort with our Organic Bamboo Bed Sheets. These luxuriously soft sheets are made from </span>\n",
       "<span style=\"color: #008000; text-decoration-color: #008000\">sustainable and breathable bamboo fibers.'</span>\n",
       " <span style=\"color: #008000; text-decoration-color: #008000\">'Immerse yourself in virtual worlds with our Virtual Reality Headset. Experience gaming, entertainment, and </span>\n",
       "<span style=\"color: #008000; text-decoration-color: #008000\">exploration like never before.'</span><span style=\"font-weight: bold\">]</span>\n",
       "</pre>\n"
      ],
      "text/plain": [
       "\u001b[1m[\u001b[0m\u001b[32m'Experience ultimate comfort with our Organic Bamboo Bed Sheets. These luxuriously soft sheets are made from \u001b[0m\n",
       "\u001b[32msustainable and breathable bamboo fibers.'\u001b[0m\n",
       " \u001b[32m'Immerse yourself in virtual worlds with our Virtual Reality Headset. Experience gaming, entertainment, and \u001b[0m\n",
       "\u001b[32mexploration like never before.'\u001b[0m\u001b[1m]\u001b[0m\n"
      ]
     },
     "metadata": {},
     "output_type": "display_data"
    }
   ],
   "source": [
    "rprint(data.loc[data.Product_Name.isin(('Organic Bamboo Bed Sheets', 'Virtual Reality Headset')), \"Description\"].values)"
   ]
  },
  {
   "cell_type": "code",
   "execution_count": 24,
   "metadata": {},
   "outputs": [
    {
     "data": {
      "text/html": [
       "<pre style=\"white-space:pre;overflow-x:auto;line-height:normal;font-family:Menlo,'DejaVu Sans Mono',consolas,'Courier New',monospace\">The product that has <span style=\"color: #008000; text-decoration-color: #008000\">'heart rate'</span> in its description is the Fitness Tracker Smartwatch.\n",
       "</pre>\n"
      ],
      "text/plain": [
       "The product that has \u001b[32m'heart rate'\u001b[0m in its description is the Fitness Tracker Smartwatch.\n"
      ]
     },
     "metadata": {},
     "output_type": "display_data"
    }
   ],
   "source": [
    "response = query_engine.query(\"Which product has 'heart rate' in its description\")\n",
    "rprint(str(response))"
   ]
  },
  {
   "cell_type": "code",
   "execution_count": 84,
   "metadata": {},
   "outputs": [
    {
     "data": {
      "text/html": [
       "<pre style=\"white-space:pre;overflow-x:auto;line-height:normal;font-family:Menlo,'DejaVu Sans Mono',consolas,'Courier New',monospace\"><span style=\"color: #800080; text-decoration-color: #800080; font-weight: bold\">Response</span><span style=\"font-weight: bold\">(</span>\n",
       "    <span style=\"color: #808000; text-decoration-color: #808000\">response</span>=<span style=\"color: #008000; text-decoration-color: #008000\">\"The product that has 'heart rate' in its description is the Fitness Tracker Smartwatch.\"</span>,\n",
       "    <span style=\"color: #808000; text-decoration-color: #808000\">source_nodes</span>=<span style=\"font-weight: bold\">[</span>\n",
       "        <span style=\"color: #800080; text-decoration-color: #800080; font-weight: bold\">NodeWithScore</span><span style=\"font-weight: bold\">(</span>\n",
       "            <span style=\"color: #808000; text-decoration-color: #808000\">node</span>=<span style=\"color: #800080; text-decoration-color: #800080; font-weight: bold\">TextNode</span><span style=\"font-weight: bold\">(</span>\n",
       "                <span style=\"color: #808000; text-decoration-color: #808000\">id_</span>=<span style=\"color: #008000; text-decoration-color: #008000\">'0dbf45a2-3a3c-497b-bb2e-d57eca866a37'</span>,\n",
       "                <span style=\"color: #808000; text-decoration-color: #808000\">embedding</span>=<span style=\"color: #800080; text-decoration-color: #800080; font-style: italic\">None</span>,\n",
       "                <span style=\"color: #808000; text-decoration-color: #808000\">metadata</span>=<span style=\"font-weight: bold\">{}</span>,\n",
       "                <span style=\"color: #808000; text-decoration-color: #808000\">excluded_embed_metadata_keys</span>=<span style=\"font-weight: bold\">[]</span>,\n",
       "                <span style=\"color: #808000; text-decoration-color: #808000\">excluded_llm_metadata_keys</span>=<span style=\"font-weight: bold\">[]</span>,\n",
       "                <span style=\"color: #808000; text-decoration-color: #808000\">relationships</span>=<span style=\"font-weight: bold\">{}</span>,\n",
       "                <span style=\"color: #808000; text-decoration-color: #808000\">text</span>=<span style=\"color: #008000; text-decoration-color: #008000\">\"[('Fitness Tracker Smartwatch',)]\"</span>,\n",
       "                <span style=\"color: #808000; text-decoration-color: #808000\">start_char_idx</span>=<span style=\"color: #800080; text-decoration-color: #800080; font-style: italic\">None</span>,\n",
       "                <span style=\"color: #808000; text-decoration-color: #808000\">end_char_idx</span>=<span style=\"color: #800080; text-decoration-color: #800080; font-style: italic\">None</span>,\n",
       "                <span style=\"color: #808000; text-decoration-color: #808000\">text_template</span>=<span style=\"color: #008000; text-decoration-color: #008000\">'{metadata_str}\\n\\n{content}'</span>,\n",
       "                <span style=\"color: #808000; text-decoration-color: #808000\">metadata_template</span>=<span style=\"color: #008000; text-decoration-color: #008000\">'{key}: {value}'</span>,\n",
       "                <span style=\"color: #808000; text-decoration-color: #808000\">metadata_seperator</span>=<span style=\"color: #008000; text-decoration-color: #008000\">'\\n'</span>\n",
       "            <span style=\"font-weight: bold\">)</span>,\n",
       "            <span style=\"color: #808000; text-decoration-color: #808000\">score</span>=<span style=\"color: #800080; text-decoration-color: #800080; font-style: italic\">None</span>\n",
       "        <span style=\"font-weight: bold\">)</span>\n",
       "    <span style=\"font-weight: bold\">]</span>,\n",
       "    <span style=\"color: #808000; text-decoration-color: #808000\">metadata</span>=<span style=\"font-weight: bold\">{</span>\n",
       "        <span style=\"color: #008000; text-decoration-color: #008000\">'0dbf45a2-3a3c-497b-bb2e-d57eca866a37'</span>: <span style=\"font-weight: bold\">{}</span>,\n",
       "        <span style=\"color: #008000; text-decoration-color: #008000\">'sql_query'</span>: <span style=\"color: #008000; text-decoration-color: #008000\">\"SELECT Product_Name\\nFROM product_table\\nWHERE Description LIKE '%heart rate%'\"</span>,\n",
       "        <span style=\"color: #008000; text-decoration-color: #008000\">'result'</span>: <span style=\"font-weight: bold\">[(</span><span style=\"color: #008000; text-decoration-color: #008000\">'Fitness Tracker Smartwatch'</span>,<span style=\"font-weight: bold\">)]</span>,\n",
       "        <span style=\"color: #008000; text-decoration-color: #008000\">'col_keys'</span>: <span style=\"font-weight: bold\">[</span><span style=\"color: #008000; text-decoration-color: #008000\">'Product_Name'</span><span style=\"font-weight: bold\">]</span>,\n",
       "        <span style=\"color: #008000; text-decoration-color: #008000\">'selector_result'</span>: <span style=\"color: #800080; text-decoration-color: #800080; font-weight: bold\">MultiSelection</span><span style=\"font-weight: bold\">(</span>\n",
       "            <span style=\"color: #808000; text-decoration-color: #808000\">selections</span>=<span style=\"font-weight: bold\">[</span>\n",
       "                <span style=\"color: #800080; text-decoration-color: #800080; font-weight: bold\">SingleSelection</span><span style=\"font-weight: bold\">(</span>\n",
       "                    <span style=\"color: #808000; text-decoration-color: #808000\">index</span>=<span style=\"color: #008080; text-decoration-color: #008080; font-weight: bold\">0</span>,\n",
       "                    <span style=\"color: #808000; text-decoration-color: #808000\">reason</span>=<span style=\"color: #008000; text-decoration-color: #008000\">'Choice 1 is most relevant because it mentions translating a natural language query into</span>\n",
       "<span style=\"color: #008000; text-decoration-color: #008000\">a SQL query over a table containing product listings, which would include descriptions of each product. This </span>\n",
       "<span style=\"color: #008000; text-decoration-color: #008000\">suggests that it would be able to handle a query about the description of a product.'</span>\n",
       "                <span style=\"font-weight: bold\">)</span>\n",
       "            <span style=\"font-weight: bold\">]</span>\n",
       "        <span style=\"font-weight: bold\">)</span>\n",
       "    <span style=\"font-weight: bold\">}</span>\n",
       "<span style=\"font-weight: bold\">)</span>\n",
       "</pre>\n"
      ],
      "text/plain": [
       "\u001b[1;35mResponse\u001b[0m\u001b[1m(\u001b[0m\n",
       "    \u001b[33mresponse\u001b[0m=\u001b[32m\"The\u001b[0m\u001b[32m product that has 'heart rate' in its description is the Fitness Tracker Smartwatch.\"\u001b[0m,\n",
       "    \u001b[33msource_nodes\u001b[0m=\u001b[1m[\u001b[0m\n",
       "        \u001b[1;35mNodeWithScore\u001b[0m\u001b[1m(\u001b[0m\n",
       "            \u001b[33mnode\u001b[0m=\u001b[1;35mTextNode\u001b[0m\u001b[1m(\u001b[0m\n",
       "                \u001b[33mid_\u001b[0m=\u001b[32m'0dbf45a2-3a3c-497b-bb2e-d57eca866a37'\u001b[0m,\n",
       "                \u001b[33membedding\u001b[0m=\u001b[3;35mNone\u001b[0m,\n",
       "                \u001b[33mmetadata\u001b[0m=\u001b[1m{\u001b[0m\u001b[1m}\u001b[0m,\n",
       "                \u001b[33mexcluded_embed_metadata_keys\u001b[0m=\u001b[1m[\u001b[0m\u001b[1m]\u001b[0m,\n",
       "                \u001b[33mexcluded_llm_metadata_keys\u001b[0m=\u001b[1m[\u001b[0m\u001b[1m]\u001b[0m,\n",
       "                \u001b[33mrelationships\u001b[0m=\u001b[1m{\u001b[0m\u001b[1m}\u001b[0m,\n",
       "                \u001b[33mtext\u001b[0m=\u001b[32m\"\u001b[0m\u001b[32m[\u001b[0m\u001b[32m(\u001b[0m\u001b[32m'Fitness Tracker Smartwatch',\u001b[0m\u001b[32m)\u001b[0m\u001b[32m]\u001b[0m\u001b[32m\"\u001b[0m,\n",
       "                \u001b[33mstart_char_idx\u001b[0m=\u001b[3;35mNone\u001b[0m,\n",
       "                \u001b[33mend_char_idx\u001b[0m=\u001b[3;35mNone\u001b[0m,\n",
       "                \u001b[33mtext_template\u001b[0m=\u001b[32m'\u001b[0m\u001b[32m{\u001b[0m\u001b[32mmetadata_str\u001b[0m\u001b[32m}\u001b[0m\u001b[32m\\n\\n\u001b[0m\u001b[32m{\u001b[0m\u001b[32mcontent\u001b[0m\u001b[32m}\u001b[0m\u001b[32m'\u001b[0m,\n",
       "                \u001b[33mmetadata_template\u001b[0m=\u001b[32m'\u001b[0m\u001b[32m{\u001b[0m\u001b[32mkey\u001b[0m\u001b[32m}\u001b[0m\u001b[32m: \u001b[0m\u001b[32m{\u001b[0m\u001b[32mvalue\u001b[0m\u001b[32m}\u001b[0m\u001b[32m'\u001b[0m,\n",
       "                \u001b[33mmetadata_seperator\u001b[0m=\u001b[32m'\\n'\u001b[0m\n",
       "            \u001b[1m)\u001b[0m,\n",
       "            \u001b[33mscore\u001b[0m=\u001b[3;35mNone\u001b[0m\n",
       "        \u001b[1m)\u001b[0m\n",
       "    \u001b[1m]\u001b[0m,\n",
       "    \u001b[33mmetadata\u001b[0m=\u001b[1m{\u001b[0m\n",
       "        \u001b[32m'0dbf45a2-3a3c-497b-bb2e-d57eca866a37'\u001b[0m: \u001b[1m{\u001b[0m\u001b[1m}\u001b[0m,\n",
       "        \u001b[32m'sql_query'\u001b[0m: \u001b[32m\"SELECT Product_Name\\nFROM product_table\\nWHERE Description LIKE '%heart rate%'\"\u001b[0m,\n",
       "        \u001b[32m'result'\u001b[0m: \u001b[1m[\u001b[0m\u001b[1m(\u001b[0m\u001b[32m'Fitness Tracker Smartwatch'\u001b[0m,\u001b[1m)\u001b[0m\u001b[1m]\u001b[0m,\n",
       "        \u001b[32m'col_keys'\u001b[0m: \u001b[1m[\u001b[0m\u001b[32m'Product_Name'\u001b[0m\u001b[1m]\u001b[0m,\n",
       "        \u001b[32m'selector_result'\u001b[0m: \u001b[1;35mMultiSelection\u001b[0m\u001b[1m(\u001b[0m\n",
       "            \u001b[33mselections\u001b[0m=\u001b[1m[\u001b[0m\n",
       "                \u001b[1;35mSingleSelection\u001b[0m\u001b[1m(\u001b[0m\n",
       "                    \u001b[33mindex\u001b[0m=\u001b[1;36m0\u001b[0m,\n",
       "                    \u001b[33mreason\u001b[0m=\u001b[32m'Choice 1 is most relevant because it mentions translating a natural language query into\u001b[0m\n",
       "\u001b[32ma SQL query over a table containing product listings, which would include descriptions of each product. This \u001b[0m\n",
       "\u001b[32msuggests that it would be able to handle a query about the description of a product.'\u001b[0m\n",
       "                \u001b[1m)\u001b[0m\n",
       "            \u001b[1m]\u001b[0m\n",
       "        \u001b[1m)\u001b[0m\n",
       "    \u001b[1m}\u001b[0m\n",
       "\u001b[1m)\u001b[0m\n"
      ]
     },
     "metadata": {},
     "output_type": "display_data"
    }
   ],
   "source": [
    "rprint(response)"
   ]
  },
  {
   "cell_type": "code",
   "execution_count": 25,
   "metadata": {},
   "outputs": [
    {
     "data": {
      "text/html": [
       "<pre style=\"white-space:pre;overflow-x:auto;line-height:normal;font-family:Menlo,'DejaVu Sans Mono',consolas,'Courier New',monospace\">The sum of all prices for all products whose price is $<span style=\"color: #008080; text-decoration-color: #008080; font-weight: bold\">79.99</span> is $<span style=\"color: #008080; text-decoration-color: #008080; font-weight: bold\">159.98</span>.\n",
       "</pre>\n"
      ],
      "text/plain": [
       "The sum of all prices for all products whose price is $\u001b[1;36m79.99\u001b[0m is $\u001b[1;36m159.98\u001b[0m.\n"
      ]
     },
     "metadata": {},
     "output_type": "display_data"
    }
   ],
   "source": [
    "response = query_engine.query(\"What is the sum of all prices for all products whose price is $79.99?\")\n",
    "rprint(str(response))"
   ]
  },
  {
   "cell_type": "code",
   "execution_count": 87,
   "metadata": {},
   "outputs": [
    {
     "data": {
      "text/html": [
       "<pre style=\"white-space:pre;overflow-x:auto;line-height:normal;font-family:Menlo,'DejaVu Sans Mono',consolas,'Courier New',monospace\"><span style=\"font-weight: bold\">{</span>\n",
       "    <span style=\"color: #008000; text-decoration-color: #008000\">'f419eef1-48cd-4084-a103-47d7dd9f3bc0'</span>: <span style=\"font-weight: bold\">{}</span>,\n",
       "    <span style=\"color: #008000; text-decoration-color: #008000\">'sql_query'</span>: <span style=\"color: #008000; text-decoration-color: #008000\">'SELECT SUM(Price) FROM product_table WHERE Price = 79.99;'</span>,\n",
       "    <span style=\"color: #008000; text-decoration-color: #008000\">'result'</span>: <span style=\"font-weight: bold\">[(</span><span style=\"color: #008080; text-decoration-color: #008080; font-weight: bold\">159.98</span>,<span style=\"font-weight: bold\">)]</span>,\n",
       "    <span style=\"color: #008000; text-decoration-color: #008000\">'col_keys'</span>: <span style=\"font-weight: bold\">[</span><span style=\"color: #008000; text-decoration-color: #008000\">'SUM(Price)'</span><span style=\"font-weight: bold\">]</span>,\n",
       "    <span style=\"color: #008000; text-decoration-color: #008000\">'selector_result'</span>: <span style=\"color: #800080; text-decoration-color: #800080; font-weight: bold\">MultiSelection</span><span style=\"font-weight: bold\">(</span>\n",
       "        <span style=\"color: #808000; text-decoration-color: #808000\">selections</span>=<span style=\"font-weight: bold\">[</span>\n",
       "            <span style=\"color: #800080; text-decoration-color: #800080; font-weight: bold\">SingleSelection</span><span style=\"font-weight: bold\">(</span>\n",
       "                <span style=\"color: #808000; text-decoration-color: #808000\">index</span>=<span style=\"color: #008080; text-decoration-color: #008080; font-weight: bold\">0</span>,\n",
       "                <span style=\"color: #808000; text-decoration-color: #808000\">reason</span>=<span style=\"color: #008000; text-decoration-color: #008000\">'Choice 1 is the most relevant because it mentions translating a natural language query into</span>\n",
       "<span style=\"color: #008000; text-decoration-color: #008000\">a SQL query over a table containing product listings, including the price. This suggests that it can be used to </span>\n",
       "<span style=\"color: #008000; text-decoration-color: #008000\">find the sum of all prices for all products.'</span>\n",
       "            <span style=\"font-weight: bold\">)</span>\n",
       "        <span style=\"font-weight: bold\">]</span>\n",
       "    <span style=\"font-weight: bold\">)</span>\n",
       "<span style=\"font-weight: bold\">}</span>\n",
       "</pre>\n"
      ],
      "text/plain": [
       "\u001b[1m{\u001b[0m\n",
       "    \u001b[32m'f419eef1-48cd-4084-a103-47d7dd9f3bc0'\u001b[0m: \u001b[1m{\u001b[0m\u001b[1m}\u001b[0m,\n",
       "    \u001b[32m'sql_query'\u001b[0m: \u001b[32m'SELECT SUM\u001b[0m\u001b[32m(\u001b[0m\u001b[32mPrice\u001b[0m\u001b[32m)\u001b[0m\u001b[32m FROM product_table WHERE Price = 79.99;'\u001b[0m,\n",
       "    \u001b[32m'result'\u001b[0m: \u001b[1m[\u001b[0m\u001b[1m(\u001b[0m\u001b[1;36m159.98\u001b[0m,\u001b[1m)\u001b[0m\u001b[1m]\u001b[0m,\n",
       "    \u001b[32m'col_keys'\u001b[0m: \u001b[1m[\u001b[0m\u001b[32m'SUM\u001b[0m\u001b[32m(\u001b[0m\u001b[32mPrice\u001b[0m\u001b[32m)\u001b[0m\u001b[32m'\u001b[0m\u001b[1m]\u001b[0m,\n",
       "    \u001b[32m'selector_result'\u001b[0m: \u001b[1;35mMultiSelection\u001b[0m\u001b[1m(\u001b[0m\n",
       "        \u001b[33mselections\u001b[0m=\u001b[1m[\u001b[0m\n",
       "            \u001b[1;35mSingleSelection\u001b[0m\u001b[1m(\u001b[0m\n",
       "                \u001b[33mindex\u001b[0m=\u001b[1;36m0\u001b[0m,\n",
       "                \u001b[33mreason\u001b[0m=\u001b[32m'Choice 1 is the most relevant because it mentions translating a natural language query into\u001b[0m\n",
       "\u001b[32ma SQL query over a table containing product listings, including the price. This suggests that it can be used to \u001b[0m\n",
       "\u001b[32mfind the sum of all prices for all products.'\u001b[0m\n",
       "            \u001b[1m)\u001b[0m\n",
       "        \u001b[1m]\u001b[0m\n",
       "    \u001b[1m)\u001b[0m\n",
       "\u001b[1m}\u001b[0m\n"
      ]
     },
     "metadata": {},
     "output_type": "display_data"
    }
   ],
   "source": [
    "rprint(response.metadata)"
   ]
  },
  {
   "attachments": {},
   "cell_type": "markdown",
   "metadata": {},
   "source": [
    "## Self Correcting query"
   ]
  },
  {
   "attachments": {},
   "cell_type": "markdown",
   "metadata": {},
   "source": [
    "### Retry Query Engine"
   ]
  },
  {
   "cell_type": "code",
   "execution_count": 26,
   "metadata": {},
   "outputs": [
    {
     "data": {
      "text/html": [
       "<pre style=\"white-space:pre;overflow-x:auto;line-height:normal;font-family:Menlo,'DejaVu Sans Mono',consolas,'Courier New',monospace\"><span style=\"color: #800080; text-decoration-color: #800080; font-weight: bold\">Response</span><span style=\"font-weight: bold\">(</span>\n",
       "    <span style=\"color: #808000; text-decoration-color: #808000\">response</span>=<span style=\"color: #008000; text-decoration-color: #008000\">'The sum of all prices for all products whose price is $79.99 is $159.98.'</span>,\n",
       "    <span style=\"color: #808000; text-decoration-color: #808000\">source_nodes</span>=<span style=\"font-weight: bold\">[</span>\n",
       "        <span style=\"color: #800080; text-decoration-color: #800080; font-weight: bold\">NodeWithScore</span><span style=\"font-weight: bold\">(</span>\n",
       "            <span style=\"color: #808000; text-decoration-color: #808000\">node</span>=<span style=\"color: #800080; text-decoration-color: #800080; font-weight: bold\">TextNode</span><span style=\"font-weight: bold\">(</span>\n",
       "                <span style=\"color: #808000; text-decoration-color: #808000\">id_</span>=<span style=\"color: #008000; text-decoration-color: #008000\">'f035c647-306f-4bce-8884-933bf998412e'</span>,\n",
       "                <span style=\"color: #808000; text-decoration-color: #808000\">embedding</span>=<span style=\"color: #800080; text-decoration-color: #800080; font-style: italic\">None</span>,\n",
       "                <span style=\"color: #808000; text-decoration-color: #808000\">metadata</span>=<span style=\"font-weight: bold\">{}</span>,\n",
       "                <span style=\"color: #808000; text-decoration-color: #808000\">excluded_embed_metadata_keys</span>=<span style=\"font-weight: bold\">[]</span>,\n",
       "                <span style=\"color: #808000; text-decoration-color: #808000\">excluded_llm_metadata_keys</span>=<span style=\"font-weight: bold\">[]</span>,\n",
       "                <span style=\"color: #808000; text-decoration-color: #808000\">relationships</span>=<span style=\"font-weight: bold\">{}</span>,\n",
       "                <span style=\"color: #808000; text-decoration-color: #808000\">text</span>=<span style=\"color: #008000; text-decoration-color: #008000\">'[(159.98,)]'</span>,\n",
       "                <span style=\"color: #808000; text-decoration-color: #808000\">start_char_idx</span>=<span style=\"color: #800080; text-decoration-color: #800080; font-style: italic\">None</span>,\n",
       "                <span style=\"color: #808000; text-decoration-color: #808000\">end_char_idx</span>=<span style=\"color: #800080; text-decoration-color: #800080; font-style: italic\">None</span>,\n",
       "                <span style=\"color: #808000; text-decoration-color: #808000\">text_template</span>=<span style=\"color: #008000; text-decoration-color: #008000\">'{metadata_str}\\n\\n{content}'</span>,\n",
       "                <span style=\"color: #808000; text-decoration-color: #808000\">metadata_template</span>=<span style=\"color: #008000; text-decoration-color: #008000\">'{key}: {value}'</span>,\n",
       "                <span style=\"color: #808000; text-decoration-color: #808000\">metadata_seperator</span>=<span style=\"color: #008000; text-decoration-color: #008000\">'\\n'</span>\n",
       "            <span style=\"font-weight: bold\">)</span>,\n",
       "            <span style=\"color: #808000; text-decoration-color: #808000\">score</span>=<span style=\"color: #800080; text-decoration-color: #800080; font-style: italic\">None</span>\n",
       "        <span style=\"font-weight: bold\">)</span>\n",
       "    <span style=\"font-weight: bold\">]</span>,\n",
       "    <span style=\"color: #808000; text-decoration-color: #808000\">metadata</span>=<span style=\"font-weight: bold\">{</span>\n",
       "        <span style=\"color: #008000; text-decoration-color: #008000\">'f035c647-306f-4bce-8884-933bf998412e'</span>: <span style=\"font-weight: bold\">{}</span>,\n",
       "        <span style=\"color: #008000; text-decoration-color: #008000\">'sql_query'</span>: <span style=\"color: #008000; text-decoration-color: #008000\">'SELECT SUM(Price) FROM product_table WHERE Price = 79.99;'</span>,\n",
       "        <span style=\"color: #008000; text-decoration-color: #008000\">'result'</span>: <span style=\"font-weight: bold\">[(</span><span style=\"color: #008080; text-decoration-color: #008080; font-weight: bold\">159.98</span>,<span style=\"font-weight: bold\">)]</span>,\n",
       "        <span style=\"color: #008000; text-decoration-color: #008000\">'col_keys'</span>: <span style=\"font-weight: bold\">[</span><span style=\"color: #008000; text-decoration-color: #008000\">'SUM(Price)'</span><span style=\"font-weight: bold\">]</span>,\n",
       "        <span style=\"color: #008000; text-decoration-color: #008000\">'selector_result'</span>: <span style=\"color: #800080; text-decoration-color: #800080; font-weight: bold\">MultiSelection</span><span style=\"font-weight: bold\">(</span>\n",
       "            <span style=\"color: #808000; text-decoration-color: #808000\">selections</span>=<span style=\"font-weight: bold\">[</span>\n",
       "                <span style=\"color: #800080; text-decoration-color: #800080; font-weight: bold\">SingleSelection</span><span style=\"font-weight: bold\">(</span>\n",
       "                    <span style=\"color: #808000; text-decoration-color: #808000\">index</span>=<span style=\"color: #008080; text-decoration-color: #008080; font-weight: bold\">0</span>,\n",
       "                    <span style=\"color: #808000; text-decoration-color: #808000\">reason</span>=<span style=\"color: #008000; text-decoration-color: #008000\">'Choice 1 is the most relevant because it mentions translating a natural language query </span>\n",
       "<span style=\"color: #008000; text-decoration-color: #008000\">into a SQL query, which is exactly what is needed to find the sum of all prices for products with a specific </span>\n",
       "<span style=\"color: #008000; text-decoration-color: #008000\">price.'</span>\n",
       "                <span style=\"font-weight: bold\">)</span>\n",
       "            <span style=\"font-weight: bold\">]</span>\n",
       "        <span style=\"font-weight: bold\">)</span>\n",
       "    <span style=\"font-weight: bold\">}</span>\n",
       "<span style=\"font-weight: bold\">)</span>\n",
       "</pre>\n"
      ],
      "text/plain": [
       "\u001b[1;35mResponse\u001b[0m\u001b[1m(\u001b[0m\n",
       "    \u001b[33mresponse\u001b[0m=\u001b[32m'The sum of all prices for all products whose price is $79.99 is $159.98.'\u001b[0m,\n",
       "    \u001b[33msource_nodes\u001b[0m=\u001b[1m[\u001b[0m\n",
       "        \u001b[1;35mNodeWithScore\u001b[0m\u001b[1m(\u001b[0m\n",
       "            \u001b[33mnode\u001b[0m=\u001b[1;35mTextNode\u001b[0m\u001b[1m(\u001b[0m\n",
       "                \u001b[33mid_\u001b[0m=\u001b[32m'f035c647-306f-4bce-8884-933bf998412e'\u001b[0m,\n",
       "                \u001b[33membedding\u001b[0m=\u001b[3;35mNone\u001b[0m,\n",
       "                \u001b[33mmetadata\u001b[0m=\u001b[1m{\u001b[0m\u001b[1m}\u001b[0m,\n",
       "                \u001b[33mexcluded_embed_metadata_keys\u001b[0m=\u001b[1m[\u001b[0m\u001b[1m]\u001b[0m,\n",
       "                \u001b[33mexcluded_llm_metadata_keys\u001b[0m=\u001b[1m[\u001b[0m\u001b[1m]\u001b[0m,\n",
       "                \u001b[33mrelationships\u001b[0m=\u001b[1m{\u001b[0m\u001b[1m}\u001b[0m,\n",
       "                \u001b[33mtext\u001b[0m=\u001b[32m'\u001b[0m\u001b[32m[\u001b[0m\u001b[32m(\u001b[0m\u001b[32m159.98,\u001b[0m\u001b[32m)\u001b[0m\u001b[32m]\u001b[0m\u001b[32m'\u001b[0m,\n",
       "                \u001b[33mstart_char_idx\u001b[0m=\u001b[3;35mNone\u001b[0m,\n",
       "                \u001b[33mend_char_idx\u001b[0m=\u001b[3;35mNone\u001b[0m,\n",
       "                \u001b[33mtext_template\u001b[0m=\u001b[32m'\u001b[0m\u001b[32m{\u001b[0m\u001b[32mmetadata_str\u001b[0m\u001b[32m}\u001b[0m\u001b[32m\\n\\n\u001b[0m\u001b[32m{\u001b[0m\u001b[32mcontent\u001b[0m\u001b[32m}\u001b[0m\u001b[32m'\u001b[0m,\n",
       "                \u001b[33mmetadata_template\u001b[0m=\u001b[32m'\u001b[0m\u001b[32m{\u001b[0m\u001b[32mkey\u001b[0m\u001b[32m}\u001b[0m\u001b[32m: \u001b[0m\u001b[32m{\u001b[0m\u001b[32mvalue\u001b[0m\u001b[32m}\u001b[0m\u001b[32m'\u001b[0m,\n",
       "                \u001b[33mmetadata_seperator\u001b[0m=\u001b[32m'\\n'\u001b[0m\n",
       "            \u001b[1m)\u001b[0m,\n",
       "            \u001b[33mscore\u001b[0m=\u001b[3;35mNone\u001b[0m\n",
       "        \u001b[1m)\u001b[0m\n",
       "    \u001b[1m]\u001b[0m,\n",
       "    \u001b[33mmetadata\u001b[0m=\u001b[1m{\u001b[0m\n",
       "        \u001b[32m'f035c647-306f-4bce-8884-933bf998412e'\u001b[0m: \u001b[1m{\u001b[0m\u001b[1m}\u001b[0m,\n",
       "        \u001b[32m'sql_query'\u001b[0m: \u001b[32m'SELECT SUM\u001b[0m\u001b[32m(\u001b[0m\u001b[32mPrice\u001b[0m\u001b[32m)\u001b[0m\u001b[32m FROM product_table WHERE Price = 79.99;'\u001b[0m,\n",
       "        \u001b[32m'result'\u001b[0m: \u001b[1m[\u001b[0m\u001b[1m(\u001b[0m\u001b[1;36m159.98\u001b[0m,\u001b[1m)\u001b[0m\u001b[1m]\u001b[0m,\n",
       "        \u001b[32m'col_keys'\u001b[0m: \u001b[1m[\u001b[0m\u001b[32m'SUM\u001b[0m\u001b[32m(\u001b[0m\u001b[32mPrice\u001b[0m\u001b[32m)\u001b[0m\u001b[32m'\u001b[0m\u001b[1m]\u001b[0m,\n",
       "        \u001b[32m'selector_result'\u001b[0m: \u001b[1;35mMultiSelection\u001b[0m\u001b[1m(\u001b[0m\n",
       "            \u001b[33mselections\u001b[0m=\u001b[1m[\u001b[0m\n",
       "                \u001b[1;35mSingleSelection\u001b[0m\u001b[1m(\u001b[0m\n",
       "                    \u001b[33mindex\u001b[0m=\u001b[1;36m0\u001b[0m,\n",
       "                    \u001b[33mreason\u001b[0m=\u001b[32m'Choice 1 is the most relevant because it mentions translating a natural language query \u001b[0m\n",
       "\u001b[32minto a SQL query, which is exactly what is needed to find the sum of all prices for products with a specific \u001b[0m\n",
       "\u001b[32mprice.'\u001b[0m\n",
       "                \u001b[1m)\u001b[0m\n",
       "            \u001b[1m]\u001b[0m\n",
       "        \u001b[1m)\u001b[0m\n",
       "    \u001b[1m}\u001b[0m\n",
       "\u001b[1m)\u001b[0m\n"
      ]
     },
     "metadata": {},
     "output_type": "display_data"
    }
   ],
   "source": [
    "query_response_evaluator = RelevancyEvaluator()\n",
    "retry_query_engine = RetryQueryEngine(\n",
    "    query_engine, query_response_evaluator\n",
    ")\n",
    "retry_response = retry_query_engine.query(\"What is the sum of all prices for all products whose price is $79.99?\")\n",
    "rprint(retry_response)"
   ]
  },
  {
   "attachments": {},
   "cell_type": "markdown",
   "metadata": {},
   "source": [
    "### Retry Source Query Engine"
   ]
  },
  {
   "cell_type": "code",
   "execution_count": 27,
   "metadata": {},
   "outputs": [
    {
     "data": {
      "text/html": [
       "<pre style=\"white-space:pre;overflow-x:auto;line-height:normal;font-family:Menlo,'DejaVu Sans Mono',consolas,'Courier New',monospace\">The products whose descriptions are similar are:\n",
       "<span style=\"color: #008080; text-decoration-color: #008080; font-weight: bold\">1</span>. Organic Bamboo Bed Sheets\n",
       "<span style=\"color: #008080; text-decoration-color: #008080; font-weight: bold\">2</span>. Virtual Reality Headset\n",
       "</pre>\n"
      ],
      "text/plain": [
       "The products whose descriptions are similar are:\n",
       "\u001b[1;36m1\u001b[0m. Organic Bamboo Bed Sheets\n",
       "\u001b[1;36m2\u001b[0m. Virtual Reality Headset\n"
      ]
     },
     "metadata": {},
     "output_type": "display_data"
    }
   ],
   "source": [
    "retry_source_query_engine = RetrySourceQueryEngine(\n",
    "    query_engine, query_response_evaluator\n",
    ")\n",
    "retry_source_response = retry_source_query_engine.query(\"list the products whose descriptions are similar.\")\n",
    "rprint(retry_source_response.response)\n"
   ]
  },
  {
   "attachments": {},
   "cell_type": "markdown",
   "metadata": {},
   "source": [
    "## Customize Retry Guideline Query Engine"
   ]
  },
  {
   "cell_type": "code",
   "execution_count": 34,
   "metadata": {},
   "outputs": [],
   "source": [
    "# Guideline eval\n",
    "guideline_eval = GuidelineEvaluator(\n",
    "    guidelines=DEFAULT_GUIDELINES\n",
    "    + \"\\nThe response should not be overly long.\\n\"\n",
    "    \"The response should try to summarize where possible.\\nAdd the number of items being described to your response.\\n\"\n",
    "    \"List the product being described.\\n\"\n",
    ")  # just for example"
   ]
  },
  {
   "cell_type": "code",
   "execution_count": 29,
   "metadata": {},
   "outputs": [
    {
     "name": "stdout",
     "output_type": "stream",
     "text": [
      "Guideline eval evaluation result: The response does not fully answer the query. It only provides two examples of products with similar descriptions, but it does not provide any information about how the descriptions are similar or what criteria were used to determine similarity. Additionally, the response does not use any statistics or numbers to support the claim. The response should be more specific and provide a summary of the similarities between the products. It should also mention the number of items being described.\n",
      "Transformed query: Here is a previous bad answer.\n",
      "The products whose descriptions are similar are:\n",
      "1. Organic Bamboo Bed Sheets\n",
      "2. Virtual Reality Headset\n",
      "Here is some feedback from the evaluator about the response given.\n",
      "The response does not fully answer the query. It only provides two examples of products with similar descriptions, but it does not provide any information about how the descriptions are similar or what criteria were used to determine similarity. Additionally, the response does not use any statistics or numbers to support the claim. The response should be more specific and provide a summary of the similarities between the products. It should also mention the number of items being described.\n",
      "Now answer the question.\n",
      "list the products and provide a summary of the similarities between their descriptions.\n"
     ]
    }
   ],
   "source": [
    "query = \"list the products whose descriptions are similar.\"\n",
    "typed_response = (\n",
    "    retry_source_response if isinstance(retry_source_response, Response) else retry_source_response.get_response()\n",
    ")\n",
    "eval = guideline_eval.evaluate_response(query, typed_response)\n",
    "print(f\"Guideline eval evaluation result: {eval.feedback}\")\n",
    "\n",
    "feedback_query_transform = FeedbackQueryTransformation(resynthesize_query=True)\n",
    "transformed_query = feedback_query_transform.run(query, {\"evaluation\": eval})\n",
    "print(f\"Transformed query: {transformed_query.query_str}\")"
   ]
  },
  {
   "cell_type": "code",
   "execution_count": 30,
   "metadata": {},
   "outputs": [
    {
     "data": {
      "text/html": [
       "<pre style=\"white-space:pre;overflow-x:auto;line-height:normal;font-family:Menlo,'DejaVu Sans Mono',consolas,'Courier New',monospace\">The descriptions of the following two products are similar:\n",
       "<span style=\"color: #008080; text-decoration-color: #008080; font-weight: bold\">1</span>. Organic Bamboo Bed Sheets\n",
       "<span style=\"color: #008080; text-decoration-color: #008080; font-weight: bold\">2</span>. Virtual Reality Headset\n",
       "\n",
       "The descriptions of these two products are similar in that they both emphasize the features and benefits of the \n",
       "products. The Organic Bamboo Bed Sheets description highlights the use of sustainable and breathable bamboo fibers,\n",
       "while the Virtual Reality Headset description focuses on the immersive visuals and realistic experience it \n",
       "provides. Both descriptions also mention specific features, such as the hypoallergenic and moisture-wicking \n",
       "properties of the bed sheets and the high-resolution display and wide field of view of the VR headset.\n",
       "\n",
       "To determine the similarity of the descriptions, the criteria used include the emphasis on product features, the \n",
       "mention of specific benefits, and the use of descriptive language. By analyzing these criteria, it can be concluded\n",
       "that the descriptions of these two products are similar.\n",
       "\n",
       "In terms of statistics or numbers, there are two products being described that have similar descriptions.\n",
       "\n",
       "In summary, the descriptions of the Organic Bamboo Bed Sheets and the Virtual Reality Headset are similar in their \n",
       "focus on product features, specific benefits, and descriptive language. These similarities were determined by \n",
       "analyzing the criteria mentioned above.\n",
       "</pre>\n"
      ],
      "text/plain": [
       "The descriptions of the following two products are similar:\n",
       "\u001b[1;36m1\u001b[0m. Organic Bamboo Bed Sheets\n",
       "\u001b[1;36m2\u001b[0m. Virtual Reality Headset\n",
       "\n",
       "The descriptions of these two products are similar in that they both emphasize the features and benefits of the \n",
       "products. The Organic Bamboo Bed Sheets description highlights the use of sustainable and breathable bamboo fibers,\n",
       "while the Virtual Reality Headset description focuses on the immersive visuals and realistic experience it \n",
       "provides. Both descriptions also mention specific features, such as the hypoallergenic and moisture-wicking \n",
       "properties of the bed sheets and the high-resolution display and wide field of view of the VR headset.\n",
       "\n",
       "To determine the similarity of the descriptions, the criteria used include the emphasis on product features, the \n",
       "mention of specific benefits, and the use of descriptive language. By analyzing these criteria, it can be concluded\n",
       "that the descriptions of these two products are similar.\n",
       "\n",
       "In terms of statistics or numbers, there are two products being described that have similar descriptions.\n",
       "\n",
       "In summary, the descriptions of the Organic Bamboo Bed Sheets and the Virtual Reality Headset are similar in their \n",
       "focus on product features, specific benefits, and descriptive language. These similarities were determined by \n",
       "analyzing the criteria mentioned above.\n"
      ]
     },
     "metadata": {},
     "output_type": "display_data"
    }
   ],
   "source": [
    "retry_guideline_query_engine = RetryGuidelineQueryEngine(\n",
    "    query_engine, guideline_eval, resynthesize_query=True\n",
    ")\n",
    "retry_guideline_response = retry_guideline_query_engine.query(query)\n",
    "rprint(retry_guideline_response.response)"
   ]
  },
  {
   "attachments": {},
   "cell_type": "markdown",
   "metadata": {},
   "source": [
    "## Another example of self correcting query"
   ]
  },
  {
   "cell_type": "code",
   "execution_count": 35,
   "metadata": {},
   "outputs": [
    {
     "data": {
      "text/html": [
       "<pre style=\"white-space:pre;overflow-x:auto;line-height:normal;font-family:Menlo,'DejaVu Sans Mono',consolas,'Courier New',monospace\">The sum of all prices for all products whose price is $<span style=\"color: #008080; text-decoration-color: #008080; font-weight: bold\">79.99</span> is $<span style=\"color: #008080; text-decoration-color: #008080; font-weight: bold\">159.98</span>.\n",
       "</pre>\n"
      ],
      "text/plain": [
       "The sum of all prices for all products whose price is $\u001b[1;36m79.99\u001b[0m is $\u001b[1;36m159.98\u001b[0m.\n"
      ]
     },
     "metadata": {},
     "output_type": "display_data"
    },
    {
     "name": "stdout",
     "output_type": "stream",
     "text": [
      "Guideline eval evaluation result: The response does not fully answer the query. It only provides the sum of prices without mentioning the number of items or the specific product being described. Additionally, the response is not specific and does not use statistics or numbers to support the answer.\n",
      "Transformed query: Here is a previous bad answer.\n",
      "The sum of all prices for all products whose price is $79.99 is $159.98.\n",
      "Here is some feedback from the evaluator about the response given.\n",
      "The response does not fully answer the query. It only provides the sum of prices without mentioning the number of items or the specific product being described. Additionally, the response is not specific and does not use statistics or numbers to support the answer.\n",
      "Now answer the question.\n",
      "What is the total cost of purchasing all products priced at $79.99 each?\n"
     ]
    }
   ],
   "source": [
    "# test another query\n",
    "\n",
    "query = \"What is the sum of all prices for all products whose price is $79.99?\"\n",
    "response = query_engine.query(query)\n",
    "rprint(str(response))\n",
    "typed_response = (\n",
    "    response if isinstance(response, Response) else response.get_response()\n",
    ")\n",
    "eval = guideline_eval.evaluate_response(query, typed_response)\n",
    "print(f\"Guideline eval evaluation result: {eval.feedback}\")\n",
    "\n",
    "feedback_query_transform = FeedbackQueryTransformation(resynthesize_query=True)\n",
    "transformed_query = feedback_query_transform.run(query, {\"evaluation\": eval})\n",
    "print(f\"Transformed query: {transformed_query.query_str}\")"
   ]
  },
  {
   "cell_type": "code",
   "execution_count": 36,
   "metadata": {},
   "outputs": [
    {
     "data": {
      "text/html": [
       "<pre style=\"white-space:pre;overflow-x:auto;line-height:normal;font-family:Menlo,'DejaVu Sans Mono',consolas,'Courier New',monospace\">The products that are priced at $<span style=\"color: #008080; text-decoration-color: #008080; font-weight: bold\">79.99</span> each are the Ultimate Wireless Bluetooth Earbuds and the Portable Solar \n",
       "Charger. \n",
       "\n",
       "The Ultimate Wireless Bluetooth Earbuds are designed for audiophiles who demand premium sound quality and \n",
       "convenience. With advanced Bluetooth <span style=\"color: #008080; text-decoration-color: #008080; font-weight: bold\">5.0</span> technology, you'll enjoy seamless connectivity and crystal-clear audio.\n",
       "\n",
       "The Portable Solar Charger allows you to stay charged on the go. Harness the power of the sun to keep your devices \n",
       "powered wherever you are.\n",
       "\n",
       "The combined price of these two products is $<span style=\"color: #008080; text-decoration-color: #008080; font-weight: bold\">159.98</span>.\n",
       "</pre>\n"
      ],
      "text/plain": [
       "The products that are priced at $\u001b[1;36m79.99\u001b[0m each are the Ultimate Wireless Bluetooth Earbuds and the Portable Solar \n",
       "Charger. \n",
       "\n",
       "The Ultimate Wireless Bluetooth Earbuds are designed for audiophiles who demand premium sound quality and \n",
       "convenience. With advanced Bluetooth \u001b[1;36m5.0\u001b[0m technology, you'll enjoy seamless connectivity and crystal-clear audio.\n",
       "\n",
       "The Portable Solar Charger allows you to stay charged on the go. Harness the power of the sun to keep your devices \n",
       "powered wherever you are.\n",
       "\n",
       "The combined price of these two products is $\u001b[1;36m159.98\u001b[0m.\n"
      ]
     },
     "metadata": {},
     "output_type": "display_data"
    }
   ],
   "source": [
    "retry_guideline_query_engine = RetryGuidelineQueryEngine(\n",
    "    query_engine, guideline_eval, resynthesize_query=True\n",
    ")\n",
    "retry_guideline_response = retry_guideline_query_engine.query(query)\n",
    "rprint(retry_guideline_response.response)"
   ]
  },
  {
   "attachments": {},
   "cell_type": "markdown",
   "metadata": {},
   "source": [
    "# Tru Lense Evaluation"
   ]
  }
 ],
 "metadata": {
  "kernelspec": {
   "display_name": "Python 3",
   "language": "python",
   "name": "python3"
  },
  "language_info": {
   "codemirror_mode": {
    "name": "ipython",
    "version": 3
   },
   "file_extension": ".py",
   "mimetype": "text/x-python",
   "name": "python",
   "nbconvert_exporter": "python",
   "pygments_lexer": "ipython3",
   "version": "3.10.10"
  },
  "orig_nbformat": 4
 },
 "nbformat": 4,
 "nbformat_minor": 2
}
