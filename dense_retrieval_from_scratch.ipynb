{
 "cells": [
  {
   "cell_type": "code",
   "execution_count": 10,
   "metadata": {},
   "outputs": [],
   "source": [
    "from annoy import AnnoyIndex\n",
    "import numpy as np\n",
    "import pandas as pd\n",
    "import re\n",
    "import os\n",
    "from dotenv import load_dotenv\n",
    "load_dotenv()\n",
    "import cohere\n",
    "co = cohere.Client(os.getenv(\"COHERE_API_KEY\"))\n",
    "\n",
    "from rich import print\n",
    "from rich import pretty\n",
    "pretty.install()\n",
    "\n",
    "\n",
    "import weaviate\n",
    "import pandas as pd\n",
    "import numpy as np\n",
    "from icecream import ic\n",
    "from utils import dense_retrieval, print_result, keyword_search\n",
    "from rich import print\n"
   ]
  },
  {
   "cell_type": "code",
   "execution_count": 3,
   "metadata": {},
   "outputs": [],
   "source": [
    "# auth_config = weaviate.auth.AuthApiKey(\n",
    "#     api_key=os.environ['WEAVIATE_API_KEY'])\n",
    "# client = weaviate.Client(\n",
    "#     url=os.environ['WEAVIATE_API_URL'],\n",
    "#     auth_client_secret=auth_config,\n",
    "#     additional_headers={\n",
    "#         \"X-Cohere-Api-Key\": os.environ['COHERE_API_KEY'],\n",
    "#     }\n",
    "# )\n",
    "\n",
    "client = weaviate.Client(\n",
    "    auth_client_secret = weaviate.AuthApiKey(api_key = os.getenv(\"WEAVIATE_API_KEY\")),\n",
    "\n",
    "    # 10 million records from 10 different languages. One million records for each language.\n",
    "    # Each row is a paragraph from wikipedia\n",
    "    url = \"https://cohere-demo.weaviate.network/\",\n",
    "    additional_headers={\n",
    "        \"X-Cohere-Api-Key\": os.getenv(\"COHERE_API_KEY\"),\n",
    "\n",
    "    }\n",
    ")\n"
   ]
  },
  {
   "cell_type": "code",
   "execution_count": 2,
   "metadata": {},
   "outputs": [],
   "source": [
    "text = \"\"\"\n",
    "Interstellar is a 2014 epic science fiction film co-written, directed, and produced by Christopher Nolan.\n",
    "It stars Matthew McConaughey, Anne Hathaway, Jessica Chastain, Bill Irwin, Ellen Burstyn, Matt Damon, and Michael Caine.\n",
    "Set in a dystopian future where humanity is struggling to survive, the film follows a group of astronauts who travel through a wormhole near Saturn in search of a new home for mankind.\n",
    "\n",
    "Brothers Christopher and Jonathan Nolan wrote the screenplay, which had its origins in a script Jonathan developed in 2007.\n",
    "Caltech theoretical physicist and 2017 Nobel laureate in Physics[4] Kip Thorne was an executive producer, acted as a scientific consultant, and wrote a tie-in book, The Science of Interstellar.\n",
    "Cinematographer Hoyte van Hoytema shot it on 35 mm movie film in the Panavision anamorphic format and IMAX 70 mm.\n",
    "Principal photography began in late 2013 and took place in Alberta, Iceland, and Los Angeles.\n",
    "Interstellar uses extensive practical and miniature effects and the company Double Negative created additional digital effects.\n",
    "\n",
    "Interstellar premiered on October 26, 2014, in Los Angeles.\n",
    "In the United States, it was first released on film stock, expanding to venues using digital projectors.\n",
    "The film had a worldwide gross over $677 million (and $773 million with subsequent re-releases), making it the tenth-highest grossing film of 2014.\n",
    "It received acclaim for its performances, direction, screenplay, musical score, visual effects, ambition, themes, and emotional weight.\n",
    "It has also received praise from many astronomers for its scientific accuracy and portrayal of theoretical astrophysics. Since its premiere, Interstellar gained a cult following,[5] and now is regarded by many sci-fi experts as one of the best science-fiction films of all time.\n",
    "Interstellar was nominated for five awards at the 87th Academy Awards, winning Best Visual Effects, and received numerous other accolades\"\"\"\n"
   ]
  },
  {
   "cell_type": "markdown",
   "metadata": {},
   "source": [
    "# Chunking"
   ]
  },
  {
   "cell_type": "code",
   "execution_count": 3,
   "metadata": {},
   "outputs": [
    {
     "data": {
      "text/plain": [
       "array(['Interstellar is a 2014 epic science fiction film co-written, directed, and produced by Christopher Nolan',\n",
       "       'It stars Matthew McConaughey, Anne Hathaway, Jessica Chastain, Bill Irwin, Ellen Burstyn, Matt Damon, and Michael Caine',\n",
       "       'Set in a dystopian future where humanity is struggling to survive, the film follows a group of astronauts who travel through a wormhole near Saturn in search of a new home for mankind',\n",
       "       'Brothers Christopher and Jonathan Nolan wrote the screenplay, which had its origins in a script Jonathan developed in 2007',\n",
       "       'Caltech theoretical physicist and 2017 Nobel laureate in Physics[4] Kip Thorne was an executive producer, acted as a scientific consultant, and wrote a tie-in book, The Science of Interstellar',\n",
       "       'Cinematographer Hoyte van Hoytema shot it on 35 mm movie film in the Panavision anamorphic format and IMAX 70 mm',\n",
       "       'Principal photography began in late 2013 and took place in Alberta, Iceland, and Los Angeles',\n",
       "       'Interstellar uses extensive practical and miniature effects and the company Double Negative created additional digital effects',\n",
       "       'Interstellar premiered on October 26, 2014, in Los Angeles',\n",
       "       'In the United States, it was first released on film stock, expanding to venues using digital projectors',\n",
       "       'The film had a worldwide gross over $677 million (and $773 million with subsequent re-releases), making it the tenth-highest grossing film of 2014',\n",
       "       'It received acclaim for its performances, direction, screenplay, musical score, visual effects, ambition, themes, and emotional weight',\n",
       "       'It has also received praise from many astronomers for its scientific accuracy and portrayal of theoretical astrophysics',\n",
       "       'Since its premiere, Interstellar gained a cult following,[5] and now is regarded by many sci-fi experts as one of the best science-fiction films of all time',\n",
       "       'Interstellar was nominated for five awards at the 87th Academy Awards, winning Best Visual Effects, and received numerous other accolades'],\n",
       "      dtype='<U192')"
      ]
     },
     "execution_count": 3,
     "metadata": {},
     "output_type": "execute_result"
    }
   ],
   "source": [
    "# # Split into a list of sentences\n",
    "# texts = text.split('.')\n",
    "\n",
    "# # Clean up to remove empty spaces and new lines\n",
    "# texts = np.array([t.strip(' \\n') for t in texts])\n",
    "# texts\n"
   ]
  },
  {
   "cell_type": "code",
   "execution_count": 7,
   "metadata": {},
   "outputs": [
    {
     "name": "stdout",
     "output_type": "stream",
     "text": [
      "['Interstellar is a 2014 epic science fiction film co-written, directed, and produced by Christopher Nolan.\\nIt stars Matthew McConaughey, Anne Hathaway, Jessica Chastain, Bill Irwin, Ellen Burstyn, Matt Damon, and Michael Caine.\\nSet in a dystopian future where humanity is struggling to survive, the film follows a group of astronauts who travel through a wormhole near Saturn in search of a new home for mankind.'\n",
      " 'Brothers Christopher and Jonathan Nolan wrote the screenplay, which had its origins in a script Jonathan developed in 2007.\\nCaltech theoretical physicist and 2017 Nobel laureate in Physics[4] Kip Thorne was an executive producer, acted as a scientific consultant, and wrote a tie-in book, The Science of Interstellar.\\nCinematographer Hoyte van Hoytema shot it on 35 mm movie film in the Panavision anamorphic format and IMAX 70 mm.\\nPrincipal photography began in late 2013 and took place in Alberta, Iceland, and Los Angeles.\\nInterstellar uses extensive practical and miniature effects and the company Double Negative created additional digital effects.'\n",
      " 'Interstellar premiered on October 26, 2014, in Los Angeles.\\nIn the United States, it was first released on film stock, expanding to venues using digital projectors.\\nThe film had a worldwide gross over $677 million (and $773 million with subsequent re-releases), making it the tenth-highest grossing film of 2014.\\nIt received acclaim for its performances, direction, screenplay, musical score, visual effects, ambition, themes, and emotional weight.\\nIt has also received praise from many astronomers for its scientific accuracy and portrayal of theoretical astrophysics. Since its premiere, Interstellar gained a cult following,[5] and now is regarded by many sci-fi experts as one of the best science-fiction films of all time.\\nInterstellar was nominated for five awards at the 87th Academy Awards, winning Best Visual Effects, and received numerous other accolades']\n"
     ]
    }
   ],
   "source": [
    "# Split into a list of paragraphs\n",
    "texts = text.split('\\n\\n')\n",
    "\n",
    "# Clean up to remove empty spaces and new lines\n",
    "texts = np.array([t.strip(' \\n') for t in texts])\n",
    "print(texts)\n"
   ]
  },
  {
   "cell_type": "code",
   "execution_count": 8,
   "metadata": {},
   "outputs": [
    {
     "name": "stdout",
     "output_type": "stream",
     "text": [
      "['Interstellar (film) Interstellar is a 2014 epic science fiction film co-written, directed, and produced by Christopher Nolan.\\nIt stars Matthew McConaughey, Anne Hathaway, Jessica Chastain, Bill Irwin, Ellen Burstyn, Matt Damon, and Michael Caine.\\nSet in a dystopian future where humanity is struggling to survive, the film follows a group of astronauts who travel through a wormhole near Saturn in search of a new home for mankind.'\n",
      " 'Interstellar (film) Brothers Christopher and Jonathan Nolan wrote the screenplay, which had its origins in a script Jonathan developed in 2007.\\nCaltech theoretical physicist and 2017 Nobel laureate in Physics[4] Kip Thorne was an executive producer, acted as a scientific consultant, and wrote a tie-in book, The Science of Interstellar.\\nCinematographer Hoyte van Hoytema shot it on 35 mm movie film in the Panavision anamorphic format and IMAX 70 mm.\\nPrincipal photography began in late 2013 and took place in Alberta, Iceland, and Los Angeles.\\nInterstellar uses extensive practical and miniature effects and the company Double Negative created additional digital effects.'\n",
      " 'Interstellar (film) Interstellar premiered on October 26, 2014, in Los Angeles.\\nIn the United States, it was first released on film stock, expanding to venues using digital projectors.\\nThe film had a worldwide gross over $677 million (and $773 million with subsequent re-releases), making it the tenth-highest grossing film of 2014.\\nIt received acclaim for its performances, direction, screenplay, musical score, visual effects, ambition, themes, and emotional weight.\\nIt has also received praise from many astronomers for its scientific accuracy and portrayal of theoretical astrophysics. Since its premiere, Interstellar gained a cult following,[5] and now is regarded by many sci-fi experts as one of the best science-fiction films of all time.\\nInterstellar was nominated for five awards at the 87th Academy Awards, winning Best Visual Effects, and received numerous other accolades']\n"
     ]
    }
   ],
   "source": [
    "title = 'Interstellar (film)'\n",
    "\n",
    "texts = np.array([f\"{title} {t}\" for t in texts])\n",
    "print(texts)\n"
   ]
  },
  {
   "cell_type": "markdown",
   "metadata": {},
   "source": [
    "# Now lets Embed the paragraph"
   ]
  },
  {
   "cell_type": "code",
   "execution_count": 11,
   "metadata": {},
   "outputs": [
    {
     "name": "stderr",
     "output_type": "stream",
     "text": [
      "default model on embed will be deprecated in the future, please specify a model in the request.\n"
     ]
    },
    {
     "data": {
      "text/plain": [
       "(3, 4096)"
      ]
     },
     "execution_count": 11,
     "metadata": {},
     "output_type": "execute_result"
    }
   ],
   "source": [
    "response = co.embed(texts = texts.tolist()).embeddings\n",
    "embeds = np.array(response)\n",
    "embeds.shape\n"
   ]
  },
  {
   "cell_type": "markdown",
   "metadata": {},
   "source": [
    "# Create search index with annoy"
   ]
  },
  {
   "cell_type": "code",
   "execution_count": 13,
   "metadata": {},
   "outputs": [
    {
     "data": {
      "text/plain": [
       "True"
      ]
     },
     "execution_count": 13,
     "metadata": {},
     "output_type": "execute_result"
    }
   ],
   "source": [
    "search_index = AnnoyIndex(embeds.shape[1], 'angular')\n",
    "# Add all the vectors to the search index\n",
    "for i in range(len(embeds)):\n",
    "    search_index.add_item(i, embeds[i])\n",
    "\n",
    "search_index.build(10) # 10 trees\n",
    "search_index.save('test.ann')\n"
   ]
  },
  {
   "cell_type": "code",
   "execution_count": 14,
   "metadata": {},
   "outputs": [],
   "source": [
    "pd.set_option('display.max_colwidth', None)\n",
    "\n",
    "def search(query):\n",
    "\n",
    "  # Get the query's embedding\n",
    "  query_embed = co.embed(texts=[query]).embeddings\n",
    "\n",
    "  # Retrieve the nearest neighbors\n",
    "  similar_item_ids = search_index.get_nns_by_vector(query_embed[0],\n",
    "                                                    3,\n",
    "                                                  include_distances=True)\n",
    "  # Format the results\n",
    "  results = pd.DataFrame(data={'texts': texts[similar_item_ids[0]],\n",
    "                              'distance': similar_item_ids[1]})\n",
    "\n",
    "  print(texts[similar_item_ids[0]])\n",
    "\n",
    "  return results\n"
   ]
  },
  {
   "cell_type": "code",
   "execution_count": 15,
   "metadata": {},
   "outputs": [
    {
     "name": "stderr",
     "output_type": "stream",
     "text": [
      "default model on embed will be deprecated in the future, please specify a model in the request.\n"
     ]
    },
    {
     "name": "stdout",
     "output_type": "stream",
     "text": [
      "['Interstellar (film) Interstellar premiered on October 26, 2014, in Los Angeles.\\nIn the United States, it was first released on film stock, expanding to venues using digital projectors.\\nThe film had a worldwide gross over $677 million (and $773 million with subsequent re-releases), making it the tenth-highest grossing film of 2014.\\nIt received acclaim for its performances, direction, screenplay, musical score, visual effects, ambition, themes, and emotional weight.\\nIt has also received praise from many astronomers for its scientific accuracy and portrayal of theoretical astrophysics. Since its premiere, Interstellar gained a cult following,[5] and now is regarded by many sci-fi experts as one of the best science-fiction films of all time.\\nInterstellar was nominated for five awards at the 87th Academy Awards, winning Best Visual Effects, and received numerous other accolades'\n",
      " 'Interstellar (film) Brothers Christopher and Jonathan Nolan wrote the screenplay, which had its origins in a script Jonathan developed in 2007.\\nCaltech theoretical physicist and 2017 Nobel laureate in Physics[4] Kip Thorne was an executive producer, acted as a scientific consultant, and wrote a tie-in book, The Science of Interstellar.\\nCinematographer Hoyte van Hoytema shot it on 35 mm movie film in the Panavision anamorphic format and IMAX 70 mm.\\nPrincipal photography began in late 2013 and took place in Alberta, Iceland, and Los Angeles.\\nInterstellar uses extensive practical and miniature effects and the company Double Negative created additional digital effects.'\n",
      " 'Interstellar (film) Interstellar is a 2014 epic science fiction film co-written, directed, and produced by Christopher Nolan.\\nIt stars Matthew McConaughey, Anne Hathaway, Jessica Chastain, Bill Irwin, Ellen Burstyn, Matt Damon, and Michael Caine.\\nSet in a dystopian future where humanity is struggling to survive, the film follows a group of astronauts who travel through a wormhole near Saturn in search of a new home for mankind.']\n"
     ]
    },
    {
     "data": {
      "text/html": [
       "<div>\n",
       "<style scoped>\n",
       "    .dataframe tbody tr th:only-of-type {\n",
       "        vertical-align: middle;\n",
       "    }\n",
       "\n",
       "    .dataframe tbody tr th {\n",
       "        vertical-align: top;\n",
       "    }\n",
       "\n",
       "    .dataframe thead th {\n",
       "        text-align: right;\n",
       "    }\n",
       "</style>\n",
       "<table border=\"1\" class=\"dataframe\">\n",
       "  <thead>\n",
       "    <tr style=\"text-align: right;\">\n",
       "      <th></th>\n",
       "      <th>texts</th>\n",
       "      <th>distance</th>\n",
       "    </tr>\n",
       "  </thead>\n",
       "  <tbody>\n",
       "    <tr>\n",
       "      <th>0</th>\n",
       "      <td>Interstellar (film) Interstellar premiered on October 26, 2014, in Los Angeles.\\nIn the United States, it was first released on film stock, expanding to venues using digital projectors.\\nThe film had a worldwide gross over $677 million (and $773 million with subsequent re-releases), making it the tenth-highest grossing film of 2014.\\nIt received acclaim for its performances, direction, screenplay, musical score, visual effects, ambition, themes, and emotional weight.\\nIt has also received praise from many astronomers for its scientific accuracy and portrayal of theoretical astrophysics. Since its premiere, Interstellar gained a cult following,[5] and now is regarded by many sci-fi experts as one of the best science-fiction films of all time.\\nInterstellar was nominated for five awards at the 87th Academy Awards, winning Best Visual Effects, and received numerous other accolades</td>\n",
       "      <td>1.092562</td>\n",
       "    </tr>\n",
       "    <tr>\n",
       "      <th>1</th>\n",
       "      <td>Interstellar (film) Brothers Christopher and Jonathan Nolan wrote the screenplay, which had its origins in a script Jonathan developed in 2007.\\nCaltech theoretical physicist and 2017 Nobel laureate in Physics[4] Kip Thorne was an executive producer, acted as a scientific consultant, and wrote a tie-in book, The Science of Interstellar.\\nCinematographer Hoyte van Hoytema shot it on 35 mm movie film in the Panavision anamorphic format and IMAX 70 mm.\\nPrincipal photography began in late 2013 and took place in Alberta, Iceland, and Los Angeles.\\nInterstellar uses extensive practical and miniature effects and the company Double Negative created additional digital effects.</td>\n",
       "      <td>1.150132</td>\n",
       "    </tr>\n",
       "    <tr>\n",
       "      <th>2</th>\n",
       "      <td>Interstellar (film) Interstellar is a 2014 epic science fiction film co-written, directed, and produced by Christopher Nolan.\\nIt stars Matthew McConaughey, Anne Hathaway, Jessica Chastain, Bill Irwin, Ellen Burstyn, Matt Damon, and Michael Caine.\\nSet in a dystopian future where humanity is struggling to survive, the film follows a group of astronauts who travel through a wormhole near Saturn in search of a new home for mankind.</td>\n",
       "      <td>1.203064</td>\n",
       "    </tr>\n",
       "  </tbody>\n",
       "</table>\n",
       "</div>"
      ],
      "text/plain": [
       "                                                                                                                                                                                                                                                                                                                                                                                                                                                                                                                                                                                                                                                                                                                                                                                                                                                                                                                        texts  \\\n",
       "0  Interstellar (film) Interstellar premiered on October 26, 2014, in Los Angeles.\\nIn the United States, it was first released on film stock, expanding to venues using digital projectors.\\nThe film had a worldwide gross over $677 million (and $773 million with subsequent re-releases), making it the tenth-highest grossing film of 2014.\\nIt received acclaim for its performances, direction, screenplay, musical score, visual effects, ambition, themes, and emotional weight.\\nIt has also received praise from many astronomers for its scientific accuracy and portrayal of theoretical astrophysics. Since its premiere, Interstellar gained a cult following,[5] and now is regarded by many sci-fi experts as one of the best science-fiction films of all time.\\nInterstellar was nominated for five awards at the 87th Academy Awards, winning Best Visual Effects, and received numerous other accolades   \n",
       "1                                                                                                                                                                                                                       Interstellar (film) Brothers Christopher and Jonathan Nolan wrote the screenplay, which had its origins in a script Jonathan developed in 2007.\\nCaltech theoretical physicist and 2017 Nobel laureate in Physics[4] Kip Thorne was an executive producer, acted as a scientific consultant, and wrote a tie-in book, The Science of Interstellar.\\nCinematographer Hoyte van Hoytema shot it on 35 mm movie film in the Panavision anamorphic format and IMAX 70 mm.\\nPrincipal photography began in late 2013 and took place in Alberta, Iceland, and Los Angeles.\\nInterstellar uses extensive practical and miniature effects and the company Double Negative created additional digital effects.   \n",
       "2                                                                                                                                                                                                                                                                                                                                                                                                                                                                           Interstellar (film) Interstellar is a 2014 epic science fiction film co-written, directed, and produced by Christopher Nolan.\\nIt stars Matthew McConaughey, Anne Hathaway, Jessica Chastain, Bill Irwin, Ellen Burstyn, Matt Damon, and Michael Caine.\\nSet in a dystopian future where humanity is struggling to survive, the film follows a group of astronauts who travel through a wormhole near Saturn in search of a new home for mankind.   \n",
       "\n",
       "   distance  \n",
       "0  1.092562  \n",
       "1  1.150132  \n",
       "2  1.203064  "
      ]
     },
     "execution_count": 15,
     "metadata": {},
     "output_type": "execute_result"
    }
   ],
   "source": [
    "query = \"How much did the film make?\"\n",
    "search(query)\n"
   ]
  },
  {
   "cell_type": "markdown",
   "metadata": {},
   "source": [
    "# Reranking"
   ]
  },
  {
   "cell_type": "code",
   "execution_count": 4,
   "metadata": {},
   "outputs": [],
   "source": [
    "query = \"What is the capital of Canada?\"\n",
    "dense_retrieval_results = dense_retrieval(query, client)\n"
   ]
  },
  {
   "cell_type": "code",
   "execution_count": 9,
   "metadata": {},
   "outputs": [
    {
     "name": "stdout",
     "output_type": "stream",
     "text": [
      "item 0\n",
      "_additional:{'distance': -150.8031}\n",
      "\n",
      "lang:en\n",
      "\n",
      "text:The governor general of the province had designated Kingston as the capital in 1841. However, the major population centres of Toronto and Montreal, as well as the former capital of Lower Canada, Quebec City, all had legislators dissatisfied with Kingston. Anglophone merchants in Quebec were the main group supportive of the Kingston arrangement. In 1842, a vote rejected Kingston as the capital, and study of potential candidates included the then-named Bytown, but that option proved less popular than Toronto or Montreal. In 1843, a report of the Executive Council recommended Montreal as the capital as a more fortifiable location and commercial centre, however, the Governor General refused to execute a move without a parliamentary vote. In 1844, the Queen's acceptance of a parliamentary vote moved the capital to Montreal.\n",
      "\n",
      "title:Ottawa\n",
      "\n",
      "url:https://en.wikipedia.org/wiki?curid=22219\n",
      "\n",
      "views:2000\n",
      "\n",
      "\n",
      "item 1\n",
      "_additional:{'distance': -150.28354}\n",
      "\n",
      "lang:en\n",
      "\n",
      "text:For brief periods, Toronto was twice the capital of the united Province of Canada: first from 1849 to 1852, following unrest in Montreal, and later 1856–1858. After this date, Quebec was designated as the capital until 1866 (one year before Canadian Confederation). Since then, the capital of Canada has remained Ottawa, Ontario.\n",
      "\n",
      "title:Toronto\n",
      "\n",
      "url:https://en.wikipedia.org/wiki?curid=64646\n",
      "\n",
      "views:3000\n",
      "\n",
      "\n",
      "item 2\n",
      "_additional:{'distance': -150.02524}\n",
      "\n",
      "lang:en\n",
      "\n",
      "text:Selection of Ottawa as the capital of Canada predates the Confederation of Canada. The selection was contentious and not straightforward, with the parliament of the United Province of Canada holding more than 200 votes over several decades to attempt to settle on a legislative solution to the location of the capital.\n",
      "\n",
      "title:Ottawa\n",
      "\n",
      "url:https://en.wikipedia.org/wiki?curid=22219\n",
      "\n",
      "views:2000\n",
      "\n",
      "\n",
      "item 3\n",
      "_additional:{'distance': -149.92365}\n",
      "\n",
      "lang:en\n",
      "\n",
      "text:Until the late 18th century Québec was the most populous city in present-day Canada. As of the census of 1790, Montreal surpassed it with 18,000 inhabitants, but Quebec (pop. 14,000) remained the administrative capital of New France. It was then made the capital of Lower Canada by the Constitutional Act of 1791. From 1841 to 1867, the capital of the Province of Canada rotated between Kingston, Montreal, Toronto, Ottawa and Quebec City (from 1852 to 1856 and from 1859 to 1866).\n",
      "\n",
      "title:Quebec City\n",
      "\n",
      "url:https://en.wikipedia.org/wiki?curid=100727\n",
      "\n",
      "views:2000\n",
      "\n",
      "\n",
      "item 4\n",
      "_additional:{'distance': -149.71033}\n",
      "\n",
      "lang:en\n",
      "\n",
      "text:The Quebec Conference on Canadian Confederation was held in the city in 1864. In 1867, Queen Victoria chose Ottawa as the definite capital of the Dominion of Canada, while Quebec City was confirmed as the capital of the newly created province of Quebec.\n",
      "\n",
      "title:Quebec City\n",
      "\n",
      "url:https://en.wikipedia.org/wiki?curid=100727\n",
      "\n",
      "views:2000\n",
      "\n",
      "\n"
     ]
    }
   ],
   "source": [
    "print_result(dense_retrieval_results)\n"
   ]
  },
  {
   "cell_type": "markdown",
   "metadata": {},
   "source": [
    "## Improving Keyword Search with Rerank"
   ]
  },
  {
   "cell_type": "code",
   "execution_count": null,
   "metadata": {},
   "outputs": [],
   "source": [
    "query_1 = \"What is the capital of Canada?\"\n",
    "results = keyword_search(query_1,\n",
    "                         client,\n",
    "                         properties=[\"text\", \"title\", \"url\", \"views\", \"lang\", \"_additional {distance}\"],\n",
    "                         num_results=500\n",
    "                        )\n",
    "\n",
    "for i, result in enumerate(results):\n",
    "    print(f\"i:{i}\")\n",
    "    print(result.get('title'))\n",
    "    # print(result.get('text'))\n"
   ]
  },
  {
   "cell_type": "code",
   "execution_count": 13,
   "metadata": {},
   "outputs": [],
   "source": [
    "def rerank_responses(query, responses, num_responses=10):\n",
    "    reranked_responses = co.rerank(\n",
    "        model = 'rerank-english-v2.0',\n",
    "        query = query,\n",
    "        documents = responses,\n",
    "        top_n = num_responses,\n",
    "        )\n",
    "    return reranked_responses\n"
   ]
  },
  {
   "cell_type": "code",
   "execution_count": 14,
   "metadata": {},
   "outputs": [
    {
     "data": {
      "text/html": [
       "<pre style=\"white-space:pre;overflow-x:auto;line-height:normal;font-family:Menlo,'DejaVu Sans Mono',consolas,'Courier New',monospace\">i:<span style=\"color: #008080; text-decoration-color: #008080; font-weight: bold\">0</span>\n",
       "</pre>\n"
      ],
      "text/plain": [
       "i:\u001b[1;36m0\u001b[0m\n"
      ]
     },
     "metadata": {},
     "output_type": "display_data"
    },
    {
     "data": {
      "text/html": [
       "<pre style=\"white-space:pre;overflow-x:auto;line-height:normal;font-family:Menlo,'DejaVu Sans Mono',consolas,'Courier New',monospace\">RerankResult<span style=\"font-weight: bold\">&lt;</span><span style=\"color: #ff00ff; text-decoration-color: #ff00ff; font-weight: bold\">document</span><span style=\"color: #000000; text-decoration-color: #000000; font-weight: bold\">[</span><span style=\"color: #008000; text-decoration-color: #008000\">'text'</span><span style=\"color: #000000; text-decoration-color: #000000; font-weight: bold\">]</span><span style=\"color: #000000; text-decoration-color: #000000\">: Selection of Ottawa as the capital of Canada predates the Confederation of Canada. </span>\n",
       "<span style=\"color: #000000; text-decoration-color: #000000\">The selection was contentious and not straightforward, with the parliament of the United Province of Canada holding</span>\n",
       "<span style=\"color: #000000; text-decoration-color: #000000\">more than </span><span style=\"color: #008080; text-decoration-color: #008080; font-weight: bold\">200</span><span style=\"color: #000000; text-decoration-color: #000000\"> votes over several decades to attempt to settle on a legislative solution to the location of the </span>\n",
       "<span style=\"color: #000000; text-decoration-color: #000000\">capital., index: </span><span style=\"color: #008080; text-decoration-color: #008080; font-weight: bold\">407</span><span style=\"color: #000000; text-decoration-color: #000000\">, relevance_score: </span><span style=\"color: #008080; text-decoration-color: #008080; font-weight: bold\">0.9875684</span><span style=\"font-weight: bold\">&gt;</span>\n",
       "</pre>\n"
      ],
      "text/plain": [
       "RerankResult\u001b[1m<\u001b[0m\u001b[1;95mdocument\u001b[0m\u001b[1;39m[\u001b[0m\u001b[32m'text'\u001b[0m\u001b[1;39m]\u001b[0m\u001b[39m: Selection of Ottawa as the capital of Canada predates the Confederation of Canada. \u001b[0m\n",
       "\u001b[39mThe selection was contentious and not straightforward, with the parliament of the United Province of Canada holding\u001b[0m\n",
       "\u001b[39mmore than \u001b[0m\u001b[1;36m200\u001b[0m\u001b[39m votes over several decades to attempt to settle on a legislative solution to the location of the \u001b[0m\n",
       "\u001b[39mcapital., index: \u001b[0m\u001b[1;36m407\u001b[0m\u001b[39m, relevance_score: \u001b[0m\u001b[1;36m0.9875684\u001b[0m\u001b[1m>\u001b[0m\n"
      ]
     },
     "metadata": {},
     "output_type": "display_data"
    },
    {
     "data": {
      "text/html": [
       "<pre style=\"white-space:pre;overflow-x:auto;line-height:normal;font-family:Menlo,'DejaVu Sans Mono',consolas,'Courier New',monospace\">\n",
       "</pre>\n"
      ],
      "text/plain": [
       "\n"
      ]
     },
     "metadata": {},
     "output_type": "display_data"
    },
    {
     "data": {
      "text/html": [
       "<pre style=\"white-space:pre;overflow-x:auto;line-height:normal;font-family:Menlo,'DejaVu Sans Mono',consolas,'Courier New',monospace\">i:<span style=\"color: #008080; text-decoration-color: #008080; font-weight: bold\">1</span>\n",
       "</pre>\n"
      ],
      "text/plain": [
       "i:\u001b[1;36m1\u001b[0m\n"
      ]
     },
     "metadata": {},
     "output_type": "display_data"
    },
    {
     "data": {
      "text/html": [
       "<pre style=\"white-space:pre;overflow-x:auto;line-height:normal;font-family:Menlo,'DejaVu Sans Mono',consolas,'Courier New',monospace\">RerankResult<span style=\"font-weight: bold\">&lt;</span><span style=\"color: #ff00ff; text-decoration-color: #ff00ff; font-weight: bold\">document</span><span style=\"color: #000000; text-decoration-color: #000000; font-weight: bold\">[</span><span style=\"color: #008000; text-decoration-color: #008000\">'text'</span><span style=\"color: #000000; text-decoration-color: #000000; font-weight: bold\">]</span><span style=\"color: #000000; text-decoration-color: #000000\">: Montreal was the capital of the Province of Canada from </span><span style=\"color: #008080; text-decoration-color: #008080; font-weight: bold\">1844</span><span style=\"color: #000000; text-decoration-color: #000000\"> to </span><span style=\"color: #008080; text-decoration-color: #008080; font-weight: bold\">1849</span><span style=\"color: #000000; text-decoration-color: #000000\">, but lost its </span>\n",
       "<span style=\"color: #000000; text-decoration-color: #000000\">status when a Tory mob burnt down the Parliament building to protest the passage of the Rebellion Losses Bill. </span>\n",
       "<span style=\"color: #000000; text-decoration-color: #000000\">Thereafter, the capital rotated between Quebec City and Toronto until in </span><span style=\"color: #008080; text-decoration-color: #008080; font-weight: bold\">1857</span><span style=\"color: #000000; text-decoration-color: #000000\">, Queen Victoria herself established </span>\n",
       "<span style=\"color: #000000; text-decoration-color: #000000\">Ottawa as the capital due to strategic reasons. The reasons were twofold. First, because it was located more in the</span>\n",
       "<span style=\"color: #000000; text-decoration-color: #000000\">interior of the Province of Canada, it was less susceptible to attack from the United States. Second, and perhaps </span>\n",
       "<span style=\"color: #000000; text-decoration-color: #000000\">more importantly, because it lay on the border between French and English Canada, Ottawa was seen as a compromise </span>\n",
       "<span style=\"color: #000000; text-decoration-color: #000000\">between Montreal, Toronto, Kingston and Quebec City, which were all vying to become the young nation's official </span>\n",
       "<span style=\"color: #000000; text-decoration-color: #000000\">capital. Ottawa retained the status as capital of Canada when the Province of Canada joined with Nova Scotia and </span>\n",
       "<span style=\"color: #000000; text-decoration-color: #000000\">New Brunswick to form the Dominion of Canada in </span><span style=\"color: #008080; text-decoration-color: #008080; font-weight: bold\">1867</span><span style=\"color: #000000; text-decoration-color: #000000\">., index: </span><span style=\"color: #008080; text-decoration-color: #008080; font-weight: bold\">100</span><span style=\"color: #000000; text-decoration-color: #000000\">, relevance_score: </span><span style=\"color: #008080; text-decoration-color: #008080; font-weight: bold\">0.9795897</span><span style=\"font-weight: bold\">&gt;</span>\n",
       "</pre>\n"
      ],
      "text/plain": [
       "RerankResult\u001b[1m<\u001b[0m\u001b[1;95mdocument\u001b[0m\u001b[1;39m[\u001b[0m\u001b[32m'text'\u001b[0m\u001b[1;39m]\u001b[0m\u001b[39m: Montreal was the capital of the Province of Canada from \u001b[0m\u001b[1;36m1844\u001b[0m\u001b[39m to \u001b[0m\u001b[1;36m1849\u001b[0m\u001b[39m, but lost its \u001b[0m\n",
       "\u001b[39mstatus when a Tory mob burnt down the Parliament building to protest the passage of the Rebellion Losses Bill. \u001b[0m\n",
       "\u001b[39mThereafter, the capital rotated between Quebec City and Toronto until in \u001b[0m\u001b[1;36m1857\u001b[0m\u001b[39m, Queen Victoria herself established \u001b[0m\n",
       "\u001b[39mOttawa as the capital due to strategic reasons. The reasons were twofold. First, because it was located more in the\u001b[0m\n",
       "\u001b[39minterior of the Province of Canada, it was less susceptible to attack from the United States. Second, and perhaps \u001b[0m\n",
       "\u001b[39mmore importantly, because it lay on the border between French and English Canada, Ottawa was seen as a compromise \u001b[0m\n",
       "\u001b[39mbetween Montreal, Toronto, Kingston and Quebec City, which were all vying to become the young nation's official \u001b[0m\n",
       "\u001b[39mcapital. Ottawa retained the status as capital of Canada when the Province of Canada joined with Nova Scotia and \u001b[0m\n",
       "\u001b[39mNew Brunswick to form the Dominion of Canada in \u001b[0m\u001b[1;36m1867\u001b[0m\u001b[39m., index: \u001b[0m\u001b[1;36m100\u001b[0m\u001b[39m, relevance_score: \u001b[0m\u001b[1;36m0.9795897\u001b[0m\u001b[1m>\u001b[0m\n"
      ]
     },
     "metadata": {},
     "output_type": "display_data"
    },
    {
     "data": {
      "text/html": [
       "<pre style=\"white-space:pre;overflow-x:auto;line-height:normal;font-family:Menlo,'DejaVu Sans Mono',consolas,'Courier New',monospace\">\n",
       "</pre>\n"
      ],
      "text/plain": [
       "\n"
      ]
     },
     "metadata": {},
     "output_type": "display_data"
    },
    {
     "data": {
      "text/html": [
       "<pre style=\"white-space:pre;overflow-x:auto;line-height:normal;font-family:Menlo,'DejaVu Sans Mono',consolas,'Courier New',monospace\">i:<span style=\"color: #008080; text-decoration-color: #008080; font-weight: bold\">2</span>\n",
       "</pre>\n"
      ],
      "text/plain": [
       "i:\u001b[1;36m2\u001b[0m\n"
      ]
     },
     "metadata": {},
     "output_type": "display_data"
    },
    {
     "data": {
      "text/html": [
       "<pre style=\"white-space:pre;overflow-x:auto;line-height:normal;font-family:Menlo,'DejaVu Sans Mono',consolas,'Courier New',monospace\">RerankResult<span style=\"font-weight: bold\">&lt;</span><span style=\"color: #ff00ff; text-decoration-color: #ff00ff; font-weight: bold\">document</span><span style=\"color: #000000; text-decoration-color: #000000; font-weight: bold\">[</span><span style=\"color: #008000; text-decoration-color: #008000\">'text'</span><span style=\"color: #000000; text-decoration-color: #000000; font-weight: bold\">]</span><span style=\"color: #000000; text-decoration-color: #000000\">: Ottawa is the political centre of Canada and headquarters to the federal government.</span>\n",
       "<span style=\"color: #000000; text-decoration-color: #000000\">The city houses numerous foreign embassies, key buildings, organizations, and institutions of Canada's government, </span>\n",
       "<span style=\"color: #000000; text-decoration-color: #000000\">including the Parliament of Canada, the Supreme Court, the residence of Canada's viceroy, and Office of the Prime </span>\n",
       "<span style=\"color: #000000; text-decoration-color: #000000\">Minister., index: </span><span style=\"color: #008080; text-decoration-color: #008080; font-weight: bold\">202</span><span style=\"color: #000000; text-decoration-color: #000000\">, relevance_score: </span><span style=\"color: #008080; text-decoration-color: #008080; font-weight: bold\">0.9753901</span><span style=\"font-weight: bold\">&gt;</span>\n",
       "</pre>\n"
      ],
      "text/plain": [
       "RerankResult\u001b[1m<\u001b[0m\u001b[1;95mdocument\u001b[0m\u001b[1;39m[\u001b[0m\u001b[32m'text'\u001b[0m\u001b[1;39m]\u001b[0m\u001b[39m: Ottawa is the political centre of Canada and headquarters to the federal government.\u001b[0m\n",
       "\u001b[39mThe city houses numerous foreign embassies, key buildings, organizations, and institutions of Canada's government, \u001b[0m\n",
       "\u001b[39mincluding the Parliament of Canada, the Supreme Court, the residence of Canada's viceroy, and Office of the Prime \u001b[0m\n",
       "\u001b[39mMinister., index: \u001b[0m\u001b[1;36m202\u001b[0m\u001b[39m, relevance_score: \u001b[0m\u001b[1;36m0.9753901\u001b[0m\u001b[1m>\u001b[0m\n"
      ]
     },
     "metadata": {},
     "output_type": "display_data"
    },
    {
     "data": {
      "text/html": [
       "<pre style=\"white-space:pre;overflow-x:auto;line-height:normal;font-family:Menlo,'DejaVu Sans Mono',consolas,'Courier New',monospace\">\n",
       "</pre>\n"
      ],
      "text/plain": [
       "\n"
      ]
     },
     "metadata": {},
     "output_type": "display_data"
    },
    {
     "data": {
      "text/html": [
       "<pre style=\"white-space:pre;overflow-x:auto;line-height:normal;font-family:Menlo,'DejaVu Sans Mono',consolas,'Courier New',monospace\">i:<span style=\"color: #008080; text-decoration-color: #008080; font-weight: bold\">3</span>\n",
       "</pre>\n"
      ],
      "text/plain": [
       "i:\u001b[1;36m3\u001b[0m\n"
      ]
     },
     "metadata": {},
     "output_type": "display_data"
    },
    {
     "data": {
      "text/html": [
       "<pre style=\"white-space:pre;overflow-x:auto;line-height:normal;font-family:Menlo,'DejaVu Sans Mono',consolas,'Courier New',monospace\">RerankResult<span style=\"font-weight: bold\">&lt;</span><span style=\"color: #ff00ff; text-decoration-color: #ff00ff; font-weight: bold\">document</span><span style=\"color: #000000; text-decoration-color: #000000; font-weight: bold\">[</span><span style=\"color: #008000; text-decoration-color: #008000\">'text'</span><span style=\"color: #000000; text-decoration-color: #000000; font-weight: bold\">]</span><span style=\"color: #000000; text-decoration-color: #000000\">: Until the late 18th century Québec was the most populous city in present-day Canada.</span>\n",
       "<span style=\"color: #000000; text-decoration-color: #000000\">As of the census of </span><span style=\"color: #008080; text-decoration-color: #008080; font-weight: bold\">1790</span><span style=\"color: #000000; text-decoration-color: #000000\">, Montreal surpassed it with </span><span style=\"color: #008080; text-decoration-color: #008080; font-weight: bold\">18</span><span style=\"color: #000000; text-decoration-color: #000000\">,</span><span style=\"color: #008080; text-decoration-color: #008080; font-weight: bold\">000</span><span style=\"color: #000000; text-decoration-color: #000000\"> inhabitants, but Quebec </span><span style=\"color: #000000; text-decoration-color: #000000; font-weight: bold\">(</span><span style=\"color: #000000; text-decoration-color: #000000\">pop. </span><span style=\"color: #008080; text-decoration-color: #008080; font-weight: bold\">14</span><span style=\"color: #000000; text-decoration-color: #000000\">,</span><span style=\"color: #008080; text-decoration-color: #008080; font-weight: bold\">000</span><span style=\"color: #000000; text-decoration-color: #000000; font-weight: bold\">)</span><span style=\"color: #000000; text-decoration-color: #000000\"> remained the </span>\n",
       "<span style=\"color: #000000; text-decoration-color: #000000\">administrative capital of New France. It was then made the capital of Lower Canada by the Constitutional Act of </span>\n",
       "<span style=\"color: #008080; text-decoration-color: #008080; font-weight: bold\">1791</span><span style=\"color: #000000; text-decoration-color: #000000\">. From </span><span style=\"color: #008080; text-decoration-color: #008080; font-weight: bold\">1841</span><span style=\"color: #000000; text-decoration-color: #000000\"> to </span><span style=\"color: #008080; text-decoration-color: #008080; font-weight: bold\">1867</span><span style=\"color: #000000; text-decoration-color: #000000\">, the capital of the Province of Canada rotated between Kingston, Montreal, Toronto, Ottawa </span>\n",
       "<span style=\"color: #000000; text-decoration-color: #000000\">and Quebec City </span><span style=\"color: #000000; text-decoration-color: #000000; font-weight: bold\">(</span><span style=\"color: #000000; text-decoration-color: #000000\">from </span><span style=\"color: #008080; text-decoration-color: #008080; font-weight: bold\">1852</span><span style=\"color: #000000; text-decoration-color: #000000\"> to </span><span style=\"color: #008080; text-decoration-color: #008080; font-weight: bold\">1856</span><span style=\"color: #000000; text-decoration-color: #000000\"> and from </span><span style=\"color: #008080; text-decoration-color: #008080; font-weight: bold\">1859</span><span style=\"color: #000000; text-decoration-color: #000000\"> to </span><span style=\"color: #008080; text-decoration-color: #008080; font-weight: bold\">1866</span><span style=\"color: #000000; text-decoration-color: #000000; font-weight: bold\">)</span><span style=\"color: #000000; text-decoration-color: #000000\">., index: </span><span style=\"color: #008080; text-decoration-color: #008080; font-weight: bold\">496</span><span style=\"color: #000000; text-decoration-color: #000000\">, relevance_score: </span><span style=\"color: #008080; text-decoration-color: #008080; font-weight: bold\">0.9711838</span><span style=\"font-weight: bold\">&gt;</span>\n",
       "</pre>\n"
      ],
      "text/plain": [
       "RerankResult\u001b[1m<\u001b[0m\u001b[1;95mdocument\u001b[0m\u001b[1;39m[\u001b[0m\u001b[32m'text'\u001b[0m\u001b[1;39m]\u001b[0m\u001b[39m: Until the late 18th century Québec was the most populous city in present-day Canada.\u001b[0m\n",
       "\u001b[39mAs of the census of \u001b[0m\u001b[1;36m1790\u001b[0m\u001b[39m, Montreal surpassed it with \u001b[0m\u001b[1;36m18\u001b[0m\u001b[39m,\u001b[0m\u001b[1;36m000\u001b[0m\u001b[39m inhabitants, but Quebec \u001b[0m\u001b[1;39m(\u001b[0m\u001b[39mpop. \u001b[0m\u001b[1;36m14\u001b[0m\u001b[39m,\u001b[0m\u001b[1;36m000\u001b[0m\u001b[1;39m)\u001b[0m\u001b[39m remained the \u001b[0m\n",
       "\u001b[39madministrative capital of New France. It was then made the capital of Lower Canada by the Constitutional Act of \u001b[0m\n",
       "\u001b[1;36m1791\u001b[0m\u001b[39m. From \u001b[0m\u001b[1;36m1841\u001b[0m\u001b[39m to \u001b[0m\u001b[1;36m1867\u001b[0m\u001b[39m, the capital of the Province of Canada rotated between Kingston, Montreal, Toronto, Ottawa \u001b[0m\n",
       "\u001b[39mand Quebec City \u001b[0m\u001b[1;39m(\u001b[0m\u001b[39mfrom \u001b[0m\u001b[1;36m1852\u001b[0m\u001b[39m to \u001b[0m\u001b[1;36m1856\u001b[0m\u001b[39m and from \u001b[0m\u001b[1;36m1859\u001b[0m\u001b[39m to \u001b[0m\u001b[1;36m1866\u001b[0m\u001b[1;39m)\u001b[0m\u001b[39m., index: \u001b[0m\u001b[1;36m496\u001b[0m\u001b[39m, relevance_score: \u001b[0m\u001b[1;36m0.9711838\u001b[0m\u001b[1m>\u001b[0m\n"
      ]
     },
     "metadata": {},
     "output_type": "display_data"
    },
    {
     "data": {
      "text/html": [
       "<pre style=\"white-space:pre;overflow-x:auto;line-height:normal;font-family:Menlo,'DejaVu Sans Mono',consolas,'Courier New',monospace\">\n",
       "</pre>\n"
      ],
      "text/plain": [
       "\n"
      ]
     },
     "metadata": {},
     "output_type": "display_data"
    },
    {
     "data": {
      "text/html": [
       "<pre style=\"white-space:pre;overflow-x:auto;line-height:normal;font-family:Menlo,'DejaVu Sans Mono',consolas,'Courier New',monospace\">i:<span style=\"color: #008080; text-decoration-color: #008080; font-weight: bold\">4</span>\n",
       "</pre>\n"
      ],
      "text/plain": [
       "i:\u001b[1;36m4\u001b[0m\n"
      ]
     },
     "metadata": {},
     "output_type": "display_data"
    },
    {
     "data": {
      "text/html": [
       "<pre style=\"white-space:pre;overflow-x:auto;line-height:normal;font-family:Menlo,'DejaVu Sans Mono',consolas,'Courier New',monospace\">RerankResult<span style=\"font-weight: bold\">&lt;</span><span style=\"color: #ff00ff; text-decoration-color: #ff00ff; font-weight: bold\">document</span><span style=\"color: #000000; text-decoration-color: #000000; font-weight: bold\">[</span><span style=\"color: #008000; text-decoration-color: #008000\">'text'</span><span style=\"color: #000000; text-decoration-color: #000000; font-weight: bold\">]</span><span style=\"color: #000000; text-decoration-color: #000000\">: Ottawa was chosen as the capital for two primary reasons. First, Ottawa's isolated </span>\n",
       "<span style=\"color: #000000; text-decoration-color: #000000\">location, surrounded by dense forest far from the Canada–US border and situated on a cliff face, would make it more</span>\n",
       "<span style=\"color: #000000; text-decoration-color: #000000\">defensible from attack. Second, Ottawa was approximately midway between Toronto and Kingston </span><span style=\"color: #000000; text-decoration-color: #000000; font-weight: bold\">(</span><span style=\"color: #000000; text-decoration-color: #000000\">in Canada West</span><span style=\"color: #000000; text-decoration-color: #000000; font-weight: bold\">)</span><span style=\"color: #000000; text-decoration-color: #000000\"> and </span>\n",
       "<span style=\"color: #000000; text-decoration-color: #000000\">Montreal and Quebec City </span><span style=\"color: #000000; text-decoration-color: #000000; font-weight: bold\">(</span><span style=\"color: #000000; text-decoration-color: #000000\">in Canada East</span><span style=\"color: #000000; text-decoration-color: #000000; font-weight: bold\">)</span><span style=\"color: #000000; text-decoration-color: #000000\"> making the selection an important political compromise., index: </span><span style=\"color: #008080; text-decoration-color: #008080; font-weight: bold\">479</span><span style=\"color: #000000; text-decoration-color: #000000\">, </span>\n",
       "<span style=\"color: #000000; text-decoration-color: #000000\">relevance_score: </span><span style=\"color: #008080; text-decoration-color: #008080; font-weight: bold\">0.96653706</span><span style=\"font-weight: bold\">&gt;</span>\n",
       "</pre>\n"
      ],
      "text/plain": [
       "RerankResult\u001b[1m<\u001b[0m\u001b[1;95mdocument\u001b[0m\u001b[1;39m[\u001b[0m\u001b[32m'text'\u001b[0m\u001b[1;39m]\u001b[0m\u001b[39m: Ottawa was chosen as the capital for two primary reasons. First, Ottawa's isolated \u001b[0m\n",
       "\u001b[39mlocation, surrounded by dense forest far from the Canada–US border and situated on a cliff face, would make it more\u001b[0m\n",
       "\u001b[39mdefensible from attack. Second, Ottawa was approximately midway between Toronto and Kingston \u001b[0m\u001b[1;39m(\u001b[0m\u001b[39min Canada West\u001b[0m\u001b[1;39m)\u001b[0m\u001b[39m and \u001b[0m\n",
       "\u001b[39mMontreal and Quebec City \u001b[0m\u001b[1;39m(\u001b[0m\u001b[39min Canada East\u001b[0m\u001b[1;39m)\u001b[0m\u001b[39m making the selection an important political compromise., index: \u001b[0m\u001b[1;36m479\u001b[0m\u001b[39m, \u001b[0m\n",
       "\u001b[39mrelevance_score: \u001b[0m\u001b[1;36m0.96653706\u001b[0m\u001b[1m>\u001b[0m\n"
      ]
     },
     "metadata": {},
     "output_type": "display_data"
    },
    {
     "data": {
      "text/html": [
       "<pre style=\"white-space:pre;overflow-x:auto;line-height:normal;font-family:Menlo,'DejaVu Sans Mono',consolas,'Courier New',monospace\">\n",
       "</pre>\n"
      ],
      "text/plain": [
       "\n"
      ]
     },
     "metadata": {},
     "output_type": "display_data"
    },
    {
     "data": {
      "text/html": [
       "<pre style=\"white-space:pre;overflow-x:auto;line-height:normal;font-family:Menlo,'DejaVu Sans Mono',consolas,'Courier New',monospace\">i:<span style=\"color: #008080; text-decoration-color: #008080; font-weight: bold\">5</span>\n",
       "</pre>\n"
      ],
      "text/plain": [
       "i:\u001b[1;36m5\u001b[0m\n"
      ]
     },
     "metadata": {},
     "output_type": "display_data"
    },
    {
     "data": {
      "text/html": [
       "<pre style=\"white-space:pre;overflow-x:auto;line-height:normal;font-family:Menlo,'DejaVu Sans Mono',consolas,'Courier New',monospace\">RerankResult<span style=\"font-weight: bold\">&lt;</span><span style=\"color: #ff00ff; text-decoration-color: #ff00ff; font-weight: bold\">document</span><span style=\"color: #000000; text-decoration-color: #000000; font-weight: bold\">[</span><span style=\"color: #008000; text-decoration-color: #008000\">'text'</span><span style=\"color: #000000; text-decoration-color: #000000; font-weight: bold\">]</span><span style=\"color: #000000; text-decoration-color: #000000\">: Canada is a country in North America. Its ten provinces and three territories extend</span>\n",
       "<span style=\"color: #000000; text-decoration-color: #000000\">from the Atlantic Ocean to the Pacific Ocean and northward into the Arctic Ocean, covering over , making it the </span>\n",
       "<span style=\"color: #000000; text-decoration-color: #000000\">world's second-largest country by total area. Its southern and western border with the United States, stretching , </span>\n",
       "<span style=\"color: #000000; text-decoration-color: #000000\">is the world's longest binational land border. Canada's capital is Ottawa, and its three largest metropolitan areas</span>\n",
       "<span style=\"color: #000000; text-decoration-color: #000000\">are Toronto, Montreal, and Vancouver., index: </span><span style=\"color: #008080; text-decoration-color: #008080; font-weight: bold\">481</span><span style=\"color: #000000; text-decoration-color: #000000\">, relevance_score: </span><span style=\"color: #008080; text-decoration-color: #008080; font-weight: bold\">0.9421884</span><span style=\"font-weight: bold\">&gt;</span>\n",
       "</pre>\n"
      ],
      "text/plain": [
       "RerankResult\u001b[1m<\u001b[0m\u001b[1;95mdocument\u001b[0m\u001b[1;39m[\u001b[0m\u001b[32m'text'\u001b[0m\u001b[1;39m]\u001b[0m\u001b[39m: Canada is a country in North America. Its ten provinces and three territories extend\u001b[0m\n",
       "\u001b[39mfrom the Atlantic Ocean to the Pacific Ocean and northward into the Arctic Ocean, covering over , making it the \u001b[0m\n",
       "\u001b[39mworld's second-largest country by total area. Its southern and western border with the United States, stretching , \u001b[0m\n",
       "\u001b[39mis the world's longest binational land border. Canada's capital is Ottawa, and its three largest metropolitan areas\u001b[0m\n",
       "\u001b[39mare Toronto, Montreal, and Vancouver., index: \u001b[0m\u001b[1;36m481\u001b[0m\u001b[39m, relevance_score: \u001b[0m\u001b[1;36m0.9421884\u001b[0m\u001b[1m>\u001b[0m\n"
      ]
     },
     "metadata": {},
     "output_type": "display_data"
    },
    {
     "data": {
      "text/html": [
       "<pre style=\"white-space:pre;overflow-x:auto;line-height:normal;font-family:Menlo,'DejaVu Sans Mono',consolas,'Courier New',monospace\">\n",
       "</pre>\n"
      ],
      "text/plain": [
       "\n"
      ]
     },
     "metadata": {},
     "output_type": "display_data"
    },
    {
     "data": {
      "text/html": [
       "<pre style=\"white-space:pre;overflow-x:auto;line-height:normal;font-family:Menlo,'DejaVu Sans Mono',consolas,'Courier New',monospace\">i:<span style=\"color: #008080; text-decoration-color: #008080; font-weight: bold\">6</span>\n",
       "</pre>\n"
      ],
      "text/plain": [
       "i:\u001b[1;36m6\u001b[0m\n"
      ]
     },
     "metadata": {},
     "output_type": "display_data"
    },
    {
     "data": {
      "text/html": [
       "<pre style=\"white-space:pre;overflow-x:auto;line-height:normal;font-family:Menlo,'DejaVu Sans Mono',consolas,'Courier New',monospace\">RerankResult<span style=\"font-weight: bold\">&lt;</span><span style=\"color: #ff00ff; text-decoration-color: #ff00ff; font-weight: bold\">document</span><span style=\"color: #000000; text-decoration-color: #000000; font-weight: bold\">[</span><span style=\"color: #008000; text-decoration-color: #008000\">'text'</span><span style=\"color: #000000; text-decoration-color: #000000; font-weight: bold\">]</span><span style=\"color: #000000; text-decoration-color: #000000\">: Although both rebellions were put down in short order, the British government sent </span>\n",
       "<span style=\"color: #000000; text-decoration-color: #000000\">Lord Durham to investigate the causes. He recommended self-government be granted and Lower and Upper Canada be </span>\n",
       "<span style=\"color: #000000; text-decoration-color: #000000\">re-joined in an attempt to assimilate the French Canadians. Accordingly, the two colonies were merged into the </span>\n",
       "<span style=\"color: #000000; text-decoration-color: #000000\">Province of Canada by the </span><span style=\"color: #008000; text-decoration-color: #008000\">\"Act of Union 1840\"</span><span style=\"color: #000000; text-decoration-color: #000000\">, with the capital at Kingston, and Upper Canada becoming known as </span>\n",
       "<span style=\"color: #000000; text-decoration-color: #000000\">Canada West. Parliamentary self-government was granted in </span><span style=\"color: #008080; text-decoration-color: #008080; font-weight: bold\">1848</span><span style=\"color: #000000; text-decoration-color: #000000\">. There were heavy waves of immigration in the 1840s,</span>\n",
       "<span style=\"color: #000000; text-decoration-color: #000000\">and the population of Canada West more than doubled by </span><span style=\"color: #008080; text-decoration-color: #008080; font-weight: bold\">1851</span><span style=\"color: #000000; text-decoration-color: #000000\"> over the previous decade. As a result, for the first </span>\n",
       "<span style=\"color: #000000; text-decoration-color: #000000\">time, the English-speaking population of Canada West surpassed the French-speaking population of Canada East, </span>\n",
       "<span style=\"color: #000000; text-decoration-color: #000000\">tilting the representative balance of power., index: </span><span style=\"color: #008080; text-decoration-color: #008080; font-weight: bold\">68</span><span style=\"color: #000000; text-decoration-color: #000000\">, relevance_score: </span><span style=\"color: #008080; text-decoration-color: #008080; font-weight: bold\">0.86567897</span><span style=\"font-weight: bold\">&gt;</span>\n",
       "</pre>\n"
      ],
      "text/plain": [
       "RerankResult\u001b[1m<\u001b[0m\u001b[1;95mdocument\u001b[0m\u001b[1;39m[\u001b[0m\u001b[32m'text'\u001b[0m\u001b[1;39m]\u001b[0m\u001b[39m: Although both rebellions were put down in short order, the British government sent \u001b[0m\n",
       "\u001b[39mLord Durham to investigate the causes. He recommended self-government be granted and Lower and Upper Canada be \u001b[0m\n",
       "\u001b[39mre-joined in an attempt to assimilate the French Canadians. Accordingly, the two colonies were merged into the \u001b[0m\n",
       "\u001b[39mProvince of Canada by the \u001b[0m\u001b[32m\"Act of Union 1840\"\u001b[0m\u001b[39m, with the capital at Kingston, and Upper Canada becoming known as \u001b[0m\n",
       "\u001b[39mCanada West. Parliamentary self-government was granted in \u001b[0m\u001b[1;36m1848\u001b[0m\u001b[39m. There were heavy waves of immigration in the 1840s,\u001b[0m\n",
       "\u001b[39mand the population of Canada West more than doubled by \u001b[0m\u001b[1;36m1851\u001b[0m\u001b[39m over the previous decade. As a result, for the first \u001b[0m\n",
       "\u001b[39mtime, the English-speaking population of Canada West surpassed the French-speaking population of Canada East, \u001b[0m\n",
       "\u001b[39mtilting the representative balance of power., index: \u001b[0m\u001b[1;36m68\u001b[0m\u001b[39m, relevance_score: \u001b[0m\u001b[1;36m0.86567897\u001b[0m\u001b[1m>\u001b[0m\n"
      ]
     },
     "metadata": {},
     "output_type": "display_data"
    },
    {
     "data": {
      "text/html": [
       "<pre style=\"white-space:pre;overflow-x:auto;line-height:normal;font-family:Menlo,'DejaVu Sans Mono',consolas,'Courier New',monospace\">\n",
       "</pre>\n"
      ],
      "text/plain": [
       "\n"
      ]
     },
     "metadata": {},
     "output_type": "display_data"
    },
    {
     "data": {
      "text/html": [
       "<pre style=\"white-space:pre;overflow-x:auto;line-height:normal;font-family:Menlo,'DejaVu Sans Mono',consolas,'Courier New',monospace\">i:<span style=\"color: #008080; text-decoration-color: #008080; font-weight: bold\">7</span>\n",
       "</pre>\n"
      ],
      "text/plain": [
       "i:\u001b[1;36m7\u001b[0m\n"
      ]
     },
     "metadata": {},
     "output_type": "display_data"
    },
    {
     "data": {
      "text/html": [
       "<pre style=\"white-space:pre;overflow-x:auto;line-height:normal;font-family:Menlo,'DejaVu Sans Mono',consolas,'Courier New',monospace\">RerankResult<span style=\"font-weight: bold\">&lt;</span><span style=\"color: #ff00ff; text-decoration-color: #ff00ff; font-weight: bold\">document</span><span style=\"color: #000000; text-decoration-color: #000000; font-weight: bold\">[</span><span style=\"color: #008000; text-decoration-color: #008000\">'text'</span><span style=\"color: #000000; text-decoration-color: #000000; font-weight: bold\">]</span><span style=\"color: #000000; text-decoration-color: #000000\">: Ottawa is headquarters to numerous major medical organizations and institutions such</span>\n",
       "<span style=\"color: #000000; text-decoration-color: #000000\">as Canadian Red Cross, Canadian Blood Services, Health Canada, Canadian Medical Association, Royal College of </span>\n",
       "<span style=\"color: #000000; text-decoration-color: #000000\">Physicians and Surgeons of Canada, Canadian Nurses Association, and the Medical Council of Canada., index: </span><span style=\"color: #008080; text-decoration-color: #008080; font-weight: bold\">394</span><span style=\"color: #000000; text-decoration-color: #000000\">, </span>\n",
       "<span style=\"color: #000000; text-decoration-color: #000000\">relevance_score: </span><span style=\"color: #008080; text-decoration-color: #008080; font-weight: bold\">0.86153823</span><span style=\"font-weight: bold\">&gt;</span>\n",
       "</pre>\n"
      ],
      "text/plain": [
       "RerankResult\u001b[1m<\u001b[0m\u001b[1;95mdocument\u001b[0m\u001b[1;39m[\u001b[0m\u001b[32m'text'\u001b[0m\u001b[1;39m]\u001b[0m\u001b[39m: Ottawa is headquarters to numerous major medical organizations and institutions such\u001b[0m\n",
       "\u001b[39mas Canadian Red Cross, Canadian Blood Services, Health Canada, Canadian Medical Association, Royal College of \u001b[0m\n",
       "\u001b[39mPhysicians and Surgeons of Canada, Canadian Nurses Association, and the Medical Council of Canada., index: \u001b[0m\u001b[1;36m394\u001b[0m\u001b[39m, \u001b[0m\n",
       "\u001b[39mrelevance_score: \u001b[0m\u001b[1;36m0.86153823\u001b[0m\u001b[1m>\u001b[0m\n"
      ]
     },
     "metadata": {},
     "output_type": "display_data"
    },
    {
     "data": {
      "text/html": [
       "<pre style=\"white-space:pre;overflow-x:auto;line-height:normal;font-family:Menlo,'DejaVu Sans Mono',consolas,'Courier New',monospace\">\n",
       "</pre>\n"
      ],
      "text/plain": [
       "\n"
      ]
     },
     "metadata": {},
     "output_type": "display_data"
    },
    {
     "data": {
      "text/html": [
       "<pre style=\"white-space:pre;overflow-x:auto;line-height:normal;font-family:Menlo,'DejaVu Sans Mono',consolas,'Courier New',monospace\">i:<span style=\"color: #008080; text-decoration-color: #008080; font-weight: bold\">8</span>\n",
       "</pre>\n"
      ],
      "text/plain": [
       "i:\u001b[1;36m8\u001b[0m\n"
      ]
     },
     "metadata": {},
     "output_type": "display_data"
    },
    {
     "data": {
      "text/html": [
       "<pre style=\"white-space:pre;overflow-x:auto;line-height:normal;font-family:Menlo,'DejaVu Sans Mono',consolas,'Courier New',monospace\">RerankResult<span style=\"font-weight: bold\">&lt;</span><span style=\"color: #ff00ff; text-decoration-color: #ff00ff; font-weight: bold\">document</span><span style=\"color: #000000; text-decoration-color: #000000; font-weight: bold\">[</span><span style=\"color: #008000; text-decoration-color: #008000\">'text'</span><span style=\"color: #000000; text-decoration-color: #000000; font-weight: bold\">]</span><span style=\"color: #000000; text-decoration-color: #000000\">: Ontario </span><span style=\"color: #000000; text-decoration-color: #000000; font-weight: bold\">(</span><span style=\"color: #000000; text-decoration-color: #000000\"> ; </span><span style=\"color: #000000; text-decoration-color: #000000; font-weight: bold\">)</span><span style=\"color: #000000; text-decoration-color: #000000\"> is one of the thirteen provinces and territories of Canada. Located in</span>\n",
       "<span style=\"color: #000000; text-decoration-color: #000000\">Central Canada, it is Canada's most populous province, with </span><span style=\"color: #008080; text-decoration-color: #008080; font-weight: bold\">38.3</span><span style=\"color: #000000; text-decoration-color: #000000\"> percent of the country's population, and is the </span>\n",
       "<span style=\"color: #000000; text-decoration-color: #000000\">second-largest province by total area </span><span style=\"color: #000000; text-decoration-color: #000000; font-weight: bold\">(</span><span style=\"color: #000000; text-decoration-color: #000000\">after Quebec</span><span style=\"color: #000000; text-decoration-color: #000000; font-weight: bold\">)</span><span style=\"color: #000000; text-decoration-color: #000000\">. Ontario is Canada's fourth-largest jurisdiction in total area</span>\n",
       "<span style=\"color: #000000; text-decoration-color: #000000\">when the territories of the Northwest Territories and Nunavut are included. It is home to the nation's capital </span>\n",
       "<span style=\"color: #000000; text-decoration-color: #000000\">city, Ottawa, and the nation's most populous city, Toronto, which is Ontario's provincial capital., index: </span><span style=\"color: #008080; text-decoration-color: #008080; font-weight: bold\">228</span><span style=\"color: #000000; text-decoration-color: #000000\">, </span>\n",
       "<span style=\"color: #000000; text-decoration-color: #000000\">relevance_score: </span><span style=\"color: #008080; text-decoration-color: #008080; font-weight: bold\">0.4989891</span><span style=\"font-weight: bold\">&gt;</span>\n",
       "</pre>\n"
      ],
      "text/plain": [
       "RerankResult\u001b[1m<\u001b[0m\u001b[1;95mdocument\u001b[0m\u001b[1;39m[\u001b[0m\u001b[32m'text'\u001b[0m\u001b[1;39m]\u001b[0m\u001b[39m: Ontario \u001b[0m\u001b[1;39m(\u001b[0m\u001b[39m ; \u001b[0m\u001b[1;39m)\u001b[0m\u001b[39m is one of the thirteen provinces and territories of Canada. Located in\u001b[0m\n",
       "\u001b[39mCentral Canada, it is Canada's most populous province, with \u001b[0m\u001b[1;36m38.3\u001b[0m\u001b[39m percent of the country's population, and is the \u001b[0m\n",
       "\u001b[39msecond-largest province by total area \u001b[0m\u001b[1;39m(\u001b[0m\u001b[39mafter Quebec\u001b[0m\u001b[1;39m)\u001b[0m\u001b[39m. Ontario is Canada's fourth-largest jurisdiction in total area\u001b[0m\n",
       "\u001b[39mwhen the territories of the Northwest Territories and Nunavut are included. It is home to the nation's capital \u001b[0m\n",
       "\u001b[39mcity, Ottawa, and the nation's most populous city, Toronto, which is Ontario's provincial capital., index: \u001b[0m\u001b[1;36m228\u001b[0m\u001b[39m, \u001b[0m\n",
       "\u001b[39mrelevance_score: \u001b[0m\u001b[1;36m0.4989891\u001b[0m\u001b[1m>\u001b[0m\n"
      ]
     },
     "metadata": {},
     "output_type": "display_data"
    },
    {
     "data": {
      "text/html": [
       "<pre style=\"white-space:pre;overflow-x:auto;line-height:normal;font-family:Menlo,'DejaVu Sans Mono',consolas,'Courier New',monospace\">\n",
       "</pre>\n"
      ],
      "text/plain": [
       "\n"
      ]
     },
     "metadata": {},
     "output_type": "display_data"
    },
    {
     "data": {
      "text/html": [
       "<pre style=\"white-space:pre;overflow-x:auto;line-height:normal;font-family:Menlo,'DejaVu Sans Mono',consolas,'Courier New',monospace\">i:<span style=\"color: #008080; text-decoration-color: #008080; font-weight: bold\">9</span>\n",
       "</pre>\n"
      ],
      "text/plain": [
       "i:\u001b[1;36m9\u001b[0m\n"
      ]
     },
     "metadata": {},
     "output_type": "display_data"
    },
    {
     "data": {
      "text/html": [
       "<pre style=\"white-space:pre;overflow-x:auto;line-height:normal;font-family:Menlo,'DejaVu Sans Mono',consolas,'Courier New',monospace\">RerankResult<span style=\"font-weight: bold\">&lt;</span><span style=\"color: #ff00ff; text-decoration-color: #ff00ff; font-weight: bold\">document</span><span style=\"color: #000000; text-decoration-color: #000000; font-weight: bold\">[</span><span style=\"color: #008000; text-decoration-color: #008000\">'text'</span><span style=\"color: #000000; text-decoration-color: #000000; font-weight: bold\">]</span><span style=\"color: #000000; text-decoration-color: #000000\">: With sixty percent of Canada's steel produced in Hamilton by Stelco and Dofasco, the</span>\n",
       "<span style=\"color: #000000; text-decoration-color: #000000\">city has become known as the Steel Capital of Canada. After nearly declaring bankruptcy, Stelco returned to </span>\n",
       "<span style=\"color: #000000; text-decoration-color: #000000\">profitability in </span><span style=\"color: #008080; text-decoration-color: #008080; font-weight: bold\">2004</span><span style=\"color: #000000; text-decoration-color: #000000\">. On August </span><span style=\"color: #008080; text-decoration-color: #008080; font-weight: bold\">26</span><span style=\"color: #000000; text-decoration-color: #000000\">, </span><span style=\"color: #008080; text-decoration-color: #008080; font-weight: bold\">2007</span><span style=\"color: #000000; text-decoration-color: #000000\"> United States Steel Corporation acquired Stelco for C$</span><span style=\"color: #008080; text-decoration-color: #008080; font-weight: bold\">38.50</span><span style=\"color: #000000; text-decoration-color: #000000\"> in cash per </span>\n",
       "<span style=\"color: #000000; text-decoration-color: #000000\">share, owning more than </span><span style=\"color: #008080; text-decoration-color: #008080; font-weight: bold\">76</span><span style=\"color: #000000; text-decoration-color: #000000\"> percent of Stelco's outstanding shares. On September </span><span style=\"color: #008080; text-decoration-color: #008080; font-weight: bold\">17</span><span style=\"color: #000000; text-decoration-color: #000000\">, </span><span style=\"color: #008080; text-decoration-color: #008080; font-weight: bold\">2014</span><span style=\"color: #000000; text-decoration-color: #000000\">, US Steel Canada announced</span>\n",
       "<span style=\"color: #000000; text-decoration-color: #000000\">it was applying for bankruptcy protection and it would close its Hamilton operations., index: </span><span style=\"color: #008080; text-decoration-color: #008080; font-weight: bold\">5</span><span style=\"color: #000000; text-decoration-color: #000000\">, relevance_score: </span>\n",
       "<span style=\"color: #008080; text-decoration-color: #008080; font-weight: bold\">0.49455282</span><span style=\"font-weight: bold\">&gt;</span>\n",
       "</pre>\n"
      ],
      "text/plain": [
       "RerankResult\u001b[1m<\u001b[0m\u001b[1;95mdocument\u001b[0m\u001b[1;39m[\u001b[0m\u001b[32m'text'\u001b[0m\u001b[1;39m]\u001b[0m\u001b[39m: With sixty percent of Canada's steel produced in Hamilton by Stelco and Dofasco, the\u001b[0m\n",
       "\u001b[39mcity has become known as the Steel Capital of Canada. After nearly declaring bankruptcy, Stelco returned to \u001b[0m\n",
       "\u001b[39mprofitability in \u001b[0m\u001b[1;36m2004\u001b[0m\u001b[39m. On August \u001b[0m\u001b[1;36m26\u001b[0m\u001b[39m, \u001b[0m\u001b[1;36m2007\u001b[0m\u001b[39m United States Steel Corporation acquired Stelco for C$\u001b[0m\u001b[1;36m38.50\u001b[0m\u001b[39m in cash per \u001b[0m\n",
       "\u001b[39mshare, owning more than \u001b[0m\u001b[1;36m76\u001b[0m\u001b[39m percent of Stelco's outstanding shares. On September \u001b[0m\u001b[1;36m17\u001b[0m\u001b[39m, \u001b[0m\u001b[1;36m2014\u001b[0m\u001b[39m, US Steel Canada announced\u001b[0m\n",
       "\u001b[39mit was applying for bankruptcy protection and it would close its Hamilton operations., index: \u001b[0m\u001b[1;36m5\u001b[0m\u001b[39m, relevance_score: \u001b[0m\n",
       "\u001b[1;36m0.49455282\u001b[0m\u001b[1m>\u001b[0m\n"
      ]
     },
     "metadata": {},
     "output_type": "display_data"
    },
    {
     "data": {
      "text/html": [
       "<pre style=\"white-space:pre;overflow-x:auto;line-height:normal;font-family:Menlo,'DejaVu Sans Mono',consolas,'Courier New',monospace\">\n",
       "</pre>\n"
      ],
      "text/plain": [
       "\n"
      ]
     },
     "metadata": {},
     "output_type": "display_data"
    }
   ],
   "source": [
    "texts = [result.get('text') for result in results]\n",
    "reranked_text = rerank_responses(query_1, texts)\n",
    "\n",
    "for i, rerank_result in enumerate(reranked_text):\n",
    "    print(f\"i:{i}\")\n",
    "    print(f\"{rerank_result}\")\n",
    "    print()\n"
   ]
  },
  {
   "cell_type": "markdown",
   "metadata": {},
   "source": [
    "## Improving Dense Search with Rerank"
   ]
  },
  {
   "cell_type": "code",
   "execution_count": 15,
   "metadata": {},
   "outputs": [
    {
     "data": {
      "text/html": [
       "<pre style=\"white-space:pre;overflow-x:auto;line-height:normal;font-family:Menlo,'DejaVu Sans Mono',consolas,'Courier New',monospace\">i:<span style=\"color: #008080; text-decoration-color: #008080; font-weight: bold\">0</span>\n",
       "</pre>\n"
      ],
      "text/plain": [
       "i:\u001b[1;36m0\u001b[0m\n"
      ]
     },
     "metadata": {},
     "output_type": "display_data"
    },
    {
     "data": {
      "text/html": [
       "<pre style=\"white-space:pre;overflow-x:auto;line-height:normal;font-family:Menlo,'DejaVu Sans Mono',consolas,'Courier New',monospace\">Robert Wadlow\n",
       "</pre>\n"
      ],
      "text/plain": [
       "Robert Wadlow\n"
      ]
     },
     "metadata": {},
     "output_type": "display_data"
    },
    {
     "data": {
      "text/html": [
       "<pre style=\"white-space:pre;overflow-x:auto;line-height:normal;font-family:Menlo,'DejaVu Sans Mono',consolas,'Courier New',monospace\">Robert Pershing Wadlow <span style=\"font-weight: bold\">(</span>February <span style=\"color: #008080; text-decoration-color: #008080; font-weight: bold\">22</span>, <span style=\"color: #008080; text-decoration-color: #008080; font-weight: bold\">1918</span> July <span style=\"color: #008080; text-decoration-color: #008080; font-weight: bold\">15</span>, <span style=\"color: #008080; text-decoration-color: #008080; font-weight: bold\">1940</span><span style=\"font-weight: bold\">)</span>, also known as the Alton Giant and the Giant of Illinois, \n",
       "was a man who was the tallest person in recorded history for whom there is irrefutable evidence. He was born and \n",
       "raised in Alton, Illinois, a small city near St. Louis, Missouri.\n",
       "</pre>\n"
      ],
      "text/plain": [
       "Robert Pershing Wadlow \u001b[1m(\u001b[0mFebruary \u001b[1;36m22\u001b[0m, \u001b[1;36m1918\u001b[0m July \u001b[1;36m15\u001b[0m, \u001b[1;36m1940\u001b[0m\u001b[1m)\u001b[0m, also known as the Alton Giant and the Giant of Illinois, \n",
       "was a man who was the tallest person in recorded history for whom there is irrefutable evidence. He was born and \n",
       "raised in Alton, Illinois, a small city near St. Louis, Missouri.\n"
      ]
     },
     "metadata": {},
     "output_type": "display_data"
    },
    {
     "data": {
      "text/html": [
       "<pre style=\"white-space:pre;overflow-x:auto;line-height:normal;font-family:Menlo,'DejaVu Sans Mono',consolas,'Courier New',monospace\">\n",
       "</pre>\n"
      ],
      "text/plain": [
       "\n"
      ]
     },
     "metadata": {},
     "output_type": "display_data"
    },
    {
     "data": {
      "text/html": [
       "<pre style=\"white-space:pre;overflow-x:auto;line-height:normal;font-family:Menlo,'DejaVu Sans Mono',consolas,'Courier New',monospace\">i:<span style=\"color: #008080; text-decoration-color: #008080; font-weight: bold\">1</span>\n",
       "</pre>\n"
      ],
      "text/plain": [
       "i:\u001b[1;36m1\u001b[0m\n"
      ]
     },
     "metadata": {},
     "output_type": "display_data"
    },
    {
     "data": {
      "text/html": [
       "<pre style=\"white-space:pre;overflow-x:auto;line-height:normal;font-family:Menlo,'DejaVu Sans Mono',consolas,'Courier New',monospace\">Manute Bol\n",
       "</pre>\n"
      ],
      "text/plain": [
       "Manute Bol\n"
      ]
     },
     "metadata": {},
     "output_type": "display_data"
    },
    {
     "data": {
      "text/html": [
       "<pre style=\"white-space:pre;overflow-x:auto;line-height:normal;font-family:Menlo,'DejaVu Sans Mono',consolas,'Courier New',monospace\">Bol came from a family of extraordinarily tall men and women. He said: <span style=\"color: #008000; text-decoration-color: #008000\">\"My mother was , my father , and my sister </span>\n",
       "<span style=\"color: #008000; text-decoration-color: #008000\">is . And my great-grandfather was even taller—.\"</span> His ethnic group, the Dinka, and the Nilotic people of which they \n",
       "are a part, are among the tallest populations in the world. Bol's hometown, Turalei, is the origin of other \n",
       "exceptionally tall people, including basketball player Ring Ayuel. <span style=\"color: #008000; text-decoration-color: #008000\">\"I was born in a village, where you cannot </span>\n",
       "<span style=\"color: #008000; text-decoration-color: #008000\">measure yourself,\"</span> Bol reflected. <span style=\"color: #008000; text-decoration-color: #008000\">\"I learned I was 7 foot 7 in 1979, when I was grown. I was about 18 or 19.\"</span>\n",
       "</pre>\n"
      ],
      "text/plain": [
       "Bol came from a family of extraordinarily tall men and women. He said: \u001b[32m\"My mother was , my father , and my sister \u001b[0m\n",
       "\u001b[32mis . And my great-grandfather was even taller—.\"\u001b[0m His ethnic group, the Dinka, and the Nilotic people of which they \n",
       "are a part, are among the tallest populations in the world. Bol's hometown, Turalei, is the origin of other \n",
       "exceptionally tall people, including basketball player Ring Ayuel. \u001b[32m\"I was born in a village, where you cannot \u001b[0m\n",
       "\u001b[32mmeasure yourself,\"\u001b[0m Bol reflected. \u001b[32m\"I learned I was 7 foot 7 in 1979, when I was grown. I was about 18 or 19.\"\u001b[0m\n"
      ]
     },
     "metadata": {},
     "output_type": "display_data"
    },
    {
     "data": {
      "text/html": [
       "<pre style=\"white-space:pre;overflow-x:auto;line-height:normal;font-family:Menlo,'DejaVu Sans Mono',consolas,'Courier New',monospace\">\n",
       "</pre>\n"
      ],
      "text/plain": [
       "\n"
      ]
     },
     "metadata": {},
     "output_type": "display_data"
    },
    {
     "data": {
      "text/html": [
       "<pre style=\"white-space:pre;overflow-x:auto;line-height:normal;font-family:Menlo,'DejaVu Sans Mono',consolas,'Courier New',monospace\">i:<span style=\"color: #008080; text-decoration-color: #008080; font-weight: bold\">2</span>\n",
       "</pre>\n"
      ],
      "text/plain": [
       "i:\u001b[1;36m2\u001b[0m\n"
      ]
     },
     "metadata": {},
     "output_type": "display_data"
    },
    {
     "data": {
      "text/html": [
       "<pre style=\"white-space:pre;overflow-x:auto;line-height:normal;font-family:Menlo,'DejaVu Sans Mono',consolas,'Courier New',monospace\">Sultan Kösen\n",
       "</pre>\n"
      ],
      "text/plain": [
       "Sultan Kösen\n"
      ]
     },
     "metadata": {},
     "output_type": "display_data"
    },
    {
     "data": {
      "text/html": [
       "<pre style=\"white-space:pre;overflow-x:auto;line-height:normal;font-family:Menlo,'DejaVu Sans Mono',consolas,'Courier New',monospace\">Sultan Kösen <span style=\"font-weight: bold\">(</span>born <span style=\"color: #008080; text-decoration-color: #008080; font-weight: bold\">10</span> December <span style=\"color: #008080; text-decoration-color: #008080; font-weight: bold\">1982</span><span style=\"font-weight: bold\">)</span> is a Turkish farmer who holds the Guinness World Record for tallest living \n",
       "male at . Of Kurdish ethnicity, he is the seventh tallest man in history.\n",
       "</pre>\n"
      ],
      "text/plain": [
       "Sultan Kösen \u001b[1m(\u001b[0mborn \u001b[1;36m10\u001b[0m December \u001b[1;36m1982\u001b[0m\u001b[1m)\u001b[0m is a Turkish farmer who holds the Guinness World Record for tallest living \n",
       "male at . Of Kurdish ethnicity, he is the seventh tallest man in history.\n"
      ]
     },
     "metadata": {},
     "output_type": "display_data"
    },
    {
     "data": {
      "text/html": [
       "<pre style=\"white-space:pre;overflow-x:auto;line-height:normal;font-family:Menlo,'DejaVu Sans Mono',consolas,'Courier New',monospace\">\n",
       "</pre>\n"
      ],
      "text/plain": [
       "\n"
      ]
     },
     "metadata": {},
     "output_type": "display_data"
    },
    {
     "data": {
      "text/html": [
       "<pre style=\"white-space:pre;overflow-x:auto;line-height:normal;font-family:Menlo,'DejaVu Sans Mono',consolas,'Courier New',monospace\">i:<span style=\"color: #008080; text-decoration-color: #008080; font-weight: bold\">3</span>\n",
       "</pre>\n"
      ],
      "text/plain": [
       "i:\u001b[1;36m3\u001b[0m\n"
      ]
     },
     "metadata": {},
     "output_type": "display_data"
    },
    {
     "data": {
      "text/html": [
       "<pre style=\"white-space:pre;overflow-x:auto;line-height:normal;font-family:Menlo,'DejaVu Sans Mono',consolas,'Courier New',monospace\">Sultan Kösen\n",
       "</pre>\n"
      ],
      "text/plain": [
       "Sultan Kösen\n"
      ]
     },
     "metadata": {},
     "output_type": "display_data"
    },
    {
     "data": {
      "text/html": [
       "<pre style=\"white-space:pre;overflow-x:auto;line-height:normal;font-family:Menlo,'DejaVu Sans Mono',consolas,'Courier New',monospace\">Kösen turned <span style=\"color: #008080; text-decoration-color: #008080; font-weight: bold\">40</span> years old on <span style=\"color: #008080; text-decoration-color: #008080; font-weight: bold\">10</span> December <span style=\"color: #008080; text-decoration-color: #008080; font-weight: bold\">2022</span>. He celebrated his birthday a few days early by visiting the Ripley's\n",
       "Believe It or Not! museum in Orlando, Florida, USA and posing next to a life-sized statue of Robert Wadlow, the \n",
       "tallest man ever at <span style=\"color: #008080; text-decoration-color: #008080; font-weight: bold\">272</span> cm <span style=\"font-weight: bold\">(</span><span style=\"color: #008080; text-decoration-color: #008080; font-weight: bold\">8</span> ft <span style=\"color: #008080; text-decoration-color: #008080; font-weight: bold\">11.1</span> in<span style=\"font-weight: bold\">)</span>.\n",
       "</pre>\n"
      ],
      "text/plain": [
       "Kösen turned \u001b[1;36m40\u001b[0m years old on \u001b[1;36m10\u001b[0m December \u001b[1;36m2022\u001b[0m. He celebrated his birthday a few days early by visiting the Ripley's\n",
       "Believe It or Not! museum in Orlando, Florida, USA and posing next to a life-sized statue of Robert Wadlow, the \n",
       "tallest man ever at \u001b[1;36m272\u001b[0m cm \u001b[1m(\u001b[0m\u001b[1;36m8\u001b[0m ft \u001b[1;36m11.1\u001b[0m in\u001b[1m)\u001b[0m.\n"
      ]
     },
     "metadata": {},
     "output_type": "display_data"
    },
    {
     "data": {
      "text/html": [
       "<pre style=\"white-space:pre;overflow-x:auto;line-height:normal;font-family:Menlo,'DejaVu Sans Mono',consolas,'Courier New',monospace\">\n",
       "</pre>\n"
      ],
      "text/plain": [
       "\n"
      ]
     },
     "metadata": {},
     "output_type": "display_data"
    },
    {
     "data": {
      "text/html": [
       "<pre style=\"white-space:pre;overflow-x:auto;line-height:normal;font-family:Menlo,'DejaVu Sans Mono',consolas,'Courier New',monospace\">i:<span style=\"color: #008080; text-decoration-color: #008080; font-weight: bold\">4</span>\n",
       "</pre>\n"
      ],
      "text/plain": [
       "i:\u001b[1;36m4\u001b[0m\n"
      ]
     },
     "metadata": {},
     "output_type": "display_data"
    },
    {
     "data": {
      "text/html": [
       "<pre style=\"white-space:pre;overflow-x:auto;line-height:normal;font-family:Menlo,'DejaVu Sans Mono',consolas,'Courier New',monospace\">Netherlands\n",
       "</pre>\n"
      ],
      "text/plain": [
       "Netherlands\n"
      ]
     },
     "metadata": {},
     "output_type": "display_data"
    },
    {
     "data": {
      "text/html": [
       "<pre style=\"white-space:pre;overflow-x:auto;line-height:normal;font-family:Menlo,'DejaVu Sans Mono',consolas,'Courier New',monospace\">The Dutch are the tallest people in the world, by nationality, with an average height of for adult males and for \n",
       "adult females in <span style=\"color: #008080; text-decoration-color: #008080; font-weight: bold\">2009</span>. The average height of young males in the Netherlands increased from <span style=\"color: #008080; text-decoration-color: #008080; font-weight: bold\">5</span> feet, <span style=\"color: #008080; text-decoration-color: #008080; font-weight: bold\">4</span> inches to \n",
       "approximately <span style=\"color: #008080; text-decoration-color: #008080; font-weight: bold\">6</span> feet between the 1850s until the early 2000s. People in the south are on average about shorter than\n",
       "those in the north.\n",
       "</pre>\n"
      ],
      "text/plain": [
       "The Dutch are the tallest people in the world, by nationality, with an average height of for adult males and for \n",
       "adult females in \u001b[1;36m2009\u001b[0m. The average height of young males in the Netherlands increased from \u001b[1;36m5\u001b[0m feet, \u001b[1;36m4\u001b[0m inches to \n",
       "approximately \u001b[1;36m6\u001b[0m feet between the 1850s until the early 2000s. People in the south are on average about shorter than\n",
       "those in the north.\n"
      ]
     },
     "metadata": {},
     "output_type": "display_data"
    },
    {
     "data": {
      "text/html": [
       "<pre style=\"white-space:pre;overflow-x:auto;line-height:normal;font-family:Menlo,'DejaVu Sans Mono',consolas,'Courier New',monospace\">\n",
       "</pre>\n"
      ],
      "text/plain": [
       "\n"
      ]
     },
     "metadata": {},
     "output_type": "display_data"
    }
   ],
   "source": [
    "query_2 = \"Who is the tallest person in history?\"\n",
    "results = dense_retrieval(query_2,client)\n",
    "\n",
    "for i, result in enumerate(results):\n",
    "    print(f\"i:{i}\")\n",
    "    print(result.get('title'))\n",
    "    print(result.get('text'))\n",
    "    print()\n"
   ]
  },
  {
   "cell_type": "code",
   "execution_count": 16,
   "metadata": {},
   "outputs": [
    {
     "data": {
      "text/html": [
       "<pre style=\"white-space:pre;overflow-x:auto;line-height:normal;font-family:Menlo,'DejaVu Sans Mono',consolas,'Courier New',monospace\">i:<span style=\"color: #008080; text-decoration-color: #008080; font-weight: bold\">0</span>\n",
       "</pre>\n"
      ],
      "text/plain": [
       "i:\u001b[1;36m0\u001b[0m\n"
      ]
     },
     "metadata": {},
     "output_type": "display_data"
    },
    {
     "data": {
      "text/html": [
       "<pre style=\"white-space:pre;overflow-x:auto;line-height:normal;font-family:Menlo,'DejaVu Sans Mono',consolas,'Courier New',monospace\">RerankResult<span style=\"font-weight: bold\">&lt;</span><span style=\"color: #ff00ff; text-decoration-color: #ff00ff; font-weight: bold\">document</span><span style=\"color: #000000; text-decoration-color: #000000; font-weight: bold\">[</span><span style=\"color: #008000; text-decoration-color: #008000\">'text'</span><span style=\"color: #000000; text-decoration-color: #000000; font-weight: bold\">]</span><span style=\"color: #000000; text-decoration-color: #000000\">: Robert Pershing Wadlow </span><span style=\"color: #000000; text-decoration-color: #000000; font-weight: bold\">(</span><span style=\"color: #000000; text-decoration-color: #000000\">February </span><span style=\"color: #008080; text-decoration-color: #008080; font-weight: bold\">22</span><span style=\"color: #000000; text-decoration-color: #000000\">, </span><span style=\"color: #008080; text-decoration-color: #008080; font-weight: bold\">1918</span><span style=\"color: #000000; text-decoration-color: #000000\"> July </span><span style=\"color: #008080; text-decoration-color: #008080; font-weight: bold\">15</span><span style=\"color: #000000; text-decoration-color: #000000\">, </span><span style=\"color: #008080; text-decoration-color: #008080; font-weight: bold\">1940</span><span style=\"color: #000000; text-decoration-color: #000000; font-weight: bold\">)</span><span style=\"color: #000000; text-decoration-color: #000000\">, also known as the Alton </span>\n",
       "<span style=\"color: #000000; text-decoration-color: #000000\">Giant and the Giant of Illinois, was a man who was the tallest person in recorded history for whom there is </span>\n",
       "<span style=\"color: #000000; text-decoration-color: #000000\">irrefutable evidence. He was born and raised in Alton, Illinois, a small city near St. Louis, Missouri., index: </span><span style=\"color: #008080; text-decoration-color: #008080; font-weight: bold\">0</span><span style=\"color: #000000; text-decoration-color: #000000\">, </span>\n",
       "<span style=\"color: #000000; text-decoration-color: #000000\">relevance_score: </span><span style=\"color: #008080; text-decoration-color: #008080; font-weight: bold\">0.9734939</span><span style=\"font-weight: bold\">&gt;</span>\n",
       "</pre>\n"
      ],
      "text/plain": [
       "RerankResult\u001b[1m<\u001b[0m\u001b[1;95mdocument\u001b[0m\u001b[1;39m[\u001b[0m\u001b[32m'text'\u001b[0m\u001b[1;39m]\u001b[0m\u001b[39m: Robert Pershing Wadlow \u001b[0m\u001b[1;39m(\u001b[0m\u001b[39mFebruary \u001b[0m\u001b[1;36m22\u001b[0m\u001b[39m, \u001b[0m\u001b[1;36m1918\u001b[0m\u001b[39m July \u001b[0m\u001b[1;36m15\u001b[0m\u001b[39m, \u001b[0m\u001b[1;36m1940\u001b[0m\u001b[1;39m)\u001b[0m\u001b[39m, also known as the Alton \u001b[0m\n",
       "\u001b[39mGiant and the Giant of Illinois, was a man who was the tallest person in recorded history for whom there is \u001b[0m\n",
       "\u001b[39mirrefutable evidence. He was born and raised in Alton, Illinois, a small city near St. Louis, Missouri., index: \u001b[0m\u001b[1;36m0\u001b[0m\u001b[39m, \u001b[0m\n",
       "\u001b[39mrelevance_score: \u001b[0m\u001b[1;36m0.9734939\u001b[0m\u001b[1m>\u001b[0m\n"
      ]
     },
     "metadata": {},
     "output_type": "display_data"
    },
    {
     "data": {
      "text/html": [
       "<pre style=\"white-space:pre;overflow-x:auto;line-height:normal;font-family:Menlo,'DejaVu Sans Mono',consolas,'Courier New',monospace\">\n",
       "</pre>\n"
      ],
      "text/plain": [
       "\n"
      ]
     },
     "metadata": {},
     "output_type": "display_data"
    },
    {
     "data": {
      "text/html": [
       "<pre style=\"white-space:pre;overflow-x:auto;line-height:normal;font-family:Menlo,'DejaVu Sans Mono',consolas,'Courier New',monospace\">i:<span style=\"color: #008080; text-decoration-color: #008080; font-weight: bold\">1</span>\n",
       "</pre>\n"
      ],
      "text/plain": [
       "i:\u001b[1;36m1\u001b[0m\n"
      ]
     },
     "metadata": {},
     "output_type": "display_data"
    },
    {
     "data": {
      "text/html": [
       "<pre style=\"white-space:pre;overflow-x:auto;line-height:normal;font-family:Menlo,'DejaVu Sans Mono',consolas,'Courier New',monospace\">RerankResult<span style=\"font-weight: bold\">&lt;</span><span style=\"color: #ff00ff; text-decoration-color: #ff00ff; font-weight: bold\">document</span><span style=\"color: #000000; text-decoration-color: #000000; font-weight: bold\">[</span><span style=\"color: #008000; text-decoration-color: #008000\">'text'</span><span style=\"color: #000000; text-decoration-color: #000000; font-weight: bold\">]</span><span style=\"color: #000000; text-decoration-color: #000000\">: Sultan Kösen </span><span style=\"color: #000000; text-decoration-color: #000000; font-weight: bold\">(</span><span style=\"color: #000000; text-decoration-color: #000000\">born </span><span style=\"color: #008080; text-decoration-color: #008080; font-weight: bold\">10</span><span style=\"color: #000000; text-decoration-color: #000000\"> December </span><span style=\"color: #008080; text-decoration-color: #008080; font-weight: bold\">1982</span><span style=\"color: #000000; text-decoration-color: #000000; font-weight: bold\">)</span><span style=\"color: #000000; text-decoration-color: #000000\"> is a Turkish farmer who holds the Guinness </span>\n",
       "<span style=\"color: #000000; text-decoration-color: #000000\">World Record for tallest living male at . Of Kurdish ethnicity, he is the seventh tallest man in history., index: </span>\n",
       "<span style=\"color: #008080; text-decoration-color: #008080; font-weight: bold\">2</span><span style=\"color: #000000; text-decoration-color: #000000\">, relevance_score: </span><span style=\"color: #008080; text-decoration-color: #008080; font-weight: bold\">0.8664718</span><span style=\"font-weight: bold\">&gt;</span>\n",
       "</pre>\n"
      ],
      "text/plain": [
       "RerankResult\u001b[1m<\u001b[0m\u001b[1;95mdocument\u001b[0m\u001b[1;39m[\u001b[0m\u001b[32m'text'\u001b[0m\u001b[1;39m]\u001b[0m\u001b[39m: Sultan Kösen \u001b[0m\u001b[1;39m(\u001b[0m\u001b[39mborn \u001b[0m\u001b[1;36m10\u001b[0m\u001b[39m December \u001b[0m\u001b[1;36m1982\u001b[0m\u001b[1;39m)\u001b[0m\u001b[39m is a Turkish farmer who holds the Guinness \u001b[0m\n",
       "\u001b[39mWorld Record for tallest living male at . Of Kurdish ethnicity, he is the seventh tallest man in history., index: \u001b[0m\n",
       "\u001b[1;36m2\u001b[0m\u001b[39m, relevance_score: \u001b[0m\u001b[1;36m0.8664718\u001b[0m\u001b[1m>\u001b[0m\n"
      ]
     },
     "metadata": {},
     "output_type": "display_data"
    },
    {
     "data": {
      "text/html": [
       "<pre style=\"white-space:pre;overflow-x:auto;line-height:normal;font-family:Menlo,'DejaVu Sans Mono',consolas,'Courier New',monospace\">\n",
       "</pre>\n"
      ],
      "text/plain": [
       "\n"
      ]
     },
     "metadata": {},
     "output_type": "display_data"
    },
    {
     "data": {
      "text/html": [
       "<pre style=\"white-space:pre;overflow-x:auto;line-height:normal;font-family:Menlo,'DejaVu Sans Mono',consolas,'Courier New',monospace\">i:<span style=\"color: #008080; text-decoration-color: #008080; font-weight: bold\">2</span>\n",
       "</pre>\n"
      ],
      "text/plain": [
       "i:\u001b[1;36m2\u001b[0m\n"
      ]
     },
     "metadata": {},
     "output_type": "display_data"
    },
    {
     "data": {
      "text/html": [
       "<pre style=\"white-space:pre;overflow-x:auto;line-height:normal;font-family:Menlo,'DejaVu Sans Mono',consolas,'Courier New',monospace\">RerankResult<span style=\"font-weight: bold\">&lt;</span><span style=\"color: #ff00ff; text-decoration-color: #ff00ff; font-weight: bold\">document</span><span style=\"color: #000000; text-decoration-color: #000000; font-weight: bold\">[</span><span style=\"color: #008000; text-decoration-color: #008000\">'text'</span><span style=\"color: #000000; text-decoration-color: #000000; font-weight: bold\">]</span><span style=\"color: #000000; text-decoration-color: #000000\">: The Dutch are the tallest people in the world, by nationality, with an average </span>\n",
       "<span style=\"color: #000000; text-decoration-color: #000000\">height of for adult males and for adult females in </span><span style=\"color: #008080; text-decoration-color: #008080; font-weight: bold\">2009</span><span style=\"color: #000000; text-decoration-color: #000000\">. The average height of young males in the Netherlands </span>\n",
       "<span style=\"color: #000000; text-decoration-color: #000000\">increased from </span><span style=\"color: #008080; text-decoration-color: #008080; font-weight: bold\">5</span><span style=\"color: #000000; text-decoration-color: #000000\"> feet, </span><span style=\"color: #008080; text-decoration-color: #008080; font-weight: bold\">4</span><span style=\"color: #000000; text-decoration-color: #000000\"> inches to approximately </span><span style=\"color: #008080; text-decoration-color: #008080; font-weight: bold\">6</span><span style=\"color: #000000; text-decoration-color: #000000\"> feet between the 1850s until the early 2000s. People in the </span>\n",
       "<span style=\"color: #000000; text-decoration-color: #000000\">south are on average about shorter than those in the north., index: </span><span style=\"color: #008080; text-decoration-color: #008080; font-weight: bold\">4</span><span style=\"color: #000000; text-decoration-color: #000000\">, relevance_score: </span><span style=\"color: #008080; text-decoration-color: #008080; font-weight: bold\">0.80162543</span><span style=\"font-weight: bold\">&gt;</span>\n",
       "</pre>\n"
      ],
      "text/plain": [
       "RerankResult\u001b[1m<\u001b[0m\u001b[1;95mdocument\u001b[0m\u001b[1;39m[\u001b[0m\u001b[32m'text'\u001b[0m\u001b[1;39m]\u001b[0m\u001b[39m: The Dutch are the tallest people in the world, by nationality, with an average \u001b[0m\n",
       "\u001b[39mheight of for adult males and for adult females in \u001b[0m\u001b[1;36m2009\u001b[0m\u001b[39m. The average height of young males in the Netherlands \u001b[0m\n",
       "\u001b[39mincreased from \u001b[0m\u001b[1;36m5\u001b[0m\u001b[39m feet, \u001b[0m\u001b[1;36m4\u001b[0m\u001b[39m inches to approximately \u001b[0m\u001b[1;36m6\u001b[0m\u001b[39m feet between the 1850s until the early 2000s. People in the \u001b[0m\n",
       "\u001b[39msouth are on average about shorter than those in the north., index: \u001b[0m\u001b[1;36m4\u001b[0m\u001b[39m, relevance_score: \u001b[0m\u001b[1;36m0.80162543\u001b[0m\u001b[1m>\u001b[0m\n"
      ]
     },
     "metadata": {},
     "output_type": "display_data"
    },
    {
     "data": {
      "text/html": [
       "<pre style=\"white-space:pre;overflow-x:auto;line-height:normal;font-family:Menlo,'DejaVu Sans Mono',consolas,'Courier New',monospace\">\n",
       "</pre>\n"
      ],
      "text/plain": [
       "\n"
      ]
     },
     "metadata": {},
     "output_type": "display_data"
    },
    {
     "data": {
      "text/html": [
       "<pre style=\"white-space:pre;overflow-x:auto;line-height:normal;font-family:Menlo,'DejaVu Sans Mono',consolas,'Courier New',monospace\">i:<span style=\"color: #008080; text-decoration-color: #008080; font-weight: bold\">3</span>\n",
       "</pre>\n"
      ],
      "text/plain": [
       "i:\u001b[1;36m3\u001b[0m\n"
      ]
     },
     "metadata": {},
     "output_type": "display_data"
    },
    {
     "data": {
      "text/html": [
       "<pre style=\"white-space:pre;overflow-x:auto;line-height:normal;font-family:Menlo,'DejaVu Sans Mono',consolas,'Courier New',monospace\">RerankResult<span style=\"font-weight: bold\">&lt;</span><span style=\"color: #ff00ff; text-decoration-color: #ff00ff; font-weight: bold\">document</span><span style=\"color: #000000; text-decoration-color: #000000; font-weight: bold\">[</span><span style=\"color: #008000; text-decoration-color: #008000\">'text'</span><span style=\"color: #000000; text-decoration-color: #000000; font-weight: bold\">]</span><span style=\"color: #000000; text-decoration-color: #000000\">: Kösen turned </span><span style=\"color: #008080; text-decoration-color: #008080; font-weight: bold\">40</span><span style=\"color: #000000; text-decoration-color: #000000\"> years old on </span><span style=\"color: #008080; text-decoration-color: #008080; font-weight: bold\">10</span><span style=\"color: #000000; text-decoration-color: #000000\"> December </span><span style=\"color: #008080; text-decoration-color: #008080; font-weight: bold\">2022</span><span style=\"color: #000000; text-decoration-color: #000000\">. He celebrated his birthday a few days</span>\n",
       "<span style=\"color: #000000; text-decoration-color: #000000\">early by visiting the Ripley's Believe It or Not! museum in Orlando, Florida, USA and posing next to a life-sized </span>\n",
       "<span style=\"color: #000000; text-decoration-color: #000000\">statue of Robert Wadlow, the tallest man ever at </span><span style=\"color: #008080; text-decoration-color: #008080; font-weight: bold\">272</span><span style=\"color: #000000; text-decoration-color: #000000\"> cm </span><span style=\"color: #000000; text-decoration-color: #000000; font-weight: bold\">(</span><span style=\"color: #008080; text-decoration-color: #008080; font-weight: bold\">8</span><span style=\"color: #000000; text-decoration-color: #000000\"> ft </span><span style=\"color: #008080; text-decoration-color: #008080; font-weight: bold\">11.1</span><span style=\"color: #000000; text-decoration-color: #000000\"> in</span><span style=\"color: #000000; text-decoration-color: #000000; font-weight: bold\">)</span><span style=\"color: #000000; text-decoration-color: #000000\">., index: </span><span style=\"color: #008080; text-decoration-color: #008080; font-weight: bold\">3</span><span style=\"color: #000000; text-decoration-color: #000000\">, relevance_score: </span><span style=\"color: #008080; text-decoration-color: #008080; font-weight: bold\">0.6874202</span><span style=\"font-weight: bold\">&gt;</span>\n",
       "</pre>\n"
      ],
      "text/plain": [
       "RerankResult\u001b[1m<\u001b[0m\u001b[1;95mdocument\u001b[0m\u001b[1;39m[\u001b[0m\u001b[32m'text'\u001b[0m\u001b[1;39m]\u001b[0m\u001b[39m: Kösen turned \u001b[0m\u001b[1;36m40\u001b[0m\u001b[39m years old on \u001b[0m\u001b[1;36m10\u001b[0m\u001b[39m December \u001b[0m\u001b[1;36m2022\u001b[0m\u001b[39m. He celebrated his birthday a few days\u001b[0m\n",
       "\u001b[39mearly by visiting the Ripley's Believe It or Not! museum in Orlando, Florida, USA and posing next to a life-sized \u001b[0m\n",
       "\u001b[39mstatue of Robert Wadlow, the tallest man ever at \u001b[0m\u001b[1;36m272\u001b[0m\u001b[39m cm \u001b[0m\u001b[1;39m(\u001b[0m\u001b[1;36m8\u001b[0m\u001b[39m ft \u001b[0m\u001b[1;36m11.1\u001b[0m\u001b[39m in\u001b[0m\u001b[1;39m)\u001b[0m\u001b[39m., index: \u001b[0m\u001b[1;36m3\u001b[0m\u001b[39m, relevance_score: \u001b[0m\u001b[1;36m0.6874202\u001b[0m\u001b[1m>\u001b[0m\n"
      ]
     },
     "metadata": {},
     "output_type": "display_data"
    },
    {
     "data": {
      "text/html": [
       "<pre style=\"white-space:pre;overflow-x:auto;line-height:normal;font-family:Menlo,'DejaVu Sans Mono',consolas,'Courier New',monospace\">\n",
       "</pre>\n"
      ],
      "text/plain": [
       "\n"
      ]
     },
     "metadata": {},
     "output_type": "display_data"
    },
    {
     "data": {
      "text/html": [
       "<pre style=\"white-space:pre;overflow-x:auto;line-height:normal;font-family:Menlo,'DejaVu Sans Mono',consolas,'Courier New',monospace\">i:<span style=\"color: #008080; text-decoration-color: #008080; font-weight: bold\">4</span>\n",
       "</pre>\n"
      ],
      "text/plain": [
       "i:\u001b[1;36m4\u001b[0m\n"
      ]
     },
     "metadata": {},
     "output_type": "display_data"
    },
    {
     "data": {
      "text/html": [
       "<pre style=\"white-space:pre;overflow-x:auto;line-height:normal;font-family:Menlo,'DejaVu Sans Mono',consolas,'Courier New',monospace\">RerankResult<span style=\"font-weight: bold\">&lt;</span><span style=\"color: #ff00ff; text-decoration-color: #ff00ff; font-weight: bold\">document</span><span style=\"color: #000000; text-decoration-color: #000000; font-weight: bold\">[</span><span style=\"color: #008000; text-decoration-color: #008000\">'text'</span><span style=\"color: #000000; text-decoration-color: #000000; font-weight: bold\">]</span><span style=\"color: #000000; text-decoration-color: #000000\">: Bol came from a family of extraordinarily tall men and women. He said: </span><span style=\"color: #008000; text-decoration-color: #008000\">\"My mother </span>\n",
       "<span style=\"color: #008000; text-decoration-color: #008000\">was , my father , and my sister is . And my great-grandfather was even taller—.\"</span><span style=\"color: #000000; text-decoration-color: #000000\"> His ethnic group, the Dinka, and </span>\n",
       "<span style=\"color: #000000; text-decoration-color: #000000\">the Nilotic people of which they are a part, are among the tallest populations in the world. Bol's hometown, </span>\n",
       "<span style=\"color: #000000; text-decoration-color: #000000\">Turalei, is the origin of other exceptionally tall people, including basketball player Ring Ayuel. </span><span style=\"color: #008000; text-decoration-color: #008000\">\"I was born in a</span>\n",
       "<span style=\"color: #008000; text-decoration-color: #008000\">village, where you cannot measure yourself,\"</span><span style=\"color: #000000; text-decoration-color: #000000\"> Bol reflected. </span><span style=\"color: #008000; text-decoration-color: #008000\">\"I learned I was 7 foot 7 in 1979, when I was grown. I </span>\n",
       "<span style=\"color: #008000; text-decoration-color: #008000\">was about 18 or 19.\"</span><span style=\"color: #000000; text-decoration-color: #000000\">, index: </span><span style=\"color: #008080; text-decoration-color: #008080; font-weight: bold\">1</span><span style=\"color: #000000; text-decoration-color: #000000\">, relevance_score: </span><span style=\"color: #008080; text-decoration-color: #008080; font-weight: bold\">0.6396235</span><span style=\"font-weight: bold\">&gt;</span>\n",
       "</pre>\n"
      ],
      "text/plain": [
       "RerankResult\u001b[1m<\u001b[0m\u001b[1;95mdocument\u001b[0m\u001b[1;39m[\u001b[0m\u001b[32m'text'\u001b[0m\u001b[1;39m]\u001b[0m\u001b[39m: Bol came from a family of extraordinarily tall men and women. He said: \u001b[0m\u001b[32m\"My mother \u001b[0m\n",
       "\u001b[32mwas , my father , and my sister is . And my great-grandfather was even taller—.\"\u001b[0m\u001b[39m His ethnic group, the Dinka, and \u001b[0m\n",
       "\u001b[39mthe Nilotic people of which they are a part, are among the tallest populations in the world. Bol's hometown, \u001b[0m\n",
       "\u001b[39mTuralei, is the origin of other exceptionally tall people, including basketball player Ring Ayuel. \u001b[0m\u001b[32m\"I was born in a\u001b[0m\n",
       "\u001b[32mvillage, where you cannot measure yourself,\"\u001b[0m\u001b[39m Bol reflected. \u001b[0m\u001b[32m\"I learned I was 7 foot 7 in 1979, when I was grown. I \u001b[0m\n",
       "\u001b[32mwas about 18 or 19.\"\u001b[0m\u001b[39m, index: \u001b[0m\u001b[1;36m1\u001b[0m\u001b[39m, relevance_score: \u001b[0m\u001b[1;36m0.6396235\u001b[0m\u001b[1m>\u001b[0m\n"
      ]
     },
     "metadata": {},
     "output_type": "display_data"
    },
    {
     "data": {
      "text/html": [
       "<pre style=\"white-space:pre;overflow-x:auto;line-height:normal;font-family:Menlo,'DejaVu Sans Mono',consolas,'Courier New',monospace\">\n",
       "</pre>\n"
      ],
      "text/plain": [
       "\n"
      ]
     },
     "metadata": {},
     "output_type": "display_data"
    }
   ],
   "source": [
    "texts = [result.get('text') for result in results]\n",
    "reranked_text = rerank_responses(query_2, texts)\n",
    "for i, rerank_result in enumerate(reranked_text):\n",
    "    print(f\"i:{i}\")\n",
    "    print(f\"{rerank_result}\")\n",
    "    print()\n"
   ]
  }
 ],
 "metadata": {
  "kernelspec": {
   "display_name": "Python 3",
   "language": "python",
   "name": "python3"
  },
  "language_info": {
   "codemirror_mode": {
    "name": "ipython",
    "version": 3
   },
   "file_extension": ".py",
   "mimetype": "text/x-python",
   "name": "python",
   "nbconvert_exporter": "python",
   "pygments_lexer": "ipython3",
   "version": "3.10.10"
  }
 },
 "nbformat": 4,
 "nbformat_minor": 2
}
